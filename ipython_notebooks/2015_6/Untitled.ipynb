{
 "cells": [
  {
   "cell_type": "code",
   "execution_count": null,
   "metadata": {
    "collapsed": true
   },
   "outputs": [],
   "source": [
    "ind_t_params = []\n",
    "for i in xrange(100):\n",
    "    # Defines the parameters for the populations\n",
    "    mu1 = np.random.randint(0, 20)\n",
    "    mu2 = np.random.randint(0, 20)\n",
    "    sigma1 = np.random.randint(5, 30)\n",
    "    sigma2 = np.random.randint(5, 30)\n",
    "    base_num = np.random(25, 250)\n",
    "    \n",
    "    # Draws the samples\n",
    "    sample1 = np.random.randn(base_num) * sigma1 + mu1\n",
    "    sample2 = np.random.randn(base_num) * sigma2 + mu2\n",
    "    \n",
    "    # Summarizes the samples\n",
    "    ind_t_params.append({'mu1': mu1,\n",
    "                        'mean_1': sample1.mean(),\n",
    "                        'mu2': mu2,\n",
    "                        'mean2': sample2.mean(),\n",
    "                        'sigma1': sigma1,\n",
    "                        'std1': sample1.std(),\n",
    "                        'sigma2': sigma2,\n",
    "                        'std2': sample2.std(),\n",
    "                        'base_num': base_num,\n",
    "                        'sample1': sample1,\n",
    "                        'sample2': sample2,\n",
    "                        'test_p': t_test([sample1, sample2])\n",
    "                        })"
   ]
  },
  {
   "cell_type": "markdown",
   "metadata": {},
   "source": [
    "**Author**: J W Debelius<br/>\n",
    "**Date**: 22 June 2015<br/>\n",
    "**virtualenv**: power play"
   ]
  },
  {
   "cell_type": "code",
   "execution_count": 1,
   "metadata": {
    "collapsed": false
   },
   "outputs": [
    {
     "data": {
      "application/javascript": [
       "IPython.load_extensions('calico-spell-check', 'calico-document-tools')"
      ],
      "text/plain": [
       "<IPython.core.display.Javascript object>"
      ]
     },
     "metadata": {},
     "output_type": "display_data"
    }
   ],
   "source": [
    "%%javascript\n",
    "IPython.load_extensions('calico-spell-check', 'calico-document-tools')"
   ]
  },
  {
   "cell_type": "markdown",
   "metadata": {},
   "source": [
    "<a id=\"#top\"></a>\n",
    "#Table of Contents\n",
    "* [1. Introduction](#1.-Introduction)\n",
    "* [2. Case I t test](#2.-Case-I-t-test)\n",
    "* [3. Case II T test](#3.-Case-II-T-test)\n"
   ]
  },
  {
   "cell_type": "markdown",
   "metadata": {},
   "source": [
    "# 1. Introduction"
   ]
  },
  {
   "cell_type": "markdown",
   "metadata": {},
   "source": [
    "..."
   ]
  },
  {
   "cell_type": "code",
   "execution_count": 1,
   "metadata": {
    "collapsed": false
   },
   "outputs": [],
   "source": [
    "from __future__ import division\n",
    "\n",
    "import numpy as np\n",
    "import skbio\n",
    "import scipy.stats\n",
    "import matplotlib.pyplot as plt\n",
    "\n",
    "from skbio.stats.power import subsample_power\n",
    "from statsmodels.stats.power import FTestAnovaPower, TTestIndPower\n",
    "\n",
    "ft = FTestAnovaPower()\n",
    "tt = TTestIndPower()\n",
    "\n",
    "% matplotlib inline"
   ]
  },
  {
   "cell_type": "code",
   "execution_count": 2,
   "metadata": {
    "collapsed": true
   },
   "outputs": [],
   "source": [
    "def vital_stats(dist):\n",
    "    \"\"\"Returns a distribution summary\"\"\"\n",
    "    return dist.mean(), dist.std(), len(dist)"
   ]
  },
  {
   "cell_type": "markdown",
   "metadata": {},
   "source": [
    "<a href=\"#top\">Return to the top</a>"
   ]
  },
  {
   "cell_type": "markdown",
   "metadata": {},
   "source": [
    "# T tests\n",
    "\n",
    "... discussion of the test and distribution...\n",
    "\n",
    "## One Sample T test (Case I)\n",
    "...describes the test...\n",
    "Lets you compare a value against a sample or population...\n",
    "\n",
    "The test statistic for a case I t test is given as\n",
    "\n",
    "$t = \\frac{(\\bar{x} - x)\\sqrt{n}}{s} \\tag{1.1}$\n",
    "\n",
    "where $\\bar{x}$ is the mean of the population, $x$ is the value being compared to the sample, $s$ is the standard devation of the sample, and $n$ is the size of the sample, and the test statistic, t, is drawn from the T distribution with $(n-1)$ degrees of freedom. The scipy function `scipy.stats.ttest_1samp` can perform the one sample t test.\n",
    "\n",
    "Practially, we'll test the hypothesis that our distribution is centered around 0. When we simulate the distribtions, we will set the means between 1 and 15, to prevent this from happening."
   ]
  },
  {
   "cell_type": "code",
   "execution_count": 3,
   "metadata": {
    "collapsed": true
   },
   "outputs": [],
   "source": [
    "def t_test1(x):\n",
    "    return scipy.stats.ttest_1samp(x)[1]"
   ]
  },
  {
   "cell_type": "markdown",
   "metadata": {},
   "source": [
    "For  the case I t-tests, the effect size is given as\n",
    "$\\lambda = \\frac{(\\bar{x} - x)}{s} \\tag{1.2}$\n",
    "\n",
    "which allows us to translate power as \n",
    "\n",
    "$\\begin{align*}\n",
    "1-\\beta &= \\Phi_{T} \\left(-T(1-\\alpha/2, n-1) + \\lambda\\sqrt{n}, n-1 \\right )\\\\\n",
    "&= \\Phi_{T} \\left(-T(1-\\alpha/2, n-1), \\left(\\frac{\\bar{x} - x}{s}\\right)\\sqrt{n}, n - 1 \\right )\n",
    "\\end{align*} \\tag{1.3}$"
   ]
  },
  {
   "cell_type": "code",
   "execution_count": 4,
   "metadata": {
    "collapsed": true
   },
   "outputs": [],
   "source": [
    "def trad_t_power1(counts, dist, x, alpha=0.05):\n",
    "    \"\"\"...\"\"\"\n",
    "    # Summarizes the distribution\n",
    "    [x1, s1, n1] = vital_stats(dist)\n",
    "    \n",
    "    # Calculates the effect size\n",
    "    eff = np.absloute(x1 - x)/s\n",
    "    \n",
    "    # Calculates the power\n",
    "    pwr = np.array([scipy.stats.t.cdf(-scipy.stats.t.ppf(1-alpha/2, c-1) + eff, c-1) for c in counts])\n",
    "    \n",
    "    return pwr"
   ]
  },
  {
   "cell_type": "markdown",
   "metadata": {},
   "source": [
    "## Independent Sample Distributions (Case II)"
   ]
  },
  {
   "cell_type": "markdown",
   "metadata": {},
   "source": [
    "...Some happy discussion of the test and distribution..."
   ]
  },
  {
   "cell_type": "markdown",
   "metadata": {},
   "source": [
    "The test statistic for a case II t test, is given as\n",
    "\n",
    "$t = \\frac{\\bar{x}_{1} - \\bar{x}_{2}}{\\sqrt{\\frac{s_{1}^{2}}{n_{1}} + \\frac{s_{2}^{2}}{n_{2}}}}\\tag{2.1}$\n",
    "\n",
    "The t statistic follows a T distribution with $df$ degrees of freedom, where $df$ is given as\n",
    "$df = \\frac{(s_{1}^{2}/n_{1} + s_{2}^{2}/n_{2})^{2}}{(s_{1}^{2}/n_{1})^2/(n_{1}-1) + s_{2}^{2}/n_{2})^2/(n_{2}-1)} \\tag{2.2}$\n",
    "\n",
    "Scipy has a built in function, `scipy.stats.ttest_ind`, to perform this test."
   ]
  },
  {
   "cell_type": "code",
   "execution_count": 5,
   "metadata": {
    "collapsed": true
   },
   "outputs": [],
   "source": [
    "def t_test2(x):\n",
    "    \"\"\"...\"\"\"\n",
    "    return scipy.stats.ttest_ind(*x)[1]"
   ]
  },
  {
   "cell_type": "markdown",
   "metadata": {},
   "source": [
    "For the sake of simplicity, we'll assume that $n_{1} = n_{2}$, which allows us to redefine equation (2.1) as\n",
    "$t = \\frac{\\sqrt{n}(\\bar{x}_{1} - \\bar{x}_{2})}{s_{1}^{2} + s_{2}^{2}} \\tag{2.3}$\n",
    "which means the test statitic is now drawn from a t distribution with df degrees of freedom, where\n",
    "df is defined as\n",
    "$df = \\left (n-1 \\right ) \\left (\\frac{\\left (s_{1}^{2} + s_{2}^{2}  \\right )^{2}}{\\left (s_{1}^{2} \\right)^{2} + \\left (s_{2}^{2}  \\right )^{2}} \\right ) \\tag{2.4}$"
   ]
  },
  {
   "cell_type": "code",
   "execution_count": 6,
   "metadata": {
    "collapsed": false
   },
   "outputs": [],
   "source": [
    "def get_t_df(n, s1, s2):\n",
    "    \"\"\"doc string!\"\"\"\n",
    "    modifier = (np.square(np.square(s1) + np.square(s2)) / (np.power(s1, 4) + np.power(s2, 4)))\n",
    "    return (n-1)*modifier"
   ]
  },
  {
   "cell_type": "markdown",
   "metadata": {},
   "source": [
    "The effect size for this test is given as\n",
    "$\\begin{align*}\n",
    "\\lambda &= \\frac{t}{\\sqrt{n}}\\\\\n",
    "&=\\frac{(\\bar{x}_{1} - \\bar{x}_{2})}{s_{1}^{2} + s_{2}^{2}}\n",
    "\\end{align*} \\tag{2.5}$"
   ]
  },
  {
   "cell_type": "markdown",
   "metadata": {},
   "source": [
    "Based on earlier theory... power is defined as\n",
    "$\\begin{align*} \n",
    "1 - \\beta &= \\Phi_{T} \\left(-T(1-\\alpha/2, df) + \\lambda, df \\right )\\\\\n",
    "&= \\Phi_{T} \\left(-T(1-\\alpha/2, df) + \\frac{(\\bar{x}_{1} - \\bar{x}_{2})}{s_{1}^{2} + s_{2}^{2}}, df \\right )\n",
    "\\end{align*} \\tag{2.6}$"
   ]
  },
  {
   "cell_type": "code",
   "execution_count": 19,
   "metadata": {
    "collapsed": true
   },
   "outputs": [],
   "source": [
    "def trad_t_power2(counts, dist1, dist2, alpha=0.05):\n",
    "    \"\"\"...\"\"\"\n",
    "    # Gets the effect size\n",
    "    eff = effect_t_test2(dist1, dist2)\n",
    "    \n",
    "    # Calculates the modifier\n",
    "    mod = (np.square(np.square(s1) + np.square(s2)) / (np.power(s1, 4) + np.power(s2, 4)))\n",
    "    \n",
    "    # Calculates the power\n",
    "    pwr = np.array([stats.t.cdf(-stats.t.ppf(1-alpha/2, mod*(c - 1)) + np.sqrt(c)*eff, mod*(c-1)) for c in counts])\n",
    "    \n",
    "    return pwr"
   ]
  },
  {
   "cell_type": "markdown",
   "metadata": {},
   "source": [
    "<a href=\"#top\">Return to the top</a>\n",
    "# Pearson's r\n",
    "...discussion of the correlation coeffecient...\n",
    "\n",
    "The Pearson correlation co-effecient can be tested using a t static:\n",
    "$T = \\frac{r_{xy}\\sqrt{n-2}}{\\sqrt{1-r_{xy}^{2}}} \\tag{3.1}$\n",
    "where T follows a t distribution with n-2 degrees of freedom. Scipy's `scipy.stats.pearsonr` can calculate the correlation coeffecient *and* a p value for the coeffecient. However, the notes suggest that the p value may not be accurate for smaller sample sizes, so we're going to try an initial test, and compare the dervived p-value, based on [1] with the scipy p-value."
   ]
  },
  {
   "cell_type": "code",
   "execution_count": null,
   "metadata": {
    "collapsed": true
   },
   "outputs": [],
   "source": [
    "def test_pearson(dists):\n",
    "    return scipy.stats.pearsonr(*dists)[1]"
   ]
  },
  {
   "cell_type": "markdown",
   "metadata": {},
   "source": [
    "The effect size for this distribution is then given as\n",
    "$\\lambda = \\frac{r_{xy}\\sqrt{n}}{\\sqrt{1 - r_{xy^2}}} \\tag{3.2}$\n",
    "which means that when we solve for power, we can start by defining power as\n",
    "$1 - \\beta = 1 - P\\left (T(\\lambda, n-2) < t(1-\\alpha/2, n-2) \\right) \\tag{3.3}$"
   ]
  },
  {
   "cell_type": "code",
   "execution_count": 12,
   "metadata": {
    "collapsed": false
   },
   "outputs": [
    {
     "name": "stdout",
     "output_type": "stream",
     "text": [
      "0.965112818738 6.21359356276e-06\n"
     ]
    }
   ],
   "source": [
    "x = np.random.randint(0, 25, 10)\n",
    "y = 3*x + 5 + 10*np.random.randn(10)\n",
    "r, p = scipy.stats.pearsonr(x, y)\n",
    "print r, p"
   ]
  },
  {
   "cell_type": "code",
   "execution_count": 14,
   "metadata": {
    "collapsed": false
   },
   "outputs": [
    {
     "data": {
      "text/plain": [
       "3.6859666276681282"
      ]
     },
     "execution_count": 14,
     "metadata": {},
     "output_type": "execute_result"
    }
   ],
   "source": [
    "eff = r/np.sqrt(1-np.square(r))\n",
    "eff"
   ]
  },
  {
   "cell_type": "code",
   "execution_count": 18,
   "metadata": {
    "collapsed": false
   },
   "outputs": [
    {
     "name": "stdout",
     "output_type": "stream",
     "text": [
      "0.000657477139229\n",
      "3.18244630528\n"
     ]
    }
   ],
   "source": [
    "print scipy.stats.t.pdf(eff*np.sqrt(5), 3)\n",
    "print scipy.stats.t.ppf(0.975, 3)"
   ]
  },
  {
   "cell_type": "code",
   "execution_count": null,
   "metadata": {
    "collapsed": true
   },
   "outputs": [],
   "source": [
    "def trad_pearson_power(counts, dist1, dist2, alpha):\n",
    "    \"\"\"...\"\"\"\n",
    "    r, _ = scipy.stats.pearsonr(dist1, dist2)\n",
    "    eff = r/np.sqrt(1-np.square(r))\n",
    "    pwr = np.array([scipy.stats.norm(float(scipy.stats.t.pdf(eff*np.sqrt(c), c-2)) < \n",
    "                                     0,1)])"
   ]
  },
  {
   "cell_type": "code",
   "execution_count": null,
   "metadata": {
    "collapsed": true
   },
   "outputs": [],
   "source": [
    "def trad_t_power2(counts, dist1, dist2, alpha=0.05):\n",
    "    \"\"\"...\"\"\"\n",
    "    # Summarizes the distributions\n",
    "    [x1, s1, n1] = vital_stats(dist1)\n",
    "    [x2, s2, n2] = vital_stats(dist2)\n",
    "    \n",
    "    # Calculates the effect size\n",
    "    eff = np.absolute(x1 - x2)/np.sqrt(np.square(s1) + np.square(s2))\n",
    "    \n",
    "    # Calculates the modifier\n",
    "    mod = (np.square(np.square(s1) + np.square(s2)) / (np.power(s1, 4) + np.power(s2, 4)))\n",
    "    \n",
    "    # Calculates the power\n",
    "    pwr = np.array([stats.t.cdf(-stats.t.ppf(1-alpha/2, mod*(c - 1)) + np.sqrt(c)*eff, mod*(c-1)) for c in counts])\n",
    "    \n",
    "    return pwr"
   ]
  },
  {
   "cell_type": "markdown",
   "metadata": {},
   "source": [
    "<a href=\"#top\">Return to the top</a>\n",
    "\n",
    "# Analysis of Variance\n",
    "..."
   ]
  },
  {
   "cell_type": "markdown",
   "metadata": {},
   "source": [
    "The total sum of squares is given by\n",
    "\n",
    "$SST = \\sum_{j=1}^{J}\\sum_{i=1}^{n_{j}}{\\left (\\bar{x}_{i,j} - \\bar{x}_{..} \\right )^{2}}$\n",
    "\n",
    "$SSR = \\sum_{j=1}^{J}\\sum_{i=1}^{n_{j}}{\\left (\\bar{x}_{.j} - \\bar{x}_{..} \\right )^{2}}$\n",
    "\n",
    "$SSE = \\sum_{j=1}^{J}\\sum_{i=1}^{n_{j}}{\\left (\\bar{x}_{i,j} - \\bar{x}_{.j} \\right )^{2}}$\n",
    "\n",
    "where\n",
    "\n",
    "$\\bar{x}_{.j} = \\frac{1}{n_{j}}\\sum_{i=1}^{n_j}{x_{i,j}}$\n",
    "\n",
    "and\n",
    "\n",
    "$\\bar{x}_{..} = \\frac{1}{J}\\sum_{j=1}^{J}\\left({\\frac{1}{n_{j}}\\sum_{i=1}^{n_j}{x_{i,j}}}\\right)$\n",
    "\n",
    "The test statistic, F, is then given by\n"
   ]
  },
  {
   "cell_type": "code",
   "execution_count": 63,
   "metadata": {
    "collapsed": true
   },
   "outputs": [],
   "source": [
    "\n",
    "def anova(x):\n",
    "    return (f_oneway(*x))[1]"
   ]
  },
  {
   "cell_type": "markdown",
   "metadata": {},
   "source": [
    "In an anova, the effect size for the jth group is given by \n",
    "$\\lambda_{j} = \\frac{\\bar{x}_{j} - \\bar{x}}{s\\sqrt{n_{j}}} \\tag{3.2}$\n",
    "And, the overall effect size is\n",
    "$\\begin{align*}\n",
    "\\lambda &= \\sum_{j=1}^{J}{\\lambda_{j}^{2}}\\\\\n",
    "&= \\sum_{j=1}^{J}{\\left (\\frac{\\sqrt{n_{j}}(\\bar{x}_{j} - \\bar{x})}{s} \\right )^2}\\\\\n",
    "&= \\sum_{j=1}^{J}{\\frac{n_{j}}{s^{2}}\\left (\\bar{x}_{j} - \\bar{x} \\right )}\n",
    "\\end{align*} \\tag{3.3}$\n",
    "\n",
    "Power is then defined in terms of the F distribution. So,\n",
    "$1-\\beta = P[F'(\\lambda, J-1, N-J) \\geq F(1-\\alpha/2, J-1, N-J)] \\tag{3.4}$\n",
    "where $F'$ is the non-centrality F parameter. This can be re-written as\n",
    "$\\begin{align*}\n",
    "1-\\beta &= \\Phi_{F} \\left( -F(1-\\alpha/2, J - 1, N-J) + \\lambda, J -1, N-J \\right)\\\\\n",
    "&= \\Phi_{F} \\left(-F(1-\\alpha/2, J-1, N-J) + \\sum_{j=1}^{J}{\\frac{(\\bar{x}_{j} - \\bar{x})^{2}}{s^{2}\\sqrt{n_{j}}}}, J-1, N-J \\right )\n",
    "\\end{align*} \\tag{3.5}$"
   ]
  },
  {
   "cell_type": "code",
   "execution_count": null,
   "metadata": {
    "collapsed": true
   },
   "outputs": [],
   "source": [
    "def trad_anova_power(*dists, alpha=0.05):\n",
    "    \"\"\"...\"\"\"\n",
    "    # Summarizes the distributions\n",
    "    vitals = [(x, s, n) = vitals_stats(dist) for dist in dists]\n",
    "    x2, ss, ns = zip(*vitals)\n",
    "    \n",
    "    # Calculates the grand mean\n",
    "    grand_mean = "
   ]
  },
  {
   "cell_type": "markdown",
   "metadata": {},
   "source": [
    " \n",
    "\n",
    "def trad_t_power2(counts, dist1, dist2, alpha=0.05):\n",
    "    \"\"\"...\"\"\"\n",
    "    # Summarizes the distributions\n",
    "    [x1, s1, n1] = vital_stats(dist1)\n",
    "    [x2, s2, n2] = vital_stats(dist2)\n",
    "    \n",
    "    # Calculates the effect size\n",
    "    eff = np.absolute(x1 - x2)/np.sqrt(np.square(s1) + np.square(s2))\n",
    "    \n",
    "    # Calculates the modifier\n",
    "    mod = (np.square(np.square(s1) + np.square(s2)) / (np.power(s1, 4) + np.power(s2, 4)))\n",
    "    \n",
    "    # Calculates the power\n",
    "    pwr = np.array([stats.t.cdf(-stats.t.ppf(1-alpha/2, mod*(c - 1)) + np.sqrt(c)*eff, mod*(c-1)) for c in counts])\n",
    "    \n",
    "    return pwr"
   ]
  }
 ],
 "metadata": {
  "kernelspec": {
   "display_name": "Python 2",
   "language": "python",
   "name": "python2"
  },
  "language_info": {
   "codemirror_mode": {
    "name": "ipython",
    "version": 2
   },
   "file_extension": ".py",
   "mimetype": "text/x-python",
   "name": "python",
   "nbconvert_exporter": "python",
   "pygments_lexer": "ipython2",
   "version": "2.7.3"
  }
 },
 "nbformat": 4,
 "nbformat_minor": 0
}
