{
 "cells": [
  {
   "cell_type": "markdown",
   "metadata": {},
   "source": [
    "**Author**: J W Debelius<br/>\n",
    "**Date**: 6 March 2015<br/>\n",
    "**Scikit-bio version**: 0.2.2<br/>\n",
    "**virtualenv**: Playground"
   ]
  },
  {
   "cell_type": "code",
   "execution_count": 2,
   "metadata": {
    "collapsed": false
   },
   "outputs": [
    {
     "data": {
      "application/javascript": [
       "IPython.load_extensions('calico-spell-check', 'calico-document-tools')"
      ],
      "text/plain": [
       "<IPython.core.display.Javascript object>"
      ]
     },
     "metadata": {},
     "output_type": "display_data"
    }
   ],
   "source": [
    "%%javascript\n",
    "IPython.load_extensions('calico-spell-check', 'calico-document-tools')"
   ]
  },
  {
   "cell_type": "markdown",
   "metadata": {},
   "source": [
    "I'm going to play with multiprocessing today. I got the multiprocessing to work in an IPython notebook last week, but I couldn't pass the tests in the browser. So, I'm going to try an alternative. I'd like to work through the multiprocessing examples. (BTW, its unlikely this notebook will serve as anything for anyone else).\n",
    "\n",
    "Also, I wanted to test the spell-check functionality. Because I clearly need it. It seems to work okay. The little red lines are sort of obnoxious while I'm typing, but it's definitely awesome, and you can still look up the correct spellings on Google.\n",
    "\n",
    "So, I think for my code, I need to use the `Pool` class from the **`multiprocessing`** module.\n",
    "This example comes from the [Python documentation](https://docs.python.org/2/library/multiprocessing.html#using-a-pool-of-workers)."
   ]
  },
  {
   "cell_type": "code",
   "execution_count": 4,
   "metadata": {
    "collapsed": false
   },
   "outputs": [
    {
     "name": "stdout",
     "output_type": "stream",
     "text": [
      "100\n",
      "[0, 1, 4, 9, 16, 25, 36, 49, 64, 81]\n"
     ]
    }
   ],
   "source": [
    "from multiprocessing import Pool\n",
    "\n",
    "def f(x):\n",
    "    return x*x\n",
    "\n",
    "pool = Pool(processes=1)\n",
    "result = pool.apply_async(f, [10])\n",
    "print result.get(timeout=1)\n",
    "print pool.map(f, range(10))"
   ]
  },
  {
   "cell_type": "code",
   "execution_count": 5,
   "metadata": {
    "collapsed": false
   },
   "outputs": [
    {
     "data": {
      "text/plain": [
       "[1, 4, 9]"
      ]
     },
     "execution_count": 5,
     "metadata": {},
     "output_type": "execute_result"
    }
   ],
   "source": [
    "p = Pool(5)\n",
    "\n",
    "p.map(f, [1, 2, 3])"
   ]
  },
  {
   "cell_type": "markdown",
   "metadata": {},
   "source": [
    "Before, on [27 Feb 2015](../2015_2/20150227_power_update.ipynb), I could run the code in an IPython notebook where I defined the pool function in the notebook, as well as the code in the notebook. When I try to run my test code, I get the following error message:\n",
    "\n",
    "```Macintosh:stats$ python tests/test_power.py\n",
    "......Exception in thread Thread-2:\n",
    "Traceback (most recent call last):\n",
    "  File \"/Library/Frameworks/Python.framework/Versions/2.7/lib/python2.7/threading.py\", line 551, in __bootstrap_inner\n",
    "    self.run()\n",
    "  File \"/Library/Frameworks/Python.framework/Versions/2.7/lib/python2.7/threading.py\", line 504, in run\n",
    "    self.__target(*self.__args, **self.__kwargs)\n",
    "  File \"/Library/Frameworks/Python.framework/Versions/2.7/lib/python2.7/multiprocessing/pool.py\", line 319, in _handle_tasks\n",
    "    put(task)\n",
    "PicklingError: Can't pickle <type 'function'>: attribute lookup __builtin__.function failed```\n",
    "\n",
    "Which suggests there's an issue with importanting and pickling the function. I'm going to try the same thing here, and see if I can define a function in-line here, and then import the skbio functions.\n",
    "\n",
    "To do that, I'm going to restart this notebook in **skbio-dev**."
   ]
  },
  {
   "cell_type": "markdown",
   "metadata": {
    "collapsed": true
   },
   "source": [
    "---------\n",
    "Okay, so now we're running skbio-dev instead of playground. I'm going to use subsample power because profiling is easier that way. I'm going to start with a simple example, two random normal distributions."
   ]
  },
  {
   "cell_type": "code",
   "execution_count": 1,
   "metadata": {
    "collapsed": true
   },
   "outputs": [],
   "source": [
    "import numpy as np\n",
    "import scipy\n",
    "from skbio.stats.power import subsample_power"
   ]
  },
  {
   "cell_type": "code",
   "execution_count": 2,
   "metadata": {
    "collapsed": true
   },
   "outputs": [],
   "source": [
    "# Draws two samples with the same standard deviation (1) which is 1.5x the difference in the means.\n",
    "samp1 = np.random.randn(50)\n",
    "samp2 = np.random.randn(50) + 0.75"
   ]
  },
  {
   "cell_type": "code",
   "execution_count": 3,
   "metadata": {
    "collapsed": true
   },
   "outputs": [],
   "source": [
    "# Sets up a function to test the difference in the populations\n",
    "f = lambda x: scipy.stats.ttest_ind(x[0], x[1])[1]"
   ]
  },
  {
   "cell_type": "code",
   "execution_count": 4,
   "metadata": {
    "collapsed": false
   },
   "outputs": [
    {
     "data": {
      "text/plain": [
       "5.9533417547358208e-06"
      ]
     },
     "execution_count": 4,
     "metadata": {},
     "output_type": "execute_result"
    }
   ],
   "source": [
    "# Checks the function on the two samples\n",
    "f([samp1, samp2])"
   ]
  },
  {
   "cell_type": "markdown",
   "metadata": {},
   "source": [
    "I'd also like to profile the code to make sure it's functioning the way I expect. This is, once again, based on the information presented by Bryan Helmig in his blog post, \"[Profiling Python Like a Boss](https://zapier.com/engineering/profiling-python-boss/)\". I'm just going to use the time wrapper here."
   ]
  },
  {
   "cell_type": "code",
   "execution_count": 8,
   "metadata": {
    "collapsed": true
   },
   "outputs": [],
   "source": [
    "import time\n",
    "\n",
    "def timefunc(f):\n",
    "    def f_timer(*args, **kwargs):\n",
    "        start = time.time()\n",
    "        result = f(*args, **kwargs)\n",
    "        end = time.time()\n",
    "        print f.__name__, 'took', end - start, 'time'\n",
    "        return result\n",
    "    return f_timer"
   ]
  },
  {
   "cell_type": "code",
   "execution_count": 9,
   "metadata": {
    "collapsed": true
   },
   "outputs": [],
   "source": [
    "@timefunc\n",
    "def test_samps_1():\n",
    "    subsample_power(f, [samp1, samp2], num_cpus=1, num_iter=10, num_runs=3)\n",
    "\n",
    "@timefunc\n",
    "def test_samps_4():\n",
    "    subsample_power(f, [samp1, samp2], num_cpus=4, num_iter=10, num_runs=3)"
   ]
  },
  {
   "cell_type": "code",
   "execution_count": null,
   "metadata": {
    "collapsed": true
   },
   "outputs": [],
   "source": [
    "test_samps_4()"
   ]
  },
  {
   "cell_type": "markdown",
   "metadata": {},
   "source": [
    "I appear to be getting a silent error with timing, so I'm just going to try calling the script without the timer."
   ]
  },
  {
   "cell_type": "code",
   "execution_count": null,
   "metadata": {
    "collapsed": true
   },
   "outputs": [],
   "source": [
    "subsample_power(f, [samp1, samp2], num_cpus=1, num_iter=10, num_runs=3)"
   ]
  },
  {
   "cell_type": "markdown",
   "metadata": {},
   "source": [
    "I just straight-up get a silent error. I have to call it in a terminal interpreter (IPython instance) to generate the error:"
   ]
  },
  {
   "cell_type": "raw",
   "metadata": {},
   "source": [
    "In [1]: import numpy as np\n",
    "\n",
    "In [2]: import scipy\n",
    "\n",
    "In [3]: from skbio.stats.power import subsample_power\n",
    "\n",
    "In [4]: samp1 = np.random.randn(50)\n",
    "\n",
    "In [5]: samp2 = np.random.randn(50) + 0.75\n",
    "\n",
    "In [6]: f = lambda x: scipy.stats.ttest_ind(x[0], x[1])[1]\n",
    "\n",
    "In [7]: f([samp1, samp2])\n",
    "Out[7]: 2.68308799191531e-05\n",
    "\n",
    "In [8]: subsample_power(f, [samp1, samp2], num_cpus=1, num_iter=10, num_runs=3)\n",
    "Exception in thread Thread-2:\n",
    "Traceback (most recent call last):\n",
    "  File \"/Library/Frameworks/Python.framework/Versions/2.7/lib/python2.7/threading.py\", line 551, in __bootstrap_inner\n",
    "    self.run()\n",
    "  File \"/Library/Frameworks/Python.framework/Versions/2.7/lib/python2.7/threading.py\", line 504, in run\n",
    "    self.__target(*self.__args, **self.__kwargs)\n",
    "  File \"/Library/Frameworks/Python.framework/Versions/2.7/lib/python2.7/multiprocessing/pool.py\", line 319, in _handle_tasks\n",
    "    put(task)\n",
    "PicklingError: Can't pickle <type 'function'>: attribute lookup __builtin__.function failed"
   ]
  },
  {
   "cell_type": "markdown",
   "metadata": {},
   "source": [
    "So, I *do* need a way to solve the pickling error. "
   ]
  },
  {
   "cell_type": "code",
   "execution_count": null,
   "metadata": {
    "collapsed": true
   },
   "outputs": [],
   "source": [
    "    \n",
    "test_samps_1()"
   ]
  },
  {
   "cell_type": "code",
   "execution_count": null,
   "metadata": {
    "collapsed": true
   },
   "outputs": [],
   "source": []
  }
 ],
 "metadata": {
  "kernelspec": {
   "display_name": "Python 2",
   "language": "python",
   "name": "python2"
  },
  "language_info": {
   "codemirror_mode": {
    "name": "ipython",
    "version": 2
   },
   "file_extension": ".py",
   "mimetype": "text/x-python",
   "name": "python",
   "nbconvert_exporter": "python",
   "pygments_lexer": "ipython2",
   "version": "2.7.3"
  }
 },
 "nbformat": 4,
 "nbformat_minor": 0
}
