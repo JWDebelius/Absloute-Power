{
 "cells": [
  {
   "cell_type": "markdown",
   "metadata": {},
   "source": [
    "**Author**: J W Debelius<br>\n",
    "**Date**: 24 March 2015<br>\n",
    "**virtualenv**: Playground"
   ]
  },
  {
   "cell_type": "code",
   "execution_count": 1,
   "metadata": {
    "collapsed": false
   },
   "outputs": [
    {
     "data": {
      "application/javascript": [
       "IPython.load_extensions('calico-spell-check', 'calico-document-tools')"
      ],
      "text/plain": [
       "<IPython.core.display.Javascript object>"
      ]
     },
     "metadata": {},
     "output_type": "display_data"
    }
   ],
   "source": [
    "%%javascript\n",
    "IPython.load_extensions('calico-spell-check', 'calico-document-tools')"
   ]
  },
  {
   "cell_type": "markdown",
   "metadata": {},
   "source": [
    "On GitHub, Daniel ([@wasade](https://github.com/wasade)) asked\n",
    "<blockquote>\n",
    "Can you please use the cProfile? This is too specific while masking\n",
    "interaction with operators making it hard to interpret. It would be useful\n",
    "to make sure the test method is included as well. You can use cProfile in\n",
    "IPython by just doing %prun or %%prun.\n",
    "</blockquote>\n",
    "\n",
    "So, I'm trying to figure out cProfile. I'm refering to [Profiling your code easily with cProfile and IPython](http://nbviewer.ipython.org/github/dboyliao/cookbook-code/blob/master/notebooks/chapter04_optimization/02_profile.ipynb) by [@dboyliao](https://github.com/dboyliao)\n",
    "\n",
    "Much of what I'm going to do is coming from what I did on Feburary 27."
   ]
  },
  {
   "cell_type": "code",
   "execution_count": 2,
   "metadata": {
    "collapsed": true
   },
   "outputs": [],
   "source": [
    "import os\n",
    "import numpy as np\n",
    "import pandas as pd\n",
    "import biom\n",
    "import skbio\n",
    "import scipy\n",
    "import matplotlib.pyplot as plt\n",
    "\n",
    "%matplotlib inline"
   ]
  },
  {
   "cell_type": "markdown",
   "metadata": {},
   "source": [
    "We're going to read in the American Gut table, and we'll test alpha diversity with a kruskal-wallis test."
   ]
  },
  {
   "cell_type": "code",
   "execution_count": 3,
   "metadata": {
    "collapsed": true
   },
   "outputs": [],
   "source": [
    "base_dir = os.path.abspath('../..')\n",
    "data_dir = os.path.join(base_dir, 'data/ag_fecal_one_sample_sub')\n",
    "\n",
    "otu_ = biom.load_table(os.path.join(data_dir, 'AGP_100nt_even10k_fecal.biom'))\n",
    "map_ = pd.read_csv(os.path.join(data_dir, 'AGP_100nt_even10k_fecal.txt'),\n",
    "                   sep='\\t',\n",
    "                   index_col=None)\n",
    "map_.index = map_['#SampleID']"
   ]
  },
  {
   "cell_type": "code",
   "execution_count": 4,
   "metadata": {
    "collapsed": true
   },
   "outputs": [],
   "source": [
    "def test_alpha(x):\n",
    "    vals = [map_.loc[i, 'PD_whole_tree_mean'].values for i in x]\n",
    "    return scipy.stats.kruskal(*vals)[1]"
   ]
  },
  {
   "cell_type": "markdown",
   "metadata": {},
   "source": [
    "I'm going to use the release version of scikit-bio, becuase I find maintaing the development versions difficult. "
   ]
  },
  {
   "cell_type": "code",
   "execution_count": 5,
   "metadata": {
    "collapsed": true
   },
   "outputs": [],
   "source": [
    "daily = map_.loc[map_.ALCOHOL_FREQUENCY == 'Daily'].index.values\n",
    "never = map_.loc[map_.ALCOHOL_FREQUENCY == 'Never'].index.values"
   ]
  },
  {
   "cell_type": "code",
   "execution_count": 6,
   "metadata": {
    "collapsed": true
   },
   "outputs": [],
   "source": [
    "from skbio.stats.power import subsample_paired_power"
   ]
  },
  {
   "cell_type": "code",
   "execution_count": 7,
   "metadata": {
    "collapsed": false
   },
   "outputs": [
    {
     "name": "stdout",
     "output_type": "stream",
     "text": [
      " \n",
      "*** Profile printout saved to text file u'prun0'. \n"
     ]
    }
   ],
   "source": [
    "%%prun -s cumulative -q -l 10 -T prun0\n",
    "#We're going to profile the cell, sorting relative to cumulative time. \n",
    "# We'll limit to the first 10 lines and save them to a file, \"prun0\"\n",
    "pwr, cnts = subsample_paired_power(test_alpha,\n",
    "                                   map_,\n",
    "                                   'ALCOHOL_FREQUENCY',\n",
    "                                   ['AGE_CAT', 'TYPES_OF_PLANTS', \n",
    "                                    'COLLECTION_SEASON', 'SLEEP_DURATION'],\n",
    "                                   ['Never', 'Daily'],\n",
    "                                   num_iter=500,\n",
    "                                   counts_interval=2,\n",
    "                                   min_observations=15,\n",
    "                                   max_counts=16)"
   ]
  },
  {
   "cell_type": "code",
   "execution_count": 8,
   "metadata": {
    "collapsed": false
   },
   "outputs": [
    {
     "name": "stdout",
     "output_type": "stream",
     "text": [
      "         35954115 function calls (35595655 primitive calls) in 46.787 seconds\n",
      "\n",
      "   Ordered by: cumulative time\n",
      "   List reduced from 332 to 10 due to restriction <10>\n",
      "\n",
      "   ncalls  tottime  percall  cumtime  percall filename:lineno(function)\n",
      "        1    0.000    0.000   46.787   46.787 <string>:4(<module>)\n",
      "        1    0.001    0.001   46.787   46.787 power.py:328(subsample_paired_power)\n",
      "       10    0.002    0.000   45.913    4.591 power.py:916(_calculate_power_curve)\n",
      "       70    0.323    0.005   45.909    0.656 power.py:829(_compare_distributions)\n",
      "    35000    0.549    0.000   44.418    0.001 <ipython-input-4-640c322d58e3>:1(test_alpha)\n",
      "140820/70820    0.146    0.000   38.698    0.001 indexing.py:1198(__getitem__)\n",
      "    70000    0.053    0.000   38.032    0.001 indexing.py:697(_getitem_tuple)\n",
      "    70000    0.692    0.000   37.979    0.001 indexing.py:798(_getitem_lowerdim)\n",
      "   140820    0.566    0.000   36.379    0.000 indexing.py:1311(_getitem_axis)\n",
      "    70820    0.817    0.000   32.399    0.000 indexing.py:930(_getitem_iterable)\n"
     ]
    }
   ],
   "source": [
    "print(open('prun0', 'r').read())"
   ]
  },
  {
   "cell_type": "code",
   "execution_count": 9,
   "metadata": {
    "collapsed": false
   },
   "outputs": [
    {
     "name": "stdout",
     "output_type": "stream",
     "text": [
      " \n",
      "*** Profile printout saved to text file u'prun1'. \n"
     ]
    }
   ],
   "source": [
    "%%prun -s time -q -l 10 -T prun1\n",
    "#We're going to profile the cell, sorting relative to total time. \n",
    "# We'll limit to the first 10 lines and save them to a file, \"prun1\"\n",
    "pwr, cnts = subsample_paired_power(test_alpha,\n",
    "                                   map_,\n",
    "                                   'ALCOHOL_FREQUENCY',\n",
    "                                   ['AGE_CAT', 'TYPES_OF_PLANTS', \n",
    "                                    'COLLECTION_SEASON', 'SLEEP_DURATION'],\n",
    "                                   ['Never', 'Daily'],\n",
    "                                   num_iter=500,\n",
    "                                   counts_interval=2,\n",
    "                                   min_observations=15,\n",
    "                                   max_counts=16)"
   ]
  },
  {
   "cell_type": "code",
   "execution_count": 10,
   "metadata": {
    "collapsed": false
   },
   "outputs": [
    {
     "name": "stdout",
     "output_type": "stream",
     "text": [
      "         35953849 function calls (35595389 primitive calls) in 45.959 seconds\n",
      "\n",
      "   Ordered by: internal time\n",
      "   List reduced from 329 to 10 due to restriction <10>\n",
      "\n",
      "   ncalls  tottime  percall  cumtime  percall filename:lineno(function)\n",
      "    70710    2.751    0.000    3.534    0.000 index.py:1578(isin)\n",
      "  7235790    2.131    0.000    2.752    0.000 {isinstance}\n",
      "212450/212370    2.115    0.000    7.830    0.000 index.py:125(__new__)\n",
      "   991230    1.905    0.000    1.905    0.000 {numpy.core.multiarray.array}\n",
      "   283140    1.561    0.000    3.449    0.000 common.py:2279(_asarray_tuplesafe)\n",
      "   212400    1.548    0.000    1.548    0.000 {pandas.lib.infer_dtype}\n",
      "   216160    1.296    0.000    1.296    0.000 {method 'reduce' of 'numpy.ufunc' objects}\n",
      "   140820    1.239    0.000   10.204    0.000 indexing.py:1240(_has_valid_type)\n",
      "2046180/1976180    0.949    0.000    0.981    0.000 {getattr}\n",
      "    70820    0.804    0.000   31.789    0.000 indexing.py:930(_getitem_iterable)\n"
     ]
    }
   ],
   "source": [
    "print(open('prun1', 'r').read())"
   ]
  },
  {
   "cell_type": "markdown",
   "metadata": {},
   "source": [
    "*Note*: The [Python reference](https://docs.python.org/2/library/profile.html) for cProfile is also quite helpful!"
   ]
  },
  {
   "cell_type": "markdown",
   "metadata": {
    "collapsed": true
   },
   "source": [
    "------\n",
    "Daniel asked that I use a simplier test function, since he thinks this is masking bottlenecks in the code. So, I'm going to use a normal distribution, and test on `subsample_power` instead of subsample_paired_power."
   ]
  },
  {
   "cell_type": "code",
   "execution_count": 11,
   "metadata": {
    "collapsed": true
   },
   "outputs": [],
   "source": [
    "# Draws two random samples\n",
    "sample1 = np.random.randn(50)*1.5\n",
    "sample2 = np.random.randn(50)*1.5 + 2"
   ]
  },
  {
   "cell_type": "code",
   "execution_count": 12,
   "metadata": {
    "collapsed": true
   },
   "outputs": [],
   "source": [
    "# Defines the test\n",
    "def test(x):\n",
    "    return scipy.stats.ttest_ind(x[0], x[1])[1]"
   ]
  },
  {
   "cell_type": "code",
   "execution_count": 13,
   "metadata": {
    "collapsed": false
   },
   "outputs": [
    {
     "data": {
      "text/plain": [
       "2.5651809734110741e-09"
      ]
     },
     "execution_count": 13,
     "metadata": {},
     "output_type": "execute_result"
    }
   ],
   "source": [
    "test([sample1, sample2])"
   ]
  },
  {
   "cell_type": "code",
   "execution_count": 14,
   "metadata": {
    "collapsed": true
   },
   "outputs": [],
   "source": [
    "from skbio.stats.power import subsample_power"
   ]
  },
  {
   "cell_type": "code",
   "execution_count": 16,
   "metadata": {
    "collapsed": false
   },
   "outputs": [
    {
     "name": "stdout",
     "output_type": "stream",
     "text": [
      " \n",
      "*** Profile printout saved to text file u'prun2'. \n"
     ]
    }
   ],
   "source": [
    "%%prun -s cumulative -q -l 10 -T prun2\n",
    "#We're going to profile the cell, sorting relative to cumulative time. \n",
    "# We'll limit to the first 10 lines and save them to a file, \"prun0\"\n",
    "pwr, cnts = subsample_power(test,\n",
    "                            [sample1, sample2],\n",
    "                            num_iter=500,\n",
    "                            counts_interval=5,\n",
    "                            min_observations=15,\n",
    "                            max_counts=31)"
   ]
  },
  {
   "cell_type": "code",
   "execution_count": 17,
   "metadata": {
    "collapsed": false
   },
   "outputs": [
    {
     "name": "stdout",
     "output_type": "stream",
     "text": [
      "         4353065 function calls in 9.478 seconds\n",
      "\n",
      "   Ordered by: cumulative time\n",
      "   List reduced from 72 to 10 due to restriction <10>\n",
      "\n",
      "   ncalls  tottime  percall  cumtime  percall filename:lineno(function)\n",
      "        1    0.000    0.000    9.478    9.478 <string>:4(<module>)\n",
      "        1    0.000    0.000    9.478    9.478 power.py:152(subsample_power)\n",
      "       10    0.001    0.000    9.478    0.948 power.py:916(_calculate_power_curve)\n",
      "       60    0.254    0.004    9.474    0.158 power.py:829(_compare_distributions)\n",
      "    30000    0.041    0.000    7.556    0.000 <ipython-input-12-1563e693a5e4>:2(test)\n",
      "    30000    0.397    0.000    7.515    0.000 stats.py:3271(ttest_ind)\n",
      "    30000    0.183    0.000    3.745    0.000 stats.py:3262(_ttest_finish)\n",
      "    30000    0.841    0.000    3.562    0.000 _distn_infrastructure.py:1701(sf)\n",
      "    60000    0.089    0.000    2.363    0.000 fromnumeric.py:2830(var)\n",
      "    60000    1.186    0.000    2.274    0.000 _methods.py:77(_var)\n"
     ]
    }
   ],
   "source": [
    "print(open('prun2', 'r').read())"
   ]
  },
  {
   "cell_type": "code",
   "execution_count": 18,
   "metadata": {
    "collapsed": false
   },
   "outputs": [
    {
     "name": "stdout",
     "output_type": "stream",
     "text": [
      " \n",
      "*** Profile printout saved to text file u'prun3'. \n"
     ]
    }
   ],
   "source": [
    "%%prun -s time -q -l 10 -T prun3\n",
    "#We're going to profile the cell, sorting relative to cumulative time. \n",
    "# We'll limit to the first 10 lines and save them to a file, \"prun0\"\n",
    "pwr, cnts = subsample_power(test,\n",
    "                            [sample1, sample2],\n",
    "                            num_iter=500,\n",
    "                            counts_interval=5,\n",
    "                            min_observations=15,\n",
    "                            max_counts=31)"
   ]
  },
  {
   "cell_type": "code",
   "execution_count": 19,
   "metadata": {
    "collapsed": false
   },
   "outputs": [
    {
     "name": "stdout",
     "output_type": "stream",
     "text": [
      "         4353065 function calls in 9.319 seconds\n",
      "\n",
      "   Ordered by: internal time\n",
      "   List reduced from 72 to 10 due to restriction <10>\n",
      "\n",
      "   ncalls  tottime  percall  cumtime  percall filename:lineno(function)\n",
      "   270121    1.317    0.000    1.317    0.000 {method 'reduce' of 'numpy.ufunc' objects}\n",
      "    60000    1.168    0.000    2.240    0.000 _methods.py:77(_var)\n",
      "    60000    0.979    0.000    1.503    0.000 {method 'choice' of 'mtrand.RandomState' objects}\n",
      "    30000    0.823    0.000    3.498    0.000 _distn_infrastructure.py:1701(sf)\n",
      "   660091    0.662    0.000    0.662    0.000 {numpy.core.multiarray.array}\n",
      "    30000    0.393    0.000    7.388    0.000 stats.py:3271(ttest_ind)\n",
      "    30000    0.383    0.000    1.418    0.000 _distn_infrastructure.py:549(argsreduce)\n",
      "    60000    0.249    0.000    0.808    0.000 _methods.py:53(_mean)\n",
      "       60    0.249    0.004    9.315    0.155 power.py:829(_compare_distributions)\n",
      "   270000    0.197    0.000    0.473    0.000 numeric.py:464(asanyarray)\n"
     ]
    }
   ],
   "source": [
    "print(open('prun3', 'r').read())"
   ]
  },
  {
   "cell_type": "code",
   "execution_count": null,
   "metadata": {
    "collapsed": true
   },
   "outputs": [],
   "source": []
  }
 ],
 "metadata": {
  "kernelspec": {
   "display_name": "Python 2",
   "language": "python",
   "name": "python2"
  },
  "language_info": {
   "codemirror_mode": {
    "name": "ipython",
    "version": 2
   },
   "file_extension": ".py",
   "mimetype": "text/x-python",
   "name": "python",
   "nbconvert_exporter": "python",
   "pygments_lexer": "ipython2",
   "version": "2.7.3"
  }
 },
 "nbformat": 4,
 "nbformat_minor": 0
}
