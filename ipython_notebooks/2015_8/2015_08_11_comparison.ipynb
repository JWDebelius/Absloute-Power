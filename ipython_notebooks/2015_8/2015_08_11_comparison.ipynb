{
 "cells": [
  {
   "cell_type": "markdown",
   "metadata": {},
   "source": [
    "**Author**: J W Debelius<br/>\n",
    "**Date**: 11 August 2015<br/>\n",
    "**virtualenv**: power play"
   ]
  },
  {
   "cell_type": "code",
   "execution_count": 1,
   "metadata": {
    "collapsed": false
   },
   "outputs": [
    {
     "data": {
      "application/javascript": [
       "IPython.load_extensions('calico-spell-check', 'calico-document-tools')"
      ],
      "text/plain": [
       "<IPython.core.display.Javascript object>"
      ]
     },
     "metadata": {},
     "output_type": "display_data"
    }
   ],
   "source": [
    "%%javascript\n",
    "IPython.load_extensions('calico-spell-check', 'calico-document-tools')"
   ]
  },
  {
   "cell_type": "markdown",
   "metadata": {},
   "source": [
    "# 1. Introduction"
   ]
  },
  {
   "cell_type": "markdown",
   "metadata": {},
   "source": [
    "Traditional definitions for power have been discussed extensively in a variety of sources, include [[1](#lui2014), [2](guenther1977)]. Let us briefly summarize these definitions assuming we have  $k$ populations, $\\{P_{1}, P_{2}, ..., P_{k} \\}$ where the $i$th population is characterized by some parameter, $\\chi_{i}$. We have drawn $k$ samples consisting of $N_{1}, N_{2}, ... N_{k}$ observations, where the $i$th sample is characterized by some parameter, $X_{i}$ such that $\\chi_{i} \\approx X_{i}$. \n",
    "\n",
    "We can use a statistical test, $\\textbf{F}$ to test the alternative hypotheses:\n",
    "\n",
    "$\\begin{matrix}\n",
    "\\textbf{H}_{0} & \\chi_{1} = \\chi_{2} = ... = \\chi_{k} & \\\\\n",
    "\\textbf{H}_{1} & \\chi_{i} \\neq \\chi_{j\\neq i} & \\forall \\{i \\epsilon \\mathbb{N}, 1 \\leq i \\leq k\\}\\\\\n",
    "\\end{matrix} \\tag{1.1}$\n",
    "\n",
    "When the null hypothesis, $\\textbf{H}_{0}$ is true, $a$ is drawn from an $A$ distribution, characterized by some set of parameters, $c$. \n",
    "If the alternative hypothesis is true, $\\Delta_{ij} \\neq 0$, where $\\Delta_{ij} = \\chi_{i} - \\chi_{j}$, $i \\neq j$ for at least one value of $\\Delta_{ij}$. This offset changes at least one of the parameters in $c$, to create a new set of parameters, $c'$. The parameter which changes when $\\textbf{H}_{1}$ is true is $\\lambda$. So, we now draw the test statistic, $a'$ from the $A'$ distribution, characterized by $c'$, which includes $\\lambda$. \n",
    "\n",
    "This means that the probability of committing a type II error, $\\beta$ is\n",
    "$\\beta = P \\left [a' < a_{1 - \\alpha/2} \\right ]\\tag{1.2}$\n",
    "where $a_{1 - \\alpha/2}$ is the two-tailed critical value. \n",
    "\n",
    "Since statistical power is defined as $PWR = 1 - \\beta$, we can say that \n",
    "$\\begin{align*}\n",
    "PWR &= 1 - \\beta\\\\\n",
    "&= 1 - P \\left [A' < a_{1 - \\alpha/2} \\right ]\\\\\n",
    "& = P \\left [A' \\geq a_{1 - \\alpha/2} \\right ]\\\\\n",
    "\\end{align*}\\tag{1.3}$\n",
    "\n",
    "This notebook will compare data evaluated using traditional power methods implemented according to equation (3) with a Monte Carlo simulation. The Monte Carlo simulation is described [elsewhere](http://nbviewer.ipython.org/github/biocore/American-Gut/blob/master/ipynb/Power.ipynb).\n",
    "We'll use the simulated power to extrapolate power using statsmodel's power module. This can be useful to extrapolate power, when the calculated effect size falls into certain bounds, extending power curves beyond the number of samples that can be drawn for a given distribution."
   ]
  },
  {
   "cell_type": "markdown",
   "metadata": {},
   "source": [
    "\n",
    "3. <a id=\"zar1999_23\"></a>Zar, J.H. (1999) \"Contingency Tables\". Ch. 23. *Biostatistical Analysis*. 4th Ed. Upper Saddle River: Prentice Hall."
   ]
  },
  {
   "cell_type": "code",
   "execution_count": 2,
   "metadata": {
    "collapsed": true
   },
   "outputs": [],
   "source": [
    "from __future__ import division\n",
    "\n",
    "import numpy as np\n",
    "import americangut.power_plots as pp\n",
    "\n",
    "from statsmodels.stats.power import FTestAnovaPower\n",
    "\n",
    "ft = FTestAnovaPower()\n",
    "\n",
    "def extrapolate_f(counts, empr_pwr, alpha):\n",
    "    \"\"\"...\"\"\"\n",
    "    # Gets the average emperical effect size\n",
    "    pwr_, cnts = empr_pwr\n",
    "    eff_mean, eff_bound =  pp.collate_effect_size([cnts], [pwr_], alpha)\n",
    "    # Calculates the extrapolated power curve\n",
    "    extr_pwr = np.array([\n",
    "            ft.solve_power(eff_mean, nobs=c, alpha=0.05, power=None)\n",
    "            for c in counts\n",
    "        ])\n",
    "    return extr_pwr"
   ]
  },
  {
   "cell_type": "markdown",
   "metadata": {},
   "source": [
    "We'll examine five common, simple statistical models where the power equation has been defined and employed. The emperical power implementations are based on the version described in [ref].\n",
    "\n",
    "We will examine statistical power for three tests dealing with normal distributions:\n",
    "\n",
    "* Case I t test\n",
    "* Case II (independent) t test\n",
    "* One way Analysis of Variance (ANOVA)\n",
    "* Pearson's R\n",
    "* Chi-Square test\n",
    "\n",
    "We'll also look at a Chi-square distribution. \n",
    "\n",
    "As a result, we'll need to be able to define the summary properties of a normal distribution:"
   ]
  },
  {
   "cell_type": "code",
   "execution_count": 3,
   "metadata": {
    "collapsed": true
   },
   "outputs": [],
   "source": [
    "def get_vitals(sample):\n",
    "    \"\"\"Returns a summary of the sample\"\"\"\n",
    "    return sample.mean(), sample.std()"
   ]
  },
  {
   "cell_type": "markdown",
   "metadata": {},
   "source": [
    "We will perform 100 simulations of statistical power, comparing the power between 5 and 50 counts, with 5 observation intervals between. We'll set the critical value at 0.05."
   ]
  },
  {
   "cell_type": "code",
   "execution_count": 4,
   "metadata": {
    "collapsed": false
   },
   "outputs": [],
   "source": [
    "num_rounds = 100\n",
    "counts = np.arange(10, 55, 10)\n",
    "alpha = 0.05\n",
    "distributions = {}"
   ]
  },
  {
   "cell_type": "markdown",
   "metadata": {},
   "source": [
    "# 3. Case I Test"
   ]
  },
  {
   "cell_type": "markdown",
   "metadata": {},
   "source": [
    "A case I t-test checks if an observation is drawn from a sample. We are testing the alternatively hypotheses,\n",
    "\n",
    "$\\begin{matrix}\n",
    "\\textbf{H}_{0} & x = \\bar{x} \\\\\n",
    "\\textbf{H}_{1} & x \\neq \\bar{x}\\\\\n",
    "\\end{matrix} \\tag{2.1}$\n",
    "\n",
    "where $\\bar{x}$ is the mean of the population, $x$ is the value being compared to the sample, $s$ is the standard devation of the sample, and there are $n$ observations in the sample.\n",
    "\n",
    "The test statistic for the case I t test is given as\n",
    "$t = \\frac{(\\bar{x} - x)\\sqrt{n}}{s} \\tag{2.2}$\n",
    "The probability distribution follows a T distribution with $n-1$ degrees of freedom, where $n$ is the number of observations in the sample.\n",
    "\n",
    "The non centrality paramter for the statistic, $\\lambda$ is given by\n",
    "$\\begin{align*}\n",
    "\\lambda &= \\frac{t}{\\sqrt{n}}\\\\\n",
    "&=\\frac{1}{\\sqrt{n}}\\left(\\frac{(\\bar{x} - x)\\sqrt{n}}{s}\\right )\\\\\n",
    "&=\\frac{(\\bar{x} - x)}{s}\n",
    "\\end{align*}\\tag{2.3}$"
   ]
  },
  {
   "cell_type": "markdown",
   "metadata": {},
   "source": [
    "## 3.1 Emperical Test"
   ]
  },
  {
   "cell_type": "markdown",
   "metadata": {},
   "source": [
    "For the emperical test, we will use the `scipy.stats.ttest_1samp` function, which returns a p value."
   ]
  },
  {
   "cell_type": "code",
   "execution_count": 5,
   "metadata": {
    "collapsed": true
   },
   "outputs": [],
   "source": [
    "def emp_ttest_1(sample, x0):\n",
    "    return scipy.stats.ttest_1samp(sample, x0)[1]"
   ]
  },
  {
   "cell_type": "markdown",
   "metadata": {},
   "source": [
    "## 3.2 Traditional Power"
   ]
  },
  {
   "cell_type": "markdown",
   "metadata": {},
   "source": [
    "We're going to also calculate power by extrapolating from the emperical results. By combining equations (1.3), (2.3) and (2.4), we can say that \n",
    "$\\begin{align*}\n",
    "1 - \\beta &= P(t(n) \\geq t_{1 - \\alpha/2})\\\\\n",
    "&= \\Phi_{T} \\left (-t_{1 - \\alpha/2} + t(n), n - 1\\right )\n",
    "\\end{align*}\\tag{2.5}$"
   ]
  },
  {
   "cell_type": "code",
   "execution_count": 6,
   "metadata": {
    "collapsed": true
   },
   "outputs": [],
   "source": [
    "import scipy.stats\n",
    "\n",
    "def calc_ttest_1(sample, x0, n, alpha=0.05):\n",
    "    \"\"\"Calculates statistical power for a one-sample t test\"\"\"\n",
    "    # Calculates the effect size\n",
    "    [x, s] = get_vitals(sample)\n",
    "    eff = np.absolute(x - x0)/s\n",
    "    \n",
    "    # Calculates the power\n",
    "    power = np.array([\n",
    "            scipy.stats.t.cdf(-scipy.stats.t.ppf(1-alpha/2, c-1) + eff*np.sqrt(c), c-1)\n",
    "            for c in n\n",
    "        ])\n",
    "    \n",
    "    return power"
   ]
  },
  {
   "cell_type": "markdown",
   "metadata": {},
   "source": [
    "## 3.3 Simulation Parameters"
   ]
  },
  {
   "cell_type": "markdown",
   "metadata": {},
   "source": [
    "We'll test the set of hypotheses,\n",
    "\n",
    "$\\begin{matrix}\n",
    "\\textbf{H}_{0} & 0 = \\bar{x} \\\\\n",
    "\\textbf{H}_{1} & 0 \\neq \\bar{x}\\\\\n",
    "\\end{matrix} \\tag{2.6}$\n",
    "\n",
    "where $\\bar{x}$ is the mean of a sample drawn from a population.\n",
    "\n",
    "We'll test the means between 2 and 10 with standard deviations between 5 and 15, and sample sizes between 60 and 100 observations."
   ]
  },
  {
   "cell_type": "code",
   "execution_count": 7,
   "metadata": {
    "collapsed": true
   },
   "outputs": [],
   "source": [
    "def ttest_1_simulate(mu_lim, sigma_lim, count_lims):\n",
    "    # Gets the distribution parameters\n",
    "    mu = np.random.randint(*mu_lim)\n",
    "    sigma = np.random.randint(*sigma_lim)\n",
    "    n = np.random.randint(*count_lims)\n",
    "    \n",
    "    # Draws a sample that fits the parameters\n",
    "    return (mu, sigma, n), [mu + np.random.randn(n) * sigma]"
   ]
  },
  {
   "cell_type": "code",
   "execution_count": 8,
   "metadata": {
    "collapsed": true
   },
   "outputs": [],
   "source": [
    "distributions['ttest_1'] = {'emp_test_fun': emp_ttest_1,\n",
    "                           'trad_test_fun': calc_ttest_1,\n",
    "                           'sim_function': ttest_1_simulate,\n",
    "                           'sim_parameters': [[2, 10], [5, 15], [60, 100]],\n",
    "                           'other_sim_parameters': {},\n",
    "                           'test_parameters': {'x0': 0},\n",
    "                           'emp_parameters': {}\n",
    "                            }"
   ]
  },
  {
   "cell_type": "markdown",
   "metadata": {},
   "source": [
    "# 4. Case II T Test"
   ]
  },
  {
   "cell_type": "markdown",
   "metadata": {},
   "source": [
    "The case II t test is a test for two independent samples, to determine if the samples are drawn from different distributions.\n",
    "\n",
    "$\\begin{matrix}\n",
    "\\textbf{H}_{0} & \\bar{x}_{1} = \\bar{x}_{2} \\\\\n",
    "\\textbf{H}_{1} & \\bar{x}_{1} \\neq \\bar{x}_{2}\\\\\n",
    "\\end{matrix} \\tag{3.1}$\n",
    "\n",
    "There are several ways to calculate this t statistic, but we will operate on the assumption that the two populations have different variances, giving the most extensibe calculation of the test statistic. So,\n",
    "\n",
    "$\\begin{align*}\n",
    "t &= \\frac{\\bar{x}_{1} - \\bar{x}_{2}}{\\sqrt{\\frac{s_{1}^{2}}{n_{1}} + \\frac{s_{2}^{2}}{n_{2}}}}\\\\\n",
    "&= \\frac{\\bar{x}_{1} - \\bar{x}_{2}}{\\sqrt{\\frac{n_{2}s_{1}^{2} + n_{1}s_{2}^{2}}{n_{1}n_{2}}}}\n",
    "\\end{align*}\\tag{3.2}$\n",
    "\n",
    "The t statistic follows a T distribution with $df$ degrees of freedom, where $df$ is given as\n",
    "$df = \\frac{(s_{1}^{2}/n_{1} + s_{2}^{2}/n_{2})^{2}}{(s_{1}^{2}/n_{1})^2/(n_{1}-1) + s_{2}^{2}/n_{2})^2/(n_{2}-1)} \\tag{3.3}$\n",
    "\n",
    "For the sake of simplicity, we'll assume that $n_{1} = n_{2}$, which allows us to redefine equation (2.1) as\n",
    "$t = \\frac{\\sqrt{n}(\\bar{x}_{1} - \\bar{x}_{2})}{\\sqrt{s_{1}^{2} + s_{2}^{2}}} \\tag{3.4}$\n",
    "which means the test statitic is now drawn from a t distribution with df degrees of freedom, where\n",
    "df is defined as\n",
    "$df = \\left (n-1 \\right ) \\left (\\frac{\\left (s_{1}^{2} + s_{2}^{2}  \\right )^{2}}{\\left (s_{1}^{2} \\right)^{2} + \\left (s_{2}^{2}  \\right )^{2}} \\right ) \\tag{3.5}$"
   ]
  },
  {
   "cell_type": "code",
   "execution_count": 9,
   "metadata": {
    "collapsed": true
   },
   "outputs": [],
   "source": [
    "def get_t_df(n, s1, s2):\n",
    "    \"\"\"doc string!\"\"\"\n",
    "    mod = (np.square(np.square(s1) + np.square(s2)) / (np.power(s1, 4) + np.power(s2, 4)))\n",
    "    return (n-1)*modifier"
   ]
  },
  {
   "cell_type": "markdown",
   "metadata": {},
   "source": [
    "The effect size, non-centrality parameter, for an independent sample t test where samples are the same size is once again related to the test statistic as\n",
    "$\\begin{align*}\n",
    "\\lambda &= \\frac{t}{\\sqrt{n}}\\\\\n",
    "&= \\left (\\frac{\\sqrt{n} \\left (\\bar{x}_{1} - \\bar{x}_{2} \\right )}{\\sqrt{s_{1}^{2} + s_{2}^{2}}} \\right ) \\left (\\frac{1}{\\sqrt{n}} \\right )\\\\\n",
    "&= \\left (\\frac{\\bar{x}_{1}^{2} - \\bar{x}_{2}^{2}}{\\sqrt{s_{1}^{2} + s_{2}^{2}}} \\right )\n",
    "\\end{align*}\\tag{3.6}$"
   ]
  },
  {
   "cell_type": "markdown",
   "metadata": {},
   "source": [
    "## 4.1 Emperical Test"
   ]
  },
  {
   "cell_type": "markdown",
   "metadata": {},
   "source": [
    "For the emperical test, we can use the `scipy.stats.ttest_ind` function, which will return a p value."
   ]
  },
  {
   "cell_type": "code",
   "execution_count": 10,
   "metadata": {
    "collapsed": true
   },
   "outputs": [],
   "source": [
    "def emp_ttest_ind(sample1, sample2):\n",
    "    return scipy.stats.ttest_ind(sample1, sample2)[1]"
   ]
  },
  {
   "cell_type": "markdown",
   "metadata": {},
   "source": [
    "## 4.2 Traditional Power"
   ]
  },
  {
   "cell_type": "markdown",
   "metadata": {},
   "source": [
    "Statistical power is once again described by equation (6), although the effect size, $\\lambda$ is specified by equation (13)."
   ]
  },
  {
   "cell_type": "code",
   "execution_count": 11,
   "metadata": {
    "collapsed": true
   },
   "outputs": [],
   "source": [
    "def calc_ttest_ind(sample1, sample2, n):\n",
    "    \"\"\"Calculates statistical power for a two sample t test\"\"\"\n",
    "    # Gets the distribuation characterization\n",
    "    [x1, s1] = get_vitals(sample1)\n",
    "    [x2, s2] = get_vitals(sample2)\n",
    "    \n",
    "    # Gets the effect size\n",
    "    eff = np.absolute(x1 - x2)/np.sqrt(np.square(s1) + np.square(s2))\n",
    "    \n",
    "    # Gets the degree of freedom modifier\n",
    "    mod = (np.square(np.square(s1) + np.square(s2)) / (np.power(s1, 4) + np.power(s2, 4)))\n",
    "    \n",
    "    # Calculates the power\n",
    "    power = np.array([\n",
    "            scipy.stats.t.cdf(-scipy.stats.t.ppf(1-alpha/2, mod*(c-1))\n",
    "                                 + np.sqrt(c)*eff, mod*(c-1))\n",
    "            for c in n\n",
    "        ])\n",
    "\n",
    "    return power"
   ]
  },
  {
   "cell_type": "markdown",
   "metadata": {},
   "source": [
    "## 4.3 Simulation Parameters"
   ]
  },
  {
   "cell_type": "markdown",
   "metadata": {},
   "source": [
    "We will test distributions with means between 0 and 10, standard deviations between 5 and 15, and samples sizes between 60 and 100 observations."
   ]
  },
  {
   "cell_type": "code",
   "execution_count": 12,
   "metadata": {
    "collapsed": true
   },
   "outputs": [],
   "source": [
    "def ttest_ind_simulate(mu_lim, sigma_lim, counts_lims):\n",
    "    \"\"\"...\"\"\"\n",
    "    # Gets the distribution paramters\n",
    "    mu1, mu2 = np.random.randint(*mu_lim, size=2)\n",
    "    sigma1, sigma2 = np.random.randint(*sigma_lim, size=2)\n",
    "    n = np.random.randint(*counts_lims)\n",
    "    \n",
    "    # Returns a pair of distributions\n",
    "    samples =  [mu1 + np.random.randn(n) * sigma1, mu2 + np.random.randn(n) * sigma2]\n",
    "    return (mu1, mu2, sigma1, sigma2, n), samples"
   ]
  },
  {
   "cell_type": "code",
   "execution_count": 13,
   "metadata": {
    "collapsed": true
   },
   "outputs": [],
   "source": [
    "distributions['ttest_ind'] = {'emp_parameters': {},\n",
    "                              'emp_test_fun': emp_ttest_ind,\n",
    "                              'other_sim_parameters': {},\n",
    "                              'sim_function': ttest_ind_simulate,\n",
    "                              'sim_parameters': [[0, 10], [5, 15], [60, 100]],\n",
    "                              'test_parameters': {},\n",
    "                              'trad_test_fun': calc_ttest_ind,                              \n",
    "                              }"
   ]
  },
  {
   "cell_type": "markdown",
   "metadata": {},
   "source": [
    "# 5. Analysis of Variance"
   ]
  },
  {
   "cell_type": "markdown",
   "metadata": {},
   "source": [
    "Assume there exist a set of samples, $\\{S_{1}, S_{2}, ..., S_{k} \\}$ where there are a total of $N$ observations distributed over the $k$ groups. The $i$th sample, $S_{i}$ contains $n_{i}$ observations, and has a mean of $\\bar{x}_{.i}$ and a standard deviation, $s_{i}$ where\n",
    "\n",
    "$\\begin{align*}\n",
    "s_{i} = \\sqrt{\\frac{\\sum_{j=1}^{n}{\\left (x_{ij} - \\bar{x}_{.i} \\right)^{2}}}{n_{i}-1}}\n",
    "\\end{align*}\\tag{4.1}$\n",
    "\n",
    "A one-way Analysis of Variance (ANOVA) tests that at least one sample mean in a set of three or more are not equal. Assume that \n",
    "\n",
    "$\\begin{matrix}\n",
    "\\textbf{H}_{0} & \\bar{x}_{1} = \\bar{x}_{2} = ... \\bar{x}_{k} & \\\\\n",
    "\\textbf{H}_{1} & \\bar{x}_{i} \\neq \\bar{x}_{j} & \\exists i,j \\epsilon [1, k], i \\neq j\n",
    "\\end{matrix} \\tag{4.2}$\n",
    "\n",
    "The test statistic for ANOVA is given by\n",
    "$\\begin{align*}\n",
    "F &= \\frac{\\frac{\\textrm{SS}_{\\textrm{between}}}{\\textrm{DF}_{\\textrm{between}}}}{\\frac{\\textrm{SS}_{\\textrm{within}}}{\\textrm{DF}_{\\textrm{within}}}}\n",
    "\\end{align*}\\tag{4.3}$\n",
    "\n",
    "where\n",
    "$\\begin{align*}\n",
    "\\textrm{SS}_{\\textrm{total}} &= \\sum_{i=1}^{k}{\\sum_{j=1}^{n_{i}}{\\left (x_{ij} - \\bar{x}_{..} \\right )^{2}}}\\\\\n",
    "\\textrm{SS}_{\\textrm{between}} &= \\sum_{i=1}^{k}{n_{i}\\left (\\bar{x}_{.i} - \\bar{x}_{..} \\right )^{2}}\\\\\n",
    "\\textrm{SS}_{\\textrm{within}} &= \\sum_{i=1}^{k}{\\left [ \\sum_{j=1}^{n_{i}}{\\left (x_{ij} - \\bar{x}_{.i} \\right )^{2}}\\right ]}\n",
    "\\end{align*}\\tag{4.4}$\n",
    "\n",
    "$\\begin{align*}\n",
    "\\textrm{DF}_{\\textrm{total}} &= N - 1\\\\\n",
    "\\textrm{DF}_{\\textrm{between}} &= k - 1\\\\\n",
    "\\textrm{DF}_{\\textrm{within}} &= N - k\n",
    "\\end{align*}\\tag{4.5}$\n",
    "\n",
    "$\\begin{align*}\n",
    "\\textrm{SS}_{\\textrm{total}} = \\textrm{SS}_{\\textrm{between}} + \\textrm{SS}_{\\textrm{within}}\n",
    "\\end{align*}\\tag{4.6}$\n",
    "\n",
    "$\\begin{align*}\n",
    "\\textrm{DF}_{\\textrm{total}} = \\textrm{DF}_{\\textrm{between}} + \\textrm{DF}_{\\textrm{within}}\n",
    "\\end{align*}\\tag{4.7}$\n",
    "\n",
    "and test statistic is drawn from an $F$ distribution with $k - 1$ and $N - k$ degrees of freedom [[3](#Zar)].\n",
    "\n",
    "Under the alternatively hypothesis, the non-centrality $F'$ is given by\n",
    "\n",
    "$\\begin{align*}\n",
    "F' = \\left(\\frac{\\textrm{SS}_{\\textrm{between}}}{\\textrm{SS}_{\\textrm{within}}} \\right) \\left (\\frac{\\textrm{DF}_{\\textrm{within}}}{\\textrm{DF}_{\\textrm{between}}}{} \\right )\n",
    "\\end{align*}\\tag{4.8}$\n",
    "\n",
    "For a given pair of hypotheses, ..."
   ]
  },
  {
   "cell_type": "markdown",
   "metadata": {},
   "source": [
    "## 5.1 Emperical Test"
   ]
  },
  {
   "cell_type": "markdown",
   "metadata": {},
   "source": [
    "For the emperical test, we can use the `scipy.stats.f_oneway` function, which will return a p value."
   ]
  },
  {
   "cell_type": "code",
   "execution_count": 14,
   "metadata": {
    "collapsed": true
   },
   "outputs": [],
   "source": [
    "def emp_anova(*samples):\n",
    "    return scipy.stats.f_oneway(*samples)[1]"
   ]
  },
  {
   "cell_type": "markdown",
   "metadata": {},
   "source": [
    "## 5.2 Traditional Power"
   ]
  },
  {
   "cell_type": "markdown",
   "metadata": {},
   "source": [
    "Statistical Power is calculated as \n",
    "$\\begin{align*}\n",
    "1 - \\beta &= P(f(n) \\geq f_{1 - \\alpha/2})\\\\\n",
    "&= \\Phi_{F} \\left (-f_{1 - \\alpha/2} + f(n), k - 1, N - k\\right )\n",
    "\\end{align*}\\tag{4.9}$"
   ]
  },
  {
   "cell_type": "code",
   "execution_count": 15,
   "metadata": {
    "collapsed": true
   },
   "outputs": [],
   "source": [
    "import scipy.special \n",
    "\n",
    "def calc_anova(*samples, **kwargs):\n",
    "    \"\"\"Calculates statistical power as a function of counts for a one way ANOVA\"\"\"\n",
    "    # Draws the counts\n",
    "    counts = kwargs['n']\n",
    "    \n",
    "    # Converts the samples to arrays\n",
    "    samples = [np.asarray(sample) for sample in samples]\n",
    "    \n",
    "    # Determines the group sizes and characteristics\n",
    "    k = len(samples)\n",
    "    big_n = len(np.concatenate(samples))\n",
    "    grand_mean = np.concatenate(samples).mean()\n",
    "    \n",
    "    # Calculates the sum of square\n",
    "    ss_total = np.array([[np.square(x - grand_mean) for x in sample]\n",
    "                         for sample in samples]).sum()\n",
    "    ss_within = np.array([[np.square(x - sample.mean()) for x in sample] \n",
    "                          for sample in samples]).sum()\n",
    "    ss_between = ss_total - ss_within\n",
    "\n",
    "    # Calculates degrees of freedom\n",
    "    df_within = big_n - k\n",
    "    df_between = k - 1\n",
    "    \n",
    "    # Calculates the effect size\n",
    "    eff = ss_between/ss_within/float(df_between)\n",
    "\n",
    "    # Calculates the noncentrality paramter\n",
    "    noncentrality = np.array([\n",
    "            np.square((sample.mean() - grand_mean)/sample.std()) \n",
    "            for sample in samples\n",
    "        ]).sum()\n",
    "    \n",
    "    # Calculates the power using the non-central F distribution\n",
    "    power = np.array([\n",
    "            1 - scipy.special.ncfdtr(k - 1, \n",
    "                                     k * (count - 1), \n",
    "                                     count * noncentrality, \n",
    "                                     -eff * count + scipy.stats.f.ppf(1 - alpha/2, k - 1, k*(count - 1)))\n",
    "            for count in counts\n",
    "        ])\n",
    "    # the non central F distribution does not return a value of 1,\n",
    "    # so we replace nans with a value of 1.\n",
    "    power[np.isnan(power)] = 1\n",
    "    \n",
    "    return power\n",
    "   "
   ]
  },
  {
   "cell_type": "markdown",
   "metadata": {},
   "source": [
    "## 5.3 Simulation Parameters"
   ]
  },
  {
   "cell_type": "markdown",
   "metadata": {},
   "source": [
    "We will simulate an ANOVA between 3 samples with means between 0 and 10, a common standard deviation between 5 and 15, and between 60 and 100 observations per sample."
   ]
  },
  {
   "cell_type": "code",
   "execution_count": 16,
   "metadata": {
    "collapsed": true
   },
   "outputs": [],
   "source": [
    "def anova_simulation(mu_lim, sigma_lim, count_lims, num_pops):\n",
    "    # Defines the distribtuion parameters\n",
    "    mus = np.random.randint(*mu_lim, size=num_pops)\n",
    "    sigma = np.random.randint(*sigma_lim)\n",
    "    n = np.random.randint(*count_lims)\n",
    "    \n",
    "    # Draws samples which fit the population\n",
    "    samples = [mu + np.random.randn(n)*sigma for mu in mus]\n",
    "    \n",
    "    return (mus, sigma, n), samples"
   ]
  },
  {
   "cell_type": "code",
   "execution_count": 17,
   "metadata": {
    "collapsed": false
   },
   "outputs": [],
   "source": [
    "distributions['anova'] = {'emp_parameters': {},\n",
    "                           'emp_test_fun': emp_anova,\n",
    "                           'other_sim_parameters': {'num_pops': 3},\n",
    "                           'sim_function': anova_simulation,\n",
    "                           'sim_parameters': [[0, 10], [5, 15], [60, 100]],\n",
    "                           'test_parameters': {},\n",
    "                           'trad_test_fun': calc_anova\n",
    "                           }"
   ]
  },
  {
   "cell_type": "markdown",
   "metadata": {},
   "source": [
    "# 6. Pearson's Correlation Coeffecient"
   ]
  },
  {
   "cell_type": "markdown",
   "metadata": {},
   "source": [
    "Pearson's correlation coeffecient looks for a linear one-to-one relationship between two vectors, $x$ and $y$, both of size $n$. Closely related vectors have a correlation coeffecient with an absloute value of 1, unrelated data have a correlation coeffecient of 0.\n",
    "\n",
    "The correlation coeffecient between the two vectors is given by\n",
    "$\\begin{align*}\n",
    "r = \\frac{\\sum{xy}}{\\sqrt{\\sum{x^{2}}\\sum{y^{2}}}}\n",
    "\\end{align*}\\tag{5.1}$\n",
    "\n",
    "We can test the hypotheses,\n",
    "$\\begin{matrix}\n",
    "\\textbf{H}_{0} & r = 0 \\\\\n",
    "\\textbf{H}_{1} & x \\neq 0\\\\\n",
    "\\end{matrix} \\tag{5.2}$\n",
    "with a test statistic drawn from the $t$ distribution with $n - 2$ degrees of freedom. The statistic is calculated as\n",
    "$\\begin{align*}\n",
    "t = \\frac{r\\sqrt{n-2}}{\\sqrt{1 - r^{2}}}\n",
    "\\end{align*}\\tag{5.3}$"
   ]
  },
  {
   "cell_type": "markdown",
   "metadata": {},
   "source": [
    "## 6.1 Emperical Test"
   ]
  },
  {
   "cell_type": "markdown",
   "metadata": {},
   "source": [
    "Scipy's `scipy.stats.pearsonr` can calculate the correlation coeffecient *and* a p value for the coeffecient."
   ]
  },
  {
   "cell_type": "code",
   "execution_count": 18,
   "metadata": {
    "collapsed": true
   },
   "outputs": [],
   "source": [
    "def emp_pearson(*samples):\n",
    "    return scipy.stats.pearsonr(*samples)[1]"
   ]
  },
  {
   "cell_type": "markdown",
   "metadata": {},
   "source": [
    "## 6.2 Traditional Power"
   ]
  },
  {
   "cell_type": "markdown",
   "metadata": {},
   "source": [
    "The statistical power can be calculated according to equation (6), where $t(n)$ is given from equation (34)."
   ]
  },
  {
   "cell_type": "code",
   "execution_count": 19,
   "metadata": {
    "collapsed": true
   },
   "outputs": [],
   "source": [
    "def calc_pearson(sample1, sample2, n=[5], alpha=0.05):\n",
    "    r = scipy.stats.pearsonr(sample1, sample2)[0]\n",
    "    eff = (r)/np.sqrt(1-np.square(r))\n",
    "\n",
    "    power = np.array([\n",
    "                scipy.stats.t.cdf(-scipy.stats.t.ppf(1-alpha/2, c-2) + eff*np.sqrt(c-2), c-2)\n",
    "            for c in n])\n",
    "    \n",
    "    return power"
   ]
  },
  {
   "cell_type": "markdown",
   "metadata": {},
   "source": [
    "## 6.3 Simulation Parameters"
   ]
  },
  {
   "cell_type": "markdown",
   "metadata": {},
   "source": [
    "We're going to simulate regressions with slopes between 1 and 5, intercepts between -2 and 2, and normally distributed residuals with standard deviations between 10 and 100. There will be between 60 and 100 observations in each of the samples. We'll use `regress_simulate` to generate the distributions."
   ]
  },
  {
   "cell_type": "code",
   "execution_count": 20,
   "metadata": {
    "collapsed": true
   },
   "outputs": [],
   "source": [
    "def regress_simulate(mu_lim, sigma_lim, count_lims, b_lims):\n",
    "    # Calculates the distribution for the residuals\n",
    "    sigma = np.random.randint(*sigma_lim)\n",
    "    n = np.random.randint(*count_lims)\n",
    "    # Calculates the parameters for the line\n",
    "    m = np.random.randint(*mu_lim)\n",
    "    b = np.random.randint(*b_lims)\n",
    "    \n",
    "    x = np.arange(-n, n, 2)\n",
    "    y = m*x + b + np.random.randn(n)*sigma\n",
    "    \n",
    "    return (sigma, n, m, b), [x, y]"
   ]
  },
  {
   "cell_type": "code",
   "execution_count": 21,
   "metadata": {
    "collapsed": true
   },
   "outputs": [],
   "source": [
    "distributions['pearson'] = {'emp_parameters': {'draw_mode': 'matched'},\n",
    "                            'emp_test_fun': emp_pearson,\n",
    "                            'other_sim_parameters':{'b_lims':[-2, 2]},\n",
    "                            'sim_function': regress_simulate,\n",
    "                            'sim_parameters': [[1, 5], [50, 100], [60, 100]],\n",
    "                            'test_parameters': {},\n",
    "                            'trad_test_fun': calc_pearson,\n",
    "                          }"
   ]
  },
  {
   "cell_type": "markdown",
   "metadata": {},
   "source": [
    "# 7. Chi-Square Test\n",
    "\n",
    "A chi-square test allows us to look at the frequency with which a feature is observed in a sample, or set of samples. Let $f_{ij}$ be the observed frequency of the $j$th feature in the $i$th sample, where there are a total of $r$ samples, $c$ features, and a total of $n$ observations. The $i$th sample contains $R_{i}$ observations, and the $j$th column contains $C_{j}$ observations.\n",
    "\n",
    "$\\begin{align*}\n",
    "R_{i} = \\sum_{j=1}^{c}{f_{ij}}\n",
    "\\end{align*}\\tag{6.1}$\n",
    "\n",
    "$\\begin{align*}\n",
    "C_{j} = \\sum_{i=1}^{c}{f_{ij}}\n",
    "\\end{align*}\\tag{6.2}$\n",
    "\n",
    "$\\begin{align*}\n",
    "n = \\sum_{i=1}^{r}{\\sum_{j=1}^{c}{f_{ij}}}\n",
    "\\end{align*}\\tag{6.3}$\n",
    "\n",
    "Generally, the expected frequency for the $i$th sample and $j$th treatment is $\\hat{f}_{ij}$.\n",
    "\n",
    "$\\begin{align*}\n",
    "\\hat{f}_{ij} = \\frac{R_{i}C_{j}}{n}\n",
    "\\end{align*}\\tag{6.4}$\n",
    "\n",
    "We can also model this as multinomial random variables with parameters, $n$ and $\\{p_{ij}\\textrm{ }\\forall\\textrm{ }i,\\textrm{ }j\\textrm{ }|\\textrm{ }i\\textrm{ }\\epsilon\\textrm{ }[1, r],\\textrm{ }j\\textrm{ }\\epsilon\\textrm{ }[1, c]\\}$ where\n",
    "$\\begin{align*}\n",
    "p_{ij} = \\frac{f_{ij}}{n}\n",
    "\\end{align*}\\tag{6.5}$\n",
    "and\n",
    "$\\begin{align*}\n",
    "\\hat{p}_{ij} &= \\frac{\\hat{f}_{ij}}{n}\\\\\n",
    "&= \\frac{R_{i}C_{j}}{n^{2}}\n",
    "\\end{align*}\\tag{6.6}$\n",
    "\n",
    "We can test the alternative hypotheses, such that\n",
    "$\\begin{matrix}\n",
    "\\textrm{H}_{0} & f_{ij} = \\hat{f}_{ij} & \\forall\\textrm{ }i,\\textrm{ }j & |& i\\textrm{ }\\epsilon\\textrm{ }[1, r]; & j\\textrm{ }\\epsilon\\textrm{ }[1, c] \n",
    "\\\\\n",
    "\\textrm{H}_{1} & f_{ij} \\neq \\hat{f}_{ij} & \\exists\\textrm{ }i,\\textrm{ }j & |& i\\textrm{ }\\epsilon\\textrm{ }[1, r]; & j\\textrm{ }\\epsilon\\textrm{ }[1, c] \n",
    "\\end{matrix}\\tag{6.7}$\n",
    "\n",
    "The test statistic, $x^{2}$ is calculated as\n",
    "\n",
    "$\\begin{align*}\n",
    "x^{2} &= \\sum_{i=1}^{r}{\\sum_{j=1}^{c}{\\frac{\\left (f_{ij} - \\hat{f}_{ij} \\right )^{2}}{\\hat{f}_{ij}}}}\\\\\n",
    "&= n\\sum_{i=1}^{r}{\\sum_{j=1}^{c}{\\frac{\\left (p_{ij} - \\hat{p}_{ij}\\right )^{2}}{\\hat{p}_{ij}}}}\\\\\n",
    "\\end{align*}\\tag{6.8}$\n",
    "\n",
    "The test statistic, $x^{2}$ is drawn from the $\\chi^{2}$ distribution with $\\left(r - 1 \\right)\\left (c - 1 \\right )$ degrees of freedom.\n",
    "\n",
    "There is some value, $c_{ij}$, such that for the noncentrality paramter,\n",
    "$\\begin{align*}\n",
    "c_{ij} = f_{ij} - \\hat{f}_{ij}\n",
    "\\end{align*}\\tag{6.9}$\n",
    "$\\begin{align*}\n",
    "\\sum_{i=1}^{r}{\\sum_{j=1}^{c}{c_{ij}}} = 0\n",
    "\\end{align*}\\tag{6.10}$\n",
    "\n",
    "Let's also define $x_{.i}$ and $x_{.j}$ as\n",
    "$\\begin{align*}\n",
    "x_{.i} &= \\sum_{j=1}^{c}{x_{ij}}\\\\\n",
    "x_{.j} &= \\sum_{i=1}^{r}{x_{ij}}\n",
    "\\end{align*}\\tag{6.11}$\n",
    "\n",
    "The non-centrality parameter for the test is calculated as \n",
    "$\\begin{align*}\n",
    "\\lambda &= \\sum_{i=1}^{r}{\\sum_{j=1}^{c}{\\frac{c_{ij}^{2}}{p_{.i}p_{.j}}}} - \\sum_{i=1}^{r}{\\frac{c_{.i}^{2}}{p_{.i}}} - \\sum_{j=1}^{c}{\\frac{c_{.j}^{2}}{p_{.j}}}\\\\\n",
    "\\end{align*}\\tag{6.12}$\n",
    "\n",
    "## 7.1 Contingency Table"
   ]
  },
  {
   "cell_type": "markdown",
   "metadata": {},
   "source": [
    "We will simulate the distribution as binomial functions, and then convert this to a contingency table, representing the $f_{ij}$ frequencies."
   ]
  },
  {
   "cell_type": "code",
   "execution_count": 22,
   "metadata": {
    "collapsed": true
   },
   "outputs": [],
   "source": [
    "def contingency(*samples):\n",
    "    \"\"\"Converts a binomial variable to a frequency table\"\"\"\n",
    "    observed = np.array([\n",
    "            [(x == 0).sum(), (x == 1).sum()] for x in samples\n",
    "        ])\n",
    "    return observed"
   ]
  },
  {
   "cell_type": "markdown",
   "metadata": {},
   "source": [
    "## 7.2 Empirical Test"
   ]
  },
  {
   "cell_type": "markdown",
   "metadata": {},
   "source": [
    "We can use the scipy function, `scipy.stats.chi2_contingency` as our test."
   ]
  },
  {
   "cell_type": "code",
   "execution_count": 23,
   "metadata": {
    "collapsed": false
   },
   "outputs": [],
   "source": [
    "def emp_chi2(*samples):\n",
    "    observed = contingency(*samples)\n",
    "    try:\n",
    "        return scipy.stats.chi2_contingency(observed)[1]\n",
    "    except:\n",
    "        return np.nan"
   ]
  },
  {
   "cell_type": "markdown",
   "metadata": {},
   "source": [
    "## 7.3 Traditional Power"
   ]
  },
  {
   "cell_type": "markdown",
   "metadata": {},
   "source": [
    "The traditional power is calculated according to equation (3) with the noncentrality paramter given by (32)."
   ]
  },
  {
   "cell_type": "code",
   "execution_count": 65,
   "metadata": {
    "collapsed": false
   },
   "outputs": [
    {
     "name": "stdout",
     "output_type": "stream",
     "text": [
      "0.00032512222164\n"
     ]
    }
   ],
   "source": [
    "params, samples = chi2_simulate([0.5, 0.9], 2, [80, 100])\n",
    "print emp_chi2(*samples)"
   ]
  },
  {
   "cell_type": "code",
   "execution_count": 90,
   "metadata": {
    "collapsed": false
   },
   "outputs": [
    {
     "name": "stdout",
     "output_type": "stream",
     "text": [
      "[[43 56]\n",
      " [15 70]]\n"
     ]
    }
   ],
   "source": [
    "observed = contingency(*samples)\n",
    "print observed"
   ]
  },
  {
   "cell_type": "code",
   "execution_count": 91,
   "metadata": {
    "collapsed": false
   },
   "outputs": [
    {
     "name": "stdout",
     "output_type": "stream",
     "text": [
      "184 [99 85] [ 58 126]\n"
     ]
    }
   ],
   "source": [
    "num_total = observed.sum()\n",
    "row_total = observed.sum(1)\n",
    "col_total = observed.sum(0)\n",
    "\n",
    "print num_total, row_total, col_total"
   ]
  },
  {
   "cell_type": "code",
   "execution_count": 92,
   "metadata": {
    "collapsed": false
   },
   "outputs": [
    {
     "name": "stdout",
     "output_type": "stream",
     "text": [
      "1\n"
     ]
    }
   ],
   "source": [
    " df = (len(row_total) - 1) * (len(col_total) - 1)\n",
    "print df"
   ]
  },
  {
   "cell_type": "code",
   "execution_count": 93,
   "metadata": {
    "collapsed": false
   },
   "outputs": [
    {
     "data": {
      "text/plain": [
       "array([[43, 56],\n",
       "       [15, 70]])"
      ]
     },
     "execution_count": 93,
     "metadata": {},
     "output_type": "execute_result"
    }
   ],
   "source": [
    "observed"
   ]
  },
  {
   "cell_type": "code",
   "execution_count": 94,
   "metadata": {
    "collapsed": false
   },
   "outputs": [
    {
     "data": {
      "text/plain": [
       "array([[ 31.20652174,  67.79347826],\n",
       "       [ 26.79347826,  58.20652174]])"
      ]
     },
     "execution_count": 94,
     "metadata": {},
     "output_type": "execute_result"
    }
   ],
   "source": [
    "expected"
   ]
  },
  {
   "cell_type": "code",
   "execution_count": 110,
   "metadata": {
    "collapsed": false
   },
   "outputs": [],
   "source": [
    "diff = observed / n - expected / n\n",
    "diff\n",
    "dif_p = diff"
   ]
  },
  {
   "cell_type": "code",
   "execution_count": 111,
   "metadata": {
    "collapsed": false
   },
   "outputs": [],
   "source": [
    "noncentrality = (((np.square(dif_p) / exp_p).sum() +\n",
    "                     (np.square(dif_p.sum(1))/exp_p.sum(1)).sum() +\n",
    "                     (np.square(dif_p.sum(0))/exp_p.sum(0)).sum()) *\n",
    "                     counts)"
   ]
  },
  {
   "cell_type": "code",
   "execution_count": 120,
   "metadata": {
    "collapsed": false
   },
   "outputs": [
    {
     "data": {
      "text/plain": [
       "array([ 0.98780774,  1.97561548,  2.96342323,  3.95123097,  4.93903871])"
      ]
     },
     "execution_count": 120,
     "metadata": {},
     "output_type": "execute_result"
    }
   ],
   "source": [
    "noncentrality"
   ]
  },
  {
   "cell_type": "code",
   "execution_count": 146,
   "metadata": {
    "collapsed": false
   },
   "outputs": [
    {
     "data": {
      "text/plain": [
       "array([10, 20, 30, 40, 50])"
      ]
     },
     "execution_count": 146,
     "metadata": {},
     "output_type": "execute_result"
    }
   ],
   "source": [
    "from skbio.stats.power import subsample_power\n",
    "pwr, cnts = subsample_power(lambda x: emp_chi2(*x),\n",
    "                            samples,\n",
    "                            min_counts=10,\n",
    "                            max_counts=55,\n",
    "                            counts_interval=10,\n",
    "                            num_runs=3,\n",
    "                            num_iter=1000)\n",
    "pwr.mean(0)\n",
    "cnts"
   ]
  },
  {
   "cell_type": "code",
   "execution_count": 137,
   "metadata": {
    "collapsed": false
   },
   "outputs": [
    {
     "data": {
      "text/plain": [
       "0.00098206911717528024"
      ]
     },
     "execution_count": 137,
     "metadata": {},
     "output_type": "execute_result"
    }
   ],
   "source": [
    "chi2u"
   ]
  },
  {
   "cell_type": "code",
   "execution_count": 147,
   "metadata": {
    "collapsed": false
   },
   "outputs": [
    {
     "data": {
      "text/plain": [
       "array([10, 20, 30, 40, 50])"
      ]
     },
     "execution_count": 147,
     "metadata": {},
     "output_type": "execute_result"
    }
   ],
   "source": [
    "counts"
   ]
  },
  {
   "cell_type": "code",
   "execution_count": 145,
   "metadata": {
    "collapsed": false
   },
   "outputs": [
    {
     "data": {
      "text/plain": [
       "array([ 0.12196995,  0.21106886,  0.30727292,  0.40337077,  0.4945388 ])"
      ]
     },
     "execution_count": 145,
     "metadata": {},
     "output_type": "execute_result"
    }
   ],
   "source": [
    "power = 1 - scipy.stats.ncx2.cdf(x=chi2l, nc=noncentrality, df=df) + scipy.stats.ncx2.cdf(x=chi2u, nc=noncentrality, df=df)\n",
    "power"
   ]
  },
  {
   "cell_type": "code",
   "execution_count": 132,
   "metadata": {
    "collapsed": false
   },
   "outputs": [
    {
     "name": "stdout",
     "output_type": "stream",
     "text": [
      "Help on method cdf in module scipy.stats._distn_infrastructure:\n",
      "\n",
      "cdf(self, x, *args, **kwds) method of scipy.stats._continuous_distns.ncx2_gen instance\n",
      "    Cumulative distribution function of the given RV.\n",
      "    \n",
      "    Parameters\n",
      "    ----------\n",
      "    x : array_like\n",
      "        quantiles\n",
      "    arg1, arg2, arg3,... : array_like\n",
      "        The shape parameter(s) for the distribution (see docstring of the\n",
      "        instance object for more information)\n",
      "    loc : array_like, optional\n",
      "        location parameter (default=0)\n",
      "    scale : array_like, optional\n",
      "        scale parameter (default=1)\n",
      "    \n",
      "    Returns\n",
      "    -------\n",
      "    cdf : ndarray\n",
      "        Cumulative distribution function evaluated at `x`\n",
      "\n"
     ]
    }
   ],
   "source": [
    "help(scipy.stats.ncx2.cdf)"
   ]
  },
  {
   "cell_type": "code",
   "execution_count": 101,
   "metadata": {
    "collapsed": false
   },
   "outputs": [],
   "source": [
    "def calc_chi2(*samples, **kwargs):\n",
    "    \n",
    "    if 'n' in kwargs:\n",
    "        counts = kwargs['n']\n",
    "    else:\n",
    "        raise ValueError('n is not defined')\n",
    "    \n",
    "    \"\"\"Calculates power for a chi-square distribution\"\"\"\n",
    "    # Gets the observed table\n",
    "    observed = contingency(*samples)\n",
    "    \n",
    "    # Gets the features\n",
    "    n = observed.sum()\n",
    "    ri = observed.sum(1)\n",
    "    cj = observed.sum(0)\n",
    "    \n",
    "    df = (len(ri) - 1)*(len(cj) - 1)\n",
    "    \n",
    "    obs_p = observed / n\n",
    "    \n",
    "    exp_p = np.array([\n",
    "            [r/n * c/n for r in ri] for c in cj\n",
    "        ])\n",
    "    \n",
    "    # Gets the test statistic as a function of n\n",
    "    eff = (np.square(obs_p - exp_p)/exp_p).sum()\n",
    "    \n",
    "    # Gets the non-centrality pieces\n",
    "    off = observed - exp_p*n\n",
    "    noncentrality = ((np.square(off)/exp_pn).sum() - \n",
    "                     (np.square(off.sum(1))/exp_p.sum(1)).sum() - \n",
    "                     (np.square(off.sum(0))/exp_p.sum(0)).sum())\n",
    "    \n",
    "    power = np.array([\n",
    "            1 - scipy.special.chndtr(eff * count - scipy.stats.chi2.ppf(1 - alpha/2, df), \n",
    "                                     df, \n",
    "                                     noncentrality)\n",
    "            for count in counts\n",
    "        ])\n",
    "    return power"
   ]
  },
  {
   "cell_type": "code",
   "execution_count": 102,
   "metadata": {
    "collapsed": false
   },
   "outputs": [
    {
     "data": {
      "text/plain": [
       "5.0238861873148881"
      ]
     },
     "execution_count": 102,
     "metadata": {},
     "output_type": "execute_result"
    }
   ],
   "source": [
    "scipy.stats.chi2.ppf(1 - alpha/2, 1)"
   ]
  },
  {
   "cell_type": "code",
   "execution_count": 103,
   "metadata": {
    "collapsed": false
   },
   "outputs": [
    {
     "data": {
      "text/plain": [
       "0.52775004083754296"
      ]
     },
     "execution_count": 103,
     "metadata": {},
     "output_type": "execute_result"
    }
   ],
   "source": [
    "params , samples = chi2_simulate([0.5, 0.9], 2, [60, 100])\n",
    "emp_chi2(*samples)"
   ]
  },
  {
   "cell_type": "code",
   "execution_count": 134,
   "metadata": {
    "collapsed": false
   },
   "outputs": [
    {
     "data": {
      "text/plain": [
       "[0.0, 0.0, 0.0, 0.0, 0.0]"
      ]
     },
     "execution_count": 134,
     "metadata": {},
     "output_type": "execute_result"
    }
   ],
   "source": [
    "[scipy.stats.chi2.cdf(eff * count - scipy.stats.chi2.ppf(1 - alpha/2, df), 1) for count in counts]"
   ]
  },
  {
   "cell_type": "markdown",
   "metadata": {},
   "source": [
    "## 7.4 Simulation Parameters"
   ]
  },
  {
   "cell_type": "markdown",
   "metadata": {},
   "source": []
  },
  {
   "cell_type": "code",
   "execution_count": 25,
   "metadata": {
    "collapsed": true
   },
   "outputs": [],
   "source": [
    "def chi2_simulate(p_lim, num_p, n_lim):\n",
    "    ps = np.random.uniform(*p_lim, size=num_p)\n",
    "    ns = np.random.randint(*n_lim, size=num_p)\n",
    "    \n",
    "    sample = [np.random.binomial(p=pi, n=1, size=ni) for (ni, pi) in zip(*(ns, ps))]\n",
    "    return (ps, ns), sample"
   ]
  },
  {
   "cell_type": "code",
   "execution_count": 40,
   "metadata": {
    "collapsed": true
   },
   "outputs": [],
   "source": [
    "distributions['chi2'] = {'emp_parameters': {},\n",
    "                         'emp_test_fun': emp_chi2,\n",
    "                         'other_sim_parameters':{},\n",
    "                         'sim_function': chi2_simulate,\n",
    "                         'sim_parameters': [[0.5, 0.9], 2, [60, 100]],\n",
    "                         'test_parameters': {},\n",
    "                         'trad_test_fun': calc_chi2,\n",
    "                          }"
   ]
  },
  {
   "cell_type": "markdown",
   "metadata": {},
   "source": [
    "# 8. Building Simulations"
   ]
  },
  {
   "cell_type": "markdown",
   "metadata": {},
   "source": [
    "We will now build the simulations and look at the results."
   ]
  },
  {
   "cell_type": "code",
   "execution_count": 27,
   "metadata": {
    "collapsed": false,
    "scrolled": false
   },
   "outputs": [
    {
     "name": "stdout",
     "output_type": "stream",
     "text": [
      "pearson\n",
      "ttest_ind\n",
      "ttest_1\n",
      "anova\n"
     ]
    }
   ],
   "source": [
    "import pandas as pd\n",
    "\n",
    "from skbio.stats.power import subsample_power\n",
    "\n",
    "for k, params in distributions.iteritems():\n",
    "    print k\n",
    "    params['pop_params'] = []\n",
    "    params['trad'] = []\n",
    "    params['empr'] = []\n",
    "    params['extr'] = []\n",
    "    for i in xrange(num_rounds):\n",
    "        # Calculates the samples\n",
    "        pop_params, samples = params['sim_function'](*params['sim_parameters'], **params['other_sim_parameters'])\n",
    "        # Calculates the traditional power\n",
    "        trad_power = params['trad_test_fun'](*samples, n=counts, **params['test_parameters'])\n",
    "        #  Calculates the emperical power\n",
    "        empr_power, empr_counts = subsample_power(lambda x: params['emp_test_fun'](*x, **params['test_parameters']),\n",
    "                                                  samples,\n",
    "                                                  min_counts=10,\n",
    "                                                  max_counts=55,\n",
    "                                                  counts_interval=10,\n",
    "                                                  num_runs=3,\n",
    "                                                  num_iter=100,\n",
    "                                                  **params['emp_parameters'])\n",
    "        extr_power = np.squeeze(extrapolate_f(counts, [empr_power, empr_counts], alpha))\n",
    "        # Updates the information\n",
    "        params['pop_params'].append(pop_params)\n",
    "        params['trad'].append(trad_power)\n",
    "        params['empr'].append(empr_power.mean(0))\n",
    "        params['extr'].append(extr_power)\n",
    "\n",
    "dists = pd.DataFrame.from_dict(distributions, orient='index')"
   ]
  },
  {
   "cell_type": "markdown",
   "metadata": {},
   "source": [
    "We'd like to plot the correlation between the traditional power, the emperical power, and the extrapolated power."
   ]
  },
  {
   "cell_type": "code",
   "execution_count": 64,
   "metadata": {
    "collapsed": false,
    "scrolled": true
   },
   "outputs": [
    {
     "data": {
      "image/png": "[encoded data removed]",
      "text/plain": [
       "<matplotlib.figure.Figure at 0x10f345e50>"
      ]
     },
     "metadata": {},
     "output_type": "display_data"
    }
   ],
   "source": [
    "import matplotlib.pyplot as plt\n",
    "%matplotlib inline\n",
    "edge = []\n",
    "\n",
    "fig = plt.figure()\n",
    "for idx, name in enumerate(dists.index.values):\n",
    "    ax1 = fig.add_subplot(2, 4, idx+1)\n",
    "    ax2 = fig.add_subplot(2, 4, idx+5)\n",
    "    ax1.plot(np.hstack(dists.loc[name, 'trad']),\n",
    "             np.hstack(dists.loc[name, 'empr']),\n",
    "             '.', color=[0.75, 0.75, 0.75])\n",
    "    ax2.plot(np.hstack(dists.loc[name, 'trad'])[np.isnan(np.hstack(dists.loc[name, 'extr'])) == False],\n",
    "             np.hstack(dists.loc[name, 'extr'])[np.isnan(np.hstack(dists.loc[name, 'extr'])) == False],\n",
    "             '.', color=[0.75, 0.75, 0.75])\n",
    "    ax3.plot(np.hstack(dists.loc[name, 'empr'])[np.isnan(np.hstack(dists.loc[name, 'extr'])) == False],\n",
    "             np.hstack(dists.loc[name, 'extr'])[np.isnan(np.hstack(dists.loc[name, 'extr'])) == False],\n",
    "             '.', color=[0.75, 0.75, 0.75])\n",
    "    ax1.plot(np.arange(0, 1.1, 0.1), np.arange(0, 1.1, 0.1), 'k-')\n",
    "    ax1.set_xlim([0, 1])\n",
    "    ax1.set_ylim([0, 1])\n",
    "    ax2.plot(np.arange(0, 1.1, 0.1), np.arange(0, 1.1, 0.1), 'k-')\n",
    "    ax2.set_xlim([0, 1])\n",
    "    ax2.set_ylim([0, 1])\n",
    "    ax3.plot(np.arange(0, 1.1, 0.1), np.arange(0, 1.1, 0.1), 'k-')\n",
    "    ax3.set_xlim([0, 1])\n",
    "    ax3.set_ylim([0, 1])\n",
    "    ax1.set_title(name.replace('_', ' '))\n",
    "    \n",
    "    if not idx == 0:\n",
    "        ax1.set_yticklabels('')\n",
    "        ax2.set_yticklabels('')\n",
    "    else:\n",
    "        ax1.set_yticklabels(ax1.get_yticks(), size=11)\n",
    "        ax1.set_ylabel('Emperical', size=13)\n",
    "        ax2.set_yticklabels(ax2.get_yticks(), size=11)\n",
    "        ax2.set_ylabel('Extrapolated', size=13)\n",
    "        \n",
    "    ax1.set_xticklabels('')\n",
    "    ax2.set_xticklabels(ax2.get_xticks(), size=11)\n",
    "    \n",
    "    if idx == 1:\n",
    "        l = ax2.set_xlabel('Traditional', size=13)\n",
    "        l.set_position((1.1, 0.5))\n",
    "    \n",
    "    fig.set_size_inches((7.5, 4))\n",
    "    \n",
    "#     m, b, r2, p, s = scipy.stats.linregress(np.hstack(dists.loc[name, 'trad']),\n",
    "#                                           np.hstack(dists.loc[name, 'empr']))\n",
    "#     ax.text(0.95, 0.05, 'r$^2$ = %1.3f\\nm= %1.3f' % (r2, m), ha='right')\n",
    "\n",
    "fig.savefig('/Users/jwdebelius/Desktop/model_check.pdf')"
   ]
  },
  {
   "cell_type": "markdown",
   "metadata": {},
   "source": [
    "#References\n",
    "\n"
   ]
  },
  {
   "cell_type": "markdown",
   "metadata": {},
   "source": [
    "1. <a id=\"lui2014\"></a>Lui, X.S. (2014) *[Statistical power analysis for the social and behavioral sciences: basic and advanced techniques](http://roger.ucsd.edu/search~S9?/Xstatistical%20power&=&Da=&Db=&searchscope=9&p=&SORT=D/Xstatistical%20power&=&Da=&Db=&searchscope=9&p=&SORT=D&SUBKEY=statistical+power/1%2C861%2C861%2CE/frameset&FF=Xstatistical%20power&=&Da=&Db=&searchscope=9&p=&SORT=D&1%2C1%2C)*. New York: Routledge. 378 pg.\n",
    "2. <a id=\"zar1999\"></a>Zar, J.H. (1999) \"Multisample Hypothesis: The Analysis of Variance\". Ch. 10. *Biostatistical Analysis*. 4th Ed. Upper Saddle River: Prentice Hall."
   ]
  }
 ],
 "metadata": {
  "kernelspec": {
   "display_name": "Python 2",
   "language": "python",
   "name": "python2"
  },
  "language_info": {
   "codemirror_mode": {
    "name": "ipython",
    "version": 2
   },
   "file_extension": ".py",
   "mimetype": "text/x-python",
   "name": "python",
   "nbconvert_exporter": "python",
   "pygments_lexer": "ipython2",
   "version": "2.7.3"
  }
 },
 "nbformat": 4,
 "nbformat_minor": 0
}
