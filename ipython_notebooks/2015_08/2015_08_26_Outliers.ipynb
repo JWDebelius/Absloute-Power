{
 "cells": [
  {
   "cell_type": "markdown",
   "metadata": {},
   "source": [
    "**Author**: J W Debelius<br/>\n",
    "**Date**: 26 August 2015<br/>\n",
    "**virtualenv**: power play"
   ]
  },
  {
   "cell_type": "code",
   "execution_count": 11,
   "metadata": {
    "collapsed": false
   },
   "outputs": [
    {
     "data": {
      "application/javascript": [
       "IPython.load_extensions('calico-spell-check', 'calico-document-tools')"
      ],
      "text/plain": [
       "<IPython.core.display.Javascript object>"
      ]
     },
     "metadata": {},
     "output_type": "display_data"
    }
   ],
   "source": [
    "%%javascript\n",
    "IPython.load_extensions('calico-spell-check', 'calico-document-tools')"
   ]
  },
  {
   "cell_type": "markdown",
   "metadata": {},
   "source": [
    "The purpose of this notebook is to test the effect of outliers on traditional power calculations, on emperical power calculations, and on extrapolated power. \n",
    "\n",
    "This notebook will focus on using a Case I t test as a model for introducing outliers. We will test the alternative hypotheses that\n",
    "<center><strong>H</strong><sub>0</sub>: $\\bar{x} = 0$<br>\n",
    "<strong>H</strong><sub>1</sub>: $\\bar{x} \\neq 0$</center>\n",
    "for some sample with mean $\\bar{x}$ and standard deviation, $s$, drawn from an underlying population with mean, $\\mu$ ($\\mu \\neq 0$) and variance $\\sigma^{2}$. "
   ]
  },
  {
   "cell_type": "code",
   "execution_count": 12,
   "metadata": {
    "collapsed": true
   },
   "outputs": [],
   "source": [
    "from __future__ import division\n",
    "\n",
    "import matplotlib.pyplot as plt\n",
    "import numpy as np\n",
    "import pandas as pd\n",
    "import scipy.stats\n",
    "import statsmodels.api as sm\n",
    "from statsmodels.formula.api import ols\n",
    "\n",
    "import absloute_power.utils as ap\n",
    "\n",
    "from absloute_power.traditional import calc_ttest_1\n",
    "from skbio.stats.power import subsample_power"
   ]
  },
  {
   "cell_type": "markdown",
   "metadata": {},
   "source": [
    "We can test these hypotheses using the scipy function `scipy.stats.ttest_1samp`."
   ]
  },
  {
   "cell_type": "code",
   "execution_count": 3,
   "metadata": {
    "collapsed": false
   },
   "outputs": [],
   "source": [
    "def emp_ttest_1(samples):\n",
    "    return scipy.stats.ttest_1samp(samples[0], 0)[1]"
   ]
  },
  {
   "cell_type": "markdown",
   "metadata": {},
   "source": [
    "In the traditional model of power, the effect size for a sample given by\n",
    "$\\begin{align*}\n",
    "\\lambda &=\\frac{(\\bar{x} - x)}{s}\\\\\n",
    "&= \\frac{\\bar{x}}{s}\\\\\n",
    "&= \\frac{t}{\\sqrt{n}}\n",
    "\\end{align*}\\tag{1}$"
   ]
  },
  {
   "cell_type": "markdown",
   "metadata": {},
   "source": [
    "We're going to compare the ability of the traditional post-hoc power, emperical post-hoc power and extrapolated post-hoc power to re-capiluate the traditional power calculation. We'll approach this by simuling a random population with a mean, $\\mu$ and standard devation, $\\sigma$, and then drawing a random sample of size $n$ with mean $\\bar{x}$ and standard devation $s$."
   ]
  },
  {
   "cell_type": "code",
   "execution_count": 4,
   "metadata": {
    "collapsed": true
   },
   "outputs": [],
   "source": [
    "def ttest_1_simulate(mu_lim, sigma_lim, count_lims):\n",
    "    # Gets the distribution parameters\n",
    "    mu = np.random.randint(*mu_lim)\n",
    "    sigma = np.random.randint(*sigma_lim)\n",
    "    n = np.random.randint(*count_lims)\n",
    "    \n",
    "    dist = mu + np.random.randn(n) * sigma\n",
    "\n",
    "    # Draws a sample that fits the parameters\n",
    "    return [mu, sigma, n], dist"
   ]
  },
  {
   "cell_type": "markdown",
   "metadata": {},
   "source": [
    "We can design a function that will let us \"spike in\" outliers: points drawn from a distribution `offset` units above or below the central mean. "
   ]
  },
  {
   "cell_type": "code",
   "execution_count": 5,
   "metadata": {
    "collapsed": true
   },
   "outputs": [],
   "source": [
    "def add_outliers(dist, num_out, offset=50):\n",
    "    # Draws the offset mean\n",
    "    if num_out > 0:\n",
    "        index = np.arange(0, len(dist))\n",
    "        # Selects the points ot be outliers\n",
    "        outlier_pos = np.random.choice(np.arange(0, len(dist)), num_out, replace=False)\n",
    "        # Updates the distribution\n",
    "        dist[outlier_pos] = dist[outlier_pos] + offset\n",
    "    \n",
    "    return [num_out, offset], [dist]"
   ]
  },
  {
   "cell_type": "markdown",
   "metadata": {},
   "source": [
    "We're going to use the function to simulate several distributions with varying numbers of outliers. We're going to draw distributions with means between 2 and 10, standard deviations between 5 and 15, and at 120 points."
   ]
  },
  {
   "cell_type": "code",
   "execution_count": 6,
   "metadata": {
    "collapsed": true
   },
   "outputs": [],
   "source": [
    "mu_lims = [1, 10]\n",
    "sigma_lims = [10, 25]\n",
    "num_counts = 200\n",
    "count_lims = [num_counts, num_counts+1]"
   ]
  },
  {
   "cell_type": "markdown",
   "metadata": {},
   "source": [
    "We'll simulate the distributions so they have no outliers, 1%, 2%, 5%, 10% and 20% outliers. The offset mean can fall between -50 and 50 units offset from the original distribution."
   ]
  },
  {
   "cell_type": "code",
   "execution_count": 16,
   "metadata": {
    "collapsed": false
   },
   "outputs": [],
   "source": [
    "num_outliers = (np.concatenate((np.array([0, 1]), np.array([0.01, 0.02, 0.05, 0.1, 0.2])*num_counts))).astype(int)\n",
    "len_out = len(num_outliers)\n",
    "offsets = [-50, -25, -10, -5, -2.5, -1, -0.5, 0.5, 1, 5, 10, 25, 50, 100]"
   ]
  },
  {
   "cell_type": "markdown",
   "metadata": {},
   "source": [
    "When we draw traditional and emperical power, we'll do it starting at 5 samples up to 100 samples, counting by 5s. We draw 100 samples to calculate power for each point, and repeat this three times at each point along the curve. We'll use an alpha value of 0.05. And, we'll simulate 1000 distributions for each number of outliers."
   ]
  },
  {
   "cell_type": "code",
   "execution_count": 17,
   "metadata": {
    "collapsed": false
   },
   "outputs": [],
   "source": [
    "counts = np.arange(10, 101, 10)\n",
    "alpha=0.05\n",
    "subsample_params = {'min_counts': 10,\n",
    "                    'max_counts': 101,\n",
    "                    'counts_interval': 10,\n",
    "                    'num_runs': 3,\n",
    "                    'num_iter': 100,\n",
    "                    'alpha_pwr': alpha}\n",
    "num_reps = 100\n",
    "known_mean = 0"
   ]
  },
  {
   "cell_type": "markdown",
   "metadata": {},
   "source": [
    "Let's build the simulated populations."
   ]
  },
  {
   "cell_type": "code",
   "execution_count": 18,
   "metadata": {
    "collapsed": false
   },
   "outputs": [],
   "source": [
    "watch = {n: {o: {'pop_params': [], 'base_d': [], 'samp_d': [], 'pseudo_d': []} for o in num_outliers} for n in offsets}\n",
    "for n in offsets:\n",
    "    for o in num_outliers:\n",
    "        v = watch[n][o]\n",
    "        for i in xrange(num_reps):\n",
    "            # Draws a sample distribution\n",
    "            params, sample = ttest_1_simulate(mu_lims, sigma_lims, count_lims)\n",
    "            # Calculates cohens_d on the base power\n",
    "            base_d = ap.cohen_d_one_sample(sample, known_mean)\n",
    "            # calculates the base power\n",
    "            trad_power = \n",
    "            # Spikes in outliers, if necessary\n",
    "            (num_out, offset), dist = add_outliers(sample, o * base_d, n * params[0] / params[1])\n",
    "            params.append(num_out)\n",
    "            params.append(offset)\n",
    "            # Calculates the effect using the tradtional method\n",
    "            samp_d = ap.cohen_d_one_sample(dist[0], known_mean)\n",
    "            #  Calculates the emperical power\n",
    "            empr_power, empr_counts = subsample_power(emp_ttest_1,\n",
    "                                                      dist,\n",
    "                                                      **subsample_params)\n",
    "            # Calculates the pseudo-effect and confidence interval\n",
    "            pseudo_d = ap.z_effect(empr_counts, empr_power)\n",
    "\n",
    "            #Updates watch\n",
    "            v['pop_params'].append(params)\n",
    "            v['base_power'].append(trad_power)\n",
    "            v['samp_power'].append(samp_power)\n",
    "            v['empr_power'].append(empr_power)\n",
    "            v['extr_power'].append(extz_power)\n",
    "        watch[n][o] = v"
   ]
  },
  {
   "cell_type": "code",
   "execution_count": 27,
   "metadata": {
    "collapsed": false
   },
   "outputs": [
    {
     "data": {
      "text/html": [
       "<div>\n",
       "<table border=\"1\" class=\"dataframe\">\n",
       "  <thead>\n",
       "    <tr style=\"text-align: right;\">\n",
       "      <th></th>\n",
       "      <th>0</th>\n",
       "      <th>1</th>\n",
       "      <th>2</th>\n",
       "      <th>4</th>\n",
       "      <th>10</th>\n",
       "      <th>20</th>\n",
       "      <th>40</th>\n",
       "    </tr>\n",
       "  </thead>\n",
       "  <tbody>\n",
       "    <tr>\n",
       "      <th>base_d</th>\n",
       "      <td>[0.364001443907, 0.193749491021, 0.26430067804...</td>\n",
       "      <td>[0.375280978073, 0.199595976079, 0.43206980117...</td>\n",
       "      <td>[0.14955660616, 0.718463510189, 0.76702284747,...</td>\n",
       "      <td>[0.490614409552, 0.281969000385, 0.51147485681...</td>\n",
       "      <td>[0.357163418442, 0.234417939944, 0.06514328178...</td>\n",
       "      <td>[0.475587547142, 0.0697064805078, 0.0274240142...</td>\n",
       "      <td>[0.218846089044, 0.165929439023, 0.46606780284...</td>\n",
       "    </tr>\n",
       "    <tr>\n",
       "      <th>pop_params</th>\n",
       "      <td>[[9, 23, 200, 0.0, -19.5652173913], [4, 20, 20...</td>\n",
       "      <td>[[8, 20, 200, 0.375280978073, -20.0], [3, 18, ...</td>\n",
       "      <td>[[1, 10, 200, 0.29911321232, -5.0], [8, 11, 20...</td>\n",
       "      <td>[[4, 10, 200, 1.96245763821, -20.0], [4, 12, 2...</td>\n",
       "      <td>[[5, 17, 200, 3.57163418442, -14.7058823529], ...</td>\n",
       "      <td>[[6, 13, 200, 9.51175094284, -23.0769230769], ...</td>\n",
       "      <td>[[2, 10, 200, 8.75384356175, -10.0], [3, 15, 2...</td>\n",
       "    </tr>\n",
       "    <tr>\n",
       "      <th>pseudo_d</th>\n",
       "      <td>[0.527566620768, 0.23183979155, 0.365778070496...</td>\n",
       "      <td>[0.537451797498, 0.249749319542, 0.61168225394...</td>\n",
       "      <td>[0.173239569144, 0.971327740144, 0.99476815254...</td>\n",
       "      <td>[0.685905756981, 0.372422266095, 0.70968909037...</td>\n",
       "      <td>[0.511727593342, 0.309774639165, 0.04978939975...</td>\n",
       "      <td>[0.539687987885, 0.0672387280271, 0.0602219566...</td>\n",
       "      <td>[0.233866522128, 0.169657690857, 0.31775729085...</td>\n",
       "    </tr>\n",
       "    <tr>\n",
       "      <th>samp_d</th>\n",
       "      <td>[0.364001443907, 0.193749491021, 0.26430067804...</td>\n",
       "      <td>[0.375280978073, 0.199595976079, 0.43206980117...</td>\n",
       "      <td>[0.14955660616, 0.690813234615, 0.729826828938...</td>\n",
       "      <td>[0.476129256564, 0.275112025965, 0.49536751196...</td>\n",
       "      <td>[0.341853392337, 0.229333948046, 0.06514328178...</td>\n",
       "      <td>[0.382758817611, 0.0673348177764, 0.0274240142...</td>\n",
       "      <td>[0.179361575156, 0.146009614994, 0.22239693649...</td>\n",
       "    </tr>\n",
       "  </tbody>\n",
       "</table>\n",
       "</div>"
      ],
      "text/plain": [
       "                                                           0   \\\n",
       "base_d      [0.364001443907, 0.193749491021, 0.26430067804...   \n",
       "pop_params  [[9, 23, 200, 0.0, -19.5652173913], [4, 20, 20...   \n",
       "pseudo_d    [0.527566620768, 0.23183979155, 0.365778070496...   \n",
       "samp_d      [0.364001443907, 0.193749491021, 0.26430067804...   \n",
       "\n",
       "                                                           1   \\\n",
       "base_d      [0.375280978073, 0.199595976079, 0.43206980117...   \n",
       "pop_params  [[8, 20, 200, 0.375280978073, -20.0], [3, 18, ...   \n",
       "pseudo_d    [0.537451797498, 0.249749319542, 0.61168225394...   \n",
       "samp_d      [0.375280978073, 0.199595976079, 0.43206980117...   \n",
       "\n",
       "                                                           2   \\\n",
       "base_d      [0.14955660616, 0.718463510189, 0.76702284747,...   \n",
       "pop_params  [[1, 10, 200, 0.29911321232, -5.0], [8, 11, 20...   \n",
       "pseudo_d    [0.173239569144, 0.971327740144, 0.99476815254...   \n",
       "samp_d      [0.14955660616, 0.690813234615, 0.729826828938...   \n",
       "\n",
       "                                                           4   \\\n",
       "base_d      [0.490614409552, 0.281969000385, 0.51147485681...   \n",
       "pop_params  [[4, 10, 200, 1.96245763821, -20.0], [4, 12, 2...   \n",
       "pseudo_d    [0.685905756981, 0.372422266095, 0.70968909037...   \n",
       "samp_d      [0.476129256564, 0.275112025965, 0.49536751196...   \n",
       "\n",
       "                                                           10  \\\n",
       "base_d      [0.357163418442, 0.234417939944, 0.06514328178...   \n",
       "pop_params  [[5, 17, 200, 3.57163418442, -14.7058823529], ...   \n",
       "pseudo_d    [0.511727593342, 0.309774639165, 0.04978939975...   \n",
       "samp_d      [0.341853392337, 0.229333948046, 0.06514328178...   \n",
       "\n",
       "                                                           20  \\\n",
       "base_d      [0.475587547142, 0.0697064805078, 0.0274240142...   \n",
       "pop_params  [[6, 13, 200, 9.51175094284, -23.0769230769], ...   \n",
       "pseudo_d    [0.539687987885, 0.0672387280271, 0.0602219566...   \n",
       "samp_d      [0.382758817611, 0.0673348177764, 0.0274240142...   \n",
       "\n",
       "                                                           40  \n",
       "base_d      [0.218846089044, 0.165929439023, 0.46606780284...  \n",
       "pop_params  [[2, 10, 200, 8.75384356175, -10.0], [3, 15, 2...  \n",
       "pseudo_d    [0.233866522128, 0.169657690857, 0.31775729085...  \n",
       "samp_d      [0.179361575156, 0.146009614994, 0.22239693649...  "
      ]
     },
     "execution_count": 27,
     "metadata": {},
     "output_type": "execute_result"
    }
   ],
   "source": [
    "v2 = pd.DataFrame(watch[-50])\n",
    "v2"
   ]
  },
  {
   "cell_type": "code",
   "execution_count": 34,
   "metadata": {
    "collapsed": false
   },
   "outputs": [
    {
     "data": {
      "text/plain": [
       "[<matplotlib.lines.Line2D at 0x110330f50>]"
      ]
     },
     "execution_count": 34,
     "metadata": {},
     "output_type": "execute_result"
    },
    {
     "data": {
      "image/png": "[encoded data removed]",
      "text/plain": [
       "<matplotlib.figure.Figure at 0x10c5ead50>"
      ]
     },
     "metadata": {},
     "output_type": "display_data"
    }
   ],
   "source": [
    "% matplotlib inline\n",
    "plt.plot(np.arange(0, 2.1, 0.1), np.arange(0, 2.1, 0.1), 'k-')\n",
    "plt.plot(v2.loc['base_d', 0], v2.loc['pseudo_d', 0], 'x')\n",
    "plt.plot(v2.loc['base_d', 0], v2.loc['samp_d', 0], 'x')"
   ]
  },
  {
   "cell_type": "code",
   "execution_count": 35,
   "metadata": {
    "collapsed": false
   },
   "outputs": [
    {
     "data": {
      "text/plain": [
       "[<matplotlib.lines.Line2D at 0x1103bb750>]"
      ]
     },
     "execution_count": 35,
     "metadata": {},
     "output_type": "execute_result"
    },
    {
     "data": {
      "image/png": "[encoded data removed]",
      "text/plain": [
       "<matplotlib.figure.Figure at 0x11033a350>"
      ]
     },
     "metadata": {},
     "output_type": "display_data"
    }
   ],
   "source": [
    "plt.plot(np.arange(0, 2.1, 0.1), np.arange(0, 2.1, 0.1), 'k-')\n",
    "plt.plot(v2.loc['base_d', 1], v2.loc['pseudo_d', 1], 'x')\n",
    "plt.plot(v2.loc['base_d', 1], v2.loc['samp_d', 1], 'x')"
   ]
  },
  {
   "cell_type": "code",
   "execution_count": 36,
   "metadata": {
    "collapsed": false
   },
   "outputs": [
    {
     "data": {
      "text/plain": [
       "[<matplotlib.lines.Line2D at 0x1105cf350>]"
      ]
     },
     "execution_count": 36,
     "metadata": {},
     "output_type": "execute_result"
    },
    {
     "data": {
      "image/png": "[encoded data removed]",
      "text/plain": [
       "<matplotlib.figure.Figure at 0x1103a70d0>"
      ]
     },
     "metadata": {},
     "output_type": "display_data"
    }
   ],
   "source": [
    "plt.plot(np.arange(0, 2.1, 0.1), np.arange(0, 2.1, 0.1), 'k-')\n",
    "plt.plot(v2.loc['base_d', 10], v2.loc['pseudo_d', 10], 'x')\n",
    "plt.plot(v2.loc['base_d', 10], v2.loc['samp_d', 10], 'x')"
   ]
  },
  {
   "cell_type": "code",
   "execution_count": null,
   "metadata": {
    "collapsed": true
   },
   "outputs": [],
   "source": []
  }
 ],
 "metadata": {
  "kernelspec": {
   "display_name": "Python 2",
   "language": "python",
   "name": "python2"
  },
  "language_info": {
   "codemirror_mode": {
    "name": "ipython",
    "version": 2
   },
   "file_extension": ".py",
   "mimetype": "text/x-python",
   "name": "python",
   "nbconvert_exporter": "python",
   "pygments_lexer": "ipython2",
   "version": "2.7.3"
  }
 },
 "nbformat": 4,
 "nbformat_minor": 0
}
