{
 "cells": [
  {
   "cell_type": "markdown",
   "metadata": {},
   "source": [
    "**Author**: J W Debelius<br>\n",
    "**Date**: 25 August 2015<br>\n",
    "**virtualenv**: power_play"
   ]
  },
  {
   "cell_type": "code",
   "execution_count": 1,
   "metadata": {
    "collapsed": false
   },
   "outputs": [
    {
     "data": {
      "application/javascript": [
       "IPython.load_extensions('calico-spell-check', 'calico-document-tools')"
      ],
      "text/plain": [
       "<IPython.core.display.Javascript object>"
      ]
     },
     "metadata": {},
     "output_type": "display_data"
    }
   ],
   "source": [
    "%%javascript\n",
    "IPython.load_extensions('calico-spell-check', 'calico-document-tools')"
   ]
  },
  {
   "cell_type": "markdown",
   "metadata": {},
   "source": [
    "Statistical power measures the probability of finding a significant result of a statistical test, for a given critical value, sample size, and effect size. Traditionally, power has been defined using test-based methods, which have been discussed extensively elsewhere\n",
    "% \\cite{Liu2014}.\n",
    "\n",
    "Let $\\{S_{1}, S_{2}, ... S_{k}\\}$ be a set of samples where the $i$th sample contains $N_{i}$ observations and is characterized by a parameter, $X_{i}$. The sample paramter, $X_{i}$ approximates a paramter for the underlying population, $\\chi_{i}$. Supposed we wish to test the alternative hypotheses, \n",
    "\n",
    "$\\begin{matrix}\n",
    "\\textbf{H}_{0} & \\chi_{i} = \\chi_{j} & \\forall \\textrm{ }i, j \\textrm{ } | \\textrm{ }i \\neq j,\\textrm{ }\\{i, j\\textrm{ }\\epsilon\\textrm{ }\\mathbb{N},\\textrm{ }1\\leq i, j \\leq k\\}\\\\\n",
    "\\textbf{H}_{1} & \\chi_{i} \\neq \\chi_{j} & \\exists\\textrm{ }i, j \\textrm{ } | \\textrm{ }i \\neq j,\\textrm{ }\\{i, j\\textrm{ }\\epsilon\\textrm{ }\\mathbb{N},\\textrm{ }1\\leq i, j \\leq k\\}\\\\\n",
    "\\end{matrix}\\tag{1}$\n",
    "\n",
    "There are four possible outcomes of the test. \n",
    "\n",
    "We can use a statistical test, $\\textbf{F}$, to examine the probability of a false negative. We evaluate $\\textbf{F}(S_{1}, S_{2}, ... S_{k}) = a$, where $a$ is drawn from the $A$ distribution with parameters $c$. The probability of a False Negative, $p_{a}$ is $A(a, c)$. We reject $\\textbf{H}_{0}$ when $p_{a}$ is less than some predetermined critical value, $\\alpha$. So, a statistical test can measure the probability of a false negative.\n",
    "\n",
    "The probability of a false positive is harder to measure by a direct test. This value is typically defined for each test. When the null hypothesis is true, $a$ is drawn from an $A$ distribution with parameters, $c$. If the alternative hypothesis is true, $a'$ should be drawn from an $A'$ distribution, characterized by parameters $c$ and a noncentrality parameter, $\\lambda$. The two-tailed probability of a false negative, $\\beta$ is given by equation ().\n",
    "$\\begin{align*}\n",
    "\\beta = P \\left [A' < a_{1 - \\alpha/2} \\right ] - P \\left [A' < a_{\\alpha/2} \\right ]\n",
    "\\end{align*}\\tag{2}$\n",
    "\n",
    "Statistical Power is defined as \n",
    "$\\begin{align*}\n",
    "PWR = 1 - \\beta\n",
    "\\end{align*}\\tag{3}$\n",
    "which allows us to rewrite equation () as equation ().\n",
    "$\\begin{align*}\n",
    "PWR &= 1 - \\beta\\\\\n",
    "&= 1 - \\left ( P \\left [A' < a_{1 - \\alpha/2} \\right ] - P \\left [A' < a_{\\alpha/2} \\right ] \\right )\\\\\n",
    "&= 1 - P \\left [A' < a_{1 - \\alpha/2} \\right ] + P \\left [A' < a_{\\alpha/2} \\right ]\\\\\n",
    "&= 1 - \\Phi_{A'} \\left (a_{1 - \\alpha/2}(c), c, \\lambda \\right ) + \\Phi_{A'} \\left (a_{\\alpha/2}(c), c, \\lambda \\right )\\\\\n",
    "\\end{align*}\\tag{4}$\n",
    "Where $\\Phi_{A'}$ is the cumulative probability distribution function from the non-central $A$ distribution with non centrality parameter, $\\lambda$.\n",
    "\n",
    "Let's consider for a difference in means between two samples of size $n$ drawn from defined populations with means $\\mu_{1}$ and $\\mu_{2}$ and the same variance, $\\sigma^{2}$. \n",
    "\n",
    "$\\begin{matrix}\n",
    "\\textbf{H}_{0} & \\mu_{1} = \\mu_{2}\\\\\n",
    "\\textbf{H}_{1} & \\mu_{1} \\neq \\mu_{2}\\\\\n",
    "\\end{matrix}\\tag{5}$\n",
    "\n",
    "We can test these hypotheses using a $Z$ test. For a $Z$ test, the test statistic, $z$ is calculated as\n",
    "$\\begin{align*}\n",
    "z = \\sqrt{\\frac{n}{2}}\\frac{\\left (\\mu_{1} - \\mu_{2}\\right )}{\\sigma}\n",
    "\\end{align*}\\tag{6}$\n",
    "\n",
    "If the alternative hypothesis is true, the noncentrality parameter, $\\lambda_{z}$ is given by\n",
    "$\\begin{align*}\n",
    "\\lambda_{z} = \\left ( \\frac{\\mu_{1} - \\mu_{2}}{\\sigma} \\right )\\sqrt{\\frac{n}{2}}\n",
    "\\end{align*}\\tag{7}$\n",
    "\n",
    "The power, as described by equation () can be calculating by substituting in equations (), ().\n",
    "\n",
    "$\\begin{align*}\n",
    "PWR &= 1 - \\Phi_{Z'}\\left (z_{1 - \\alpha/2}, \\lambda_{z} \\right ) + \\Phi_{Z'} \\left (z_{\\alpha/2}, \\lambda_{z} \\right )\\\\\n",
    "&= \\Phi_{Z} \\left (\\lambda_{z} - z_{1 - \\alpha/2} \\right ) + \\Phi_{Z} \\left ( z_{\\alpha/2} - \\lambda_{z} \\right )\\\\\n",
    "&= \\Phi_{Z} \\left (\\sqrt{\\lambda_{z}^{2}} - z_{1 - \\alpha/2} \\right )\n",
    "\\end{align*}\\tag{8}$\n",
    "\n",
    "We can use equations (), (), and () to say that for a two-tailed test,\n",
    "$\\begin{align*}\n",
    "1 - \\beta &= \\Phi_{Z} \\left (\\sqrt{\\lambda_{z}^{2}} - z_{1 - \\alpha/2} \\right )\\\\\n",
    "z_{1 - \\beta} &= \\sqrt{\\lambda_{z}^{2}} - z_{1 - \\alpha/2}\\\\\n",
    "z_{1 - \\beta} + z_{1 - \\alpha/2} &= \\sqrt{\\frac{n}{2}\\left (\\frac{\\mu_{1} - \\mu_{2}}{\\sigma} \\right )^{2}}\\\\\n",
    "\\end{align*}\\tag{9}$\n",
    "\n",
    "Cohen defined the standard effect size, $\\delta$ for a Z test as equation ().\n",
    "$\\begin{align*}\n",
    "\\delta_{z} = \\frac{\\mu_{1} - \\mu_{2}}{\\sigma}\n",
    "\\end{align*}\\tag{10}$\n",
    "\n",
    "We can substitute $\\delta_{z}$ into equation (\\ref{eq:sub_pwr}), which lets us approximate the effect size as a function of the power and number of observations.\n",
    "$\\begin{align*}\n",
    "z_{1 - \\beta} + z_{1 - \\alpha/2} = \\sqrt{\\frac{\\delta_{z}^{2}n}{2}}\n",
    "\\end{align*}\\tag{11}$\n",
    "$\\begin{align*}\n",
    "\\delta_{z} = \\sqrt{\\frac{2 \\left (z_{1 - \\beta} + z_{1 - \\alpha/2} \\right )^{2}}{n}}\n",
    "\\end{align*}\\tag{12}$\n",
    "\n",
    "We can estimate a pseudo effect size, $\\widehat{\\delta}_{x}$, based on the z distribution and equation ()."
   ]
  },
  {
   "cell_type": "code",
   "execution_count": 3,
   "metadata": {
    "collapsed": false
   },
   "outputs": [],
   "source": [
    "import matplotlib.pyplot as plt\n",
    "import numpy as np\n",
    "import scipy.stats as stats\n",
    "import scipy.special as sp\n",
    "import absloute_power.traditional as trad\n",
    "import absloute_power.utils as ap\n",
    "\n",
    "from scipy.stats import norm as Z\n",
    "\n",
    "% matplotlib inline"
   ]
  },
  {
   "cell_type": "markdown",
   "metadata": {},
   "source": [
    "We're going to compare the estimted z effect to Cohen's D (citation needed). This is used as a traditional effect size."
   ]
  },
  {
   "cell_type": "code",
   "execution_count": 4,
   "metadata": {
    "collapsed": true
   },
   "outputs": [],
   "source": [
    "def get_cohen_ttest_ind(sample1, sample2):\n",
    "    x1, s1, n1 = sample1.mean(), sample1.std(), len(sample1)\n",
    "    x2, s2, n2 = sample2.mean(), sample2.std(), len(sample2)\n",
    "    \n",
    "    spool = np.sqrt(((n1-1) * np.square(s1) + (n2 - 1) * np.square(s2)) / (n1 + n2 - 2))\n",
    "    return (x1 - x2) / spool"
   ]
  },
  {
   "cell_type": "code",
   "execution_count": 5,
   "metadata": {
    "collapsed": true
   },
   "outputs": [],
   "source": [
    "def cohen_ttest_1(sample1, x0):\n",
    "    x1, s1, n1 = sample1.mean(), sample1.std(), len(sample1)\n",
    "    return (x1 - x0) / s1"
   ]
  },
  {
   "cell_type": "markdown",
   "metadata": {},
   "source": [
    "Finally, we're going to set up a way to simulate the distributions. We're going to use a two-sample t test initially for this validation."
   ]
  },
  {
   "cell_type": "code",
   "execution_count": 34,
   "metadata": {
    "collapsed": true
   },
   "outputs": [],
   "source": [
    "def emp_ttest_ind(sample1, sample2):\n",
    "    return scipy.stats.ttest_ind(sample1, sample2)[1]"
   ]
  },
  {
   "cell_type": "code",
   "execution_count": 7,
   "metadata": {
    "collapsed": true
   },
   "outputs": [],
   "source": [
    "def ttest_ind_simulate(mu_lim, sigma_lim, counts_lims):\n",
    "    \"\"\"...\"\"\"\n",
    "    # Gets the distribution paramters\n",
    "    mu1, mu2 = np.random.randint(*mu_lim, size=2)\n",
    "    sigma1, sigma2 = np.random.randint(*sigma_lim, size=2)\n",
    "    n = np.random.randint(*counts_lims)\n",
    "    \n",
    "    # Returns a pair of distributions\n",
    "    samples =  [mu1 + np.random.randn(n) * sigma1, mu2 + np.random.randn(n) * sigma2]\n",
    "    return [mu1, mu2, sigma1, sigma2, n], samples"
   ]
  },
  {
   "cell_type": "markdown",
   "metadata": {
    "collapsed": true
   },
   "source": [
    "Let's simulate power"
   ]
  },
  {
   "cell_type": "code",
   "execution_count": 8,
   "metadata": {
    "collapsed": true
   },
   "outputs": [],
   "source": [
    "counts = np.arange(5, 60, 5)\n",
    "alpha = 0.05\n",
    "num_runs = 100\n",
    "mu_lim = [0, 20]\n",
    "simga_lim = [5, 25]\n",
    "counts_lim = [60, 61]"
   ]
  },
  {
   "cell_type": "code",
   "execution_count": 35,
   "metadata": {
    "collapsed": false
   },
   "outputs": [
    {
     "data": {
      "text/plain": [
       "array([ 5, 10, 15, 20, 25, 30, 35, 40, 45, 50, 55])"
      ]
     },
     "execution_count": 35,
     "metadata": {},
     "output_type": "execute_result"
    }
   ],
   "source": [
    "counts"
   ]
  },
  {
   "cell_type": "code",
   "execution_count": 33,
   "metadata": {
    "collapsed": false
   },
   "outputs": [
    {
     "data": {
      "text/plain": [
       "[<matplotlib.lines.Line2D at 0x10c07b3d0>]"
      ]
     },
     "execution_count": 33,
     "metadata": {},
     "output_type": "execute_result"
    },
    {
     "data": {
      "image/png": "[encoded data removed]",
      "text/plain": [
       "<matplotlib.figure.Figure at 0x10be26090>"
      ]
     },
     "metadata": {},
     "output_type": "display_data"
    }
   ],
   "source": [
    "simulations = []\n",
    "for idx in xrange(num_runs):\n",
    "    # Draws a distribution\n",
    "    params, [sample1, sample2] = ttest_ind_simulate(mu_lim, simga_lim, counts_lim)\n",
    "    \n",
    "    # Calculates power in the traditional manner\n",
    "    trad_power = trad.calc_ttest_ind(sample1, sample2, counts, alpha)\n",
    "    \n",
    "    # Calculates the effect sizes from the traditional power\n",
    "    cohen_d = get_cohen_ttest_ind(sample1, sample2)\n",
    "    textr_d = ap.z_effect(counts, trad_power, alpha)\n",
    "    \n",
    "    # Calculates power from the effect size\n",
    "    cohn_power = ap.z_power(counts, cohen_d)\n",
    "    extr_power = ap.z_power(counts, extr_ef.mean())\n",
    "\n",
    "    # Updates the tracking\n",
    "    params.append(np.absloute(cohen_d))\n",
    "    params.append(extr_ef)\n",
    "    simulations.append((params, trad_power, cohn_power, extr_power))\n",
    "    \n",
    "parameters, trad_power, cohen_power, extr_power = zip(*simulations)\n",
    "plt.plot(trad_power, cohen_power, 'b.', alpha=0.25)\n",
    "plt.plot(trad_power, extr_power, 'r.', alpha=0.25)\n",
    "plt.plot(np.arange(0, 1.1, 0.1), np.arange(0, 1.1, 0.1), 'k-')"
   ]
  },
  {
   "cell_type": "code",
   "execution_count": 40,
   "metadata": {
    "collapsed": false
   },
   "outputs": [],
   "source": [
    "x1, x2, s1, s2, n, cohen, extr_ = zip(*parameters)"
   ]
  },
  {
   "cell_type": "code",
   "execution_count": 53,
   "metadata": {
    "collapsed": false
   },
   "outputs": [
    {
     "data": {
      "text/plain": [
       "[<matplotlib.lines.Line2D at 0x10bb40810>]"
      ]
     },
     "execution_count": 53,
     "metadata": {},
     "output_type": "execute_result"
    },
    {
     "data": {
      "image/png": "[encoded data removed]",
      "text/plain": [
       "<matplotlib.figure.Figure at 0x10bb40350>"
      ]
     },
     "metadata": {},
     "output_type": "display_data"
    }
   ],
   "source": [
    "# extr_ = [e.mean() for e in extr_]\n",
    "plt.plot(np.absolute(cohen), np.absolute(extr_), 'o', mfc='none', mec='r')\n",
    "plt.plot(np.arange(0, 3.1, 0.1), np.arange(0, 3.1, 0.1), 'k-')"
   ]
  },
  {
   "cell_type": "code",
   "execution_count": 52,
   "metadata": {
    "collapsed": false
   },
   "outputs": [
    {
     "data": {
      "text/plain": [
       "array([ 0.09408713,  0.17053126,  0.24337034,  0.31399518,  0.38179451,\n",
       "        0.44605756,  0.50624597,  0.56202401,  0.61323563,  0.65987019,\n",
       "        0.70202859])"
      ]
     },
     "execution_count": 52,
     "metadata": {},
     "output_type": "execute_result"
    }
   ],
   "source": [
    "simulations = []\n",
    "for idx in xrange(num_runs):\n",
    "    # Draws a distribution\n",
    "    params, [sample1, sample2] = ttest_ind_simulate(mu_lim, simga_lim, counts_lim)\n",
    "    # Calculates power in the traditional manner\n",
    "    trad_power = trad.calc_ttest_ind(sample1, sample2, counts, alpha)\n",
    "    # Calculates the effect sizes\n",
    "    cohen_d = get_cohen_ttest_ind(sample1, sample2)\n",
    "    extr_ef = ap.z_effect(counts, trad_power, alpha)\n",
    "    # Calculates power from the effect size\n",
    "    cohn_power = ap.z_power(counts, cohen_d)\n",
    "    extr_power = ap.z_power(counts, extr_ef.mean())\n",
    "    # Updates the tracking\n",
    "    params.append(cohen_d)\n",
    "    params.append(extr_ef)\n",
    "    simulations.append((params, trad_power, cohn_power, extr_power))\n",
    "    \n",
    "parameters, trad_power, cohen_power, extr_power = zip(*simulations)\n",
    "plt.plot(trad_power, cohen_power, 'b.', alpha=0.25)\n",
    "plt.plot(trad_power, extr_power, 'r.', alpha=0.25)\n",
    "plt.plot(np.arange(0, 1.1, 0.1), np.arange(0, 1.1, 0.1), 'k-')"
   ]
  },
  {
   "cell_type": "code",
   "execution_count": 51,
   "metadata": {
    "collapsed": false
   },
   "outputs": [
    {
     "data": {
      "text/plain": [
       "[0,\n",
       " 10,\n",
       " 14,\n",
       " 19,\n",
       " 60,\n",
       " -0.4792619347298937,\n",
       " array([ 0.40727899,  0.4507448 ,  0.46171619,  0.46656454,  0.4692906 ,\n",
       "         0.47104144,  0.47226374,  0.47316692,  0.4738623 ,  0.47441457,\n",
       "         0.47486401])]"
      ]
     },
     "execution_count": 51,
     "metadata": {},
     "output_type": "execute_result"
    }
   ],
   "source": [
    "parameters[0]"
   ]
  },
  {
   "cell_type": "code",
   "execution_count": 53,
   "metadata": {
    "collapsed": false
   },
   "outputs": [
    {
     "data": {
      "text/plain": [
       "array([ 0.10042458,  0.17905605,  0.23205983,  0.31053907,  0.36133113,\n",
       "        0.43416739,  0.48006051,  0.54443074,  0.58421407,  0.6391041 ,\n",
       "        0.67253182])"
      ]
     },
     "execution_count": 53,
     "metadata": {},
     "output_type": "execute_result"
    }
   ],
   "source": [
    "extr_power[0]"
   ]
  },
  {
   "cell_type": "code",
   "execution_count": 41,
   "metadata": {
    "collapsed": false
   },
   "outputs": [
    {
     "data": {
      "text/plain": [
       "array([ 5, 10, 15, 20, 25, 30, 35, 40, 45, 50, 55])"
      ]
     },
     "execution_count": 41,
     "metadata": {},
     "output_type": "execute_result"
    }
   ],
   "source": [
    "counts"
   ]
  },
  {
   "cell_type": "code",
   "execution_count": 46,
   "metadata": {
    "collapsed": true
   },
   "outputs": [],
   "source": [
    "def z_effect(counts, power, alpha=0.05):\n",
    "    \"\"\"Estimates the effect size for power based on the z distribution\n",
    "\n",
    "    This is based on the equations in\n",
    "        Lui, X.S. (2014) *Statistical power analysis for the social and\n",
    "        behavioral sciences: basic and advanced techniques.* New York:\n",
    "        Routledge. 378 pg.\n",
    "    The equation assumes a positive magnitude to the effect size and a\n",
    "    two-tailed test.\n",
    "\n",
    "    Parameters\n",
    "    ----------\n",
    "    counts : array\n",
    "        The number of observations for each power depth\n",
    "    power : array\n",
    "        The statistical power at the depth specified by `counts`\n",
    "    alpha : float\n",
    "        The critial value used to calculate the power\n",
    "\n",
    "    Returns\n",
    "    effect : array\n",
    "        T A standard measure of the difference between the underlying\n",
    "        populations\n",
    "    \"\"\"\n",
    "    z_diff = z.ppf(power) + z.ppf(1 - alpha/2)\n",
    "    eff = np.sqrt(2 * np.square(z_diff) / counts)\n",
    "    eff = eff[np.isinf(eff) is False]\n",
    "    return eff\n"
   ]
  },
  {
   "cell_type": "code",
   "execution_count": 48,
   "metadata": {
    "collapsed": true
   },
   "outputs": [],
   "source": [
    "z = Z"
   ]
  },
  {
   "cell_type": "code",
   "execution_count": 54,
   "metadata": {
    "collapsed": false
   },
   "outputs": [
    {
     "data": {
      "text/plain": [
       "0.40727898543282598"
      ]
     },
     "execution_count": 54,
     "metadata": {},
     "output_type": "execute_result"
    }
   ],
   "source": [
    "z_effect(counts, trad_power[0])"
   ]
  },
  {
   "cell_type": "code",
   "execution_count": 56,
   "metadata": {
    "collapsed": false
   },
   "outputs": [
    {
     "data": {
      "text/plain": [
       "0.46320073720216759"
      ]
     },
     "execution_count": 56,
     "metadata": {},
     "output_type": "execute_result"
    }
   ],
   "source": [
    "estimate_z_effect(counts, trad_power[0]).mean()"
   ]
  },
  {
   "cell_type": "code",
   "execution_count": 57,
   "metadata": {
    "collapsed": true
   },
   "outputs": [],
   "source": [
    "z_diff = z.ppf(trad_power[0]) + z.ppf(1 - alpha / 2)"
   ]
  },
  {
   "cell_type": "code",
   "execution_count": 58,
   "metadata": {
    "collapsed": false
   },
   "outputs": [
    {
     "data": {
      "text/plain": [
       "array([ 0.64396462,  1.00789602,  1.26446185,  1.47540663,  1.65919284,\n",
       "        1.82433567,  1.97562096,  2.11606681,  2.24772624,  2.37207287,\n",
       "        2.4902079 ])"
      ]
     },
     "execution_count": 58,
     "metadata": {},
     "output_type": "execute_result"
    }
   ],
   "source": [
    "z_diff"
   ]
  },
  {
   "cell_type": "code",
   "execution_count": 60,
   "metadata": {
    "collapsed": false
   },
   "outputs": [
    {
     "data": {
      "text/plain": [
       "array([ 0.40727899,  0.4507448 ,  0.46171619,  0.46656454,  0.4692906 ,\n",
       "        0.47104144,  0.47226374,  0.47316692,  0.4738623 ,  0.47441457,\n",
       "        0.47486401])"
      ]
     },
     "execution_count": 60,
     "metadata": {},
     "output_type": "execute_result"
    }
   ],
   "source": [
    "eff = np.sqrt(2 * np.square(z_diff) / counts)\n",
    "eff"
   ]
  },
  {
   "cell_type": "code",
   "execution_count": 63,
   "metadata": {
    "collapsed": false
   },
   "outputs": [
    {
     "data": {
      "text/plain": [
       "0.46320073720216759"
      ]
     },
     "execution_count": 63,
     "metadata": {},
     "output_type": "execute_result"
    }
   ],
   "source": [
    "eff[np.isnan(eff) == False].mean()"
   ]
  },
  {
   "cell_type": "code",
   "execution_count": null,
   "metadata": {
    "collapsed": true
   },
   "outputs": [],
   "source": []
  }
 ],
 "metadata": {
  "kernelspec": {
   "display_name": "Python 2",
   "language": "python",
   "name": "python2"
  },
  "language_info": {
   "codemirror_mode": {
    "name": "ipython",
    "version": 2
   },
   "file_extension": ".py",
   "mimetype": "text/x-python",
   "name": "python",
   "nbconvert_exporter": "python",
   "pygments_lexer": "ipython2",
   "version": "2.7.3"
  }
 },
 "nbformat": 4,
 "nbformat_minor": 0
}
