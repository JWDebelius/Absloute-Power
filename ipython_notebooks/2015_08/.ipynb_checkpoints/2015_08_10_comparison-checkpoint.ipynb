{
 "cells": [
  {
   "cell_type": "markdown",
   "metadata": {},
   "source": [
    "**Author**: J W Debelius<br/>\n",
    "**Date**: 10 August 2015<br/>\n",
    "**virtualenv**: power play"
   ]
  },
  {
   "cell_type": "code",
   "execution_count": 1,
   "metadata": {
    "collapsed": false
   },
   "outputs": [
    {
     "data": {
      "application/javascript": [
       "IPython.load_extensions('calico-spell-check', 'calico-document-tools')"
      ],
      "text/plain": [
       "<IPython.core.display.Javascript object>"
      ]
     },
     "metadata": {},
     "output_type": "display_data"
    }
   ],
   "source": [
    "%%javascript\n",
    "IPython.load_extensions('calico-spell-check', 'calico-document-tools')"
   ]
  },
  {
   "cell_type": "markdown",
   "metadata": {},
   "source": [
    "#Table of Contents\n",
    "* [1. Introduction](#1.-Introduction)\n",
    "* [2. Case I T test](#2.-Case-I-T-test)\n",
    "\t* [2.1 Emperical test](#2.1-Emperical-test)\n",
    "\t* [2.2 Extrapolated Power](#2.2-Extrapolated-Power)\n",
    "\t* [2.3 Simulation Paramters](#2.3-Simulation-Paramters)\n",
    "* [3. Case II T test](#3.-Case-II-T-test)\n",
    "\t* [3.1 Test Parameters](#3.1-Test-Parameters)\n",
    "\t* [3.2 Traditional Power](#3.2-Traditional-Power)\n",
    "\t* [3.3 Simulation Parameters](#3.3-Simulation-Parameters)\n",
    "\t* [3.4 Simple Linear Regression](#3.4-Simple-Linear-Regression)\n",
    "* [4. Pearson's R](#4.-Pearson's-R)\n",
    "\t* [4.1 Effect Size](#4.1-Effect-Size)\n",
    "\t* [4.2 Emperical Test](#4.2-Emperical-Test)\n",
    "\t* [4.3 Simulation](#4.3-Simulation)\n",
    "* [5. Build simulations](#5.-Build-simulations)\n"
   ]
  },
  {
   "cell_type": "markdown",
   "metadata": {},
   "source": [
    "# 1. Introduction"
   ]
  },
  {
   "cell_type": "markdown",
   "metadata": {},
   "source": [
    "Traditional definitions for power have been discussed extensively in a variety of sources, include [[1](#lui2014), [2](guenther1977)]. Let us briefly summarize these definitions assuming we have  $k$ populations, $\\{P_{1}, P_{2}, ..., P_{k} \\}$ where the $i$th population is characterized by some parameter, $\\chi_{i}$. We have drawn $k$ samples consisting of $N_{1}, N_{2}, ... N_{k}$ observations, where the $i$th sample is characterized by some parameter, $X_{i}$ such that $\\chi_{i} \\approx X_{i}$. \n",
    "\n",
    "We can use a statistical test, $\\textbf{F}$ to test the alternative hypotheses:\n",
    "$\\begin{matrix}\n",
    "\\textbf{H}_{0} & \\chi_{1} = \\chi_{2} = ... = \\chi_{k} & \\\\\n",
    "\\textbf{H}_{1} & \\chi_{i} \\neq \\chi_{j\\neq i} & \\forall \\{i \\epsilon \\mathbb{N}, 1 \\leq i \\leq k\\}\\\\\n",
    "\\end{matrix} \\tag{1}$\n",
    "\n",
    "When the null hypothesis, $\\textbf{H}_{0}$ is true, $a$ is drawn from an $A$ distribution, characterized by some set of parameters, $c$. \n",
    "If the alternative hypothesis is true, $\\Delta_{ij} \\neq 0$, where $\\Delta_{ij} = \\chi_{i} - \\chi_{j}$, $i \\neq j$ for at least one value of $\\Delta_{ij}$. This offset changes at least one of the parameters in $c$, to create a new set of parameters, $c'$. The parameter which changes when $\\textbf{H}_{1}$ is true is $\\lambda$. So, we now draw the test statistic, $a$ from the $A'$ distribution, characterized by $c'$, which includes $\\lambda$. \n",
    "\n",
    "This means that the probability of committing a type II error, $\\beta$ is\n",
    "$\\beta = P \\left [A' < a_{1 - \\alpha/2} \\right ]\\tag{2}$\n",
    "where $a_{1 - \\alpha/2}$ is the two-tailed critical value. \n",
    "\n",
    "Since statistical power is defined as $PWR = 1 - \\beta$, we can say that \n",
    "$\\begin{align*}\n",
    "PWR &= 1 - \\beta\\\\\n",
    "&= 1 - P \\left [A' < a_{1 - \\alpha/2} \\right ]\\\\\n",
    "& = P \\left [A' \\geq a_{1 - \\alpha/2} \\right ]\\\\\n",
    "\\end{align*}\\tag{3}$"
   ]
  },
  {
   "cell_type": "markdown",
   "metadata": {},
   "source": [
    "This notebook will compare traditional power implementations, relying on the implementation of power provided by equation (2), with a Monte Carlo simulation of power to determine the relationship between the two implementations. The Monte Carlo simulation has been defined [elsewhere](http://nbviewer.ipython.org/github/biocore/American-Gut/blob/master/ipynb/Power.ipynb).\n",
    "\n",
    "We'll use the simulated power to extrapolate power using statsmodel's power module. This can be useful to extrapolate power (when the calculated effect size falls into certain bounds), extending power curves beyond the number of samples that can be drawn for a given distribution."
   ]
  },
  {
   "cell_type": "code",
   "execution_count": 3,
   "metadata": {
    "collapsed": true
   },
   "outputs": [],
   "source": [
    "from __future__ import division\n",
    "\n",
    "import numpy as np\n",
    "import americangut.power_plots as pp\n",
    "\n",
    "from statsmodels.stats.power import FTestAnovaPower\n",
    "\n",
    "ft = FTestAnovaPower()\n",
    "\n",
    "def extrapolate_f(counts, empr_pwr, alpha):\n",
    "    \"\"\"...\"\"\"\n",
    "    # Gets the average emperical effect size\n",
    "    pwr_, cnts = empr_pwr\n",
    "    eff_mean, eff_bound =  pp.collate_effect_size([cnts], [pwr_], alpha)\n",
    "    # Calculates the extrapolated power curve\n",
    "    extr_pwr = np.array([\n",
    "            ft.solve_power(eff_mean, nobs=c, alpha=0.05, power=None)\n",
    "            for c in counts\n",
    "        ])\n",
    "    return extr_pwr"
   ]
  },
  {
   "cell_type": "markdown",
   "metadata": {},
   "source": [
    "We'll examine five common, simple statistical models where the power equation has been defined and employed. The emperical power implementations are based on the version described in [ref].\n",
    "\n",
    "We will examine statistical power for three tests dealing with normal distributions:\n",
    "\n",
    "* Case I t test\n",
    "* Case II (independent) t test\n",
    "* Pearson's R\n",
    "\n",
    "As a result, we'll need to be able to define the summary properties of a normal distribution:"
   ]
  },
  {
   "cell_type": "code",
   "execution_count": 4,
   "metadata": {
    "collapsed": true
   },
   "outputs": [],
   "source": [
    "def get_vitals(sample):\n",
    "    \"\"\"Returns a summary of the sample\"\"\"\n",
    "    return sample.mean(), sample.std()"
   ]
  },
  {
   "cell_type": "markdown",
   "metadata": {},
   "source": [
    "Perform 100 simulations of statistical power, comparing the power between 5 and 50 counts, with 5 observation intervals between. We'll set the critical value at 0.05."
   ]
  },
  {
   "cell_type": "code",
   "execution_count": 5,
   "metadata": {
    "collapsed": false
   },
   "outputs": [],
   "source": [
    "num_rounds = 100\n",
    "counts = np.arange(5, 55, 5)\n",
    "alpha = 0.05\n",
    "distributions = {}"
   ]
  },
  {
   "cell_type": "markdown",
   "metadata": {},
   "source": [
    "# 2. Case I T test"
   ]
  },
  {
   "cell_type": "markdown",
   "metadata": {},
   "source": [
    "A case I t-test, or an indepdent sample t-test determines if an observation is drawn from a sample.\n",
    "\n",
    "The test statistic for the case I t test is given as\n",
    "$t = \\frac{(\\bar{x} - x)\\sqrt{n}}{s} \\tag{3}$\n",
    "where $\\bar{x}$ is the mean of the population, $x$ is the value being compared to the sample, and $s$ is the standard devation of the sample. The probability distribution follows a T distribution with $n-1$ degrees of freedom, where $n$ is the number of observations in the sample.\n",
    "\n",
    "The effect size for a t test is\n",
    "$\\begin{align*}\n",
    "\\lambda &= \\frac{t}{\\sqrt{n}}\\\\\n",
    "&=\\frac{1}{\\sqrt{n}}\\left(\\frac{(\\bar{x} - x)\\sqrt{n}}{s}\\right )\\\\\n",
    "&=\\frac{(\\bar{x} - x)}{s}\n",
    "\\end{align*}\\tag{4}$\n",
    "or, we can say that\n",
    "$t(n) = \\lambda\\sqrt{n} \\tag{5}$"
   ]
  },
  {
   "cell_type": "markdown",
   "metadata": {},
   "source": [
    "## 2.1 Emperical test"
   ]
  },
  {
   "cell_type": "markdown",
   "metadata": {},
   "source": [
    "For the emperical test, we will use the `scipy.stats.ttest_1samp` function, which returns a p value. But, for the traditional power calculation, we need to be able to calculate $t(n)$, so we'll seperate the function."
   ]
  },
  {
   "cell_type": "code",
   "execution_count": 6,
   "metadata": {
    "collapsed": true
   },
   "outputs": [],
   "source": [
    "def emp_ttest_1(sample, x0):\n",
    "    return scipy.stats.ttest_1samp(sample, x0)[1]"
   ]
  },
  {
   "cell_type": "markdown",
   "metadata": {},
   "source": [
    "## 2.2 Extrapolated Power"
   ]
  },
  {
   "cell_type": "markdown",
   "metadata": {},
   "source": [
    "We're going to also calculate power by extrapolating from the emperical results. By combining equation (2) and equation (5), we can say that \n",
    "$\\begin{align*}\n",
    "1 - \\beta &= P(\n",
    "\\end{align*}\\tag{6}$"
   ]
  },
  {
   "cell_type": "code",
   "execution_count": 7,
   "metadata": {
    "collapsed": true
   },
   "outputs": [],
   "source": [
    "import scipy.stats\n",
    "\n",
    "def calc_ttest_1(sample, x0, n, alpha=0.05):\n",
    "    # Calculates the effect size\n",
    "    [x, s] = get_vitals(sample)\n",
    "    eff = np.absolute(x - x0)/s\n",
    "    \n",
    "    # Calculates the power\n",
    "    power = np.array([\n",
    "            scipy.stats.t.cdf(-scipy.stats.t.ppf(1-alpha/2, c-1) + eff*np.sqrt(c), c-1)\n",
    "            for c in n\n",
    "        ])\n",
    "    \n",
    "    return power"
   ]
  },
  {
   "cell_type": "markdown",
   "metadata": {},
   "source": [
    "## 2.3 Simulation Paramters"
   ]
  },
  {
   "cell_type": "markdown",
   "metadata": {},
   "source": [
    "We'll test the set of hypotheses,\n",
    "\n",
    "<center>**H**<sub>0</sub>: $\\bar{x} = 0$<br>\n",
    "**H**<sub>1</sub>: $\\bar{x} \\neq 1$</center>\n",
    "\n",
    "where $\\bar{x}$ is the mean of a sample drawn from a population "
   ]
  },
  {
   "cell_type": "code",
   "execution_count": 8,
   "metadata": {
    "collapsed": true
   },
   "outputs": [],
   "source": [
    "def ttest_1_simulate(mu_lim, sigma_lim, count_lims):\n",
    "    # Gets the distribution parameters\n",
    "    mu = np.random.randint(*mu_lim)\n",
    "    sigma = np.random.randint(*sigma_lim)\n",
    "    n = np.random.randint(*count_lims)\n",
    "    \n",
    "    # Draws a sample that fits the parameters\n",
    "    return (mu, sigma, n), [mu + np.random.randn(n) * sigma]"
   ]
  },
  {
   "cell_type": "code",
   "execution_count": 9,
   "metadata": {
    "collapsed": false
   },
   "outputs": [],
   "source": [
    "distributions['ttest_1'] = {'emp_test_fun': emp_ttest_1,\n",
    "                           'trad_test_fun': calc_ttest_1,\n",
    "                           'sim_function': ttest_1_simulate,\n",
    "                           'sim_parameters': [[2, 10], [5, 15], [60, 100]],\n",
    "                           'other_sim_parameters': {},\n",
    "                           'test_parameters': {'x0': 0},\n",
    "                           'emp_parameters': {}\n",
    "                            }"
   ]
  },
  {
   "cell_type": "markdown",
   "metadata": {},
   "source": [
    "# 3. Case II T test"
   ]
  },
  {
   "cell_type": "markdown",
   "metadata": {},
   "source": [
    "The case II t test is a test for two independent samples, to determine if the samples are drawn from different distributions.\n",
    "\n",
    "<center>**H<sub>0</sub>** : $\\bar{x}_{1} = \\bar{x}_{2}$<br>\n",
    "**H<sub>1</sub>** : $\\bar{x}_{1} \\neq \\bar{x}_{2}$</center>\n",
    "\n",
    "There are several ways to calculate this t statistic, but we will operate on the assumption that the two populations have different variances, giving the most extensibe calculation of the test statistic. So,\n",
    "\n",
    "$\\begin{align*}\n",
    "t &= \\frac{\\bar{x}_{1} - \\bar{x}_{2}}{\\sqrt{\\frac{s_{1}^{2}}{n_{1}} + \\frac{s_{2}^{2}}{n_{2}}}}\\\\\n",
    "&= \\frac{\\bar{x}_{1} - \\bar{x}_{2}}{\\sqrt{\\frac{n_{2}s_{1}^{2} + n_{1}s_{2}^{2}}{n_{1}n_{2}}}}\n",
    "\\end{align*}\\tag{}$\n",
    "\n",
    "The t statistic follows a T distribution with $df$ degrees of freedom, where $df$ is given as\n",
    "$df = \\frac{(s_{1}^{2}/n_{1} + s_{2}^{2}/n_{2})^{2}}{(s_{1}^{2}/n_{1})^2/(n_{1}-1) + s_{2}^{2}/n_{2})^2/(n_{2}-1)} \\tag{}$\n",
    "\n",
    "For the sake of simplicity, we'll assume that $n_{1} = n_{2}$, which allows us to redefine equation (2.1) as\n",
    "$t = \\frac{\\sqrt{n}(\\bar{x}_{1} - \\bar{x}_{2})}{\\sqrt{s_{1}^{2} + s_{2}^{2}}} \\tag{}$\n",
    "which means the test statitic is now drawn from a t distribution with df degrees of freedom, where\n",
    "df is defined as\n",
    "$df = \\left (n-1 \\right ) \\left (\\frac{\\left (s_{1}^{2} + s_{2}^{2}  \\right )^{2}}{\\left (s_{1}^{2} \\right)^{2} + \\left (s_{2}^{2}  \\right )^{2}} \\right ) \\tag{}$"
   ]
  },
  {
   "cell_type": "code",
   "execution_count": 10,
   "metadata": {
    "collapsed": true
   },
   "outputs": [],
   "source": [
    "def get_t_df(n, s1, s2):\n",
    "    \"\"\"doc string!\"\"\"\n",
    "    mod = (np.square(np.square(s1) + np.square(s2)) / (np.power(s1, 4) + np.power(s2, 4)))\n",
    "    return (n-1)*modifier"
   ]
  },
  {
   "cell_type": "markdown",
   "metadata": {},
   "source": [
    "## 3.1 Test Parameters"
   ]
  },
  {
   "cell_type": "markdown",
   "metadata": {},
   "source": [
    "For the emperical test, we can use the `scipy.stats.ttest_ind1` function, which will return a p value. We will, once again, need to calculate the test statistic as a function the number of samples."
   ]
  },
  {
   "cell_type": "code",
   "execution_count": 11,
   "metadata": {
    "collapsed": true
   },
   "outputs": [],
   "source": [
    "def emp_ttest_ind(sample1, sample2):\n",
    "    return scipy.stats.ttest_ind(sample1, sample2)[1]"
   ]
  },
  {
   "cell_type": "markdown",
   "metadata": {},
   "source": [
    "## 3.2 Traditional Power"
   ]
  },
  {
   "cell_type": "code",
   "execution_count": 12,
   "metadata": {
    "collapsed": true
   },
   "outputs": [],
   "source": [
    "def calc_ttest_ind(sample1, sample2, n):\n",
    "    # Gets the distribuation characterization\n",
    "    [x1, s1] = get_vitals(sample1)\n",
    "    [x2, s2] = get_vitals(sample2)\n",
    "    \n",
    "    # Gets the effect size\n",
    "    eff = np.absolute(x1 - x2)/np.sqrt(np.square(s1) + np.square(s2))\n",
    "    \n",
    "    # Gets the degree of freedom modifier\n",
    "    mod = (np.square(np.square(s1) + np.square(s2)) / (np.power(s1, 4) + np.power(s2, 4)))\n",
    "    \n",
    "    # Calculates the power\n",
    "    power = np.array([\n",
    "            scipy.stats.t.cdf(-scipy.stats.t.ppf(1-alpha/2, mod*(c-1))\n",
    "                                 + np.sqrt(c)*eff, mod*(c-1))\n",
    "            for c in n\n",
    "        ])\n",
    "\n",
    "    return power"
   ]
  },
  {
   "cell_type": "markdown",
   "metadata": {},
   "source": [
    "## 3.3 Simulation Parameters"
   ]
  },
  {
   "cell_type": "markdown",
   "metadata": {},
   "source": [
    "We'll simulate"
   ]
  },
  {
   "cell_type": "code",
   "execution_count": 13,
   "metadata": {
    "collapsed": false
   },
   "outputs": [],
   "source": [
    "def ttest_ind_simulate(mu_lim, sigma_lim, counts_lims):\n",
    "    \"\"\"...\"\"\"\n",
    "    # Gets the distribution paramters\n",
    "    mu1, mu2 = np.random.randint(*mu_lim, size=2)\n",
    "    sigma1, sigma2 = np.random.randint(*sigma_lim, size=2)\n",
    "    n = np.random.randint(*counts_lims)\n",
    "    \n",
    "    # Returns a pair of distributions\n",
    "    samples =  [mu1 + np.random.randn(n) * sigma1, mu2 + np.random.randn(n) * sigma2]\n",
    "    return (mu1, mu2, sigma1, sigma2, n), samples"
   ]
  },
  {
   "cell_type": "code",
   "execution_count": 14,
   "metadata": {
    "collapsed": false
   },
   "outputs": [],
   "source": [
    "distributions['ttest_ind'] = {'emp_parameters': {},\n",
    "                              'emp_test_fun': emp_ttest_ind,\n",
    "                              'other_sim_parameters': {},\n",
    "                              'sim_function': ttest_ind_simulate,\n",
    "                              'sim_parameters': [[0, 10], [5, 15], [60, 100]],\n",
    "                              'test_parameters': {},\n",
    "                              'trad_test_fun': calc_ttest_ind,                              \n",
    "                              }"
   ]
  },
  {
   "cell_type": "markdown",
   "metadata": {},
   "source": [
    "# 4. Pearson's R"
   ]
  },
  {
   "cell_type": "markdown",
   "metadata": {},
   "source": [
    "We test to see if pearson's correlation coeffecient is not 0."
   ]
  },
  {
   "cell_type": "markdown",
   "metadata": {},
   "source": [
    "## 4.1 Effect Size"
   ]
  },
  {
   "cell_type": "markdown",
   "metadata": {},
   "source": [
    "The test statstic follows a t distribution \n",
    "$t = \\frac{r_{xy}\\sqrt{n-2}}{\\sqrt{1 - r_{xy}^{2}}} \\tag{}$\n",
    "where $r_{xy}$ is the pearson correlation coeffecient between the two distribtuions, and $n$ is the number of samples in the two groups."
   ]
  },
  {
   "cell_type": "code",
   "execution_count": 15,
   "metadata": {
    "collapsed": false
   },
   "outputs": [],
   "source": [
    "def calc_pearson(sample1, sample2, n=[5], alpha=0.05):\n",
    "    r = scipy.stats.pearsonr(sample1, sample2)[0]\n",
    "    eff = (r)/np.sqrt(1-np.square(r))\n",
    "\n",
    "    power = np.array([\n",
    "                scipy.stats.t.cdf(-scipy.stats.t.ppf(1-alpha/2, c-2) + eff*np.sqrt(c-2), c-2)\n",
    "            for c in n])\n",
    "    \n",
    "    return power"
   ]
  },
  {
   "cell_type": "markdown",
   "metadata": {},
   "source": [
    "## 4.2 Emperical Test"
   ]
  },
  {
   "cell_type": "markdown",
   "metadata": {},
   "source": [
    "Scipy's `scipy.stats.pearsonr` can calculate the correlation coeffecient *and* a p value for the coeffecient. However, the notes suggest that the p value may not be accurate for smaller sample sizes, so we're going to try an initial test, and compare the dervived p-value, based on [1] with the scipy p-value."
   ]
  },
  {
   "cell_type": "code",
   "execution_count": 16,
   "metadata": {
    "collapsed": true
   },
   "outputs": [],
   "source": [
    "def emp_pearson(*samples):\n",
    "    return scipy.stats.pearsonr(*samples)[1]"
   ]
  },
  {
   "cell_type": "markdown",
   "metadata": {},
   "source": [
    "## 4.3 Simulation"
   ]
  },
  {
   "cell_type": "markdown",
   "metadata": {},
   "source": [
    "For the simulation, we can use the same distributions that were generated in `regress_simulate`."
   ]
  },
  {
   "cell_type": "code",
   "execution_count": 17,
   "metadata": {
    "collapsed": true
   },
   "outputs": [],
   "source": [
    "def regress_simulate(mu_lim, sigma_lim, count_lims, b_lims):\n",
    "    # Calculates the distribution for the residuals\n",
    "    sigma = np.random.randint(*sigma_lim)\n",
    "    n = np.random.randint(*count_lims)\n",
    "    # Calculates the parameters for the line\n",
    "    m = np.random.randint(*mu_lim)\n",
    "    b = np.random.randint(*b_lims)\n",
    "    \n",
    "    x = np.arange(-n, n, 2)\n",
    "    y = m*x + b + np.random.randn(n)*sigma\n",
    "    \n",
    "    return (sigma, n, m, b), [x, y]"
   ]
  },
  {
   "cell_type": "code",
   "execution_count": 18,
   "metadata": {
    "collapsed": false
   },
   "outputs": [],
   "source": [
    "distributions['pearson'] = {'emp_parameters': {'draw_mode': 'matched'},\n",
    "                            'emp_test_fun': emp_pearson,\n",
    "                            'other_sim_parameters':{'b_lims':[-2, 2]},\n",
    "                            'sim_function': regress_simulate,\n",
    "                            'sim_parameters': [[1, 5], [10, 100], [60, 100]],\n",
    "                            'test_parameters': {},\n",
    "                            'trad_test_fun': calc_pearson,\n",
    "                          }"
   ]
  },
  {
   "cell_type": "markdown",
   "metadata": {},
   "source": [
    "# 5. Build simulations"
   ]
  },
  {
   "cell_type": "code",
   "execution_count": 19,
   "metadata": {
    "collapsed": false
   },
   "outputs": [
    {
     "name": "stdout",
     "output_type": "stream",
     "text": [
      "pearson\n",
      "ttest_ind\n",
      "ttest_1\n"
     ]
    }
   ],
   "source": [
    "import pandas as pd\n",
    "\n",
    "from skbio.stats.power import subsample_power\n",
    "\n",
    "for k, params in distributions.iteritems():\n",
    "    print k\n",
    "    params['pop_params'] = []\n",
    "    params['trad'] = []\n",
    "    params['empr'] = []\n",
    "    params['extr'] = []\n",
    "    for i in xrange(num_rounds):\n",
    "        # Calculates the samples\n",
    "        pop_params, samples = params['sim_function'](*params['sim_parameters'], **params['other_sim_parameters'])\n",
    "        # Calculates the traditional power\n",
    "        trad_power = params['trad_test_fun'](*samples, n=counts, **params['test_parameters'])\n",
    "        #  Calculates the emperical power\n",
    "        empr_power, empr_counts = subsample_power(lambda x: params['emp_test_fun'](*x, **params['test_parameters']),\n",
    "                                                  samples,\n",
    "                                                  min_counts=5,\n",
    "                                                  max_counts=55,\n",
    "                                                  counts_interval=5,\n",
    "                                                  num_runs=3,\n",
    "                                                  num_iter=100,\n",
    "                                                  **params['emp_parameters'])\n",
    "        extr_power = np.squeeze(extrapolate_f(counts, [empr_power, empr_counts], alpha))\n",
    "        # Updates the information\n",
    "        params['pop_params'].append(pop_params)\n",
    "        params['trad'].append(trad_power)\n",
    "        params['empr'].append(empr_power.mean(0))\n",
    "        params['extr'].append(extr_power)\n",
    "\n",
    "dists = pd.DataFrame.from_dict(distributions, orient='index')"
   ]
  },
  {
   "cell_type": "code",
   "execution_count": 21,
   "metadata": {
    "collapsed": false
   },
   "outputs": [
    {
     "data": {
      "image/png": "[encoded data removed]",
      "text/plain": [
       "<matplotlib.figure.Figure at 0x10be81f50>"
      ]
     },
     "metadata": {},
     "output_type": "display_data"
    }
   ],
   "source": [
    "import matplotlib.pyplot as plt\n",
    "%matplotlib inline\n",
    "edge = []\n",
    "\n",
    "fig = plt.figure()\n",
    "for idx, name in enumerate(dists.index.values):\n",
    "    ax1 = fig.add_subplot(2, 3, idx+1)\n",
    "    ax2 = fig.add_subplot(2, 3, idx+4)\n",
    "    ax1.plot(np.hstack(dists.loc[name, 'trad']),\n",
    "            np.hstack(dists.loc[name, 'empr']),\n",
    "            '.', color='#fb9a99', alpha=0.5)\n",
    "    ax2.plot(np.hstack(dists.loc[name, 'trad']),\n",
    "            np.hstack(dists.loc[name, 'extr']),\n",
    "            '.', color='#fb9a99', alpha=0.5)\n",
    "    \n",
    "    ax1.plot(np.arange(0, 1.1, 0.1), np.arange(0, 1.1, 0.1), 'k-')\n",
    "    ax2.plot(np.arange(0, 1.1, 0.1), np.arange(0, 1.1, 0.1), 'k-')\n",
    "    ax1.set_xlim([0, 1])\n",
    "    ax1.set_ylim([0, 1])\n",
    "    ax1.set_title(name.replace('_', ' '))\n",
    "    \n",
    "    if idx == 0:\n",
    "        ax1.set_yticklabels(ax1.get_yticks())\n",
    "        ax1.set_ylabel('Emperical', size=12)\n",
    "        ax2.set_yticklabels(ax2.get_yticks())\n",
    "        ax2.set_ylabel('Extrapolated', size=12)\n",
    "    else:\n",
    "        ax1.set_yticklabels('')\n",
    "        ax2.set_yticklabels('')\n",
    "    ax1.set_xticklabels('')\n",
    "    ax2.set_xticklabels(ax2.get_xticks())\n",
    "    if idx == 1:\n",
    "        ax2.set_xlabel('Traditional', size=12)\n",
    "    \n",
    "    r21, p1 = scipy.stats.pearsonr(np.hstack(dists.loc[name, 'trad']),\n",
    "                                   np.hstack(dists.loc[name, 'empr']))\n",
    "    r22, p2 = scipy.stats.pearsonr(np.hstack(dists.loc[name, 'trad'])[np.isnan(np.hstack(dists.loc[name, 'extr']))==False],\n",
    "                                   np.hstack(dists.loc[name, 'extr'])[np.isnan(np.hstack(dists.loc[name, 'extr']))==False])\n",
    "    ax1.text(0.95, 0.05, 'r$^2$ = %1.3f' % r21, ha='right')\n",
    "    ax2.text(0.95, 0.05, 'r$^2$ = %1.3f' % r22, ha='right')\n",
    "\n",
    "# fig = ax.figure\n",
    "# # fig.savefig('/Users/jwdebelius/Desktop/model_check.pdf')"
   ]
  },
  {
   "cell_type": "code",
   "execution_count": 22,
   "metadata": {
    "collapsed": false
   },
   "outputs": [
    {
     "name": "stdout",
     "output_type": "stream",
     "text": [
      "Help on function linregress in module scipy.stats.stats:\n",
      "\n",
      "linregress(x, y=None)\n",
      "    Calculate a regression line\n",
      "    \n",
      "    This computes a least-squares regression for two sets of measurements.\n",
      "    \n",
      "    Parameters\n",
      "    ----------\n",
      "    x, y : array_like\n",
      "        two sets of measurements.  Both arrays should have the same length.\n",
      "        If only x is given (and y=None), then it must be a two-dimensional\n",
      "        array where one dimension has length 2.  The two sets of measurements\n",
      "        are then found by splitting the array along the length-2 dimension.\n",
      "    \n",
      "    Returns\n",
      "    -------\n",
      "    slope : float\n",
      "        slope of the regression line\n",
      "    intercept : float\n",
      "        intercept of the regression line\n",
      "    r-value : float\n",
      "        correlation coefficient\n",
      "    p-value : float\n",
      "        two-sided p-value for a hypothesis test whose null hypothesis is\n",
      "        that the slope is zero.\n",
      "    stderr : float\n",
      "        Standard error of the estimate\n",
      "    \n",
      "    \n",
      "    Examples\n",
      "    --------\n",
      "    >>> from scipy import stats\n",
      "    >>> import numpy as np\n",
      "    >>> x = np.random.random(10)\n",
      "    >>> y = np.random.random(10)\n",
      "    >>> slope, intercept, r_value, p_value, std_err = stats.linregress(x,y)\n",
      "    \n",
      "    # To get coefficient of determination (r_squared)\n",
      "    \n",
      "    >>> print \"r-squared:\", r_value**2\n",
      "    r-squared: 0.15286643777\n",
      "\n"
     ]
    }
   ],
   "source": [
    "help(scipy.stats.linregress)"
   ]
  },
  {
   "cell_type": "code",
   "execution_count": 19,
   "metadata": {
    "collapsed": false
   },
   "outputs": [
    {
     "data": {
      "text/plain": [
       "<matplotlib.text.Text at 0x10c5dce10>"
      ]
     },
     "execution_count": 19,
     "metadata": {},
     "output_type": "execute_result"
    },
    {
     "data": {
      "image/png": "[encoded data removed]",
      "text/plain": [
       "<matplotlib.figure.Figure at 0x10c1aecd0>"
      ]
     },
     "metadata": {},
     "output_type": "display_data"
    }
   ],
   "source": [
    "import matplotlib.pyplot as plt\n",
    "%matplotlib inline\n",
    "edge = []\n",
    "\n",
    "fig = plt.figure()\n",
    "for idx, name in enumerate(dists.index.values):\n",
    "    ax = fig.add_subplot(2, 3, idx+1)\n",
    "    ax.plot(np.hstack(dists.loc[name, 'trad']),\n",
    "            np.hstack(dists.loc[name, 'extr']),\n",
    "            'r.')\n",
    "    ax.plot(np.arange(0, 1.1, 0.1), np.arange(0, 1.1, 0.1), 'k-')\n",
    "    ax.set_xlim([0, 1])\n",
    "    ax.set_ylim([0, 1])\n",
    "    ax.set_title(name.replace('_', ' '))\n",
    "    \n",
    "    if idx not in {0, 3}:\n",
    "        ax.set_yticklabels('')\n",
    "    else:\n",
    "        ax.set_yticklabels(ax.get_yticks())\n",
    "    if idx not in {0, 1, 2}:\n",
    "        ax.set_xticklabels('')\n",
    "    else:\n",
    "        ax.set_xticklabels(ax.get_xticks())\n",
    "    r2, p = scipy.stats.pearsonr(np.hstack(dists.loc[name, 'trad'])[np.isnan(np.hstack(dists.loc[name, 'extr'])) == False],\n",
    "                                 np.hstack(dists.loc[name, 'extr'])[np.isnan(np.hstack(dists.loc[name, 'extr'])) == False])\n",
    "    \n",
    "    ax.text(0.95, 0.05, 'r$^2$ = %1.3f' % r2, ha='right')\n",
    "\n",
    "ax0 = fig.axes[0]\n",
    "axb = fig.axes[1]\n",
    "ax0.set_ylabel('Extrapolated', size=12)\n",
    "axb.set_xlabel('Traditional', size=12)"
   ]
  },
  {
   "cell_type": "code",
   "execution_count": null,
   "metadata": {
    "collapsed": true
   },
   "outputs": [],
   "source": []
  },
  {
   "cell_type": "code",
   "execution_count": 20,
   "metadata": {
    "collapsed": false
   },
   "outputs": [
    {
     "data": {
      "text/plain": [
       "<matplotlib.text.Text at 0x10c4cac50>"
      ]
     },
     "execution_count": 20,
     "metadata": {},
     "output_type": "execute_result"
    },
    {
     "data": {
      "image/png": "[encoded data removed]",
      "text/plain": [
       "<matplotlib.figure.Figure at 0x10c5ece10>"
      ]
     },
     "metadata": {},
     "output_type": "display_data"
    }
   ],
   "source": [
    "import matplotlib.pyplot as plt\n",
    "%matplotlib inline\n",
    "edge = []\n",
    "\n",
    "fig = plt.figure()\n",
    "for idx, name in enumerate(dists.index.values):\n",
    "    ax = fig.add_subplot(2, 3, idx+1)\n",
    "    ax.plot(np.hstack(dists.loc[name, 'empr']),\n",
    "            np.hstack(dists.loc[name, 'extr']),\n",
    "            'r.')\n",
    "    ax.plot(np.arange(0, 1.1, 0.1), np.arange(0, 1.1, 0.1), 'k-')\n",
    "    ax.set_xlim([0, 1])\n",
    "    ax.set_ylim([0, 1])\n",
    "    ax.set_title(name.replace('_', ' '))\n",
    "    \n",
    "    if idx not in {0, 3}:\n",
    "        ax.set_yticklabels('')\n",
    "    else:\n",
    "        ax.set_yticklabels(ax.get_yticks())\n",
    "    if idx not in {0, 1, 2}:\n",
    "        ax.set_xticklabels('')\n",
    "    else:\n",
    "        ax.set_xticklabels(ax.get_xticks())\n",
    "    r2, p = scipy.stats.pearsonr(np.hstack(dists.loc[name, 'empr'])[np.isnan(np.hstack(dists.loc[name, 'extr'])) == False],\n",
    "                                 np.hstack(dists.loc[name, 'extr'])[np.isnan(np.hstack(dists.loc[name, 'extr'])) == False])\n",
    "    ax.text(0.95, 0.05, 'r$^2$ = %1.3f' % r2, ha='right')\n",
    "\n",
    "ax0 = fig.axes[0]\n",
    "axb = fig.axes[1]\n",
    "ax0.set_ylabel('Extrapolated', size=12)\n",
    "axb.set_xlabel('Emperical', size=12)"
   ]
  },
  {
   "cell_type": "code",
   "execution_count": 78,
   "metadata": {
    "collapsed": false
   },
   "outputs": [
    {
     "data": {
      "text/plain": [
       "<matplotlib.text.Text at 0x115eb6c90>"
      ]
     },
     "execution_count": 78,
     "metadata": {},
     "output_type": "execute_result"
    },
    {
     "data": {
      "image/png": "[encoded data removed]",
      "text/plain": [
       "<matplotlib.figure.Figure at 0x115590590>"
      ]
     },
     "metadata": {},
     "output_type": "display_data"
    }
   ],
   "source": [
    "import matplotlib.pyplot as plt\n",
    "%matplotlib inline\n",
    "edge = []\n",
    "\n",
    "fig = plt.figure()\n",
    "for idx, name in enumerate(dists.index.values):\n",
    "    ax = fig.add_subplot(2, 3, idx+1)\n",
    "    ax.plot(np.hstack(dists.loc[name, 'trad']),\n",
    "            np.hstack(dists.loc[name, 'empr']),\n",
    "            'r.')\n",
    "    ax.plot(np.power(10., np.arange(-3, 1, 1)), np.power(10., np.arange(-3, 1, 1)), 'k-')\n",
    "    ax.set_xlim(0.0075, 1.25)\n",
    "    ax.set_ylim(0.0075, 1.25)\n",
    "    ax.set_title(name.replace('_', ' '))\n",
    "    ax.semilogx()\n",
    "    ax.semilogy()\n",
    "    \n",
    "    if idx not in {0, 3}:\n",
    "        ax.set_yticklabels('')\n",
    "    else:\n",
    "        ax.set_yticklabels(ax.get_yticks())\n",
    "    if idx not in {0, 1, 2}:\n",
    "        ax.set_xticklabels('')\n",
    "    else:\n",
    "        ax.set_xticklabels(ax.get_xticks())\n",
    "    r2, p = scipy.stats.pearsonr(np.hstack(dists.loc[name, 'trad']),\n",
    "                                 np.hstack(dists.loc[name, 'empr']))\n",
    "#     ax.text(0.95, 0.05, 'r$^2$ = %1.3f' % r2, ha='right')\n",
    "\n",
    "ax0 = fig.axes[0]\n",
    "axb = fig.axes[1]\n",
    "ax0.set_ylabel('Emperical', size=12)\n",
    "axb.set_xlabel('Traditional', size=12)"
   ]
  },
  {
   "cell_type": "code",
   "execution_count": 85,
   "metadata": {
    "collapsed": false
   },
   "outputs": [
    {
     "data": {
      "text/plain": [
       "<matplotlib.text.Text at 0x11a3a89d0>"
      ]
     },
     "execution_count": 85,
     "metadata": {},
     "output_type": "execute_result"
    },
    {
     "data": {
      "image/png": "[encoded data removed]",
      "text/plain": [
       "<matplotlib.figure.Figure at 0x119b671d0>"
      ]
     },
     "metadata": {},
     "output_type": "display_data"
    }
   ],
   "source": [
    "import matplotlib.pyplot as plt\n",
    "%matplotlib inline\n",
    "edge = []\n",
    "\n",
    "fig = plt.figure()\n",
    "for idx, name in enumerate(dists.index.values):\n",
    "    ax = fig.add_subplot(2, 3, idx+1)\n",
    "    ax.plot(np.hstack(dists.loc[name, 'trad']),\n",
    "            np.hstack(dists.loc[name, 'trad']) - np.hstack(dists.loc[name, 'empr']),\n",
    "            'r.')\n",
    "    ax.plot(np.arange(0, 1.1, 0.1), 0*np.arange(0, 1.1, 0.1), 'k-')\n",
    "    ax.set_xlim([0, 1])\n",
    "    ax.set_ylim([-0.25, 0.25])\n",
    "    ax.set_title(name.replace('_', ' '))\n",
    "    \n",
    "    if idx not in {0, 3}:\n",
    "        ax.set_yticklabels('')\n",
    "    else:\n",
    "        ax.set_yticklabels(ax.get_yticks())\n",
    "    if idx not in {0, 1, 2}:\n",
    "        ax.set_xticklabels('')\n",
    "    else:\n",
    "        ax.set_xticklabels(ax.get_xticks())\n",
    "    r2, p = scipy.stats.pearsonr(np.hstack(dists.loc[name, 'trad']),\n",
    "                                 np.hstack(dists.loc[name, 'empr']))\n",
    "#     ax.text(0.95, 0.05, 'r$^2$ = %1.3f' % r2, ha='right')\n",
    "\n",
    "ax0 = fig.axes[0]\n",
    "axb = fig.axes[1]\n",
    "ax0.set_ylabel('Difference', size=12)\n",
    "axb.set_xlabel('Traditional', size=12)"
   ]
  },
  {
   "cell_type": "code",
   "execution_count": 92,
   "metadata": {
    "collapsed": false
   },
   "outputs": [
    {
     "data": {
      "text/plain": [
       "<matplotlib.text.Text at 0x11b6cf910>"
      ]
     },
     "execution_count": 92,
     "metadata": {},
     "output_type": "execute_result"
    },
    {
     "data": {
      "image/png": "[encoded data removed]",
      "text/plain": [
       "<matplotlib.figure.Figure at 0x11b28a490>"
      ]
     },
     "metadata": {},
     "output_type": "display_data"
    }
   ],
   "source": [
    "import matplotlib.pyplot as plt\n",
    "%matplotlib inline\n",
    "edge = []\n",
    "\n",
    "fig = plt.figure()\n",
    "for idx, name in enumerate(dists.index.values):\n",
    "    ax = fig.add_subplot(2, 3, idx+1)\n",
    "    ax.plot(np.hstack(dists.loc[name, 'trad']),\n",
    "            (np.hstack(dists.loc[name, 'trad']) - np.hstack(dists.loc[name, 'empr']))/np.hstack(dists.loc[name, 'trad']),\n",
    "            'r.')\n",
    "    ax.plot(np.arange(0, 1.1, 0.1), 0*np.arange(0, 1.1, 0.1), 'k-')\n",
    "    ax.set_xlim([0, 1])\n",
    "#     ax.set_ylim([-0.25, 0.25])\n",
    "    ax.set_title(name.replace('_', ' '))\n",
    "    \n",
    "    if idx not in {0, 3}:\n",
    "        ax.set_yticklabels('')\n",
    "    else:\n",
    "        ax.set_yticklabels(ax.get_yticks())\n",
    "    if idx not in {0, 1, 2}:\n",
    "        ax.set_xticklabels('')\n",
    "    else:\n",
    "        ax.set_xticklabels(ax.get_xticks())\n",
    "    r2, p = scipy.stats.pearsonr(np.hstack(dists.loc[name, 'trad']),\n",
    "                                 np.hstack(dists.loc[name, 'empr']))\n",
    "#     ax.text(0.95, 0.05, 'r$^2$ = %1.3f' % r2, ha='right')\n",
    "\n",
    "ax0 = fig.axes[0]\n",
    "axb = fig.axes[1]\n",
    "ax0.set_ylabel('Difference', size=12)\n",
    "axb.set_xlabel('Traditional', size=12)"
   ]
  },
  {
   "cell_type": "markdown",
   "metadata": {
    "collapsed": true
   },
   "source": [
    "* <a id=\"lui2014\"></a>Lui, X.S. (2014) *[Statistical power analysis for the social and behavioral sciences: basic and advanced techniques](http://roger.ucsd.edu/search~S9?/Xstatistical%20power&=&Da=&Db=&searchscope=9&p=&SORT=D/Xstatistical%20power&=&Da=&Db=&searchscope=9&p=&SORT=D&SUBKEY=statistical+power/1%2C861%2C861%2CE/frameset&FF=Xstatistical%20power&=&Da=&Db=&searchscope=9&p=&SORT=D&1%2C1%2C)*. New York: Routledge. 378 pg.\n",
    "* <a id=\"guenther1977\"></a>Guenther, W.C. (1977). \"[Power and Sample Size for Approximate Chi-square Tests](https://stat.duke.edu/~zo2/dropbox/pdf/2683047.pdf)\". *The American Statistician* **31**:83-85."
   ]
  },
  {
   "cell_type": "code",
   "execution_count": null,
   "metadata": {
    "collapsed": true
   },
   "outputs": [],
   "source": []
  }
 ],
 "metadata": {
  "kernelspec": {
   "display_name": "Python 2",
   "language": "python",
   "name": "python2"
  },
  "language_info": {
   "codemirror_mode": {
    "name": "ipython",
    "version": 2
   },
   "file_extension": ".py",
   "mimetype": "text/x-python",
   "name": "python",
   "nbconvert_exporter": "python",
   "pygments_lexer": "ipython2",
   "version": "2.7.3"
  }
 },
 "nbformat": 4,
 "nbformat_minor": 0
}
