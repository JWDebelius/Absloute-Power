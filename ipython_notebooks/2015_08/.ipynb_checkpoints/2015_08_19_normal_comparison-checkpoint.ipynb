{
 "cells": [
  {
   "cell_type": "markdown",
   "metadata": {},
   "source": [
    "**Author**: J W Debelius<br/>\n",
    "**Date**: 19 August 2015<br/>\n",
    "**virtualenv**: power play"
   ]
  },
  {
   "cell_type": "markdown",
   "metadata": {},
   "source": [
    "#Table of Contents\n",
    "* [1. Introduction](#1.-Introduction)\n",
    "* [2. Case I Test](#2.-Case-I-Test)\n",
    "\t* [2.1 Emperical Test](#2.1-Emperical-Test)\n",
    "\t* [2.2 Simulation Parameters](#2.2-Simulation-Parameters)\n",
    "* [3. Case II T Test](#3.-Case-II-T-Test)\n",
    "\t* [3.1 Emperical Test](#3.1-Emperical-Test)\n",
    "\t* [3.2 Simulation Parameters](#3.2-Simulation-Parameters)\n",
    "* [4. Analysis of Variance](#4.-Analysis-of-Variance)\n",
    "\t* [4.1 Emperical Test](#4.1-Emperical-Test)\n",
    "\t* [4.2 Simulation Parameters](#4.2-Simulation-Parameters)\n",
    "* [5. Pearson's Correlation Coeffecient](#5.-Pearson's-Correlation-Coeffecient)\n",
    "\t* [5.1 Emperical Test](#5.1-Emperical-Test)\n",
    "\t* [5.2 Simulation Parameters](#5.2-Simulation-Parameters)\n",
    "* [6. Building Simulations](#6.-Building-Simulations)\n"
   ]
  },
  {
   "cell_type": "markdown",
   "metadata": {},
   "source": [
    "# 1. Introduction"
   ]
  },
  {
   "cell_type": "markdown",
   "metadata": {},
   "source": [
    "Traditional definitions for power have been discussed extensively in a variety of sources, include [[1](#lui2014)]. Let us briefly summarize these definitions assuming we have  $k$ populations, $\\{P_{1}, P_{2}, ..., P_{k} \\}$ where the $i$th population is characterized by some parameter, $\\chi_{i}$. We have drawn $k$ samples consisting of $N_{1}, N_{2}, ... N_{k}$ observations, where the $i$th sample is characterized by some parameter, $X_{i}$ such that $\\chi_{i} \\approx X_{i}$. \n",
    "\n",
    "We can use a statistical test, $\\textbf{F}$ to test the alternative hypotheses:\n",
    "\n",
    "$\\begin{matrix}\n",
    "\\textbf{H}_{0} & \\chi_{1} = \\chi_{2} = ... = \\chi_{k} & \\\\\n",
    "\\textbf{H}_{1} & \\chi_{i} \\neq \\chi_{j\\neq i} & \\forall \\{i \\epsilon \\mathbb{N}, 1 \\leq i \\leq k\\}\\\\\n",
    "\\end{matrix} \\tag{1.1}$\n",
    "\n",
    "When the null hypothesis, $\\textbf{H}_{0}$ is true, $a$ is drawn from an $A$ distribution, characterized by some set of parameters, $c$. \n",
    "If the alternative hypothesis is true, $\\Delta_{ij} \\neq 0$, where $\\Delta_{ij} = \\chi_{i} - \\chi_{j}$, $i \\neq j$ for at least one value of $\\Delta_{ij}$. This offset changes at least one of the parameters in $c$, to create a new set of parameters, $c'$. The parameter which changes when $\\textbf{H}_{1}$ is true is $\\lambda$. So, we now draw the test statistic, $a'$ from the $A'$ distribution, characterized by $c'$, which includes $\\lambda$. \n",
    "\n",
    "This means that the probability of committing a type II error, $\\beta$ is\n",
    "$\\beta = P \\left [a' < a_{1 - \\alpha/2} \\right ]\\tag{1.2}$\n",
    "where $a_{1 - \\alpha/2}$ is the two-tailed critical value. \n",
    "\n",
    "Since statistical power is defined as $PWR = 1 - \\beta$, we can say that \n",
    "$\\begin{align*}\n",
    "PWR &= 1 - \\beta\\\\\n",
    "&= 1 - P \\left [A' < a_{1 - \\alpha/2} \\right ]\\\\\n",
    "& = P \\left [A' \\geq a_{1 - \\alpha/2} \\right ]\\\\\n",
    "\\end{align*}\\tag{1.3}$\n",
    "\n",
    "This notebook will compare data evaluated using traditional power methods implemented according to equation (3) with a Monte Carlo simulation. The Monte Carlo simulation is described [elsewhere](http://nbviewer.ipython.org/github/biocore/American-Gut/blob/master/ipynb/Power.ipynb).\n",
    "We'll use the simulated power to extrapolate power using statsmodel's power module. This can be useful to extrapolate power, when the calculated effect size falls into certain bounds, extending power curves beyond the number of samples that can be drawn for a given distribution."
   ]
  },
  {
   "cell_type": "code",
   "execution_count": 1,
   "metadata": {
    "collapsed": true
   },
   "outputs": [],
   "source": [
    "from __future__ import division\n",
    "\n",
    "import matplotlib.pyplot as plt\n",
    "import numpy as np\n",
    "import scipy.stats\n",
    "import statsmodels.formula.api as smf\n",
    "\n",
    "import absloute_power.traditional as trad\n",
    "import absloute_power.utils as ap\n",
    "\n",
    "from scipy.stats import norm as Z"
   ]
  },
  {
   "cell_type": "code",
   "execution_count": 2,
   "metadata": {
    "collapsed": true
   },
   "outputs": [],
   "source": [
    "def estimate_z_effect(count, power, alpha=0.05):\n",
    "    z_diff = Z.ppf(power) + Z.ppf(1 - alpha/2)\n",
    "    eff = np.sqrt(2 * np.square(z_diff) / counts)\n",
    "    eff = eff[np.isinf(eff) == False]\n",
    "    return eff\n",
    "def power_from_effect(count, eff, alpha=0.05):\n",
    "    return (Z.cdf(eff * np.sqrt(counts/2) - Z.ppf(1 - alpha/2)) \n",
    "            + (Z.cdf(Z.ppf(alpha/2) - eff * np.sqrt(counts/2))))"
   ]
  },
  {
   "cell_type": "markdown",
   "metadata": {},
   "source": [
    "We'll examine five common, simple statistical models where the power equation has been defined and employed. The emperical power implementations are based on the version described in [ref].\n",
    "\n",
    "We will examine statistical power for three tests dealing with normal distributions:\n",
    "\n",
    "* Case I t test\n",
    "* Case II (independent) t test\n",
    "* One way Analysis of Variance (ANOVA)\n",
    "* Pearson's R\n",
    "\n",
    "We will perform 100 simulations of statistical power, comparing the power between 5 and 50 counts, with 5 observation intervals between. We'll set the critical value at 0.05."
   ]
  },
  {
   "cell_type": "code",
   "execution_count": 3,
   "metadata": {
    "collapsed": false
   },
   "outputs": [],
   "source": [
    "num_rounds = 100\n",
    "counts = np.arange(5, 55, 10)\n",
    "alpha = 0.05\n",
    "distributions = {}"
   ]
  },
  {
   "cell_type": "markdown",
   "metadata": {},
   "source": [
    "# 2. Case I Test"
   ]
  },
  {
   "cell_type": "markdown",
   "metadata": {},
   "source": [
    "A case I t-test checks if an observation is drawn from a sample. We are testing the alternatively hypotheses,\n",
    "\n",
    "$\\begin{matrix}\n",
    "\\textbf{H}_{0} & x = \\bar{x} \\\\\n",
    "\\textbf{H}_{1} & x \\neq \\bar{x}\\\\\n",
    "\\end{matrix} \\tag{2.1}$\n",
    "\n",
    "where $\\bar{x}$ is the mean of the population, $x$ is the value being compared to the sample, $s$ is the standard devation of the sample, and there are $n$ observations in the sample.\n",
    "\n",
    "The test statistic for the case I t test is given as\n",
    "$t = \\frac{(\\bar{x} - x)\\sqrt{n}}{s} \\tag{2.2}$\n",
    "The probability distribution follows a T distribution with $n-1$ degrees of freedom, where $n$ is the number of observations in the sample.\n",
    "\n",
    "The non centrality paramter for the statistic, $\\lambda$ is given by\n",
    "$\\begin{align*}\n",
    "\\lambda &= \\frac{t}{\\sqrt{n}}\\\\\n",
    "&=\\frac{1}{\\sqrt{n}}\\left(\\frac{(\\bar{x} - x)\\sqrt{n}}{s}\\right )\\\\\n",
    "&=\\frac{(\\bar{x} - x)}{s}\n",
    "\\end{align*}\\tag{2.3}$"
   ]
  },
  {
   "cell_type": "markdown",
   "metadata": {},
   "source": [
    "## 2.1 Emperical Test"
   ]
  },
  {
   "cell_type": "markdown",
   "metadata": {},
   "source": [
    "For the emperical test, we will use the `scipy.stats.ttest_1samp` function, which returns a p value."
   ]
  },
  {
   "cell_type": "code",
   "execution_count": 4,
   "metadata": {
    "collapsed": true
   },
   "outputs": [],
   "source": [
    "def emp_ttest_1(sample, x0):\n",
    "    return scipy.stats.ttest_1samp(sample, x0)[1]"
   ]
  },
  {
   "cell_type": "markdown",
   "metadata": {},
   "source": [
    "## 2.2 Simulation Parameters"
   ]
  },
  {
   "cell_type": "markdown",
   "metadata": {},
   "source": [
    "We'll test the set of hypotheses,\n",
    "\n",
    "$\\begin{matrix}\n",
    "\\textbf{H}_{0} & 0 = \\bar{x} \\\\\n",
    "\\textbf{H}_{1} & 0 \\neq \\bar{x}\\\\\n",
    "\\end{matrix} \\tag{2.6}$\n",
    "\n",
    "where $\\bar{x}$ is the mean of a sample drawn from a population.\n",
    "\n",
    "We'll test the means between 2 and 10 with standard deviations between 5 and 15, and sample sizes between 60 and 100 observations."
   ]
  },
  {
   "cell_type": "code",
   "execution_count": 5,
   "metadata": {
    "collapsed": true
   },
   "outputs": [],
   "source": [
    "def ttest_1_simulate(mu_lim, sigma_lim, count_lims):\n",
    "    # Gets the distribution parameters\n",
    "    mu = np.random.randint(*mu_lim)\n",
    "    sigma = np.random.randint(*sigma_lim)\n",
    "    n = np.random.randint(*count_lims)\n",
    "    \n",
    "    # Draws a sample that fits the parameters\n",
    "    return [mu, sigma, n], [mu + np.random.randn(n) * sigma]"
   ]
  },
  {
   "cell_type": "code",
   "execution_count": 6,
   "metadata": {
    "collapsed": false
   },
   "outputs": [],
   "source": [
    "distributions['ttest_1'] = {'emp_test_fun': emp_ttest_1,\n",
    "                           'trad_test_fun': trad.calc_ttest_1,\n",
    "                           'sim_function': ttest_1_simulate,\n",
    "                           'sim_parameters': [[2, 10], [5, 15], [60, 100]],\n",
    "                           'other_sim_parameters': {},\n",
    "                           'test_parameters': {'x0': 0},\n",
    "                           'emp_parameters': {}\n",
    "                            }"
   ]
  },
  {
   "cell_type": "markdown",
   "metadata": {},
   "source": [
    "# 3. Case II T Test"
   ]
  },
  {
   "cell_type": "markdown",
   "metadata": {},
   "source": [
    "The case II t test is a test for two independent samples, to determine if the samples are drawn from different distributions.\n",
    "\n",
    "$\\begin{matrix}\n",
    "\\textbf{H}_{0} & \\bar{x}_{1} = \\bar{x}_{2} \\\\\n",
    "\\textbf{H}_{1} & \\bar{x}_{1} \\neq \\bar{x}_{2}\\\\\n",
    "\\end{matrix} \\tag{3.1}$\n",
    "\n",
    "There are several ways to calculate this t statistic, but we will operate on the assumption that the two populations have different variances, giving the most extensibe calculation of the test statistic. So,\n",
    "\n",
    "$\\begin{align*}\n",
    "t &= \\frac{\\bar{x}_{1} - \\bar{x}_{2}}{\\sqrt{\\frac{s_{1}^{2}}{n_{1}} + \\frac{s_{2}^{2}}{n_{2}}}}\\\\\n",
    "&= \\frac{\\bar{x}_{1} - \\bar{x}_{2}}{\\sqrt{\\frac{n_{2}s_{1}^{2} + n_{1}s_{2}^{2}}{n_{1}n_{2}}}}\n",
    "\\end{align*}\\tag{3.2}$\n",
    "\n",
    "The t statistic follows a T distribution with $df$ degrees of freedom, where $df$ is given as\n",
    "$df = \\frac{(s_{1}^{2}/n_{1} + s_{2}^{2}/n_{2})^{2}}{(s_{1}^{2}/n_{1})^2/(n_{1}-1) + s_{2}^{2}/n_{2})^2/(n_{2}-1)} \\tag{3.3}$"
   ]
  },
  {
   "cell_type": "markdown",
   "metadata": {},
   "source": [
    "For the sake of simplicity, we'll assume that $n_{1} = n_{2}$, which allows us to redefine equation (2.1) as\n",
    "$\\begin{align*}\n",
    "t &= \\frac{(\\bar{x}_{1} - \\bar{x}_{2})}{\\sqrt{\\frac{s_{1}^{2}}{n} + \\frac{s_{2}^{2}}{n}}}\\\\\n",
    "&= \\frac{\\sqrt{n}(\\bar{x}_{1} - \\bar{x}_{2})}{\\sqrt{s_{1}^{2} + s_{2}^{2}}}\n",
    "\\end{align*}\\tag{3.4}$\n",
    "which means the test statitic is now drawn from a t distribution with df degrees of freedom, where\n",
    "df is defined as\n",
    "$\\begin{align*}\n",
    "df &= \\left (n-1 \\right ) \\left (\\frac{\\left (s_{1}^{2} + s_{2}^{2}  \\right )^{2}}{\\left (s_{1}^{2} \\right)^{2} + \\left (s_{2}^{2}  \\right )^{2}} \\right )\\\\\n",
    "\\end{align*}\\tag{3.5}$\n",
    "\n",
    "The effect size, non-centrality parameter, for an independent sample t test where samples are the same size is once again related to the test statistic as\n",
    "$\\begin{align*}\n",
    "\\lambda &= \\frac{t}{\\sqrt{n}}\\\\\n",
    "&= \\left (\\frac{\\sqrt{n} \\left (\\bar{x}_{1} - \\bar{x}_{2} \\right )}{\\sqrt{s_{1}^{2} + s_{2}^{2}}} \\right ) \\left (\\frac{1}{\\sqrt{n}} \\right )\\\\\n",
    "&= \\left (\\frac{\\bar{x}_{1}^{2} - \\bar{x}_{2}^{2}}{\\sqrt{s_{1}^{2} + s_{2}^{2}}} \\right )\n",
    "\\end{align*}\\tag{3.6}$"
   ]
  },
  {
   "cell_type": "markdown",
   "metadata": {},
   "source": [
    "## 3.1 Emperical Test"
   ]
  },
  {
   "cell_type": "markdown",
   "metadata": {},
   "source": [
    "For the emperical test, we can use the `scipy.stats.ttest_ind` function, which will return a p value."
   ]
  },
  {
   "cell_type": "code",
   "execution_count": 7,
   "metadata": {
    "collapsed": true
   },
   "outputs": [],
   "source": [
    "def emp_ttest_ind(sample1, sample2):\n",
    "    return scipy.stats.ttest_ind(sample1, sample2)[1]"
   ]
  },
  {
   "cell_type": "markdown",
   "metadata": {},
   "source": [
    "## 3.2 Simulation Parameters"
   ]
  },
  {
   "cell_type": "markdown",
   "metadata": {},
   "source": [
    "We will test distributions with means between 0 and 10, standard deviations between 5 and 15, and samples sizes between 60 and 100 observations."
   ]
  },
  {
   "cell_type": "code",
   "execution_count": 8,
   "metadata": {
    "collapsed": true
   },
   "outputs": [],
   "source": [
    "def ttest_ind_simulate(mu_lim, sigma_lim, counts_lims):\n",
    "    \"\"\"...\"\"\"\n",
    "    # Gets the distribution paramters\n",
    "    mu1, mu2 = np.random.randint(*mu_lim, size=2)\n",
    "    sigma1, sigma2 = np.random.randint(*sigma_lim, size=2)\n",
    "    n = np.random.randint(*counts_lims)\n",
    "    \n",
    "    # Returns a pair of distributions\n",
    "    samples =  [mu1 + np.random.randn(n) * sigma1, mu2 + np.random.randn(n) * sigma2]\n",
    "    return [mu1, mu2, sigma1, sigma2, n], samples"
   ]
  },
  {
   "cell_type": "code",
   "execution_count": 9,
   "metadata": {
    "collapsed": false
   },
   "outputs": [],
   "source": [
    "distributions['ttest_ind'] = {'emp_parameters': {},\n",
    "                              'emp_test_fun': emp_ttest_ind,\n",
    "                              'other_sim_parameters': {},\n",
    "                              'sim_function': ttest_ind_simulate,\n",
    "                              'sim_parameters': [[0, 10], [5, 15], [60, 100]],\n",
    "                              'test_parameters': {},\n",
    "                              'trad_test_fun': trad.calc_ttest_ind,                              \n",
    "                              }"
   ]
  },
  {
   "cell_type": "markdown",
   "metadata": {},
   "source": [
    "# 4. Analysis of Variance"
   ]
  },
  {
   "cell_type": "markdown",
   "metadata": {},
   "source": [
    "Assume there exist a set of samples, $\\{S_{1}, S_{2}, ..., S_{k} \\}$ where there are a total of $N$ observations distributed over the $k$ groups. The $i$th sample, $S_{i}$ contains $n_{i}$ observations, and has a mean of $\\bar{x}_{.i}$ and a standard deviation, $s_{i}$ where\n",
    "\n",
    "$\\begin{align*}\n",
    "s_{i} = \\sqrt{\\frac{\\sum_{j=1}^{n}{\\left (x_{ij} - \\bar{x}_{.i} \\right)^{2}}}{n_{i}-1}}\n",
    "\\end{align*}\\tag{4.1}$\n",
    "\n",
    "A one-way Analysis of Variance (ANOVA) tests that at least one sample mean in a set of three or more are not equal. Assume that \n",
    "\n",
    "$\\begin{matrix}\n",
    "\\textbf{H}_{0} & \\bar{x}_{1} = \\bar{x}_{2} = ... \\bar{x}_{k} & \\\\\n",
    "\\textbf{H}_{1} & \\bar{x}_{i} \\neq \\bar{x}_{j} & \\exists i,j \\epsilon [1, k], i \\neq j\n",
    "\\end{matrix} \\tag{4.2}$\n",
    "\n",
    "The test statistic for ANOVA is given by\n",
    "$\\begin{align*}\n",
    "F &= \\frac{\\frac{\\textrm{SS}_{\\textrm{between}}}{\\textrm{DF}_{\\textrm{between}}}}{\\frac{\\textrm{SS}_{\\textrm{within}}}{\\textrm{DF}_{\\textrm{within}}}}\n",
    "\\end{align*}\\tag{4.3}$\n",
    "\n",
    "where\n",
    "$\\begin{align*}\n",
    "\\textrm{SS}_{\\textrm{total}} &= \\sum_{i=1}^{k}{\\sum_{j=1}^{n_{i}}{\\left (x_{ij} - \\bar{x}_{..} \\right )^{2}}}\\\\\n",
    "\\textrm{SS}_{\\textrm{between}} &= \\sum_{i=1}^{k}{n_{i}\\left (\\bar{x}_{.i} - \\bar{x}_{..} \\right )^{2}}\\\\\n",
    "\\textrm{SS}_{\\textrm{within}} &= \\sum_{i=1}^{k}{\\left [ \\sum_{j=1}^{n_{i}}{\\left (x_{ij} - \\bar{x}_{.i} \\right )^{2}}\\right ]}\n",
    "\\end{align*}\\tag{4.4}$\n",
    "\n",
    "$\\begin{align*}\n",
    "\\textrm{DF}_{\\textrm{total}} &= N - 1\\\\\n",
    "\\textrm{DF}_{\\textrm{between}} &= k - 1\\\\\n",
    "\\textrm{DF}_{\\textrm{within}} &= N - k\n",
    "\\end{align*}\\tag{4.5}$\n",
    "\n",
    "$\\begin{align*}\n",
    "\\textrm{SS}_{\\textrm{total}} = \\textrm{SS}_{\\textrm{between}} + \\textrm{SS}_{\\textrm{within}}\n",
    "\\end{align*}\\tag{4.6}$\n",
    "\n",
    "$\\begin{align*}\n",
    "\\textrm{DF}_{\\textrm{total}} = \\textrm{DF}_{\\textrm{between}} + \\textrm{DF}_{\\textrm{within}}\n",
    "\\end{align*}\\tag{4.7}$\n",
    "\n",
    "and test statistic is drawn from an $F$ distribution with $k - 1$ and $N - k$ degrees of freedom [[3](#Zar)].\n",
    "\n",
    "Under the alternatively hypothesis, the non-centrality $F'$ is given by\n",
    "\n",
    "$\\begin{align*}\n",
    "F' = \\left(\\frac{\\textrm{SS}_{\\textrm{between}}}{\\textrm{SS}_{\\textrm{within}}} \\right) \\left (\\frac{\\textrm{DF}_{\\textrm{within}}}{\\textrm{DF}_{\\textrm{between}}}{} \\right )\n",
    "\\end{align*}\\tag{4.8}$\n",
    "\n",
    "For a given pair of hypotheses, ..."
   ]
  },
  {
   "cell_type": "markdown",
   "metadata": {},
   "source": [
    "## 4.1 Emperical Test"
   ]
  },
  {
   "cell_type": "markdown",
   "metadata": {},
   "source": [
    "For the emperical test, we can use the `scipy.stats.f_oneway` function, which will return a p value."
   ]
  },
  {
   "cell_type": "code",
   "execution_count": 10,
   "metadata": {
    "collapsed": true
   },
   "outputs": [],
   "source": [
    "def emp_anova(*samples):\n",
    "    return scipy.stats.f_oneway(*samples)[1]"
   ]
  },
  {
   "cell_type": "markdown",
   "metadata": {},
   "source": [
    "## 4.2 Simulation Parameters"
   ]
  },
  {
   "cell_type": "markdown",
   "metadata": {},
   "source": [
    "We will simulate an ANOVA between 3 samples with means between 0 and 10, a common standard deviation between 5 and 15, and between 60 and 100 observations per sample."
   ]
  },
  {
   "cell_type": "code",
   "execution_count": 11,
   "metadata": {
    "collapsed": true
   },
   "outputs": [],
   "source": [
    "def anova_simulation(mu_lim, sigma_lim, count_lims, num_pops):\n",
    "    # Defines the distribtuion parameters\n",
    "    mus = np.random.randint(*mu_lim, size=num_pops)\n",
    "    sigma = np.random.randint(*sigma_lim)\n",
    "    n = np.random.randint(*count_lims)\n",
    "    \n",
    "    # Draws samples which fit the population\n",
    "    samples = [mu + np.random.randn(n)*sigma for mu in mus]\n",
    "    \n",
    "    return [mus, sigma, n], samples"
   ]
  },
  {
   "cell_type": "code",
   "execution_count": 12,
   "metadata": {
    "collapsed": false
   },
   "outputs": [],
   "source": [
    "distributions['anova'] = {'emp_parameters': {},\n",
    "                          'emp_test_fun': emp_anova,\n",
    "                          'other_sim_parameters': {'num_pops': 3},\n",
    "                          'sim_function': anova_simulation,\n",
    "                          'sim_parameters': [[0, 10], [5, 15], [60, 100]],\n",
    "                          'test_parameters': {},\n",
    "                          'trad_test_fun': trad.calc_anova\n",
    "                           }"
   ]
  },
  {
   "cell_type": "markdown",
   "metadata": {},
   "source": [
    "# 5. Pearson's Correlation Coeffecient"
   ]
  },
  {
   "cell_type": "markdown",
   "metadata": {},
   "source": [
    "Pearson's correlation coeffecient looks for a linear one-to-one relationship between two vectors, $x$ and $y$, both of size $n$. Closely related vectors have a correlation coeffecient with an absloute value of 1, unrelated data have a correlation coeffecient of 0.\n",
    "\n",
    "The correlation coeffecient between the two vectors is given by\n",
    "$\\begin{align*}\n",
    "r = \\frac{\\sum{xy}}{\\sqrt{\\sum{x^{2}}\\sum{y^{2}}}}\n",
    "\\end{align*}\\tag{5.1}$\n",
    "\n",
    "We can test the hypotheses,\n",
    "$\\begin{matrix}\n",
    "\\textbf{H}_{0} & r = 0 \\\\\n",
    "\\textbf{H}_{1} & x \\neq 0\\\\\n",
    "\\end{matrix} \\tag{5.2}$\n",
    "with a test statistic drawn from the $t$ distribution with $n - 2$ degrees of freedom. The statistic is calculated as\n",
    "$\\begin{align*}\n",
    "t = \\frac{r\\sqrt{n-2}}{\\sqrt{1 - r^{2}}}\n",
    "\\end{align*}\\tag{5.3}$"
   ]
  },
  {
   "cell_type": "markdown",
   "metadata": {},
   "source": [
    "## 5.1 Emperical Test"
   ]
  },
  {
   "cell_type": "markdown",
   "metadata": {},
   "source": [
    "Scipy's `scipy.stats.pearsonr` can calculate the correlation coeffecient *and* a p value for the coeffecient."
   ]
  },
  {
   "cell_type": "code",
   "execution_count": 13,
   "metadata": {
    "collapsed": true
   },
   "outputs": [],
   "source": [
    "def emp_pearson(*samples):\n",
    "    return scipy.stats.pearsonr(*samples)[1]"
   ]
  },
  {
   "cell_type": "markdown",
   "metadata": {},
   "source": [
    "## 5.2 Simulation Parameters"
   ]
  },
  {
   "cell_type": "markdown",
   "metadata": {},
   "source": [
    "We're going to simulate regressions with slopes between 1 and 5, intercepts between -2 and 2, and normally distributed residuals with standard deviations between 10 and 100. There will be between 60 and 100 observations in each of the samples. We'll use `regress_simulate` to generate the distributions."
   ]
  },
  {
   "cell_type": "code",
   "execution_count": 14,
   "metadata": {
    "collapsed": true
   },
   "outputs": [],
   "source": [
    "def regress_simulate(mu_lim, sigma_lim, count_lims, b_lims):\n",
    "    # Calculates the distribution for the residuals\n",
    "    sigma = np.random.randint(*sigma_lim)\n",
    "    n = np.random.randint(*count_lims)\n",
    "    # Calculates the parameters for the line\n",
    "    m = np.random.randint(*mu_lim)\n",
    "    b = np.random.randint(*b_lims)\n",
    "    \n",
    "    x = np.arange(-n, n, 2)\n",
    "    y = m*x + b + np.random.randn(n)*sigma\n",
    "    \n",
    "    return [sigma, n, m, b], [x, y]"
   ]
  },
  {
   "cell_type": "code",
   "execution_count": 15,
   "metadata": {
    "collapsed": true
   },
   "outputs": [],
   "source": [
    "distributions['pearson'] = {'emp_parameters': {'draw_mode': 'matched'},\n",
    "                            'emp_test_fun': emp_pearson,\n",
    "                            'other_sim_parameters':{'b_lims':[-2, 2]},\n",
    "                            'sim_function': regress_simulate,\n",
    "                            'sim_parameters': [[1, 5], [60, 100], [60, 100]],\n",
    "                            'test_parameters': {},\n",
    "                            'trad_test_fun': trad.calc_pearson,\n",
    "                          }"
   ]
  },
  {
   "cell_type": "markdown",
   "metadata": {},
   "source": [
    "# 6. Building Simulations"
   ]
  },
  {
   "cell_type": "markdown",
   "metadata": {},
   "source": [
    "We will now build the simulations and look at the results."
   ]
  },
  {
   "cell_type": "code",
   "execution_count": 21,
   "metadata": {
    "collapsed": false,
    "scrolled": false
   },
   "outputs": [
    {
     "name": "stdout",
     "output_type": "stream",
     "text": [
      "pearson\n",
      "ttest_ind\n",
      "ttest_1\n",
      "anova\n"
     ]
    }
   ],
   "source": [
    "import pandas as pd\n",
    "\n",
    "from skbio.stats.power import subsample_power\n",
    "\n",
    "for k, params in distributions.iteritems():\n",
    "    print k\n",
    "    params['pop_params'] = []\n",
    "    params['trad'] = []\n",
    "    params['empr'] = []\n",
    "    params['extr'] = []\n",
    "    params['extf'] = []\n",
    "    params['extz'] = []\n",
    "    params['exzt'] = []\n",
    "    for i in xrange(num_rounds):\n",
    "        # Calculates the samples\n",
    "        pop_params, samples = params['sim_function'](*params['sim_parameters'], **params['other_sim_parameters'])\n",
    "        # Calculates the traditional power\n",
    "        trad_power = params['trad_test_fun'](*samples, counts=counts, **params['test_parameters'])\n",
    "        #  Calculates the emperical power\n",
    "        empr_power, empr_counts = subsample_power(lambda x: params['emp_test_fun'](*x, **params['test_parameters']),\n",
    "                                                  samples,\n",
    "                                                  min_counts=5,\n",
    "                                                  max_counts=55,\n",
    "                                                  counts_interval=10,\n",
    "                                                  num_runs=3,\n",
    "                                                  num_iter=100,\n",
    "                                                  **params['emp_parameters'])\n",
    "        extf_power = np.squeeze(ap.extrapolate_f(counts, empr_power, empr_counts, alpha))\n",
    "        extz_eff = np.concatenate([estimate_z_effect(counts, pwr) for pwr in empr_power]).mean()\n",
    "        trdz_eff = np.mean(estimate_z_effect(counts, trad_power))\n",
    "        extz_power = power_from_effect(counts, extz_eff)\n",
    "        exzt_power = power_from_effect(counts, trdz_eff)\n",
    "        pop_params.extend([extz_eff, trdz_eff])\n",
    "        # Updates the information\n",
    "        params['pop_params'].append(pop_params)\n",
    "        params['trad'].append(trad_power)\n",
    "        params['empr'].append(empr_power.mean(0))\n",
    "        params['extf'].append(extf_power)\n",
    "        params['extz'].append(extz_power)\n",
    "        params['exzt'].append(exzt_power)\n",
    "\n",
    "dists = pd.DataFrame.from_dict(distributions, orient='index')"
   ]
  },
  {
   "cell_type": "code",
   "execution_count": 22,
   "metadata": {
    "collapsed": false
   },
   "outputs": [
    {
     "data": {
      "text/plain": [
       "[array([ 0.42906569,  0.51361013,  0.64822383,  0.73777999,  0.72432075]),\n",
       " array([ 0.63612297,  0.51361013,  0.64076454,  0.66129255,  0.84616497]),\n",
       " array([ 0.42906569,  0.59450195,  0.61872097,  0.63735961,  0.75996228])]"
      ]
     },
     "execution_count": 22,
     "metadata": {},
     "output_type": "execute_result"
    }
   ],
   "source": [
    "[estimate_z_effect(counts, pwr) for pwr in empr_power]"
   ]
  },
  {
   "cell_type": "code",
   "execution_count": 23,
   "metadata": {
    "collapsed": false
   },
   "outputs": [
    {
     "data": {
      "text/plain": [
       "[array([ 0.42906569,  0.51361013,  0.64822383,  0.73777999,  0.72432075]),\n",
       " array([ 0.63612297,  0.51361013,  0.64076454,  0.66129255,  0.84616497]),\n",
       " array([ 0.42906569,  0.59450195,  0.61872097,  0.63735961,  0.75996228])]"
      ]
     },
     "execution_count": 23,
     "metadata": {},
     "output_type": "execute_result"
    }
   ],
   "source": [
    "[estimate_z_effect(counts, pwr) for pwr in empr_power]"
   ]
  },
  {
   "cell_type": "code",
   "execution_count": 24,
   "metadata": {
    "collapsed": false
   },
   "outputs": [
    {
     "data": {
      "text/plain": [
       "0.51903624171800122"
      ]
     },
     "execution_count": 24,
     "metadata": {},
     "output_type": "execute_result"
    }
   ],
   "source": [
    "trdz_eff = estimate_z_effect(counts, trad_power)\n",
    "trdz_eff.mean()"
   ]
  },
  {
   "cell_type": "code",
   "execution_count": 25,
   "metadata": {
    "collapsed": false
   },
   "outputs": [
    {
     "data": {
      "text/plain": [
       "array([ 0.16758529,  0.40315809,  0.60004072,  0.74503511,  0.84365543])"
      ]
     },
     "execution_count": 25,
     "metadata": {},
     "output_type": "execute_result"
    }
   ],
   "source": [
    "power_from_effect(counts, extz_eff)"
   ]
  },
  {
   "cell_type": "markdown",
   "metadata": {},
   "source": [
    "We'd like to plot the correlation between the traditional power, the emperical power, and the extrapolated power."
   ]
  },
  {
   "cell_type": "code",
   "execution_count": 30,
   "metadata": {
    "collapsed": false
   },
   "outputs": [
    {
     "data": {
      "text/plain": [
       "<matplotlib.figure.Figure at 0x10c47d850>"
      ]
     },
     "metadata": {},
     "output_type": "display_data"
    }
   ],
   "source": [
    "fig_all = plt.figure()\n",
    "color = np.array([0.5, 0.5, 0.5])\n",
    "\n",
    "for idx, name in enumerate(dists.index.values):\n",
    "    fig1 = plt.figure()\n",
    "    fig1.set_size_inches((2/0.9, 2/0.9))\n",
    "    fig2 = plt.figure()\n",
    "    fig2.set_size_inches((2/0.9, 2/0.9))\n",
    "    fig3 = plt.figure()\n",
    "    fig3.set_size_inches((2/0.9, 2/0.9))\n",
    "\n",
    "    # Sets up the axes\n",
    "    ax1 = fig1.add_axes((0.05, 0.05, 0.9, 0.9))\n",
    "    ax2 = fig2.add_axes((0.05, 0.05, 0.9, 0.9))\n",
    "    ax3 = fig3.add_axes((0.05, 0.05, 0.9, 0.9))\n",
    "    \n",
    "    # Draws the distributions as variables\n",
    "    trad = np.hstack(dists.loc[name, 'trad'])\n",
    "    empr = np.hstack(dists.loc[name, 'empr'])\n",
    "    extr = np.hstack(dists.loc[name, 'extz'])\n",
    "    \n",
    "    # Plots the data\n",
    "    ax1.plot(trad, empr, '.', color=color, alpha=0.5)\n",
    "    ax2.plot(trad, extr, '.', color=color, alpha=0.5)\n",
    "    ax3.plot(empr, extr, '.', color=color, alpha=0.5)\n",
    "    \n",
    "    # Plots a guide line\n",
    "    ax1.plot(np.arange(0, 1.1, 0.1), np.arange(0, 1.1, 0.1), 'k-')\n",
    "    ax2.plot(np.arange(0, 1.1, 0.1), np.arange(0, 1.1, 0.1), 'k-')\n",
    "    ax3.plot(np.arange(0, 1.1, 0.1), np.arange(0, 1.1, 0.1), 'k-')\n",
    "    \n",
    "    # Formats the axis\n",
    "    ap.format_ax(ax1, fig1, xlim=[0, 1], ylim=[0, 1], show_x=False, show_y=(name == 'ttest_1'), fontsize1=20)\n",
    "    ap.format_ax(ax2, fig2, xlim=[0, 1], ylim=[0, 1], show_x=False, show_y=(name == 'ttest_1'), fontsize1=20)\n",
    "    ap.format_ax(ax3, fig3, xlim=[0, 1], ylim=[0, 1], show_x=True,  show_y=(name == 'ttest_1'), fontsize1=20)\n",
    "    \n",
    "    fig1.savefig('/Users/jwdebelius/Desktop/power_figs/model/images/%s_trad_empr.pdf' % name)\n",
    "    fig2.savefig('/Users/jwdebelius/Desktop/power_figs/model/images/%s_trad_extr.pdf' % name)\n",
    "    fig3.savefig('/Users/jwdebelius/Desktop/power_figs/model/images/%s_empr_extr.pdf' % name)\n",
    "    \n",
    "    plt.close(fig1)\n",
    "    plt.close(fig2)\n",
    "    plt.close(fig3)"
   ]
  },
  {
   "cell_type": "code",
   "execution_count": 29,
   "metadata": {
    "collapsed": false,
    "scrolled": false
   },
   "outputs": [
    {
     "data": {
      "image/png": "[encoded data removed]",
      "text/plain": [
       "<matplotlib.figure.Figure at 0x10e634e50>"
      ]
     },
     "metadata": {},
     "output_type": "display_data"
    }
   ],
   "source": [
    "%matplotlib inline\n",
    "\n",
    "edge = []\n",
    "\n",
    "fig = plt.figure()\n",
    "for idx, name in enumerate(dists.index.values):\n",
    "    ax1 = fig.add_subplot(4, 4, idx+1)\n",
    "    ax2 = fig.add_subplot(4, 4, idx+5)\n",
    "    ax3 = fig.add_subplot(4, 4, idx+9)\n",
    "    ax4 = fig.add_subplot(4, 4, idx+13)\n",
    "    ax1.plot(np.hstack(dists.loc[name, 'trad']),\n",
    "             np.hstack(dists.loc[name, 'empr']),\n",
    "             '.', color=[0.6, 0.6, 0.6], alpha=0.5)\n",
    "    ax2.plot(np.hstack(dists.loc[name, 'trad'])[np.isnan(np.hstack(dists.loc[name, 'extf'])) == False],\n",
    "             np.hstack(dists.loc[name, 'extf'])[np.isnan(np.hstack(dists.loc[name, 'extf'])) == False],\n",
    "             '.', color=[0.6, 0.6, 0.6], alpha=0.5)\n",
    "    ax3.plot(np.hstack(dists.loc[name, 'trad']),\n",
    "             np.hstack(dists.loc[name, 'extz']),\n",
    "             '.', color=[0.6, 0.6, 0.6], alpha=0.5)\n",
    "    ax4.plot(np.hstack(dists.loc[name, 'empr']),\n",
    "             np.hstack(dists.loc[name, 'extz']),\n",
    "             '.', color=[0.6, 0.6, 0.6], alpha=0.5)\n",
    "    ax1.plot(np.arange(0, 1.1, 0.1), np.arange(0, 1.1, 0.1), 'k-')\n",
    "    ax1.set_xlim([0, 1])\n",
    "    ax1.set_ylim([0, 1])\n",
    "    ax2.plot(np.arange(0, 1.1, 0.1), np.arange(0, 1.1, 0.1), 'k-')\n",
    "    ax2.set_xlim([0, 1])\n",
    "    ax2.set_ylim([0, 1])\n",
    "    ax1.set_title(name.replace('_', ' '))\n",
    "    \n",
    "    ax1.set_yticklabels('')\n",
    "    ax2.set_yticklabels('')\n",
    "    ax3.set_yticklabels('')\n",
    "    ax4.set_yticklabels('')\n",
    "   \n",
    "    ax1.set_xticklabels('')\n",
    "    ax2.set_xticklabels('')\n",
    "    ax3.set_xticklabels('')\n",
    "    \n",
    "    fig.set_size_inches((8, 8))\n",
    "\n"
   ]
  },
  {
   "cell_type": "code",
   "execution_count": null,
   "metadata": {
    "collapsed": false
   },
   "outputs": [],
   "source": [
    "effs = pd.DataFrame(np.array(zip(*(zip(*dists.loc['anova', 'pop_params'])[3], \n",
    "                                   zip(*dists.loc['anova', 'pop_params'])[4]))),\n",
    "                    columns=['extrapolated_z', 'traditional_z'])"
   ]
  },
  {
   "cell_type": "code",
   "execution_count": null,
   "metadata": {
    "collapsed": false,
    "scrolled": true
   },
   "outputs": [],
   "source": [
    "effs[effs.extrapolated_z.apply(lambda x: np.isinf(x))]"
   ]
  },
  {
   "cell_type": "code",
   "execution_count": null,
   "metadata": {
    "collapsed": false
   },
   "outputs": [],
   "source": [
    "dists.loc['anova', 'trad'][6]"
   ]
  },
  {
   "cell_type": "code",
   "execution_count": null,
   "metadata": {
    "collapsed": false
   },
   "outputs": [],
   "source": [
    "dists.loc['anova', 'empr'][6]"
   ]
  },
  {
   "cell_type": "code",
   "execution_count": null,
   "metadata": {
    "collapsed": false
   },
   "outputs": [],
   "source": [
    "est_ = estimate_z_effect(counts, dists.loc['anova', 'empr'][6])"
   ]
  },
  {
   "cell_type": "code",
   "execution_count": null,
   "metadata": {
    "collapsed": false
   },
   "outputs": [],
   "source": [
    "est_[np.isinf(est_) == False]"
   ]
  },
  {
   "cell_type": "code",
   "execution_count": 59,
   "metadata": {
    "collapsed": false
   },
   "outputs": [
    {
     "name": "stdout",
     "output_type": "stream",
     "text": [
      "------------------------------------------------------------------------------------------\n",
      "         Test           |            Emperical           |          Extrapolated                  \n",
      "                        |    m          ci          r    |    m          ci          r      \n",
      "------------------------+--------------------------------+--------------------------------\n",
      "  Analysis of Variance  |  1.08  [1.02, 1.14]     0.976   1.00  [0.95, 1.06]    0.976   \n",
      "  Pearson's R           |  1.07  [1.02, 1.12]     0.983   0.95  [0.88, 1.01]    0.959   \n",
      "  One Sample T Test     |  1.06  [1.02, 1.09]     0.990   0.99  [0.95, 1.03]    0.988   \n",
      "  Two Sample T Test     |  1.03  [0.98, 1.08]     0.983   0.97  [0.93, 1.02]    0.982   \n",
      "------------------------------------------------------------------------------------------\n"
     ]
    }
   ],
   "source": [
    "fancy_names = {'anova':     'Analysis of Variance',\n",
    "               'pearson':   \"Pearson's R         \",\n",
    "               'ttest_1':   'One Sample T Test   ',\n",
    "               'ttest_ind': 'Two Sample T Test   '}\n",
    "table = [\"------------------------------------------------------------------------------------------\",\n",
    "         \"         Test           |            Emperical           |          Extrapolated                  \",\n",
    "         \"                        |    m          ci          r    |    m          ci          r      \",\n",
    "         \"------------------------+--------------------------------+--------------------------------\"\n",
    "        ]\n",
    "for idx, name in enumerate(dists.index.values):\n",
    "    res = pd.DataFrame(\n",
    "        np.vstack((np.concatenate(dists.loc[name, 'trad']),\n",
    "                   np.concatenate(dists.loc[name, 'empr']),\n",
    "                   np.concatenate(dists.loc[name, 'extz']),\n",
    "                   )).transpose(),\n",
    "        columns=['trad', 'empr', 'extr'])\n",
    "    sub = np.random.choice(res.index, 100, replace=False)\n",
    "    mod1 = smf.ols('empr ~ trad', data=res.loc[sub]).fit()\n",
    "    mod2 = smf.ols('extr ~ trad', data=res.loc[sub]).fit()\n",
    "    mod3 = smf.ols('empr ~ extr', data=res.loc[sub]).fit()\n",
    "\n",
    "    #     m1, b1, r1, p1, s1 = scipy.stats.linregress(np.hstack(dists.loc[name, 'trad']),\n",
    "#                                                 np.hstack(dists.loc[name, 'empr']))\n",
    "#     m2, b2, r2, p2, s2 = scipy.stats.linregress(np.hstack(dists.loc[name, 'trad'])[np.isnan(np.hstack(dists.loc[name, 'extr'])) == False],\n",
    "#                                                 np.hstack(dists.loc[name, 'extr'])[np.isnan(np.hstack(dists.loc[name, 'extr'])) == False])\n",
    "    \n",
    "    table.append(\"  %s  |  %1.2f  [%1.2f, %1.2f]    % 1.3f   %1.2f  [%1.2f, %1.2f]    %1.3f   \" \n",
    "                 % (fancy_names[name], \n",
    "                    mod1.params['trad'], \n",
    "                    mod1.conf_int(alpha=0.001).loc['trad', 0], \n",
    "                    mod1.conf_int(alpha=0.001).loc['trad', 1], \n",
    "                    mod1.rsquared,\n",
    "                    mod2.params['trad'], \n",
    "                    mod2.conf_int(alpha=0.001).loc['trad', 0], \n",
    "                    mod2.conf_int(alpha=0.001).loc['trad', 1], \n",
    "                    mod2.rsquared))\n",
    "#                     mod1.rsquared, mod2.rsquared))\n",
    "table.append(\"------------------------------------------------------------------------------------------\")\n",
    "\n",
    "print '\\n'.join(table)"
   ]
  },
  {
   "cell_type": "markdown",
   "metadata": {},
   "source": [
    "It seems like there is a strong correlation between the power calculated using test-based methods, the power calculated by emperical Monte Carlo Simulation, and the extrapolated power usings Statsmodels.\n"
   ]
  },
  {
   "cell_type": "markdown",
   "metadata": {},
   "source": [
    "#References"
   ]
  },
  {
   "cell_type": "markdown",
   "metadata": {},
   "source": [
    "1. <a id=\"lui2014\"></a>Lui, X.S. (2014) *[Statistical power analysis for the social and behavioral sciences: basic and advanced techniques](http://roger.ucsd.edu/search~S9?/Xstatistical%20power&=&Da=&Db=&searchscope=9&p=&SORT=D/Xstatistical%20power&=&Da=&Db=&searchscope=9&p=&SORT=D&SUBKEY=statistical+power/1%2C861%2C861%2CE/frameset&FF=Xstatistical%20power&=&Da=&Db=&searchscope=9&p=&SORT=D&1%2C1%2C)*. New York: Routledge. 378 pg.\n",
    "2. <a id=\"zar1999\"></a>Zar, J.H. (1999) \"Multisample Hypothesis: The Analysis of Variance\". Ch. 10. *Biostatistical Analysis*. 4th Ed. Upper Saddle River: Prentice Hall."
   ]
  }
 ],
 "metadata": {
  "kernelspec": {
   "display_name": "Python 2",
   "language": "python",
   "name": "python2"
  },
  "language_info": {
   "codemirror_mode": {
    "name": "ipython",
    "version": 2
   },
   "file_extension": ".py",
   "mimetype": "text/x-python",
   "name": "python",
   "nbconvert_exporter": "python",
   "pygments_lexer": "ipython2",
   "version": "2.7.3"
  }
 },
 "nbformat": 4,
 "nbformat_minor": 0
}
