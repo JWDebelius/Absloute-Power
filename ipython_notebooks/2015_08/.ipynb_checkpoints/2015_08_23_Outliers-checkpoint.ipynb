{
 "cells": [
  {
   "cell_type": "markdown",
   "metadata": {},
   "source": [
    "**Author**: J W Debelius<br/>\n",
    "**Date**: 23 August 2015<br/>\n",
    "**virtualenv**: power play"
   ]
  },
  {
   "cell_type": "code",
   "execution_count": 1,
   "metadata": {
    "collapsed": false
   },
   "outputs": [
    {
     "data": {
      "application/javascript": [
       "IPython.load_extensions('calico-spell-check', 'calico-document-tools')"
      ],
      "text/plain": [
       "<IPython.core.display.Javascript object>"
      ]
     },
     "metadata": {},
     "output_type": "display_data"
    }
   ],
   "source": [
    "%%javascript\n",
    "IPython.load_extensions('calico-spell-check', 'calico-document-tools')"
   ]
  },
  {
   "cell_type": "markdown",
   "metadata": {},
   "source": [
    "The purpose of this notebook is to test the effect of outliers on traditional power calculations, on emperical power calculations, and on extrapolated power. \n",
    "\n",
    "This notebook will focus on using a Case I t test as a model for introducing outliers. We will test the alternative hypotheses that\n",
    "<center><strong>H</strong><sub>0</sub>: $\\bar{x} = 0$<br>\n",
    "<strong>H</strong><sub>1</sub>: $\\bar{x} \\neq 0$</center>\n",
    "for some sample with mean $\\bar{x}$ and standard deviation, $s$, drawn from an underlying population with mean, $\\mu$ ($\\mu \\neq 0$) and variance $\\sigma^{2}$. "
   ]
  },
  {
   "cell_type": "code",
   "execution_count": 18,
   "metadata": {
    "collapsed": true
   },
   "outputs": [],
   "source": [
    "from __future__ import division\n",
    "\n",
    "import matplotlib.pyplot as plt\n",
    "import numpy as np\n",
    "import pandas as pd\n",
    "import scipy.stats\n",
    "import statsmodels.api as sm\n",
    "from statsmodels.formula.api import ols\n",
    "\n",
    "import absloute_power.utils as ap\n",
    "\n",
    "from absloute_power.traditional import calc_ttest_1\n",
    "from skbio.stats.power import subsample_power"
   ]
  },
  {
   "cell_type": "markdown",
   "metadata": {},
   "source": [
    "We can test these hypotheses using the scipy function `scipy.stats.ttest_1samp`."
   ]
  },
  {
   "cell_type": "code",
   "execution_count": 3,
   "metadata": {
    "collapsed": false
   },
   "outputs": [],
   "source": [
    "def emp_ttest_1(samples):\n",
    "    return scipy.stats.ttest_1samp(samples[0], 0)[1]"
   ]
  },
  {
   "cell_type": "markdown",
   "metadata": {},
   "source": [
    "In the traditional model of power, the effect size for a sample given by\n",
    "$\\begin{align*}\n",
    "\\lambda &=\\frac{(\\bar{x} - x)}{s}\\\\\n",
    "&= \\frac{\\bar{x}}{s}\\\\\n",
    "&= \\frac{t}{\\sqrt{n}}\n",
    "\\end{align*}\\tag{1}$"
   ]
  },
  {
   "cell_type": "markdown",
   "metadata": {},
   "source": [
    "We're going to compare the ability of the traditional post-hoc power, emperical post-hoc power and extrapolated post-hoc power to re-capiluate the traditional power calculation. We'll approach this by simuling a random population with a mean, $\\mu$ and standard devation, $\\sigma$, and then drawing a random sample of size $n$ with mean $\\bar{x}$ and standard devation $s$."
   ]
  },
  {
   "cell_type": "code",
   "execution_count": 4,
   "metadata": {
    "collapsed": true
   },
   "outputs": [],
   "source": [
    "def ttest_1_simulate(mu_lim, sigma_lim, count_lims):\n",
    "    # Gets the distribution parameters\n",
    "    mu = np.random.randint(*mu_lim)\n",
    "    sigma = np.random.randint(*sigma_lim)\n",
    "    n = np.random.randint(*count_lims)\n",
    "    \n",
    "    dist = mu + np.random.randn(n) * sigma\n",
    "\n",
    "    # Draws a sample that fits the parameters\n",
    "    return [mu, sigma, n], dist"
   ]
  },
  {
   "cell_type": "markdown",
   "metadata": {},
   "source": [
    "We can design a function that will let us \"spike in\" outliers: points drawn from a distribution `offset` units above or below the central mean. "
   ]
  },
  {
   "cell_type": "code",
   "execution_count": 5,
   "metadata": {
    "collapsed": true
   },
   "outputs": [],
   "source": [
    "def add_outliers(dist, num_out, offset=50):\n",
    "    # Draws the offset mean\n",
    "    if num_out > 0:\n",
    "        index = np.arange(0, len(dist))\n",
    "        # Selects the points ot be outliers\n",
    "        outlier_pos = np.random.choice(np.arange(0, len(dist)), num_out, replace=False)\n",
    "        # Updates the distribution\n",
    "        dist[outlier_pos] = dist[outlier_pos] + offset\n",
    "    \n",
    "    return [num_out, offset], [dist]"
   ]
  },
  {
   "cell_type": "markdown",
   "metadata": {},
   "source": [
    "We're going to use the function to simulate several distributions with varying numbers of outliers. We're going to draw distributions with means between 2 and 10, standard deviations between 5 and 15, and at 120 points."
   ]
  },
  {
   "cell_type": "code",
   "execution_count": 6,
   "metadata": {
    "collapsed": true
   },
   "outputs": [],
   "source": [
    "mu_lims = [1, 10]\n",
    "sigma_lims = [10, 25]\n",
    "num_counts = 200\n",
    "count_lims = [num_counts, num_counts+1]"
   ]
  },
  {
   "cell_type": "markdown",
   "metadata": {},
   "source": [
    "We'll simulate the distributions so they have no outliers, 1%, 2%, 5%, 10% and 20% outliers. The offset mean can fall between -50 and 50 units offset from the original distribution."
   ]
  },
  {
   "cell_type": "code",
   "execution_count": 11,
   "metadata": {
    "collapsed": false
   },
   "outputs": [],
   "source": [
    "num_outliers = (np.concatenate((np.array([0, 1]), np.array([0.01, 0.02, 0.05, 0.1, 0.2])*num_counts))).astype(int)\n",
    "len_out = len(num_outliers)\n",
    "offset=50"
   ]
  },
  {
   "cell_type": "markdown",
   "metadata": {},
   "source": [
    "When we draw traditional and emperical power, we'll do it starting at 5 samples up to 100 samples, counting by 5s. We draw 100 samples to calculate power for each point, and repeat this three times at each point along the curve. We'll use an alpha value of 0.05. And, we'll simulate 1000 distributions for each number of outliers."
   ]
  },
  {
   "cell_type": "code",
   "execution_count": 12,
   "metadata": {
    "collapsed": false
   },
   "outputs": [],
   "source": [
    "counts = np.arange(10, 101, 10)\n",
    "alpha=0.05\n",
    "subsample_params = {'min_counts': 10,\n",
    "                    'max_counts': 101,\n",
    "                    'counts_interval': 10,\n",
    "                    'num_runs': 3,\n",
    "                    'num_iter': 100,\n",
    "                    'alpha_pwr': alpha}\n",
    "num_reps = 100"
   ]
  },
  {
   "cell_type": "markdown",
   "metadata": {},
   "source": [
    "Let's build the simulated populations."
   ]
  },
  {
   "cell_type": "code",
   "execution_count": 13,
   "metadata": {
    "collapsed": false
   },
   "outputs": [],
   "source": [
    "watch = {o: {'pop_params': [], 'sample_params': [], 'pop__power': [], 'base_power': [], 'samp_power': [], \n",
    "             'empr_power': [], 'extr_power': []} for o in num_outliers}\n",
    "for o in num_outliers:\n",
    "    v = watch[o]\n",
    "    for i in xrange(num_reps):\n",
    "        # Draws a sample distribution\n",
    "        params, sample = ttest_1_simulate(mu_lims, sigma_lims, count_lims)\n",
    "        base_power = calc_ttest_1(sample, x0=0, counts=counts)\n",
    "        # Spikes in outliers, if necessary\n",
    "        (num_out, offset), dist = add_outliers(sample, o, offset)\n",
    "        params.append(num_out)\n",
    "        params.append(offset)\n",
    "        # Calculates the effect using the tradtional method\n",
    "        samp_power = calc_ttest_1(dist[0], 0, counts)\n",
    "        #  Calculates the emperical power\n",
    "        empr_power, empr_counts = subsample_power(emp_ttest_1,\n",
    "                                                  dist,\n",
    "                                                  **subsample_params)\n",
    "        # Calculates the extraploted power\n",
    "        extr_power = ap.extrapolate_f(counts, empr_power, empr_counts).flatten()\n",
    "        \n",
    "        #Updates watch\n",
    "        v['pop_params'].append(params)\n",
    "        v['base_power'].append(base_power)\n",
    "        v['samp_power'].append(samp_power)\n",
    "        v['empr_power'].append(empr_power.mean(0))\n",
    "        v['extr_power'].append(extr_power)\n",
    "        \n",
    "        v['df'] = pd.DataFrame(data=np.vstack((np.concatenate(v['base_power']),\n",
    "                                               np.concatenate(v['samp_power']),\n",
    "                                               np.concatenate(v['extr_power']))\n",
    "                                             ).transpose(),\n",
    "                  columns=['base', 'samp', 'extr'])\n",
    "       \n",
    "    watch[o] = v"
   ]
  },
  {
   "cell_type": "markdown",
   "metadata": {
    "collapsed": true
   },
   "source": [
    "Let's set up a table so we can perform and ANCOVA."
   ]
  },
  {
   "cell_type": "code",
   "execution_count": 187,
   "metadata": {
    "collapsed": false
   },
   "outputs": [],
   "source": [
    "stack = df.stack()\n",
    "stack.name = 'value'\n",
    "stack = pd.DataFrame(stack)\n",
    "stack['source'] = [c[1] for c in stack.index]\n",
    "stack['base'] = [df.loc[c[0], 'base'] for c in stack.index]\n"
   ]
  },
  {
   "cell_type": "code",
   "execution_count": 204,
   "metadata": {
    "collapsed": false
   },
   "outputs": [],
   "source": [
    "c = stack.reindex(check)"
   ]
  },
  {
   "cell_type": "code",
   "execution_count": 207,
   "metadata": {
    "collapsed": false
   },
   "outputs": [
    {
     "data": {
      "text/html": [
       "<div>\n",
       "<table border=\"1\" class=\"dataframe\">\n",
       "  <thead>\n",
       "    <tr style=\"text-align: right;\">\n",
       "      <th></th>\n",
       "      <th></th>\n",
       "      <th>value</th>\n",
       "      <th>source</th>\n",
       "      <th>base</th>\n",
       "    </tr>\n",
       "  </thead>\n",
       "  <tbody>\n",
       "    <tr>\n",
       "      <th>158</th>\n",
       "      <th>samp</th>\n",
       "      <td>0.984006</td>\n",
       "      <td>samp</td>\n",
       "      <td>0.985093</td>\n",
       "    </tr>\n",
       "    <tr>\n",
       "      <th>881</th>\n",
       "      <th>extr</th>\n",
       "      <td>0.157202</td>\n",
       "      <td>extr</td>\n",
       "      <td>0.155425</td>\n",
       "    </tr>\n",
       "    <tr>\n",
       "      <th>447</th>\n",
       "      <th>extr</th>\n",
       "      <td>0.969258</td>\n",
       "      <td>extr</td>\n",
       "      <td>0.937909</td>\n",
       "    </tr>\n",
       "    <tr>\n",
       "      <th>122</th>\n",
       "      <th>empr</th>\n",
       "      <td>0.280000</td>\n",
       "      <td>empr</td>\n",
       "      <td>0.295549</td>\n",
       "    </tr>\n",
       "    <tr>\n",
       "      <th>267</th>\n",
       "      <th>extr</th>\n",
       "      <td>0.605438</td>\n",
       "      <td>extr</td>\n",
       "      <td>0.567116</td>\n",
       "    </tr>\n",
       "    <tr>\n",
       "      <th>536</th>\n",
       "      <th>samp</th>\n",
       "      <td>0.172497</td>\n",
       "      <td>samp</td>\n",
       "      <td>0.147675</td>\n",
       "    </tr>\n",
       "    <tr>\n",
       "      <th>18</th>\n",
       "      <th>samp</th>\n",
       "      <td>0.115207</td>\n",
       "      <td>samp</td>\n",
       "      <td>0.093897</td>\n",
       "    </tr>\n",
       "    <tr>\n",
       "      <th>885</th>\n",
       "      <th>empr</th>\n",
       "      <td>0.400000</td>\n",
       "      <td>empr</td>\n",
       "      <td>0.401440</td>\n",
       "    </tr>\n",
       "    <tr>\n",
       "      <th>678</th>\n",
       "      <th>empr</th>\n",
       "      <td>0.816667</td>\n",
       "      <td>empr</td>\n",
       "      <td>0.729932</td>\n",
       "    </tr>\n",
       "    <tr>\n",
       "      <th>171</th>\n",
       "      <th>empr</th>\n",
       "      <td>0.096667</td>\n",
       "      <td>empr</td>\n",
       "      <td>0.120879</td>\n",
       "    </tr>\n",
       "    <tr>\n",
       "      <th>820</th>\n",
       "      <th>extr</th>\n",
       "      <td>0.344841</td>\n",
       "      <td>extr</td>\n",
       "      <td>0.331369</td>\n",
       "    </tr>\n",
       "    <tr>\n",
       "      <th>963</th>\n",
       "      <th>extr</th>\n",
       "      <td>0.076042</td>\n",
       "      <td>extr</td>\n",
       "      <td>0.001153</td>\n",
       "    </tr>\n",
       "    <tr>\n",
       "      <th>797</th>\n",
       "      <th>extr</th>\n",
       "      <td>0.999219</td>\n",
       "      <td>extr</td>\n",
       "      <td>0.998581</td>\n",
       "    </tr>\n",
       "    <tr>\n",
       "      <th>509</th>\n",
       "      <th>samp</th>\n",
       "      <td>0.152918</td>\n",
       "      <td>samp</td>\n",
       "      <td>0.117238</td>\n",
       "    </tr>\n",
       "    <tr>\n",
       "      <th>917</th>\n",
       "      <th>empr</th>\n",
       "      <td>0.163333</td>\n",
       "      <td>empr</td>\n",
       "      <td>0.192698</td>\n",
       "    </tr>\n",
       "    <tr>\n",
       "      <th>260</th>\n",
       "      <th>empr</th>\n",
       "      <td>0.140000</td>\n",
       "      <td>empr</td>\n",
       "      <td>0.096936</td>\n",
       "    </tr>\n",
       "    <tr>\n",
       "      <th>566</th>\n",
       "      <th>extr</th>\n",
       "      <td>0.401802</td>\n",
       "      <td>extr</td>\n",
       "      <td>0.408146</td>\n",
       "    </tr>\n",
       "    <tr>\n",
       "      <th>982</th>\n",
       "      <th>samp</th>\n",
       "      <td>0.969694</td>\n",
       "      <td>samp</td>\n",
       "      <td>0.973065</td>\n",
       "    </tr>\n",
       "    <tr>\n",
       "      <th>122</th>\n",
       "      <th>extr</th>\n",
       "      <td>0.288761</td>\n",
       "      <td>extr</td>\n",
       "      <td>0.295549</td>\n",
       "    </tr>\n",
       "    <tr>\n",
       "      <th>892</th>\n",
       "      <th>empr</th>\n",
       "      <td>0.920000</td>\n",
       "      <td>empr</td>\n",
       "      <td>0.877794</td>\n",
       "    </tr>\n",
       "    <tr>\n",
       "      <th>203</th>\n",
       "      <th>empr</th>\n",
       "      <td>0.640000</td>\n",
       "      <td>empr</td>\n",
       "      <td>0.606242</td>\n",
       "    </tr>\n",
       "    <tr>\n",
       "      <th>202</th>\n",
       "      <th>empr</th>\n",
       "      <td>0.516667</td>\n",
       "      <td>empr</td>\n",
       "      <td>0.481655</td>\n",
       "    </tr>\n",
       "    <tr>\n",
       "      <th>380</th>\n",
       "      <th>samp</th>\n",
       "      <td>0.341803</td>\n",
       "      <td>samp</td>\n",
       "      <td>0.345714</td>\n",
       "    </tr>\n",
       "    <tr>\n",
       "      <th>247</th>\n",
       "      <th>samp</th>\n",
       "      <td>0.648638</td>\n",
       "      <td>samp</td>\n",
       "      <td>0.622957</td>\n",
       "    </tr>\n",
       "    <tr>\n",
       "      <th>355</th>\n",
       "      <th>samp</th>\n",
       "      <td>0.756955</td>\n",
       "      <td>samp</td>\n",
       "      <td>0.743730</td>\n",
       "    </tr>\n",
       "    <tr>\n",
       "      <th>838</th>\n",
       "      <th>extr</th>\n",
       "      <td>0.757300</td>\n",
       "      <td>extr</td>\n",
       "      <td>0.710846</td>\n",
       "    </tr>\n",
       "    <tr>\n",
       "      <th>222</th>\n",
       "      <th>samp</th>\n",
       "      <td>0.122787</td>\n",
       "      <td>samp</td>\n",
       "      <td>0.111495</td>\n",
       "    </tr>\n",
       "    <tr>\n",
       "      <th>906</th>\n",
       "      <th>extr</th>\n",
       "      <td>0.961775</td>\n",
       "      <td>extr</td>\n",
       "      <td>0.948959</td>\n",
       "    </tr>\n",
       "    <tr>\n",
       "      <th>231</th>\n",
       "      <th>samp</th>\n",
       "      <td>0.138381</td>\n",
       "      <td>samp</td>\n",
       "      <td>0.128806</td>\n",
       "    </tr>\n",
       "    <tr>\n",
       "      <th>721</th>\n",
       "      <th>empr</th>\n",
       "      <td>0.166667</td>\n",
       "      <td>empr</td>\n",
       "      <td>0.186895</td>\n",
       "    </tr>\n",
       "    <tr>\n",
       "      <th>...</th>\n",
       "      <th>...</th>\n",
       "      <td>...</td>\n",
       "      <td>...</td>\n",
       "      <td>...</td>\n",
       "    </tr>\n",
       "    <tr>\n",
       "      <th>966</th>\n",
       "      <th>extr</th>\n",
       "      <td>0.097057</td>\n",
       "      <td>extr</td>\n",
       "      <td>0.001542</td>\n",
       "    </tr>\n",
       "    <tr>\n",
       "      <th>707</th>\n",
       "      <th>extr</th>\n",
       "      <td>0.922161</td>\n",
       "      <td>extr</td>\n",
       "      <td>0.880543</td>\n",
       "    </tr>\n",
       "    <tr>\n",
       "      <th>94</th>\n",
       "      <th>samp</th>\n",
       "      <td>0.890703</td>\n",
       "      <td>samp</td>\n",
       "      <td>0.902476</td>\n",
       "    </tr>\n",
       "    <tr>\n",
       "      <th>826</th>\n",
       "      <th>empr</th>\n",
       "      <td>1.000000</td>\n",
       "      <td>empr</td>\n",
       "      <td>0.993541</td>\n",
       "    </tr>\n",
       "    <tr>\n",
       "      <th>620</th>\n",
       "      <th>samp</th>\n",
       "      <td>0.037042</td>\n",
       "      <td>samp</td>\n",
       "      <td>0.030643</td>\n",
       "    </tr>\n",
       "    <tr>\n",
       "      <th>21</th>\n",
       "      <th>empr</th>\n",
       "      <td>0.713333</td>\n",
       "      <td>empr</td>\n",
       "      <td>0.673111</td>\n",
       "    </tr>\n",
       "    <tr>\n",
       "      <th>617</th>\n",
       "      <th>samp</th>\n",
       "      <td>0.070716</td>\n",
       "      <td>samp</td>\n",
       "      <td>0.056086</td>\n",
       "    </tr>\n",
       "    <tr>\n",
       "      <th>798</th>\n",
       "      <th>extr</th>\n",
       "      <td>0.999751</td>\n",
       "      <td>extr</td>\n",
       "      <td>0.999503</td>\n",
       "    </tr>\n",
       "    <tr>\n",
       "      <th>368</th>\n",
       "      <th>empr</th>\n",
       "      <td>1.000000</td>\n",
       "      <td>empr</td>\n",
       "      <td>1.000000</td>\n",
       "    </tr>\n",
       "    <tr>\n",
       "      <th>777</th>\n",
       "      <th>extr</th>\n",
       "      <td>0.091845</td>\n",
       "      <td>extr</td>\n",
       "      <td>0.083420</td>\n",
       "    </tr>\n",
       "    <tr>\n",
       "      <th>98</th>\n",
       "      <th>extr</th>\n",
       "      <td>0.994372</td>\n",
       "      <td>extr</td>\n",
       "      <td>0.992813</td>\n",
       "    </tr>\n",
       "    <tr>\n",
       "      <th>445</th>\n",
       "      <th>samp</th>\n",
       "      <td>0.875677</td>\n",
       "      <td>samp</td>\n",
       "      <td>0.854553</td>\n",
       "    </tr>\n",
       "    <tr>\n",
       "      <th>830</th>\n",
       "      <th>samp</th>\n",
       "      <td>0.117938</td>\n",
       "      <td>samp</td>\n",
       "      <td>0.112013</td>\n",
       "    </tr>\n",
       "    <tr>\n",
       "      <th>598</th>\n",
       "      <th>empr</th>\n",
       "      <td>0.110000</td>\n",
       "      <td>empr</td>\n",
       "      <td>0.132661</td>\n",
       "    </tr>\n",
       "    <tr>\n",
       "      <th>370</th>\n",
       "      <th>extr</th>\n",
       "      <td>0.087728</td>\n",
       "      <td>extr</td>\n",
       "      <td>0.081411</td>\n",
       "    </tr>\n",
       "    <tr>\n",
       "      <th>888</th>\n",
       "      <th>extr</th>\n",
       "      <td>0.554039</td>\n",
       "      <td>extr</td>\n",
       "      <td>0.558332</td>\n",
       "    </tr>\n",
       "    <tr>\n",
       "      <th>320</th>\n",
       "      <th>empr</th>\n",
       "      <td>0.450000</td>\n",
       "      <td>empr</td>\n",
       "      <td>0.413578</td>\n",
       "    </tr>\n",
       "    <tr>\n",
       "      <th>573</th>\n",
       "      <th>extr</th>\n",
       "      <td>0.946786</td>\n",
       "      <td>extr</td>\n",
       "      <td>0.936857</td>\n",
       "    </tr>\n",
       "    <tr>\n",
       "      <th>814</th>\n",
       "      <th>samp</th>\n",
       "      <td>0.895944</td>\n",
       "      <td>samp</td>\n",
       "      <td>0.892968</td>\n",
       "    </tr>\n",
       "    <tr>\n",
       "      <th>865</th>\n",
       "      <th>extr</th>\n",
       "      <td>0.803747</td>\n",
       "      <td>extr</td>\n",
       "      <td>0.745530</td>\n",
       "    </tr>\n",
       "    <tr>\n",
       "      <th>954</th>\n",
       "      <th>extr</th>\n",
       "      <td>0.615200</td>\n",
       "      <td>extr</td>\n",
       "      <td>0.533587</td>\n",
       "    </tr>\n",
       "    <tr>\n",
       "      <th>679</th>\n",
       "      <th>extr</th>\n",
       "      <td>0.838856</td>\n",
       "      <td>extr</td>\n",
       "      <td>0.774805</td>\n",
       "    </tr>\n",
       "    <tr>\n",
       "      <th>906</th>\n",
       "      <th>empr</th>\n",
       "      <td>0.980000</td>\n",
       "      <td>empr</td>\n",
       "      <td>0.948959</td>\n",
       "    </tr>\n",
       "    <tr>\n",
       "      <th>60</th>\n",
       "      <th>samp</th>\n",
       "      <td>0.219838</td>\n",
       "      <td>samp</td>\n",
       "      <td>0.215283</td>\n",
       "    </tr>\n",
       "    <tr>\n",
       "      <th>144</th>\n",
       "      <th>empr</th>\n",
       "      <td>0.943333</td>\n",
       "      <td>empr</td>\n",
       "      <td>0.931445</td>\n",
       "    </tr>\n",
       "    <tr>\n",
       "      <th>415</th>\n",
       "      <th>empr</th>\n",
       "      <td>0.040000</td>\n",
       "      <td>empr</td>\n",
       "      <td>0.116058</td>\n",
       "    </tr>\n",
       "    <tr>\n",
       "      <th>183</th>\n",
       "      <th>samp</th>\n",
       "      <td>0.035039</td>\n",
       "      <td>samp</td>\n",
       "      <td>0.026344</td>\n",
       "    </tr>\n",
       "    <tr>\n",
       "      <th>552</th>\n",
       "      <th>samp</th>\n",
       "      <td>0.576088</td>\n",
       "      <td>samp</td>\n",
       "      <td>0.566016</td>\n",
       "    </tr>\n",
       "    <tr>\n",
       "      <th>648</th>\n",
       "      <th>extr</th>\n",
       "      <td>0.112723</td>\n",
       "      <td>extr</td>\n",
       "      <td>0.034157</td>\n",
       "    </tr>\n",
       "    <tr>\n",
       "      <th>35</th>\n",
       "      <th>samp</th>\n",
       "      <td>0.987382</td>\n",
       "      <td>samp</td>\n",
       "      <td>0.985407</td>\n",
       "    </tr>\n",
       "  </tbody>\n",
       "</table>\n",
       "<p>3000 rows × 3 columns</p>\n",
       "</div>"
      ],
      "text/plain": [
       "             value source      base\n",
       "158 samp  0.984006   samp  0.985093\n",
       "881 extr  0.157202   extr  0.155425\n",
       "447 extr  0.969258   extr  0.937909\n",
       "122 empr  0.280000   empr  0.295549\n",
       "267 extr  0.605438   extr  0.567116\n",
       "536 samp  0.172497   samp  0.147675\n",
       "18  samp  0.115207   samp  0.093897\n",
       "885 empr  0.400000   empr  0.401440\n",
       "678 empr  0.816667   empr  0.729932\n",
       "171 empr  0.096667   empr  0.120879\n",
       "820 extr  0.344841   extr  0.331369\n",
       "963 extr  0.076042   extr  0.001153\n",
       "797 extr  0.999219   extr  0.998581\n",
       "509 samp  0.152918   samp  0.117238\n",
       "917 empr  0.163333   empr  0.192698\n",
       "260 empr  0.140000   empr  0.096936\n",
       "566 extr  0.401802   extr  0.408146\n",
       "982 samp  0.969694   samp  0.973065\n",
       "122 extr  0.288761   extr  0.295549\n",
       "892 empr  0.920000   empr  0.877794\n",
       "203 empr  0.640000   empr  0.606242\n",
       "202 empr  0.516667   empr  0.481655\n",
       "380 samp  0.341803   samp  0.345714\n",
       "247 samp  0.648638   samp  0.622957\n",
       "355 samp  0.756955   samp  0.743730\n",
       "838 extr  0.757300   extr  0.710846\n",
       "222 samp  0.122787   samp  0.111495\n",
       "906 extr  0.961775   extr  0.948959\n",
       "231 samp  0.138381   samp  0.128806\n",
       "721 empr  0.166667   empr  0.186895\n",
       "...            ...    ...       ...\n",
       "966 extr  0.097057   extr  0.001542\n",
       "707 extr  0.922161   extr  0.880543\n",
       "94  samp  0.890703   samp  0.902476\n",
       "826 empr  1.000000   empr  0.993541\n",
       "620 samp  0.037042   samp  0.030643\n",
       "21  empr  0.713333   empr  0.673111\n",
       "617 samp  0.070716   samp  0.056086\n",
       "798 extr  0.999751   extr  0.999503\n",
       "368 empr  1.000000   empr  1.000000\n",
       "777 extr  0.091845   extr  0.083420\n",
       "98  extr  0.994372   extr  0.992813\n",
       "445 samp  0.875677   samp  0.854553\n",
       "830 samp  0.117938   samp  0.112013\n",
       "598 empr  0.110000   empr  0.132661\n",
       "370 extr  0.087728   extr  0.081411\n",
       "888 extr  0.554039   extr  0.558332\n",
       "320 empr  0.450000   empr  0.413578\n",
       "573 extr  0.946786   extr  0.936857\n",
       "814 samp  0.895944   samp  0.892968\n",
       "865 extr  0.803747   extr  0.745530\n",
       "954 extr  0.615200   extr  0.533587\n",
       "679 extr  0.838856   extr  0.774805\n",
       "906 empr  0.980000   empr  0.948959\n",
       "60  samp  0.219838   samp  0.215283\n",
       "144 empr  0.943333   empr  0.931445\n",
       "415 empr  0.040000   empr  0.116058\n",
       "183 samp  0.035039   samp  0.026344\n",
       "552 samp  0.576088   samp  0.566016\n",
       "648 extr  0.112723   extr  0.034157\n",
       "35  samp  0.987382   samp  0.985407\n",
       "\n",
       "[3000 rows x 3 columns]"
      ]
     },
     "execution_count": 207,
     "metadata": {},
     "output_type": "execute_result"
    }
   ],
   "source": [
    "c.loc[c.source.apply(lambda x: x in {'samp', 'extr', 'empr'})]"
   ]
  },
  {
   "cell_type": "code",
   "execution_count": 170,
   "metadata": {
    "collapsed": false
   },
   "outputs": [
    {
     "name": "stdout",
     "output_type": "stream",
     "text": [
      "Help on method stack in module pandas.core.frame:\n",
      "\n",
      "stack(self, level=-1, dropna=True) method of pandas.core.frame.DataFrame instance\n",
      "    Pivot a level of the (possibly hierarchical) column labels, returning a\n",
      "    DataFrame (or Series in the case of an object with a single level of\n",
      "    column labels) having a hierarchical index with a new inner-most level\n",
      "    of row labels.\n",
      "    The level involved will automatically get sorted.\n",
      "    \n",
      "    Parameters\n",
      "    ----------\n",
      "    level : int, string, or list of these, default last level\n",
      "        Level(s) to stack, can pass level name\n",
      "    dropna : boolean, default True\n",
      "        Whether to drop rows in the resulting Frame/Series with no valid\n",
      "        values\n",
      "    \n",
      "    Examples\n",
      "    ----------\n",
      "    >>> s\n",
      "         a   b\n",
      "    one  1.  2.\n",
      "    two  3.  4.\n",
      "    \n",
      "    >>> s.stack()\n",
      "    one a    1\n",
      "        b    2\n",
      "    two a    3\n",
      "        b    4\n",
      "    \n",
      "    Returns\n",
      "    -------\n",
      "    stacked : DataFrame or Series\n",
      "\n"
     ]
    }
   ],
   "source": [
    "s = pd.DataFrame(df.stack())\n",
    "help(df.stack)"
   ]
  },
  {
   "cell_type": "code",
   "execution_count": 159,
   "metadata": {
    "collapsed": false
   },
   "outputs": [
    {
     "name": "stdout",
     "output_type": "stream",
     "text": [
      "Help on method stack in module pandas.core.frame:\n",
      "\n",
      "stack(self, level=-1, dropna=True) method of pandas.core.frame.DataFrame instance\n",
      "    Pivot a level of the (possibly hierarchical) column labels, returning a\n",
      "    DataFrame (or Series in the case of an object with a single level of\n",
      "    column labels) having a hierarchical index with a new inner-most level\n",
      "    of row labels.\n",
      "    The level involved will automatically get sorted.\n",
      "    \n",
      "    Parameters\n",
      "    ----------\n",
      "    level : int, string, or list of these, default last level\n",
      "        Level(s) to stack, can pass level name\n",
      "    dropna : boolean, default True\n",
      "        Whether to drop rows in the resulting Frame/Series with no valid\n",
      "        values\n",
      "    \n",
      "    Examples\n",
      "    ----------\n",
      "    >>> s\n",
      "         a   b\n",
      "    one  1.  2.\n",
      "    two  3.  4.\n",
      "    \n",
      "    >>> s.stack()\n",
      "    one a    1\n",
      "        b    2\n",
      "    two a    3\n",
      "        b    4\n",
      "    \n",
      "    Returns\n",
      "    -------\n",
      "    stacked : DataFrame or Series\n",
      "\n"
     ]
    }
   ],
   "source": [
    "help(df.stack)"
   ]
  },
  {
   "cell_type": "code",
   "execution_count": 98,
   "metadata": {
    "collapsed": true
   },
   "outputs": [],
   "source": [
    "v = watch[1]"
   ]
  },
  {
   "cell_type": "code",
   "execution_count": 128,
   "metadata": {
    "collapsed": false
   },
   "outputs": [],
   "source": [
    "df = pd.DataFrame(data=np.vstack((np.concatenate(v['base_power']),\n",
    "                                  np.concatenate(v['samp_power']),\n",
    "                                  np.concatenate(v['extr_power']),\n",
    "                                  np.concatenate(v['empr_power']))).transpose(),\n",
    "                  columns=['base', 'samp', 'extr', 'empr'])\n",
    "\n",
    "base_samp_reg = ols('base ~ samp', data=df).fit()\n",
    "base_extr_reg = ols('base ~ extr', data=df).fit()\n",
    "samp_extr_reg = ols('samp ~ extr', data=df).fit()"
   ]
  },
  {
   "cell_type": "code",
   "execution_count": 131,
   "metadata": {
    "collapsed": true
   },
   "outputs": [
    {
     "name": "stderr",
     "output_type": "stream",
     "text": [
      "/Users/jwdebelius/.virtualenvs/power_play/lib/python2.7/site-packages/IPython/kernel/__main__.py:3: SettingWithCopyWarning: \n",
      "A value is trying to be set on a copy of a slice from a DataFrame.\n",
      "Try using .loc[row_indexer,col_indexer] = value instead\n",
      "\n",
      "See the the caveats in the documentation: http://pandas.pydata.org/pandas-docs/stable/indexing.html#indexing-view-versus-copy\n",
      "  app.launch_new_instance()\n",
      "/Users/jwdebelius/.virtualenvs/power_play/lib/python2.7/site-packages/IPython/kernel/__main__.py:8: SettingWithCopyWarning: \n",
      "A value is trying to be set on a copy of a slice from a DataFrame.\n",
      "Try using .loc[row_indexer,col_indexer] = value instead\n",
      "\n",
      "See the the caveats in the documentation: http://pandas.pydata.org/pandas-docs/stable/indexing.html#indexing-view-versus-copy\n",
      "/Users/jwdebelius/.virtualenvs/power_play/lib/python2.7/site-packages/IPython/kernel/__main__.py:13: SettingWithCopyWarning: \n",
      "A value is trying to be set on a copy of a slice from a DataFrame.\n",
      "Try using .loc[row_indexer,col_indexer] = value instead\n",
      "\n",
      "See the the caveats in the documentation: http://pandas.pydata.org/pandas-docs/stable/indexing.html#indexing-view-versus-copy\n"
     ]
    }
   ],
   "source": [
    "df2 = df[['base', 'samp']]\n",
    "df2.rename(columns={'base': 'x', 'samp': 'y'}, inplace=True)\n",
    "df2['z'] = 0\n",
    "\n",
    "df3 = df[['base', 'extr']]\n",
    "df3.rename(columns={'base': 'x', 'extr': 'y'}, inplace=True)\n",
    "df3.reindex(np.arange(1000, 2000))\n",
    "df3['z'] = 1\n",
    "\n",
    "df4 = df[['base', 'empr']]\n",
    "df4.rename(columns={'base': 'x', 'empr': 'y'}, inplace=True)\n",
    "df4.reindex(np.arange(2000, 3000))\n",
    "df4['z'] = 2\n",
    "\n",
    "df2 = pd.concat((df2, df3, df4))"
   ]
  },
  {
   "cell_type": "code",
   "execution_count": 154,
   "metadata": {
    "collapsed": false
   },
   "outputs": [],
   "source": [
    "lm = ols('y ~ x * ((z == 1) + (z == 2))', df2).fit()"
   ]
  },
  {
   "cell_type": "code",
   "execution_count": 155,
   "metadata": {
    "collapsed": false
   },
   "outputs": [
    {
     "data": {
      "text/html": [
       "<div>\n",
       "<table border=\"1\" class=\"dataframe\">\n",
       "  <thead>\n",
       "    <tr style=\"text-align: right;\">\n",
       "      <th></th>\n",
       "      <th>df</th>\n",
       "      <th>sum_sq</th>\n",
       "      <th>mean_sq</th>\n",
       "      <th>F</th>\n",
       "      <th>PR(&gt;F)</th>\n",
       "    </tr>\n",
       "  </thead>\n",
       "  <tbody>\n",
       "    <tr>\n",
       "      <th>z == 1</th>\n",
       "      <td>1</td>\n",
       "      <td>0.009055</td>\n",
       "      <td>0.009055</td>\n",
       "      <td>13.347843</td>\n",
       "      <td>2.631573e-04</td>\n",
       "    </tr>\n",
       "    <tr>\n",
       "      <th>z == 2</th>\n",
       "      <td>1</td>\n",
       "      <td>0.000398</td>\n",
       "      <td>0.000398</td>\n",
       "      <td>0.586060</td>\n",
       "      <td>4.440071e-01</td>\n",
       "    </tr>\n",
       "    <tr>\n",
       "      <th>x</th>\n",
       "      <td>1</td>\n",
       "      <td>411.085493</td>\n",
       "      <td>411.085493</td>\n",
       "      <td>605951.008371</td>\n",
       "      <td>0.000000e+00</td>\n",
       "    </tr>\n",
       "    <tr>\n",
       "      <th>x:z == 1</th>\n",
       "      <td>1</td>\n",
       "      <td>0.003111</td>\n",
       "      <td>0.003111</td>\n",
       "      <td>4.585141</td>\n",
       "      <td>3.233082e-02</td>\n",
       "    </tr>\n",
       "    <tr>\n",
       "      <th>x:z == 2</th>\n",
       "      <td>1</td>\n",
       "      <td>0.192890</td>\n",
       "      <td>0.192890</td>\n",
       "      <td>284.324596</td>\n",
       "      <td>5.142209e-61</td>\n",
       "    </tr>\n",
       "    <tr>\n",
       "      <th>Residual</th>\n",
       "      <td>2994</td>\n",
       "      <td>2.031171</td>\n",
       "      <td>0.000678</td>\n",
       "      <td>NaN</td>\n",
       "      <td>NaN</td>\n",
       "    </tr>\n",
       "  </tbody>\n",
       "</table>\n",
       "</div>"
      ],
      "text/plain": [
       "            df      sum_sq     mean_sq              F        PR(>F)\n",
       "z == 1       1    0.009055    0.009055      13.347843  2.631573e-04\n",
       "z == 2       1    0.000398    0.000398       0.586060  4.440071e-01\n",
       "x            1  411.085493  411.085493  605951.008371  0.000000e+00\n",
       "x:z == 1     1    0.003111    0.003111       4.585141  3.233082e-02\n",
       "x:z == 2     1    0.192890    0.192890     284.324596  5.142209e-61\n",
       "Residual  2994    2.031171    0.000678            NaN           NaN"
      ]
     },
     "execution_count": 155,
     "metadata": {},
     "output_type": "execute_result"
    }
   ],
   "source": [
    "sm.stats.anova_lm(lm)"
   ]
  },
  {
   "cell_type": "code",
   "execution_count": 142,
   "metadata": {
    "collapsed": false
   },
   "outputs": [
    {
     "name": "stdout",
     "output_type": "stream",
     "text": [
      "   df_resid       ssr  df_diff   ss_diff    F  Pr(>F)\n",
      "0       998  0.713127        0       NaN  NaN     NaN\n",
      "1       998  0.192449       -0  0.520678 -inf     NaN\n",
      "2       998  0.713127       -0 -0.520678  inf     NaN\n"
     ]
    }
   ],
   "source": [
    "lm.model.data.frame[:5]\n",
    "lm1 = ols('base ~ samp', df).fit()\n",
    "lm2 = ols('base ~ extr', df).fit()\n",
    "lm3 = ols('base ~ extr', df).fit()\n",
    "print sm.stats.anova_lm(lm2, lm1, lm3, typ=1)"
   ]
  },
  {
   "cell_type": "code",
   "execution_count": 146,
   "metadata": {
    "collapsed": false
   },
   "outputs": [
    {
     "data": {
      "text/html": [
       "<div>\n",
       "<table border=\"1\" class=\"dataframe\">\n",
       "  <thead>\n",
       "    <tr style=\"text-align: right;\">\n",
       "      <th></th>\n",
       "      <th>sum_sq</th>\n",
       "      <th>df</th>\n",
       "      <th>F</th>\n",
       "      <th>PR(&gt;F)</th>\n",
       "    </tr>\n",
       "  </thead>\n",
       "  <tbody>\n",
       "    <tr>\n",
       "      <th>Intercept</th>\n",
       "      <td>0.104102</td>\n",
       "      <td>1</td>\n",
       "      <td>153.449163</td>\n",
       "      <td>2.097586e-34</td>\n",
       "    </tr>\n",
       "    <tr>\n",
       "      <th>C(z)</th>\n",
       "      <td>0.145107</td>\n",
       "      <td>2</td>\n",
       "      <td>106.945479</td>\n",
       "      <td>1.374679e-45</td>\n",
       "    </tr>\n",
       "    <tr>\n",
       "      <th>x</th>\n",
       "      <td>130.373709</td>\n",
       "      <td>1</td>\n",
       "      <td>192174.332505</td>\n",
       "      <td>0.000000e+00</td>\n",
       "    </tr>\n",
       "    <tr>\n",
       "      <th>x:C(z)</th>\n",
       "      <td>0.196000</td>\n",
       "      <td>2</td>\n",
       "      <td>144.454869</td>\n",
       "      <td>1.286182e-60</td>\n",
       "    </tr>\n",
       "    <tr>\n",
       "      <th>Residual</th>\n",
       "      <td>2.031171</td>\n",
       "      <td>2994</td>\n",
       "      <td>NaN</td>\n",
       "      <td>NaN</td>\n",
       "    </tr>\n",
       "  </tbody>\n",
       "</table>\n",
       "</div>"
      ],
      "text/plain": [
       "               sum_sq    df              F        PR(>F)\n",
       "Intercept    0.104102     1     153.449163  2.097586e-34\n",
       "C(z)         0.145107     2     106.945479  1.374679e-45\n",
       "x          130.373709     1  192174.332505  0.000000e+00\n",
       "x:C(z)       0.196000     2     144.454869  1.286182e-60\n",
       "Residual     2.031171  2994            NaN           NaN"
      ]
     },
     "execution_count": 146,
     "metadata": {},
     "output_type": "execute_result"
    }
   ],
   "source": [
    "sm.stats.anova_lm(lm, typ=3)"
   ]
  },
  {
   "cell_type": "code",
   "execution_count": null,
   "metadata": {
    "collapsed": true
   },
   "outputs": [],
   "source": []
  }
 ],
 "metadata": {
  "kernelspec": {
   "display_name": "Python 2",
   "language": "python",
   "name": "python2"
  },
  "language_info": {
   "codemirror_mode": {
    "name": "ipython",
    "version": 2
   },
   "file_extension": ".py",
   "mimetype": "text/x-python",
   "name": "python",
   "nbconvert_exporter": "python",
   "pygments_lexer": "ipython2",
   "version": "2.7.3"
  }
 },
 "nbformat": 4,
 "nbformat_minor": 0
}
