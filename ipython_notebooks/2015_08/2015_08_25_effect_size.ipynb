{
 "cells": [
  {
   "cell_type": "markdown",
   "metadata": {},
   "source": [
    "**Author**: J W Debelius<br>\n",
    "**Date**: 25 August 2015<br>\n",
    "**virtualenv**: power_play"
   ]
  },
  {
   "cell_type": "code",
   "execution_count": 1,
   "metadata": {
    "collapsed": false
   },
   "outputs": [
    {
     "data": {
      "application/javascript": [
       "IPython.load_extensions('calico-spell-check', 'calico-document-tools')"
      ],
      "text/plain": [
       "<IPython.core.display.Javascript object>"
      ]
     },
     "metadata": {},
     "output_type": "display_data"
    }
   ],
   "source": [
    "%%javascript\n",
    "IPython.load_extensions('calico-spell-check', 'calico-document-tools')"
   ]
  },
  {
   "cell_type": "markdown",
   "metadata": {},
   "source": [
    "Statistical power measures the probability of finding a significant result of a statistical test, for a given critical value, sample size, and effect size. Traditionally, power has been defined using test-based methods, which have been discussed extensively elsewhere\n",
    "% \\cite{Liu2014}.\n",
    "\n",
    "Let $\\{S_{1}, S_{2}, ... S_{k}\\}$ be a set of samples where the $i$th sample contains $N_{i}$ observations and is characterized by a parameter, $X_{i}$. The sample paramter, $X_{i}$ approximates a paramter for the underlying population, $\\chi_{i}$. Supposed we wish to test the alternative hypotheses, \n",
    "\n",
    "$\\begin{matrix}\n",
    "\\textbf{H}_{0} & \\chi_{i} = \\chi_{j} & \\forall \\textrm{ }i, j \\textrm{ } | \\textrm{ }i \\neq j,\\textrm{ }\\{i, j\\textrm{ }\\epsilon\\textrm{ }\\mathbb{N},\\textrm{ }1\\leq i, j \\leq k\\}\\\\\n",
    "\\textbf{H}_{1} & \\chi_{i} \\neq \\chi_{j} & \\exists\\textrm{ }i, j \\textrm{ } | \\textrm{ }i \\neq j,\\textrm{ }\\{i, j\\textrm{ }\\epsilon\\textrm{ }\\mathbb{N},\\textrm{ }1\\leq i, j \\leq k\\}\\\\\n",
    "\\end{matrix}\\tag{1}$\n",
    "\n",
    "There are four possible outcomes of the test. \n",
    "\n",
    "We can use a statistical test, $\\textbf{F}$, to examine the probability of a false negative. We evaluate $\\textbf{F}(S_{1}, S_{2}, ... S_{k}) = a$, where $a$ is drawn from the $A$ distribution with parameters $c$. The probability of a False Negative, $p_{a}$ is $A(a, c)$. We reject $\\textbf{H}_{0}$ when $p_{a}$ is less than some predetermined critical value, $\\alpha$. So, a statistical test can measure the probability of a false negative.\n",
    "\n",
    "The probability of a false positive is harder to measure by a direct test. This value is typically defined for each test. When the null hypothesis is true, $a$ is drawn from an $A$ distribution with parameters, $c$. If the alternative hypothesis is true, $a'$ should be drawn from an $A'$ distribution, characterized by parameters $c$ and a noncentrality parameter, $\\lambda$. The two-tailed probability of a false negative, $\\beta$ is given by equation ().\n",
    "$\\begin{align*}\n",
    "\\beta = P \\left [A' < a_{1 - \\alpha/2} \\right ] - P \\left [A' < a_{\\alpha/2} \\right ]\n",
    "\\end{align*}\\tag{2}$\n",
    "\n",
    "Statistical Power is defined as \n",
    "$\\begin{align*}\n",
    "PWR = 1 - \\beta\n",
    "\\end{align*}\\tag{3}$\n",
    "which allows us to rewrite equation () as equation ().\n",
    "$\\begin{align*}\n",
    "PWR &= 1 - \\beta\\\\\n",
    "&= 1 - \\left ( P \\left [A' < a_{1 - \\alpha/2} \\right ] - P \\left [A' < a_{\\alpha/2} \\right ] \\right )\\\\\n",
    "&= 1 - P \\left [A' < a_{1 - \\alpha/2} \\right ] + P \\left [A' < a_{\\alpha/2} \\right ]\\\\\n",
    "&= 1 - \\Phi_{A'} \\left (a_{1 - \\alpha/2}(c), c, \\lambda \\right ) + \\Phi_{A'} \\left (a_{\\alpha/2}(c), c, \\lambda \\right )\\\\\n",
    "\\end{align*}\\tag{4}$\n",
    "Where $\\Phi_{A'}$ is the cumulative probability distribution function from the non-central $A$ distribution with non centrality parameter, $\\lambda$.\n",
    "\n",
    "Let's consider for a difference in means between two samples of size $n$ drawn from defined populations with means $\\mu_{1}$ and $\\mu_{2}$ and the same variance, $\\sigma^{2}$. \n",
    "\n",
    "$\\begin{matrix}\n",
    "\\textbf{H}_{0} & \\mu_{1} = \\mu_{2}\\\\\n",
    "\\textbf{H}_{1} & \\mu_{1} \\neq \\mu_{2}\\\\\n",
    "\\end{matrix}\\tag{5}$\n",
    "\n",
    "We can test these hypotheses using a $Z$ test. For a $Z$ test, the test statistic, $z$ is calculated as\n",
    "$\\begin{align*}\n",
    "z = \\sqrt{\\frac{n}{2}}\\frac{\\left (\\mu_{1} - \\mu_{2}\\right )}{\\sigma}\n",
    "\\end{align*}\\tag{6}$\n",
    "\n",
    "If the alternative hypothesis is true, the noncentrality parameter, $\\lambda_{z}$ is given by\n",
    "$\\begin{align*}\n",
    "\\lambda_{z} = \\left ( \\frac{\\mu_{1} - \\mu_{2}}{\\sigma} \\right )\\sqrt{\\frac{n}{2}}\n",
    "\\end{align*}\\tag{7}$\n",
    "\n",
    "The power, as described by equation () can be calculating by substituting in equations (), ().\n",
    "\n",
    "$\\begin{align*}\n",
    "PWR &= 1 - \\Phi_{Z'}\\left (z_{1 - \\alpha/2}, \\lambda_{z} \\right ) + \\Phi_{Z'} \\left (z_{\\alpha/2}, \\lambda_{z} \\right )\\\\\n",
    "&= \\Phi_{Z} \\left (\\lambda_{z} - z_{1 - \\alpha/2} \\right ) + \\Phi_{Z} \\left ( z_{\\alpha/2} - \\lambda_{z} \\right )\\\\\n",
    "&= \\Phi_{Z} \\left (\\sqrt{\\lambda_{z}^{2}} - z_{1 - \\alpha/2} \\right )\n",
    "\\end{align*}\\tag{8}$\n",
    "\n",
    "We can use equations (), (), and () to say that for a two-tailed test,\n",
    "$\\begin{align*}\n",
    "1 - \\beta &= \\Phi_{Z} \\left (\\sqrt{\\lambda_{z}^{2}} - z_{1 - \\alpha/2} \\right )\\\\\n",
    "z_{1 - \\beta} &= \\sqrt{\\lambda_{z}^{2}} - z_{1 - \\alpha/2}\\\\\n",
    "z_{1 - \\beta} + z_{1 - \\alpha/2} &= \\sqrt{\\frac{n}{2}\\left (\\frac{\\mu_{1} - \\mu_{2}}{\\sigma} \\right )^{2}}\\\\\n",
    "\\end{align*}\\tag{9}$\n",
    "\n",
    "Cohen defined the standard effect size, $\\delta$ for a Z test as equation ().\n",
    "$\\begin{align*}\n",
    "\\delta_{z} = \\frac{\\mu_{1} - \\mu_{2}}{\\sigma}\n",
    "\\end{align*}\\tag{10}$\n",
    "\n",
    "We can substitute $\\delta_{z}$ into equation (\\ref{eq:sub_pwr}), which lets us approximate the effect size as a function of the power and number of observations.\n",
    "$\\begin{align*}\n",
    "z_{1 - \\beta} + z_{1 - \\alpha/2} = \\sqrt{\\frac{\\delta_{z}^{2}n}{2}}\n",
    "\\end{align*}\\tag{11}$\n",
    "$\\begin{align*}\n",
    "\\delta_{z} = \\sqrt{\\frac{2 \\left (z_{1 - \\beta} + z_{1 - \\alpha/2} \\right )^{2}}{n}}\n",
    "\\end{align*}\\tag{12}$\n",
    "\n",
    "We can estimate a pseudo effect size, $\\widehat{\\delta}_{x}$, based on the z distribution and equation ()."
   ]
  },
  {
   "cell_type": "code",
   "execution_count": 1,
   "metadata": {
    "collapsed": false
   },
   "outputs": [],
   "source": [
    "import numpy as np\n",
    "import scipy.stats as stats\n",
    "import scipy.special as sp\n",
    "import absloute_power.traditional as trad\n",
    "\n",
    "from scipy.stats import norm as Z"
   ]
  },
  {
   "cell_type": "markdown",
   "metadata": {},
   "source": [
    "We're going to test the function of equation (12), and compare it to the effect size we see with the original power, and empricial power."
   ]
  },
  {
   "cell_type": "code",
   "execution_count": 2,
   "metadata": {
    "collapsed": true
   },
   "outputs": [],
   "source": [
    "def estimate_z_effect(count, power, alpha=0.05):\n",
    "    z_diff = Z.ppf(power) + Z.ppf(1 - alpha/2)\n",
    "    eff = np.sqrt(2 * np.square(z_diff) / counts)\n",
    "    return eff"
   ]
  },
  {
   "cell_type": "code",
   "execution_count": 155,
   "metadata": {
    "collapsed": false
   },
   "outputs": [],
   "source": [
    "def power_from_effect(count, eff, alpha=0.05):\n",
    "    return (Z.cdf(eff * np.sqrt(counts) - Z.ppf(1 - alpha/2)) \n",
    "            + (Z.cdf(Z.ppf(alpha/2) - eff * np.sqrt(counts))))"
   ]
  },
  {
   "cell_type": "code",
   "execution_count": 156,
   "metadata": {
    "collapsed": true
   },
   "outputs": [],
   "source": [
    "def get_cohen(sample1, sample2):\n",
    "    x1, s1, n1 = sample1.mean(), sample1.std(), len(sample1)\n",
    "    x2, s2, n2 = sample2.mean(), sample2.std(), len(sample2)\n",
    "    \n",
    "    spool = np.sqrt(((n1-1) * np.square(s1) + (n2 - 1) * np.square(s2)) / (n1 + n2 - 2))\n",
    "    return (x1 - x2) / spool"
   ]
  },
  {
   "cell_type": "code",
   "execution_count": 157,
   "metadata": {
    "collapsed": true
   },
   "outputs": [],
   "source": [
    "def ttest_ind_simulate(mu_lim, sigma_lim, counts_lims):\n",
    "    \"\"\"...\"\"\"\n",
    "    # Gets the distribution paramters\n",
    "    mu1, mu2 = np.random.randint(*mu_lim, size=2)\n",
    "    sigma1, sigma2 = np.random.randint(*sigma_lim, size=2)\n",
    "    n = np.random.randint(*counts_lims)\n",
    "    \n",
    "    # Returns a pair of distributions\n",
    "    samples =  [mu1 + np.random.randn(n) * sigma1, mu2 + np.random.randn(n) * sigma2]\n",
    "    return (mu1, mu2, sigma1, sigma2, n), samples"
   ]
  },
  {
   "cell_type": "code",
   "execution_count": 178,
   "metadata": {
    "collapsed": false
   },
   "outputs": [],
   "source": [
    "params, [sample1, sample2] = ttest_ind_simulate([5, 25], [5, 6], [60, 61])"
   ]
  },
  {
   "cell_type": "code",
   "execution_count": 179,
   "metadata": {
    "collapsed": false
   },
   "outputs": [
    {
     "data": {
      "text/plain": [
       "(5, 10, 5, 5, 60)"
      ]
     },
     "execution_count": 179,
     "metadata": {},
     "output_type": "execute_result"
    }
   ],
   "source": [
    "params"
   ]
  },
  {
   "cell_type": "code",
   "execution_count": 180,
   "metadata": {
    "collapsed": false
   },
   "outputs": [
    {
     "name": "stdout",
     "output_type": "stream",
     "text": [
      "4.45940516245 9.8661094469\n",
      "4.74814598067 4.48622845482\n"
     ]
    }
   ],
   "source": [
    "print sample1.mean(), sample2.mean()\n",
    "print sample1.std(), sample2.std()"
   ]
  },
  {
   "cell_type": "code",
   "execution_count": 181,
   "metadata": {
    "collapsed": false
   },
   "outputs": [
    {
     "data": {
      "text/plain": [
       "-1.1705245106206144"
      ]
     },
     "execution_count": 181,
     "metadata": {},
     "output_type": "execute_result"
    }
   ],
   "source": [
    "cohen_d = get_cohen(sample1, sample2)\n",
    "cohen_d"
   ]
  },
  {
   "cell_type": "code",
   "execution_count": 182,
   "metadata": {
    "collapsed": false
   },
   "outputs": [
    {
     "name": "stdout",
     "output_type": "stream",
     "text": [
      "[ 0.06336949  0.15171767  0.24240798  0.32916282  0.41065646  0.48603024\n",
      "  0.55477256  0.61669381  0.67186629  0.72055621  0.76316181  0.80016217\n",
      "  0.83207703  0.85943685  0.88276116  0.90254401  0.91924465  0.93328249\n",
      "  0.94503492  0.95483743  0.96298517  0.9697355   0.97531104  0.97990302]\n"
     ]
    }
   ],
   "source": [
    "counts = np.arange(1.5, 25, )\n",
    "power = trad.calc_ttest_ind(sample1, sample2, counts)\n",
    "print power"
   ]
  },
  {
   "cell_type": "code",
   "execution_count": 183,
   "metadata": {
    "collapsed": false
   },
   "outputs": [
    {
     "name": "stdout",
     "output_type": "stream",
     "text": [
      "1.07043574429 0.138816989766\n"
     ]
    }
   ],
   "source": [
    "eff_ = estimate_z_effect(counts, power)\n",
    "print eff_.mean(), eff_.std()"
   ]
  },
  {
   "cell_type": "code",
   "execution_count": 184,
   "metadata": {
    "collapsed": false
   },
   "outputs": [
    {
     "data": {
      "text/plain": [
       "array([ 0.06336949,  0.15171767,  0.24240798,  0.32916282,  0.41065646,\n",
       "        0.48603024,  0.55477256,  0.61669381,  0.67186629,  0.72055621,\n",
       "        0.76316181,  0.80016217,  0.83207703,  0.85943685,  0.88276116,\n",
       "        0.90254401,  0.91924465,  0.93328249,  0.94503492,  0.95483743,\n",
       "        0.96298517,  0.9697355 ,  0.97531104,  0.97990302])"
      ]
     },
     "execution_count": 184,
     "metadata": {},
     "output_type": "execute_result"
    }
   ],
   "source": [
    "power"
   ]
  },
  {
   "cell_type": "code",
   "execution_count": 185,
   "metadata": {
    "collapsed": false
   },
   "outputs": [
    {
     "data": {
      "text/plain": [
       "array([ 0.17200799,  0.25743359,  0.34035092,  0.41910751,  0.49247293,\n",
       "        0.55970806,  0.62048202,  0.67477391,  0.72278503,  0.76486647,\n",
       "        0.80146208,  0.83306479,  0.86018434,  0.88332422,  0.90296596,\n",
       "        0.91955905,  0.93351524,  0.94520596,  0.95496206,  0.96307511,\n",
       "        0.96979965,  0.97535616,  0.9799342 ,  0.98369579])"
      ]
     },
     "execution_count": 185,
     "metadata": {},
     "output_type": "execute_result"
    }
   ],
   "source": [
    "pwr_2 = (Z.cdf(-cohen_d * np.sqrt(counts/2) - Z.ppf(0.975)))\n",
    "pwr_2"
   ]
  },
  {
   "cell_type": "code",
   "execution_count": 186,
   "metadata": {
    "collapsed": false
   },
   "outputs": [],
   "source": [
    "\\\\"
   ]
  },
  {
   "cell_type": "code",
   "execution_count": 187,
   "metadata": {
    "collapsed": true
   },
   "outputs": [],
   "source": [
    "from americangut.power_plots import confidence_bound"
   ]
  },
  {
   "cell_type": "code",
   "execution_count": 188,
   "metadata": {
    "collapsed": false
   },
   "outputs": [
    {
     "data": {
      "text/plain": [
       "0.061165851025897992"
      ]
     },
     "execution_count": 188,
     "metadata": {},
     "output_type": "execute_result"
    }
   ],
   "source": [
    "confidence_bound(eff_)"
   ]
  },
  {
   "cell_type": "code",
   "execution_count": 189,
   "metadata": {
    "collapsed": false
   },
   "outputs": [
    {
     "data": {
      "text/plain": [
       "array([ 0.49984141,  0.83259512,  0.95351837,  1.0118253 ,  1.04570608,\n",
       "        1.0677645 ,  1.08324382,  1.09469567,  1.10350639,  1.11049278,\n",
       "        1.11616689,  1.12086584,  1.12482054,  1.12819448,  1.13110656,\n",
       "        1.13364533,  1.13587809,  1.13785697,  1.13962283,  1.14120825,\n",
       "        1.14263945,  1.14393793,  1.14512126,  1.14620401])"
      ]
     },
     "execution_count": 189,
     "metadata": {},
     "output_type": "execute_result"
    }
   ],
   "source": [
    "eff_"
   ]
  },
  {
   "cell_type": "code",
   "execution_count": 190,
   "metadata": {
    "collapsed": false
   },
   "outputs": [
    {
     "data": {
      "text/plain": [
       "array([  1.5,   2.5,   3.5,   4.5,   5.5,   6.5,   7.5,   8.5,   9.5,\n",
       "        10.5,  11.5,  12.5,  13.5,  14.5,  15.5,  16.5,  17.5,  18.5,\n",
       "        19.5,  20.5,  21.5,  22.5,  23.5,  24.5])"
      ]
     },
     "execution_count": 190,
     "metadata": {},
     "output_type": "execute_result"
    }
   ],
   "source": [
    "counts"
   ]
  },
  {
   "cell_type": "code",
   "execution_count": 191,
   "metadata": {
    "collapsed": false
   },
   "outputs": [
    {
     "data": {
      "text/plain": [
       "array([ 0.15276086,  0.22347559,  0.29361921,  0.36173465,  0.4267683 ,\n",
       "        0.48800056,  0.54498291,  0.59748233,  0.64543334,  0.68889721,\n",
       "        0.72802801,  0.76304481,  0.79420916,  0.82180741,  0.84613687,\n",
       "        0.86749544,  0.88617383,  0.90245019,  0.91658642,  0.92882595,\n",
       "        0.93939257,  0.94849011,  0.95630276,  0.96299578])"
      ]
     },
     "execution_count": 191,
     "metadata": {},
     "output_type": "execute_result"
    }
   ],
   "source": [
    "pwr_3 = (Z.cdf(eff_.mean() * np.sqrt(counts/2) - Z.ppf(0.975)) +\n",
    "         Z.cdf(Z.ppf(0.025) - eff_.mean() * np.sqrt(counts/2)))\n",
    "         \n",
    "pwr_3"
   ]
  },
  {
   "cell_type": "code",
   "execution_count": 192,
   "metadata": {
    "collapsed": false
   },
   "outputs": [
    {
     "data": {
      "text/plain": [
       "array([ 0.06336949,  0.15171767,  0.24240798,  0.32916282,  0.41065646,\n",
       "        0.48603024,  0.55477256,  0.61669381,  0.67186629,  0.72055621,\n",
       "        0.76316181,  0.80016217,  0.83207703,  0.85943685,  0.88276116,\n",
       "        0.90254401,  0.91924465,  0.93328249,  0.94503492,  0.95483743,\n",
       "        0.96298517,  0.9697355 ,  0.97531104,  0.97990302])"
      ]
     },
     "execution_count": 192,
     "metadata": {},
     "output_type": "execute_result"
    }
   ],
   "source": [
    "power"
   ]
  },
  {
   "cell_type": "code",
   "execution_count": 193,
   "metadata": {
    "collapsed": false
   },
   "outputs": [
    {
     "name": "stdout",
     "output_type": "stream",
     "text": [
      "1.00926989326 1.07043574429 1.13160159531\n"
     ]
    }
   ],
   "source": [
    "eff_l = eff_.mean() - confidence_bound(eff_)\n",
    "eff_h = eff_.mean() + confidence_bound(eff_)\n",
    "print eff_l, eff_.mean(), eff_h"
   ]
  },
  {
   "cell_type": "code",
   "execution_count": 194,
   "metadata": {
    "collapsed": false
   },
   "outputs": [],
   "source": [
    "pwr_l = Z.cdf(eff_l * np.sqrt(counts/2) - Z.ppf(0.975))\n",
    "pwr_h = Z.cdf(eff_h * np.sqrt(counts/2) - Z.ppf(0.975))"
   ]
  },
  {
   "cell_type": "code",
   "execution_count": 195,
   "metadata": {
    "collapsed": false
   },
   "outputs": [],
   "source": [
    "% matplotlib inline\n",
    "import matplotlib.pyplot as plt"
   ]
  },
  {
   "cell_type": "code",
   "execution_count": 196,
   "metadata": {
    "collapsed": false
   },
   "outputs": [
    {
     "data": {
      "text/plain": [
       "<matplotlib.collections.PolyCollection at 0x10c938cd0>"
      ]
     },
     "execution_count": 196,
     "metadata": {},
     "output_type": "execute_result"
    },
    {
     "data": {
      "image/png": "[encoded data removed]",
      "text/plain": [
       "<matplotlib.figure.Figure at 0x10c906910>"
      ]
     },
     "metadata": {},
     "output_type": "display_data"
    }
   ],
   "source": [
    "plt.plot(counts, power)\n",
    "plt.plot(counts, pwr_2)\n",
    "plt.plot(counts, pwr_3)\n",
    "plt.fill_between(counts, pwr_l, pwr_h, color='r', alpha=0.25)"
   ]
  },
  {
   "cell_type": "code",
   "execution_count": 177,
   "metadata": {
    "collapsed": false
   },
   "outputs": [
    {
     "data": {
      "text/plain": [
       "array([  1.01027853,   0.06680058,   0.85194056,   1.90334916,\n",
       "         3.01325131,   4.13315773,   5.24876549,   6.3557181 ,\n",
       "         7.45305756,   8.54106684,   9.62046722,  10.69209858,\n",
       "        11.75678935,  12.81530619,  13.86833791,  14.91649454,\n",
       "        15.96031257,  17.00026241,  18.03675633,  19.07015614,\n",
       "        20.10077867,  21.12890349,  22.15477698,  23.17861685])"
      ]
     },
     "execution_count": 177,
     "metadata": {},
     "output_type": "execute_result"
    }
   ],
   "source": [
    "n = 2 * np.square((Z.ppf(power) + Z.ppf(0.975)) / cohen_d)\n",
    "n"
   ]
  },
  {
   "cell_type": "code",
   "execution_count": 214,
   "metadata": {
    "collapsed": false
   },
   "outputs": [
    {
     "data": {
      "text/plain": [
       "array([  5. ,   7.5,  10. ,  12.5,  15. ,  17.5,  20. ,  22.5,  25. ,\n",
       "        27.5,  30. ,  32.5,  35. ,  37.5,  40. ,  42.5,  45. ,  47.5])"
      ]
     },
     "execution_count": 214,
     "metadata": {},
     "output_type": "execute_result"
    }
   ],
   "source": [
    "counts"
   ]
  },
  {
   "cell_type": "code",
   "execution_count": 219,
   "metadata": {
    "collapsed": false
   },
   "outputs": [
    {
     "data": {
      "text/plain": [
       "array([ 0.226416  ,  0.2560455 ,  0.2690873 ,  0.27631176,  0.28088392,\n",
       "        0.28403701,  0.28634459,  0.28810809,  0.28950074,  0.29062908,\n",
       "        0.29156229,  0.29234725,  0.29301686,  0.29359492,  0.29409909,\n",
       "        0.29454273,  0.29493615,  0.29528745])"
      ]
     },
     "execution_count": 219,
     "metadata": {},
     "output_type": "execute_result"
    }
   ],
   "source": [
    "2 * np.square(Z.ppf(power) + Z.ppf(0.975))/counts"
   ]
  },
  {
   "cell_type": "code",
   "execution_count": 220,
   "metadata": {
    "collapsed": false
   },
   "outputs": [
    {
     "data": {
      "text/plain": [
       "0.54909520616172347"
      ]
     },
     "execution_count": 220,
     "metadata": {},
     "output_type": "execute_result"
    }
   ],
   "source": [
    "cohen_d"
   ]
  },
  {
   "cell_type": "code",
   "execution_count": 222,
   "metadata": {
    "collapsed": false
   },
   "outputs": [
    {
     "data": {
      "text/plain": [
       "0.53186170149084788"
      ]
     },
     "execution_count": 222,
     "metadata": {},
     "output_type": "execute_result"
    }
   ],
   "source": [
    "np.sqrt(2 * np.square(Z.ppf(power) + Z.ppf(0.975))/counts).mean()"
   ]
  },
  {
   "cell_type": "code",
   "execution_count": null,
   "metadata": {
    "collapsed": true
   },
   "outputs": [],
   "source": []
  }
 ],
 "metadata": {
  "kernelspec": {
   "display_name": "Python 2",
   "language": "python",
   "name": "python2"
  },
  "language_info": {
   "codemirror_mode": {
    "name": "ipython",
    "version": 2
   },
   "file_extension": ".py",
   "mimetype": "text/x-python",
   "name": "python",
   "nbconvert_exporter": "python",
   "pygments_lexer": "ipython2",
   "version": "2.7.3"
  }
 },
 "nbformat": 4,
 "nbformat_minor": 0
}
