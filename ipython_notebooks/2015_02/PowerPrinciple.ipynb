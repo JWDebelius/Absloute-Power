{
 "metadata": {
  "name": "",
  "signature": "sha256:b91be4b3459562667adf20eb7cdcd9f3e9dcd945ef3ccbeb95d1921a9238aa22"
 },
 "nbformat": 3,
 "nbformat_minor": 0,
 "worksheets": [
  {
   "cells": [
    {
     "cell_type": "markdown",
     "metadata": {},
     "source": []
    },
    {
     "cell_type": "code",
     "collapsed": false,
     "input": [
      "import numpy as np\n",
      "import pandas as pd\n",
      "import scipy\n",
      "import skbio\n",
      "import biom\n",
      "\n",
      "import matplotlib.pyplot as plt\n",
      "import americangut.power_plots as pp\n",
      "\n",
      "from matplotlib import rcParams\n",
      "from skbio.stats.power import subsample_power"
     ],
     "language": "python",
     "metadata": {},
     "outputs": [],
     "prompt_number": 22
    },
    {
     "cell_type": "code",
     "collapsed": false,
     "input": [
      "# Displays images inline\n",
      "%matplotlib inline\n",
      "\n",
      "# Sets up plotting parameters so that the default setting is use to Helvetica\n",
      "# in plots\n",
      "rcParams['font.family'] = 'sans-serif'\n",
      "rcParams['font.sans-serif'] = ['Helvetica', 'Arial']\n",
      "rcParams['text.usetex'] = True"
     ],
     "language": "python",
     "metadata": {},
     "outputs": [],
     "prompt_number": 4
    },
    {
     "cell_type": "code",
     "collapsed": false,
     "input": [
      "def plot_shaded_axis(domain, population, bins, histogram, width, critical, line_color, facecolor, \n",
      "                     ax=None, direction='left', xlim=[-50, 50], x_int=10, offset=0.125):\n",
      "    \"\"\" \"\"\"\n",
      "    if ax is None:\n",
      "        ax = plt.axes()\n",
      "        \n",
      "    # Normalizes the population value\n",
      "    population = population/population.max()*(1-offset*2) + offset\n",
      "    histogram = histogram/histogram.max() * (1 - offset*2)\n",
      "    \n",
      "    # Defines vectors for selecting critical values\n",
      "    if direction == 'left':\n",
      "        crit_domain = domain > critical\n",
      "        crit_bin = bins > critical\n",
      "        crit_pad = histogram[bins < critical][-1]\n",
      "        crit_width = bins[crit_bin][0]-critical\n",
      "    else:\n",
      "        crit_domain = domain < critical\n",
      "        crit_bin = (bins < critical)[:-2]\n",
      "        crit_pad = histogram[bins < critical][1]\n",
      "        crit_width = bins[crit_bin][-1]+critical\n",
      "        \n",
      "    \n",
      "    # Plots the domain trace\n",
      "    ax.plot(domain, population, color=line_color, linewidth=2)\n",
      "    \n",
      "    # Fills in the area behind the critical_value\n",
      "    ax.fill_between(x=domain[crit_domain], y1=offset, y2=population[crit_domain], color=line_color)\n",
      "    ax.fill_between(x=domain[crit_domain], y1=offset, y2=population[crit_domain], color=[0.75, 0.75, 0.75], alpha=0.5)\n",
      "\n",
      "    # Plots the histogram of the actual data drawn\n",
      "    ax.bar(bins, histogram, width=width, bottom=offset, color=facecolor, edgecolor=facecolor, alpha=0.5)\n",
      "    ax.bar([critical], crit_pad, width=crit_width, \n",
      "           bottom=offset, color=[0.75, 0.75, 0.75], edgecolor=[0.75, 0.75, 0.75], alpha=0.4)\n",
      "    ax.bar(bins[crit_bin], histogram[crit_bin], width=width, bottom=offset, \n",
      "           color=[0.75, 0.75, 0.75], edgecolor=[0.75, 0.75, 0.75], alpha=0.4)\n",
      "\n",
      "    # Plots a critical values line\n",
      "    ax.plot([critical]*2, [0.05, 0.95], 'k-')\n",
      "    \n",
      "    format_hist_ax(ax, xlim, np.arange(xlim[0], xlim[1]+x_int, x_int), [0, 1])\n"
     ],
     "language": "python",
     "metadata": {},
     "outputs": [],
     "prompt_number": 17
    },
    {
     "cell_type": "markdown",
     "metadata": {},
     "source": [
      "I want to start by assuming that we're working with a two samples drawn from two normal distributions. Let's start by defining the two distributions to see their overlap."
     ]
    },
    {
     "cell_type": "code",
     "collapsed": false,
     "input": [
      "def format_hist_ax(ax, xlim, xticks, ylim):\n",
      "    \"\"\"Makes a pretty histogram axis\"\"\"\n",
      "    # Formats the axis limits\n",
      "    ax.set_xlim(xlim)\n",
      "    ax.set_xticks(xticks)\n",
      "    ax.set_ylim(ylim)\n",
      "    \n",
      "    # Formats the lines around the axis to make them pretty\n",
      "    ax.set_xticklabels('')\n",
      "    ax.yaxis.set_visible(False)\n",
      "    ax.spines['left'].set_visible(False)\n",
      "    ax.spines['right'].set_visible(False)\n",
      "    ax.spines['top'].set_visible(False)\n",
      "    ax.xaxis.set_ticks_position('bottom')\n",
      "    ax.get_xaxis().set_tick_params(direction='out')"
     ],
     "language": "python",
     "metadata": {},
     "outputs": [],
     "prompt_number": 6
    },
    {
     "cell_type": "code",
     "collapsed": false,
     "input": [
      "def ind_2_ind_pwr(n, mu1, mu2, sigma1, sigma2, alpha=0.05):\n",
      "    \"\"\"Calculates the stastical power for a pair of normal distributions\n",
      "    \n",
      "    Parameters\n",
      "    ----------\n",
      "    \n",
      "    Returns\n",
      "    -------\n",
      "    \n",
      "    Refs\n",
      "    ----\n",
      "    \n",
      "    \"\"\"\n",
      "    # Gets the distribution stats for the first distribution\n",
      "    # Calculates the effect size for the comparison\n",
      "    eff = (np.absolute(mu1 - mu2) / \n",
      "           np.sqrt(np.square(sigma1) + np.square(sigma2)))\n",
      "    z_alpha = scipy.stats.norm.ppf(1 - alpha / 2)\n",
      "\n",
      "    beta = scipy.stats.norm.cdf(-z_alpha + eff * np.sqrt(n))\n",
      "    return beta"
     ],
     "language": "python",
     "metadata": {},
     "outputs": [],
     "prompt_number": 43
    },
    {
     "cell_type": "markdown",
     "metadata": {},
     "source": []
    },
    {
     "cell_type": "code",
     "collapsed": false,
     "input": [
      "mu1 = 0\n",
      "mu2 = 25\n",
      "sigma1 = 25\n",
      "sigma2 = 25"
     ],
     "language": "python",
     "metadata": {},
     "outputs": [],
     "prompt_number": 8
    },
    {
     "cell_type": "code",
     "collapsed": false,
     "input": [
      "domain_min = -200\n",
      "domain_max = 200\n",
      "domain_int = 1\n",
      "percentile_int = 1\n",
      "hist_interval = 25"
     ],
     "language": "python",
     "metadata": {},
     "outputs": [],
     "prompt_number": 9
    },
    {
     "cell_type": "markdown",
     "metadata": {},
     "source": [
      "We can define the populations."
     ]
    },
    {
     "cell_type": "code",
     "collapsed": false,
     "input": [
      "domain = np.arange(domain_min, domain_max + domain_int, domain_int)\n",
      "population1 = scipy.stats.norm.pdf(domain, mu1, sigma1)\n",
      "population2 = scipy.stats.norm.pdf(domain, mu2, sigma2)"
     ],
     "language": "python",
     "metadata": {},
     "outputs": [],
     "prompt_number": 10
    },
    {
     "cell_type": "markdown",
     "metadata": {},
     "source": [
      "We can also estimate an x value in population1 which represents the 95% confidence mark for the upper bound."
     ]
    },
    {
     "cell_type": "code",
     "collapsed": false,
     "input": [
      "percentile = np.arange(domain_min, domain_max+percentile_int, percentile_int)\n",
      "cdf1 = scipy.stats.norm.cdf(percentile, mu1, sigma1)\n",
      "index = np.arange(0, len(percentile) + 1)\n",
      "perc_95 = percentile[index[cdf1 > 0.975].min()]"
     ],
     "language": "python",
     "metadata": {},
     "outputs": [],
     "prompt_number": 11
    },
    {
     "cell_type": "markdown",
     "metadata": {},
     "source": [
      "We'll simulate a set of histograms that follow these distributions, and use them to look at various methods of estimating statistical power. We'll draw 25 samples from each distribution as a starting point."
     ]
    },
    {
     "cell_type": "code",
     "collapsed": false,
     "input": [
      "sample1 = sigma1*np.random.randn(50) + mu1\n",
      "sample2 = sigma2*np.random.randn(50) + mu2"
     ],
     "language": "python",
     "metadata": {},
     "outputs": [],
     "prompt_number": 12
    },
    {
     "cell_type": "markdown",
     "metadata": {},
     "source": []
    },
    {
     "cell_type": "code",
     "collapsed": false,
     "input": [
      "# Designates the bins\n",
      "bins = np.arange(domain_min, domain_max + hist_interval, hist_interval)\n",
      "# Determines the histogram\n",
      "hist1, bins = np.histogram(sample1, bins)\n",
      "hist2, bins = np.histogram(sample2, bins)\n",
      "# Normalizes the data\n",
      "hist1 = hist1/float(hist1.max())\n",
      "hist2 = hist2/float(hist2.max())\n",
      "# Fixes the bins data\n",
      "bins = bins[:-1]"
     ],
     "language": "python",
     "metadata": {},
     "outputs": [],
     "prompt_number": 15
    },
    {
     "cell_type": "markdown",
     "metadata": {},
     "source": []
    },
    {
     "cell_type": "code",
     "collapsed": false,
     "input": [
      "p_domain = np.arange(perc_95, domain_max, percentile_int)\n",
      "percent1 = scipy.stats.norm.pdf(p_domain, mu1, sigma1)\n",
      "percent2 = scipy.stats.norm.pdf(p_domain, mu2, sigma2)"
     ],
     "language": "python",
     "metadata": {},
     "outputs": [],
     "prompt_number": 16
    },
    {
     "cell_type": "markdown",
     "metadata": {},
     "source": []
    },
    {
     "cell_type": "code",
     "collapsed": false,
     "input": [
      "# Gets axes\n",
      "ax1 = plt.subplot(2, 1, 1)\n",
      "ax2 = plt.subplot(2, 1, 2)\n",
      "\n",
      "# Plots the distributions \n",
      "plot_shaded_axis(domain, population1, bins, hist1, hist_interval, \n",
      "                 perc_95, [0, 0, 1], [0.25, 0.5, 1], ax=ax1, \n",
      "                 xlim=[-200, 200], x_int=50)\n",
      "plot_shaded_axis(domain, population2, bins, hist2, hist_interval, \n",
      "                 perc_95, [1, 0, 0], [1, 0.6, 0.5], ax=ax2, \n",
      "                 xlim=[-200, 200], x_int=50, direction='left')\n",
      "\n",
      "# Adds the means\n",
      "ax1.plot([mu1]*2, [0.8, 0.95], 'b-')\n",
      "ax2.plot([mu2]*2, [0.8, 0.95], 'r-')"
     ],
     "language": "python",
     "metadata": {},
     "outputs": [
      {
       "metadata": {},
       "output_type": "pyout",
       "prompt_number": 18,
       "text": [
        "[<matplotlib.lines.Line2D at 0x10bd10b90>]"
       ]
      },
      {
       "metadata": {},
       "output_type": "display_data",
       "png": "[encoded data removed]",
       "text": [
        "<matplotlib.figure.Figure at 0x10bbcac10>"
       ]
      }
     ],
     "prompt_number": 18
    },
    {
     "cell_type": "markdown",
     "metadata": {},
     "source": [
      "For two independent samples, power is given by\n",
      "$$ PWR(|\\mu_{1} - \\mu_{2}|) = P\\left (Z < - z_{(1 - \\alpha/ 2)} + \\frac{|\\mu_{1} - \\mu_{2}|}{\\sqrt{\\sigma_{1}^{2}/n_{1} + \\sigma_{2}^{2}/n_{2}}} \\right )$$\n",
      "\n",
      "$$ PWR(|\\mu_{1} - \\mu_{2}|) = norm \\left (-z_{(1 - \\alpha/2)} + \\frac{|\\mu_{1} - \\mu_{2}|}{\\sqrt{\\sigma_{1}^{2}/n_{1} + \\sigma_{2}^{2}/n_{2}}} \\right )$$\n"
     ]
    },
    {
     "cell_type": "markdown",
     "metadata": {},
     "source": [
      "We're going to calculate the emperical power, the power based on the underlying distributions and the power based on the samples."
     ]
    },
    {
     "cell_type": "code",
     "collapsed": false,
     "input": [
      "pwr_test = lambda x: scipy.stats.ttest_ind(x[0], x[1])[1]"
     ],
     "language": "python",
     "metadata": {},
     "outputs": [],
     "prompt_number": 25
    },
    {
     "cell_type": "code",
     "collapsed": false,
     "input": [
      "power, counts = subsample_power(pwr_test, [sample1, sample2], min_counts=5, max_counts=25, counts_interval=5)"
     ],
     "language": "python",
     "metadata": {},
     "outputs": [],
     "prompt_number": 26
    },
    {
     "cell_type": "code",
     "collapsed": false,
     "input": [
      "eff_mean, eff_bound = pp.collate_effect_size(counts, power, 0.05)"
     ],
     "language": "python",
     "metadata": {},
     "outputs": [],
     "prompt_number": 30
    },
    {
     "cell_type": "code",
     "collapsed": false,
     "input": [
      "plot_counts = np.hstack((np.arange(2, 20, 1), np.arange(20, 55, 5)))"
     ],
     "language": "python",
     "metadata": {},
     "outputs": [],
     "prompt_number": 39
    },
    {
     "cell_type": "code",
     "collapsed": false,
     "input": [
      "pop_pwr = ind_2_ind_pwr(plot_counts, mu1, mu2, sigma1, sigma2)\n",
      "samp_pwr = ind_2_ind_pwr(plot_counts, sample1.mean(), sample2.mean(), sample1.std(), sample2.std())"
     ],
     "language": "python",
     "metadata": {},
     "outputs": [],
     "prompt_number": 44
    },
    {
     "cell_type": "code",
     "collapsed": false,
     "input": [
      "help(ind_2_ind_pwr)"
     ],
     "language": "python",
     "metadata": {},
     "outputs": [
      {
       "output_type": "stream",
       "stream": "stdout",
       "text": [
        "Help on function ind_2_ind_pwr in module __main__:\n",
        "\n",
        "ind_2_ind_pwr(n, mu1, mu2, sigma1, sigma2, alpha=0.05)\n",
        "    Calculates the stastical power for a pair of normal distributions\n",
        "    \n",
        "    Parameters\n",
        "    ----------\n",
        "    \n",
        "    Returns\n",
        "    -------\n",
        "    \n",
        "    Refs\n",
        "    ----\n",
        "\n"
       ]
      }
     ],
     "prompt_number": 41
    },
    {
     "cell_type": "code",
     "collapsed": false,
     "input": [
      "fig = pp.plot_effects(eff_mean, eff_bound, np.array(['Emperical Power']), plot_counts)\n",
      "pwr_ax = fig.axes[0]\n",
      "pwr_ax.plot(plot_counts, pop_pwr, '-')\n",
      "pwr_ax.plot(plot_counts, samp_pwr, 'rx')"
     ],
     "language": "python",
     "metadata": {},
     "outputs": [
      {
       "metadata": {},
       "output_type": "pyout",
       "prompt_number": 49,
       "text": [
        "[<matplotlib.lines.Line2D at 0x10c1770d0>]"
       ]
      },
      {
       "metadata": {},
       "output_type": "display_data",
       "png": "[encoded data removed]",
       "text": [
        "<matplotlib.figure.Figure at 0x10c177ed0>"
       ]
      }
     ],
     "prompt_number": 49
    },
    {
     "cell_type": "code",
     "collapsed": false,
     "input": [
      "print (sample1.mean(), mu1)\n",
      "print (sample2.mean(), mu2)"
     ],
     "language": "python",
     "metadata": {},
     "outputs": [
      {
       "output_type": "stream",
       "stream": "stdout",
       "text": [
        "(-0.2076924134841299, 0)\n",
        "(27.885128428556765, 25)\n"
       ]
      }
     ],
     "prompt_number": 51
    },
    {
     "cell_type": "code",
     "collapsed": false,
     "input": [],
     "language": "python",
     "metadata": {},
     "outputs": []
    }
   ],
   "metadata": {}
  }
 ]
}