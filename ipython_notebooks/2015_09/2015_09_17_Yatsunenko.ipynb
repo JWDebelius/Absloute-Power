{
 "cells": [
  {
   "cell_type": "code",
   "execution_count": 1,
   "metadata": {
    "collapsed": false
   },
   "outputs": [],
   "source": [
    "from __future__ import division\n",
    "\n",
    "import os\n",
    "import matplotlib.pyplot as plt\n",
    "import numpy as np\n",
    "import skbio\n",
    "import scipy.stats\n",
    "import statsmodels.api as sms\n",
    "import statsmodels.formula.api as smf\n",
    "\n",
    "import absloute_power.traditional as trad\n",
    "import absloute_power.utils as ap\n",
    "\n",
    "\n",
    "import pandas as pd\n",
    "import biom\n",
    "\n",
    "from skbio.stats.power import subsample_power\n",
    "\n",
    "from absloute_power.traditional import calc_ttest_1"
   ]
  },
  {
   "cell_type": "code",
   "execution_count": 2,
   "metadata": {
    "collapsed": false
   },
   "outputs": [],
   "source": [
    "import pickle"
   ]
  },
  {
   "cell_type": "code",
   "execution_count": 3,
   "metadata": {
    "collapsed": true
   },
   "outputs": [],
   "source": [
    "base_dir = '/Users/jwdebelius/Repositories/Absloute-Power'\n",
    "data_dir = os.path.join(base_dir, 'data/yatsunenko')\n",
    "map_fp = os.path.join(data_dir, 'GG_100nt_even1k.txt')\n",
    "otu_fp = os.path.join(data_dir, 'GG_100nt_even1k.biom')\n",
    "uud_fp = os.path.join(data_dir, '1k/unweighted_unifrac_dm.txt')"
   ]
  },
  {
   "cell_type": "code",
   "execution_count": 4,
   "metadata": {
    "collapsed": false
   },
   "outputs": [],
   "source": [
    "map_ = pd.read_csv(map_fp, sep='\\t', dtype=str)\n",
    "map_.set_index('#SampleID', inplace=True)\n",
    "uud = skbio.DistanceMatrix.read(uud_fp)"
   ]
  },
  {
   "cell_type": "code",
   "execution_count": 5,
   "metadata": {
    "collapsed": false
   },
   "outputs": [
    {
     "data": {
      "text/plain": [
       "Index([u'BarcodeSequence', u'LinkerPrimerSequence', u'LAB_PERSON_CONTACT',\n",
       "       u'TARGET_SUBFRAGMENT', u'ASSIGNED_FROM_GEO', u'LAB_PERSON',\n",
       "       u'EXPERIMENT_CENTER', u'TITLE', u'RUN_PREFIX', u'AGE', u'AGE_CAT',\n",
       "       u'INVESTIGATION_TYPE', u'HOST_COMMON_NAME', u'DEPTH', u'HOST_TAXID',\n",
       "       u'SUBMIT_TO_INSDC', u'COMMON_NAME', u'INCLUDES_TIMESERIES',\n",
       "       u'LONGITUDE', u'BODY_SITE', u'PROJECT_NAME', u'ELEVATION', u'RUN_DATE',\n",
       "       u'SEQUENCING_METH', u'COLLECTION_DATE', u'ALTITUDE', u'RUN_LANE',\n",
       "       u'ENV_BIOME', u'SEX', u'PLATFORM', u'FAMILY_RELATIONSHIP',\n",
       "       u'STUDY_CENTER', u'COUNTRY', u'FLXDATA_PUBLISHED', u'STUDY_TITLE',\n",
       "       u'STUDY_ALIAS', u'HOST_SUBJECT_ID', u'ANONYMIZED_NAME', u'TAXON_ID',\n",
       "       u'SAMPLE_CENTER', u'NEWILLUMINADATAGENERATED',\n",
       "       u'PRINCIPAL_INVESTIGATOR', u'STUDY_DESCRIPTION', u'PUBLICATION_ALIAS',\n",
       "       u'AGE_UNIT', u'MIENS_COMPLIANT', u'STUDY_ID',\n",
       "       u'EXPERIMENT_DESIGN_DESCRIPTION', u'Description_duplicate',\n",
       "       u'BODY_HABITAT', u'RUN', u'STUDY_ABSTRACT', u'ENV_MATTER',\n",
       "       u'TARGET_GENE', u'ENV_FEATURE', u'KEY_SEQ', u'BODY_PRODUCT',\n",
       "       u'AGE_IN_YEARS', u'RUN_CENTER', u'PCR_PRIMERS',\n",
       "       u'LIBRARY_CONSTRUCTION_PROTOCOL', u'LATITUDE', u'PMID', u'REGION',\n",
       "       u'SAMP_SIZE', u'Description'],\n",
       "      dtype='object')"
      ]
     },
     "execution_count": 5,
     "metadata": {},
     "output_type": "execute_result"
    }
   ],
   "source": [
    "map_.columns"
   ]
  },
  {
   "cell_type": "code",
   "execution_count": 20,
   "metadata": {
    "collapsed": true
   },
   "outputs": [],
   "source": [
    "def test_beta_permanova(ids, meta, dm, cat, num_iter=99):\n",
    "    \"\"\"Tests difference in beta diversity for a category and distance matrix\"\"\"\n",
    "    # Gets the map and distance matrix subset\n",
    "    all_ids = np.hstack(ids)\n",
    "    # Calculates the permanova\n",
    "    perma_results = skbio.stats.distance.permanova(dm.filter(all_ids), \n",
    "                                                   meta.loc[all_ids],\n",
    "                                                   cat,\n",
    "                                                   num_iter)\n",
    "    # Returns the p value\n",
    "    return perma_results['p-value']"
   ]
  },
  {
   "cell_type": "code",
   "execution_count": 21,
   "metadata": {
    "collapsed": false
   },
   "outputs": [
    {
     "data": {
      "text/plain": [
       "AGE_CAT\n",
       "adult    223\n",
       "baby     137\n",
       "child     59\n",
       "teen     109\n",
       "dtype: int64"
      ]
     },
     "execution_count": 21,
     "metadata": {},
     "output_type": "execute_result"
    }
   ],
   "source": [
    "map_.groupby('AGE_CAT').count().max(1)"
   ]
  },
  {
   "cell_type": "code",
   "execution_count": 22,
   "metadata": {
    "collapsed": false
   },
   "outputs": [
    {
     "data": {
      "text/plain": [
       "AGE_CAT  COUNTRY                     \n",
       "adult    GAZ:Malawi                       52\n",
       "         GAZ:United States of America    136\n",
       "         GAZ:Venezuela                    35\n",
       "baby     GAZ:Malawi                       60\n",
       "         GAZ:United States of America     50\n",
       "         GAZ:Venezuela                    27\n",
       "child    GAZ:United States of America     25\n",
       "         GAZ:Venezuela                    34\n",
       "teen     GAZ:Malawi                        2\n",
       "         GAZ:United States of America    104\n",
       "         GAZ:Venezuela                     3\n",
       "dtype: int64"
      ]
     },
     "execution_count": 22,
     "metadata": {},
     "output_type": "execute_result"
    }
   ],
   "source": [
    "map_.groupby(['AGE_CAT', 'COUNTRY']).count().max(1)"
   ]
  },
  {
   "cell_type": "code",
   "execution_count": 23,
   "metadata": {
    "collapsed": false
   },
   "outputs": [
    {
     "data": {
      "text/plain": [
       "AGE_CAT\n",
       "adult    136\n",
       "baby      50\n",
       "child     25\n",
       "teen     104\n",
       "dtype: int64"
      ]
     },
     "execution_count": 23,
     "metadata": {},
     "output_type": "execute_result"
    }
   ],
   "source": [
    "map_.loc[map_.COUNTRY == 'GAZ:United States of America'].groupby('AGE_CAT').count().max(1)"
   ]
  },
  {
   "cell_type": "code",
   "execution_count": 24,
   "metadata": {
    "collapsed": false
   },
   "outputs": [],
   "source": [
    "us_peps = map_.loc[(map_.COUNTRY == 'GAZ:United States of America')]\n",
    "us_peps = us_peps.loc[inter_ids]"
   ]
  },
  {
   "cell_type": "code",
   "execution_count": 25,
   "metadata": {
    "collapsed": true
   },
   "outputs": [],
   "source": [
    "inter_ids = list(set(map_.index).intersection(set(uud.ids)))"
   ]
  },
  {
   "cell_type": "code",
   "execution_count": 26,
   "metadata": {
    "collapsed": true
   },
   "outputs": [],
   "source": [
    "age_test = lambda x: test_beta_permanova(x, map_, uud, 'AGE_CAT')\n",
    "nat_test = lambda x: test_beta_permanova(x, map_, uud, 'COUNTRY')"
   ]
  },
  {
   "cell_type": "code",
   "execution_count": 27,
   "metadata": {
    "collapsed": false
   },
   "outputs": [],
   "source": [
    "age_ids = [ids for ids in map_.loc[inter_ids].groupby('AGE_CAT').groups.itervalues()]\n",
    "nat_ids = [ids for ids in map_.loc[inter_ids].groupby('COUNTRY').groups.itervalues()]"
   ]
  },
  {
   "cell_type": "code",
   "execution_count": 11,
   "metadata": {
    "collapsed": false
   },
   "outputs": [
    {
     "data": {
      "text/plain": [
       "0.01"
      ]
     },
     "execution_count": 11,
     "metadata": {},
     "output_type": "execute_result"
    }
   ],
   "source": [
    "age_test(age_ids)"
   ]
  },
  {
   "cell_type": "code",
   "execution_count": 12,
   "metadata": {
    "collapsed": false
   },
   "outputs": [
    {
     "data": {
      "text/plain": [
       "0.01"
      ]
     },
     "execution_count": 12,
     "metadata": {},
     "output_type": "execute_result"
    }
   ],
   "source": [
    "nat_test(nat_ids)"
   ]
  },
  {
   "cell_type": "code",
   "execution_count": 13,
   "metadata": {
    "collapsed": false
   },
   "outputs": [],
   "source": [
    "age_power, age_counts = subsample_power(age_test, age_ids, min_counts=3, max_counts=15, counts_interval=1)\n",
    "nat_power, nat_counts = subsample_power(nat_test, nat_ids, min_counts=3, max_counts=15, counts_interval=1)"
   ]
  },
  {
   "cell_type": "code",
   "execution_count": 14,
   "metadata": {
    "collapsed": false
   },
   "outputs": [],
   "source": [
    "with open(os.path.join(data_dir, 'power.p'), 'wb') as f_:\n",
    "    pickle.dump([age_power, age_counts, nat_power, nat_counts], f_)"
   ]
  },
  {
   "cell_type": "markdown",
   "metadata": {},
   "source": [
    "### ids"
   ]
  },
  {
   "cell_type": "code",
   "execution_count": 16,
   "metadata": {
    "collapsed": true
   },
   "outputs": [],
   "source": [
    "sub_map_age = map_.loc[inter_ids].groupby('AGE_CAT').groups"
   ]
  },
  {
   "cell_type": "code",
   "execution_count": 18,
   "metadata": {
    "collapsed": false
   },
   "outputs": [
    {
     "data": {
      "text/plain": [
       "['baby', 'teen', 'adult', 'child']"
      ]
     },
     "execution_count": 18,
     "metadata": {},
     "output_type": "execute_result"
    }
   ],
   "source": [
    "sub_map_age.keys()"
   ]
  },
  {
   "cell_type": "code",
   "execution_count": 19,
   "metadata": {
    "collapsed": false
   },
   "outputs": [],
   "source": [
    "b_a_ids = [sub_map_age[g] for g in ['adult', 'baby']]\n",
    "c_a_ids = [sub_map_age[g] for g in ['adult', 'child']]\n",
    "t_a_ids = [sub_map_age[g] for g in ['adult', 'teen']]\n",
    "t_c_ids = [sub_map_age[g] for g in ['teen', 'child']]\n",
    "t_b_ids = [sub_map_age[g] for g in ['teen', 'baby']]\n",
    "c_b_ids = [sub_map_age[g] for g in ['child', 'baby']]"
   ]
  },
  {
   "cell_type": "code",
   "execution_count": 22,
   "metadata": {
    "collapsed": false
   },
   "outputs": [],
   "source": [
    "# child_ids = [sub_map_age[g] for g in ['Adult', 'Child']]\n",
    "b_a_power, b_a_counts = subsample_power(age_test, b_a_ids, min_counts=3, max_counts=15, counts_interval=1)\n",
    "b_t_power, b_t_counts = subsample_power(age_test, t_b_ids, min_counts=3, max_counts=15, counts_interval=1)\n",
    "b_c_power, b_c_counts = subsample_power(age_test, c_b_ids, min_counts=3, max_counts=15, counts_interval=1)"
   ]
  },
  {
   "cell_type": "code",
   "execution_count": 32,
   "metadata": {
    "collapsed": false
   },
   "outputs": [
    {
     "data": {
      "text/plain": [
       "[<matplotlib.lines.Line2D at 0x111a83c90>]"
      ]
     },
     "execution_count": 32,
     "metadata": {},
     "output_type": "execute_result"
    },
    {
     "data": {
      "image/png": "[encoded data removed]",
      "text/plain": [
       "<matplotlib.figure.Figure at 0x10d5617d0>"
      ]
     },
     "metadata": {},
     "output_type": "display_data"
    }
   ],
   "source": [
    "% matplotlib inline\n",
    "plt.plot(b_a_counts, b_a_power[0, :], 'o', mfc='none', mec='b')\n",
    "plt.plot(b_a_counts, b_a_power[1, :], 'o', mfc='none', mec='b')\n",
    "plt.plot(b_a_counts, b_a_power[2, :], 'o', mfc='none', mec='b')\n",
    "plt.plot(b_t_counts, b_t_power[0, :], 's', mfc='none', mec='g')\n",
    "plt.plot(b_t_counts, b_t_power[1, :], 's', mfc='none', mec='g')\n",
    "plt.plot(b_t_counts, b_t_power[2, :], 's', mfc='none', mec='g')\n",
    "plt.plot(b_c_counts, b_c_power[0, :], '*', mfc='none', mec='r')\n",
    "plt.plot(b_c_counts, b_c_power[1, :], '*', mfc='none', mec='r')\n",
    "plt.plot(b_c_counts, b_c_power[2, :], '*', mfc='none', mec='r')"
   ]
  },
  {
   "cell_type": "code",
   "execution_count": 33,
   "metadata": {
    "collapsed": true
   },
   "outputs": [],
   "source": [
    "c_a_power, b_a_counts = subsample_power(age_test, t_a_ids, min_counts=5, max_counts=30, counts_interval=5)\n",
    "c_t_power, b_t_counts = subsample_power(age_test, t_c_ids, min_counts=5, max_counts=30, counts_interval=5)\n",
    "t_a_power, b_c_counts = subsample_power(age_test, c_a_ids, min_counts=5, max_counts=30, counts_interval=5)"
   ]
  },
  {
   "cell_type": "code",
   "execution_count": 38,
   "metadata": {
    "collapsed": false
   },
   "outputs": [
    {
     "data": {
      "text/plain": [
       "[<matplotlib.lines.Line2D at 0x111c5e5d0>]"
      ]
     },
     "execution_count": 38,
     "metadata": {},
     "output_type": "execute_result"
    },
    {
     "data": {
      "image/png": "[encoded data removed]",
      "text/plain": [
       "<matplotlib.figure.Figure at 0x10d79d050>"
      ]
     },
     "metadata": {},
     "output_type": "display_data"
    }
   ],
   "source": [
    "plt.plot(b_a_counts, c_a_power.mean(0), 'x')\n",
    "plt.plot(b_t_counts, c_t_power.mean(0), 'o')\n",
    "plt.plot(b_c_counts, t_a_power.mean(0), '*')"
   ]
  },
  {
   "cell_type": "code",
   "execution_count": 39,
   "metadata": {
    "collapsed": true
   },
   "outputs": [],
   "source": [
    "age_power = {('baby',  'adult'): [np.arange(3, 15, 1), b_a_power],\n",
    "             ('baby',  'teen' ): [np.arange(3, 15, 1), b_t_power],\n",
    "             ('baby',  'child'): [np.arange(3, 15, 1), b_c_power],\n",
    "             ('child', 'adult'): [b_a_counts, c_a_power],\n",
    "             ('child', 'teen' ): [b_t_counts, c_t_power],\n",
    "             ('teen',  'adult'): [b_c_counts, t_a_power]\n",
    "            }"
   ]
  },
  {
   "cell_type": "code",
   "execution_count": 40,
   "metadata": {
    "collapsed": true
   },
   "outputs": [],
   "source": [
    "with open(os.path.join(data_dir, 'age.p'), 'wb') as f_:\n",
    "    pickle.dump(age_power, f_)"
   ]
  },
  {
   "cell_type": "code",
   "execution_count": 5,
   "metadata": {
    "collapsed": true
   },
   "outputs": [],
   "source": [
    "with open(os.path.join(data_dir, 'age.p'), 'rb') as f_:\n",
    "    age_power = pickle.load(f_)"
   ]
  },
  {
   "cell_type": "code",
   "execution_count": 11,
   "metadata": {
    "collapsed": false
   },
   "outputs": [
    {
     "name": "stdout",
     "output_type": "stream",
     "text": [
      "('teen', 'adult') 0.37 [ 0.35 ,  0.39 ]\n",
      "('child', 'adult') 0.78 [ 0.75 ,  0.81 ]\n",
      "('child', 'teen') 1.17 [ 1.12 ,  1.22 ]\n",
      "('baby', 'child') 1.68 [ 1.58 ,  1.78 ]\n",
      "('baby', 'teen') 1.83 [ 1.66 ,  2.0 ]\n",
      "('baby', 'adult') 1.67 [ 1.56 ,  1.78 ]\n"
     ]
    }
   ],
   "source": [
    "for k, (cnt, pwr) in age_power.iteritems():\n",
    "    eff = ap.z_effect(cnt, pwr)\n",
    "    n = np.sum(np.isnan(eff) == False)\n",
    "    m = np.round(np.nanmean(eff), 2)\n",
    "    b = np.round(np.nanstd(eff) / np.sqrt(n) * scipy.stats.t.ppf(0.975, n-1), 2)\n",
    "    print k, m, '[', m - b, ', ', m + b, ']'"
   ]
  },
  {
   "cell_type": "code",
   "execution_count": 21,
   "metadata": {
    "collapsed": false
   },
   "outputs": [],
   "source": [
    "sub_map_nat = map_.loc[inter_ids].groupby('COUNTRY').groups"
   ]
  },
  {
   "cell_type": "code",
   "execution_count": 22,
   "metadata": {
    "collapsed": false
   },
   "outputs": [
    {
     "data": {
      "text/plain": [
       "['GAZ:Venezuela', 'GAZ:Malawi', 'GAZ:United States of America']"
      ]
     },
     "execution_count": 22,
     "metadata": {},
     "output_type": "execute_result"
    }
   ],
   "source": [
    "sub_map_nat.keys()"
   ]
  },
  {
   "cell_type": "code",
   "execution_count": 23,
   "metadata": {
    "collapsed": true
   },
   "outputs": [],
   "source": [
    "v_m_ids = [sub_map_nat[g] for g in ['GAZ:Venezuela', 'GAZ:Malawi']]\n",
    "v_a_ids = [sub_map_nat[g] for g in ['GAZ:Venezuela', 'GAZ:United States of America']]\n",
    "m_a_ids = [sub_map_nat[g] for g in ['GAZ:Malawi', 'GAZ:United States of America']]"
   ]
  },
  {
   "cell_type": "code",
   "execution_count": 15,
   "metadata": {
    "collapsed": false
   },
   "outputs": [],
   "source": [
    "# child_ids = [sub_map_age[g] for g in ['Adult', 'Child']]\n",
    "v_m_power, v_m_counts = subsample_power(nat_test, v_m_ids, min_counts=3, max_counts=26, counts_interval=3)\n",
    "v_a_power, v_a_counts = subsample_power(nat_test, v_a_ids, min_counts=3, max_counts=26, counts_interval=3)\n",
    "m_a_power, m_a_counts = subsample_power(nat_test, m_a_ids, min_counts=3, max_counts=26, counts_interval=3)"
   ]
  },
  {
   "cell_type": "code",
   "execution_count": 20,
   "metadata": {
    "collapsed": false
   },
   "outputs": [
    {
     "data": {
      "text/plain": [
       "[<matplotlib.lines.Line2D at 0x10cca35d0>]"
      ]
     },
     "execution_count": 20,
     "metadata": {},
     "output_type": "execute_result"
    },
    {
     "data": {
      "image/png": "[encoded data removed]",
      "text/plain": [
       "<matplotlib.figure.Figure at 0x1113604d0>"
      ]
     },
     "metadata": {},
     "output_type": "display_data"
    }
   ],
   "source": [
    "% matplotlib inline\n",
    "plt.plot(v_m_counts, v_m_power.mean(0))\n",
    "plt.plot(v_a_counts, v_a_power.mean(0))\n",
    "plt.plot(m_a_counts, m_a_power.mean(0))"
   ]
  },
  {
   "cell_type": "code",
   "execution_count": 21,
   "metadata": {
    "collapsed": true
   },
   "outputs": [],
   "source": [
    "nat_power = {('Ven', 'USA'): [v_a_counts, v_a_power],\n",
    "             ('Ven', 'Mal'): [v_m_counts, v_m_power],\n",
    "             ('Mal', 'USA'): [m_a_counts, m_a_power]}"
   ]
  },
  {
   "cell_type": "code",
   "execution_count": 22,
   "metadata": {
    "collapsed": true
   },
   "outputs": [],
   "source": [
    "with open(os.path.join(data_dir, 'nat.p'), 'wb') as f_:\n",
    "    pickle.dump(nat_power, f_)"
   ]
  },
  {
   "cell_type": "code",
   "execution_count": 24,
   "metadata": {
    "collapsed": true
   },
   "outputs": [],
   "source": [
    "with open(os.path.join(data_dir, 'nat.p'), 'rb') as f_:\n",
    "    nat_power = pickle.load(f_)"
   ]
  },
  {
   "cell_type": "code",
   "execution_count": 25,
   "metadata": {
    "collapsed": false
   },
   "outputs": [
    {
     "name": "stdout",
     "output_type": "stream",
     "text": [
      "('Mal', 'USA') 1.46 [ 1.26 ,  1.66 ]\n",
      "('Ven', 'USA') 1.48 [ 1.25 ,  1.71 ]\n",
      "('Ven', 'Mal') 0.81 [ 0.78 ,  0.84 ]\n"
     ]
    }
   ],
   "source": [
    "for k, (cnt, pwr) in nat_power.iteritems():\n",
    "    eff = ap.z_effect(cnt, pwr)\n",
    "    n = np.sum(np.isnan(eff) == False)\n",
    "    m = np.round(np.nanmean(eff), 2)\n",
    "    b = np.round(np.nanstd(eff) / np.sqrt(n) * scipy.stats.t.ppf(0.975, n-1), 2)\n",
    "    print k, m, '[', m - b, ', ', m + b, ']'"
   ]
  },
  {
   "cell_type": "code",
   "execution_count": 18,
   "metadata": {
    "collapsed": false
   },
   "outputs": [],
   "source": [
    "us_sub_map = us_peps.groupby('AGE_CAT').groups\n",
    "b_a_ids = [us_sub_map[g] for g in ['adult', 'baby']]\n",
    "c_a_ids = [us_sub_map[g] for g in ['adult', 'child']]\n",
    "t_a_ids = [us_sub_map[g] for g in ['adult', 'teen']]\n",
    "t_c_ids = [us_sub_map[g] for g in ['teen', 'child']]\n",
    "t_b_ids = [us_sub_map[g] for g in ['teen', 'baby']]\n",
    "c_b_ids = [us_sub_map[g] for g in ['child', 'baby']]"
   ]
  },
  {
   "cell_type": "code",
   "execution_count": 29,
   "metadata": {
    "collapsed": false
   },
   "outputs": [],
   "source": [
    "# b_a_power, b_a_counts = subsample_power(age_test, b_a_ids, min_counts=3, max_counts=10, counts_interval=1)\n",
    "# b_t_power, b_t_counts = subsample_power(age_test, t_b_ids, min_counts=3, max_counts=10, counts_interval=1)\n",
    "# b_c_power, b_c_counts = subsample_power(age_test, c_b_ids, min_counts=3, max_counts=10, counts_interval=1)\n",
    "c_a_power, c_a_counts = subsample_power(age_test, c_a_ids, min_counts=3, max_counts=30, counts_interval=1)\n",
    "t_a_power, t_a_counts = subsample_power(age_test, t_a_ids, min_counts=3, max_counts=30, counts_interval=1)\n",
    "t_c_power, t_c_counts = subsample_power(age_test, t_c_ids, min_counts=3, max_counts=30, counts_interval=1)"
   ]
  },
  {
   "cell_type": "code",
   "execution_count": 32,
   "metadata": {
    "collapsed": false
   },
   "outputs": [],
   "source": [
    "us_study = {('baby', 'adult'): [b_a_power, b_a_counts, age_test(b_a_ids)],\n",
    "            ('baby', 'teen'):  [b_t_power, b_t_counts, age_test(t_b_ids)],\n",
    "            ('baby', 'child'): [b_c_power, b_c_counts, age_test(c_b_ids)],\n",
    "            ('child', 'teen'): [t_c_power, t_c_counts, age_test(t_c_ids)],\n",
    "            ('child', 'adult'): [c_a_power, c_a_counts, age_test(c_a_ids)],\n",
    "            ('teen', 'adult'): [t_a_power, t_a_counts, age_test(t_a_ids)]\n",
    "           }"
   ]
  },
  {
   "cell_type": "code",
   "execution_count": 33,
   "metadata": {
    "collapsed": true
   },
   "outputs": [],
   "source": [
    "with open(os.path.join(data_dir, 'us_age.p'), 'wb') as f_:\n",
    "    pickle.dump(us_study, f_)"
   ]
  },
  {
   "cell_type": "code",
   "execution_count": 35,
   "metadata": {
    "collapsed": false
   },
   "outputs": [
    {
     "name": "stdout",
     "output_type": "stream",
     "text": [
      "('teen', 'adult') 0.34 0.01\n",
      "('child', 'adult') 0.44 0.02\n",
      "('child', 'teen') 0.14 0.01\n",
      "('baby', 'child') 1.78 0.23\n",
      "('baby', 'teen') 1.7 0.28\n",
      "('baby', 'adult') 1.81 0.25\n"
     ]
    }
   ],
   "source": [
    "for group, [pwr, cnt, p] in us_study.iteritems():\n",
    "    eff = ap.z_effect(cnt, pwr)\n",
    "    n = np.sum(np.isnan(eff) == False)\n",
    "    print group, np.round(np.nanmean(eff), 2), np.round(np.nanstd(eff) / np.sqrt(n) * scipy.stats.t.ppf(0.975, n-1), 2)"
   ]
  },
  {
   "cell_type": "code",
   "execution_count": 37,
   "metadata": {
    "collapsed": false
   },
   "outputs": [
    {
     "data": {
      "text/plain": [
       "(1.42, 1.98)"
      ]
     },
     "execution_count": 37,
     "metadata": {},
     "output_type": "execute_result"
    }
   ],
   "source": [
    "1.81 - 0.25, 1.81 + 0.25"
   ]
  },
  {
   "cell_type": "code",
   "execution_count": null,
   "metadata": {
    "collapsed": true
   },
   "outputs": [],
   "source": []
  }
 ],
 "metadata": {
  "kernelspec": {
   "display_name": "Python 2",
   "language": "python",
   "name": "python2"
  },
  "language_info": {
   "codemirror_mode": {
    "name": "ipython",
    "version": 2
   },
   "file_extension": ".py",
   "mimetype": "text/x-python",
   "name": "python",
   "nbconvert_exporter": "python",
   "pygments_lexer": "ipython2",
   "version": "2.7.3"
  }
 },
 "nbformat": 4,
 "nbformat_minor": 0
}
