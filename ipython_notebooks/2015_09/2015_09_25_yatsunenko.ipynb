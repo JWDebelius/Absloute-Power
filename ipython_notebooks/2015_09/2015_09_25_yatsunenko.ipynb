{
 "cells": [
  {
   "cell_type": "code",
   "execution_count": 1,
   "metadata": {
    "collapsed": false
   },
   "outputs": [],
   "source": [
    "from __future__ import division\n",
    "\n",
    "import os\n",
    "\n",
    "import numpy as np\n",
    "import skbio\n",
    "import pandas as pd\n",
    "import biom`\\\n",
    "`190\\=]P09IUYTREAS \n",
    "\n",
    "import scipy.stats\n",
    "import matplotlib.pyplot as plt\n",
    "import statsmodels.api as sms\n",
    "import statsmodels.formula.api as smf\n",
    "import absloute_power.traditional as trad\n",
    "import absloute_power.utils as ap\n",
    "\n",
    "from matplotlib import rcParams\n",
    "\n",
    "from skbio.stats.power import subsample_power\n",
    "from absloute_power.traditional import calc_ttest_ind"
   ]
  },
  {
   "cell_type": "code",
   "execution_count": 2,
   "metadata": {
    "collapsed": true
   },
   "outputs": [],
   "source": [
    "% matplotlib inline"
   ]
  },
  {
   "cell_type": "code",
   "execution_count": 3,
   "metadata": {
    "collapsed": true
   },
   "outputs": [],
   "source": [
    "# Displays images inline\n",
    "%matplotlib inline\n",
    "\n",
    "# Sets up plotting parameters so that the default setting is use to Helvetica\n",
    "# in plots\n",
    "rcParams['font.family'] = 'sans-serif'\n",
    "rcParams['font.sans-serif'] = ['Helvetica', 'Arial']\n",
    "rcParams['text.usetex'] = True"
   ]
  },
  {
   "cell_type": "code",
   "execution_count": 4,
   "metadata": {
    "collapsed": false
   },
   "outputs": [],
   "source": [
    "base_dir = os.path.abspath('../..')\n",
    "data_dir = os.path.join(base_dir, 'data/yatsunenko/')\n",
    "map_fp = os.path.join(data_dir, 'GG_100nt_1k_alpha.txt')"
   ]
  },
  {
   "cell_type": "code",
   "execution_count": 5,
   "metadata": {
    "collapsed": true
   },
   "outputs": [],
   "source": [
    "map_ = pd.read_csv(map_fp, sep='\\t', dtype=str)\n",
    "\n",
    "map_.set_index('#SampleID', inplace=True)"
   ]
  },
  {
   "cell_type": "code",
   "execution_count": 6,
   "metadata": {
    "collapsed": false
   },
   "outputs": [],
   "source": [
    "map_['PD_whole_tree_mean'] = map_.PD_whole_tree_mean.apply(lambda x: float(x))"
   ]
  },
  {
   "cell_type": "code",
   "execution_count": 7,
   "metadata": {
    "collapsed": false
   },
   "outputs": [
    {
     "data": {
      "text/plain": [
       "Index([u'BarcodeSequence', u'LinkerPrimerSequence', u'LAB_PERSON_CONTACT',\n",
       "       u'TARGET_SUBFRAGMENT', u'ASSIGNED_FROM_GEO', u'LAB_PERSON',\n",
       "       u'EXPERIMENT_CENTER', u'TITLE', u'RUN_PREFIX', u'AGE', u'AGE_CAT',\n",
       "       u'INVESTIGATION_TYPE', u'HOST_COMMON_NAME', u'DEPTH', u'HOST_TAXID',\n",
       "       u'SUBMIT_TO_INSDC', u'COMMON_NAME', u'INCLUDES_TIMESERIES',\n",
       "       u'LONGITUDE', u'BODY_SITE', u'PROJECT_NAME', u'ELEVATION', u'RUN_DATE',\n",
       "       u'SEQUENCING_METH', u'COLLECTION_DATE', u'ALTITUDE', u'RUN_LANE',\n",
       "       u'ENV_BIOME', u'SEX', u'PLATFORM', u'FAMILY_RELATIONSHIP',\n",
       "       u'STUDY_CENTER', u'COUNTRY', u'FLXDATA_PUBLISHED', u'STUDY_TITLE',\n",
       "       u'STUDY_ALIAS', u'HOST_SUBJECT_ID', u'ANONYMIZED_NAME', u'TAXON_ID',\n",
       "       u'SAMPLE_CENTER', u'NEWILLUMINADATAGENERATED',\n",
       "       u'PRINCIPAL_INVESTIGATOR', u'STUDY_DESCRIPTION', u'PUBLICATION_ALIAS',\n",
       "       u'AGE_UNIT', u'MIENS_COMPLIANT', u'STUDY_ID',\n",
       "       u'EXPERIMENT_DESIGN_DESCRIPTION', u'Description_duplicate',\n",
       "       u'BODY_HABITAT', u'RUN', u'STUDY_ABSTRACT', u'ENV_MATTER',\n",
       "       u'TARGET_GENE', u'ENV_FEATURE', u'KEY_SEQ', u'BODY_PRODUCT',\n",
       "       u'AGE_IN_YEARS', u'RUN_CENTER', u'PCR_PRIMERS',\n",
       "       u'LIBRARY_CONSTRUCTION_PROTOCOL', u'LATITUDE', u'PMID', u'REGION',\n",
       "       u'SAMP_SIZE', u'Description', u'PD_whole_tree_mean', u'chao1_mean',\n",
       "       u'observed_otus_mean'],\n",
       "      dtype='object')"
      ]
     },
     "execution_count": 7,
     "metadata": {},
     "output_type": "execute_result"
    }
   ],
   "source": [
    "map_.columns"
   ]
  },
  {
   "cell_type": "code",
   "execution_count": 8,
   "metadata": {
    "collapsed": false
   },
   "outputs": [
    {
     "data": {
      "text/plain": [
       "AGE_CAT\n",
       "adult    223\n",
       "baby     137\n",
       "child     59\n",
       "teen     109\n",
       "Name: PD_whole_tree_mean, dtype: int64"
      ]
     },
     "execution_count": 8,
     "metadata": {},
     "output_type": "execute_result"
    }
   ],
   "source": [
    "map_.groupby('AGE_CAT').count().PD_whole_tree_mean"
   ]
  },
  {
   "cell_type": "code",
   "execution_count": 9,
   "metadata": {
    "collapsed": false
   },
   "outputs": [
    {
     "data": {
      "text/plain": [
       "AGE_CAT\n",
       "adult    17.549723\n",
       "baby      9.110906\n",
       "child    17.863892\n",
       "teen     15.702317\n",
       "Name: PD_whole_tree_mean, dtype: float64"
      ]
     },
     "execution_count": 9,
     "metadata": {},
     "output_type": "execute_result"
    }
   ],
   "source": [
    "map_.groupby('AGE_CAT').mean().PD_whole_tree_mean"
   ]
  },
  {
   "cell_type": "code",
   "execution_count": 10,
   "metadata": {
    "collapsed": false
   },
   "outputs": [
    {
     "data": {
      "text/plain": [
       "COUNTRY                       AGE_CAT\n",
       "GAZ:Malawi                    adult       52\n",
       "                              baby        60\n",
       "                              teen         2\n",
       "GAZ:United States of America  adult      136\n",
       "                              baby        50\n",
       "                              child       25\n",
       "                              teen       104\n",
       "GAZ:Venezuela                 adult       35\n",
       "                              baby        27\n",
       "                              child       34\n",
       "                              teen         3\n",
       "Name: PD_whole_tree_mean, dtype: int64"
      ]
     },
     "execution_count": 10,
     "metadata": {},
     "output_type": "execute_result"
    }
   ],
   "source": [
    "map_.groupby(['COUNTRY', 'AGE_CAT']).count().PD_whole_tree_mean"
   ]
  },
  {
   "cell_type": "code",
   "execution_count": 11,
   "metadata": {
    "collapsed": true
   },
   "outputs": [],
   "source": [
    "mal_map = map_.loc[map_.COUNTRY == 'GAZ:Malawi']"
   ]
  },
  {
   "cell_type": "code",
   "execution_count": 12,
   "metadata": {
    "collapsed": false
   },
   "outputs": [
    {
     "data": {
      "text/plain": [
       "AGE_CAT\n",
       "adult    19.598772\n",
       "baby      9.354313\n",
       "teen     12.582929\n",
       "Name: PD_whole_tree_mean, dtype: float64"
      ]
     },
     "execution_count": 12,
     "metadata": {},
     "output_type": "execute_result"
    }
   ],
   "source": [
    "mal_map.groupby('AGE_CAT').mean().PD_whole_tree_mean"
   ]
  },
  {
   "cell_type": "code",
   "execution_count": 13,
   "metadata": {
    "collapsed": false
   },
   "outputs": [
    {
     "data": {
      "text/plain": [
       "COUNTRY\n",
       "GAZ:Malawi                      19.598772\n",
       "GAZ:United States of America    15.892744\n",
       "GAZ:Venezuela                   20.943970\n",
       "Name: PD_whole_tree_mean, dtype: float64"
      ]
     },
     "execution_count": 13,
     "metadata": {},
     "output_type": "execute_result"
    }
   ],
   "source": [
    "adult_map = map_.loc[map_.AGE_CAT =='adult']\n",
    "agb = adult_map.groupby('COUNTRY')\n",
    "agb.mean()['PD_whole_tree_mean']"
   ]
  },
  {
   "cell_type": "code",
   "execution_count": 14,
   "metadata": {
    "collapsed": false
   },
   "outputs": [
    {
     "data": {
      "text/plain": [
       "COUNTRY\n",
       "GAZ:Malawi                       52\n",
       "GAZ:United States of America    136\n",
       "GAZ:Venezuela                    35\n",
       "Name: PD_whole_tree_mean, dtype: int64"
      ]
     },
     "execution_count": 14,
     "metadata": {},
     "output_type": "execute_result"
    }
   ],
   "source": [
    "agb.count()['PD_whole_tree_mean']"
   ]
  },
  {
   "cell_type": "code",
   "execution_count": 15,
   "metadata": {
    "collapsed": false
   },
   "outputs": [
    {
     "name": "stderr",
     "output_type": "stream",
     "text": [
      "/Users/jwdebelius/.virtualenvs/power_play/lib/python2.7/site-packages/pandas/core/indexing.py:249: SettingWithCopyWarning: \n",
      "A value is trying to be set on a copy of a slice from a DataFrame.\n",
      "Try using .loc[row_indexer,col_indexer] = value instead\n",
      "\n",
      "See the the caveats in the documentation: http://pandas.pydata.org/pandas-docs/stable/indexing.html#indexing-view-versus-copy\n",
      "  self.obj[key] = _infer_fill_value(value)\n",
      "/Users/jwdebelius/.virtualenvs/power_play/lib/python2.7/site-packages/pandas/core/indexing.py:415: SettingWithCopyWarning: \n",
      "A value is trying to be set on a copy of a slice from a DataFrame.\n",
      "Try using .loc[row_indexer,col_indexer] = value instead\n",
      "\n",
      "See the the caveats in the documentation: http://pandas.pydata.org/pandas-docs/stable/indexing.html#indexing-view-versus-copy\n",
      "  self.obj[item] = s\n"
     ]
    }
   ],
   "source": [
    "adult_map.loc[adult_map.COUNTRY == 'GAZ:United States of America', 'DIET_TYPE'] = 'Western'\n",
    "adult_map.loc[adult_map.COUNTRY.apply(lambda x: x in {'GAZ:Malawi', 'GAZ:Venezuela'}), 'DIET_TYPE'] = 'NonWestern'"
   ]
  },
  {
   "cell_type": "code",
   "execution_count": 16,
   "metadata": {
    "collapsed": false
   },
   "outputs": [
    {
     "data": {
      "text/plain": [
       "array([0, 0, 0, 0, 0, 0, 0, 0, 0, 0, 0, 3, 2, 1, 2, 1, 5, 4, 6, 2, 3, 7, 5,\n",
       "       4, 2, 3, 1, 1, 0])"
      ]
     },
     "execution_count": 16,
     "metadata": {},
     "output_type": "execute_result"
    }
   ],
   "source": []
  },
  {
   "cell_type": "code",
   "execution_count": 74,
   "metadata": {
    "collapsed": false
   },
   "outputs": [
    {
     "data": {
      "image/png": "[encoded data removed]",
      "text/plain": [
       "<matplotlib.figure.Figure at 0x10d901fd0>"
      ]
     },
     "metadata": {},
     "output_type": "display_data"
    }
   ],
   "source": [
    "fig1 = plt.figure()\n",
    "ax1 = fig1.add_subplot(2, 1, 1)\n",
    "ax2 = fig1.add_subplot(2, 1, 2)\n",
    "\n",
    "# ax1.hist(adult_map.loc[adult_map.COUNTRY == 'GAZ:Malawi', 'PD_whole_tree_mean'], np.arange(0, 30, 1),\n",
    "#         facecolor='g') #, normed=True)\n",
    "ax1.hist(adult_map.loc[adult_map.DIET_TYPE == 'NonWestern', 'PD_whole_tree_mean'], np.arange(0, 30, 1), facecolor='none')\n",
    "ax2.hist(adult_map.loc[adult_map.DIET_TYPE == 'Western', 'PD_whole_tree_mean'], np.arange(0, 30, 1),\n",
    "        facecolor='none') #, normed=True)\n",
    "ax1.set_ylim([0, 20])\n",
    "ax2.set_ylim([0, 20])\n",
    "\n",
    "ax1.set_xticklabels('')\n",
    "ax2.set_xticklabels(map(int, ax2.get_xticks()), size=11)\n",
    "ax2.set_xlabel('PD Whole Tree Diversity', size=13)\n",
    "ax1.set_yticklabels(ax1.get_yticks(), size=11)\n",
    "ax2.set_yticklabels(ax2.get_yticks(), size=11)\n",
    "l = ax1.set_ylabel('Number of Samples', size=15)\n",
    "l.set_position([0.5, -0.05])\n",
    "ax1.text(0.5, 17, 'Non Western', size=18)\n",
    "ax2.text(0.5, 17, 'Western', size=18)\n",
    "\n",
    "ax1.yaxis.set_ticks_position('left')\n",
    "ax1.xaxis.set_ticks_position('bottom')\n",
    "ax1.get_xaxis().set_tick_params(direction='out')\n",
    "ax1.get_yaxis().set_tick_params(direction='out')\n",
    "ax1.spines['right'].set_visible(False)\n",
    "ax1.spines['top'].set_visible(False)\n",
    "ax1.set_yticklabels(map(int, ax1.get_yticks()), size=13)\n",
    "\n",
    "ax2.yaxis.set_ticks_position('left')\n",
    "ax2.xaxis.set_ticks_position('bottom')\n",
    "ax2.get_xaxis().set_tick_params(direction='out')\n",
    "ax2.get_yaxis().set_tick_params(direction='out')\n",
    "ax2.spines['right'].set_visible(False)\n",
    "ax2.spines['top'].set_visible(False)\n",
    "ax2.set_yticklabels(map(int, ax2.get_yticks()), size=13)\n",
    "ax2.set_xticklabels(map(int, ax2.get_xticks()), size=13)\n",
    "\n",
    "fig1.savefig('/Users/jwdebelius/Desktop/hist.pdf')"
   ]
  },
  {
   "cell_type": "code",
   "execution_count": 83,
   "metadata": {
    "collapsed": false
   },
   "outputs": [],
   "source": [
    "n_mean = adult_map.loc[adult_map.DIET_TYPE == 'NonWestern', 'PD_whole_tree_mean'].mean()\n",
    "n_stdv = adult_map.loc[adult_map.DIET_TYPE == 'NonWestern', 'PD_whole_tree_mean'].std()\n",
    "n_hist = np.histogram(adult_map.loc[adult_map.DIET_TYPE == 'NonWestern', 'PD_whole_tree_mean'], bins=np.arange(0, 30, 1))[0]\n",
    "w_mean = adult_map.loc[adult_map.DIET_TYPE == 'Western', 'PD_whole_tree_mean'].mean()\n",
    "w_stdv = adult_map.loc[adult_map.DIET_TYPE == 'Western', 'PD_whole_tree_mean'].std()\n",
    "w_hist = np.histogram(adult_map.loc[adult_map.DIET_TYPE == 'Western', 'PD_whole_tree_mean'], bins=np.arange(0, 30, 1))[0]\n",
    "\n",
    "ax1.plot(np.arange(0, 30.1, 0.5), scipy.stats.norm.pdf(np.arange(0, 30.1, 0.5), n_mean, n_stdv)*n_hist.sum(), 'b-')\n",
    "ax1.plot([n_mean]*2, [0, 8.5], 'r-')\n",
    "ax1.plot([n_mean-n_stdv, n_mean+n_stdv], [5, 5], '-', color=[0.25, 0.25, 0.25], linewidth=1)\n",
    "\n",
    "ax2.plot(np.arange(0, 30.1, 0.5), scipy.stats.norm.pdf(np.arange(0, 30.1, 0.5), w_mean, w_stdv)*w_hist.sum(), 'b-')\n",
    "ax2.plot([w_mean]*2, [0, 18.2], 'r-')\n",
    "ax2.plot([w_mean-w_stdv, w_mean+w_stdv], [11, 11], '-', color=[0.25, 0.25, 0.25], linewidth=1)\n",
    "# ax1.plot([])\n",
    "# ax2.plot([adult_map.loc[adult_map.DIET_TYPE == 'Western', 'PD_whole_tree_mean'].mean()]*2,\n",
    "# #          [0, 25],\n",
    "# #          'r-')\n",
    "fig1\n",
    "fig1.savefig('/Users/jwdebelius/Desktop/overlay.pdf')"
   ]
  },
  {
   "cell_type": "code",
   "execution_count": 85,
   "metadata": {
    "collapsed": false
   },
   "outputs": [
    {
     "data": {
      "image/png": "[encoded data removed]",
      "text/plain": [
       "<matplotlib.figure.Figure at 0x10d59f810>"
      ]
     },
     "metadata": {},
     "output_type": "display_data"
    }
   ],
   "source": [
    "fig2 = plt.figure()\n",
    "ax1 = fig2.add_subplot(2, 1, 1)\n",
    "ax2 = fig2.add_subplot(2, 1, 2)\n",
    "\n",
    "ax1.plot(np.arange(0, 30.1, 0.5), scipy.stats.norm.pdf(np.arange(0, 30.1, 0.5), n_mean, n_stdv)*n_hist.sum(), 'b-')\n",
    "ax1.plot([n_mean]*2, [0, 8.5], 'r-')\n",
    "ax1.plot([n_mean-n_stdv, n_mean+n_stdv], [5, 5], '-', color=[0.25, 0.25, 0.25], linewidth=1)\n",
    "\n",
    "ax2.plot(np.arange(0, 30.1, 0.5), scipy.stats.norm.pdf(np.arange(0, 30.1, 0.5), w_mean, w_stdv)*w_hist.sum(), 'b-')\n",
    "ax2.plot([w_mean]*2, [0, 18.2], 'r-')\n",
    "ax2.plot([w_mean-w_stdv, w_mean+w_stdv], [11, 11], '-', color=[0.25, 0.25, 0.25], linewidth=1)\n",
    "\n",
    "ax1.set_ylim([0, 20])\n",
    "ax2.set_ylim([0, 20])\n",
    "\n",
    "ax1.set_xticklabels('')\n",
    "ax2.set_xticklabels(map(int, ax2.get_xticks()), size=11)\n",
    "ax2.set_xlabel('PD Whole Tree Diversity', size=13)\n",
    "ax1.set_yticklabels(ax1.get_yticks(), size=11)\n",
    "ax2.set_yticklabels(ax2.get_yticks(), size=11)\n",
    "l = ax1.set_ylabel('Number of Samples', size=15)\n",
    "l.set_position([0.5, -0.05])\n",
    "ax1.text(0.5, 17, 'Non Western', size=18)\n",
    "ax2.text(0.5, 17, 'Western', size=18)\n",
    "\n",
    "ax1.yaxis.set_ticks_position('left')\n",
    "ax1.xaxis.set_ticks_position('bottom')\n",
    "ax1.get_xaxis().set_tick_params(direction='out')\n",
    "ax1.get_yaxis().set_tick_params(direction='out')\n",
    "ax1.spines['right'].set_visible(False)\n",
    "ax1.spines['top'].set_visible(False)\n",
    "ax1.set_yticklabels(map(int, ax1.get_yticks()), size=13)\n",
    "\n",
    "ax2.yaxis.set_ticks_position('left')\n",
    "ax2.xaxis.set_ticks_position('bottom')\n",
    "ax2.get_xaxis().set_tick_params(direction='out')\n",
    "ax2.get_yaxis().set_tick_params(direction='out')\n",
    "ax2.spines['right'].set_visible(False)\n",
    "ax2.spines['top'].set_visible(False)\n",
    "ax2.set_yticklabels(map(int, ax2.get_yticks()), size=13)\n",
    "ax2.set_xticklabels(map(int, ax2.get_xticks()), size=13)\n",
    "\n",
    "fig2.savefig('/Users/jwdebelius/Desktop/outlines.pdf')"
   ]
  },
  {
   "cell_type": "code",
   "execution_count": 86,
   "metadata": {
    "collapsed": false
   },
   "outputs": [
    {
     "data": {
      "text/plain": [
       "KruskalResult(statistic=56.771049152419664, pvalue=4.8962182829374819e-14)"
      ]
     },
     "execution_count": 86,
     "metadata": {},
     "output_type": "execute_result"
    }
   ],
   "source": [
    "scipy.stats.kruskal(adult_map.loc[adult_map.DIET_TYPE == 'NonWestern', 'PD_whole_tree_mean'].values,\n",
    "                    adult_map.loc[adult_map.DIET_TYPE == 'Western', 'PD_whole_tree_mean'].values,)"
   ]
  },
  {
   "cell_type": "code",
   "execution_count": 93,
   "metadata": {
    "collapsed": true
   },
   "outputs": [],
   "source": [
    "data = [adult_map.loc[adult_map.DIET_TYPE == 'NonWestern', 'PD_whole_tree_mean'].values,\n",
    "        adult_map.loc[adult_map.DIET_TYPE == 'Western', 'PD_whole_tree_mean'].values]"
   ]
  },
  {
   "cell_type": "code",
   "execution_count": 100,
   "metadata": {
    "collapsed": false
   },
   "outputs": [],
   "source": [
    "param1 = calc_ttest_ind(*data, counts=np.arange(2, 36, 0.5))"
   ]
  },
  {
   "cell_type": "code",
   "execution_count": 101,
   "metadata": {
    "collapsed": false
   },
   "outputs": [
    {
     "data": {
      "text/plain": [
       "array([ 0.10675358,  0.15341719,  0.20038508,  0.24669511,  0.29197645,\n",
       "        0.33600719,  0.37861876,  0.41967605,  0.45907312,  0.4967316 ,\n",
       "        0.5325987 ,  0.56664496,  0.5988616 ,  0.62925783,  0.65785813,\n",
       "        0.68469978,  0.70983046,  0.73330618,  0.75518939,  0.77554725,\n",
       "        0.79445023,  0.81197084,  0.82818256,  0.84315897,  0.85697289,\n",
       "        0.86969592,  0.8813978 ,  0.8921461 ,  0.90200593,  0.91103961,\n",
       "        0.91930666,  0.92686358,  0.93376388,  0.94005804,  0.9457935 ,\n",
       "        0.95101481,  0.95576361,  0.96007873,  0.96399637,  0.96755014,\n",
       "        0.97077118,  0.97368833,  0.97632825,  0.97871548,  0.98087266,\n",
       "        0.9828206 ,  0.98457837,  0.9861635 ,  0.98759201,  0.98887857,\n",
       "        0.99003658,  0.99107828,  0.99201477,  0.99285621,  0.99361187,\n",
       "        0.99429007,  0.99489846,  0.99544395,  0.99593278,  0.99637062,\n",
       "        0.99676263,  0.99711341,  0.99742716,  0.99770768,  0.99795835,\n",
       "        0.99818226,  0.99838221,  0.99856065])"
      ]
     },
     "execution_count": 101,
     "metadata": {},
     "output_type": "execute_result"
    }
   ],
   "source": [
    "param1"
   ]
  },
  {
   "cell_type": "code",
   "execution_count": 102,
   "metadata": {
    "collapsed": true
   },
   "outputs": [],
   "source": [
    "def nonparametric(x):\n",
    "    x1, x2 = x\n",
    "    return scipy.stats.mannwhitneyu(x1, x2)[1]"
   ]
  },
  {
   "cell_type": "code",
   "execution_count": 103,
   "metadata": {
    "collapsed": false
   },
   "outputs": [],
   "source": [
    "pwr, cnts = subsample_power(nonparametric, \n",
    "                            data,\n",
    "                            min_counts=3,\n",
    "                            max_counts=36,\n",
    "                            counts_interval=3,\n",
    "                            num_runs=5)"
   ]
  },
  {
   "cell_type": "code",
   "execution_count": 104,
   "metadata": {
    "collapsed": false
   },
   "outputs": [],
   "source": [
    "eff = ap.z_effect(cnts, pwr)\n",
    "eff_power1 = ap.z_power(np.arange(2, 36, 0.5), eff.mean())\n",
    "n = np.sum(np.isnan(eff) == False)\n",
    "t = scipy.stats.t.ppf(0.975, n-1)\n",
    "eff_power_l1 = ap.z_power(np.arange(2, 36, 0.5), eff.mean() - eff.std() / np.sqrt(n) * t)\n",
    "eff_power_u1 = ap.z_power(np.arange(2, 36, 0.5), eff.mean() + eff.std() / np.sqrt(n) * t)"
   ]
  },
  {
   "cell_type": "code",
   "execution_count": 107,
   "metadata": {
    "collapsed": false,
    "scrolled": true
   },
   "outputs": [
    {
     "ename": "SyntaxError",
     "evalue": "invalid syntax (<ipython-input-107-71e5f46667ba>, line 19)",
     "output_type": "error",
     "traceback": [
      "\u001b[0;36m  File \u001b[0;32m\"<ipython-input-107-71e5f46667ba>\"\u001b[0;36m, line \u001b[0;32m19\u001b[0m\n\u001b[0;31m    fig.savefig('/Users/jwdebelius/Desktop/curve=-098`60-=\\\\][aq;'pdf')\u001b[0m\n\u001b[0m                                                                    ^\u001b[0m\n\u001b[0;31mSyntaxError\u001b[0m\u001b[0;31m:\u001b[0m invalid syntax\n"
     ]
    }
   ],
   "source": [
    "ax = plt.axes()\n",
    "ax.plot(np.arange(2, 36, 0.5), param1, 'k')\n",
    "ax.plot(cnts, pwr[0, :], 'o', mfc='none', mec='#e31a1c')\n",
    "ax.plot(cnts, pwr[1, :], 'o', mfc='none', mec='#e31a1c')\n",
    "ax.plot(cnts, pwr[2, :], 'o', mfc='none', mec='#e31a1c')\n",
    "ax.plot(cnts, pwr[3, :], 'o', mfc='none', mec='#e31a1c')\n",
    "ax.plot(cnts, pwr[4, :], 'o', mfc='none', mec='#e31a1c')\n",
    "ax.fill_between(np.arange(2, 36, 0.5), eff_power_l1, eff_power_u1, color='#a6cee3')\n",
    "ax.plot(np.arange(2, 36, 0.5), eff_power1, '#1f78b4')\n",
    "\n",
    "ax.set_xlim([0, 35])\n",
    "ax.set_ylim([0, 1])\n",
    "ax.set_xticklabels(map(int, ax.get_xticks()), size=11)\n",
    "ax.set_yticklabels(ax.get_yticks(), size=11)\n",
    "\n",
    "ax.set_xlabel('Sample Size', size=13)\n",
    "ax.set_ylabel('Power', size=13)\n",
    "fig = ax.get_figure()\n",
    "fig.savefig('/Users/jwdebelius/Desktop/curve\\\n",
    "\\\n",
    "=-098`60-=\\\\][aq;'pdf')"
   ]
  },
  {
   "cell_type": "code",
   "execution_count": 215,
   "metadata": {
    "collapsed": false
   },
   "outputs": [
    {
     "data": {
      "text/plain": [
       "array([ 3,  6,  9, 12, 15, 18, 21, 24, 27, 30, 33])"
      ]
     },
     "execution_count": 215,
     "metadata": {},
     "output_type": "execute_result"
    }
   ],
   "source": [
    "cnts"
   ]
  },
  {
   "cell_type": "code",
   "execution_count": null,
   "metadata": {
    "collapsed": true
   },
   "outputs": [],
   "source": []
  },
  {
   "cell_type": "code",
   "execution_count": 344,
   "metadata": {
    "collapsed": false
   },
   "outputs": [
    {
     "data": {
      "image/png": "[encoded data removed]",
      "text/plain": [
       "<matplotlib.figure.Figure at 0x130a6d610>"
      ]
     },
     "metadata": {},
     "output_type": "display_data"
    }
   ],
   "source": [
    "ax1 = plt.subplot(2, 2, 1)\n",
    "ax2 = plt.subplot(2, 2, 2)\n",
    "# ax3 = plt.subplot(2, 3, 3)\n",
    "ax4 = plt.subplot(2, 2, 3)\n",
    "ax5 = plt.subplot(2, 2, 4)\n",
    "# ax6 = plt.subplot(2, 3, 6)\n",
    "\n",
    "fig = ax1.get_figure()\n",
    "fig.set_size_inches((4, 4))\n",
    "\n",
    "ax2.errorbar(calc_ttest_ind(*data, counts=cnts),\n",
    "             ap.z_power(cnts, eff.mean()), \n",
    "             yerr=ap.z_power(cnts, eff.mean()) - ap.z_power(cnts, eff.mean() - eff.std()/np.sqrt(n)*t),\n",
    "             linestyle='none', marker='o', mfc='none', mec='#1f78b4', color='#1f78b4')\n",
    "ax5.errorbar(calc_ttest_ind(*data, counts=cnts),\n",
    "             (ap.z_power(cnts, eff.mean()) - calc_ttest_ind(*data, counts=cnts)) / calc_ttest_ind(*data, counts=cnts),\n",
    "             yerr=(ap.z_power(cnts, eff.mean()) - ap.z_power(cnts, eff.mean() - eff.std()/np.sqrt(n)*t)) / calc_ttest_ind(*data, counts=cnts),\n",
    "             linestyle='none', marker='o', mfc='none', mec='#1f78b4', color='#1f78b4')\n",
    "\n",
    "ax1.errorbar(calc_ttest_ind(*data, counts=cnts), \n",
    "             pwr.mean(0), \n",
    "             yerr=(pwr.std(0) / np.sqrt(2) * scipy.stats.t.ppf(0.975, 2)),\n",
    "             linestyle='none', marker='o', mfc='none', mec='#e31a1c', color='#e31a1c')\n",
    "ax4.errorbar(calc_ttest_ind(*data, counts=cnts),\n",
    "             (pwr.mean(0) - calc_ttest_ind(*data, counts=cnts)) / calc_ttest_ind(*data, counts=cnts),\n",
    "             yerr=(pwr.std(0)/np.sqrt(2) * scipy.stats.t.ppf(0.975, 2)) / calc_ttest_ind(*data, counts=cnts),\n",
    "             linestyle='none', marker='o', mfc='none', mec='#e31a1c', color='#e31a1c')\n",
    "\n",
    "# ax3.errorbar(ap.z_power(cnts, eff.mean()),\n",
    "#              pwr.mean(0),\n",
    "#              xerr=ap.z_power(cnts, eff.mean()) - ap.z_power(cnts, eff.mean() - eff.std() / np.sqrt(n) * t),\n",
    "#              yerr=pwr.std(0) / np.sqrt(2) * scipy.stats.t.ppf(0.975, 2),\n",
    "#              linestyle='none', marker='o', mfc='none', color='k'\n",
    "#             )\n",
    "# ax6.errorbar(ap.z_power(cnts, eff.mean()),\n",
    "#              (pwr.mean(0) - ap.z_power(cnts, eff.mean())) / ap.z_power(cnts, eff.mean()),\n",
    "#              xerr=(pwr.mean(0) / np.square(ap.z_power(cnts, eff.mean()))) * (ap.z_power(cnts, eff.mean()) - ap.z_power(cnts, eff.mean() - eff.std() / np.sqrt(n) * t)),\n",
    "#              yerr=(pwr.std(0) / np.sqrt(2) * scipy.stats.t.ppf(0.975, 2) / ap.z_power(cnts, eff.mean())),\n",
    "#              linestyle='none', marker='o', mfc='none', color='k'\n",
    "#              )\n",
    "ax1.plot([0, 1], [0, 1], 'k:')\n",
    "ax2.plot([0, 1], [0, 1], 'k:')\n",
    "\n",
    "ax4.plot([0, 1], [0, 0], 'k:')\n",
    "# ax4.fill_between([0, 1], [-0.15, -0.15],[0.15, 0.15], color=[0.9, 0.9, 0.9])\n",
    "# ax5.fill_between([0, 1], [-0.15, -0.15],[0.15, 0.15], color=[0.9, 0.9, 0.9])\n",
    "ax5.plot([0, 1], [0, 0], 'k:')\n",
    "\n",
    "ax1.set_xlim([0, 1])\n",
    "ax2.set_xlim([0, 1])\n",
    "ax4.set_xlim([0, 1])\n",
    "ax5.set_xlim([0, 1])\n",
    "\n",
    "ax1.set_xticks(np.arange(0, 1.1, 0.25))\n",
    "ax2.set_xticks(np.arange(0, 1.1, 0.25))\n",
    "ax4.set_xticks(np.arange(0, 1.1, 0.25))\n",
    "ax5.set_xticks(np.arange(0, 1.1, 0.25))\n",
    "\n",
    "ax1.set_ylim([0, 1])\n",
    "ax2.set_ylim([0, 1])\n",
    "\n",
    "ax1.set_yticks(np.arange(0, 1.1, 0.25))\n",
    "ax2.set_yticks(np.arange(0, 1.1, 0.25))\n",
    "\n",
    "ax4.set_ylim([-1, 1])\n",
    "ax5.set_ylim([-1, 1])\n",
    "\n",
    "ax1.set_xticklabels('')\n",
    "ax2.set_xticklabels('')\n",
    "ax4.set_xticklabels(ax4.get_xticks(), size=10)\n",
    "ax5.set_xticklabels(ax4.get_xticks(), size=10)\n",
    "\n",
    "ax1.set_yticklabels(ax1.get_yticks(), size=10)\n",
    "ax2.set_yticklabels('')\n",
    "ax4.set_yticklabels(ax4.get_yticks(), size=10)\n",
    "ax5.set_yticklabels('')\n",
    "\n",
    "ax1.set_ylabel('Nonparametric Power', size=13)\n",
    "ax4.set_ylabel('Relative Difference', size=13)\n",
    "l = ax4.set_xlabel('Test-based Power', size=13)\n",
    "l.set_position((1.1, -0.1))\n",
    "\n",
    "ax1.set_title('Emprical Power')\n",
    "ax2.set_title('Extrapolated Power')\n",
    "\n",
    "fig = ax1.get_figure()\n",
    "fig.savefig('/Users/jwdebelius/Desktop/compare.pdf')"
   ]
  },
  {
   "cell_type": "code",
   "execution_count": 225,
   "metadata": {
    "collapsed": false
   },
   "outputs": [
    {
     "data": {
      "text/plain": [
       "0.049912860277232976"
      ]
     },
     "execution_count": 225,
     "metadata": {},
     "output_type": "execute_result"
    }
   ],
   "source": []
  },
  {
   "cell_type": "code",
   "execution_count": null,
   "metadata": {
    "collapsed": true
   },
   "outputs": [],
   "source": []
  }
 ],
 "metadata": {
  "kernelspec": {
   "display_name": "Python 2",
   "language": "python",
   "name": "python2"
  },
  "language_info": {
   "codemirror_mode": {
    "name": "ipython",
    "version": 2
   },
   "file_extension": ".py",
   "mimetype": "text/x-python",
   "name": "python",
   "nbconvert_exporter": "python",
   "pygments_lexer": "ipython2",
   "version": "2.7.3"
  }
 },
 "nbformat": 4,
 "nbformat_minor": 0
}
