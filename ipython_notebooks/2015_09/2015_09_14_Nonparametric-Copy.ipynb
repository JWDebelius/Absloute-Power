{
 "cells": [
  {
   "cell_type": "markdown",
   "metadata": {},
   "source": [
    "**Author**: J W Debelius<br/>\n",
    "**Date**: 27 August 2015<br/>\n",
    "**virtualenv**: power play"
   ]
  },
  {
   "cell_type": "raw",
   "metadata": {
    "collapsed": false
   },
   "source": [
    "%%javascript\n",
    "IPython.load_extensions('calico-spell-check', 'calico-document-tools')"
   ]
  },
  {
   "cell_type": "markdown",
   "metadata": {},
   "source": [
    "# 1. Introduction"
   ]
  },
  {
   "cell_type": "code",
   "execution_count": 101,
   "metadata": {
    "collapsed": true
   },
   "outputs": [],
   "source": [
    "from __future__ import division\n",
    "\n",
    "import matplotlib.pyplot as plt\n",
    "import numpy as np\n",
    "import scipy.stats\n",
    "import statsmodels.api as sms\n",
    "import statsmodels.formula.api as smf\n",
    "\n",
    "import absloute_power.traditional as trad\n",
    "import absloute_power.utils as ap\n",
    "\n",
    "from scipy.stats import norm as Z\n",
    "\n",
    "import americangut.power_plots as pp\n",
    "\n",
    "import pandas as pd\n",
    "\n",
    "from skbio.stats.power import subsample_power\n",
    "\n",
    "from absloute_power.traditional import calc_ttest_1"
   ]
  },
  {
   "cell_type": "code",
   "execution_count": 2,
   "metadata": {
    "collapsed": false
   },
   "outputs": [],
   "source": [
    "from matplotlib import rcParams\n",
    "\n",
    "\n",
    "\n",
    "# Sets up plotting parameters so that the default setting is use to Helvetica\n",
    "# in plots\n",
    "rcParams['font.family'] = 'sans-serif'\n",
    "rcParams['font.sans-serif'] = ['Helvetica', 'Arial']\n",
    "rcParams['text.usetex'] = True\n",
    "\n",
    "% matplotlib inline"
   ]
  },
  {
   "cell_type": "markdown",
   "metadata": {},
   "source": [
    "We'll examine five common, simple statistical models where the power equation has been defined and employed. The emperical power implementations are based on the version described in [ref].\n",
    "\n",
    "We will examine statistical power for three tests dealing with normal distributions:\n",
    "\n",
    "* Case I t test\n",
    "* Case II (independent) t test\n",
    "* One way Analysis of Variance (ANOVA)\n",
    "* Pearson's R\n",
    "* Chi-Square\n",
    "\n",
    "We will perform 100 simulations of statistical power, comparing the power between 5 and 50 counts, with 5 observation intervals between. We'll set the critical value at 0.05."
   ]
  },
  {
   "cell_type": "code",
   "execution_count": 3,
   "metadata": {
    "collapsed": false
   },
   "outputs": [],
   "source": [
    "num_rounds = 100\n",
    "counts = np.arange(5, 55, 10)\n",
    "alpha = 0.05\n",
    "distributions = {}"
   ]
  },
  {
   "cell_type": "markdown",
   "metadata": {},
   "source": [
    "We'll also set a random seed, so that the results we get out are consistent."
   ]
  },
  {
   "cell_type": "code",
   "execution_count": 4,
   "metadata": {
    "collapsed": true
   },
   "outputs": [],
   "source": [
    "np.random.seed(25)"
   ]
  },
  {
   "cell_type": "markdown",
   "metadata": {},
   "source": [
    "# 2. Case I Test"
   ]
  },
  {
   "cell_type": "markdown",
   "metadata": {},
   "source": [
    "A case I t-test checks if an observation is drawn from a sample. We are testing the alternatively hypotheses,\n",
    "\n",
    "$\\begin{matrix}\n",
    "\\textbf{H}_{0} & x = \\bar{x} \\\\\n",
    "\\textbf{H}_{1} & x \\neq \\bar{x}\\\\\n",
    "\\end{matrix} \\tag{2.1}$\n",
    "\n",
    "where $\\bar{x}$ is the mean of the population, $x$ is the value being compared to the sample, $s$ is the standard devation of the sample, and there are $n$ observations in the sample."
   ]
  },
  {
   "cell_type": "markdown",
   "metadata": {},
   "source": [
    "## 2.1 Test Statistic"
   ]
  },
  {
   "cell_type": "markdown",
   "metadata": {},
   "source": [
    "The test statistic for the case I t test is given as\n",
    "$t = \\frac{(\\bar{x} - x)\\sqrt{n}}{s} \\tag{2.2}$\n",
    "The probability distribution follows a T distribution with $n-1$ degrees of freedom, where $n$ is the number of observations in the sample.\n",
    "\n",
    "\n",
    "For the emperical test, we will use the `scipy.stats.ttest_1samp` function, which returns a p value."
   ]
  },
  {
   "cell_type": "code",
   "execution_count": 5,
   "metadata": {
    "collapsed": false
   },
   "outputs": [],
   "source": [
    "def emp_ttest_1(sample, x0=0):\n",
    "    return scipy.stats.ttest_1samp(sample, x0)[1]"
   ]
  },
  {
   "cell_type": "markdown",
   "metadata": {},
   "source": [
    "## 2.2 Nonparametric Test"
   ]
  },
  {
   "cell_type": "code",
   "execution_count": 6,
   "metadata": {
    "collapsed": true
   },
   "outputs": [],
   "source": [
    "def emp_ttest_1_nonpar(sample, x0=0):\n",
    "    scipy.stats.wilcoxon(sample - x0)[1]"
   ]
  },
  {
   "cell_type": "markdown",
   "metadata": {},
   "source": [
    "## 2.3 Effect Size"
   ]
  },
  {
   "cell_type": "markdown",
   "metadata": {},
   "source": [
    "The effect size for a one-sample t test is Cohen's d, given by equation (2.3).\n",
    "$\\begin{align*}\n",
    "d = \\frac{\\bar{x} - x_{0}}{s}\n",
    "\\end{align*}\\tag{2.3}$\n",
    "For a two-tailed test, we can treat this as an absloute magnitude, and then test $t > (1 - \\alpha/2)$."
   ]
  },
  {
   "cell_type": "code",
   "execution_count": 7,
   "metadata": {
    "collapsed": true
   },
   "outputs": [],
   "source": [
    "def cohen_d_one_sample(sample, x0=0):\n",
    "    x1, s1 = sample.mean(), sample.std()\n",
    "    return np.absolute(x1 - x0) / s1"
   ]
  },
  {
   "cell_type": "markdown",
   "metadata": {},
   "source": [
    "## 2.4 Noncentrality Paramter"
   ]
  },
  {
   "cell_type": "markdown",
   "metadata": {},
   "source": [
    "The non centrality paramter for the statistic, $\\lambda$ is given by\n",
    "$\\begin{align*}\n",
    "\\lambda &= \\frac{t}{\\sqrt{n}}\\\\\n",
    "&=\\frac{1}{\\sqrt{n}}\\left(\\frac{(\\bar{x} - x)\\sqrt{n}}{s}\\right )\\\\\n",
    "&=\\frac{(\\bar{x} - x)}{s}\n",
    "\\end{align*}\\tag{2.4}$\n",
    "\n",
    "We will encorperate this in the power calculation. To allow for testing, the power calculation has been moved into a library."
   ]
  },
  {
   "cell_type": "markdown",
   "metadata": {},
   "source": [
    "## 2.5 Simulation Parameters"
   ]
  },
  {
   "cell_type": "markdown",
   "metadata": {},
   "source": [
    "We'll test the set of hypotheses,\n",
    "\n",
    "$\\begin{matrix}\n",
    "\\textbf{H}_{0} & 0 = \\bar{x} \\\\\n",
    "\\textbf{H}_{1} & 0 \\neq \\bar{x}\\\\\n",
    "\\end{matrix} \\tag{2.5}$\n",
    "\n",
    "where $\\bar{x}$ is the mean of a sample drawn from a population.\n",
    "\n",
    "We'll test the means between 2 and 10 with standard deviations between 5 and 15, and sample sizes between 60 and 100 observations."
   ]
  },
  {
   "cell_type": "code",
   "execution_count": 112,
   "metadata": {
    "collapsed": false
   },
   "outputs": [],
   "source": [
    "def ttest_1_simulate(mu_lim, sigma_lim, count_lims):\n",
    "    # Gets the distribution parameters\n",
    "    shape = np.random.uniform(*mu_lim)\n",
    "    scale = np.random.uniform(*sigma_lim)\n",
    "    n = np.random.randint(*count_lims)\n",
    "    \n",
    "    sample = np.random.gamma(shape, scale, n)\n",
    "    reindex = np.random.choice(np.arange(0, n), n/4, replace=False)\n",
    "    sample[reindex] = sample[reindex] - np.random.poisson(1, n/4)\n",
    "    # Draws a sample that fits the parameters\n",
    "    return [shape, scale, n], [sample]"
   ]
  },
  {
   "cell_type": "code",
   "execution_count": 113,
   "metadata": {
    "collapsed": false
   },
   "outputs": [],
   "source": [
    "distributions['ttest_1'] = {'emp_test_fun': emp_ttest_1,\n",
    "                            'non_test_fun': emp_ttest_1_nonpar,\n",
    "                            'trad_test_fun': calc_ttest_1,\n",
    "                            'sim_function': ttest_1_simulate,\n",
    "                            'sim_parameters': [[0.1, 5], [0.1, 3], [125, 126]],\n",
    "                            'other_sim_parameters': {},\n",
    "                            'test_parameters': {'x0': 0},\n",
    "                            'emp_parameters': {},\n",
    "                            'effect_size': cohen_d_one_sample,\n",
    "                             }"
   ]
  },
  {
   "cell_type": "code",
   "execution_count": 114,
   "metadata": {
    "collapsed": false
   },
   "outputs": [
    {
     "name": "stderr",
     "output_type": "stream",
     "text": [
      "/Users/jwdebelius/.virtualenvs/power_play/lib/python2.7/site-packages/ipykernel/__main__.py:8: DeprecationWarning: using a non-integer number instead of an integer will result in an error in the future\n",
      "/Users/jwdebelius/.virtualenvs/power_play/lib/python2.7/site-packages/ipykernel/__main__.py:9: DeprecationWarning: using a non-integer number instead of an integer will result in an error in the future\n"
     ]
    }
   ],
   "source": [
    "[shape, scale, n], sample = ttest_1_simulate([0.05, 3], [0.05, 5], [1000, 1001])"
   ]
  },
  {
   "cell_type": "markdown",
   "metadata": {},
   "source": [
    "# 6. Building Simulations"
   ]
  },
  {
   "cell_type": "markdown",
   "metadata": {},
   "source": [
    "We will now build the simulations and look at the results."
   ]
  },
  {
   "cell_type": "code",
   "execution_count": 115,
   "metadata": {
    "collapsed": false
   },
   "outputs": [
    {
     "name": "stdout",
     "output_type": "stream",
     "text": [
      "1.69188624852 4.10723524985\n"
     ]
    },
    {
     "data": {
      "text/plain": [
       "(array([ 149.,  239.,  163.,  123.,   97.,   71.,   47.,   38.,   29.,\n",
       "          16.,    5.,    5.,    0.,    3.,    0.,    0.,    0.,    1.,\n",
       "           1.,    0.,    0.,    0.,    0.,    0.,    0.]),\n",
       " array([ 0,  2,  4,  6,  8, 10, 12, 14, 16, 18, 20, 22, 24, 26, 28, 30, 32,\n",
       "        34, 36, 38, 40, 42, 44, 46, 48, 50]),\n",
       " <a list of 25 Patch objects>)"
      ]
     },
     "execution_count": 115,
     "metadata": {},
     "output_type": "execute_result"
    },
    {
     "data": {
      "image/png": "[encoded data removed]",
      "text/plain": [
       "<matplotlib.figure.Figure at 0x118dad110>"
      ]
     },
     "metadata": {},
     "output_type": "display_data"
    }
   ],
   "source": [
    "print shape, scale\n",
    "plt.hist(sample, np.arange(0, 51, 2))"
   ]
  },
  {
   "cell_type": "code",
   "execution_count": 123,
   "metadata": {
    "collapsed": false
   },
   "outputs": [
    {
     "name": "stdout",
     "output_type": "stream",
     "text": [
      "ttest_1\n"
     ]
    },
    {
     "name": "stderr",
     "output_type": "stream",
     "text": [
      "/Users/jwdebelius/.virtualenvs/power_play/lib/python2.7/site-packages/ipykernel/__main__.py:8: DeprecationWarning: using a non-integer number instead of an integer will result in an error in the future\n",
      "/Users/jwdebelius/.virtualenvs/power_play/lib/python2.7/site-packages/ipykernel/__main__.py:9: DeprecationWarning: using a non-integer number instead of an integer will result in an error in the future\n"
     ]
    }
   ],
   "source": [
    "# %%time\n",
    "\n",
    "# for k, params in distributions.iteritems():\n",
    "for k, params in [('ttest_1', distributions['ttest_1'])]:\n",
    "    params['pop_params'] = []\n",
    "    params['sample'] = []\n",
    "    params['effs'] = []\n",
    "    params['test'] = []\n",
    "    params['trad'] = []\n",
    "    params['empp'] = []\n",
    "    params['empn'] = []\n",
    "    params['extp'] = []\n",
    "    params['extn'] = []\n",
    "    \n",
    "    for i in xrange(100):\n",
    "        # Calculates the samples\n",
    "        pop_params, samples = params['sim_function'](*params['sim_parameters'], **params['other_sim_parameters'])\n",
    "        params['pop_params'].append(pop_params)\n",
    "        params['sample'].append(samples)\n",
    "        \n",
    "        # Calculates the traditional power\n",
    "        test_power = params['trad_test_fun'](*samples, counts=counts, **params['test_parameters'])\n",
    "        params['test'].append(test_power)\n",
    "        \n",
    "        # Calculates Cohen's effect\n",
    "        if 'effect_size' in params:\n",
    "            cohen_eff = params['effect_size'](*samples)\n",
    "        else:\n",
    "            cohen_eff = None\n",
    "        \n",
    "        # Extrapolates the effect from the test\n",
    "        test_eff = ap.z_effect(counts, test_power)\n",
    "        \n",
    "        trad_power = ap.z_power(counts, test_eff.mean())\n",
    "        params['trad'].append(trad_power)\n",
    "        \n",
    "         # Calculates the emprical power using a nonparametric test\n",
    "        nempr_power, nempr_counts = subsample_power(lambda x: params['emp_test_fun'](*x, **params['test_parameters']),\n",
    "                                                  samples,\n",
    "                                                  min_counts=5,\n",
    "                                                  max_counts=55,\n",
    "                                                  counts_interval=10,\n",
    "                                                  num_runs=5,\n",
    "                                                  num_iter=1000,\n",
    "                                                  **params['emp_parameters'])\n",
    "        # Calculates the nonparametric effect\n",
    "        nonp_eff = ap.z_effect(nempr_counts, nempr_power)\n",
    "        nonf_eff = pp.collate_effect_size([nempr_counts], [nempr_power], 0.05)\n",
    "        next_power = ap.z_power(counts, nonp_eff.mean())\n",
    "        params['empn'].append(nempr_power)\n",
    "        params['extn'].append(next_power)\n",
    "        \n",
    "\n",
    "        # Updates the information\n",
    "        params['effs'].append([cohen_eff, test_eff, nonp_eff, nonf_eff])\n",
    "    distributions[k] = params\n",
    "    print k"
   ]
  },
  {
   "cell_type": "code",
   "execution_count": null,
   "metadata": {
    "collapsed": true
   },
   "outputs": [],
   "source": []
  },
  {
   "cell_type": "code",
   "execution_count": 124,
   "metadata": {
    "collapsed": true
   },
   "outputs": [],
   "source": [
    "# fig1 = plt.figure()\n",
    "# fig1.set_size_inches((4, 4))\n",
    "\n",
    "samples = distributions['ttest_1']['sample']\n",
    "\n",
    "effs = distributions['ttest_1']['effs']\n",
    "\n",
    "test = np.vstack(distributions['ttest_1']['test'])\n",
    "trad = np.vstack(distributions['ttest_1']['trad'])\n",
    "nemp = np.vstack([d.mean(0) for d in distributions['ttest_1']['empn']])\n",
    "extn = np.vstack(distributions['ttest_1']['extn'])\n"
   ]
  },
  {
   "cell_type": "code",
   "execution_count": null,
   "metadata": {
    "collapsed": true
   },
   "outputs": [],
   "source": [
    "from matplotlib import cm\n",
    "\n",
    "means = np.array([np.mean(e) for e in zip(*effs)[2]])\n",
    "means_order = np.argsort(means)\n",
    "\n",
    "num_colors=len(means_order) # cats is a vector of the number of groups\n",
    "blues = cm.get_cmap('Greys_r') # Colormap name\n",
    "greens = cm.get_cmap('Greys_r')\n",
    "reds = cm.get_cmap('Greys_r')\n",
    "purples = cm.get_cmap('Greys_r')\n",
    "new_blues = np.array([list(blues((1.*i)/(num_colors))) for i in xrange(num_colors)])\n",
    "new_green = np.array([list(greens((1.*i)/(num_colors))) for i in xrange(num_colors)])\n",
    "new_reds = np.array([list(reds((1.*i)/(num_colors))) for i in xrange(num_colors)])\n",
    "new_purples = np.array([list(purples((1.*i)/(num_colors))) for i in xrange(num_colors)])"
   ]
  },
  {
   "cell_type": "code",
   "execution_count": null,
   "metadata": {
    "collapsed": false
   },
   "outputs": [
    {
     "data": {
      "image/png": "[encoded data removed]",
      "text/plain": [
       "<matplotlib.figure.Figure at 0x10cee1f10>"
      ]
     },
     "metadata": {},
     "output_type": "display_data"
    }
   ],
   "source": [
    "fig = plt.figure()\n",
    "\n",
    "ax1 = fig.add_subplot(2, 4, 1)\n",
    "ax2 = fig.add_subplot(2, 4, 2)\n",
    "ax3 = fig.add_subplot(2, 4, 3)\n",
    "ax4 = fig.add_subplot(2, 4, 4)\n",
    "ax5 = fig.add_subplot(2, 4, 5)\n",
    "ax6 = fig.add_subplot(2, 4, 6)\n",
    "ax7 = fig.add_subplot(2, 4, 7)\n",
    "ax8 = fig.add_subplot(2, 4, 8)\n",
    "\n",
    "for idx in xrange(len(means_order)):\n",
    "    loc = means_order[idx]\n",
    "    ax1.plot(distributions['ttest_1']['test'][idx], \n",
    "             distributions['ttest_1']['trad'][idx],\n",
    "            'o', color=new_green[loc])\n",
    "    ax5.plot(distributions['ttest_1']['test'][idx],\n",
    "             (-distributions['ttest_1']['test'][idx] +\n",
    "              distributions['ttest_1']['trad'][idx]) /\n",
    "             distributions['ttest_1']['test'][idx],\n",
    "            'o', color=new_green[loc])\n",
    "#     ax1.set_axis_bgcolor('k')\n",
    "    ax2.plot(distributions['ttest_1']['test'][idx],\n",
    "             np.mean(distributions['ttest_1']['empn'][idx], 0),\n",
    "             '.', color=new_blues[loc])\n",
    "#     ax2.set_axis_bgcolor('k')\n",
    "    ax6.plot(distributions['ttest_1']['test'][idx],\n",
    "             (-distributions['ttest_1']['test'][idx] +\n",
    "              np.mean(distributions['ttest_1']['empn'][idx], 0)) /\n",
    "             distributions['ttest_1']['test'][idx],\n",
    "            '.', color=new_blues[loc])\n",
    "    \n",
    "    ax3.plot(distributions['ttest_1']['test'][idx],\n",
    "             distributions['ttest_1']['extn'][idx],\n",
    "             '.', color=new_reds[loc])\n",
    "    \n",
    "    ax7.plot(distributions['ttest_1']['test'][idx],\n",
    "             (-distributions['ttest_1']['test'][idx] +\n",
    "              distributions['ttest_1']['extn'][idx]) /\n",
    "             distributions['ttest_1']['test'][idx],\n",
    "            '.', color=new_reds[loc])\n",
    "    \n",
    "# #     ax3.set_axis_bgcolor('k')\n",
    "    ax4.plot(distributions['ttest_1']['extn'][idx],\n",
    "             np.mean(distributions['ttest_1']['empn'][idx], 0),\n",
    "             '.', color=new_purples[loc])\n",
    "    \n",
    "    ax8.plot(distributions['ttest_1']['extn'][idx],\n",
    "             (np.mean(distributions['ttest_1']['empn'][idx], 0) -\n",
    "              distributions['ttest_1']['extn'][idx]) /\n",
    "              distributions['ttest_1']['extn'][idx],\n",
    "            '.', color=new_purples[loc])\n",
    "    \n",
    "for i, ax in enumerate(fig.axes):\n",
    "    ax.set_xticks(np.arange(0, 1.1, 0.25))\n",
    "    if i < 4:\n",
    "        ax.set_yticks(np.arange(0, 1.1, 0.25))\n",
    "        ax.set_yticklabels('')\n",
    "        ax.set_xticklabels('')\n",
    "        ax.plot([0, 1], [0, 1], 'k-', linewidth=0.5)\n",
    "    else:\n",
    "        ax.set_ylim([-1, 1])\n",
    "        ax.set_yticks(np.arange(-1, 1.1, 0.5))\n",
    "        ax.set_yticklabels('')\n",
    "        ax.set_xticklabels(np.arange(0, 1.1, 0.25), size=11)\n",
    "        ax.plot([0, 1], [0, 0], 'k-', linewidth=0.5)\n",
    "        \n",
    "ax1.set_yticklabels(np.arange(0, 1.1, 0.25), size=11)\n",
    "ax5.set_yticklabels(np.arange(-1, 1.1, 0.5), size=11)\n",
    "\n",
    "\n",
    "fig.set_size_inches((8, 4))"
   ]
  },
  {
   "cell_type": "code",
   "execution_count": null,
   "metadata": {
    "collapsed": false
   },
   "outputs": [],
   "source": [
    "means[means_order] / np.sqrt(2)"
   ]
  },
  {
   "cell_type": "code",
   "execution_count": null,
   "metadata": {
    "collapsed": false
   },
   "outputs": [],
   "source": [
    "np.mean([ap.z_power(counts, e) for e in zip(*effs)[1][0]], 0)"
   ]
  },
  {
   "cell_type": "code",
   "execution_count": null,
   "metadata": {
    "collapsed": false
   },
   "outputs": [],
   "source": [
    "trad_mean = np.concatenate([ap.z_power(counts, np.mean(eff)) for eff in zip(*effs)[1]])\n",
    "trad_conf = np.concatenate([(ap.z_power(counts, np.mean(eff)) + np.std(eff) / np.sqrt(len(eff)) * scipy.stats.t.ppf(0.975, len(eff) - 1)) - \n",
    "                            ap.z_power(counts, np.mean(eff)) for eff in zip(*effs)[1]])"
   ]
  },
  {
   "cell_type": "code",
   "execution_count": null,
   "metadata": {
    "collapsed": false
   },
   "outputs": [],
   "source": [
    "tst_trd_m = np.concatenate([np"
   ]
  },
  {
   "cell_type": "code",
   "execution_count": null,
   "metadata": {
    "collapsed": false
   },
   "outputs": [],
   "source": [
    "check = [d.mean(0) for d in distributions['ttest_1']['empn']]"
   ]
  },
  {
   "cell_type": "code",
   "execution_count": null,
   "metadata": {
    "collapsed": false
   },
   "outputs": [],
   "source": [
    "np.hstack(check)"
   ]
  },
  {
   "cell_type": "code",
   "execution_count": null,
   "metadata": {
    "collapsed": true
   },
   "outputs": [],
   "source": [
    "empn_mean = [d.mean(0) for d in distributions['ttest_1']['empn']]\n",
    "empn_conf = np.concatenate([d.std(0) / np.sqrt(5) * scipy.stats.t.ppf(0.975, 2) for d in distributions['ttest_1']['empn']])\n",
    "\n",
    "emntrd_rt = np.concatenate([np.mean((np.vstack([t] * 3) - d) / np.vstack([t] * 3), 0) / np.sqrt(len(d))\n",
    "                           for (t, d) in zip(*(distributions['ttest_1']['trad'], distributions['ttest_1']['empn']))])\n",
    "emntrd_ci = np.concatenate([np.std((np.vstack([t] * 3) - d) / np.vstack([t] * 3), 0) / np.sqrt(len(d)) * scipy.stats.t.ppf(0.975, len(d)-1) \n",
    "                            for (t, d) in zip(*(distributions['ttest_1']['trad'], distributions['ttest_1']['empn']))])"
   ]
  },
  {
   "cell_type": "code",
   "execution_count": null,
   "metadata": {
    "collapsed": false
   },
   "outputs": [],
   "source": [
    "extn_mean = np.concatenate([ap.z_power(counts, np.mean(eff)) for eff in zip(*effs)[3]])\n",
    "extn_conf = np.concatenate([ap.z_power(counts, np.mean(eff) + np.std(eff) / np.sqrt(len(eff)) * scipy.stats.t.ppf(0.975, len(eff) - 1)) - \n",
    "                            ap.z_power(counts, np.mean(eff)) for eff in zip(*effs)[3]])\n",
    "exntrd_r = []\n",
    "exntrd_c = []\n",
    "for i, (t, eff) in enumerate(zip(*(distributions['ttest_1']['trad'], distributions['ttest_1']['effs']))):\n",
    "    if len(eff[3]) > 0:\n",
    "        exntrd_r.append(np.mean([(ap.z_power(counts, e) - t) / t for e in eff[3]], 0))\n",
    "        exntrd_c.append(np.std([(ap.z_power(counts, e) - t) / t for e in eff[3]], 0) / np.sqrt(len(eff[3])) * scipy.stats.t.ppf(0.975, len(eff[3] -1)))\n",
    "    else:\n",
    "        exntrd_r.append(np.nan*np.ones(counts.shape))\n",
    "        exntrd_c.append(np.nan*np.ones(counts.shape))\n",
    "    \n",
    "exntrd_r = np.concatenate(exntrd_r)\n",
    "exntrd_c = np.concatenate(exntrd_c)"
   ]
  },
  {
   "cell_type": "code",
   "execution_count": null,
   "metadata": {
    "collapsed": false
   },
   "outputs": [],
   "source": [
    "test.shape"
   ]
  },
  {
   "cell_type": "code",
   "execution_count": null,
   "metadata": {
    "collapsed": false
   },
   "outputs": [],
   "source": [
    "empn_mean.shape"
   ]
  },
  {
   "cell_type": "code",
   "execution_count": null,
   "metadata": {
    "collapsed": false
   },
   "outputs": [],
   "source": [
    "fig2 = plt.figure()\n",
    "\n",
    "ax1 = fig2.add_subplot(2, 3, 1)\n",
    "ax2 = fig2.add_subplot(2, 3, 2)\n",
    "ax3 = fig2.add_subplot(2, 3, 3)\n",
    "ax4 = fig2.add_subplot(2, 3, 4)\n",
    "ax5 = fig2.add_subplot(2, 3, 5)\n",
    "ax6 = fig2.add_subplot(2, 3, 6)\n",
    "\n",
    "ax1.errorbar(test, trad_mean, trad_conf, marker='', linestyle='none', color='#bdbdbd')\n",
    "ax1.plot(test, trad_mean, 'o', mfc='none', ms=4, alpha=0.2, mec='#252525')\n",
    "\n",
    "ax3.plot(test, empn_mean)\n",
    "\n",
    "# ax3.errorbar(test, empn_mean, empn_conf, marker='', linestyle='none', color='#fb9a99')\n",
    "# ax3.plot(test, empn_mean, 'o', mfc='none', ms=4, alpha=0.2, mec='#e31a1c')"
   ]
  },
  {
   "cell_type": "code",
   "execution_count": null,
   "metadata": {
    "collapsed": false,
    "scrolled": true
   },
   "outputs": [],
   "source": [
    "ax2.errorbar(trad, empn_mean, yerr=empn_conf, marker='', linestyle='none', color='#a6cee3')\n",
    "ax2.plot(trad, empn_mean, 'o', mec='#1f78b4', mfc='none', markersize=4, alpha=0.2)\n",
    "\n",
    "ax2.set_xlim([-0.05, 1.05])\n",
    "ax2.set_ylim([-0.05, 1.1])\n",
    "ax2.plot([-0.1, 1.1], [-0.1, 1.1], 'k-')\n",
    "ax2.set_xticks(np.arange(0, 1.1, 0.25))\n",
    "ax2.set_yticks(np.arange(0, 1.1, 0.25))\n",
    "ax2.set_xticklabels('')\n",
    "ax2.spines['right'].set_visible(False)\n",
    "ax2.spines['top'].set_visible(False)\n",
    "ax2.yaxis.set_ticks_position('left')\n",
    "ax2.xaxis.set_ticks_position('bottom')\n",
    "ax2.get_xaxis().set_tick_params(direction='out')\n",
    "ax2.get_yaxis().set_tick_params(direction='out')\n",
    "ax2.set_yticklabels(ax2.get_yticks(), size=10)\n",
    "ax2.set_ylabel('Emperical Power', size=12)\n",
    "ax2.text(0.05, 0.9, '(A)', size=15)\n",
    "\n",
    "ax4.errorbar(trad, emntrd_rt, yerr=emntrd_ci, marker='', linestyle='none', color='#a6cee3')\n",
    "ax4.plot(trad, emntrd_rt, 'o', mec='#1f78b4', mfc='none', markersize=4, alpha=0.2)\n",
    "ax4.plot([0, 1], [0, 0], 'k-')\n",
    "ax4.set_ylim([-1, 1])\n",
    "ax4.set_xticks(np.arange(0, 1.1, 0.25))\n",
    "ax4.set_yticks(np.arange(-1, 1.1, 0.5))\n",
    "# ax4.set_xticklabels('')\n",
    "ax4.set_yticklabels(ax4.get_yticks(), size=10)\n",
    "ax4.set_xticklabels(ax4.get_xticks(), size=10)\n",
    "ax4.spines['right'].set_visible(False)\n",
    "ax4.spines['top'].set_visible(False)\n",
    "ax4.yaxis.set_ticks_position('left')\n",
    "ax4.xaxis.set_ticks_position('bottom')\n",
    "ax4.get_xaxis().set_tick_params(direction='out')\n",
    "ax4.get_yaxis().set_tick_params(direction='out')\n",
    "ax4.set_ylabel('Relative Difference', size=12)\n",
    "ax4.text(0.05, 0.8, '(C)', size=15)\n",
    "\n",
    "ax3.errorbar(trad, extn_mean, yerr=extn_conf, marker='', linestyle='none', color='#fb9a99')\n",
    "ax3.plot(trad, extn_mean, 'o', mec='#e31a1c', mfc='none', markersize=4)\n",
    "\n",
    "ax3.plot([0, 1], [0, 1], 'k-')\n",
    "ax3.set_xticks(np.arange(0, 1.1, 0.25))\n",
    "ax3.set_yticks(np.arange(0, 1.1, 0.25))\n",
    "ax3.set_yticklabels('')\n",
    "ax3.set_xticklabels('')\n",
    "ax3.spines['right'].set_visible(False)\n",
    "ax3.spines['top'].set_visible(False)\n",
    "ax3.yaxis.set_ticks_position('left')\n",
    "ax3.xaxis.set_ticks_position('bottom')\n",
    "ax3.get_xaxis().set_tick_params(direction='out')\n",
    "ax3.get_yaxis().set_tick_params(direction='out')\n",
    "ax3.text(0.05, 0.9, '(B)', size=15)\n",
    "\n",
    "\n",
    "ax5.errorbar(trad, exntrd_r, yerr=exntrd_c, marker='', linestyle='none', color='#fb9a99')\n",
    "ax5.plot(trad, exntrd_r, 'o', mec='#e31a1c', mfc='none', ms=4)\n",
    "ax5.plot([0, 1], [0, 0], 'k-')\n",
    "ax5.set_xticks(np.arange(0, 1.1, 0.25))\n",
    "ax5.set_ylim([-1, 1])\n",
    "ax5.set_yticklabels('')\n",
    "ax5.set_xticklabels(ax5.get_xticks(), size=10)\n",
    "ax5.spines['right'].set_visible(False)\n",
    "ax5.spines['top'].set_visible(False)\n",
    "ax5.yaxis.set_ticks_position('left')\n",
    "ax5.xaxis.set_ticks_position('bottom')\n",
    "ax5.get_xaxis().set_tick_params(direction='out')\n",
    "ax5.get_yaxis().set_tick_params(direction='out')\n",
    "ax5.text(0.05, 0.8, '(D)', size=15)\n",
    "l = ax5.set_xlabel('Traditional Power', size=12)\n",
    "l.set_position((-0.1, 1))\n",
    "\n",
    "fig2.set_size_inches((4, 4))"
   ]
  },
  {
   "cell_type": "code",
   "execution_count": null,
   "metadata": {
    "collapsed": false
   },
   "outputs": [],
   "source": [
    "print effs[0][1].mean(), effs[0][1].std()\n",
    "print effs[0][3].mean(), effs[0][3].std()"
   ]
  },
  {
   "cell_type": "code",
   "execution_count": null,
   "metadata": {
    "collapsed": true
   },
   "outputs": [],
   "source": []
  },
  {
   "cell_type": "code",
   "execution_count": null,
   "metadata": {
    "collapsed": false
   },
   "outputs": [],
   "source": [
    "trad_eff_mean = np.array([np.mean(e) for e in zip(*effs)[1]])\n",
    "trad_eff_stdv = np.array([np.std(e) for e in zip(*effs)[1]])\n",
    "\n",
    "extn_eff_mean = np.array([np.mean(e) for e in zip(*effs)[3]])\n",
    "extn_eff_stdv = np.array([np.std(e) for e in zip(*effs)[3]])"
   ]
  },
  {
   "cell_type": "code",
   "execution_count": null,
   "metadata": {
    "collapsed": false
   },
   "outputs": [],
   "source": [
    "trad_eff_mean.shape"
   ]
  },
  {
   "cell_type": "code",
   "execution_count": null,
   "metadata": {
    "collapsed": false
   },
   "outputs": [],
   "source": [
    "extn_eff_mean.shape"
   ]
  },
  {
   "cell_type": "code",
   "execution_count": null,
   "metadata": {
    "collapsed": false
   },
   "outputs": [],
   "source": [
    "plt.errorbar(trad_eff_mean, extn_eff_mean, trad_eff_stdv, extn_eff_stdv, mfc='none', linewidth=1, linestyle='none')"
   ]
  },
  {
   "cell_type": "code",
   "execution_count": null,
   "metadata": {
    "collapsed": true
   },
   "outputs": [],
   "source": []
  },
  {
   "cell_type": "code",
   "execution_count": null,
   "metadata": {
    "collapsed": true
   },
   "outputs": [],
   "source": []
  }
 ],
 "metadata": {
  "kernelspec": {
   "display_name": "Python 2",
   "language": "python",
   "name": "python2"
  },
  "language_info": {
   "codemirror_mode": {
    "name": "ipython",
    "version": 2
   },
   "file_extension": ".py",
   "mimetype": "text/x-python",
   "name": "python",
   "nbconvert_exporter": "python",
   "pygments_lexer": "ipython2",
   "version": "2.7.3"
  }
 },
 "nbformat": 4,
 "nbformat_minor": 0
}
