{
 "cells": [
  {
   "cell_type": "code",
   "execution_count": 34,
   "metadata": {
    "collapsed": false
   },
   "outputs": [],
   "source": [
    "from __future__ import division\n",
    "\n",
    "import os\n",
    "import matplotlib.pyplot as plt\n",
    "import numpy as np\n",
    "import skbio\n",
    "import scipy.stats\n",
    "import statsmodels.api as sms\n",
    "import statsmodels.formula.api as smf\n",
    "\n",
    "import absloute_power.traditional as trad\n",
    "import absloute_power.utils as ap\n",
    "\n",
    "\n",
    "import pandas as pd\n",
    "import biom\n",
    "\n",
    "from skbio.stats.power import subsample_power\n",
    "\n",
    "from absloute_power.traditional import calc_ttest_1\n",
    "\n",
    "import pickle"
   ]
  },
  {
   "cell_type": "code",
   "execution_count": 2,
   "metadata": {
    "collapsed": false
   },
   "outputs": [
    {
     "name": "stdout",
     "output_type": "stream",
     "text": [
      "/Users/jwdebelius/Repositories/Absloute-Power/ipython_notebooks/2015_9\r\n"
     ]
    }
   ],
   "source": [
    "!pwd"
   ]
  },
  {
   "cell_type": "code",
   "execution_count": 3,
   "metadata": {
    "collapsed": true
   },
   "outputs": [],
   "source": [
    "base_dir = '/Users/jwdebelius/Repositories/Absloute-Power'\n",
    "data_dir = os.path.join(base_dir, 'data/merged_otu_table_and_mapping_bmi')\n",
    "map_fp = os.path.join(data_dir, 'merged_bmi_mapping_final.txt')\n",
    "otu_fp = os.path.join(data_dir, 'merged_bmi_otu_1k.biom')\n",
    "uud_fp = os.path.join(data_dir, '1k/unweighted_unifrac_dm.txt')"
   ]
  },
  {
   "cell_type": "code",
   "execution_count": 4,
   "metadata": {
    "collapsed": false
   },
   "outputs": [],
   "source": [
    "map_ = pd.read_csv(map_fp, sep='\\t', dtype=str)\n",
    "map_.set_index('#SampleID', inplace=True)\n",
    "uud = skbio.DistanceMatrix.read(uud_fp)"
   ]
  },
  {
   "cell_type": "code",
   "execution_count": 5,
   "metadata": {
    "collapsed": true
   },
   "outputs": [],
   "source": [
    "def test_beta_permanova(ids, meta, dm, cat, num_iter=499):\n",
    "    \"\"\"Tests difference in beta diversity for a category and distance matrix\"\"\"\n",
    "    # Gets the map and distance matrix subset\n",
    "    all_ids = np.hstack(ids)\n",
    "    # Calculates the permanova\n",
    "    perma_results = skbio.stats.distance.permanova(dm.filter(all_ids), \n",
    "                                                   meta.loc[all_ids],\n",
    "                                                   cat,\n",
    "                                                   num_iter)\n",
    "    # Returns the p value\n",
    "    return perma_results['p-value']"
   ]
  },
  {
   "cell_type": "code",
   "execution_count": 6,
   "metadata": {
    "collapsed": false
   },
   "outputs": [
    {
     "data": {
      "text/plain": [
       "Index([u'BarcodeSequence', u'LinkerPrimerSequence', u'BMI',\n",
       "       u'bmi_group_binned', u'bmi_group_coded', u'original_study',\n",
       "       u'combined_study_bmi_group', u'merged_category_bmi',\n",
       "       u'merged_weight_cats_study', u'PCR_PRIMERS', u'TARGET_SUBFRAGMENT',\n",
       "       u'AGE', u'ELEVATION', u'LONGITUDE', u'COUNTRY', u'SEQUENCING_METH',\n",
       "       u'SAMPLE_CENTER', u'Description_duplicate', u'ReversePrimer',\n",
       "       u'COLLECTION_DATE', u'SEX', u'FAMILY_RELATIONSHIP_GG', u'STUDY_CENTER',\n",
       "       u'EXPERIMENT_CENTER', u'bmi_group_amish', u'RUN_CENTER', u'LATITUDE',\n",
       "       u'Description'],\n",
       "      dtype='object')"
      ]
     },
     "execution_count": 6,
     "metadata": {},
     "output_type": "execute_result"
    }
   ],
   "source": [
    "map_.columns"
   ]
  },
  {
   "cell_type": "code",
   "execution_count": 9,
   "metadata": {
    "collapsed": false
   },
   "outputs": [
    {
     "data": {
      "text/plain": [
       "TARGET_SUBFRAGMENT\n",
       "V13    111\n",
       "V2     576\n",
       "V35     97\n",
       "V4     273\n",
       "dtype: int64"
      ]
     },
     "execution_count": 9,
     "metadata": {},
     "output_type": "execute_result"
    }
   ],
   "source": [
    "map_.groupby('TARGET_SUBFRAGMENT').count().max(1)"
   ]
  },
  {
   "cell_type": "code",
   "execution_count": 13,
   "metadata": {
    "collapsed": false
   },
   "outputs": [
    {
     "data": {
      "text/plain": [
       "original_study         TARGET_SUBFRAGMENT\n",
       "COMBO_Wu               V2                     97\n",
       "HMP                    V13                   111\n",
       "                       V35                    97\n",
       "Turnbaugh_mz_dz_twins  V2                    154\n",
       "Yatsunenko_GG          V4                    273\n",
       "amish_Fraser           V2                    325\n",
       "dtype: int64"
      ]
     },
     "execution_count": 13,
     "metadata": {},
     "output_type": "execute_result"
    }
   ],
   "source": [
    "map_.groupby(['original_study', 'TARGET_SUBFRAGMENT']).count().max(1)"
   ]
  },
  {
   "cell_type": "code",
   "execution_count": 15,
   "metadata": {
    "collapsed": true
   },
   "outputs": [],
   "source": [
    "map_study_groups = map_.loc[inter_ids].groupby('original_study').groups\n",
    "v2_ids = [map_study_groups[g] for g in ['COMBO_Wu', 'amish_Fraser', 'Turnbaugh_mz_dz_twins']]"
   ]
  },
  {
   "cell_type": "code",
   "execution_count": 17,
   "metadata": {
    "collapsed": true
   },
   "outputs": [],
   "source": [
    "study_test = lambda x: test_beta_permanova(x, map_, uud, 'original_study')\n",
    "obese_test = lambda x: test_beta_permanova(x, map_, uud, 'bmi_group_coded')"
   ]
  },
  {
   "cell_type": "code",
   "execution_count": 14,
   "metadata": {
    "collapsed": true
   },
   "outputs": [],
   "source": [
    "inter_ids = list(set(map_.index).intersection(set(uud.ids)))"
   ]
  },
  {
   "cell_type": "code",
   "execution_count": 72,
   "metadata": {
    "collapsed": false
   },
   "outputs": [],
   "source": [
    "study_ids = [ids for ids in map_.loc[inter_ids].groupby('original_study').groups.itervalues()]\n",
    "obese_ids = [ids for ids in map_.loc[inter_ids].groupby('bmi_group_coded').groups.itervalues()]"
   ]
  },
  {
   "cell_type": "code",
   "execution_count": 24,
   "metadata": {
    "collapsed": false
   },
   "outputs": [],
   "source": [
    "v2_power, v2_counts = subsample_power(study_test,\n",
    "                                      v2_ids,\n",
    "                                      min_counts=3,\n",
    "                                      max_counts=8,\n",
    "                                      counts_interval=1,\n",
    "                                      alpha_pwr=0.012)"
   ]
  },
  {
   "cell_type": "code",
   "execution_count": 25,
   "metadata": {
    "collapsed": false
   },
   "outputs": [
    {
     "data": {
      "text/plain": [
       "array([[ 0.876,  1.   ,  1.   ,  1.   ,  1.   ],\n",
       "       [ 0.896,  1.   ,  1.   ,  1.   ,  1.   ],\n",
       "       [ 0.916,  1.   ,  1.   ,  1.   ,  1.   ],\n",
       "       [ 0.926,  1.   ,  1.   ,  1.   ,  1.   ],\n",
       "       [ 0.906,  1.   ,  1.   ,  1.   ,  1.   ],\n",
       "       [ 0.898,  1.   ,  1.   ,  1.   ,  1.   ],\n",
       "       [ 0.906,  1.   ,  1.   ,  1.   ,  1.   ],\n",
       "       [ 0.92 ,  1.   ,  1.   ,  1.   ,  1.   ],\n",
       "       [ 0.904,  1.   ,  1.   ,  1.   ,  1.   ],\n",
       "       [ 0.878,  1.   ,  1.   ,  1.   ,  1.   ]])"
      ]
     },
     "execution_count": 25,
     "metadata": {},
     "output_type": "execute_result"
    }
   ],
   "source": [
    "v2_power"
   ]
  },
  {
   "cell_type": "code",
   "execution_count": 35,
   "metadata": {
    "collapsed": false
   },
   "outputs": [],
   "source": [
    "with open(os.path.join(data_dir, 'v2.p'), 'wb') as f_:\n",
    "    pickle.dump([v2_power, v2_counts, {'alpha':0.012}], f_)"
   ]
  },
  {
   "cell_type": "code",
   "execution_count": 36,
   "metadata": {
    "collapsed": true
   },
   "outputs": [],
   "source": [
    "hmp_map = map_.loc[inter_ids]"
   ]
  },
  {
   "cell_type": "code",
   "execution_count": 40,
   "metadata": {
    "collapsed": false
   },
   "outputs": [
    {
     "data": {
      "text/plain": [
       "TARGET_SUBFRAGMENT\n",
       "V13    107\n",
       "V35     94\n",
       "dtype: int64"
      ]
     },
     "execution_count": 40,
     "metadata": {},
     "output_type": "execute_result"
    }
   ],
   "source": [
    "hmp_map = hmp_map.loc[hmp_map.original_study == 'HMP']\n",
    "hmp_map.groupby('TARGET_SUBFRAGMENT').count().max(1)"
   ]
  },
  {
   "cell_type": "code",
   "execution_count": 29,
   "metadata": {
    "collapsed": false
   },
   "outputs": [],
   "source": [
    "eff = ap.z_effect(v2_counts, v2_power, 0.012) "
   ]
  },
  {
   "cell_type": "code",
   "execution_count": 30,
   "metadata": {
    "collapsed": false
   },
   "outputs": [
    {
     "data": {
      "text/plain": [
       "3.1140459307141137"
      ]
     },
     "execution_count": 30,
     "metadata": {},
     "output_type": "execute_result"
    }
   ],
   "source": [
    "eff.mean()"
   ]
  },
  {
   "cell_type": "code",
   "execution_count": 31,
   "metadata": {
    "collapsed": false
   },
   "outputs": [
    {
     "data": {
      "text/plain": [
       "0.073483738648768795"
      ]
     },
     "execution_count": 31,
     "metadata": {},
     "output_type": "execute_result"
    }
   ],
   "source": [
    "eff.std()"
   ]
  },
  {
   "cell_type": "code",
   "execution_count": 67,
   "metadata": {
    "collapsed": false
   },
   "outputs": [
    {
     "data": {
      "text/plain": [
       "0.001"
      ]
     },
     "execution_count": 67,
     "metadata": {},
     "output_type": "execute_result"
    }
   ],
   "source": [
    "study_test(study_ids)"
   ]
  },
  {
   "cell_type": "code",
   "execution_count": 68,
   "metadata": {
    "collapsed": false
   },
   "outputs": [
    {
     "data": {
      "text/plain": [
       "0.001"
      ]
     },
     "execution_count": 68,
     "metadata": {},
     "output_type": "execute_result"
    }
   ],
   "source": [
    "obese_testst(obese_ids)"
   ]
  },
  {
   "cell_type": "code",
   "execution_count": 79,
   "metadata": {
    "collapsed": false
   },
   "outputs": [],
   "source": [
    "study_power, study_counts = subsample_power(study_test, \n",
    "                                            study_ids, \n",
    "                                            min_counts=3, \n",
    "                                            max_counts=8, \n",
    "                                            counts_interval=1,\n",
    "                                            num_runs=5,\n",
    "                                            alpha_pwr=0.005)"
   ]
  },
  {
   "cell_type": "code",
   "execution_count": 58,
   "metadata": {
    "collapsed": false
   },
   "outputs": [],
   "source": [
    "obese_power, obese_counts = subsample_power(obese_test, \n",
    "                                            obese_ids, \n",
    "                                            min_counts=10, \n",
    "                                            max_counts=100, \n",
    "                                            counts_interval=10)"
   ]
  },
  {
   "cell_type": "markdown",
   "metadata": {},
   "source": [
    "### ids"
   ]
  },
  {
   "cell_type": "code",
   "execution_count": 74,
   "metadata": {
    "collapsed": false
   },
   "outputs": [],
   "source": [
    "import pickle\n",
    "with open(os.path.join(data_dir, 'obese.p'), 'wb') as f_:\n",
    "    pickle.dump([study_power, study_counts, obese_power, obese_counts], f_)"
   ]
  },
  {
   "cell_type": "code",
   "execution_count": 80,
   "metadata": {
    "collapsed": false
   },
   "outputs": [
    {
     "data": {
      "text/plain": [
       "array([[ 1.,  1.,  1.,  1.,  1.],\n",
       "       [ 1.,  1.,  1.,  1.,  1.],\n",
       "       [ 1.,  1.,  1.,  1.,  1.],\n",
       "       [ 1.,  1.,  1.,  1.,  1.],\n",
       "       [ 1.,  1.,  1.,  1.,  1.]])"
      ]
     },
     "execution_count": 80,
     "metadata": {},
     "output_type": "execute_result"
    }
   ],
   "source": [
    "study_power"
   ]
  },
  {
   "cell_type": "code",
   "execution_count": 108,
   "metadata": {
    "collapsed": false
   },
   "outputs": [],
   "source": [
    "baby_eff = ap.z_effect(baby_counts[1:], baby_power[:, 1:]).mean()\n",
    "baby_sem = ap.z_effect(baby_counts[1:], baby_power[:, 1:]).std() / np.sqrt(np.prod(baby_power[:, :5].shape))"
   ]
  },
  {
   "cell_type": "code",
   "execution_count": 116,
   "metadata": {
    "collapsed": false
   },
   "outputs": [],
   "source": [
    "child_eff = ap.z_effect(child_counts[1:], child_power[:, 1:]).mean()\n",
    "child_sem = ap.z_effect(child_counts[1:], child_power[:, 1:]).std() / np.sqrt(np.prod(child_power[:, :5].shape))"
   ]
  },
  {
   "cell_type": "code",
   "execution_count": null,
   "metadata": {
    "collapsed": false
   },
   "outputs": [],
   "source": [
    "%matplotlib inline\n",
    "plt.plot(study_counts, study_power.mean(0), 'bo-')\n",
    "plt.plot(obese_counts, obese_power.mean(0), 'go-')\n",
    "# plt.plot(np.arange(1, 15, 0.5), ap.z_power(np.arange(1, 15, 0.5), baby_eff))\n",
    "# plt.fill_between(np.arange(1, 15, 0.5), \n",
    "#                  ap.z_power(np.arange(1, 15, 0.5), baby_eff - baby_sem),\n",
    "#                  ap.z_power(np.arange(1, 15, 0.5), baby_eff + baby_sem))"
   ]
  },
  {
   "cell_type": "code",
   "execution_count": null,
   "metadata": {
    "collapsed": true
   },
   "outputs": [],
   "source": []
  }
 ],
 "metadata": {
  "kernelspec": {
   "display_name": "Python 2",
   "language": "python",
   "name": "python2"
  },
  "language_info": {
   "codemirror_mode": {
    "name": "ipython",
    "version": 2
   },
   "file_extension": ".py",
   "mimetype": "text/x-python",
   "name": "python",
   "nbconvert_exporter": "python",
   "pygments_lexer": "ipython2",
   "version": "2.7.3"
  }
 },
 "nbformat": 4,
 "nbformat_minor": 0
}
