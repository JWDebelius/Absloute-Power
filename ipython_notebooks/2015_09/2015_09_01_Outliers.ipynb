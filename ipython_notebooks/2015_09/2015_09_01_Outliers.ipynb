{
 "cells": [
  {
   "cell_type": "markdown",
   "metadata": {},
   "source": [
    "**Author**: J W Debelius<br/>\n",
    "**Date**: 26 August 2015<br/>\n",
    "**virtualenv**: power play"
   ]
  },
  {
   "cell_type": "code",
   "execution_count": 1,
   "metadata": {
    "collapsed": false
   },
   "outputs": [
    {
     "data": {
      "application/javascript": [
       "IPython.load_extensions('calico-spell-check', 'calico-document-tools')"
      ],
      "text/plain": [
       "<IPython.core.display.Javascript object>"
      ]
     },
     "metadata": {},
     "output_type": "display_data"
    }
   ],
   "source": [
    "%%javascript\n",
    "IPython.load_extensions('calico-spell-check', 'calico-document-tools')"
   ]
  },
  {
   "cell_type": "markdown",
   "metadata": {},
   "source": [
    "The purpose of this notebook is to test the effect of outliers on traditional power calculations, on emperical power calculations, and on extrapolated power. \n",
    "\n",
    "This notebook will focus on using a Case I t test as a model for introducing outliers. We will test the alternative hypotheses that\n",
    "<center><strong>H</strong><sub>0</sub>: $\\bar{x} = 0$<br>\n",
    "<strong>H</strong><sub>1</sub>: $\\bar{x} \\neq 0$</center>\n",
    "for some sample with mean $\\bar{x}$ and standard deviation, $s$, drawn from an underlying population with mean, $\\mu$ ($\\mu \\neq 0$) and variance $\\sigma^{2}$. "
   ]
  },
  {
   "cell_type": "code",
   "execution_count": 10,
   "metadata": {
    "collapsed": true
   },
   "outputs": [],
   "source": [
    "from __future__ import division\n",
    "\n",
    "import matplotlib.pyplot as plt\n",
    "import numpy as np\n",
    "import pandas as pd\n",
    "import scipy.stats\n",
    "import statsmodels.api as sm\n",
    "from statsmodels.formula.api import ols\n",
    "\n",
    "import absloute_power.utils as ap\n",
    "import absloute_power.traditional as trad\n",
    "\n",
    "from absloute_power.traditional import calc_ttest_1\n",
    "from skbio.stats.power import subsample_power"
   ]
  },
  {
   "cell_type": "markdown",
   "metadata": {},
   "source": [
    "We can test these hypotheses using the scipy function `scipy.stats.ttest_1samp`."
   ]
  },
  {
   "cell_type": "code",
   "execution_count": 3,
   "metadata": {
    "collapsed": false
   },
   "outputs": [],
   "source": [
    "def emp_ttest_1(samples):\n",
    "    return scipy.stats.ttest_1samp(samples[0], 0)[1]"
   ]
  },
  {
   "cell_type": "markdown",
   "metadata": {},
   "source": [
    "In the traditional model of power, the effect size for a sample given by\n",
    "$\\begin{align*}\n",
    "\\lambda &=\\frac{(\\bar{x} - x)}{s}\\\\\n",
    "&= \\frac{\\bar{x}}{s}\\\\\n",
    "&= \\frac{t}{\\sqrt{n}}\n",
    "\\end{align*}\\tag{1}$"
   ]
  },
  {
   "cell_type": "markdown",
   "metadata": {},
   "source": [
    "We're going to compare the ability of the traditional post-hoc power, emperical post-hoc power and extrapolated post-hoc power to re-capiluate the traditional power calculation. We'll approach this by simuling a random population with a mean, $\\mu$ and standard devation, $\\sigma$, and then drawing a random sample of size $n$ with mean $\\bar{x}$ and standard devation $s$."
   ]
  },
  {
   "cell_type": "code",
   "execution_count": 4,
   "metadata": {
    "collapsed": true
   },
   "outputs": [],
   "source": [
    "def ttest_1_simulate(mu_lim, sigma_lim, count_lims):\n",
    "    # Gets the distribution parameters\n",
    "    mu = np.random.randint(*mu_lim)\n",
    "    sigma = np.random.randint(*sigma_lim)\n",
    "    n = np.random.randint(*count_lims)\n",
    "    \n",
    "    dist = mu + np.random.randn(n) * sigma\n",
    "\n",
    "    # Draws a sample that fits the parameters\n",
    "    return [mu, sigma, n], dist"
   ]
  },
  {
   "cell_type": "markdown",
   "metadata": {},
   "source": [
    "We can design a function that will let us \"spike in\" outliers: points drawn from a distribution `offset` units above or below the central mean. "
   ]
  },
  {
   "cell_type": "code",
   "execution_count": 5,
   "metadata": {
    "collapsed": true
   },
   "outputs": [],
   "source": [
    "def add_outliers(dist, num_out, offset=50):\n",
    "    # Draws the offset mean\n",
    "    if num_out > 0:\n",
    "        index = np.arange(0, len(dist))\n",
    "        # Selects the points ot be outliers\n",
    "        outlier_pos = np.random.choice(np.arange(0, len(dist)), num_out, replace=False)\n",
    "        # Updates the distribution\n",
    "        dist[outlier_pos] = dist[outlier_pos] + offset\n",
    "    \n",
    "    return [num_out, offset], [dist]"
   ]
  },
  {
   "cell_type": "markdown",
   "metadata": {},
   "source": [
    "We're going to use the function to simulate several distributions with varying numbers of outliers. We're going to draw distributions with means between 2 and 10, standard deviations between 5 and 15, and at 120 points."
   ]
  },
  {
   "cell_type": "code",
   "execution_count": 6,
   "metadata": {
    "collapsed": true
   },
   "outputs": [],
   "source": [
    "mu_lims = [1, 10]\n",
    "sigma_lims = [10, 25]\n",
    "num_counts = 200\n",
    "count_lims = [num_counts, num_counts+1]"
   ]
  },
  {
   "cell_type": "markdown",
   "metadata": {},
   "source": [
    "We'll simulate the distributions so they have no outliers, 1%, 2%, 5%, 10% and 20% outliers. The offset mean can fall between -50 and 50 units offset from the original distribution."
   ]
  },
  {
   "cell_type": "code",
   "execution_count": 15,
   "metadata": {
    "collapsed": false
   },
   "outputs": [],
   "source": [
    "num_outliers = (np.concatenate((np.array([0, 1]), np.array([0.01, 0.02, 0.05, 0.1, 0.2])*num_counts))).astype(int)\n",
    "len_out = len(num_outliers)\n",
    "offsets = [-50, -25, -10, -5, 5, 10, 25, 50, 100]"
   ]
  },
  {
   "cell_type": "markdown",
   "metadata": {},
   "source": [
    "When we draw traditional and emperical power, we'll do it starting at 5 samples up to 100 samples, counting by 5s. We draw 100 samples to calculate power for each point, and repeat this three times at each point along the curve. We'll use an alpha value of 0.05. And, we'll simulate 1000 distributions for each number of outliers."
   ]
  },
  {
   "cell_type": "code",
   "execution_count": 16,
   "metadata": {
    "collapsed": false
   },
   "outputs": [],
   "source": [
    "counts = np.arange(10, 101, 10)\n",
    "alpha=0.05\n",
    "subsample_params = {'min_counts': 10,\n",
    "                    'max_counts': 101,\n",
    "                    'counts_interval': 10,\n",
    "                    'num_runs': 3,\n",
    "                    'num_iter': 100,\n",
    "                    'alpha_pwr': alpha}\n",
    "num_reps = 100\n",
    "known_mean = 0"
   ]
  },
  {
   "cell_type": "markdown",
   "metadata": {},
   "source": [
    "Let's build the simulated populations."
   ]
  },
  {
   "cell_type": "code",
   "execution_count": 145,
   "metadata": {
    "collapsed": false
   },
   "outputs": [],
   "source": [
    "watch = {n: {o: {'pop_params': [], 'base_power': [], 'samp_power': [], \n",
    "                 'empr_power': [], 'extz_power':[], 'effects': []} for o in num_outliers} for n in offsets}\n",
    "for n in offsets:\n",
    "    for o in num_outliers:\n",
    "        v = watch[n][o]\n",
    "        for i in xrange(num_reps):\n",
    "            # Draws a sample distribution\n",
    "            params, sample = ttest_1_simulate(mu_lims, sigma_lims, count_lims)\n",
    "            # Calculates cohens_d on the base power\n",
    "            base_d = ap.cohen_d_one_sample(sample, known_mean)\n",
    "            # calculates the base power\n",
    "            base_power = trad.calc_ttest_1(sample, 0, counts)\n",
    "            base_e = ap.z_effect(counts, base_power)\n",
    "            # Spikes in outliers, if necessary\n",
    "            (num_out, offset), dist = add_outliers(sample, o * base_d, n * params[0] / params[1])\n",
    "            params.append(num_out)\n",
    "            params.append(offset)\n",
    "            # Calculates the effect using the tradtional method\n",
    "            samp_d = ap.cohen_d_one_sample(dist[0], known_mean)\n",
    "            samp_power = trad.calc_ttest_1(dist[0], 0, counts)\n",
    "            samp_e = ap.z_effect(counts, samp_power)\n",
    "            #  Calculates the emperical power\n",
    "            empr_power, empr_counts = subsample_power(emp_ttest_1,\n",
    "                                                      dist,\n",
    "                                                      **subsample_params)\n",
    "            # Calculates the pseudo-effect and confidence interval\n",
    "            pseudo_d = ap.z_effect(empr_counts, empr_power)\n",
    "            extz_power = ap.z_power(counts, pseudo_d.mean())\n",
    "\n",
    "            #Updates watch\n",
    "            v['pop_params'].append(params)\n",
    "            v['base_power'].append(base_power)\n",
    "            v['samp_power'].append(samp_power)\n",
    "            v['empr_power'].append(empr_power.mean(0))\n",
    "            v['extz_power'].append(extz_power)\n",
    "            v['effects'].append([base_d, samp_d, pseudo_d, base_e, samp_e])\n",
    "        watch[n][o] = v"
   ]
  },
  {
   "cell_type": "code",
   "execution_count": 144,
   "metadata": {
    "collapsed": false
   },
   "outputs": [
    {
     "data": {
      "text/plain": [
       "array([ 2.5,  3.5,  4.5])"
      ]
     },
     "execution_count": 144,
     "metadata": {},
     "output_type": "execute_result"
    }
   ],
   "source": [
    "a = np.array([[1, 2, 3], [4, 5, 6]])\n",
    "a.mean(0)"
   ]
  },
  {
   "cell_type": "code",
   "execution_count": 27,
   "metadata": {
    "collapsed": false
   },
   "outputs": [
    {
     "data": {
      "text/plain": [
       "(1000,)"
      ]
     },
     "execution_count": 27,
     "metadata": {},
     "output_type": "execute_result"
    }
   ],
   "source": [
    "np.concatenate(v2.loc['base_power', 2]).shape"
   ]
  },
  {
   "cell_type": "code",
   "execution_count": 32,
   "metadata": {
    "collapsed": false
   },
   "outputs": [],
   "source": [
    "empr = np.concatenate([i.mean(0) for i in v2.loc['empr_power', 2]])"
   ]
  },
  {
   "cell_type": "code",
   "execution_count": 69,
   "metadata": {
    "collapsed": true
   },
   "outputs": [],
   "source": [
    "from __future__ import division"
   ]
  },
  {
   "cell_type": "code",
   "execution_count": 70,
   "metadata": {
    "collapsed": false
   },
   "outputs": [],
   "source": [
    "base_samp = {'r': np.zeros((9, 7)), 'mean': np.zeros((9, 7)), 'std': np.zeros((9, 7))}\n",
    "base_empr = {'r': np.zeros((9, 7)), 'mean': np.zeros((9, 7)), 'std': np.zeros((9, 7))}\n",
    "base_extz = {'r': np.zeros((9, 7)), 'mean': np.zeros((9, 7)), 'std': np.zeros((9, 7))}\n",
    "\n",
    "base_watch = []\n",
    "samp_watch = []\n",
    "empr_watch = []\n",
    "extr_watch = []\n",
    "for idx, n in enumerate(offsets):\n",
    "    b_watch = []\n",
    "    s_watch = []\n",
    "    e_watch = []\n",
    "    z_watch = []\n",
    "    for idy, o in enumerate(num_outliers):\n",
    "        base = np.concatenate(watch[n][o]['base_power'])\n",
    "        samp = np.concatenate(watch[n][o]['samp_power'])\n",
    "        empr = np.concatenate([i.mean(0) for i in watch[n][o]['empr_power']])\n",
    "        extr = np.concatenate(watch[n][o]['extz_power'])\n",
    "        \n",
    "        b_watch.append(base)\n",
    "        s_watch.append(samp)\n",
    "        e_watch.append(empr)\n",
    "        z_watch.append(extr)\n",
    "        \n",
    "        \n",
    "        base_samp['r'][idx, idy] = scipy.stats.pearsonr(base, samp)[0]\n",
    "        base_samp['mean'][idx, idy] = np.mean(base / samp)\n",
    "        base_samp['std'][idx, idy] = np.std(base / samp)\n",
    "        \n",
    "        base_empr['r'][idx, idy] = scipy.stats.pearsonr(base, empr)[0]\n",
    "        base_empr['mean'][idx, idy] = np.mean(base / empr)\n",
    "        base_empr['std'][idx, idy] = np.std(base / empr)\n",
    "        \n",
    "        base_samp['r'][idx, idy] = scipy.stats.pearsonr(base, extr)[0]\n",
    "        base_samp['mean'][idx, idy] = np.mean((extr / base))\n",
    "        base_samp['std'][idx, idy] = np.std((extr / base))\n",
    "    base_watch.append(b_watch)\n",
    "    samp_watch.append(s_watch)\n",
    "    empr_watch.append(e_watch)\n",
    "    extr_watch.append(z_watch)\n",
    "        "
   ]
  },
  {
   "cell_type": "code",
   "execution_count": 91,
   "metadata": {
    "collapsed": false
   },
   "outputs": [
    {
     "data": {
      "text/plain": [
       "array([ 0,  1,  2,  4, 10, 20, 40])"
      ]
     },
     "execution_count": 91,
     "metadata": {},
     "output_type": "execute_result"
    }
   ],
   "source": [
    "num_outliers"
   ]
  },
  {
   "cell_type": "code",
   "execution_count": 96,
   "metadata": {
    "collapsed": false
   },
   "outputs": [
    {
     "data": {
      "text/plain": [
       "[-50, -25, -10, -5, 5, 10, 25, 50, 100]"
      ]
     },
     "execution_count": 96,
     "metadata": {},
     "output_type": "execute_result"
    }
   ],
   "source": [
    "offsets"
   ]
  },
  {
   "cell_type": "code",
   "execution_count": 146,
   "metadata": {
    "collapsed": false
   },
   "outputs": [
    {
     "ename": "ValueError",
     "evalue": "zero-dimensional arrays cannot be concatenated",
     "output_type": "error",
     "traceback": [
      "\u001b[0;31m---------------------------------------------------------------------------\u001b[0m",
      "\u001b[0;31mValueError\u001b[0m                                Traceback (most recent call last)",
      "\u001b[0;32m<ipython-input-146-763be7b2a9d6>\u001b[0m in \u001b[0;36m<module>\u001b[0;34m()\u001b[0m\n\u001b[1;32m      5\u001b[0m         \u001b[0mbase\u001b[0m \u001b[0;34m=\u001b[0m \u001b[0mnp\u001b[0m\u001b[0;34m.\u001b[0m\u001b[0mconcatenate\u001b[0m\u001b[0;34m(\u001b[0m\u001b[0mwatch\u001b[0m\u001b[0;34m[\u001b[0m\u001b[0moff\u001b[0m\u001b[0;34m]\u001b[0m\u001b[0;34m[\u001b[0m\u001b[0mout\u001b[0m\u001b[0;34m]\u001b[0m\u001b[0;34m[\u001b[0m\u001b[0;34m'base_power'\u001b[0m\u001b[0;34m]\u001b[0m\u001b[0;34m)\u001b[0m\u001b[0;34m\u001b[0m\u001b[0m\n\u001b[1;32m      6\u001b[0m         \u001b[0msamp\u001b[0m \u001b[0;34m=\u001b[0m \u001b[0mnp\u001b[0m\u001b[0;34m.\u001b[0m\u001b[0mconcatenate\u001b[0m\u001b[0;34m(\u001b[0m\u001b[0mwatch\u001b[0m\u001b[0;34m[\u001b[0m\u001b[0moff\u001b[0m\u001b[0;34m]\u001b[0m\u001b[0;34m[\u001b[0m\u001b[0mout\u001b[0m\u001b[0;34m]\u001b[0m\u001b[0;34m[\u001b[0m\u001b[0;34m'samp_power'\u001b[0m\u001b[0;34m]\u001b[0m\u001b[0;34m)\u001b[0m\u001b[0;34m\u001b[0m\u001b[0m\n\u001b[0;32m----> 7\u001b[0;31m         \u001b[0mempr\u001b[0m \u001b[0;34m=\u001b[0m \u001b[0mnp\u001b[0m\u001b[0;34m.\u001b[0m\u001b[0mconcatenate\u001b[0m\u001b[0;34m(\u001b[0m\u001b[0;34m[\u001b[0m\u001b[0mi\u001b[0m\u001b[0;34m.\u001b[0m\u001b[0mmean\u001b[0m\u001b[0;34m(\u001b[0m\u001b[0;36m0\u001b[0m\u001b[0;34m)\u001b[0m \u001b[0;32mfor\u001b[0m \u001b[0mi\u001b[0m \u001b[0;32min\u001b[0m \u001b[0mwatch\u001b[0m\u001b[0;34m[\u001b[0m\u001b[0moff\u001b[0m\u001b[0;34m]\u001b[0m\u001b[0;34m[\u001b[0m\u001b[0mout\u001b[0m\u001b[0;34m]\u001b[0m\u001b[0;34m[\u001b[0m\u001b[0;34m'empr_power'\u001b[0m\u001b[0;34m]\u001b[0m\u001b[0;34m]\u001b[0m\u001b[0;34m)\u001b[0m\u001b[0;34m\u001b[0m\u001b[0m\n\u001b[0m\u001b[1;32m      8\u001b[0m \u001b[0;34m\u001b[0m\u001b[0m\n\u001b[1;32m      9\u001b[0m         \u001b[0max1\u001b[0m \u001b[0;34m=\u001b[0m \u001b[0mfig1\u001b[0m\u001b[0;34m.\u001b[0m\u001b[0madd_subplot\u001b[0m\u001b[0;34m(\u001b[0m\u001b[0;36m9\u001b[0m\u001b[0;34m,\u001b[0m \u001b[0;36m7\u001b[0m\u001b[0;34m,\u001b[0m \u001b[0midx\u001b[0m \u001b[0;34m*\u001b[0m \u001b[0;36m7\u001b[0m \u001b[0;34m+\u001b[0m \u001b[0midy\u001b[0m \u001b[0;34m+\u001b[0m \u001b[0;36m1\u001b[0m\u001b[0;34m)\u001b[0m\u001b[0;34m\u001b[0m\u001b[0m\n",
      "\u001b[0;31mValueError\u001b[0m: zero-dimensional arrays cannot be concatenated"
     ]
    },
    {
     "data": {
      "text/plain": [
       "<matplotlib.figure.Figure at 0x12079e890>"
      ]
     },
     "metadata": {},
     "output_type": "display_data"
    }
   ],
   "source": [
    "fig1 = plt.figure()\n",
    "fig1.set_size_inches((18, 14))\n",
    "for idx, off in enumerate(offsets):\n",
    "    for idy, out in enumerate(num_outliers):\n",
    "        base = np.concatenate(watch[off][out]['base_power'])\n",
    "        samp = np.concatenate(watch[off][out]['samp_power'])\n",
    "        empr = np.concatenate([i.mean(0) for i in watch[off][out]['empr_power']])\n",
    "        \n",
    "        ax1 = fig1.add_subplot(9, 7, idx * 7 + idy + 1)\n",
    "        ax1.plot(np.arange(0, 1.1, 0.1), np.arange(0, 1.1, 0.1), 'k-')\n",
    "        ax1.plot(base, samp, 'b.', alpha=0.2)\n",
    "        ax1.plot(base, empr, 'r.', alpha=0.2)\n",
    "        samp_ratio = (np.mean(base / samp), np.std(base / samp))\n",
    "        empr_ratio = (np.mean((base / empr)[np.isinf(base / empr) == False]), np.std((base / empr)[np.isinf(base / empr) == False]))\n",
    "        ax1.text(0.95, 0.05, '%1.3f +/- %1.3f' % samp_ratio,\n",
    "                 ha='right', color='b')\n",
    "        ax1.text(0.95, 0.2, '%1.3f +/- %1.3f' % empr_ratio, ha='right', color='r')\n",
    "        ax1.set_xticklabels('')\n",
    "        ax1.set_yticklabels('')\n",
    "        if idy == 0:\n",
    "            ax1.set_ylabel(off)\n",
    "        if idx == 0:\n",
    "            ax1.set_title(out)"
   ]
  },
  {
   "cell_type": "code",
   "execution_count": 143,
   "metadata": {
    "collapsed": false
   },
   "outputs": [
    {
     "data": {
      "text/plain": [
       "array([[ 1.84244819,  1.08286934,  1.48908054,  1.23081793,  1.07334568,\n",
       "         1.0501964 ,  0.79202087],\n",
       "       [ 1.06311789,  1.12482467,  1.07095174,  1.94285137,  1.10392078,\n",
       "         1.11046163,  1.62284287],\n",
       "       [ 1.67037793,  1.08058252,  1.210278  ,  1.28991475,  1.08716603,\n",
       "         1.89761884,  1.04976765],\n",
       "       [ 2.73748659,  1.82601657,  1.32853098,  1.46683942,  1.0803095 ,\n",
       "         2.59075102,  1.13964045],\n",
       "       [ 1.09244924,  1.22712958,  1.69624389,  1.16161946,  1.099486  ,\n",
       "         1.1536883 ,  1.20070681],\n",
       "       [ 1.24095168,  1.76567499,  1.22160052,  1.14279123,  1.27579282,\n",
       "         1.72974603,  1.37540398],\n",
       "       [ 1.56808893,  1.35750265,  1.1204598 ,  1.23590006,  1.23905651,\n",
       "         1.38035732,  1.40605561],\n",
       "       [ 4.66746992,  1.06619206,  1.16227933,  1.24213613,  1.55181507,\n",
       "         1.31235932,  1.61885176],\n",
       "       [ 1.06556366,  1.1699699 ,  1.26399557,  1.27720096,  1.45460926,\n",
       "         1.76949214,  2.89257   ]])"
      ]
     },
     "execution_count": 143,
     "metadata": {},
     "output_type": "execute_result"
    }
   ],
   "source": [
    "base_samp['mean']"
   ]
  },
  {
   "cell_type": "code",
   "execution_count": 142,
   "metadata": {
    "collapsed": false
   },
   "outputs": [
    {
     "ename": "KeyError",
     "evalue": "0",
     "output_type": "error",
     "traceback": [
      "\u001b[0;31m---------------------------------------------------------------------------\u001b[0m",
      "\u001b[0;31mKeyError\u001b[0m                                  Traceback (most recent call last)",
      "\u001b[0;32m<ipython-input-142-eb71d999e3e4>\u001b[0m in \u001b[0;36m<module>\u001b[0;34m()\u001b[0m\n\u001b[1;32m      1\u001b[0m \u001b[0max\u001b[0m \u001b[0;34m=\u001b[0m \u001b[0mplt\u001b[0m\u001b[0;34m.\u001b[0m\u001b[0maxes\u001b[0m\u001b[0;34m(\u001b[0m\u001b[0;34m)\u001b[0m\u001b[0;34m\u001b[0m\u001b[0m\n\u001b[0;32m----> 2\u001b[0;31m \u001b[0max\u001b[0m\u001b[0;34m.\u001b[0m\u001b[0mplot\u001b[0m\u001b[0;34m(\u001b[0m\u001b[0mnum_outliers\u001b[0m\u001b[0;34m,\u001b[0m \u001b[0mbase_samp\u001b[0m\u001b[0;34m[\u001b[0m\u001b[0;36m0\u001b[0m\u001b[0;34m]\u001b[0m\u001b[0;34m[\u001b[0m\u001b[0;34m'mean'\u001b[0m\u001b[0;34m]\u001b[0m\u001b[0;34m[\u001b[0m\u001b[0;36m0\u001b[0m\u001b[0;34m,\u001b[0m \u001b[0;34m:\u001b[0m\u001b[0;34m]\u001b[0m\u001b[0;34m,\u001b[0m \u001b[0;34m'b'\u001b[0m\u001b[0;34m)\u001b[0m\u001b[0;34m\u001b[0m\u001b[0m\n\u001b[0m\u001b[1;32m      3\u001b[0m \u001b[0max\u001b[0m\u001b[0;34m.\u001b[0m\u001b[0mplot\u001b[0m\u001b[0;34m(\u001b[0m\u001b[0mnum_outliers\u001b[0m\u001b[0;34m,\u001b[0m \u001b[0mbase_samp\u001b[0m\u001b[0;34m[\u001b[0m\u001b[0;34m'mean'\u001b[0m\u001b[0;34m]\u001b[0m\u001b[0;34m[\u001b[0m\u001b[0;36m0\u001b[0m\u001b[0;34m,\u001b[0m \u001b[0;34m:\u001b[0m\u001b[0;34m]\u001b[0m\u001b[0;34m,\u001b[0m \u001b[0;34m'g'\u001b[0m\u001b[0;34m)\u001b[0m\u001b[0;34m\u001b[0m\u001b[0m\n",
      "\u001b[0;31mKeyError\u001b[0m: 0"
     ]
    },
    {
     "data": {
      "image/png": "[encoded data removed]",
      "text/plain": [
       "<matplotlib.figure.Figure at 0x1199bcbd0>"
      ]
     },
     "metadata": {},
     "output_type": "display_data"
    }
   ],
   "source": [
    "ax = plt.axes()\n",
    "ax.plot(num_outliers, base_samp[0]['mean'][0, :], 'b')\n",
    "ax.plot(num_outliers, base_samp['mean'][0, :], 'g')"
   ]
  },
  {
   "cell_type": "code",
   "execution_count": 36,
   "metadata": {
    "collapsed": false
   },
   "outputs": [
    {
     "data": {
      "text/plain": [
       "[<matplotlib.lines.Line2D at 0x1105cf350>]"
      ]
     },
     "execution_count": 36,
     "metadata": {},
     "output_type": "execute_result"
    },
    {
     "data": {
      "image/png": "[encoded data removed]",
      "text/plain": [
       "<matplotlib.figure.Figure at 0x1103a70d0>"
      ]
     },
     "metadata": {},
     "output_type": "display_data"
    }
   ],
   "source": [
    "plt.plot(np.arange(0, 2.1, 0.1), np.arange(0, 2.1, 0.1), 'k-')\n",
    "plt.plot(v2.loc['base_d', 10], v2.loc['pseudo_d', 10], 'x')\n",
    "plt.plot(v2.loc['base_d', 10], v2.loc['samp_d', 10], 'x')"
   ]
  },
  {
   "cell_type": "code",
   "execution_count": null,
   "metadata": {
    "collapsed": true
   },
   "outputs": [],
   "source": []
  }
 ],
 "metadata": {
  "kernelspec": {
   "display_name": "Python 2",
   "language": "python",
   "name": "python2"
  },
  "language_info": {
   "codemirror_mode": {
    "name": "ipython",
    "version": 2
   },
   "file_extension": ".py",
   "mimetype": "text/x-python",
   "name": "python",
   "nbconvert_exporter": "python",
   "pygments_lexer": "ipython2",
   "version": "2.7.3"
  }
 },
 "nbformat": 4,
 "nbformat_minor": 0
}
