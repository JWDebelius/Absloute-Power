{
 "cells": [
  {
   "cell_type": "markdown",
   "metadata": {},
   "source": [
    "**Author**: J W Debelius<br/>\n",
    "**Date**: 27 August 2015<br/>\n",
    "**virtualenv**: power play"
   ]
  },
  {
   "cell_type": "code",
   "execution_count": 1,
   "metadata": {
    "collapsed": false
   },
   "outputs": [
    {
     "data": {
      "application/javascript": [
       "IPython.load_extensions('calico-spell-check', 'calico-document-tools')"
      ],
      "text/plain": [
       "<IPython.core.display.Javascript object>"
      ]
     },
     "metadata": {},
     "output_type": "display_data"
    }
   ],
   "source": [
    "%%javascript\n",
    "IPython.load_extensions('calico-spell-check', 'calico-document-tools')"
   ]
  },
  {
   "cell_type": "markdown",
   "metadata": {},
   "source": [
    "# 1. Introduction"
   ]
  },
  {
   "cell_type": "markdown",
   "metadata": {},
   "source": [
    "The purpose of this notebook is to compare the ability of an extrapolated effect size (termed here, pseduo-d, or $\\widehat{\\delta}$), with the effect size associated with the distribution."
   ]
  },
  {
   "cell_type": "code",
   "execution_count": 1,
   "metadata": {
    "collapsed": true
   },
   "outputs": [],
   "source": [
    "from __future__ import division\n",
    "\n",
    "import matplotlib.pyplot as plt\n",
    "import numpy as np\n",
    "import scipy.stats\n",
    "import statsmodels.api as sms\n",
    "import statsmodels.formula.api as smf\n",
    "\n",
    "import absloute_power.traditional as trad\n",
    "import absloute_power.utils as ap\n",
    "\n",
    "from scipy.stats import norm as Z"
   ]
  },
  {
   "cell_type": "markdown",
   "metadata": {},
   "source": [
    "We'll examine five common, simple statistical models where the power equation has been defined and employed. The emperical power implementations are based on the version described in [ref].\n",
    "\n",
    "We will examine statistical power for three tests dealing with normal distributions:\n",
    "\n",
    "* Case I t test\n",
    "* Case II (independent) t test\n",
    "* One way Analysis of Variance (ANOVA)\n",
    "* Pearson's R\n",
    "* Chi-Square\n",
    "\n",
    "We will perform 100 simulations of statistical power, comparing the power between 5 and 50 counts, with 5 observation intervals between. We'll set the critical value at 0.05."
   ]
  },
  {
   "cell_type": "code",
   "execution_count": 2,
   "metadata": {
    "collapsed": false
   },
   "outputs": [],
   "source": [
    "num_rounds = 1000\n",
    "counts = np.arange(5, 55, 10)\n",
    "alpha = 0.05\n",
    "distributions = {}"
   ]
  },
  {
   "cell_type": "markdown",
   "metadata": {},
   "source": [
    "We'll also set a random seed, so that the results we get out are consistent."
   ]
  },
  {
   "cell_type": "code",
   "execution_count": 3,
   "metadata": {
    "collapsed": true
   },
   "outputs": [],
   "source": [
    "np.random.seed(25)"
   ]
  },
  {
   "cell_type": "markdown",
   "metadata": {},
   "source": [
    "# 2. Case I Test"
   ]
  },
  {
   "cell_type": "markdown",
   "metadata": {},
   "source": [
    "A case I t-test checks if an observation is drawn from a sample. We are testing the alternatively hypotheses,\n",
    "\n",
    "$\\begin{matrix}\n",
    "\\textbf{H}_{0} & x = \\bar{x} \\\\\n",
    "\\textbf{H}_{1} & x \\neq \\bar{x}\\\\\n",
    "\\end{matrix} \\tag{2.1}$\n",
    "\n",
    "where $\\bar{x}$ is the mean of the population, $x$ is the value being compared to the sample, $s$ is the standard devation of the sample, and there are $n$ observations in the sample."
   ]
  },
  {
   "cell_type": "markdown",
   "metadata": {},
   "source": [
    "## 2.1 Test Statistic"
   ]
  },
  {
   "cell_type": "markdown",
   "metadata": {},
   "source": [
    "The test statistic for the case I t test is given as\n",
    "$t = \\frac{(\\bar{x} - x)\\sqrt{n}}{s} \\tag{2.2}$\n",
    "The probability distribution follows a T distribution with $n-1$ degrees of freedom, where $n$ is the number of observations in the sample.\n",
    "\n",
    "\n",
    "For the emperical test, we will use the `scipy.stats.ttest_1samp` function, which returns a p value."
   ]
  },
  {
   "cell_type": "code",
   "execution_count": 4,
   "metadata": {
    "collapsed": false
   },
   "outputs": [],
   "source": [
    "def emp_ttest_1(sample, x0=0):\n",
    "    return scipy.stats.ttest_1samp(sample, x0)[1]"
   ]
  },
  {
   "cell_type": "markdown",
   "metadata": {},
   "source": [
    "## 2.2 Effect Size"
   ]
  },
  {
   "cell_type": "markdown",
   "metadata": {},
   "source": [
    "The effect size for a one-sample t test is Cohen's d, given by equation (2.3).\n",
    "$\\begin{align*}\n",
    "d = \\frac{\\bar{x} - x_{0}}{s}\n",
    "\\end{align*}\\tag{2.3}$\n",
    "For a two-tailed test, we can treat this as an absloute magnitude, and then test $t > (1 - \\alpha/2)$."
   ]
  },
  {
   "cell_type": "code",
   "execution_count": 5,
   "metadata": {
    "collapsed": true
   },
   "outputs": [],
   "source": [
    "def cohen_d_one_sample(sample, x0=0):\n",
    "    x1, s1 = sample.mean(), sample.std()\n",
    "    return np.absolute(x1 - x0) / s1"
   ]
  },
  {
   "cell_type": "markdown",
   "metadata": {},
   "source": [
    "## 2.3 Noncentrality Paramter"
   ]
  },
  {
   "cell_type": "markdown",
   "metadata": {},
   "source": [
    "The non centrality paramter for the statistic, $\\lambda$ is given by\n",
    "$\\begin{align*}\n",
    "\\lambda &= \\frac{t}{\\sqrt{n}}\\\\\n",
    "&=\\frac{1}{\\sqrt{n}}\\left(\\frac{(\\bar{x} - x)\\sqrt{n}}{s}\\right )\\\\\n",
    "&=\\frac{(\\bar{x} - x)}{s}\n",
    "\\end{align*}\\tag{2.4}$\n",
    "\n",
    "We will encorperate this in the power calculation. To allow for testing, the power calculation has been moved into a library."
   ]
  },
  {
   "cell_type": "markdown",
   "metadata": {},
   "source": [
    "## 2.4 Simulation Parameters"
   ]
  },
  {
   "cell_type": "markdown",
   "metadata": {},
   "source": [
    "We'll test the set of hypotheses,\n",
    "\n",
    "$\\begin{matrix}\n",
    "\\textbf{H}_{0} & 0 = \\bar{x} \\\\\n",
    "\\textbf{H}_{1} & 0 \\neq \\bar{x}\\\\\n",
    "\\end{matrix} \\tag{2.5}$\n",
    "\n",
    "where $\\bar{x}$ is the mean of a sample drawn from a population.\n",
    "\n",
    "We'll test the means between 2 and 10 with standard deviations between 5 and 15, and sample sizes between 60 and 100 observations."
   ]
  },
  {
   "cell_type": "code",
   "execution_count": 6,
   "metadata": {
    "collapsed": true
   },
   "outputs": [],
   "source": [
    "def ttest_1_simulate(mu_lim, sigma_lim, count_lims):\n",
    "    # Gets the distribution parameters\n",
    "    mu = np.random.randint(*mu_lim)\n",
    "    sigma = np.random.randint(*sigma_lim)\n",
    "    n = np.random.randint(*count_lims)\n",
    "    \n",
    "    # Draws a sample that fits the parameters\n",
    "    return [mu, sigma, n], [mu + np.random.randn(n) * sigma]"
   ]
  },
  {
   "cell_type": "code",
   "execution_count": 7,
   "metadata": {
    "collapsed": false
   },
   "outputs": [],
   "source": [
    "distributions['ttest_1'] = {'emp_test_fun': emp_ttest_1,\n",
    "                           'trad_test_fun': trad.calc_ttest_1,\n",
    "                           'sim_function': ttest_1_simulate,\n",
    "                           'sim_parameters': [[2, 10], [5, 15], [60, 100]],\n",
    "                           'other_sim_parameters': {},\n",
    "                           'test_parameters': {'x0': 0},\n",
    "                           'emp_parameters': {},\n",
    "                           'effect_size': cohen_d_one_sample,\n",
    "                            }"
   ]
  },
  {
   "cell_type": "markdown",
   "metadata": {},
   "source": [
    "# 3. Case II T Test"
   ]
  },
  {
   "cell_type": "markdown",
   "metadata": {},
   "source": [
    "The case II t test is a test for two independent samples, to determine if the samples are drawn from different distributions.\n",
    "\n",
    "$\\begin{matrix}\n",
    "\\textbf{H}_{0} & \\bar{x}_{1} = \\bar{x}_{2} \\\\\n",
    "\\textbf{H}_{1} & \\bar{x}_{1} \\neq \\bar{x}_{2}\\\\\n",
    "\\end{matrix} \\tag{3.1}$"
   ]
  },
  {
   "cell_type": "markdown",
   "metadata": {},
   "source": [
    "## 3.1 Test Statistic"
   ]
  },
  {
   "cell_type": "markdown",
   "metadata": {},
   "source": [
    "There are several ways to calculate this t statistic, but we will operate on the assumption that the two populations have different variances, giving the most extensibe calculation of the test statistic. So,\n",
    "\n",
    "$\\begin{align*}\n",
    "t &= \\frac{\\bar{x}_{1} - \\bar{x}_{2}}{\\sqrt{\\frac{s_{1}^{2}}{n_{1}} + \\frac{s_{2}^{2}}{n_{2}}}}\\\\\n",
    "&= \\frac{\\bar{x}_{1} - \\bar{x}_{2}}{\\sqrt{\\frac{n_{2}s_{1}^{2} + n_{1}s_{2}^{2}}{n_{1}n_{2}}}}\n",
    "\\end{align*}\\tag{3.2}$\n",
    "\n",
    "The t statistic follows a T distribution with $df$ degrees of freedom, where $df$ is given as\n",
    "$df = \\frac{(s_{1}^{2}/n_{1} + s_{2}^{2}/n_{2})^{2}}{(s_{1}^{2}/n_{1})^2/(n_{1}-1) + s_{2}^{2}/n_{2})^2/(n_{2}-1)} \\tag{3.3}$\n",
    "\n",
    "For the sake of simplicity, we'll assume that $n_{1} = n_{2}$, which allows us to redefine equation (2.1) as\n",
    "$\\begin{align*}\n",
    "t &= \\frac{(\\bar{x}_{1} - \\bar{x}_{2})}{\\sqrt{\\frac{s_{1}^{2}}{n} + \\frac{s_{2}^{2}}{n}}}\\\\\n",
    "&= \\frac{\\sqrt{n}(\\bar{x}_{1} - \\bar{x}_{2})}{\\sqrt{s_{1}^{2} + s_{2}^{2}}}\n",
    "\\end{align*}\\tag{3.4}$\n",
    "which means the test statitic is now drawn from a t distribution with df degrees of freedom, where\n",
    "df is defined as\n",
    "$\\begin{align*}\n",
    "df &= \\left (n-1 \\right ) \\left (\\frac{\\left (s_{1}^{2} + s_{2}^{2}  \\right )^{2}}{\\left (s_{1}^{2} \\right)^{2} + \\left (s_{2}^{2}  \\right )^{2}} \\right )\\\\\n",
    "\\end{align*}\\tag{3.5}$\n",
    "\n",
    "For the emperical test, we can use the `scipy.stats.ttest_ind` function, which will return a p value."
   ]
  },
  {
   "cell_type": "markdown",
   "metadata": {},
   "source": [
    "For the sake of simplicity, we'll assume that $n_{1} = n_{2}$, which allows us to redefine equation (2.1) as\n",
    "$\\begin{align*}\n",
    "t &= \\frac{(\\bar{x}_{1} - \\bar{x}_{2})}{\\sqrt{\\frac{s_{1}^{2}}{n} + \\frac{s_{2}^{2}}{n}}}\\\\\n",
    "&= \\frac{\\sqrt{n}(\\bar{x}_{1} - \\bar{x}_{2})}{\\sqrt{s_{1}^{2} + s_{2}^{2}}}\n",
    "\\end{align*}\\tag{3.4}$\n",
    "which means the test statitic is now drawn from a t distribution with df degrees of freedom, where\n",
    "df is defined as\n",
    "$\\begin{align*}\n",
    "df &= \\left (n-1 \\right ) \\left (\\frac{\\left (s_{1}^{2} + s_{2}^{2}  \\right )^{2}}{\\left (s_{1}^{2} \\right)^{2} + \\left (s_{2}^{2}  \\right )^{2}} \\right )\\\\\n",
    "\\end{align*}\\tag{3.5}$\n",
    "\n",
    "For the emperical test, we can use the `scipy.stats.ttest_ind` function, which will return a p value."
   ]
  },
  {
   "cell_type": "code",
   "execution_count": 8,
   "metadata": {
    "collapsed": true
   },
   "outputs": [],
   "source": [
    "def emp_ttest_ind(sample1, sample2):\n",
    "    return scipy.stats.ttest_ind(sample1, sample2)[1]"
   ]
  },
  {
   "cell_type": "markdown",
   "metadata": {},
   "source": [
    "## 3.2 Effect Size"
   ]
  },
  {
   "cell_type": "markdown",
   "metadata": {},
   "source": [
    "We again use Cohen's d for the effect size, although in this case, $s_{p}$ is substituted into equation (2.3) as the standard deviation, and we're looking at the difference of the two sample means. \n",
    "$\\begin{align*}\n",
    "s_{p} &= \\sqrt{\\frac{\\left (n_{1} - 1 \\right)s_{1}^{2} + \\left (n_{2} - 1 \\right)s_{2}^{2}}{n_{1} + n_{2} - 2}}\\\\\n",
    "&= \\sqrt{s_{1}^{2} + s_{2}^{2}}\n",
    "\\end{align*}\\tag{3.6}$\n",
    "$\\begin{align*}\n",
    "d = \\frac{\\bar{x}_{1} - \\bar{x}_{2}}{s_{p}}\n",
    "\\end{align*}\\tag{3.7}$"
   ]
  },
  {
   "cell_type": "code",
   "execution_count": 9,
   "metadata": {
    "collapsed": true
   },
   "outputs": [],
   "source": [
    "def cohen_ttest_ind(sample1, sample2):\n",
    "    x1, s1, n1 = sample1.mean(), sample1.std(), len(sample1)\n",
    "    x2, s2, n2 = sample2.mean(), sample2.std(), len(sample2)\n",
    "    \n",
    "    spool = np.sqrt(((n1-1) * np.square(s1) + (n2 - 1) * np.square(s2)) / (n1 + n2 - 2))\n",
    "    return np.absolute(x1 - x2) / spool"
   ]
  },
  {
   "cell_type": "markdown",
   "metadata": {},
   "source": [
    "## 3.3 Noncentrality"
   ]
  },
  {
   "cell_type": "markdown",
   "metadata": {},
   "source": [
    "The effect size, non-centrality parameter, for an independent sample t test where samples are the same size is once again related to the test statistic as\n",
    "$\\begin{align*}\n",
    "\\lambda &= \\frac{t}{\\sqrt{n}}\\\\\n",
    "&= \\left (\\frac{\\sqrt{n} \\left (\\bar{x}_{1} - \\bar{x}_{2} \\right )}{\\sqrt{s_{1}^{2} + s_{2}^{2}}} \\right ) \\left (\\frac{1}{\\sqrt{n}} \\right )\\\\\n",
    "&= \\left (\\frac{\\bar{x}_{1}^{2} - \\bar{x}_{2}^{2}}{\\sqrt{s_{1}^{2} + s_{2}^{2}}} \\right )\n",
    "\\end{align*}\\tag{3.8}$"
   ]
  },
  {
   "cell_type": "markdown",
   "metadata": {},
   "source": [
    "## 3.4 Simulation Parameters"
   ]
  },
  {
   "cell_type": "markdown",
   "metadata": {},
   "source": [
    "We will test distributions with means between 0 and 10, standard deviations between 5 and 15, and samples sizes between 60 and 100 observations."
   ]
  },
  {
   "cell_type": "code",
   "execution_count": 10,
   "metadata": {
    "collapsed": true
   },
   "outputs": [],
   "source": [
    "def ttest_ind_simulate(mu_lim, sigma_lim, counts_lims):\n",
    "    \"\"\"...\"\"\"\n",
    "    # Gets the distribution paramters\n",
    "    mu1, mu2 = np.random.randint(*mu_lim, size=2)\n",
    "    sigma1, sigma2 = np.random.randint(*sigma_lim, size=2)\n",
    "    n = np.random.randint(*counts_lims)\n",
    "    \n",
    "    # Returns a pair of distributions\n",
    "    samples =  [mu1 + np.random.randn(n) * sigma1, mu2 + np.random.randn(n) * sigma2]\n",
    "    return [mu1, mu2, sigma1, sigma2, n], samples"
   ]
  },
  {
   "cell_type": "code",
   "execution_count": 11,
   "metadata": {
    "collapsed": false
   },
   "outputs": [],
   "source": [
    "distributions['ttest_ind'] = {'emp_parameters': {},\n",
    "                              'emp_test_fun': emp_ttest_ind,\n",
    "                              'other_sim_parameters': {},\n",
    "                              'sim_function': ttest_ind_simulate,\n",
    "                              'sim_parameters': [[0, 10], [5, 15], [60, 100]],\n",
    "                              'test_parameters': {},\n",
    "                              'trad_test_fun': trad.calc_ttest_ind,     \n",
    "                              'effect_size': cohen_ttest_ind\n",
    "                              }"
   ]
  },
  {
   "cell_type": "markdown",
   "metadata": {},
   "source": [
    "# 4. Analysis of Variance"
   ]
  },
  {
   "cell_type": "markdown",
   "metadata": {},
   "source": [
    "Assume there exist a set of samples, $\\{S_{1}, S_{2}, ..., S_{k} \\}$ where there are a total of $N$ observations distributed over the $k$ groups. The $i$th sample, $S_{i}$ contains $n_{i}$ observations, and has a mean of $\\bar{x}_{.i}$ and a standard deviation, $s_{i}$ where\n",
    "\n",
    "$\\begin{align*}\n",
    "s_{i} = \\sqrt{\\frac{\\sum_{j=1}^{n}{\\left (x_{ij} - \\bar{x}_{.i} \\right)^{2}}}{n_{i}-1}}\n",
    "\\end{align*}\\tag{4.1}$\n",
    "\n",
    "A one-way Analysis of Variance (ANOVA) tests that at least one sample mean in a set of three or more are not equal. Assume that \n",
    "\n",
    "$\\begin{matrix}\n",
    "\\textbf{H}_{0} & \\bar{x}_{1} = \\bar{x}_{2} = ... \\bar{x}_{k} & \\\\\n",
    "\\textbf{H}_{1} & \\bar{x}_{i} \\neq \\bar{x}_{j} & \\exists i,j \\epsilon [1, k], i \\neq j\n",
    "\\end{matrix} \\tag{4.2}$"
   ]
  },
  {
   "cell_type": "markdown",
   "metadata": {},
   "source": [
    "## 4.1 Test Statistic"
   ]
  },
  {
   "cell_type": "markdown",
   "metadata": {},
   "source": [
    "The test statistic for ANOVA is given by\n",
    "$\\begin{align*}\n",
    "F &= \\frac{\\frac{\\textrm{SS}_{\\textrm{between}}}{\\textrm{DF}_{\\textrm{between}}}}{\\frac{\\textrm{SS}_{\\textrm{within}}}{\\textrm{DF}_{\\textrm{within}}}}\n",
    "\\end{align*}\\tag{4.3}$\n",
    "\n",
    "where\n",
    "$\\begin{align*}\n",
    "\\textrm{SS}_{\\textrm{total}} &= \\sum_{i=1}^{k}{\\sum_{j=1}^{n_{i}}{\\left (x_{ij} - \\bar{x}_{..} \\right )^{2}}}\\\\\n",
    "\\textrm{SS}_{\\textrm{between}} &= \\sum_{i=1}^{k}{n_{i}\\left (\\bar{x}_{.i} - \\bar{x}_{..} \\right )^{2}}\\\\\n",
    "\\textrm{SS}_{\\textrm{within}} &= \\sum_{i=1}^{k}{\\left [ \\sum_{j=1}^{n_{i}}{\\left (x_{ij} - \\bar{x}_{.i} \\right )^{2}}\\right ]}\n",
    "\\end{align*}\\tag{4.4}$\n",
    "\n",
    "$\\begin{align*}\n",
    "\\textrm{DF}_{\\textrm{total}} &= N - 1\\\\\n",
    "\\textrm{DF}_{\\textrm{between}} &= k - 1\\\\\n",
    "\\textrm{DF}_{\\textrm{within}} &= N - k\n",
    "\\end{align*}\\tag{4.5}$\n",
    "\n",
    "$\\begin{align*}\n",
    "\\textrm{SS}_{\\textrm{total}} = \\textrm{SS}_{\\textrm{between}} + \\textrm{SS}_{\\textrm{within}}\n",
    "\\end{align*}\\tag{4.6}$\n",
    "\n",
    "$\\begin{align*}\n",
    "\\textrm{DF}_{\\textrm{total}} = \\textrm{DF}_{\\textrm{between}} + \\textrm{DF}_{\\textrm{within}}\n",
    "\\end{align*}\\tag{4.7}$\n",
    "\n",
    "and test statistic is drawn from an $F$ distribution with $k - 1$ and $N - k$ degrees of freedom [[3](#Zar)]."
   ]
  },
  {
   "cell_type": "code",
   "execution_count": 12,
   "metadata": {
    "collapsed": true
   },
   "outputs": [],
   "source": [
    "def emp_anova(*samples):\n",
    "    return scipy.stats.f_oneway(*samples)[1]"
   ]
  },
  {
   "cell_type": "markdown",
   "metadata": {},
   "source": [
    "## 4.2 Effect Size"
   ]
  },
  {
   "cell_type": "markdown",
   "metadata": {},
   "source": [
    "For an analysis of variance, the effect size is given by\n",
    "$\\begin{align*}\n",
    "f &= \\sqrt{\\frac{\\sum_{i=1}^{k}{\\left (\\bar{x}_{.i} - \\bar{x}_{..} \\right )^{2}}}{ks^2}}\\\\\n",
    "\\end{align*}\\tag{4.8}$"
   ]
  },
  {
   "cell_type": "code",
   "execution_count": 13,
   "metadata": {
    "collapsed": true
   },
   "outputs": [],
   "source": [
    "def cohen_f2(*samples):\n",
    "    k = len(samples)\n",
    "    grand_mean = np.mean(samples)\n",
    "    eff = np.sqrt(np.sum([np.square((sample.mean() - grand_mean) / sample.std()) for sample in samples]) / k)\n",
    "    return eff"
   ]
  },
  {
   "cell_type": "markdown",
   "metadata": {},
   "source": [
    "## 4.3 Noncentrality Parameter"
   ]
  },
  {
   "cell_type": "markdown",
   "metadata": {},
   "source": [
    "Under the alternatively hypothesis, the non-centrality $F'$ is given by\n",
    "\n",
    "$\\begin{align*}\n",
    "F' = \\left(\\frac{\\textrm{SS}_{\\textrm{between}}}{\\textrm{SS}_{\\textrm{within}}} \\right) \\left (\\frac{\\textrm{DF}_{\\textrm{within}}}{\\textrm{DF}_{\\textrm{between}}}{} \\right )\n",
    "\\end{align*}\\tag{4.9}$\n",
    "\n",
    "For a given pair of hypotheses, the noncentrality parameter is defined according to equation (2.4), where the grand mean can be substituted for the the test mean. The overall effect size is therefore given as\n",
    "$\\begin{align*}\n",
    "\\lambda &= \\sum_{i=1}^{k}{\\lambda_{i}^{2}}\\\\\n",
    "&= \\sum_{i=1}^{k}\\left (\\frac{\\bar{x}_{i} - \\bar{x}_{..}}{s_{i}} \\right )^{2} \n",
    "\\end{align*} \\tag{4.10}$"
   ]
  },
  {
   "cell_type": "markdown",
   "metadata": {},
   "source": [
    "## 4.4 Simulation Parameters"
   ]
  },
  {
   "cell_type": "markdown",
   "metadata": {},
   "source": [
    "We will simulate an ANOVA between 3 samples with means between 0 and 10, a common standard deviation between 5 and 15, and between 60 and 100 observations per sample."
   ]
  },
  {
   "cell_type": "code",
   "execution_count": 14,
   "metadata": {
    "collapsed": true
   },
   "outputs": [],
   "source": [
    "def anova_simulation(mu_lim, sigma_lim, count_lims, num_pops):\n",
    "    # Defines the distribtuion parameters\n",
    "    mus = np.random.randint(*mu_lim, size=num_pops)\n",
    "    sigma = np.random.randint(*sigma_lim)\n",
    "    n = np.random.randint(*count_lims)\n",
    "    \n",
    "    # Draws samples which fit the population\n",
    "    samples = [mu + np.random.randn(n)*sigma for mu in mus]\n",
    "    \n",
    "    return [mus, sigma, n], samples"
   ]
  },
  {
   "cell_type": "code",
   "execution_count": 15,
   "metadata": {
    "collapsed": false
   },
   "outputs": [],
   "source": [
    "distributions['anova'] = {'emp_parameters': {},\n",
    "                          'emp_test_fun': emp_anova,\n",
    "                          'other_sim_parameters': {'num_pops': 3},\n",
    "                          'sim_function': anova_simulation,\n",
    "                          'sim_parameters': [[0, 10], [5, 15], [60, 100]],\n",
    "                          'test_parameters': {},\n",
    "                          'trad_test_fun': trad.calc_anova,\n",
    "                          'effect_size': cohen_f2\n",
    "                           }"
   ]
  },
  {
   "cell_type": "markdown",
   "metadata": {},
   "source": [
    "# 5. Pearson's Correlation Coeffecient"
   ]
  },
  {
   "cell_type": "markdown",
   "metadata": {},
   "source": [
    "Pearson's correlation coeffecient looks for a linear one-to-one relationship between two vectors, $x$ and $y$, both of size $n$. Closely related vectors have a correlation coeffecient with an absloute value of 1, unrelated data have a correlation coeffecient of 0."
   ]
  },
  {
   "cell_type": "markdown",
   "metadata": {},
   "source": [
    "## 5.1 Test Statistic"
   ]
  },
  {
   "cell_type": "markdown",
   "metadata": {},
   "source": [
    "The correlation coeffecient between the two vectors is given by\n",
    "$\\begin{align*}\n",
    "r = \\frac{\\sum{xy}}{\\sqrt{\\sum{x^{2}}\\sum{y^{2}}}}\n",
    "\\end{align*}\\tag{5.1}$\n",
    "\n",
    "We can test the hypotheses,\n",
    "$\\begin{matrix}\n",
    "\\textbf{H}_{0} & r = 0 \\\\\n",
    "\\textbf{H}_{1} & x \\neq 0\\\\\n",
    "\\end{matrix} \\tag{5.2}$\n",
    "with a test statistic drawn from the $t$ distribution with $n - 2$ degrees of freedom. The statistic is calculated as\n",
    "$\\begin{align*}\n",
    "t = \\frac{r\\sqrt{n-2}}{\\sqrt{1 - r^{2}}}\n",
    "\\end{align*}\\tag{5.3}$\n",
    "\n",
    "Scipy's `scipy.stats.pearsonr` can calculate the correlation coeffecient *and* a p value for the coeffecient."
   ]
  },
  {
   "cell_type": "code",
   "execution_count": 16,
   "metadata": {
    "collapsed": true
   },
   "outputs": [],
   "source": [
    "def emp_pearson(*samples):\n",
    "    return scipy.stats.pearsonr(*samples)[1]"
   ]
  },
  {
   "cell_type": "markdown",
   "metadata": {},
   "source": [
    "## 5.2 Simulation Parameters"
   ]
  },
  {
   "cell_type": "markdown",
   "metadata": {},
   "source": [
    "We're going to simulate regressions with slopes between 1 and 5, intercepts between -2 and 2, and normally distributed residuals with standard deviations between 10 and 100. There will be between 60 and 100 observations in each of the samples. We'll use `regress_simulate` to generate the distributions."
   ]
  },
  {
   "cell_type": "code",
   "execution_count": 17,
   "metadata": {
    "collapsed": true
   },
   "outputs": [],
   "source": [
    "def regress_simulate(mu_lim, sigma_lim, count_lims, b_lims):\n",
    "    # Calculates the distribution for the residuals\n",
    "    sigma = np.random.randint(*sigma_lim)\n",
    "    n = np.random.randint(*count_lims)\n",
    "    # Calculates the parameters for the line\n",
    "    m = np.random.randint(*mu_lim)\n",
    "    b = np.random.randint(*b_lims)\n",
    "    \n",
    "    x = np.arange(-n, n, 2)\n",
    "    y = m*x + b + np.random.randn(n)*sigma\n",
    "    \n",
    "    return [sigma, n, m, b], [x, y]"
   ]
  },
  {
   "cell_type": "code",
   "execution_count": 18,
   "metadata": {
    "collapsed": false
   },
   "outputs": [],
   "source": [
    "distributions['pearson'] = {'emp_parameters': {'draw_mode': 'matched'},\n",
    "                            'emp_test_fun': emp_pearson,\n",
    "                            'other_sim_parameters':{'b_lims':[-2, 2]},\n",
    "                            'sim_function': regress_simulate,\n",
    "                            'sim_parameters': [[1, 5], [60, 100], [60, 100]],\n",
    "                            'test_parameters': {},\n",
    "                            'trad_test_fun': trad.calc_pearson,\n",
    "                          }"
   ]
  },
  {
   "cell_type": "markdown",
   "metadata": {},
   "source": [
    "# 6. Building Simulations"
   ]
  },
  {
   "cell_type": "markdown",
   "metadata": {},
   "source": [
    "We will now build the simulations and look at the results."
   ]
  },
  {
   "cell_type": "code",
   "execution_count": 78,
   "metadata": {
    "collapsed": false,
    "scrolled": true
   },
   "outputs": [
    {
     "name": "stdout",
     "output_type": "stream",
     "text": [
      "pearson\n",
      "ttest_ind\n",
      "ttest_1\n",
      "anova\n"
     ]
    }
   ],
   "source": [
    "import pandas as pd\n",
    "\n",
    "from skbio.stats.power import subsample_power\n",
    "\n",
    "for k, params in distributions.iteritems():\n",
    "    print k\n",
    "    params['pop_params'] = []\n",
    "    params['sample'] = []\n",
    "    params['effs'] = []\n",
    "    params['trad'] = []\n",
    "    params['empr'] = []\n",
    "    params['extr'] = []\n",
    "    params['extf'] = []\n",
    "    params['extz'] = []\n",
    "    params['exzt'] = []\n",
    "    for i in xrange(100):\n",
    "        # Calculates the samples\n",
    "        pop_params, samples = params['sim_function'](*params['sim_parameters'], **params['other_sim_parameters'])\n",
    "        # Calculates the traditional power\n",
    "        trad_power = params['trad_test_fun'](*samples, counts=counts, **params['test_parameters'])\n",
    "        #  Calculates the emperical power\n",
    "        empr_power, empr_counts = subsample_power(lambda x: params['emp_test_fun'](*x, **params['test_parameters']),\n",
    "                                                  samples,\n",
    "                                                  min_counts=5,\n",
    "                                                  max_counts=55,\n",
    "                                                  counts_interval=10,\n",
    "                                                  num_runs=3,\n",
    "                                                  num_iter=100,\n",
    "                                                  **params['emp_parameters'])\n",
    "        extf_power = np.squeeze(ap.extrapolate_f(counts, empr_power, empr_counts, alpha))\n",
    "        if 'effect_size' in params:\n",
    "            base_eff = params['effect_size'](*samples)\n",
    "        else:\n",
    "            base_eff = None\n",
    "        extz_eff = np.concatenate([ap.z_effect(counts, pwr) for pwr in empr_power]).mean()\n",
    "        trdz_eff = np.mean(ap.z_effect(counts, trad_power))\n",
    "        extz_power = ap.z_power(counts, extz_eff)\n",
    "        exzt_power = ap.z_power(counts, trdz_eff)\n",
    "\n",
    "        # Updates the information\n",
    "        params['pop_params'].append(pop_params)\n",
    "        params['effs'].append([base_eff, extz_eff, trdz_eff])\n",
    "        params['sample'].append(samples)\n",
    "        params['trad'].append(trad_power)\n",
    "        params['empr'].append(empr_power.mean(0))\n",
    "        params['extf'].append(extf_power)\n",
    "        params['extz'].append(extz_power)\n",
    "        params['exzt'].append(exzt_power)\n",
    "\n",
    "dists = pd.DataFrame.from_dict(distributions, orient='index')"
   ]
  },
  {
   "cell_type": "code",
   "execution_count": 178,
   "metadata": {
    "collapsed": true
   },
   "outputs": [],
   "source": [
    "import pickle\n",
    "with open('/Users/jwdebelius/Desktop/power_figs/normal/norm_sim.p', 'wb') as f_:\n",
    "    pickle.dump(dists, f_)"
   ]
  },
  {
   "cell_type": "markdown",
   "metadata": {
    "collapsed": true
   },
   "source": [
    "# 7. Effect Size"
   ]
  },
  {
   "cell_type": "markdown",
   "metadata": {},
   "source": [
    "I'm going to start by looking at the relationship between the test-based power, and the power we calculated from the emperical effect size."
   ]
  },
  {
   "cell_type": "code",
   "execution_count": 79,
   "metadata": {
    "collapsed": true
   },
   "outputs": [],
   "source": [
    "from matplotlib import rcParams\n",
    "\n",
    "\n",
    "\n",
    "# Sets up plotting parameters so that the default setting is use to Helvetica\n",
    "# in plots\n",
    "rcParams['font.family'] = 'sans-serif'\n",
    "rcParams['font.sans-serif'] = ['Helvetica', 'Arial']\n",
    "rcParams['text.usetex'] = True\n",
    "\n",
    "% matplotlib inline"
   ]
  },
  {
   "cell_type": "code",
   "execution_count": 153,
   "metadata": {
    "collapsed": false
   },
   "outputs": [
    {
     "data": {
      "image/png": "[encoded data removed]",
      "text/plain": [
       "<matplotlib.figure.Figure at 0x10e8bf350>"
      ]
     },
     "metadata": {},
     "output_type": "display_data"
    }
   ],
   "source": [
    "fig1 = plt.figure()\n",
    "fig1.set_size_inches((8, 4))\n",
    "x1 = []\n",
    "y1 = []\n",
    "for idx, test in enumerate(dists.index):\n",
    "    x = np.concatenate(dists.loc[test, 'trad'])\n",
    "    y = np.concatenate(dists.loc[test, 'exzt'])\n",
    "    x1.append(x)\n",
    "    y1.append(y)\n",
    "    ax1 = fig1.add_subplot(2, 4, idx + 1)\n",
    "    ax2 = fig1.add_subplot(2, 4, idx + 5)\n",
    "    ax1.plot([0, 1], [0, 1], 'k-')\n",
    "    ax2.plot([0, 1], [0, 0], 'k-')\n",
    "    ax2.plot([0.25, 0.5, 0.75, 1.0], [0, 0, 0, 0], 'k|', ms=9, mew=1)\n",
    "    ax1.plot(x, y, 'o', mec=[0.5, 0.5, 0.5], mfc='none')\n",
    "    ax2.plot(x, (y - x) / x, 'o', mec=[0.5, 0.5, 0.5], mfc='none')\n",
    "    \n",
    "    ax1.plot([0, 1], [0, 1], 'k-')\n",
    "    ax2.plot([0, 1], [0, 0], 'k-')\n",
    "    ax2.plot([0.25, 0.5, 0.75, 1.0], [0, 0, 0, 0], 'k|', ms=9, mew=1)\n",
    "    \n",
    "    ax1.set_xlim([0, 1])\n",
    "    ax1.set_ylim([0, 1])\n",
    "    ax2.set_xlim([0, 1])\n",
    "    ax2.set_ylim([-2.5, 2.5])\n",
    "    ax1.set_title(test.replace('_', ' '))\n",
    "    ax1.set_xticks(np.arange(0, 1.1, 0.25))\n",
    "    ax2.set_xticks(np.arange(0, 1.1, 0.25))\n",
    "    ax1.set_yticks(np.arange(0, 1.1, 0.25))\n",
    "#     ax2.set_yticks(np.arange(0, ))\n",
    "    if idx > 0:\n",
    "        ax1.set_yticklabels('')\n",
    "        ax2.set_yticklabels('')\n",
    "    else:\n",
    "        ax1.set_yticklabels(np.arange(0, 1.1, 0.25), size=10)\n",
    "        ax1.set_ylabel('Extrapolated Power')\n",
    "        ax2.set_yticklabels(np.arange(-3., 3., 1), size=10)\n",
    "        ax2.set_ylabel('Relative Difference')\n",
    "    ax1.set_xticklabels('')\n",
    "    ax2.set_xticklabels(np.arange(0, 1.1, 0.25), size=10)\n",
    "    \n",
    "    ax1.spines['right'].set_visible(False)\n",
    "    ax1.spines['top'].set_visible(False)\n",
    "    ax1.spines['right'].set_visible(False)\n",
    "    ax2.spines['top'].set_visible(False)\n",
    "    ax2.spines['bottom'].set_visible(False)\n",
    "    ax2.spines['right'].set_visible(False)\n",
    "    ax1.get_xaxis().set_tick_params(direction='out')\n",
    "    ax1.get_yaxis().set_tick_params(direction='out')\n",
    "    ax2.get_yaxis().set_tick_params(direction='out')\n",
    "    ax2.yaxis.set_ticks_position('left')\n",
    "    ax2.yaxis.set_ticks_position('left')\n",
    "    ax1.xaxis.set_ticks_position('bottom')\n",
    "    ax2.get_xaxis().set_tick_params(tick1On=False, tick2On=False)\n",
    "    ax1.get_yaxis().set_tick_params(tick2On=False)\n",
    "\n",
    "fig1.savefig('/Users/jwdebelius/Desktop/power_figs/normal/pseudo_infered_power.pdf')"
   ]
  },
  {
   "cell_type": "code",
   "execution_count": 23,
   "metadata": {
    "collapsed": false
   },
   "outputs": [],
   "source": [
    "x = np.array(dists.loc[test, 'trad'])\n",
    "y = np.array(dists.loc[test, 'exzt'])\n",
    "i = np.arange(0, x.shape[0])"
   ]
  },
  {
   "cell_type": "markdown",
   "metadata": {},
   "source": [
    "There is a strong ratio between test-based power, and the power calculated from that effect size. However, this is altered when tradtitional power is less than 0.05. So, let's remove values where traditional power is less than 0.05"
   ]
  },
  {
   "cell_type": "code",
   "execution_count": 24,
   "metadata": {
    "collapsed": true
   },
   "outputs": [],
   "source": [
    "x = np.concatenate(x1)\n",
    "y = np.concatenate(y1)\n",
    "i = (x > 0.01)\n",
    "j = (x > 0.05)"
   ]
  },
  {
   "cell_type": "code",
   "execution_count": 25,
   "metadata": {
    "collapsed": false
   },
   "outputs": [
    {
     "data": {
      "text/plain": [
       "array([ True,  True,  True, ..., False, False, False], dtype=bool)"
      ]
     },
     "execution_count": 25,
     "metadata": {},
     "output_type": "execute_result"
    }
   ],
   "source": [
    "i"
   ]
  },
  {
   "cell_type": "code",
   "execution_count": 26,
   "metadata": {
    "collapsed": false
   },
   "outputs": [
    {
     "name": "stdout",
     "output_type": "stream",
     "text": [
      "0.996\n",
      "0.995\n",
      "0.994\n"
     ]
    }
   ],
   "source": [
    "print '%1.3f' % scipy.stats.pearsonr(y[i], x[i])[0]\n",
    "print '%1.3f' % scipy.stats.pearsonr(y[j], x[j])[0]\n",
    "print '%1.3f' % scipy.stats.pearsonr(y, x)[0]"
   ]
  },
  {
   "cell_type": "code",
   "execution_count": 27,
   "metadata": {
    "collapsed": false
   },
   "outputs": [
    {
     "name": "stdout",
     "output_type": "stream",
     "text": [
      "1.090 +/- 0.009\n",
      "0.997 +/- 0.002\n",
      "2.628 +/- 0.577\n"
     ]
    }
   ],
   "source": [
    "print '%1.3f +/- %1.3f' % (np.round(np.mean(y[i] / x[i]), 3), \n",
    "                           np.round(np.std(y[i] / x[i]) /\n",
    "                                    np.sqrt(i.sum()) * scipy.stats.t.ppf(0.975, np.sum(i)), 3))\n",
    "print '%1.3f +/- %1.3f' % (np.round(np.mean(y[j] / x[j]), 3), \n",
    "                           np.round(np.std(y[j] / x[j]) /\n",
    "                                    np.sqrt(j.sum()) * scipy.stats.t.ppf(0.975, np.sum(j)), 3))\n",
    "print '%1.3f +/- %1.3f' % (np.round(np.mean(y / x), 3), \n",
    "                           np.round(np.std(y / x) /\n",
    "                                    np.sqrt(len(x)) * scipy.stats.t.ppf(0.975, len(x)), 3))"
   ]
  },
  {
   "cell_type": "markdown",
   "metadata": {},
   "source": [
    "Based on the graphs, it looks like the bias is largely associated with values for low power.\n",
    "\n",
    "I'd also like to "
   ]
  },
  {
   "cell_type": "code",
   "execution_count": 135,
   "metadata": {
    "collapsed": false
   },
   "outputs": [
    {
     "data": {
      "image/png": "[encoded data removed]",
      "text/plain": [
       "<matplotlib.figure.Figure at 0x10c840850>"
      ]
     },
     "metadata": {},
     "output_type": "display_data"
    }
   ],
   "source": [
    "ax = plt.axes()\n",
    "for idx, (test, color, marker, ms, label) in enumerate([('anova', '#e41a1c', 'o', 8, 'ANOVA'), \n",
    "                                                        ('ttest_1', '#377eb8', 's', 8, 'One sample T test'), \n",
    "                                                        ('ttest_ind', '#4daf4a', '*', 12, 'Independent sample T test')]):\n",
    "    effs = np.array(dists.loc[test, 'effs'])\n",
    "    x = effs[:, 0]\n",
    "    y = effs[:, 2]\n",
    "    n = effs.shape[1]\n",
    "    ax.plot(x, y, marker, mfc='none', mec=color, ms=ms, label=label)\n",
    "\n",
    "    ax.set_xticklabels(np.arange(0, 3.1, 0.5), size=12)\n",
    "ax.set_yticklabels(np.arange(0, 3.1, 0.5), size=12)\n",
    "ax.set_xlabel(\"Cohen's effect size\", size=15)\n",
    "ax.set_ylabel(\"Pseudo effect size\", size=15)\n",
    "\n",
    "ax.spines['right'].set_visible(False)\n",
    "ax.spines['top'].set_visible(False)\n",
    "ax.get_xaxis().set_tick_params(direction='out')\n",
    "ax.get_yaxis().set_tick_params(direction='out')\n",
    "ax.yaxis.set_ticks_position('left')\n",
    "ax.yaxis.set_ticks_position('left')\n",
    "\n",
    "ax.legend(loc=2, frameon=False, numpoints=1)\n",
    "\n",
    "fig = ax.get_figure()\n",
    "fig.set_size_inches((4, 4))\n",
    "ax.set_position((0.125, 0.125, 0.75, 0.75))\n",
    "fig.savefig('/Users/jwdebelius/Desktop/power_figs/normal/norm_effect_size.pdf')"
   ]
  },
  {
   "cell_type": "code",
   "execution_count": 124,
   "metadata": {
    "collapsed": false
   },
   "outputs": [
    {
     "name": "stdout",
     "output_type": "stream",
     "text": [
      "anova   \t 0.996 \t 0.563 +/- 0.135\t 0.999 \t 0.573 +/- 0.007\n",
      "anova   \t 0.996 \t 1.126 +/- 0.270\t 0.999 \t 1.146 +/- 0.015\n",
      "ttest_1   \t 0.993 \t 0.760 +/- 0.213\t 0.998 \t 0.767 +/- 0.008\n",
      "ttest_1   \t 0.993 \t 1.075 +/- 0.302\t 0.998 \t 1.084 +/- 0.011\n",
      "ttest_ind   \t 0.979 \t 1.044 +/- 0.649\t 0.998 \t 1.110 +/- 0.023\n",
      "ttest_ind   \t 0.979 \t 1.044 +/- 0.649\t 0.998 \t 1.110 +/- 0.023\n"
     ]
    }
   ],
   "source": [
    "xi = []\n",
    "xj = []\n",
    "yi = []\n",
    "yj = []\n",
    "for idx, (test, color, mod) in enumerate([('anova', 'r', 2), ('ttest_1', 'g', np.sqrt(2)), ('ttest_ind', 'b', 1)]):\n",
    "    effs = np.array(dists.loc[test, 'effs'])\n",
    "    x = effs[:, 0]\n",
    "    y = effs[:, 2]\n",
    "    n = effs.shape[1]\n",
    "    i = (0.1 < x) * (x < 1.5)\n",
    "    r1 = scipy.stats.pearsonr(x, y)[0]\n",
    "    r2 = scipy.stats.pearsonr(x[i], y[i])[0]\n",
    "    rat1 = x / y\n",
    "    rat2 = x[i] / y[i]\n",
    "    xi.append(x)\n",
    "    yi.append(y / mod)\n",
    "    xj.append(x[i])\n",
    "    yj.append(y[i] / mod)\n",
    "    \n",
    "    print '%s   \\t %1.3f \\t %1.3f +/- %1.3f\\t %1.3f \\t %1.3f +/- %1.3f' % (\n",
    "        test,\n",
    "        r1, rat1.mean(), rat1.std() / np.sqrt(n) * scipy.stats.t.ppf(0.975, n-1),\n",
    "        r2, rat2.mean(), rat2.std() / np.sqrt(i.sum()) * scipy.stats.t.ppf(0.975, i.sum() - 1)\n",
    "    )\n",
    "    print '%s   \\t %1.3f \\t %1.3f +/- %1.3f\\t %1.3f \\t %1.3f +/- %1.3f' % (\n",
    "        test,\n",
    "        r1, (rat1 * mod).mean(), (rat1 * mod).std() / np.sqrt(n) * scipy.stats.t.ppf(0.975, n-1),\n",
    "        r2, (rat2 * mod).mean(), (rat2 * mod).std() / np.sqrt(i.sum()) * scipy.stats.t.ppf(0.975, i.sum() - 1)\n",
    "    )"
   ]
  },
  {
   "cell_type": "code",
   "execution_count": 125,
   "metadata": {
    "collapsed": false,
    "scrolled": true
   },
   "outputs": [
    {
     "data": {
      "text/plain": [
       "(1.1420000000000001, 1.152)"
      ]
     },
     "execution_count": 125,
     "metadata": {},
     "output_type": "execute_result"
    }
   ],
   "source": [
    "1.147 - 0.005, 1.147 + 0.005"
   ]
  },
  {
   "cell_type": "code",
   "execution_count": 126,
   "metadata": {
    "collapsed": false
   },
   "outputs": [
    {
     "name": "stdout",
     "output_type": "stream",
     "text": [
      "0.9894\n",
      "0.9982\n"
     ]
    }
   ],
   "source": [
    "print np.round(scipy.stats.pearsonr(np.concatenate(xi), np.concatenate(yi))[0], 4)\n",
    "print np.round(scipy.stats.pearsonr(np.concatenate(xj), np.concatenate(yj))[0], 4)"
   ]
  },
  {
   "cell_type": "code",
   "execution_count": null,
   "metadata": {
    "collapsed": true
   },
   "outputs": [],
   "source": []
  },
  {
   "cell_type": "code",
   "execution_count": 127,
   "metadata": {
    "collapsed": false
   },
   "outputs": [
    {
     "data": {
      "text/plain": [
       "1.0815672583574942"
      ]
     },
     "execution_count": 127,
     "metadata": {},
     "output_type": "execute_result"
    }
   ],
   "source": [
    "np.mean(np.concatenate(xi) / np.concatenate(yi))"
   ]
  },
  {
   "cell_type": "code",
   "execution_count": 128,
   "metadata": {
    "collapsed": false
   },
   "outputs": [
    {
     "data": {
      "text/plain": [
       "0.44976790209801132"
      ]
     },
     "execution_count": 128,
     "metadata": {},
     "output_type": "execute_result"
    }
   ],
   "source": [
    "np.std(np.concatenate(xi) / np.concatenate(yi)) / np.sqrt(n) * scipy.stats.t.ppf(0.975, n-1)"
   ]
  },
  {
   "cell_type": "code",
   "execution_count": 129,
   "metadata": {
    "collapsed": false
   },
   "outputs": [
    {
     "data": {
      "text/plain": [
       "array([ 0.6,  1.5])"
      ]
     },
     "execution_count": 129,
     "metadata": {},
     "output_type": "execute_result"
    }
   ],
   "source": [
    "np.round((1.0783 - 0.470, 1.0783 + 0.470), 1)"
   ]
  },
  {
   "cell_type": "code",
   "execution_count": 130,
   "metadata": {
    "collapsed": false
   },
   "outputs": [
    {
     "data": {
      "text/plain": [
       "1.1133216020321015"
      ]
     },
     "execution_count": 130,
     "metadata": {},
     "output_type": "execute_result"
    }
   ],
   "source": [
    "np.mean(np.concatenate(xj) / np.concatenate(yj))"
   ]
  },
  {
   "cell_type": "code",
   "execution_count": 131,
   "metadata": {
    "collapsed": false
   },
   "outputs": [
    {
     "data": {
      "text/plain": [
       "0.0099425316307579885"
      ]
     },
     "execution_count": 131,
     "metadata": {},
     "output_type": "execute_result"
    }
   ],
   "source": [
    "n = len(np.concatenate(xj))\n",
    "np.std(np.concatenate(xj) / np.concatenate(yj)) / np.sqrt(n) * scipy.stats.t.ppf(0.975, n-1)"
   ]
  },
  {
   "cell_type": "code",
   "execution_count": 132,
   "metadata": {
    "collapsed": false
   },
   "outputs": [],
   "source": [
    "xi = np.concatenate(xi)\n",
    "yi = np.concatenate(yi)"
   ]
  },
  {
   "cell_type": "code",
   "execution_count": 133,
   "metadata": {
    "collapsed": false
   },
   "outputs": [
    {
     "ename": "NameError",
     "evalue": "name 'zi' is not defined",
     "output_type": "error",
     "traceback": [
      "\u001b[0;31m---------------------------------------------------------------------------\u001b[0m",
      "\u001b[0;31mNameError\u001b[0m                                 Traceback (most recent call last)",
      "\u001b[0;32m<ipython-input-133-c3cb5f38d386>\u001b[0m in \u001b[0;36m<module>\u001b[0;34m()\u001b[0m\n\u001b[1;32m      1\u001b[0m \u001b[0mrxyi\u001b[0m \u001b[0;34m=\u001b[0m \u001b[0mxi\u001b[0m \u001b[0;34m/\u001b[0m \u001b[0myi\u001b[0m\u001b[0;34m\u001b[0m\u001b[0m\n\u001b[1;32m      2\u001b[0m \u001b[0mrxyi\u001b[0m \u001b[0;34m=\u001b[0m \u001b[0mnp\u001b[0m\u001b[0;34m.\u001b[0m\u001b[0mmean\u001b[0m\u001b[0;34m(\u001b[0m\u001b[0mrxyi\u001b[0m\u001b[0;34m[\u001b[0m\u001b[0mnp\u001b[0m\u001b[0;34m.\u001b[0m\u001b[0misinf\u001b[0m\u001b[0;34m(\u001b[0m\u001b[0mrxyi\u001b[0m\u001b[0;34m)\u001b[0m \u001b[0;34m==\u001b[0m \u001b[0mFalse\u001b[0m\u001b[0;34m]\u001b[0m\u001b[0;34m)\u001b[0m\u001b[0;34m\u001b[0m\u001b[0m\n\u001b[0;32m----> 3\u001b[0;31m \u001b[0mrxzi\u001b[0m \u001b[0;34m=\u001b[0m \u001b[0mxi\u001b[0m \u001b[0;34m/\u001b[0m \u001b[0mzi\u001b[0m\u001b[0;34m\u001b[0m\u001b[0m\n\u001b[0m\u001b[1;32m      4\u001b[0m \u001b[0mrzyi\u001b[0m \u001b[0;34m=\u001b[0m \u001b[0mnp\u001b[0m\u001b[0;34m.\u001b[0m\u001b[0mmean\u001b[0m\u001b[0;34m(\u001b[0m\u001b[0mrzyi\u001b[0m\u001b[0;34m[\u001b[0m\u001b[0mnp\u001b[0m\u001b[0;34m.\u001b[0m\u001b[0misinf\u001b[0m\u001b[0;34m(\u001b[0m\u001b[0mrzyi\u001b[0m\u001b[0;34m)\u001b[0m \u001b[0;34m==\u001b[0m \u001b[0mFalse\u001b[0m\u001b[0;34m]\u001b[0m\u001b[0;34m)\u001b[0m\u001b[0;34m\u001b[0m\u001b[0m\n\u001b[1;32m      5\u001b[0m \u001b[0mryzi\u001b[0m \u001b[0;34m=\u001b[0m \u001b[0myi\u001b[0m \u001b[0;34m/\u001b[0m \u001b[0mzi\u001b[0m\u001b[0;34m\u001b[0m\u001b[0m\n",
      "\u001b[0;31mNameError\u001b[0m: name 'zi' is not defined"
     ]
    }
   ],
   "source": [
    "rxyi = xi / yi\n",
    "rxyi = np.mean(rxyi[np.isinf(rxyi) == False])\n",
    "rxzi = xi / zi\n",
    "rzyi = np.mean(rzyi[np.isinf(rzyi) == False])\n",
    "ryzi = yi / zi\n",
    "ryzi = np.mean(ryzi[np.isinf(ryzi) == False])"
   ]
  },
  {
   "cell_type": "code",
   "execution_count": null,
   "metadata": {
    "collapsed": true
   },
   "outputs": [],
   "source": [
    "mods = {'ANOVA', 2}"
   ]
  },
  {
   "cell_type": "code",
   "execution_count": null,
   "metadata": {
    "collapsed": false
   },
   "outputs": [],
   "source": [
    "np.infmean([1, 2, np.inf])"
   ]
  },
  {
   "cell_type": "markdown",
   "metadata": {},
   "source": [
    "### 7.0.1 Emprical Power"
   ]
  },
  {
   "cell_type": "code",
   "execution_count": 60,
   "metadata": {
    "collapsed": false
   },
   "outputs": [
    {
     "name": "stdout",
     "output_type": "stream",
     "text": [
      "anova\n",
      "trad/empr, raw   [ 0.988  1.284  0.047]\n",
      "trad/empr, round [ 0.988  1.284  0.047]\n",
      "\n",
      "trad/extr, raw   [ 0.991  0.977  0.006]\n",
      "trad/extr, round [ 0.991  0.977  0.006]\n",
      "\n",
      "pearson\n",
      "trad/empr, raw   [ 0.985  1.05   0.004]\n",
      "trad/empr, round [ 0.985  1.05   0.004]\n",
      "\n",
      "trad/extr, raw   [ 0.961  1.069  0.004]\n",
      "trad/extr, round [ 0.961  1.069  0.004]\n",
      "\n",
      "ttest_1\n",
      "trad/empr, raw   [ 0.995  1.086  0.017]\n",
      "trad/empr, round [ 0.995  1.084  0.016]\n",
      "\n",
      "trad/extr, raw   [ 0.994  1.037  0.005]\n",
      "trad/extr, round [ 0.994  1.055  0.005]\n",
      "\n",
      "ttest_ind\n",
      "trad/empr, raw   [ 0.99   1.411  0.048]\n",
      "trad/empr, round [ 0.991  1.455  0.052]\n",
      "\n",
      "trad/extr, raw   [ 0.991  0.95   0.011]\n",
      "trad/extr, round [ 0.993  1.12   0.007]\n",
      "\n"
     ]
    }
   ],
   "source": [
    "xall = []\n",
    "yall = []\n",
    "zall = []\n",
    "for idx, name in enumerate(dists.index.values):\n",
    "    x = np.concatenate(dists.loc[name, 'trad'])\n",
    "    y = np.concatenate(dists.loc[name, 'empr'])\n",
    "    z = np.concatenate(dists.loc[name, 'extz'])\n",
    "    xall.append(x)\n",
    "    yall.append(y)\n",
    "    zall.append(z)\n",
    "    i = x > 0.05\n",
    "    n = len(x)\n",
    "    xi = x[i]\n",
    "    yi = y[i]\n",
    "    zi = z[i]\n",
    "    ni = len(xi)\n",
    "    \n",
    "    rxy = x / y\n",
    "    rxy = rxy[np.isinf(rxy) == False]\n",
    "    rxz = x / z\n",
    "    ryz = rxz[np.isinf(rxz) == False]\n",
    "    ryz = y / z\n",
    "    ryz = ryz[np.isinf(ryz) == False]\n",
    "    \n",
    "    rxyi = xi / yi\n",
    "    rxyi = rxyi[np.isinf(rxyi) == False]\n",
    "    rxzi = xi / zi\n",
    "    rxzi = rxzi[np.isinf(rxzi) == False]\n",
    "    ryzi = yi / zi\n",
    "    ryzi = ryzi[np.isinf(ryzi) == False]\n",
    "    \n",
    "    print name\n",
    "    print 'trad/empr, raw  ', np.round(\n",
    "        (scipy.stats.pearsonr(x, y)[0], np.mean(rxy), np.std(rxy) / np.sqrt(len(rxy)) * 1.96), 3\n",
    "        )\n",
    "    print 'trad/empr, round', np.round(\n",
    "        (scipy.stats.pearsonr(xi, yi)[0], np.mean(rxyi), np.std(rxyi) / np.sqrt(len(rxyi)) * 1.96), 3\n",
    "        )\n",
    "    print ''\n",
    "    print 'trad/extr, raw  ', np.round(\n",
    "        (scipy.stats.pearsonr(x, z)[0], np.mean(rxz), np.std(rxz) / np.sqrt(len(rxz)) * 1.96), 3\n",
    "        )\n",
    "    print 'trad/extr, round', np.round(\n",
    "        (scipy.stats.pearsonr(xi, zi)[0], np.mean(rxzi), np.std(rxzi) / np.sqrt(len(rxzi)) * 1.96), 3\n",
    "        )\n",
    "    print ''\n"
   ]
  },
  {
   "cell_type": "code",
   "execution_count": 160,
   "metadata": {
    "collapsed": true
   },
   "outputs": [],
   "source": [
    "def format_figure(ax1, ax2):\n",
    "    ax2.plot([0.25, 0.5, 0.75, 1.0], [0, 0, 0, 0], 'k|', ms=9, mew=1)\n",
    "    ax1.plot(x, y, 'o', mec=[0.5, 0.5, 0.5], mfc='none')\n",
    "    ax2.plot(x, (y - x) / x, 'o', mec=[0.5, 0.5, 0.5], mfc='none')\n",
    "    \n",
    "    ax1.plot([0, 1], [0, 1], 'k-')\n",
    "    ax2.plot([0, 1], [0, 0], 'k-')\n",
    "    ax2.plot([0.25, 0.5, 0.75, 1.0], [0, 0, 0, 0], 'k|', ms=9, mew=1)\n",
    "    \n",
    "    ax1.set_xlim([0, 1])\n",
    "    ax1.set_ylim([0, 1])\n",
    "    ax2.set_xlim([0, 1])\n",
    "    ax2.set_ylim([-2.5, 2.5])\n",
    "    ax1.set_title(test.replace('_', ' '))\n",
    "    ax1.set_xticks(np.arange(0, 1.1, 0.25))\n",
    "    ax2.set_xticks(np.arange(0, 1.1, 0.25))\n",
    "    ax1.set_yticks(np.arange(0, 1.1, 0.25))\n",
    "#     ax2.set_yticks(np.arange(0, ))\n",
    "    if idx > 0:\n",
    "        ax1.set_yticklabels('')\n",
    "        ax2.set_yticklabels('')\n",
    "    else:\n",
    "        ax1.set_yticklabels(np.arange(0, 1.1, 0.25), size=10)\n",
    "        ax1.set_ylabel('Extrapolated Power')\n",
    "        ax2.set_yticklabels(np.arange(-3., 3., 1), size=10)\n",
    "        ax2.set_ylabel('Relative Difference')\n",
    "    ax1.set_xticklabels('')\n",
    "    ax2.set_xticklabels(np.arange(0, 1.1, 0.25), size=10)\n",
    "    \n",
    "    ax1.spines['right'].set_visible(False)\n",
    "    ax1.spines['top'].set_visible(False)\n",
    "    ax1.spines['right'].set_visible(False)\n",
    "    ax2.spines['top'].set_visible(False)\n",
    "    ax2.spines['bottom'].set_visible(False)\n",
    "    ax2.spines['right'].set_visible(False)\n",
    "    ax1.get_xaxis().set_tick_params(direction='out')\n",
    "    ax1.get_yaxis().set_tick_params(direction='out')\n",
    "    ax2.get_yaxis().set_tick_params(direction='out')\n",
    "    ax2.yaxis.set_ticks_position('left')\n",
    "    ax2.yaxis.set_ticks_position('left')\n",
    "    ax1.xaxis.set_ticks_position('bottom')\n",
    "    ax2.get_xaxis().set_tick_params(tick1On=False, tick2On=False)\n",
    "    ax1.get_yaxis().set_tick_params(tick2On=False)"
   ]
  },
  {
   "cell_type": "code",
   "execution_count": 163,
   "metadata": {
    "collapsed": false
   },
   "outputs": [
    {
     "data": {
      "image/png": "[encoded data removed]",
      "text/plain": [
       "<matplotlib.figure.Figure at 0x1051b2250>"
      ]
     },
     "metadata": {},
     "output_type": "display_data"
    },
    {
     "data": {
      "image/png": "[encoded data removed]",
      "text/plain": [
       "<matplotlib.figure.Figure at 0x10c6d4fd0>"
      ]
     },
     "metadata": {},
     "output_type": "display_data"
    },
    {
     "data": {
      "image/png": "[encoded data removed]",
      "text/plain": [
       "<matplotlib.figure.Figure at 0x10ca04d50>"
      ]
     },
     "metadata": {},
     "output_type": "display_data"
    }
   ],
   "source": [
    "fig1 = plt.figure()\n",
    "fig2 = plt.figure()\n",
    "fig3 = plt.figure()\n",
    "fig1.set_size_inches((8, 4))\n",
    "fig2.set_size_inches((8, 4))\n",
    "fig3.set_size_inches((8, 4))\n",
    "\n",
    "for idx, name in enumerate(dists.index.values):\n",
    "    x = np.concatenate(dists.loc[name, 'trad'])\n",
    "    y = np.concatenate(dists.loc[name, 'empr'])\n",
    "    z = np.concatenate(dists.loc[name, 'extz'])\n",
    "    \n",
    "    ax1 = fig1.add_subplot(2, 4, idx+1)\n",
    "    ax2 = fig1.add_subplot(2, 4, idx+5)\n",
    "    \n",
    "    ax3 = fig2.add_subplot(2, 4, idx+1)\n",
    "    ax4 = fig2.add_subplot(2, 4, idx+5)\n",
    "    \n",
    "    ax5 = fig3.add_subplot(2, 4, idx+1)\n",
    "    ax6 = fig3.add_subplot(2, 4, idx+5)\n",
    "    \n",
    "    ax1.plot(x, y, 'o', mec=[0.5, 0.5, 0.5], mfc='none')\n",
    "    ax2.plot(x, (y-x)/x, 'o', mec=[0.5, 0.5, 0.5], mfc='none')\n",
    "    \n",
    "    ax3.plot(x, z, 'o', mec=[0.5, 0.5, 0.5], mfc='none')\n",
    "    ax4.plot(x, (z-x)/x, 'o', mec=[0.5, 0.5, 0.5], mfc='none')\n",
    "    \n",
    "    ax5.plot(y, z, 'o', mec=[0.5, 0.5, 0.5], mfc='none')\n",
    "    ax6.plot(y, (z-y)/y, 'o', mec=[0.5, 0.5, 0.5], mfc='none')\n",
    "    \n",
    "    format_figure(ax1, ax2)\n",
    "    format_figure(ax3, ax4)\n",
    "    format_figure(ax5, ax6)\n",
    "    \n",
    "    fig1.savefig('/Users/jwdebelius/Desktop/power_figs/normal/test_v_emprical.pdf')\n",
    "    fig2.savefig('/Users/jwdebelius/Desktop/power_figs/normal/test_v_extrapolated.pdf')\n",
    "    fig3.savefig('/Users/jwdebelius/Desktop/power_figs/normal/emprical_v_extrapolated.pdf')"
   ]
  },
  {
   "cell_type": "code",
   "execution_count": 168,
   "metadata": {
    "collapsed": false
   },
   "outputs": [
    {
     "name": "stdout",
     "output_type": "stream",
     "text": [
      "[ 0.978  1.143  0.033]\n",
      "[ 0.989  1.082  0.02 ]\n"
     ]
    }
   ],
   "source": [
    "rxya = np.concatenate(xall) / np.concatenate(yall)\n",
    "rxya = rxya[np.isinf(rxya) == False]\n",
    "rxza = np.concatenate(xall) / np.concatenate(zall)\n",
    "rxza = rxza[np.isinf(rxza) == False]\n",
    "\n",
    "print np.round(\n",
    "    (scipy.stats.pearsonr(np.concatenate(xall), np.concatenate(yall))[0],\n",
    "     np.mean(rxya),\n",
    "     np.std(rxya) / np.sqrt(len(rxya)) * 1.96\n",
    "     ), 3)\n",
    "print np.round(\n",
    "    (scipy.stats.pearsonr(np.concatenate(xall), np.concatenate(zall))[0],\n",
    "     np.mean(rxza),\n",
    "     np.std(rxza) / np.sqrt(len(rxza)) * 1.96\n",
    "     ), 3)"
   ]
  },
  {
   "cell_type": "code",
   "execution_count": 169,
   "metadata": {
    "collapsed": false
   },
   "outputs": [
    {
     "name": "stdout",
     "output_type": "stream",
     "text": [
      "False\n",
      "False\n",
      "False\n"
     ]
    }
   ],
   "source": [
    "print np.isinf(x).any()\n",
    "print np.isinf(y).any()\n",
    "print np.isinf(x / y).any()"
   ]
  },
  {
   "cell_type": "code",
   "execution_count": 170,
   "metadata": {
    "collapsed": false
   },
   "outputs": [
    {
     "name": "stdout",
     "output_type": "stream",
     "text": [
      "(0.98864408487922795, 1.7589751986278229e-82)\n",
      "1.11437102273\n",
      "0.367931583052\n"
     ]
    }
   ],
   "source": [
    "print scipy.stats.pearsonr(x, y)\n",
    "print np.mean(x / y)\n",
    "print np.std(x / y)"
   ]
  },
  {
   "cell_type": "code",
   "execution_count": 171,
   "metadata": {
    "collapsed": false,
    "scrolled": true
   },
   "outputs": [
    {
     "name": "stdout",
     "output_type": "stream",
     "text": [
      "anova\n",
      "[ 0.989  1.176  0.06 ]\n",
      "[ 0.988  1.158  0.058]\n",
      "\n",
      "[ 0.989  1.046  0.05 ]\n",
      "[ 0.988  1.006  0.043]\n",
      "ttest_1\n",
      "[ 0.982  1.139  0.032]\n",
      "[ 0.98   1.142  0.024]\n",
      "\n",
      "[ 0.982  1.099  0.079]\n",
      "[ 0.98   1.055  0.023]\n",
      "ttest_ind\n",
      "[ 0.989  1.114  0.072]\n",
      "[ 0.994  1.214  0.06 ]\n",
      "\n",
      "[ 0.989  1.138  0.094]\n",
      "[ 0.994  1.088  0.042]\n"
     ]
    }
   ],
   "source": [
    "xall = []\n",
    "yall = []\n",
    "zall = []\n",
    "for idx, (test, color, mod) in enumerate([('anova', 'r', 2), ('ttest_1', 'g', np.sqrt(2)), ('ttest_ind', 'b', 1)]):\n",
    "    eff = np.array(dists.loc[test, 'effs'])\n",
    "    x = eff[:, 0]\n",
    "    y = eff[:, 1] / mod\n",
    "    z = eff[:, 2] / mod\n",
    "    i = (x > 0.1) * (x < 1.5)\n",
    "    xi = x[i]\n",
    "    yi = y[i]\n",
    "    zi = z[i]\n",
    "    \n",
    "    xall.append(x)\n",
    "    yall.append(y)\n",
    "    zall.append(z)\n",
    "    \n",
    "    print test\n",
    "    print np.round(\n",
    "        (scipy.stats.pearsonr(x, y)[0],\n",
    "         np.mean(x / y),\n",
    "         np.std(x / y) / np.sqrt(len(x)) * 1.96\n",
    "        ), 3)\n",
    "    print np.round(\n",
    "        (scipy.stats.pearsonr(xi, yi)[0],\n",
    "         np.mean(xi / yi),\n",
    "         np.std(xi / yi) / np.sqrt(len(xi)) * 1.96\n",
    "        ), 3)\n",
    "    print ''\n",
    "    print np.round(\n",
    "        (scipy.stats.pearsonr(x, y)[0],\n",
    "         np.mean(z / y),\n",
    "         np.std(z / y) / np.sqrt(len(x)) * 1.96\n",
    "        ), 3)\n",
    "    print np.round(\n",
    "        (scipy.stats.pearsonr(xi, yi)[0],\n",
    "         np.mean(zi / yi),\n",
    "         np.std(zi / yi) / np.sqrt(len(xi)) * 1.96\n",
    "        ), 3)"
   ]
  },
  {
   "cell_type": "code",
   "execution_count": 172,
   "metadata": {
    "collapsed": false
   },
   "outputs": [
    {
     "name": "stdout",
     "output_type": "stream",
     "text": [
      "0.978074182166\n"
     ]
    }
   ],
   "source": [
    "xall = np.concatenate(xall)\n",
    "yall = np.concatenate(yall)\n",
    "zall = np.concatenate(zall)\n",
    "iall = (xall > 0.1) * (xall < 1.5)\n",
    "print scipy.stats.pearsonr(xall, yall)[0]"
   ]
  },
  {
   "cell_type": "code",
   "execution_count": 173,
   "metadata": {
    "collapsed": false
   },
   "outputs": [
    {
     "name": "stdout",
     "output_type": "stream",
     "text": [
      "False\n",
      "False\n",
      "False\n"
     ]
    }
   ],
   "source": [
    "print np.isinf(xall).any()\n",
    "print np.isinf(yall).any()\n",
    "print np.isinf(xall / yall).any()"
   ]
  },
  {
   "cell_type": "code",
   "execution_count": 174,
   "metadata": {
    "collapsed": false
   },
   "outputs": [
    {
     "data": {
      "text/plain": [
       "array([ 1.143,  0.033])"
      ]
     },
     "execution_count": 174,
     "metadata": {},
     "output_type": "execute_result"
    }
   ],
   "source": [
    "np.round((np.mean((xall / yall)[np.isinf(xall / yall) == False]), np.std((xall / yall)[np.isinf(xall / yall) == False]) / np.sqrt(np.sum(np.isinf(xall / yall) == False)) * 1.96), 3)"
   ]
  },
  {
   "cell_type": "code",
   "execution_count": 175,
   "metadata": {
    "collapsed": false
   },
   "outputs": [
    {
     "name": "stdout",
     "output_type": "stream",
     "text": [
      "0.978035345138\n",
      "[ 1.17   0.029]\n"
     ]
    }
   ],
   "source": [
    "print scipy.stats.pearsonr(xall[iall], yall[iall])[0]\n",
    "print np.round((np.mean(xall[iall] / yall[iall]), np.std(xall[iall] / yall[iall]) / np.sqrt(len(xall[iall])) * 1.96), 3)"
   ]
  },
  {
   "cell_type": "code",
   "execution_count": 176,
   "metadata": {
    "collapsed": false
   },
   "outputs": [
    {
     "name": "stdout",
     "output_type": "stream",
     "text": [
      "0.972591722986\n",
      "[ 1.094  0.044]\n"
     ]
    }
   ],
   "source": [
    "print scipy.stats.pearsonr(zall, yall)[0]\n",
    "print np.round((np.mean(zall / yall), np.std(zall / yall) / np.sqrt(len(zall)) * 1.96), 3)"
   ]
  },
  {
   "cell_type": "code",
   "execution_count": 177,
   "metadata": {
    "collapsed": false
   },
   "outputs": [
    {
     "name": "stdout",
     "output_type": "stream",
     "text": [
      "0.974833750431\n",
      "[ 1.048  0.022]\n"
     ]
    }
   ],
   "source": [
    "print scipy.stats.pearsonr(zall[iall], yall[iall])[0]\n",
    "print np.round((np.mean(zall[iall] / yall[iall]), np.std(zall[iall] / yall[iall]) / np.sqrt(len(zall[iall])) * 1.96), 3)"
   ]
  },
  {
   "cell_type": "markdown",
   "metadata": {},
   "source": [
    "#References"
   ]
  },
  {
   "cell_type": "markdown",
   "metadata": {},
   "source": [
    "1. <a id=\"lui2014\"></a>Lui, X.S. (2014) *[Statistical power analysis for the social and behavioral sciences: basic and advanced techniques](http://roger.ucsd.edu/search~S9?/Xstatistical%20power&=&Da=&Db=&searchscope=9&p=&SORT=D/Xstatistical%20power&=&Da=&Db=&searchscope=9&p=&SORT=D&SUBKEY=statistical+power/1%2C861%2C861%2CE/frameset&FF=Xstatistical%20power&=&Da=&Db=&searchscope=9&p=&SORT=D&1%2C1%2C)*. New York: Routledge. 378 pg.\n",
    "2. <a id=\"zar1999\"></a>Zar, J.H. (1999) \"Multisample Hypothesis: The Analysis of Variance\". Ch. 10. *Biostatistical Analysis*. 4th Ed. Upper Saddle River: Prentice Hall.\n",
    "3. <a id=\"cohen\"></a>Cohen, J. (1991) \"[A Power Primer](https://thehubedu-production.s3.amazonaws.com/uploads/2522/a39eb8b3-385c-4db8-a4b4-0f5afe0c0af3/Cohen_1992_sample_size.pdf)\" *Psychology Bulletin*. **112**: 155-159. "
   ]
  },
  {
   "cell_type": "code",
   "execution_count": null,
   "metadata": {
    "collapsed": true
   },
   "outputs": [],
   "source": []
  }
 ],
 "metadata": {
  "kernelspec": {
   "display_name": "Python 2",
   "language": "python",
   "name": "python2"
  },
  "language_info": {
   "codemirror_mode": {
    "name": "ipython",
    "version": 2
   },
   "file_extension": ".py",
   "mimetype": "text/x-python",
   "name": "python",
   "nbconvert_exporter": "python",
   "pygments_lexer": "ipython2",
   "version": "2.7.3"
  }
 },
 "nbformat": 4,
 "nbformat_minor": 0
}
