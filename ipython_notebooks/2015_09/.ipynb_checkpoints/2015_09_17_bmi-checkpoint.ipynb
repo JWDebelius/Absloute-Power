{
 "cells": [
  {
   "cell_type": "code",
   "execution_count": 1,
   "metadata": {
    "collapsed": false
   },
   "outputs": [],
   "source": [
    "from __future__ import division\n",
    "\n",
    "import os\n",
    "import matplotlib.pyplot as plt\n",
    "import numpy as np\n",
    "import skbio\n",
    "import scipy.stats\n",
    "import statsmodels.api as sms\n",
    "import statsmodels.formula.api as smf\n",
    "\n",
    "import absloute_power.traditional as trad\n",
    "import absloute_power.utils as ap\n",
    "\n",
    "\n",
    "import pandas as pd\n",
    "import biom\n",
    "\n",
    "from skbio.stats.power import subsample_power\n",
    "\n",
    "from absloute_power.traditional import calc_ttest_1"
   ]
  },
  {
   "cell_type": "code",
   "execution_count": 2,
   "metadata": {
    "collapsed": false
   },
   "outputs": [
    {
     "name": "stdout",
     "output_type": "stream",
     "text": [
      "/Users/jwdebelius/Repositories/Absloute-Power/ipython_notebooks/2015_9\r\n"
     ]
    }
   ],
   "source": [
    "!pwd"
   ]
  },
  {
   "cell_type": "code",
   "execution_count": 3,
   "metadata": {
    "collapsed": true
   },
   "outputs": [],
   "source": [
    "base_dir = '/Users/jwdebelius/Repositories/Absloute-Power'\n",
    "data_dir = os.path.join(base_dir, 'data/yatsunenko')\n",
    "map_fp = os.path.join(data_dir, 'GG_100nt_even1k.txt')\n",
    "otu_fp = os.path.join(data_dir, 'GG_100nt_even1k.biom')\n",
    "uud_fp = os.path.join(data_dir, '1k/unweighted_unifrac_dm.txt')"
   ]
  },
  {
   "cell_type": "code",
   "execution_count": 4,
   "metadata": {
    "collapsed": false
   },
   "outputs": [],
   "source": [
    "map_ = pd.read_csv(map_fp, sep='\\t', dtype=str)\n",
    "map_.set_index('#SampleID', inplace=True)\n",
    "uud = skbio.DistanceMatrix.read(uud_fp)"
   ]
  },
  {
   "cell_type": "code",
   "execution_count": 5,
   "metadata": {
    "collapsed": false
   },
   "outputs": [
    {
     "data": {
      "text/plain": [
       "Index([u'BarcodeSequence', u'LinkerPrimerSequence', u'LAB_PERSON_CONTACT',\n",
       "       u'TARGET_SUBFRAGMENT', u'ASSIGNED_FROM_GEO', u'LAB_PERSON',\n",
       "       u'EXPERIMENT_CENTER', u'TITLE', u'RUN_PREFIX', u'AGE', u'AGE_CAT',\n",
       "       u'INVESTIGATION_TYPE', u'HOST_COMMON_NAME', u'DEPTH', u'HOST_TAXID',\n",
       "       u'SUBMIT_TO_INSDC', u'COMMON_NAME', u'INCLUDES_TIMESERIES',\n",
       "       u'LONGITUDE', u'BODY_SITE', u'PROJECT_NAME', u'ELEVATION', u'RUN_DATE',\n",
       "       u'SEQUENCING_METH', u'COLLECTION_DATE', u'ALTITUDE', u'RUN_LANE',\n",
       "       u'ENV_BIOME', u'SEX', u'PLATFORM', u'FAMILY_RELATIONSHIP',\n",
       "       u'STUDY_CENTER', u'COUNTRY', u'FLXDATA_PUBLISHED', u'STUDY_TITLE',\n",
       "       u'STUDY_ALIAS', u'HOST_SUBJECT_ID', u'ANONYMIZED_NAME', u'TAXON_ID',\n",
       "       u'SAMPLE_CENTER', u'NEWILLUMINADATAGENERATED',\n",
       "       u'PRINCIPAL_INVESTIGATOR', u'STUDY_DESCRIPTION', u'PUBLICATION_ALIAS',\n",
       "       u'AGE_UNIT', u'MIENS_COMPLIANT', u'STUDY_ID',\n",
       "       u'EXPERIMENT_DESIGN_DESCRIPTION', u'Description_duplicate',\n",
       "       u'BODY_HABITAT', u'RUN', u'STUDY_ABSTRACT', u'ENV_MATTER',\n",
       "       u'TARGET_GENE', u'ENV_FEATURE', u'KEY_SEQ', u'BODY_PRODUCT',\n",
       "       u'AGE_IN_YEARS', u'RUN_CENTER', u'PCR_PRIMERS',\n",
       "       u'LIBRARY_CONSTRUCTION_PROTOCOL', u'LATITUDE', u'PMID', u'REGION',\n",
       "       u'SAMP_SIZE', u'Description'],\n",
       "      dtype='object')"
      ]
     },
     "execution_count": 5,
     "metadata": {},
     "output_type": "execute_result"
    }
   ],
   "source": [
    "map_.columns"
   ]
  },
  {
   "cell_type": "code",
   "execution_count": 6,
   "metadata": {
    "collapsed": true
   },
   "outputs": [],
   "source": [
    "def test_beta_permanova(ids, meta, dm, cat, num_iter=499):\n",
    "    \"\"\"Tests difference in beta diversity for a category and distance matrix\"\"\"\n",
    "    # Gets the map and distance matrix subset\n",
    "    all_ids = np.hstack(ids)\n",
    "    # Calculates the permanova\n",
    "    perma_results = skbio.stats.distance.permanova(dm.filter(all_ids), \n",
    "                                                   meta.loc[all_ids],\n",
    "                                                   cat,\n",
    "                                                   num_iter)\n",
    "    # Returns the p value\n",
    "    return perma_results['p-value']"
   ]
  },
  {
   "cell_type": "code",
   "execution_count": 7,
   "metadata": {
    "collapsed": false
   },
   "outputs": [
    {
     "data": {
      "text/plain": [
       "AGE_CAT\n",
       "adult    223\n",
       "baby     137\n",
       "child     59\n",
       "teen     109\n",
       "dtype: int64"
      ]
     },
     "execution_count": 7,
     "metadata": {},
     "output_type": "execute_result"
    }
   ],
   "source": [
    "map_.groupby('AGE_CAT').count().max(1)"
   ]
  },
  {
   "cell_type": "code",
   "execution_count": 8,
   "metadata": {
    "collapsed": true
   },
   "outputs": [],
   "source": [
    "age_test = lambda x: test_beta_permanova(x, map_, uud, 'AGE_CAT')"
   ]
  },
  {
   "cell_type": "code",
   "execution_count": 9,
   "metadata": {
    "collapsed": true
   },
   "outputs": [],
   "source": [
    "baby_ids = [map_.loc[map_.AGE_CAT.apply(lambda x: x in y)].index for y in {'baby', 'adult'}]\n",
    "child_ids = [map_.loc[map_.AGE_CAT.apply(lambda x: x in y)].index for y in {'child', 'adult'}]\n",
    "teen_ids = [map_.loc[map_.AGE_CAT.apply(lambda x: x in y)].index for y in {'teen', 'adult'}]"
   ]
  },
  {
   "cell_type": "code",
   "execution_count": 106,
   "metadata": {
    "collapsed": false
   },
   "outputs": [
    {
     "data": {
      "text/plain": [
       "0.002"
      ]
     },
     "execution_count": 106,
     "metadata": {},
     "output_type": "execute_result"
    }
   ],
   "source": [
    "age_test(ids)"
   ]
  },
  {
   "cell_type": "code",
   "execution_count": null,
   "metadata": {
    "collapsed": false
   },
   "outputs": [],
   "source": [
    "baby_power, baby_counts = subsample_power(age_test, baby_ids, min_counts=3, max_counts=15, counts_interval=1)\n",
    "child_power, child_counts = subsample_power(age_test, child_ids, min_counts=10, max_counts=100, counts_interval=10)\n",
    "teen_power, teen_counts = subsample_power(age_test, teen_ids, min_counts=10, max_counts=100, counts_interval=10)"
   ]
  },
  {
   "cell_type": "markdown",
   "metadata": {},
   "source": [
    "### ids"
   ]
  },
  {
   "cell_type": "code",
   "execution_count": 80,
   "metadata": {
    "collapsed": false
   },
   "outputs": [
    {
     "data": {
      "text/plain": [
       "array([3, 4, 5, 6, 7])"
      ]
     },
     "execution_count": 80,
     "metadata": {},
     "output_type": "execute_result"
    }
   ],
   "source": [
    "counts[:5]"
   ]
  },
  {
   "cell_type": "code",
   "execution_count": 108,
   "metadata": {
    "collapsed": false
   },
   "outputs": [],
   "source": [
    "baby_eff = ap.z_effect(baby_counts[1:], baby_power[:, 1:]).mean()\n",
    "baby_sem = ap.z_effect(baby_counts[1:], baby_power[:, 1:]).std() / np.sqrt(np.prod(baby_power[:, :5].shape))"
   ]
  },
  {
   "cell_type": "code",
   "execution_count": 116,
   "metadata": {
    "collapsed": false
   },
   "outputs": [],
   "source": [
    "child_eff = ap.z_effect(child_counts[1:], child_power[:, 1:]).mean()\n",
    "child_sem = ap.z_effect(child_counts[1:], child_power[:, 1:]).std() / np.sqrt(np.prod(child_power[:, :5].shape))"
   ]
  },
  {
   "cell_type": "code",
   "execution_count": 118,
   "metadata": {
    "collapsed": false
   },
   "outputs": [
    {
     "data": {
      "text/plain": [
       "[<matplotlib.lines.Line2D at 0x10feb72d0>]"
      ]
     },
     "execution_count": 118,
     "metadata": {},
     "output_type": "execute_result"
    },
    {
     "data": {
      "image/png": "[encoded data removed]",
      "text/plain": [
       "<matplotlib.figure.Figure at 0x10ff34410>"
      ]
     },
     "metadata": {},
     "output_type": "display_data"
    }
   ],
   "source": [
    "%matplotlib inline\n",
    "plt.plot(baby_counts, baby_power.mean(0), 'bo-')\n",
    "plt.plot(child_counts, child_power.mean(0), 'go-')\n",
    "# plt.plot(np.arange(1, 15, 0.5), ap.z_power(np.arange(1, 15, 0.5), baby_eff))\n",
    "# plt.fill_between(np.arange(1, 15, 0.5), \n",
    "#                  ap.z_power(np.arange(1, 15, 0.5), baby_eff - baby_sem),\n",
    "#                  ap.z_power(np.arange(1, 15, 0.5), baby_eff + baby_sem))"
   ]
  },
  {
   "cell_type": "code",
   "execution_count": null,
   "metadata": {
    "collapsed": true
   },
   "outputs": [],
   "source": []
  }
 ],
 "metadata": {
  "kernelspec": {
   "display_name": "Python 2",
   "language": "python",
   "name": "python2"
  },
  "language_info": {
   "codemirror_mode": {
    "name": "ipython",
    "version": 2
   },
   "file_extension": ".py",
   "mimetype": "text/x-python",
   "name": "python",
   "nbconvert_exporter": "python",
   "pygments_lexer": "ipython2",
   "version": "2.7.3"
  }
 },
 "nbformat": 4,
 "nbformat_minor": 0
}
