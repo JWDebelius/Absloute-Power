{
 "cells": [
  {
   "cell_type": "markdown",
   "metadata": {},
   "source": [
    "**Author**: J W Debelius<br/>\n",
    "**Date**: 27 August 2015<br/>\n",
    "**virtualenv**: power play"
   ]
  },
  {
   "cell_type": "raw",
   "metadata": {
    "collapsed": false
   },
   "source": [
    "%%javascript\n",
    "IPython.load_extensions('calico-spell-check', 'calico-document-tools')"
   ]
  },
  {
   "cell_type": "markdown",
   "metadata": {},
   "source": [
    "# 1. Introduction"
   ]
  },
  {
   "cell_type": "code",
   "execution_count": null,
   "metadata": {
    "collapsed": true
   },
   "outputs": [],
   "source": [
    "from __future__ import division\n",
    "\n",
    "import matplotlib.pyplot as plt\n",
    "import numpy as np\n",
    "import scipy.stats\n",
    "import statsmodels.api as sms\n",
    "import statsmodels.formula.api as smf\n",
    "\n",
    "import absloute_power.traditional as trad\n",
    "import absloute_power.utils as ap\n",
    "\n",
    "from scipy.stats import norm as Z\n",
    "\n",
    "import americangut.power_plots as pp\n",
    "\n",
    "import pandas as pd\n",
    "\n",
    "from skbio.stats.power import subsample_power\n",
    "\n",
    "from absloute_power.traditional import calc_ttest_ind"
   ]
  },
  {
   "cell_type": "code",
   "execution_count": null,
   "metadata": {
    "collapsed": false
   },
   "outputs": [],
   "source": [
    "from matplotlib import rcParams\n",
    "\n",
    "\n",
    "\n",
    "# Sets up plotting parameters so that the default setting is use to Helvetica\n",
    "# in plots\n",
    "rcParams['font.family'] = 'sans-serif'\n",
    "rcParams['font.sans-serif'] = ['Helvetica', 'Arial']\n",
    "rcParams['text.usetex'] = True\n",
    "\n",
    "% matplotlib inline"
   ]
  },
  {
   "cell_type": "markdown",
   "metadata": {},
   "source": [
    "We'll examine five common, simple statistical models where the power equation has been defined and employed. The emperical power implementations are based on the version described in [ref].\n",
    "\n",
    "We will examine statistical power for three tests dealing with normal distributions:\n",
    "\n",
    "* Case I t test\n",
    "* Case II (independent) t test\n",
    "* One way Analysis of Variance (ANOVA)\n",
    "* Pearson's R\n",
    "* Chi-Square\n",
    "\n",
    "We will perform 100 simulations of statistical power, comparing the power between 5 and 50 counts, with 5 observation intervals between. We'll set the critical value at 0.05."
   ]
  },
  {
   "cell_type": "code",
   "execution_count": null,
   "metadata": {
    "collapsed": false
   },
   "outputs": [],
   "source": [
    "num_rounds = 100\n",
    "counts = np.arange(5, 65, 10)\n",
    "alpha = 0.05\n",
    "distributions = {}"
   ]
  },
  {
   "cell_type": "markdown",
   "metadata": {},
   "source": [
    "We'll also set a random seed, so that the results we get out are consistent."
   ]
  },
  {
   "cell_type": "markdown",
   "metadata": {},
   "source": [
    "# 2. Case I Test"
   ]
  },
  {
   "cell_type": "markdown",
   "metadata": {},
   "source": [
    "A case I t-test checks if an observation is drawn from a sample. We are testing the alternatively hypotheses,\n",
    "\n",
    "$\\begin{matrix}\n",
    "\\textbf{H}_{0} & x = \\bar{x} \\\\\n",
    "\\textbf{H}_{1} & x \\neq \\bar{x}\\\\\n",
    "\\end{matrix} \\tag{2.1}$\n",
    "\n",
    "where $\\bar{x}$ is the mean of the population, $x$ is the value being compared to the sample, $s$ is the standard devation of the sample, and there are $n$ observations in the sample."
   ]
  },
  {
   "cell_type": "markdown",
   "metadata": {},
   "source": [
    "## 2.1 Test Statistic"
   ]
  },
  {
   "cell_type": "markdown",
   "metadata": {},
   "source": [
    "The test statistic for the case I t test is given as\n",
    "$t = \\frac{(\\bar{x} - x)\\sqrt{n}}{s} \\tag{2.2}$\n",
    "The probability distribution follows a T distribution with $n-1$ degrees of freedom, where $n$ is the number of observations in the sample.\n",
    "\n",
    "\n",
    "For the emperical test, we will use the `scipy.stats.ttest_1samp` function, which returns a p value."
   ]
  },
  {
   "cell_type": "code",
   "execution_count": null,
   "metadata": {
    "collapsed": false
   },
   "outputs": [],
   "source": [
    "def emp_ttest_ind(sample1, sample2):\n",
    "    return scipy.stats.ttest_ind(sample1, sample2)[1]"
   ]
  },
  {
   "cell_type": "markdown",
   "metadata": {},
   "source": [
    "## 2.2 Nonparametric Test"
   ]
  },
  {
   "cell_type": "code",
   "execution_count": null,
   "metadata": {
    "collapsed": true
   },
   "outputs": [],
   "source": [
    "def emp_ttest_ind_nonpar(sample1, sample2):\n",
    "    return scipy.stats.mannwhitneyu(sample1, sample2)[1]"
   ]
  },
  {
   "cell_type": "markdown",
   "metadata": {},
   "source": [
    "## 2.3 Effect Size"
   ]
  },
  {
   "cell_type": "markdown",
   "metadata": {},
   "source": [
    "The effect size for a one-sample t test is Cohen's d, given by equation (2.3).\n",
    "$\\begin{align*}\n",
    "d = \\frac{\\bar{x} - x_{0}}{s}\n",
    "\\end{align*}\\tag{2.3}$\n",
    "For a two-tailed test, we can treat this as an absloute magnitude, and then test $t > (1 - \\alpha/2)$."
   ]
  },
  {
   "cell_type": "code",
   "execution_count": null,
   "metadata": {
    "collapsed": true
   },
   "outputs": [],
   "source": [
    "def cohen_ttest_ind(sample1, sample2):\n",
    "    x1, s1, n1 = sample1.mean(), sample1.std(), len(sample1)\n",
    "    x2, s2, n2 = sample2.mean(), sample2.std(), len(sample2)\n",
    "    \n",
    "    spool = np.sqrt(((n1-1) * np.square(s1) + (n2 - 1) * np.square(s2)) / (n1 + n2 - 2))\n",
    "    return np.absolute(x1 - x2) / spool"
   ]
  },
  {
   "cell_type": "markdown",
   "metadata": {},
   "source": [
    "## 2.5 Simulation Parameters"
   ]
  },
  {
   "cell_type": "markdown",
   "metadata": {},
   "source": [
    "We'll test the set of hypotheses,\n",
    "\n",
    "$\\begin{matrix}\n",
    "\\textbf{H}_{0} & 0 = \\bar{x} \\\\\n",
    "\\textbf{H}_{1} & 0 \\neq \\bar{x}\\\\\n",
    "\\end{matrix} \\tag{2.5}$\n",
    "\n",
    "where $\\bar{x}$ is the mean of a sample drawn from a population.\n",
    "\n",
    "We'll test the means between 2 and 10 with standard deviations between 5 and 15, and sample sizes between 60 and 100 observations."
   ]
  },
  {
   "cell_type": "code",
   "execution_count": null,
   "metadata": {
    "collapsed": false
   },
   "outputs": [],
   "source": [
    "def ttest_ind_simulate(mu_lim, sigma_lim, count_lims, bench_lims, diff_lim):\n",
    "    # Gets the distribution parameters\n",
    "    mu = np.random.uniform(*mu_lim, size=2)\n",
    "    offset = np.random.uniform(*diff_lim)\n",
    "    sigma = np.random.uniform(*sigma_lim, size=2)\n",
    "    n = np.random.randint(*count_lims)\n",
    "    m = np.random.randint(*bench_lims)\n",
    "    \n",
    "    #     Draws a sample that fits the parameters\n",
    "    sample1 = np.hstack((np.random.normal(mu[0], sigma[0], n - m), \n",
    "                         np.random.normal(mu[1], sigma[1], m)))\n",
    "    sample2 = np.hstack((np.random.normal(mu[0], sigma[0], n - m), \n",
    "                         np.random.normal(mu[1], sigma[1], m))) + offset\n",
    "\n",
    "    return [mu, sigma, offset, n, m], [sample1, sample2]"
   ]
  },
  {
   "cell_type": "code",
   "execution_count": null,
   "metadata": {
    "collapsed": false
   },
   "outputs": [],
   "source": [
    "distributions['ttest_ind'] = {'emp_test_fun': emp_ttest_ind,\n",
    "                            'non_test_fun': emp_ttest_ind_nonpar,\n",
    "                            'trad_test_fun': calc_ttest_ind,\n",
    "                            'sim_function': ttest_ind_simulate,\n",
    "                            'sim_parameters': [[1, 6.], [1., 5.], [125., 126.]],\n",
    "                            'other_sim_parameters': {'bench_lims': [25, 75], 'diff_lim': [0.5, 7.5]},\n",
    "                            'test_parameters': {},\n",
    "                            'emp_parameters': {},\n",
    "                            'effect_size': cohen_ttest_ind,\n",
    "                             }"
   ]
  },
  {
   "cell_type": "markdown",
   "metadata": {},
   "source": [
    "# 6. Building Simulations"
   ]
  },
  {
   "cell_type": "markdown",
   "metadata": {},
   "source": [
    "We will now build the simulations and look at the results."
   ]
  },
  {
   "cell_type": "code",
   "execution_count": null,
   "metadata": {
    "collapsed": false
   },
   "outputs": [],
   "source": [
    "num_rounds"
   ]
  },
  {
   "cell_type": "code",
   "execution_count": null,
   "metadata": {
    "collapsed": true
   },
   "outputs": [],
   "source": [
    "%%time\n",
    "\n",
    "# for k, params in distributions.iteritems():\n",
    "for k, params in [('ttest_ind', distributions['ttest_ind'])]:\n",
    "    params['pop_params'] = []\n",
    "    params['sample'] = []\n",
    "    params['effs'] = []\n",
    "    params['test'] = []\n",
    "    params['trad'] = []\n",
    "    params['empp'] = []\n",
    "    params['empn'] = []\n",
    "    params['extp'] = []\n",
    "    params['extn'] = []\n",
    "    \n",
    "    for i in xrange(10):\n",
    "        # Calculates the samples\n",
    "        pop_params, samples = params['sim_function'](*params['sim_parameters'], **params['other_sim_parameters'])\n",
    "        params['pop_params'].append(pop_params)\n",
    "       \n",
    "        # Calculates the traditional power\n",
    "        test_power = params['trad_test_fun'](*samples, counts=counts, **params['test_parameters'])\n",
    "        params['test'].append(test_power)\n",
    "        \n",
    "        # Calculates Cohen's effect\n",
    "        if 'effect_size' in params:\n",
    "            cohen_eff = params['effect_size'](*samples)\n",
    "        else:\n",
    "            cohen_eff = None\n",
    "        \n",
    "        # Extrapolates the effect from the test\n",
    "        test_eff = ap.z_effect(counts, test_power)\n",
    "        \n",
    "        trad_power = ap.z_power(counts, test_eff.mean())\n",
    "        params['trad'].append(trad_power)\n",
    "        \n",
    "         # Calculates the emprical power using a nonparametric test\n",
    "        nempr_power, nempr_counts = subsample_power(lambda x: params['non_test_fun'](*x, **params['test_parameters']),\n",
    "                                                  samples,\n",
    "                                                  min_counts=5,\n",
    "                                                  max_counts=65,\n",
    "                                                  counts_interval=10,\n",
    "                                                  num_runs=5,\n",
    "                                                  num_iter=1000)\n",
    "        # Calculates the nonparametric effect\n",
    "        nonp_eff = ap.z_effect(nempr_counts, nempr_power)\n",
    "        next_power = ap.z_power(counts, nonp_eff.mean())\n",
    "        params['empn'].append(nempr_power)\n",
    "        params['extn'].append(next_power)    \n",
    "\n",
    "        # Updates the information\n",
    "        params['effs'].append([cohen_eff, test_eff, nonp_eff])\n",
    "        \n",
    "    distributions[k] = params\n",
    "    print k"
   ]
  },
  {
   "cell_type": "code",
   "execution_count": null,
   "metadata": {
    "collapsed": false
   },
   "outputs": [],
   "source": [
    "# fig1 = plt.figure()\n",
    "# fig1.set_size_inches((4, 4))\n",
    "\n",
    "samples = params['sample']\n",
    "\n",
    "effs = params['effs']\n",
    "\n",
    "test = np.vstack(params['test'])\n",
    "trad = np.vstack(params['trad'])\n",
    "empn = np.vstack([d.mean(0) for d in params['empn']])\n",
    "emps = np.vstack([d.std(0) / np.sqrt(len(d)) * scipy.stats.t.ppf(0.975, len(d) - 1) \n",
    "                  for d in params['empn']])\n",
    "extn = np.vstack(params['extn'])\n",
    "extp = np.vstack(params['extp'])"
   ]
  },
  {
   "cell_type": "code",
   "execution_count": null,
   "metadata": {
    "collapsed": false
   },
   "outputs": [],
   "source": [
    "cohen_d = np.hstack(zip(*effs)[0])\n",
    "print cohen_d.min()\n",
    "print cohen_d.max()"
   ]
  },
  {
   "cell_type": "code",
   "execution_count": null,
   "metadata": {
    "collapsed": true
   },
   "outputs": [],
   "source": [
    "from matplotlib import cm\n",
    "\n",
    "means = np.array([np.mean(e) for e in zip(*effs)[2]])\n",
    "means_order = np.argsort(means)\n",
    "\n",
    "num_colors=len(means_order) # cats is a vector of the number of groups\n",
    "blues = cm.get_cmap('Blues') # Colormap name\n",
    "greens = cm.get_cmap('Greens')\n",
    "reds = cm.get_cmap('Reds')\n",
    "purples = cm.get_cmap('Purples')\n",
    "new_blues = np.array([list(blues((1.*i)/(num_colors))) for i in xrange(num_colors)])\n",
    "new_green = np.array([list(greens((1.*i)/(num_colors))) for i in xrange(num_colors)])\n",
    "new_reds = np.array([list(reds((1.*i)/(num_colors))) for i in xrange(num_colors)])\n",
    "new_purples = np.array([list(purples((1.*i)/(num_colors))) for i in xrange(num_colors)])"
   ]
  },
  {
   "cell_type": "code",
   "execution_count": null,
   "metadata": {
    "collapsed": true
   },
   "outputs": [],
   "source": [
    "# new_blues = [[0.5, 0.5, 0.5]] * num_colors\n",
    "# new_green = [[0.5, 0.5, 0.5]] * num_colors\n",
    "# new_reds = [[0.5, 0.5, 0.5]] * num_colors\n",
    "# new_purples = [[0.5, 0.5, 0.5]] * num_colors"
   ]
  },
  {
   "cell_type": "code",
   "execution_count": null,
   "metadata": {
    "collapsed": false
   },
   "outputs": [],
   "source": [
    "test[0]"
   ]
  },
  {
   "cell_type": "code",
   "execution_count": null,
   "metadata": {
    "collapsed": false
   },
   "outputs": [],
   "source": [
    "empn.shape"
   ]
  },
  {
   "cell_type": "code",
   "execution_count": null,
   "metadata": {
    "collapsed": true
   },
   "outputs": [],
   "source": []
  },
  {
   "cell_type": "code",
   "execution_count": null,
   "metadata": {
    "collapsed": false
   },
   "outputs": [],
   "source": [
    "fig = plt.figure()\n",
    "\n",
    "ax2 = fig.add_subplot(2, 2, 1)\n",
    "ax3 = fig.add_subplot(2, 2, 2)\n",
    "ax6 = fig.add_subplot(2, 2, 3)\n",
    "ax7 = fig.add_subplot(2, 2, 4)\n",
    "\n",
    "\n",
    "# ax5.fill_between([0, 1], [-0.15, -0.15], [0.15, 0.15], color=[0.75, 0.75, 0.75], alpha=0.5)\n",
    "ax6.fill_between([0, 1], [-0.15, -0.15], [0.15, 0.15], color=[0.75, 0.75, 0.75], alpha=0.5)\n",
    "ax7.fill_between([0, 1], [-0.15, -0.15], [0.15, 0.15], color=[0.75, 0.75, 0.75], alpha=0.5)\n",
    "# ax8.fill_between([0, 1], [-0.15, -0.15], [0.15, 0.15], color=[0.75, 0.75, 0.75], alpha=0.5)\n",
    "\n",
    "\n",
    "\n",
    "# for idx in xrange(len(means_order)):\n",
    "for idx in xrange(100):\n",
    "    loc = means_order[idx]\n",
    "    cohen_eff, test_eff, nonp_eff, nonf_eff, parz_eff, parf_eff = effs[idx] \n",
    "    # Sets up the power based on the traditional effect\n",
    "    \n",
    "#     # Sets up the power based on the emprical nonparametric test\n",
    "    ax2.errorbar(test[idx], empn[idx], emps[idx], \n",
    "                 linestyle='none', color=new_reds[loc]\n",
    "                 )\n",
    "    ax2.plot(test[idx], empn[idx], 'o', mfc='none', mec=new_reds[loc])\n",
    "    ax6.errorbar(test[idx],\n",
    "                 (empn[idx] - test[idx]) / test[idx],\n",
    "                 emps[idx] / test[idx],\n",
    "                 linestyle='none', color=new_reds[idx]\n",
    "                )\n",
    "    ax6.plot(test[idx], (empn[idx] - test[idx]) / test[idx], 'o', mfc='none', mec=new_reds[idx])\n",
    "    \n",
    "    # Sets up the power based on the extrapolated nonparametric test\n",
    "    n_pwr = np.array([ap.z_power(counts, e) for e in nonp_eff])\n",
    "    ax3.errorbar(test[idx], n_pwr.mean(0), \n",
    "                 n_pwr.std(0) / np.sqrt(len(nonp_eff)) * scipy.stats.t.ppf(0.975, len(nonp_eff)-1),\n",
    "                 linestyle='none', color=new_blues[loc])\n",
    "    ax3.plot(test[idx], n_pwr.mean(0), 'o', mfc='none', mec=new_blues[loc])\n",
    "    ax7.errorbar(test[idx], (n_pwr.mean(0) - test[idx]) / test[idx],\n",
    "                 n_pwr.std(0) / np.sqrt(len(nonp_eff)) * scipy.stats.t.ppf(0.975, len(nonp_eff)-1),\n",
    "                 linestyle='none', color=new_blues[loc]\n",
    "                 )\n",
    "    ax7.plot(test[idx], (n_pwr.mean(0) - test[idx])/test[idx], 'o', mfc='none', mec=new_blues[loc])\n",
    "    \n",
    "for i, ax in enumerate(fig.axes):\n",
    "    ax.set_xticks(np.arange(0, 1.1, 0.25))\n",
    "    ax.yaxis.set_ticks_position('left')\n",
    "    ax.xaxis.set_ticks_position('bottom')\n",
    "    ax.get_xaxis().set_tick_params(direction='out')\n",
    "    ax.get_yaxis().set_tick_params(direction='out')\n",
    "    ax.spines['right'].set_visible(False)\n",
    "    ax.spines['top'].set_visible(False)\n",
    "    if i < 2:\n",
    "        ax.set_yticks(np.arange(0, 1.1, 0.25))\n",
    "        ax.set_yticklabels('')\n",
    "        ax.set_xticklabels('')\n",
    "        ax.plot([0, 1], [0, 1], 'k-', linewidth=0.5)\n",
    "    else:\n",
    "        ax.set_ylim([-1.5, 1.5])\n",
    "        ax.set_yticks(np.arange(-1.5, 1.6, 0.5))\n",
    "        ax.set_yticklabels('')\n",
    "        ax.set_xticklabels(np.arange(0, 1.1, 0.25), size=11)\n",
    "        ax.plot([0, 1], [0, 0], 'k-', linewidth=0.5)\n",
    "        \n",
    "ax2.set_yticklabels(np.arange(0, 1.1, 0.25), size=11)\n",
    "ax6.set_yticklabels(np.arange(-1.5, 1.6, 0.5), size=11)\n",
    "# ax5.set_yticklabels(np.arange(-1, 1.1, 0.5), size=11)\n",
    "\n",
    "l = ax6.set_xlabel('Parametric power', size=12)\n",
    "l.set_position((1.1, 0.5))\n",
    "ax2.set_ylabel('Nonparametric Power', size=12)\n",
    "ax6.set_ylabel('Relative Difference', size=12)\n",
    "\n",
    "ax2.set_title('Emprical Power', size=12)\n",
    "ax3.set_title('Extrapolated Power', size=12)\n",
    "\n",
    "fig.set_size_inches((4, 4))\n"
   ]
  },
  {
   "cell_type": "code",
   "execution_count": null,
   "metadata": {
    "collapsed": false
   },
   "outputs": [],
   "source": [
    "nonpara = [(x.mean(), x.std(), len(x)) for x in zip(*effs)[2]]"
   ]
  },
  {
   "cell_type": "code",
   "execution_count": null,
   "metadata": {
    "collapsed": false
   },
   "outputs": [],
   "source": [
    "plt.plot(zip(*effs)[0], zip(*nonpara)[0], 'o')"
   ]
  },
  {
   "cell_type": "code",
   "execution_count": null,
   "metadata": {
    "collapsed": true
   },
   "outputs": [],
   "source": [
    "d = np.array(zip(*effs)[0])\n",
    "e = np.array(zip(*nonpara)[0])"
   ]
  },
  {
   "cell_type": "code",
   "execution_count": null,
   "metadata": {
    "collapsed": false
   },
   "outputs": [],
   "source": [
    "idx = 0\n",
    "e[idx], d[idx]"
   ]
  },
  {
   "cell_type": "code",
   "execution_count": null,
   "metadata": {
    "collapsed": false
   },
   "outputs": [],
   "source": [
    "\n",
    "plt.plot(np.array(zip(*effs)[0]), empn[:, 1], 'o')\n",
    "for idx in xrange(len(effs)):\n",
    "    if ((e[idx]/d[idx] > 1.5) or (d[idx] / e[idx] > 1.5)) and ((d[idx] > 0.15) and (e[idx] > 0.15)):\n",
    "        plt.plot(d[idx], empn[idx, 1], 'go')\n",
    "plt.plot(np.array(zip(*nonpara)[0]), empn[:, 1], 'r.')"
   ]
  },
  {
   "cell_type": "code",
   "execution_count": null,
   "metadata": {
    "collapsed": false,
    "scrolled": false
   },
   "outputs": [],
   "source": [
    "\n",
    "for idx in xrange(len(effs)):\n",
    "    if ((e[idx]/d[idx] > 1.5) or (d[idx] / e[idx] > 1.5)) and ((d[idx] > 0.1) and (e[idx] > 0.1)):\n",
    "        s1, s2 = distributions['ttest_ind']['sample'][idx]\n",
    "        d1, d2 = distributions['ttest_ind']['pop_params'][idx][1]\n",
    "        \n",
    "\n",
    "        print '%i\\t%1.3f\\t%1.3f\\t%1.3f\\t%1.3f\\t%1.1e\\t%1.1e\\t%1.1f\\t%1.1f' % (idx, d[idx], empn[idx, 1], e[idx], e[idx]/d[idx], emp_ttest_ind_nonpar(s1, s2), emp_ttest_ind(s1, s2), d1, d2)\n",
    "\n",
    "\n",
    "        fig = plt.figure()\n",
    "        fig.set_size_inches((12, 4))\n",
    "        ax1 = fig.add_subplot(2, 2, 1)\n",
    "        ax2 = fig.add_subplot(2, 2, 3)\n",
    "        ax3 = fig.add_subplot(1, 2, 2)\n",
    "\n",
    "        s1, s2 = distributions['ttest_ind']['sample'][idx]\n",
    "        xbar1, std1 = s1.mean(), s1.std()\n",
    "        xabr2, std2 = s2.mean(), s2.std()\n",
    "        # [shapes, diffs, scales, ns, ms] = distributions['ttest_ind']['pop_params'][idx]\n",
    "\n",
    "        ax1.hist(s1, np.arange(0, 75, 2.5), facecolor='none', normed=True)\n",
    "        ax1.plot(np.arange(0, 75, 1), scipy.stats.norm.pdf(np.arange(0, 75, 1), s1.mean(), s1.std()), 'r-')\n",
    "\n",
    "        ax2.hist(s2, np.arange(0, 75, 2.5), facecolor='none', normed=True)\n",
    "        ax2.plot(np.arange(0, 75, 1), scipy.stats.norm.pdf(np.arange(0, 75, 1), s1.mean(), s1.std()), 'r-')\n",
    "\n",
    "        ax3.plot(test[idx], empn[idx], 'o')\n",
    "        ax3.plot(test[idx], extn[idx], 's')\n",
    "        ax3.plot([0, 1], [0, 1], 'k-')\n",
    "        \n",
    "        fig.savefig('/Users/jwdebelius/Desktop/power_check/%i.png' % idx)\n",
    "        plt.close(fig)"
   ]
  },
  {
   "cell_type": "code",
   "execution_count": null,
   "metadata": {
    "collapsed": false
   },
   "outputs": [],
   "source": [
    "[shapes, diffs, scales, ns, ms] = distributions['ttest_ind']['pop_params'][idx]"
   ]
  },
  {
   "cell_type": "code",
   "execution_count": null,
   "metadata": {
    "collapsed": true
   },
   "outputs": [],
   "source": [
    "sample1 = np.hstack((np.random.gamma(shapes[0], scales[0], ns[0] - ms[0]), \n",
    "                         np.random.gamma(shapes[0] + diffs[0], scales[1], ms[0])))\n",
    "    sample2 = np.hstack((np.random.gamma(shapes[1], scales[2], ns[1] - ms[1]), \n",
    "                         np.random.gamma(shapes[1] + diffs[1], scales[3], ms[1])))"
   ]
  },
  {
   "cell_type": "code",
   "execution_count": null,
   "metadata": {
    "collapsed": false
   },
   "outputs": [],
   "source": [
    "distributions['ttest_ind'].keys()"
   ]
  },
  {
   "cell_type": "code",
   "execution_count": null,
   "metadata": {
    "collapsed": false
   },
   "outputs": [],
   "source": [
    "#     ax5.plot(distributions['ttest_1']['test'][idx],\n",
    "#              (-distributions['ttest_1']['test'][idx] +\n",
    "#               distributions['ttest_1']['trad'][idx]) /\n",
    "#              distributions['ttest_1']['test'][idx],\n",
    "#             '.', color=new_green[loc])\n",
    "#     ax1.set_axis_bgcolor('k')\n",
    "#     ax2.plot(distributions['ttest_1']['test'][idx],\n",
    "#              np.mean(distributions['ttest_1']['empn'][idx], 0),\n",
    "#              '.', color=new_blues[loc])\n",
    "# #     ax2.set_axis_bgcolor('k')\n",
    "#     ax6.plot(distributions['ttest_1']['test'][idx],\n",
    "#              (-distributions['ttest_1']['test'][idx] +\n",
    "#               np.mean(distributions['ttest_1']['empn'][idx], 0)) /\n",
    "#              distributions['ttest_1']['test'][idx],\n",
    "#             '.', color=new_blues[loc])\n",
    "    \n",
    "#     ax3.plot(distributions['ttest_1']['test'][idx],\n",
    "#              distributions['ttest_1']['extn'][idx],\n",
    "#              '.', color=new_reds[loc])\n",
    "    \n",
    "#     ax7.plot(distributions['ttest_1']['test'][idx],\n",
    "#              (-distributions['ttest_1']['test'][idx] +\n",
    "#               distributions['ttest_1']['extn'][idx]) /\n",
    "#              distributions['ttest_1']['test'][idx],\n",
    "#             '.', color=new_reds[loc])\n",
    "    \n",
    "# # #     ax3.set_axis_bgcolor('k')\n",
    "#     ax4.plot(distributions['ttest_1']['extn'][idx],\n",
    "#              np.mean(distributions['ttest_1']['empn'][idx], 0),\n",
    "#              '.', color=new_purples[loc])\n",
    "    \n",
    "#     ax8.plot(distributions['ttest_1']['extn'][idx],\n",
    "#              (np.mean(distributions['ttest_1']['empn'][idx], 0) -\n",
    "#               distributions['ttest_1']['extn'][idx]) /\n",
    "#               distributions['ttest_1']['extn'][idx],\n",
    "#             '.', color=new_purples[loc])\n",
    "    \n",
    "# for i, ax in enumerate(fig.axes):\n",
    "#     ax.set_xticks(np.arange(0, 1.1, 0.25))\n",
    "#     if i < 4:\n",
    "#         ax.set_yticks(np.arange(0, 1.1, 0.25))\n",
    "#         ax.set_yticklabels('')\n",
    "#         ax.set_xticklabels('')\n",
    "#         ax.plot([0, 1], [0, 1], 'k-', linewidth=0.5)\n",
    "#     else:\n",
    "#         ax.set_ylim([-1, 1])\n",
    "#         ax.set_yticks(np.arange(-1, 1.1, 0.5))\n",
    "#         ax.set_yticklabels('')\n",
    "#         ax.set_xticklabels(np.arange(0, 1.1, 0.25), size=11)\n",
    "#         ax.plot([0, 1], [0, 0], 'k-', linewidth=0.5)\n",
    "        \n",
    "# ax1.set_yticklabels(np.arange(0, 1.1, 0.25), size=11)\n",
    "# ax5.set_yticklabels(np.arange(-1, 1.1, 0.5), size=11)\n",
    "\n",
    "\n",
    "fig.set_size_inches((8, 4))"
   ]
  },
  {
   "cell_type": "code",
   "execution_count": null,
   "metadata": {
    "collapsed": false
   },
   "outputs": [],
   "source": [
    "d, te, xe, fe = zip(*effs)"
   ]
  },
  {
   "cell_type": "code",
   "execution_count": null,
   "metadata": {
    "collapsed": false
   },
   "outputs": [],
   "source": [
    "d"
   ]
  },
  {
   "cell_type": "code",
   "execution_count": null,
   "metadata": {
    "collapsed": false
   },
   "outputs": [],
   "source": [
    "xem = np.array([x.mean() for x in xe])"
   ]
  },
  {
   "cell_type": "code",
   "execution_count": null,
   "metadata": {
    "collapsed": false
   },
   "outputs": [],
   "source": [
    "xem"
   ]
  },
  {
   "cell_type": "code",
   "execution_count": null,
   "metadata": {
    "collapsed": false
   },
   "outputs": [],
   "source": [
    "plt.plot(d, xem / np.sqrt(2), 'x')\n",
    "plt.plot([0, 2.5], [0, 2.5], 'k-')"
   ]
  },
  {
   "cell_type": "code",
   "execution_count": null,
   "metadata": {
    "collapsed": false
   },
   "outputs": [],
   "source": [
    "means[means_order] / np.sqrt(2)"
   ]
  },
  {
   "cell_type": "code",
   "execution_count": null,
   "metadata": {
    "collapsed": false
   },
   "outputs": [],
   "source": [
    "np.mean([ap.z_power(counts, e) for e in zip(*effs)[1][0]], 0)"
   ]
  },
  {
   "cell_type": "code",
   "execution_count": null,
   "metadata": {
    "collapsed": false
   },
   "outputs": [],
   "source": [
    "trad_mean = np.concatenate([ap.z_power(counts, np.mean(eff)) for eff in zip(*effs)[1]])\n",
    "trad_conf = np.concatenate([(ap.z_power(counts, np.mean(eff)) + np.std(eff) / np.sqrt(len(eff)) * scipy.stats.t.ppf(0.975, len(eff) - 1)) - \n",
    "                            ap.z_power(counts, np.mean(eff)) for eff in zip(*effs)[1]])"
   ]
  },
  {
   "cell_type": "code",
   "execution_count": null,
   "metadata": {
    "collapsed": false
   },
   "outputs": [],
   "source": [
    "tst_trd_m = np.concatenate([np"
   ]
  },
  {
   "cell_type": "code",
   "execution_count": null,
   "metadata": {
    "collapsed": false
   },
   "outputs": [],
   "source": [
    "check = [d.mean(0) for d in distributions['ttest_1']['empn']]"
   ]
  },
  {
   "cell_type": "code",
   "execution_count": null,
   "metadata": {
    "collapsed": false
   },
   "outputs": [],
   "source": [
    "np.hstack(check)"
   ]
  },
  {
   "cell_type": "code",
   "execution_count": null,
   "metadata": {
    "collapsed": true
   },
   "outputs": [],
   "source": [
    "empn_mean = [d.mean(0) for d in distributions['ttest_1']['empn']]\n",
    "empn_conf = np.concatenate([d.std(0) / np.sqrt(5) * scipy.stats.t.ppf(0.975, 2) for d in distributions['ttest_1']['empn']])\n",
    "\n",
    "emntrd_rt = np.concatenate([np.mean((np.vstack([t] * 3) - d) / np.vstack([t] * 3), 0) / np.sqrt(len(d))\n",
    "                           for (t, d) in zip(*(distributions['ttest_1']['trad'], distributions['ttest_1']['empn']))])\n",
    "emntrd_ci = np.concatenate([np.std((np.vstack([t] * 3) - d) / np.vstack([t] * 3), 0) / np.sqrt(len(d)) * scipy.stats.t.ppf(0.975, len(d)-1) \n",
    "                            for (t, d) in zip(*(distributions['ttest_1']['trad'], distributions['ttest_1']['empn']))])"
   ]
  },
  {
   "cell_type": "code",
   "execution_count": null,
   "metadata": {
    "collapsed": false
   },
   "outputs": [],
   "source": [
    "extn_mean = np.concatenate([ap.z_power(counts, np.mean(eff)) for eff in zip(*effs)[3]])\n",
    "extn_conf = np.concatenate([ap.z_power(counts, np.mean(eff) + np.std(eff) / np.sqrt(len(eff)) * scipy.stats.t.ppf(0.975, len(eff) - 1)) - \n",
    "                            ap.z_power(counts, np.mean(eff)) for eff in zip(*effs)[3]])\n",
    "exntrd_r = []\n",
    "exntrd_c = []\n",
    "for i, (t, eff) in enumerate(zip(*(distributions['ttest_1']['trad'], distributions['ttest_1']['effs']))):\n",
    "    if len(eff[3]) > 0:\n",
    "        exntrd_r.append(np.mean([(ap.z_power(counts, e) - t) / t for e in eff[3]], 0))\n",
    "        exntrd_c.append(np.std([(ap.z_power(counts, e) - t) / t for e in eff[3]], 0) / np.sqrt(len(eff[3])) * scipy.stats.t.ppf(0.975, len(eff[3] -1)))\n",
    "    else:\n",
    "        exntrd_r.append(np.nan*np.ones(counts.shape))\n",
    "        exntrd_c.append(np.nan*np.ones(counts.shape))\n",
    "    \n",
    "exntrd_r = np.concatenate(exntrd_r)\n",
    "exntrd_c = np.concatenate(exntrd_c)"
   ]
  },
  {
   "cell_type": "code",
   "execution_count": null,
   "metadata": {
    "collapsed": false
   },
   "outputs": [],
   "source": [
    "test.shape"
   ]
  },
  {
   "cell_type": "code",
   "execution_count": null,
   "metadata": {
    "collapsed": false
   },
   "outputs": [],
   "source": [
    "empn_mean.shape"
   ]
  },
  {
   "cell_type": "code",
   "execution_count": null,
   "metadata": {
    "collapsed": false
   },
   "outputs": [],
   "source": [
    "fig2 = plt.figure()\n",
    "\n",
    "ax1 = fig2.add_subplot(2, 3, 1)\n",
    "ax2 = fig2.add_subplot(2, 3, 2)\n",
    "ax3 = fig2.add_subplot(2, 3, 3)\n",
    "ax4 = fig2.add_subplot(2, 3, 4)\n",
    "ax5 = fig2.add_subplot(2, 3, 5)\n",
    "ax6 = fig2.add_subplot(2, 3, 6)\n",
    "\n",
    "ax1.errorbar(test, trad_mean, trad_conf, marker='', linestyle='none', color='#bdbdbd')\n",
    "ax1.plot(test, trad_mean, 'o', mfc='none', ms=4, alpha=0.2, mec='#252525')\n",
    "\n",
    "ax3.plot(test, empn_mean)\n",
    "\n",
    "# ax3.errorbar(test, empn_mean, empn_conf, marker='', linestyle='none', color='#fb9a99')\n",
    "# ax3.plot(test, empn_mean, 'o', mfc='none', ms=4, alpha=0.2, mec='#e31a1c')"
   ]
  },
  {
   "cell_type": "code",
   "execution_count": null,
   "metadata": {
    "collapsed": false,
    "scrolled": true
   },
   "outputs": [],
   "source": [
    "ax2.errorbar(trad, empn_mean, yerr=empn_conf, marker='', linestyle='none', color='#a6cee3')\n",
    "ax2.plot(trad, empn_mean, 'o', mec='#1f78b4', mfc='none', markersize=4, alpha=0.2)\n",
    "\n",
    "ax2.set_xlim([-0.05, 1.05])\n",
    "ax2.set_ylim([-0.05, 1.1])\n",
    "ax2.plot([-0.1, 1.1], [-0.1, 1.1], 'k-')\n",
    "ax2.set_xticks(np.arange(0, 1.1, 0.25))\n",
    "ax2.set_yticks(np.arange(0, 1.1, 0.25))\n",
    "ax2.set_xticklabels('')\n",
    "ax2.spines['right'].set_visible(False)\n",
    "ax2.spines['top'].set_visible(False)\n",
    "ax2.yaxis.set_ticks_position('left')\n",
    "ax2.xaxis.set_ticks_position('bottom')\n",
    "ax2.get_xaxis().set_tick_params(direction='out')\n",
    "ax2.get_yaxis().set_tick_params(direction='out')\n",
    "ax2.set_yticklabels(ax2.get_yticks(), size=10)\n",
    "ax2.set_ylabel('Emperical Power', size=12)\n",
    "ax2.text(0.05, 0.9, '(A)', size=15)\n",
    "\n",
    "ax4.errorbar(trad, emntrd_rt, yerr=emntrd_ci, marker='', linestyle='none', color='#a6cee3')\n",
    "ax4.plot(trad, emntrd_rt, 'o', mec='#1f78b4', mfc='none', markersize=4, alpha=0.2)\n",
    "ax4.plot([0, 1], [0, 0], 'k-')\n",
    "ax4.set_ylim([-1, 1])\n",
    "ax4.set_xticks(np.arange(0, 1.1, 0.25))\n",
    "ax4.set_yticks(np.arange(-1, 1.1, 0.5))\n",
    "# ax4.set_xticklabels('')\n",
    "ax4.set_yticklabels(ax4.get_yticks(), size=10)\n",
    "ax4.set_xticklabels(ax4.get_xticks(), size=10)\n",
    "ax4.spines['right'].set_visible(False)\n",
    "ax4.spines['top'].set_visible(False)\n",
    "ax4.yaxis.set_ticks_position('left')\n",
    "ax4.xaxis.set_ticks_position('bottom')\n",
    "ax4.get_xaxis().set_tick_params(direction='out')\n",
    "ax4.get_yaxis().set_tick_params(direction='out')\n",
    "ax4.set_ylabel('Relative Difference', size=12)\n",
    "ax4.text(0.05, 0.8, '(C)', size=15)\n",
    "\n",
    "ax3.errorbar(trad, extn_mean, yerr=extn_conf, marker='', linestyle='none', color='#fb9a99')\n",
    "ax3.plot(trad, extn_mean, 'o', mec='#e31a1c', mfc='none', markersize=4)\n",
    "\n",
    "ax3.plot([0, 1], [0, 1], 'k-')\n",
    "ax3.set_xticks(np.arange(0, 1.1, 0.25))\n",
    "ax3.set_yticks(np.arange(0, 1.1, 0.25))\n",
    "ax3.set_yticklabels('')\n",
    "ax3.set_xticklabels('')\n",
    "ax3.spines['right'].set_visible(False)\n",
    "ax3.spines['top'].set_visible(False)\n",
    "ax3.yaxis.set_ticks_position('left')\n",
    "ax3.xaxis.set_ticks_position('bottom')\n",
    "ax3.get_xaxis().set_tick_params(direction='out')\n",
    "ax3.get_yaxis().set_tick_params(direction='out')\n",
    "ax3.text(0.05, 0.9, '(B)', size=15)\n",
    "\n",
    "\n",
    "ax5.errorbar(trad, exntrd_r, yerr=exntrd_c, marker='', linestyle='none', color='#fb9a99')\n",
    "ax5.plot(trad, exntrd_r, 'o', mec='#e31a1c', mfc='none', ms=4)\n",
    "ax5.plot([0, 1], [0, 0], 'k-')\n",
    "ax5.set_xticks(np.arange(0, 1.1, 0.25))\n",
    "ax5.set_ylim([-1, 1])\n",
    "ax5.set_yticklabels('')\n",
    "ax5.set_xticklabels(ax5.get_xticks(), size=10)\n",
    "ax5.spines['right'].set_visible(False)\n",
    "ax5.spines['top'].set_visible(False)\n",
    "ax5.yaxis.set_ticks_position('left')\n",
    "ax5.xaxis.set_ticks_position('bottom')\n",
    "ax5.get_xaxis().set_tick_params(direction='out')\n",
    "ax5.get_yaxis().set_tick_params(direction='out')\n",
    "ax5.text(0.05, 0.8, '(D)', size=15)\n",
    "l = ax5.set_xlabel('Traditional Power', size=12)\n",
    "l.set_position((-0.1, 1))\n",
    "\n",
    "fig2.set_size_inches((4, 4))"
   ]
  },
  {
   "cell_type": "code",
   "execution_count": null,
   "metadata": {
    "collapsed": false
   },
   "outputs": [],
   "source": [
    "print effs[0][1].mean(), effs[0][1].std()\n",
    "print effs[0][3].mean(), effs[0][3].std()"
   ]
  },
  {
   "cell_type": "code",
   "execution_count": null,
   "metadata": {
    "collapsed": true
   },
   "outputs": [],
   "source": []
  },
  {
   "cell_type": "code",
   "execution_count": null,
   "metadata": {
    "collapsed": false
   },
   "outputs": [],
   "source": [
    "trad_eff_mean = np.array([np.mean(e) for e in zip(*effs)[1]])\n",
    "trad_eff_stdv = np.array([np.std(e) for e in zip(*effs)[1]])\n",
    "\n",
    "extn_eff_mean = np.array([np.mean(e) for e in zip(*effs)[3]])\n",
    "extn_eff_stdv = np.array([np.std(e) for e in zip(*effs)[3]])"
   ]
  },
  {
   "cell_type": "code",
   "execution_count": null,
   "metadata": {
    "collapsed": false
   },
   "outputs": [],
   "source": [
    "trad_eff_mean.shape"
   ]
  },
  {
   "cell_type": "code",
   "execution_count": null,
   "metadata": {
    "collapsed": false
   },
   "outputs": [],
   "source": [
    "extn_eff_mean.shape"
   ]
  },
  {
   "cell_type": "code",
   "execution_count": null,
   "metadata": {
    "collapsed": false
   },
   "outputs": [],
   "source": [
    "plt.errorbar(trad_eff_mean, extn_eff_mean, trad_eff_stdv, extn_eff_stdv, mfc='none', linewidth=1, linestyle='none')"
   ]
  },
  {
   "cell_type": "code",
   "execution_count": null,
   "metadata": {
    "collapsed": true
   },
   "outputs": [],
   "source": []
  },
  {
   "cell_type": "code",
   "execution_count": null,
   "metadata": {
    "collapsed": true
   },
   "outputs": [],
   "source": []
  }
 ],
 "metadata": {
  "kernelspec": {
   "display_name": "Python 2",
   "language": "python",
   "name": "python2"
  },
  "language_info": {
   "codemirror_mode": {
    "name": "ipython",
    "version": 2
   },
   "file_extension": ".py",
   "mimetype": "text/x-python",
   "name": "python",
   "nbconvert_exporter": "python",
   "pygments_lexer": "ipython2",
   "version": "2.7.3"
  }
 },
 "nbformat": 4,
 "nbformat_minor": 0
}
