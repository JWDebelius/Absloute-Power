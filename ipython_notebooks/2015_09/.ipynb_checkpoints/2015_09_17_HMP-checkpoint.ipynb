{
 "cells": [
  {
   "cell_type": "code",
   "execution_count": 1,
   "metadata": {
    "collapsed": false
   },
   "outputs": [],
   "source": [
    "from __future__ import division\n",
    "\n",
    "import os\n",
    "import matplotlib.pyplot as plt\n",
    "import numpy as np\n",
    "import skbio\n",
    "import scipy.stats\n",
    "import statsmodels.api as sms\n",
    "import statsmodels.formula.api as smf\n",
    "\n",
    "import absloute_power.traditional as trad\n",
    "import absloute_power.utils as ap\n",
    "\n",
    "\n",
    "import pandas as pd\n",
    "import biom\n",
    "\n",
    "from skbio.stats.power import subsample_power\n",
    "\n",
    "from absloute_power.traditional import calc_ttest_1"
   ]
  },
  {
   "cell_type": "code",
   "execution_count": 2,
   "metadata": {
    "collapsed": false
   },
   "outputs": [],
   "source": [
    "import pickle"
   ]
  },
  {
   "cell_type": "code",
   "execution_count": 3,
   "metadata": {
    "collapsed": true
   },
   "outputs": [],
   "source": [
    "base_dir = '/Users/jwdebelius/Repositories/Absloute-Power'\n",
    "data_dir = os.path.join(base_dir, 'data/HMP')\n",
    "map_fp = os.path.join(data_dir, 'HMPv35_100nt_even1k.txt')\n",
    "otu_fp = os.path.join(data_dir, 'HMPv35_100nt_even1k.biom')\n",
    "uud_fp = os.path.join(data_dir, '1k/unweighted_unifrac_dm.txt')"
   ]
  },
  {
   "cell_type": "code",
   "execution_count": 4,
   "metadata": {
    "collapsed": false
   },
   "outputs": [],
   "source": [
    "map_ = pd.read_csv(map_fp, sep='\\t', dtype=str)\n",
    "map_.set_index('#SampleID', inplace=True)\n",
    "uud = skbio.DistanceMatrix.read(uud_fp)"
   ]
  },
  {
   "cell_type": "code",
   "execution_count": 5,
   "metadata": {
    "collapsed": false
   },
   "outputs": [
    {
     "data": {
      "text/plain": [
       "Index([u'BarcodeSequence', u'LinkerPrimerSequence', u'TITLE',\n",
       "       u'EXPERIMENTACCESSION', u'sex', u'ANONYMIZEDNAME', u'pfph',\n",
       "       u'HMPbodysubsite', u'HMPbodysupersite', u'intph', u'sampcollectdevice',\n",
       "       u'EXPERIMENTCENTER', u'envmatter', u'PLATFORM', u'hostsubjectid',\n",
       "       u'bodysite', u'psn', u'bmi', u'visitno', u'AGE', u'RUNALIAS',\n",
       "       u'RUNCENTER', u'gender', u'REGION', u'srs', u'Runid', u'collectday',\n",
       "       u'Description', u'COUNTRY'],\n",
       "      dtype='object')"
      ]
     },
     "execution_count": 5,
     "metadata": {},
     "output_type": "execute_result"
    }
   ],
   "source": [
    "map_.columns"
   ]
  },
  {
   "cell_type": "code",
   "execution_count": 40,
   "metadata": {
    "collapsed": true
   },
   "outputs": [],
   "source": [
    "def test_beta_permanova(ids, meta, dm, cat, num_iter=499):\n",
    "    \"\"\"Tests difference in beta diversity for a category and distance matrix\"\"\"\n",
    "    # Gets the map and distance matrix subset\n",
    "    all_ids = np.hstack(ids)\n",
    "    # Calculates the permanova\n",
    "    perma_results = skbio.stats.distance.permanova(dm.filter(all_ids), \n",
    "                                                   meta.loc[all_ids],\n",
    "                                                   cat,\n",
    "                                                   num_iter)\n",
    "    # Returns the p value\n",
    "    return perma_results['p-value']"
   ]
  },
  {
   "cell_type": "code",
   "execution_count": 8,
   "metadata": {
    "collapsed": false
   },
   "outputs": [
    {
     "data": {
      "text/plain": [
       "HMPbodysupersite\n",
       "Airways                    286\n",
       "Gastrointestinal_tract     318\n",
       "Oral                      2994\n",
       "Skin                       800\n",
       "Urogenital_tract           447\n",
       "dtype: int64"
      ]
     },
     "execution_count": 8,
     "metadata": {},
     "output_type": "execute_result"
    }
   ],
   "source": [
    "map_.groupby('HMPbodysupersite').count().max(1)"
   ]
  },
  {
   "cell_type": "code",
   "execution_count": 9,
   "metadata": {
    "collapsed": false
   },
   "outputs": [
    {
     "data": {
      "text/plain": [
       "PLATFORM\n",
       "FLX          729\n",
       "Titanium    3707\n",
       "no_data      409\n",
       "dtype: int64"
      ]
     },
     "execution_count": 9,
     "metadata": {},
     "output_type": "execute_result"
    }
   ],
   "source": [
    "map_.groupby('PLATFORM').count().max(1)"
   ]
  },
  {
   "cell_type": "code",
   "execution_count": 10,
   "metadata": {
    "collapsed": true
   },
   "outputs": [],
   "source": [
    "inter_ids = list(set(map_.index).intersection(set(uud.ids)))"
   ]
  },
  {
   "cell_type": "code",
   "execution_count": 38,
   "metadata": {
    "collapsed": true
   },
   "outputs": [],
   "source": [
    "site_test = lambda x: test_beta_permanova(x, map_, uud, 'HMPbodysupersite')"
   ]
  },
  {
   "cell_type": "code",
   "execution_count": 13,
   "metadata": {
    "collapsed": false
   },
   "outputs": [],
   "source": [
    "site_ids = [ids for ids in map_.loc[inter_ids].groupby('HMPbodysupersite').groups.itervalues()]\n",
    "# nat_ids = [ids for ids in map_.loc[inter_ids].groupby('COUNTRY').groups.itervalues()]"
   ]
  },
  {
   "cell_type": "code",
   "execution_count": 39,
   "metadata": {
    "collapsed": false
   },
   "outputs": [
    {
     "data": {
      "text/plain": [
       "0.001"
      ]
     },
     "execution_count": 39,
     "metadata": {},
     "output_type": "execute_result"
    }
   ],
   "source": [
    "site_test(site_ids)"
   ]
  },
  {
   "cell_type": "code",
   "execution_count": 42,
   "metadata": {
    "collapsed": false
   },
   "outputs": [],
   "source": [
    "site_power, site_counts = subsample_power(site_test, site_ids, min_counts=3, max_counts=15, counts_interval=1, num_runs=5, alpha_pwr=0.005)\n",
    "# nat_power, nat_counts = subsample_power(nat_test, nat_ids, min_counts=10, max_counts=100, counts_interval=10)"
   ]
  },
  {
   "cell_type": "markdown",
   "metadata": {},
   "source": [
    "### ids"
   ]
  },
  {
   "cell_type": "code",
   "execution_count": 43,
   "metadata": {
    "collapsed": false
   },
   "outputs": [],
   "source": [
    "with open(os.path.join(data_dir, 'power_005.p'), 'wb') as f_:\n",
    "    pickle.dump([site_power, site_counts], f_)"
   ]
  },
  {
   "cell_type": "code",
   "execution_count": 19,
   "metadata": {
    "collapsed": false
   },
   "outputs": [],
   "source": [
    "with open('/Users/jwdebelius/Repositories/Absloute-Power/data/yatsunenko/power.p', 'rb') as f_:\n",
    "    [age_power, age_counts, nat_power, nat_counts] = pickle.load(f_)\n",
    "with open('/Users/jwdebelius/Repositories/Absloute-Power/data/merged_otu_table_and_mapping_bmi/obese.p', 'rb') as f_:\n",
    "    [bmistudy_power, bmistudy_counts, obese_power, obese_counts] = pickle.load(f_)\n",
    "with open('/Users/jwdebelius/Repositories/Absloute-Power/data/otu_table_and_mapping_ibd/ibd.p', 'rb') as f_:\n",
    "    [ibdstudy_power, ibdstudy_counts, ibd_power, ibd_counts] = pickle.load(f_)"
   ]
  },
  {
   "cell_type": "code",
   "execution_count": 116,
   "metadata": {
    "collapsed": false
   },
   "outputs": [],
   "source": [
    "child_eff = ap.z_effect(child_counts[1:], child_power[:, 1:]).mean()\n",
    "child_sem = ap.z_effect(child_counts[1:], child_power[:, 1:]).std() / np.sqrt(np.prod(child_power[:, :5].shape))"
   ]
  },
  {
   "cell_type": "code",
   "execution_count": 105,
   "metadata": {
    "collapsed": false
   },
   "outputs": [
    {
     "data": {
      "text/plain": [
       "(array([ 3,  4,  5,  6,  7,  8,  9, 10, 11, 12, 13, 14]),\n",
       " array([[ 1.   ,  1.   ,  1.   ,  1.   ,  1.   ,  1.   ,  1.   ,  1.   ,\n",
       "          1.   ,  1.   ,  1.   ,  1.   ],\n",
       "        [ 0.998,  1.   ,  1.   ,  1.   ,  1.   ,  1.   ,  1.   ,  1.   ,\n",
       "          1.   ,  1.   ,  1.   ,  1.   ],\n",
       "        [ 1.   ,  1.   ,  1.   ,  1.   ,  1.   ,  1.   ,  1.   ,  1.   ,\n",
       "          1.   ,  1.   ,  1.   ,  1.   ],\n",
       "        [ 1.   ,  1.   ,  1.   ,  1.   ,  1.   ,  1.   ,  1.   ,  1.   ,\n",
       "          1.   ,  1.   ,  1.   ,  1.   ],\n",
       "        [ 1.   ,  1.   ,  1.   ,  1.   ,  1.   ,  1.   ,  1.   ,  1.   ,\n",
       "          1.   ,  1.   ,  1.   ,  1.   ]]))"
      ]
     },
     "execution_count": 105,
     "metadata": {},
     "output_type": "execute_result"
    }
   ],
   "source": [
    "site_counts, site_power"
   ]
  },
  {
   "cell_type": "code",
   "execution_count": 113,
   "metadata": {
    "collapsed": false
   },
   "outputs": [
    {
     "data": {
      "text/plain": [
       "[<matplotlib.lines.Line2D at 0x10c6a4c50>]"
      ]
     },
     "execution_count": 113,
     "metadata": {},
     "output_type": "execute_result"
    },
    {
     "data": {
      "image/png": "[encoded data removed]",
      "text/plain": [
       "<matplotlib.figure.Figure at 0x11ccf2f10>"
      ]
     },
     "metadata": {},
     "output_type": "display_data"
    }
   ],
   "source": [
    "%matplotlib inline\n",
    "ax = plt.axes()\n",
    "ax.plot(site_counts, site_power.mean(0), 'bs') #, mfc='none', mec='b')\n",
    "ax.set_ylim([0, 1])\n",
    "ax.plot(bmistudy_counts, bmistudy_power.mean(0), 'go') #, mfc='none', mec='g')\n",
    "ax.plot(obese_counts, obese_power.mean(0), 'r^-') #, mfc='none', mec='r')\n",
    "ax.plot(ibdstudy_counts, ibdstudy_power.mean(0), 'cv')\n",
    "ax.plot(ibd_counts, ibd_power.mean(0), 'm*-')\n",
    "ax.plot(age_counts, age_power.mean(0), 'k+-')\n",
    "ax.plot(nat_counts, nat_power.mean(0), 'bD-')\n",
    "# plt.plot(child_counts, child_power.mean(0), 'go-')\n",
    "# plt.plot(np.arange(1, 15, 0.5), ap.z_power(np.arange(1, 15, 0.5), baby_eff))\n",
    "# plt.fill_between(np.arange(1, 15, 0.5), \n",
    "#                  ap.z_power(np.arange(1, 15, 0.5), baby_eff - baby_sem),\n",
    "#                  ap.z_power(np.arange(1, 15, 0.5), baby_eff + baby_sem))"
   ]
  },
  {
   "cell_type": "code",
   "execution_count": 107,
   "metadata": {
    "collapsed": false
   },
   "outputs": [],
   "source": [
    "obese_eff = ap.z_effect(obese_counts, obese_power)\n",
    "ibd_eff = ap.z_effect(ibd_counts, ibd_power)\n",
    "\n",
    "studi_eff = ap.z_effect(ibdstudy_counts, ibdstudy_power)\n",
    "studb_eff = ap.z_effect(bmistudy_counts, bmistudy_power)\n",
    "\n",
    "age_eff = ap.z_effect(age_counts, age_power)\n",
    "nat_eff = ap.z_effect(nat_counts, nat_power)\n",
    "\n",
    "site_eff = ap.z_effect(nat_counts, nat_power, alpha=0.005)\n"
   ]
  },
  {
   "cell_type": "code",
   "execution_count": 84,
   "metadata": {
    "collapsed": false
   },
   "outputs": [
    {
     "name": "stdout",
     "output_type": "stream",
     "text": [
      "0.844191230554 0.0209079638509\n"
     ]
    }
   ],
   "source": [
    "print obese_eff.mean(),  obese_eff.std() / np.sqrt(np.prod(obese_eff.shape)) * scipy.stats.t.ppf(0.975, np.prod(obese_eff.shape))"
   ]
  },
  {
   "cell_type": "code",
   "execution_count": 85,
   "metadata": {
    "collapsed": false
   },
   "outputs": [
    {
     "name": "stdout",
     "output_type": "stream",
     "text": [
      "3.27904081168 0.0636433978854\n"
     ]
    }
   ],
   "source": [
    "print studi_eff.mean(), studi_eff.std() / np.sqrt(np.prod(studi_eff.shape)) * scipy.stats.t.ppf(0.975, np.prod(studi_eff.shape))"
   ]
  },
  {
   "cell_type": "code",
   "execution_count": 90,
   "metadata": {
    "collapsed": false
   },
   "outputs": [
    {
     "name": "stdout",
     "output_type": "stream",
     "text": [
      "1.41583813772 0.0302688496766\n"
     ]
    }
   ],
   "source": [
    "print ibd_eff.mean(), ibd_eff.std()/ np.sqrt(np.prod(ibd_eff.shape)) * scipy.stats.t.ppf(0.975, np.prod(ibd_eff.shape))"
   ]
  },
  {
   "cell_type": "code",
   "execution_count": 95,
   "metadata": {
    "collapsed": false
   },
   "outputs": [
    {
     "name": "stdout",
     "output_type": "stream",
     "text": [
      "age 2.29693488483 0.0436548019739\n",
      "nat 2.00698257718 0.0466448625456\n"
     ]
    }
   ],
   "source": [
    "print 'age', age_eff.mean(), age_eff.std()/ np.sqrt(np.prod(age_eff.shape)) * scipy.stats.t.ppf(0.975, np.prod(age_eff.shape))\n",
    "print 'nat', nat_eff.mean(), nat_eff.std()/ np.sqrt(np.prod(nat_eff.shape)) * scipy.stats.t.ppf(0.975, np.prod(nat_eff.shape))"
   ]
  },
  {
   "cell_type": "code",
   "execution_count": 110,
   "metadata": {
    "collapsed": false
   },
   "outputs": [
    {
     "data": {
      "text/plain": [
       "(2.5193990473039296, 0.025757931285087729)"
      ]
     },
     "execution_count": 110,
     "metadata": {},
     "output_type": "execute_result"
    }
   ],
   "source": [
    "site_eff.mean(), site_eff.std() / np.sqrt(np.prod(site_eff.shape)) * scipy.stats.t.ppf(0.975, np.prod(site_eff.shape))"
   ]
  },
  {
   "cell_type": "code",
   "execution_count": 111,
   "metadata": {
    "collapsed": false
   },
   "outputs": [
    {
     "name": "stdout",
     "output_type": "stream",
     "text": [
      "2.49\n",
      "2.55\n"
     ]
    }
   ],
   "source": [
    "print np.round(2.5193990473039296 - 0.025757931285087729, 2)\n",
    "print np.round(2.5193990473039296 + 0.025757931285087729, 2)"
   ]
  },
  {
   "cell_type": "code",
   "execution_count": 68,
   "metadata": {
    "collapsed": false
   },
   "outputs": [
    {
     "name": "stdout",
     "output_type": "stream",
     "text": [
      "nan nan\n"
     ]
    },
    {
     "name": "stderr",
     "output_type": "stream",
     "text": [
      "/Users/jwdebelius/.virtualenvs/power_play/lib/python2.7/site-packages/numpy/core/_methods.py:59: RuntimeWarning: Mean of empty slice.\n",
      "  warnings.warn(\"Mean of empty slice.\", RuntimeWarning)\n",
      "/Users/jwdebelius/.virtualenvs/power_play/lib/python2.7/site-packages/numpy/core/_methods.py:83: RuntimeWarning: Degrees of freedom <= 0 for slice\n",
      "  warnings.warn(\"Degrees of freedom <= 0 for slice\", RuntimeWarning)\n"
     ]
    }
   ],
   "source": [
    "print studb_eff.mean(), studb_eff.std() / np.sqrt(np.prod(studb_eff.shape)) * scipy.stats.t.ppf(0.975, np.prod(studi_eff.shape))"
   ]
  },
  {
   "cell_type": "code",
   "execution_count": 71,
   "metadata": {
    "collapsed": false
   },
   "outputs": [
    {
     "data": {
      "text/plain": [
       "(array([ 3,  4,  5,  6,  7,  8,  9, 10, 11, 12, 13, 14]),\n",
       " array([[ 1.,  1.,  1.,  1.,  1.,  1.,  1.,  1.,  1.,  1.,  1.,  1.],\n",
       "        [ 1.,  1.,  1.,  1.,  1.,  1.,  1.,  1.,  1.,  1.,  1.,  1.],\n",
       "        [ 1.,  1.,  1.,  1.,  1.,  1.,  1.,  1.,  1.,  1.,  1.,  1.],\n",
       "        [ 1.,  1.,  1.,  1.,  1.,  1.,  1.,  1.,  1.,  1.,  1.,  1.],\n",
       "        [ 1.,  1.,  1.,  1.,  1.,  1.,  1.,  1.,  1.,  1.,  1.,  1.],\n",
       "        [ 1.,  1.,  1.,  1.,  1.,  1.,  1.,  1.,  1.,  1.,  1.,  1.],\n",
       "        [ 1.,  1.,  1.,  1.,  1.,  1.,  1.,  1.,  1.,  1.,  1.,  1.],\n",
       "        [ 1.,  1.,  1.,  1.,  1.,  1.,  1.,  1.,  1.,  1.,  1.,  1.],\n",
       "        [ 1.,  1.,  1.,  1.,  1.,  1.,  1.,  1.,  1.,  1.,  1.,  1.],\n",
       "        [ 1.,  1.,  1.,  1.,  1.,  1.,  1.,  1.,  1.,  1.,  1.,  1.]]))"
      ]
     },
     "execution_count": 71,
     "metadata": {},
     "output_type": "execute_result"
    }
   ],
   "source": [
    "bmistudy_counts, bmistudy_power"
   ]
  },
  {
   "cell_type": "code",
   "execution_count": 83,
   "metadata": {
    "collapsed": false
   },
   "outputs": [
    {
     "name": "stdout",
     "output_type": "stream",
     "text": [
      "[ 5.48145859]\n",
      "[ 2.74072929]\n"
     ]
    }
   ],
   "source": [
    "print ap.z_effect([3], [0.999999])\n",
    "print ap.z_effect([3], [0.999999]) / 2"
   ]
  },
  {
   "cell_type": "code",
   "execution_count": null,
   "metadata": {
    "collapsed": true
   },
   "outputs": [],
   "source": []
  }
 ],
 "metadata": {
  "kernelspec": {
   "display_name": "Python 2",
   "language": "python",
   "name": "python2"
  },
  "language_info": {
   "codemirror_mode": {
    "name": "ipython",
    "version": 2
   },
   "file_extension": ".py",
   "mimetype": "text/x-python",
   "name": "python",
   "nbconvert_exporter": "python",
   "pygments_lexer": "ipython2",
   "version": "2.7.3"
  }
 },
 "nbformat": 4,
 "nbformat_minor": 0
}
