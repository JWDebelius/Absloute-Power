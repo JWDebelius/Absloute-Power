{
 "cells": [
  {
   "cell_type": "markdown",
   "metadata": {},
   "source": [
    "**Author**: J W Debelius<br/>\n",
    "**Date**: 27 August 2015<br/>\n",
    "**virtualenv**: power play"
   ]
  },
  {
   "cell_type": "raw",
   "metadata": {
    "collapsed": false
   },
   "source": [
    "%%javascript\n",
    "IPython.load_extensions('calico-spell-check', 'calico-document-tools')"
   ]
  },
  {
   "cell_type": "markdown",
   "metadata": {},
   "source": [
    "# 1. Introduction"
   ]
  },
  {
   "cell_type": "code",
   "execution_count": 1,
   "metadata": {
    "collapsed": true
   },
   "outputs": [],
   "source": [
    "from __future__ import division\n",
    "\n",
    "import matplotlib.pyplot as plt\n",
    "import numpy as np\n",
    "import scipy.stats\n",
    "import statsmodels.api as sms\n",
    "import statsmodels.formula.api as smf\n",
    "\n",
    "import absloute_power.traditional as trad\n",
    "import absloute_power.utils as ap\n",
    "\n",
    "from scipy.stats import norm as Z\n",
    "\n",
    "import americangut.power_plots as pp\n",
    "\n",
    "import pandas as pd\n",
    "\n",
    "from skbio.stats.power import subsample_power\n",
    "\n",
    "from absloute_power.traditional import calc_ttest_ind"
   ]
  },
  {
   "cell_type": "code",
   "execution_count": 2,
   "metadata": {
    "collapsed": false
   },
   "outputs": [],
   "source": [
    "from matplotlib import rcParams\n",
    "\n",
    "\n",
    "\n",
    "# Sets up plotting parameters so that the default setting is use to Helvetica\n",
    "# in plots\n",
    "rcParams['font.family'] = 'sans-serif'\n",
    "rcParams['font.sans-serif'] = ['Helvetica', 'Arial']\n",
    "rcParams['text.usetex'] = True\n",
    "\n",
    "% matplotlib inline"
   ]
  },
  {
   "cell_type": "markdown",
   "metadata": {},
   "source": [
    "We'll examine five common, simple statistical models where the power equation has been defined and employed. The emperical power implementations are based on the version described in [ref].\n",
    "\n",
    "We will examine statistical power for three tests dealing with normal distributions:\n",
    "\n",
    "* Case I t test\n",
    "* Case II (independent) t test\n",
    "* One way Analysis of Variance (ANOVA)\n",
    "* Pearson's R\n",
    "* Chi-Square\n",
    "\n",
    "We will perform 100 simulations of statistical power, comparing the power between 5 and 50 counts, with 5 observation intervals between. We'll set the critical value at 0.05."
   ]
  },
  {
   "cell_type": "code",
   "execution_count": 3,
   "metadata": {
    "collapsed": false
   },
   "outputs": [],
   "source": [
    "num_rounds = 100\n",
    "counts = np.arange(5, 65, 10)\n",
    "alpha = 0.05\n",
    "distributions = {}"
   ]
  },
  {
   "cell_type": "markdown",
   "metadata": {},
   "source": [
    "We'll also set a random seed, so that the results we get out are consistent."
   ]
  },
  {
   "cell_type": "markdown",
   "metadata": {},
   "source": [
    "# 2. Case I Test"
   ]
  },
  {
   "cell_type": "markdown",
   "metadata": {},
   "source": [
    "A case I t-test checks if an observation is drawn from a sample. We are testing the alternatively hypotheses,\n",
    "\n",
    "$\\begin{matrix}\n",
    "\\textbf{H}_{0} & x = \\bar{x} \\\\\n",
    "\\textbf{H}_{1} & x \\neq \\bar{x}\\\\\n",
    "\\end{matrix} \\tag{2.1}$\n",
    "\n",
    "where $\\bar{x}$ is the mean of the population, $x$ is the value being compared to the sample, $s$ is the standard devation of the sample, and there are $n$ observations in the sample."
   ]
  },
  {
   "cell_type": "markdown",
   "metadata": {},
   "source": [
    "## 2.1 Test Statistic"
   ]
  },
  {
   "cell_type": "markdown",
   "metadata": {},
   "source": [
    "The test statistic for the case I t test is given as\n",
    "$t = \\frac{(\\bar{x} - x)\\sqrt{n}}{s} \\tag{2.2}$\n",
    "The probability distribution follows a T distribution with $n-1$ degrees of freedom, where $n$ is the number of observations in the sample.\n",
    "\n",
    "\n",
    "For the emperical test, we will use the `scipy.stats.ttest_1samp` function, which returns a p value."
   ]
  },
  {
   "cell_type": "code",
   "execution_count": 4,
   "metadata": {
    "collapsed": false
   },
   "outputs": [],
   "source": [
    "def emp_ttest_ind(sample1, sample2):\n",
    "    return scipy.stats.ttest_ind(sample1, sample2)[1]"
   ]
  },
  {
   "cell_type": "markdown",
   "metadata": {},
   "source": [
    "## 2.2 Nonparametric Test"
   ]
  },
  {
   "cell_type": "code",
   "execution_count": 5,
   "metadata": {
    "collapsed": true
   },
   "outputs": [],
   "source": [
    "def emp_ttest_ind_nonpar(sample1, sample2):\n",
    "    return scipy.stats.mannwhitneyu(sample1, sample2)[1]"
   ]
  },
  {
   "cell_type": "markdown",
   "metadata": {},
   "source": [
    "## 2.3 Effect Size"
   ]
  },
  {
   "cell_type": "markdown",
   "metadata": {},
   "source": [
    "The effect size for a one-sample t test is Cohen's d, given by equation (2.3).\n",
    "$\\begin{align*}\n",
    "d = \\frac{\\bar{x} - x_{0}}{s}\n",
    "\\end{align*}\\tag{2.3}$\n",
    "For a two-tailed test, we can treat this as an absloute magnitude, and then test $t > (1 - \\alpha/2)$."
   ]
  },
  {
   "cell_type": "code",
   "execution_count": 6,
   "metadata": {
    "collapsed": true
   },
   "outputs": [],
   "source": [
    "def cohen_ttest_ind(sample1, sample2):\n",
    "    x1, s1, n1 = sample1.mean(), sample1.std(), len(sample1)\n",
    "    x2, s2, n2 = sample2.mean(), sample2.std(), len(sample2)\n",
    "    \n",
    "    spool = np.sqrt(((n1-1) * np.square(s1) + (n2 - 1) * np.square(s2)) / (n1 + n2 - 2))\n",
    "    return np.absolute(x1 - x2) / spool"
   ]
  },
  {
   "cell_type": "markdown",
   "metadata": {},
   "source": [
    "## 2.5 Simulation Parameters"
   ]
  },
  {
   "cell_type": "markdown",
   "metadata": {},
   "source": [
    "We'll test the set of hypotheses,\n",
    "\n",
    "$\\begin{matrix}\n",
    "\\textbf{H}_{0} & 0 = \\bar{x} \\\\\n",
    "\\textbf{H}_{1} & 0 \\neq \\bar{x}\\\\\n",
    "\\end{matrix} \\tag{2.5}$\n",
    "\n",
    "where $\\bar{x}$ is the mean of a sample drawn from a population.\n",
    "\n",
    "We'll test the means between 2 and 10 with standard deviations between 5 and 15, and sample sizes between 60 and 100 observations."
   ]
  },
  {
   "cell_type": "code",
   "execution_count": 7,
   "metadata": {
    "collapsed": false
   },
   "outputs": [],
   "source": [
    "def ttest_ind_simulate(mu_lim, sigma_lim, count_lims, bench_lims, diff_lim):\n",
    "    # Gets the distribution parameters\n",
    "    mu = np.random.uniform(*mu_lim, size=2)\n",
    "    offset = np.random.uniform(*diff_lim)\n",
    "    sigma = np.random.uniform(*sigma_lim, size=2)\n",
    "    n = np.random.randint(*count_lims)\n",
    "    m = np.random.randint(*bench_lims)\n",
    "    \n",
    "    #     Draws a sample that fits the parameters\n",
    "    sample1 = np.hstack((np.random.gamma(mu[0], sigma[0], n - m), \n",
    "                         np.random.gamma(mu[1], sigma[1], m)))\n",
    "    sample2 = np.hstack((np.random.gamma(mu[0], sigma[0], n - m), \n",
    "                         np.random.gamma(mu[1], sigma[1], m))) + offset\n",
    "\n",
    "    return [mu, sigma, offset, n, m], [sample1, sample2]"
   ]
  },
  {
   "cell_type": "code",
   "execution_count": 8,
   "metadata": {
    "collapsed": false
   },
   "outputs": [],
   "source": [
    "distributions['ttest_ind'] = {'emp_test_fun': emp_ttest_ind,\n",
    "                            'non_test_fun': emp_ttest_ind_nonpar,\n",
    "                            'trad_test_fun': calc_ttest_ind,\n",
    "                            'sim_function': ttest_ind_simulate,\n",
    "                            'sim_parameters': [[1, 8.], [2.5, 7.5], [125., 126.]],\n",
    "                            'other_sim_parameters': {'bench_lims': [25, 75], 'diff_lim': [1.5, 3.5]},\n",
    "                            'test_parameters': {},\n",
    "                            'emp_parameters': {},\n",
    "                            'effect_size': cohen_ttest_ind,\n",
    "                             }"
   ]
  },
  {
   "cell_type": "markdown",
   "metadata": {},
   "source": [
    "# 6. Building Simulations"
   ]
  },
  {
   "cell_type": "markdown",
   "metadata": {},
   "source": [
    "We will now build the simulations and look at the results."
   ]
  },
  {
   "cell_type": "code",
   "execution_count": 9,
   "metadata": {
    "collapsed": false
   },
   "outputs": [
    {
     "data": {
      "text/plain": [
       "100"
      ]
     },
     "execution_count": 9,
     "metadata": {},
     "output_type": "execute_result"
    }
   ],
   "source": [
    "num_rounds"
   ]
  },
  {
   "cell_type": "code",
   "execution_count": 10,
   "metadata": {
    "collapsed": false
   },
   "outputs": [
    {
     "name": "stdout",
     "output_type": "stream",
     "text": [
      "ttest_ind\n",
      "CPU times: user 30min 27s, sys: 9.9 s, total: 30min 37s\n",
      "Wall time: 30min 43s\n"
     ]
    }
   ],
   "source": [
    "%%time\n",
    "\n",
    "# for k, params in distributions.iteritems():\n",
    "for k, params in [('ttest_ind', distributions['ttest_ind'])]:\n",
    "    params['mus'] = []\n",
    "    params['sigmas'] = []\n",
    "    params['offset'] = []\n",
    "    params['size'] = []\n",
    "    params['sample'] = []\n",
    "    params['effs'] = []\n",
    "    params['test'] = []\n",
    "    params['trad'] = []\n",
    "    params['empp'] = []\n",
    "    params['empn'] = []\n",
    "    params['extp'] = []\n",
    "    params['extn'] = []\n",
    "    \n",
    "    for i in xrange(100):\n",
    "        # Calculates the samples\n",
    "        [mu, sigma, offset, n, m], samples = params['sim_function'](*params['sim_parameters'], **params['other_sim_parameters'])\n",
    "        params['mus'].append(mu)\n",
    "        params['sigmas'].append(sigma)\n",
    "        params['offset'].append(offset)\n",
    "        params['size'].append([n - m, m])\n",
    "        params['sample'].append(samples)\n",
    "       \n",
    "        # Calculates the traditional power\n",
    "        test_power = params['trad_test_fun'](*samples, counts=counts, **params['test_parameters'])\n",
    "        params['test'].append(test_power)\n",
    "        \n",
    "        # Calculates Cohen's effect\n",
    "        if 'effect_size' in params:\n",
    "            cohen_eff = params['effect_size'](*samples)\n",
    "        else:\n",
    "            cohen_eff = None\n",
    "        \n",
    "        # Extrapolates the effect from the test\n",
    "        test_eff = ap.z_effect(counts, test_power)\n",
    "        \n",
    "        trad_power = ap.z_power(counts, test_eff.mean())\n",
    "        params['trad'].append(trad_power)\n",
    "        \n",
    "         # Calculates the emprical power using a nonparametric test\n",
    "        nempr_power, nempr_counts = subsample_power(lambda x: params['non_test_fun'](*x, **params['test_parameters']),\n",
    "                                                  samples,\n",
    "                                                  min_counts=5,\n",
    "                                                  max_counts=65,\n",
    "                                                  counts_interval=10,\n",
    "                                                  num_runs=5,\n",
    "                                                  num_iter=1000)\n",
    "        # Calculates the nonparametric effect\n",
    "        nonp_eff = ap.z_effect(nempr_counts, nempr_power)\n",
    "        next_power = ap.z_power(counts, nonp_eff.mean())\n",
    "        params['empn'].append(nempr_power)\n",
    "        params['extn'].append(next_power)    \n",
    "\n",
    "        # Updates the information\n",
    "        params['effs'].append([cohen_eff, test_eff, nonp_eff])\n",
    "        \n",
    "    distributions[k] = params\n",
    "    print k"
   ]
  },
  {
   "cell_type": "code",
   "execution_count": 11,
   "metadata": {
    "collapsed": false
   },
   "outputs": [],
   "source": [
    "# fig1 = plt.figure()\n",
    "# fig1.set_size_inches((4, 4))\n",
    "\n",
    "samples = params['sample']\n",
    "\n",
    "effs = params['effs']\n",
    "\n",
    "test = np.vstack(params['test'])\n",
    "trad = np.vstack(params['trad'])\n",
    "empn = np.vstack([d.mean(0) for d in params['empn']])\n",
    "emps = np.vstack([d.std(0) / np.sqrt(len(d)) * scipy.stats.t.ppf(0.975, len(d) - 1) \n",
    "                  for d in params['empn']])\n",
    "extn = np.vstack(params['extn'])"
   ]
  },
  {
   "cell_type": "code",
   "execution_count": null,
   "metadata": {
    "collapsed": true
   },
   "outputs": [],
   "source": []
  },
  {
   "cell_type": "code",
   "execution_count": 12,
   "metadata": {
    "collapsed": false
   },
   "outputs": [
    {
     "name": "stdout",
     "output_type": "stream",
     "text": [
      "0.000554431503055\n",
      "0.592480712643\n"
     ]
    }
   ],
   "source": [
    "cohen_d = np.hstack(zip(*effs)[0])\n",
    "print cohen_d.min()\n",
    "print cohen_d.max()"
   ]
  },
  {
   "cell_type": "code",
   "execution_count": null,
   "metadata": {
    "collapsed": false
   },
   "outputs": [],
   "source": [
    "shap_p = [[scipy.stats.shapiro(x)[1], scipy.stats.shapiro(y)[1]] for (x, y) in samples]"
   ]
  },
  {
   "cell_type": "code",
   "execution_count": null,
   "metadata": {
    "collapsed": false
   },
   "outputs": [],
   "source": [
    "shap_s = [[scipy.stats.shapiro(x)[0], scipy.stats.shapiro(y)[0]] for (x, y) in samples]"
   ]
  },
  {
   "cell_type": "code",
   "execution_count": 14,
   "metadata": {
    "collapsed": false
   },
   "outputs": [],
   "source": [
    "from matplotlib import cm\n",
    "\n",
    "means = np.array([np.mean(e) for e in zip(*effs)[2]])\n",
    "means_order = np.argsort(means)\n",
    "\n",
    "num_colors=len(means) # cats is a vector of the number of groups\n",
    "blues = cm.get_cmap('Blues') # Colormap name\n",
    "greens = cm.get_cmap('Greens')\n",
    "reds = cm.get_cmap('Reds')\n",
    "purples = cm.get_cmap('Purples')\n",
    "new_blues = np.array([list(blues((1.*i)/(num_colors))) for i in xrange(num_colors)])\n",
    "new_green = np.array([list(greens((1.*i)/(num_colors))) for i in xrange(num_colors)])\n",
    "new_reds = np.array([list(reds((1.*i)/(num_colors))) for i in xrange(num_colors)])\n",
    "new_purples = np.array([list(purples((1.*i)/(num_colors))) for i in xrange(num_colors)])"
   ]
  },
  {
   "cell_type": "code",
   "execution_count": 90,
   "metadata": {
    "collapsed": false
   },
   "outputs": [],
   "source": [
    "empn_r = (empn - test) / test"
   ]
  },
  {
   "cell_type": "code",
   "execution_count": 92,
   "metadata": {
    "collapsed": false
   },
   "outputs": [
    {
     "data": {
      "image/png": "[encoded data removed]",
      "text/plain": [
       "<matplotlib.figure.Figure at 0x112b87a10>"
      ]
     },
     "metadata": {},
     "output_type": "display_data"
    }
   ],
   "source": [
    "fig = plt.figure()\n",
    "\n",
    "ax2 = fig.add_subplot(2, 2, 1)\n",
    "ax3 = fig.add_subplot(2, 2, 2)\n",
    "ax6 = fig.add_subplot(2, 2, 3)\n",
    "ax7 = fig.add_subplot(2, 2, 4)\n",
    "\n",
    "\n",
    "# ax5.fill_between([0, 1], [-0.15, -0.15], [0.15, 0.15], color=[0.75, 0.75, 0.75], alpha=0.5)\n",
    "ax6.fill_between([0, 1], [-0.15, -0.15], [0.15, 0.15], color=[0.75, 0.75, 0.75], alpha=0.5)\n",
    "ax7.fill_between([0, 1], [-0.15, -0.15], [0.15, 0.15], color=[0.75, 0.75, 0.75], alpha=0.5)\n",
    "# ax8.fill_between([0, 1], [-0.15, -0.15], [0.15, 0.15], color=[0.75, 0.75, 0.75], alpha=0.5)\n",
    "\n",
    "\n",
    "\n",
    "# for idx in xrange(len(means_order)):\n",
    "for idx in xrange(num_colors):\n",
    "    loc = means_order[idx]\n",
    "#     loc = idx\n",
    "    cohen_eff, test_eff, nonp_eff = effs[idx] \n",
    "    # Sets up the power based on the traditional effect\n",
    "    \n",
    "#     # Sets up the power based on the emprical nonparametric test\n",
    "    ax2.errorbar(test[idx], empn[idx], emps[idx], \n",
    "                 linestyle='none', color=new_reds[loc]\n",
    "                 )\n",
    "    ax2.plot(test[idx], empn[idx], 'o', mfc='none', mec=new_reds[loc])\n",
    "    ax6.errorbar(test[idx],\n",
    "                 (empn[idx] - test[idx]) / test[idx],\n",
    "                 emps[idx] / test[idx],\n",
    "                 linestyle='none', color=new_reds[idx]\n",
    "                )\n",
    "    ax6.plot(test[idx], (empn[idx] - test[idx]) / test[idx], 'o', mfc='none', mec=new_reds[idx])\n",
    "    \n",
    "    # Sets up the power based on the extrapolated nonparametric test\n",
    "    n_pwr = np.array([ap.z_power(counts, e) for e in nonp_eff])\n",
    "    ax3.errorbar(test[idx], n_pwr.mean(0), \n",
    "                 n_pwr.std(0) / np.sqrt(len(nonp_eff)) * scipy.stats.t.ppf(0.975, len(nonp_eff)-1),\n",
    "                 linestyle='none', color=new_blues[loc])\n",
    "    ax3.plot(test[idx], n_pwr.mean(0), 'o', mfc='none', mec=new_blues[loc])\n",
    "    ax7.errorbar(test[idx], (n_pwr.mean(0) - test[idx]) / test[idx],\n",
    "                 n_pwr.std(0) / np.sqrt(len(nonp_eff)) * scipy.stats.t.ppf(0.975, len(nonp_eff)-1),\n",
    "                 linestyle='none', color=new_blues[loc]\n",
    "                 )\n",
    "    ax7.plot(test[idx], (n_pwr.mean(0) - test[idx])/test[idx], 'o', mfc='none', mec=new_blues[loc])\n",
    "    \n",
    "for i, ax in enumerate(fig.axes):\n",
    "    ax.set_xticks(np.arange(0, 1.1, 0.25))\n",
    "    ax.yaxis.set_ticks_position('left')\n",
    "    ax.xaxis.set_ticks_position('bottom')\n",
    "    ax.get_xaxis().set_tick_params(direction='out')\n",
    "    ax.get_yaxis().set_tick_params(direction='out')\n",
    "    ax.spines['right'].set_visible(False)\n",
    "    ax.spines['top'].set_visible(False)\n",
    "    if i < 2:\n",
    "        ax.set_yticks(np.arange(0, 1.1, 0.25))\n",
    "        ax.set_yticklabels('')\n",
    "        ax.set_xticklabels('')\n",
    "        ax.plot([0, 1], [0, 1], 'k-', linewidth=0.5)\n",
    "    else:\n",
    "        ax.set_ylim([-1.5, 1.5])\n",
    "        ax.set_yticks(np.arange(-1.5, 1.6, 0.5))\n",
    "        ax.set_yticklabels('')\n",
    "        ax.set_xticklabels(np.arange(0, 1.1, 0.25), size=11)\n",
    "        ax.plot([0, 1], [0, 0], 'k-', linewidth=0.5)\n",
    "        \n",
    "ax2.set_yticklabels(np.arange(0, 1.1, 0.25), size=11)\n",
    "ax6.set_yticklabels(np.arange(-1.5, 1.6, 0.5), size=11)\n",
    "# ax5.set_yticklabels(np.arange(-1, 1.1, 0.5), size=11)\n",
    "\n",
    "l = ax6.set_xlabel('Parametric power', size=12)\n",
    "l.set_position((1.1, 0.5))\n",
    "ax2.set_ylabel('Nonparametric Power', size=12)\n",
    "ax6.set_ylabel('Relative Difference', size=12)\n",
    "\n",
    "ax2.set_title('Emprical Power', size=12)\n",
    "ax3.set_title('Extrapolated Power', size=12)\n",
    "\n",
    "fig.set_size_inches((4, 4))\n",
    "\n",
    "fig.savefig('/Users/jwdebelius/Desktop/nonparametric_compare_gamma.pdf')"
   ]
  },
  {
   "cell_type": "code",
   "execution_count": 16,
   "metadata": {
    "collapsed": true
   },
   "outputs": [],
   "source": [
    "nonpara = np.array([(x.mean(), x.std(), len(x)) for x in zip(*effs)[2]])"
   ]
  },
  {
   "cell_type": "code",
   "execution_count": 17,
   "metadata": {
    "collapsed": false
   },
   "outputs": [],
   "source": [
    "d = np.array(zip(*effs)[0])\n",
    "em = np.array(nonpara[:, 0])\n",
    "es = np.array(nonpara[:, 1]) / np.sqrt(nonpara[:, 2]) * scipy.stats.t.ppf(0.975, nonpara[:, 2]-1)"
   ]
  },
  {
   "cell_type": "code",
   "execution_count": 18,
   "metadata": {
    "collapsed": false
   },
   "outputs": [],
   "source": [
    "x = np.array(params['offset'])\n",
    "n, m = zip(*params['size'])\n",
    "n = np.array(n) - np.array(m)\n",
    "m = np.array(m)\n",
    "s1, s2 = zip(*params['sigmas'])\n",
    "s1 = np.array(s1)\n",
    "s2 = np.array(s2)\n",
    "xbar = np.array(params['mus'])"
   ]
  },
  {
   "cell_type": "code",
   "execution_count": 19,
   "metadata": {
    "collapsed": false
   },
   "outputs": [],
   "source": [
    "y = (np.sqrt(((n-1) * np.square(s1) + (m - 1) * np.square(s2)) / (125 - 1)))"
   ]
  },
  {
   "cell_type": "code",
   "execution_count": 22,
   "metadata": {
    "collapsed": false
   },
   "outputs": [
    {
     "name": "stdout",
     "output_type": "stream",
     "text": [
      "(100,) (100,) ()\n"
     ]
    }
   ],
   "source": [
    "print x.shape, y.shape, e.shape"
   ]
  },
  {
   "cell_type": "code",
   "execution_count": 75,
   "metadata": {
    "collapsed": false
   },
   "outputs": [
    {
     "data": {
      "image/png": "[encoded data removed]",
      "text/plain": [
       "<matplotlib.figure.Figure at 0x112b24cd0>"
      ]
     },
     "metadata": {},
     "output_type": "display_data"
    }
   ],
   "source": [
    "fig = plt.figure()\n",
    "ax1 = fig.add_subplot(2, 3, 1)\n",
    "\n",
    "ax1.errorbar(d, em, es, marker='o', \n",
    "             linestyle='none', mfc='none',\n",
    "             color='#377eb8', mec='#377eb8')\n",
    "ax1.plot([0, 1], [0, 1], 'k-')\n",
    "\n",
    "ax2 = fig.add_subplot(2, 3, 2)\n",
    "# ax3.semilogx()\n",
    "for idx in xrange(len(d)):\n",
    "    ax2.plot([(x / y)[idx]] * 2, [d[idx], em[idx]], color=[0.5, 0.5, 0.5])\n",
    "ax2.plot(x / y, d, 'o', mfc='none')\n",
    "ax2.plot(x / y, em, 'o', mec='#377eb8', mfc='none')\n",
    "\n",
    "\n",
    "ax3 = fig.add_subplot(2, 3, 3)\n",
    "# ax4.semilogx()\n",
    "ax3.plot((x/y)[(np.isnan(x/y) == False) & ((em - d) < 0.25)], \n",
    "        (em-d)[(np.isnan(x/y) == False) & ((em - d) < 0.25)], \n",
    "         'o', mfc='none')\n",
    "\n",
    "ax1.set_xlim([0, 1])\n",
    "ax2.set_xlim([0, 2])\n",
    "ax3.set_xlim([0, 2])\n",
    "ax1.set_ylim([0, 1])\n",
    "ax2.set_ylim([0, 1])\n",
    "# ax3.set_ylim([0, 2])\n",
    "# ax3.set_ylim([0, 2])\n",
    "# ax3.set_ylim([-0.325, 0.325])\n",
    "\n",
    "ax1.set_xticks(np.arange(0, 1.1, 0.25))\n",
    "ax2.set_xticks(np.arange(0, 2.1, 0.5))\n",
    "ax3.set_xticks(np.arange(0, 2.1, 0.5))\n",
    "ax1.set_yticks(np.arange(0, 1.26, 0.25))\n",
    "ax2.set_yticks(np.arange(0, 1.26, 0.25))\n",
    "\n",
    "ax1.set_xticklabels(ax1.get_xticks(), size=11)\n",
    "ax2.set_xticklabels(ax2.get_xticks(), size=11)\n",
    "ax3.set_xticklabels(ax3.get_xticks(), size=11)\n",
    "ax1.set_yticklabels(ax1.get_yticks(), size=11)\n",
    "ax2.set_yticklabels('')\n",
    "ax3.set_yticklabels(ax3.get_yticks(), size=11)\n",
    "\n",
    "for i, ax in enumerate(fig.axes):\n",
    "    ax.yaxis.set_ticks_position('left')\n",
    "    ax.xaxis.set_ticks_position('bottom')\n",
    "    ax.get_xaxis().set_tick_params(direction='out')\n",
    "    ax.get_yaxis().set_tick_params(direction='out')\n",
    "    ax.spines['right'].set_visible(False)\n",
    "    ax.spines['top'].set_visible(False)\n",
    "    \n",
    "fig.savefig('/Users/jwdebelius/Desktop/eff_diff.pdf')"
   ]
  },
  {
   "cell_type": "code",
   "execution_count": 62,
   "metadata": {
    "collapsed": false
   },
   "outputs": [
    {
     "data": {
      "text/plain": [
       "LinregressResult(slope=0.053573100958055155, intercept=0.085004926624337993, rvalue=0.27538395214055478, pvalue=0.00633234848218504, stderr=0.019187606451872334)"
      ]
     },
     "execution_count": 62,
     "metadata": {},
     "output_type": "execute_result"
    }
   ],
   "source": [
    "scipy.stats.linregress((x/y)[(np.isnan(x/y) == False) & ((em - d) < 0.3)], \n",
    "                       (em-d)[(np.isnan(x/y) == False) & ((em - d) < 0.3)])"
   ]
  },
  {
   "cell_type": "code",
   "execution_count": 59,
   "metadata": {
    "collapsed": false
   },
   "outputs": [
    {
     "data": {
      "text/plain": [
       "0.0758363210191383"
      ]
     },
     "execution_count": 59,
     "metadata": {},
     "output_type": "execute_result"
    }
   ],
   "source": [
    "np.square(0.275383952)"
   ]
  },
  {
   "cell_type": "code",
   "execution_count": 67,
   "metadata": {
    "collapsed": false
   },
   "outputs": [
    {
     "data": {
      "image/png": "[encoded data removed]",
      "text/plain": [
       "<matplotlib.figure.Figure at 0x112b2a090>"
      ]
     },
     "metadata": {},
     "output_type": "display_data"
    }
   ],
   "source": [
    "for idx in xrange(100):\n",
    "    plt.plot([(x / y)[idx]]*6, (empn - test)[idx], 'o', mfc='none')"
   ]
  },
  {
   "cell_type": "code",
   "execution_count": null,
   "metadata": {
    "collapsed": false
   },
   "outputs": [],
   "source": [
    "print x / y"
   ]
  },
  {
   "cell_type": "code",
   "execution_count": null,
   "metadata": {
    "collapsed": false
   },
   "outputs": [],
   "source": [
    "np.argsort(d - e)"
   ]
  },
  {
   "cell_type": "code",
   "execution_count": null,
   "metadata": {
    "collapsed": false
   },
   "outputs": [],
   "source": [
    "shap = np.array([[scipy.stats.shapiro(s1)[1], scipy.stats.shapiro(s2)[1]]\n",
    "                 for s1, s2 in samples])\n",
    "shap_ord = np.argsort(np.product(np.array(shap_p), 1))"
   ]
  },
  {
   "cell_type": "code",
   "execution_count": null,
   "metadata": {
    "collapsed": false
   },
   "outputs": [],
   "source": [
    "grays = cm.get_cmap('Greys')\n",
    "new_grays = np.array([list(grays((1.*i)/(num_colors))) for i in xrange(num_colors)])\n",
    "\n",
    "\n",
    "\n",
    "# plt.plot(x, d, 'o', mfc='none', mec=[0.25, 0.25, 0.25])\n",
    "# plt.plot(x, e / shap_s, 'o', mfc='none', mec='#e31a1c')\n",
    "# for i in xrange(100):\n",
    "#     l = shap_ord[i]\n",
    "#     plt.plot(x[i], d[i], 'o', mec=new_grays[l], mfc='none')\n",
    "#     plt.plot(x[i], e[i], 'o', mec=new_reds[l], mfc='none')\n",
    "#     plt.plot([x[i], x[i]], [d[i], e[i]], color=new_grays[l])\n",
    "\n",
    "plt.plot(x, e - d, 'o')\n",
    "\n",
    "print scipy.stats.linregress(x, e - d)\n",
    "\n",
    "# ax3 = plt.gca()\n",
    "# ax3.set_xticklabels(ax3.get_xticks(), size=11)\n",
    "# ax3.set_yticklabels(ax3.get_yticks(), size=11)\n",
    "# ax3.set_ylabel('Effect Size', size=15)\n",
    "\n",
    "# ax3.set_xlabel('Offset', size=15)\n",
    "\n",
    "# ax3.yaxis.set_ticks_position('left')\n",
    "# ax3.xaxis.set_ticks_position('bottom')\n",
    "# ax3.get_xaxis().set_tick_params(direction='out')\n",
    "# ax3.get_yaxis().set_tick_params(direction='out')\n",
    "# ax3.spines['right'].set_visible(False)\n",
    "# ax3.spines['top'].set_visible(False)\n",
    "\n"
   ]
  },
  {
   "cell_type": "code",
   "execution_count": null,
   "metadata": {
    "collapsed": false
   },
   "outputs": [],
   "source": [
    "fig = plt.figure()\n",
    "fig.set_size_inches((3.5*1.5, 2.5*1.5))\n",
    "ax3 = fig.add_axes((0.125, 0.125, 0.75, 0.75))\n",
    "\n",
    "ax3.plot(d, empn[:, 2], 'o', mec=[0.25, 0.25, 0.25], mfc='none')\n",
    "ax3.plot(e, empn[:, 2], '.', color='#377eb8')\n",
    "\n",
    "ax3.set_xticklabels(ax3.get_xticks(), size=11)\n",
    "ax3.set_yticklabels(ax3.get_yticks(), size=11)\n",
    "ax3.set_ylabel('Power', size=15)\n",
    "\n",
    "ax3.set_xlabel('Effect Size', size=15)\n",
    "\n",
    "ax3.set_xticks(np.arange(0, 1.1, 0.25))\n",
    "ax3.yaxis.set_ticks_position('left')\n",
    "ax3.xaxis.set_ticks_position('bottom')\n",
    "ax3.get_xaxis().set_tick_params(direction='out')\n",
    "ax3.get_yaxis().set_tick_params(direction='out')\n",
    "ax3.spines['right'].set_visible(False)\n",
    "ax3.spines['top'].set_visible(False)\n",
    "\n",
    "fig.savefig('/Users/jwdebelius/Desktop/power_effect_nonparam_gamma.pdf')"
   ]
  },
  {
   "cell_type": "code",
   "execution_count": null,
   "metadata": {
    "collapsed": false
   },
   "outputs": [],
   "source": [
    "print np.max((e - d) / e) * 100\n",
    "print np.min((e - d) / e) * 100\n",
    "print np.mean((e - d) / e) * 100\n",
    "print np.std((e - d) / e) / np.sqrt(100) * scipy.stats.t.ppf(0.975, 99) * 100"
   ]
  },
  {
   "cell_type": "code",
   "execution_count": null,
   "metadata": {
    "collapsed": true
   },
   "outputs": [],
   "source": [
    "def ttest_ind_simulate(mu_lim, sigma_lim, count_lims, bench_lims, diff_lim):\n",
    "    # Gets the distribution parameters\n",
    "    mu = np.random.uniform(*mu_lim, size=2)\n",
    "    offset = np.random.uniform(*diff_lim)\n",
    "    sigma = np.random.uniform(*sigma_lim, size=2)\n",
    "    n = np.random.randint(*count_lims)\n",
    "    m = np.random.randint(*bench_lims)\n",
    "    \n",
    "    #     Draws a sample that fits the parameters\n",
    "    sample1 = np.hstack((np.random.normal(mu[0], sigma[0], n - m), \n",
    "                         np.random.normal(mu[1], sigma[1], m)))\n",
    "    sample2 = np.hstack((np.random.normal(mu[0], sigma[0], n - m), \n",
    "                         np.random.normal(mu[1], sigma[1], m))) + offset\n",
    "\n",
    "    return [mu, sigma, offset, n, m], [sample1, sample2]"
   ]
  },
  {
   "cell_type": "code",
   "execution_count": null,
   "metadata": {
    "collapsed": true
   },
   "outputs": [],
   "source": [
    "distributions['ttest_ind'] = {'emp_test_fun': emp_ttest_ind,\n",
    "                            'non_test_fun': emp_ttest_ind_nonpar,\n",
    "                            'trad_test_fun': calc_ttest_ind,\n",
    "                            'sim_function': ttest_ind_simulate,\n",
    "                            'sim_parameters': [[1, 8.], [2.5, 7.5], [125., 126.]],\n",
    "                            'other_sim_parameters': {'bench_lims': [25, 75], 'diff_lim': [1.5, 3.5]},\n",
    "                            'test_parameters': {},\n",
    "                            'emp_parameters': {},\n",
    "                            'effect_size': cohen_ttest_ind,\n",
    "                             }"
   ]
  },
  {
   "cell_type": "code",
   "execution_count": null,
   "metadata": {
    "collapsed": false
   },
   "outputs": [],
   "source": [
    "mu = [1., 6]\n",
    "offset = 3.5\n",
    "sigma = [2, 6]\n",
    "n = 125\n",
    "m = 50"
   ]
  },
  {
   "cell_type": "code",
   "execution_count": null,
   "metadata": {
    "collapsed": false
   },
   "outputs": [],
   "source": [
    "x1 = np.random.normal(mu[0], sigma[0], n - m)\n",
    "x2 = np.random.normal(mu[1], sigma[1], n)\n",
    "x3 = np.random.normal(mu[0], sigma[0], n - m) + offset\n",
    "x4 = np.random.normal(mu[1], sigma[1], n) + offset"
   ]
  },
  {
   "cell_type": "code",
   "execution_count": null,
   "metadata": {
    "collapsed": false
   },
   "outputs": [],
   "source": [
    "h1 = np.histogram(x1, np.arange(-15, 35, 2.5))[0]\n",
    "h2 = np.histogram(x2, np.arange(-15, 35, 2.5))[0]\n",
    "h3 = np.histogram(x3, np.arange(-15, 35, 2.5))[0]\n",
    "h4 = np.histogram(x4, np.arange(-15, 35, 2.5))[0]"
   ]
  },
  {
   "cell_type": "code",
   "execution_count": null,
   "metadata": {
    "collapsed": false
   },
   "outputs": [],
   "source": []
  },
  {
   "cell_type": "code",
   "execution_count": null,
   "metadata": {
    "collapsed": false
   },
   "outputs": [],
   "source": [
    "fig = plt.figure()\n",
    "ax1 = fig.add_subplot(4, 2, 1)\n",
    "ax2 = fig.add_subplot(4, 2, 3)\n",
    "ax3 = fig.add_subplot(2, 2, 2)\n",
    "ax2.bar(np.arange(-15, 32.5, 2.5), h1 / n, bottom=0,  \n",
    "        width=2.5, facecolor='#b2df8a', alpha=0.5, edgecolor='#b2df8a')\n",
    "ax1.bar(np.arange(-15, 32.5, 2.5), h2/n, bottom=0,\n",
    "        width=2.5, facecolor='#33a02c', alpha=0.5, edgecolor='#33a02c')\n",
    "ax3.bar(np.arange(-15, 32.5, 2.5), h1 / n, bottom=0,  \n",
    "        width=2.5, facecolor='#b2df8a', alpha=0.5, edgecolor='#b2df8a')\n",
    "ax3.bar(np.arange(-15, 32.5, 2.5), h2/n, bottom=h1/n,\n",
    "        width=2.5, facecolor='#33a02c', alpha=0.5, edgecolor='#33a02c')\n",
    "\n",
    "ax4 = fig.add_subplot(4, 2, 5)\n",
    "ax5 = fig.add_subplot(4, 2, 7)\n",
    "ax6 = fig.add_subplot(2, 2, 4)\n",
    "\n",
    "ax5.bar(np.arange(-15, 32.5, 2.5), h3 / n, bottom=0,\n",
    "        width=2.5, facecolor='#cab2d6', alpha=0.5, edgecolor='#cab2d6')\n",
    "ax4.bar(np.arange(-15, 32.5, 2.5), h4 / n, bottom=0,\n",
    "        width=2.5, facecolor='#6a3d9a', alpha=0.5, edgecolor='#6a3d9a')\n",
    "ax6.bar(np.arange(-15, 32.5, 2.5), h3 / n, bottom=0,\n",
    "        width=2.5, facecolor='#cab2d6', alpha=0.5, edgecolor='#cab2d6')\n",
    "ax6.bar(np.arange(-15, 32.5, 2.5), h4 / n, bottom=h3 / n,\n",
    "        width=2.5, facecolor='#6a3d9a', alpha=0.5, edgecolor='#6a3d9a')\n",
    "\n",
    "def format_axis(ax):\n",
    "    ax.plot(np.arange(-15, 32.5, 2.5), [0] * 19, 'w')\n",
    "    ax.set_ylim([-0.025, 0.425])\n",
    "    ax.set_xticks(np.arange(-15, 36, 10))\n",
    "    ax.set_yticks([-0.025])\n",
    "    ax.set_xticklabels('')\n",
    "    ax.set_yticklabels('')\n",
    "    ax.xaxis.set_ticks_position('bottom')\n",
    "    ax.get_xaxis().set_tick_params(direction='out')\n",
    "    ax.xaxis.set_tick_params\n",
    "    ax.spines['right'].set_visible(False)\n",
    "    ax.spines['left'].set_visible(False)\n",
    "    ax.spines['top'].set_visible(False)\n",
    "    \n",
    "format_axis(ax1)\n",
    "format_axis(ax2)\n",
    "format_axis(ax3)\n",
    "format_axis(ax4)\n",
    "format_axis(ax5)\n",
    "format_axis(ax6)\n",
    "\n",
    "fig.set_size_inches((6, 3))\n",
    "fig.savefig('/Users/jwdebelius/Desktop/draw_normal.pdf')"
   ]
  },
  {
   "cell_type": "code",
   "execution_count": null,
   "metadata": {
    "collapsed": false
   },
   "outputs": [],
   "source": [
    "xm1 = np.hstack((x1, x2))\n",
    "xm2 = np.hstack((x3, x4))\n",
    "\n",
    "samples = [xm1, xm2]"
   ]
  },
  {
   "cell_type": "code",
   "execution_count": null,
   "metadata": {
    "collapsed": false
   },
   "outputs": [],
   "source": [
    "nempr_power, nempr_counts = subsample_power(lambda x: params['non_test_fun'](*x, **params['test_parameters']),\n",
    "                                                  samples,\n",
    "                                                  min_counts=5,\n",
    "                                                  max_counts=65,\n",
    "                                                  counts_interval=10,\n",
    "                                                  num_runs=5,\n",
    "                                                  num_iter=1000)"
   ]
  },
  {
   "cell_type": "code",
   "execution_count": null,
   "metadata": {
    "collapsed": true
   },
   "outputs": [],
   "source": [
    "nonp_eff = ap.z_effect(nempr_counts, nempr_power)\n",
    "next_power = ap.z_power(counts, nonp_eff.mean())"
   ]
  },
  {
   "cell_type": "code",
   "execution_count": null,
   "metadata": {
    "collapsed": false
   },
   "outputs": [],
   "source": [
    "plt.plot(nempr_counts, nempr_power[0, :], marker='o', linestyle='none', mfc='none', mec='#1f78b4')\n",
    "plt.plot(nempr_counts, nempr_power[1, :], marker='o', linestyle='none', mfc='none', mec='#1f78b4')\n",
    "plt.plot(nempr_counts, nempr_power[2, :], marker='o', linestyle='none', mfc='none', mec='#1f78b4')\n",
    "plt.plot(nempr_counts, nempr_power[3, :], marker='o', linestyle='none', mfc='none', mec='#1f78b4')\n",
    "plt.plot(nempr_counts, nempr_power[4, :], marker='o', linestyle='none', mfc='none', mec='#1f78b4')\n",
    "\n"
   ]
  },
  {
   "cell_type": "code",
   "execution_count": null,
   "metadata": {
    "collapsed": false
   },
   "outputs": [],
   "source": [
    "fig = plt.figure()\n",
    "ax = fig.add_axes((0.125, 0.125, 0.75, 0.75))\n",
    "\n",
    "for idx in xrange(5):\n",
    "    ax.plot(nempr_counts, nempr_power[idx, :], marker='o', \n",
    "            linestyle='none', mfc='none', mec='#e31a1c')\n",
    "ax.fill_between(np.arange(0.5, 61, 1), \n",
    "                 ap.z_power(np.arange(0.5, 61, 1), nonp_eff.mean()) - \n",
    "                 ap.z_power(np.arange(0.5, 61, 1), nonp_eff.std() / np.sqrt(5) * scipy.stats.t.ppf(0.975, 4)),\n",
    "                 ap.z_power(np.arange(0.5, 61, 1), nonp_eff.mean()) \n",
    "                 + ap.z_power(np.arange(0.5, 61, 1), nonp_eff.std() / np.sqrt(5) * scipy.stats.t.ppf(0.975, 4)),\n",
    "                 color='#a6cee3', alpha=0.2)\n",
    "ax.plot(np.arange(0.5, 61, 1), \n",
    "         ap.z_power(np.arange(0.5, 61, 1), nonp_eff.mean()),\n",
    "         color='#1f78b4')\n",
    "ax.plot(np.arange(0.5, 61, 1), calc_ttest_ind(xm1, xm2, np.arange(0.5, 61, 1)), color='#737373', linewidth=1)\n",
    "\n",
    "ax.set_xlim([0, 60])\n",
    "ax.set_ylim([0, 1])\n",
    "ax.set_xticklabels(map(int, ax.get_xticks()), size=12)\n",
    "ax.set_yticklabels(ax.get_yticks(), size=12)\n",
    "ax.set_xlabel('Number of Observations per Group', size=15)\n",
    "ax.set_ylabel('Statistical Power', size=15)\n",
    "\n",
    "ax.xaxis.set_ticks_position('bottom')\n",
    "ax.yaxis.set_ticks_position('left')\n",
    "ax.get_xaxis().set_tick_params(direction='out')\n",
    "ax.get_yaxis().set_tick_params(direction='out')\n",
    "ax.xaxis.set_tick_params\n",
    "ax.spines['right'].set_visible(False)\n",
    "ax.spines['top'].set_visible(False)\n",
    "\n",
    "fig.savefig('/Users/jwdebelius/Desktop/sample_curve.pdf')"
   ]
  },
  {
   "cell_type": "code",
   "execution_count": null,
   "metadata": {
    "collapsed": false
   },
   "outputs": [],
   "source": [
    "ap.z_power(counts, ap.z_effect(nempr_counts, nempr_power).std())"
   ]
  },
  {
   "cell_type": "code",
   "execution_count": null,
   "metadata": {
    "collapsed": false
   },
   "outputs": [],
   "source": [
    "eff = ap.z_effect(nempr_counts, nempr_power)"
   ]
  },
  {
   "cell_type": "code",
   "execution_count": null,
   "metadata": {
    "collapsed": false
   },
   "outputs": [],
   "source": [
    "e_pwr = np.vstack([ap.z_power(counts, e) for e in eff])"
   ]
  },
  {
   "cell_type": "code",
   "execution_count": null,
   "metadata": {
    "collapsed": false
   },
   "outputs": [],
   "source": [
    "fig = plt.figure()\n",
    "fig.set_size_inches((4, 4))\n",
    "ax1 = fig.add_subplot(2, 2, 1)\n",
    "ax2 = fig.add_subplot(2, 2, 2)\n",
    "ax3 = fig.add_subplot(2, 2, 3)\n",
    "ax4 = fig.add_subplot(2, 2, 4)\n",
    "\n",
    "ax1.errorbar(calc_ttest_ind(xm1, xm2, counts), \n",
    "             nempr_power.mean(0), \n",
    "             yerr=(nempr_power.std() / np.sqrt(np.prod(nempr_power.shape)) * \n",
    "             scipy.stats.t.ppf(0.975, np.prod(nempr_power.shape)-1)),\n",
    "             linestyle='none', marker='o', mfc='none', color='#e31a1c', mec='#e31a1c')\n",
    "ax3.errorbar(calc_ttest_ind(xm1, xm2, counts),\n",
    "             (nempr_power.mean(0) - calc_ttest_ind(xm1, xm2, counts)) / calc_ttest_ind(xm1, xm2, counts),\n",
    "             yerr=((nempr_power.std(0) / np.sqrt(np.prod(nempr_power.shape)) * \n",
    "                   scipy.stats.t.ppf(0.975, np.prod(nempr_power.shape)-1)) \n",
    "                   / calc_ttest_ind(xm1, xm2, counts)),\n",
    "             linestyle='none', marker='o', mfc='none', color='#e31a1c', mec='#e31a1c')\n",
    "ax2.errorbar(calc_ttest_ind(xm1, xm2, counts),\n",
    "             e_pwr.mean(0),\n",
    "             e_pwr.std(0) / np.sqrt(len(eff)) * scipy.stats.t.ppf(0.975, len(eff) - 1),\n",
    "             linestyle='none', marker='o', mfc='none', color='#1f78b4', mec='#1f78b4')\n",
    "ax4.errorbar(calc_ttest_ind(xm1, xm2, counts),\n",
    "             (e_pwr.mean(0) - calc_ttest_ind(xm1, xm2, counts))/calc_ttest_ind(xm1, xm2, counts),\n",
    "             (e_pwr.std(0) / np.sqrt(len(eff)) * scipy.stats.t.ppf(0.975, len(eff) - 1)),\n",
    "             linestyle='none', marker='o', mfc='none', color='#1f78b4', mec='#1f78b4')\n",
    "\n",
    "#          ap.z_power(counts, eff.std() / np.)\n",
    "#              ap.z_power(counts, ap.z_effect(nempr_counts, nempr_power).mean(0)),\n",
    "#              yerr=(ap.z_power(counts, ap.z_effect(nempr_counts, nempr_power)).std(0)))\n",
    "#                    np.sqrt(np.prod(nempr_power.shape)) * \n",
    "#                    scipy.stats.t.ppf(0.975, np.prod(nempr_power.shape)-1))\n",
    "# )\n",
    "\n",
    "ax1.plot([0, 1], [0, 1], 'k-')\n",
    "ax2.plot([0, 1], [0, 1], 'k-')\n",
    "ax3.plot([0, 1], [0, 0], 'k-')\n",
    "ax4.plot([0, 1], [0, 0], 'k-')\n",
    "\n",
    "for i, ax in enumerate(fig.axes):\n",
    "    ax.set_xticks(np.arange(0, 1.1, 0.25))\n",
    "    ax.yaxis.set_ticks_position('left')\n",
    "    ax.xaxis.set_ticks_position('bottom')\n",
    "    ax.get_xaxis().set_tick_params(direction='out')\n",
    "    ax.get_yaxis().set_tick_params(direction='out')\n",
    "    ax.spines['right'].set_visible(False)\n",
    "    ax.spines['top'].set_visible(False)\n",
    "    if i < 2:\n",
    "        ax.set_yticks(np.arange(0, 1.1, 0.25))\n",
    "        ax.set_yticklabels('')\n",
    "        ax.set_xticklabels('')\n",
    "        ax.plot([0, 1], [0, 1], 'k-', linewidth=0.5)\n",
    "    else:\n",
    "        ax.set_ylim([-1., 1.])\n",
    "        ax.set_yticks(np.arange(-1., 1.1, 0.5))\n",
    "        ax.set_yticklabels('')\n",
    "        ax.set_xticklabels(np.arange(0, 1.1, 0.25), size=11)\n",
    "        ax.plot([0, 1], [0, 0], 'k-', linewidth=0.5)\n",
    "        \n",
    "ax1.set_ylim([0, 1])\n",
    "ax1.set_yticklabels(ax1.get_yticks(), size=11)\n",
    "ax3.set_yticklabels(ax.get_yticks(), size=11)\n",
    "\n",
    "l = ax3.set_xlabel('Parametric power', size=12)\n",
    "l.set_position((1.1, 0.5))\n",
    "ax1.set_ylabel('Nonparametric Power', size=12)\n",
    "ax3.set_ylabel('Relative Difference', size=12)\n",
    "\n",
    "ax1.set_title('Emprical Power', size=12)\n",
    "ax2.set_title('Extrapolated Power', size=12)\n",
    "\n",
    "fig.set_size_inches((4, 4))\n",
    "\n",
    "fig.savefig('/Users/jwdebelius/Desktop/compare_gamma.pdf')"
   ]
  },
  {
   "cell_type": "code",
   "execution_count": null,
   "metadata": {
    "collapsed": true
   },
   "outputs": [],
   "source": []
  }
 ],
 "metadata": {
  "kernelspec": {
   "display_name": "Python 2",
   "language": "python",
   "name": "python2"
  },
  "language_info": {
   "codemirror_mode": {
    "name": "ipython",
    "version": 2
   },
   "file_extension": ".py",
   "mimetype": "text/x-python",
   "name": "python",
   "nbconvert_exporter": "python",
   "pygments_lexer": "ipython2",
   "version": "2.7.3"
  }
 },
 "nbformat": 4,
 "nbformat_minor": 0
}
