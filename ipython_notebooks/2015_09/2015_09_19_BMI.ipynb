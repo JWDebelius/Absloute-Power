{
 "cells": [
  {
   "cell_type": "code",
   "execution_count": 1,
   "metadata": {
    "collapsed": true
   },
   "outputs": [],
   "source": [
    "from __future__ import division\n",
    "\n",
    "import os\n",
    "import matplotlib.pyplot as plt\n",
    "import numpy as np\n",
    "import skbio\n",
    "import scipy.stats\n",
    "import statsmodels.api as sms\n",
    "import statsmodels.formula.api as smf\n",
    "\n",
    "import absloute_power.traditional as trad\n",
    "import absloute_power.utils as ap\n",
    "\n",
    "\n",
    "import pandas as pd\n",
    "import biom\n",
    "\n",
    "from skbio.stats.power import subsample_power, subsample_paired_power\n",
    "\n",
    "from absloute_power.traditional import calc_ttest_1\n",
    "\n",
    "import pickle"
   ]
  },
  {
   "cell_type": "code",
   "execution_count": 20,
   "metadata": {
    "collapsed": true
   },
   "outputs": [],
   "source": [
    "from matplotlib import rcParams\n",
    "\n",
    "\n",
    "\n",
    "# Sets up plotting parameters so that the default setting is use to Helvetica\n",
    "# in plots\n",
    "rcParams['font.family'] = 'sans-serif'\n",
    "rcParams['font.sans-serif'] = ['Helvetica', 'Arial']\n",
    "rcParams['text.usetex'] = True\n",
    "\n",
    "% matplotlib inline"
   ]
  },
  {
   "cell_type": "code",
   "execution_count": 2,
   "metadata": {
    "collapsed": true
   },
   "outputs": [],
   "source": [
    "base_dir = '/Users/jwdebelius/Repositories/Absloute-Power'\n",
    "data_dir = os.path.join(base_dir, 'data/merged_otu_table_and_mapping_bmi')\n",
    "map_fp = os.path.join(data_dir, 'merged_bmi_mapping_final.txt')\n",
    "otu_fp = os.path.join(data_dir, 'merged_bmi_otu_1k.biom')\n",
    "uud_fp = os.path.join(data_dir, '1k/unweighted_unifrac_dm.txt')"
   ]
  },
  {
   "cell_type": "code",
   "execution_count": 3,
   "metadata": {
    "collapsed": true
   },
   "outputs": [],
   "source": [
    "map_ = pd.read_csv(map_fp, sep='\\t', dtype=str)\n",
    "map_.set_index('#SampleID', inplace=True)\n",
    "uud = skbio.DistanceMatrix.read(uud_fp)"
   ]
  },
  {
   "cell_type": "code",
   "execution_count": 4,
   "metadata": {
    "collapsed": true
   },
   "outputs": [],
   "source": [
    "inter_ids = list(set(map_.index).intersection(set(uud.ids)))"
   ]
  },
  {
   "cell_type": "code",
   "execution_count": 5,
   "metadata": {
    "collapsed": true
   },
   "outputs": [],
   "source": [
    "map_ = map_.loc[inter_ids]\n",
    "uud = uud.filter(inter_ids)"
   ]
  },
  {
   "cell_type": "code",
   "execution_count": 77,
   "metadata": {
    "collapsed": false
   },
   "outputs": [
    {
     "data": {
      "text/plain": [
       "Index([u'BarcodeSequence', u'LinkerPrimerSequence', u'BMI',\n",
       "       u'bmi_group_binned', u'bmi_group_coded', u'original_study',\n",
       "       u'combined_study_bmi_group', u'merged_category_bmi',\n",
       "       u'merged_weight_cats_study', u'PCR_PRIMERS', u'TARGET_SUBFRAGMENT',\n",
       "       u'AGE', u'AGE_CHECK', u'ELEVATION', u'LONGITUDE', u'COUNTRY',\n",
       "       u'SEQUENCING_METH', u'SAMPLE_CENTER', u'Description_duplicate',\n",
       "       u'ReversePrimer', u'COLLECTION_DATE', u'SEX', u'FAMILY_RELATIONSHIP_GG',\n",
       "       u'STUDY_CENTER', u'EXPERIMENT_CENTER', u'bmi_group_amish',\n",
       "       u'RUN_CENTER', u'LATITUDE', u'Description'],\n",
       "      dtype='object')"
      ]
     },
     "execution_count": 77,
     "metadata": {},
     "output_type": "execute_result"
    }
   ],
   "source": [
    "map_.columns"
   ]
  },
  {
   "cell_type": "markdown",
   "metadata": {},
   "source": [
    "I'd like to compare the studies for healthy adults. So, I'm going to compare the studies without filtering, and then compare by filtering on lean western adults, only."
   ]
  },
  {
   "cell_type": "code",
   "execution_count": 79,
   "metadata": {
    "collapsed": false
   },
   "outputs": [
    {
     "data": {
      "text/plain": [
       "original_study\n",
       "COMBO_Wu                  97\n",
       "HMP                      167\n",
       "Turnbaugh_mz_dz_twins    150\n",
       "Yatsunenko_GG            226\n",
       "amish_Fraser             300\n",
       "dtype: int64"
      ]
     },
     "execution_count": 79,
     "metadata": {},
     "output_type": "execute_result"
    }
   ],
   "source": [
    "wadults.groupby('original_study').count().max(1)"
   ]
  },
  {
   "cell_type": "code",
   "execution_count": 6,
   "metadata": {
    "collapsed": false
   },
   "outputs": [],
   "source": [
    "wadults = map_.loc[(map_.AGE > 20) & (map_.COUNTRY == 'GAZ:United States of America')]\n",
    "healthy = wadults.loc[(wadults.bmi_group_coded == 'Normal') & (wadults.AGE > 20)]\n",
    "obese = wadults.loc[(wadults.merged_category_bmi == 'OvOb') & (wadults.AGE > 20)]\n",
    "\n",
    "study_aids = [g for g in wadults.groupby('original_study').groups.itervalues()]\n",
    "study_hids = [g for g in healthy.groupby('original_study').groups.itervalues()]\n",
    "study_oids = [g for g in obese.groupby('original_study').groups.itervalues()]\n",
    "\n",
    "studyavids = [wadults.groupby('original_study').groups[g] for g in ['COMBO_Wu', 'amish_Fraser', 'Turnbaugh_mz_dz_twins']]\n",
    "studyhvids = [healthy.groupby('original_study').groups[g] for g in ['COMBO_Wu', 'amish_Fraser', 'Turnbaugh_mz_dz_twins']]\n",
    "studyovids = [obese.groupby('original_study').groups[g] for g in ['COMBO_Wu', 'amish_Fraser', 'Turnbaugh_mz_dz_twins']]"
   ]
  },
  {
   "cell_type": "code",
   "execution_count": 87,
   "metadata": {
    "collapsed": true
   },
   "outputs": [],
   "source": [
    "bmi_aids = [g for g in wadults.groupby('bmi_group_coded').groups.itervalues()]\n",
    "bmi_vids = [g for g in wadults.loc[wadults.TARGET_SUBFRAGMENT == 'V2'].groupby('bmi_group_coded').groups.itervalues()]\n",
    "bmi_wids = [g for g in wadults.loc[wadults.original_study == 'COMBO_Wu'].groupby('bmi_group_coded').groups.itervalues()]\n",
    "bmi_fids = [g for g in wadults.loc[wadults.original_study == 'amish_Fraser'].groupby('bmi_group_coded').groups.itervalues()]\n",
    "bmi_tids = [g for g in wadults.loc[wadults.original_study == 'Turnbaugh_mz_dz_twins'].groupby('bmi_group_coded').groups.itervalues()]"
   ]
  },
  {
   "cell_type": "code",
   "execution_count": 95,
   "metadata": {
    "collapsed": true
   },
   "outputs": [],
   "source": [
    "def test_beta_permanova(ids, meta, dm, cat, num_iter=999):\n",
    "    \"\"\"Tests difference in beta diversity for a category and distance matrix\"\"\"\n",
    "    # Gets the map and distance matrix subset\n",
    "    all_ids = np.hstack(ids)\n",
    "    # Calculates the permanova\n",
    "    perma_results = skbio.stats.distance.permanova(dm.filter(all_ids), \n",
    "                                                   meta.loc[all_ids],\n",
    "                                                   cat,\n",
    "                                                   num_iter)\n",
    "    # Returns the p value\n",
    "    return perma_results['p-value']"
   ]
  },
  {
   "cell_type": "code",
   "execution_count": 11,
   "metadata": {
    "collapsed": true
   },
   "outputs": [],
   "source": [
    "study_test = lambda x: test_beta_permanova(x, map_, uud, 'original_study')"
   ]
  },
  {
   "cell_type": "code",
   "execution_count": 96,
   "metadata": {
    "collapsed": true
   },
   "outputs": [],
   "source": [
    "bmi_test = lambda x: test_beta_permanova(x, map_, uud, 'bmi_group_coded')"
   ]
  },
  {
   "cell_type": "code",
   "execution_count": 60,
   "metadata": {
    "collapsed": false
   },
   "outputs": [],
   "source": [
    "s_a_power, s_a_counts = subsample_power(study_test,\n",
    "                                        study_aids,\n",
    "                                        min_counts=3,\n",
    "                                        max_counts=14,\n",
    "                                        counts_interval=1,\n",
    "                                        num_runs=5,\n",
    "                                        alpha_pwr=0.02)"
   ]
  },
  {
   "cell_type": "code",
   "execution_count": 61,
   "metadata": {
    "collapsed": false
   },
   "outputs": [],
   "source": [
    "sva_power, sva_counts = subsample_power(study_test,\n",
    "                                        studyavids,\n",
    "                                        min_counts=3,\n",
    "                                        max_counts=14,\n",
    "                                        counts_interval=1,\n",
    "                                        alpha_pwr=0.02,\n",
    "                                        num_runs=5)"
   ]
  },
  {
   "cell_type": "code",
   "execution_count": 62,
   "metadata": {
    "collapsed": true
   },
   "outputs": [],
   "source": [
    "sma_power, sma_counts = subsample_paired_power(study_test,\n",
    "                                               wadults,\n",
    "                                               'original_study',\n",
    "                                               ['bmi_group_coded'],\n",
    "                                               min_counts=3,\n",
    "                                               max_counts=14,\n",
    "                                               counts_interval=1,\n",
    "                                               alpha_pwr=0.02,\n",
    "                                               num_runs=5)"
   ]
  },
  {
   "cell_type": "code",
   "execution_count": 63,
   "metadata": {
    "collapsed": false
   },
   "outputs": [],
   "source": [
    "smv_power, smv_counts = subsample_paired_power(study_test,\n",
    "                                               wadults.loc[wadults.TARGET_SUBFRAGMENT == 'V2'],\n",
    "                                               'original_study',\n",
    "                                               ['bmi_group_coded'],\n",
    "                                               min_counts=3,\n",
    "                                               max_counts=14,\n",
    "                                               counts_interval=1,\n",
    "                                               alpha_pwr=0.02,\n",
    "                                               num_runs=5)"
   ]
  },
  {
   "cell_type": "code",
   "execution_count": 89,
   "metadata": {
    "collapsed": false
   },
   "outputs": [],
   "source": [
    "b_a_power, b_a_counts = subsample_power(bmi_test,\n",
    "                                        bmi_aids,\n",
    "                                        min_counts=5,\n",
    "                                        max_counts=100,\n",
    "                                        counts_interval=5,\n",
    "                                        num_runs=5,\n",
    "                                        alpha_pwr=0.02)\n",
    "\n",
    "b_v_power, b_v_counts = subsample_power(bmi_test,\n",
    "                                        bmi_vids,\n",
    "                                        min_counts=5,\n",
    "                                        max_counts=100,\n",
    "                                        counts_interval=5,\n",
    "                                        num_runs=5,\n",
    "                                        alpha_pwr=0.02)"
   ]
  },
  {
   "cell_type": "code",
   "execution_count": 91,
   "metadata": {
    "collapsed": false
   },
   "outputs": [],
   "source": [
    "b_t_power, b_t_counts = subsample_power(bmi_test,\n",
    "                                        bmi_tids,\n",
    "                                        min_counts=5,\n",
    "                                        max_counts=100,\n",
    "                                        counts_interval=5,\n",
    "                                        num_runs=5,\n",
    "                                        alpha_pwr=0.02)\n",
    "\n",
    "b_w_power, b_w_counts = subsample_power(bmi_test,\n",
    "                                        bmi_wids,\n",
    "                                        min_counts=5,\n",
    "                                        max_counts=100,\n",
    "                                        counts_interval=5,\n",
    "                                        num_runs=5,\n",
    "                                        alpha_pwr=0.02)\n",
    "\n",
    "b_f_power, b_f_counts = subsample_power(bmi_test,\n",
    "                                        bmi_fids,\n",
    "                                        min_counts=5,\n",
    "                                        max_counts=100,\n",
    "                                        counts_interval=5,\n",
    "                                        num_runs=5,\n",
    "                                        alpha_pwr=0.02)"
   ]
  },
  {
   "cell_type": "code",
   "execution_count": null,
   "metadata": {
    "collapsed": true
   },
   "outputs": [],
   "source": [
    "mi_aids = [g for g in wadults.groupby('bmi_group_coded').groups.iteritems()]\n",
    "bmi_vids = [g for g in wadults.loc[wadults.TARGET_SUBFRAGMENT == 'V2'].groupby('bmi_group_coded').groups.iteritems()]\n",
    "bmi_wids = [g for g in wadults.loc[wadults.original_study == 'COMBO_Wu'].groupby('bmi_group_coded').groups.iteritems()]\n",
    "bmi_fids = [g for g in wadults.loc[wadults.original_study == 'amish_Fraser'].groupby('bmi_group_coded').groups.iteritems()]\n",
    "bmi_tids = [g for g in wadults.loc[wadults.original_study == 'Turnbaugh_mz_dz_twins'].groupby('bmi_group_coded').groups.iteritems()]"
   ]
  },
  {
   "cell_type": "code",
   "execution_count": 92,
   "metadata": {
    "collapsed": true
   },
   "outputs": [],
   "source": [
    "study = {('all', 'all'): [s_a_power, s_a_counts],\n",
    "         ('all', 'matched'): [sma_power, sma_counts],\n",
    "         ('V2', 'all'): [sva_power, sva_counts],\n",
    "         ('V2', 'matched'): [smv_power, smv_counts],\n",
    "         ('bmi', 'all'): [b_a_power, b_a_counts],\n",
    "         ('bmi', 'v2'): [b_v_power, b_v_counts],\n",
    "         ('bmi', 'wu'): [b_w_power, b_w_counts],\n",
    "         ('bmi', 'fraser'): [b_f_power, b_f_counts],\n",
    "         ('bmi', 'turnbaugh'): [b_t_power, b_t_counts]\n",
    "        }"
   ]
  },
  {
   "cell_type": "code",
   "execution_count": 93,
   "metadata": {
    "collapsed": false
   },
   "outputs": [
    {
     "name": "stdout",
     "output_type": "stream",
     "text": [
      "('V2', 'matched') 2.51 0.29\n",
      "('bmi', 'wu') 0.17 0.07\n",
      "('bmi', 'fraser') 0.19 0.02\n",
      "('bmi', 'turnbaugh') 0.17 0.05\n",
      "('all', 'all') 3.95 nan\n",
      "('all', 'matched') 3.95 nan\n",
      "('bmi', 'all') 0.64 0.04\n",
      "('V2', 'all') 2.46 0.29\n",
      "('bmi', 'v2') 0.52 0.03\n"
     ]
    }
   ],
   "source": [
    "for k, (pwr, cnt) in study.iteritems():\n",
    "    eff = ap.z_effect(cnt, pwr, 0.05)\n",
    "    n = np.sum(np.isnan(eff) == False)\n",
    "    print k, np.round(np.nanmean(eff), 2),  np.round(np.nanstd(eff) / np.sqrt(n) * scipy.stats.t.ppf(0.975, n-1), 2)"
   ]
  },
  {
   "cell_type": "code",
   "execution_count": 97,
   "metadata": {
    "collapsed": false
   },
   "outputs": [
    {
     "name": "stdout",
     "output_type": "stream",
     "text": [
      "turnbaugh 0.001\n",
      "wu 0.001\n",
      "fraser 0.001\n"
     ]
    }
   ],
   "source": [
    "print 'turnbaugh', bmi_test(bmi_tids)\n",
    "print 'wu', bmi_test(bmi_wids)\n",
    "print 'fraser', bmi_test(bmi_fids)"
   ]
  },
  {
   "cell_type": "code",
   "execution_count": 125,
   "metadata": {
    "collapsed": false
   },
   "outputs": [
    {
     "data": {
      "image/png": "[encoded data removed]",
      "text/plain": [
       "<matplotlib.figure.Figure at 0x1121c8510>"
      ]
     },
     "metadata": {},
     "output_type": "display_data"
    }
   ],
   "source": [
    "ax = plt.axes()\n",
    "\n",
    "ax.fill_between(np.arange(0, 100.1, 0.25), \n",
    "                ap.z_power(np.arange(0, 100.1, 0.25), 3.90, 0.02), \n",
    "                ap.z_power(np.arange(0, 100.1, 0.25), 4., 0.02), \n",
    "                color='#66c2a5', alpha=0.33)\n",
    "ax.fill_between(np.arange(0, 100.1, 0.25), \n",
    "                ap.z_power(np.arange(0, 100.1, 0.25), 2.46-0.29, 0.02), \n",
    "                ap.z_power(np.arange(0, 100.1, 0.25), 2.46+0.29, 0.02), \n",
    "                color='#fc8d62', alpha=0.33)\n",
    "ax.fill_between(np.arange(0, 100.1, 0.5),\n",
    "                ap.z_power(np.arange(0, 100.1, 0.5), 1.48-0.18, 0.02),\n",
    "                ap.z_power(np.arange(0, 100.1, 0.5), 1.48+0.18, 0.02),\n",
    "                color='#8da0cb', alpha=0.33)\n",
    "ax.fill_between(np.arange(0, 100.1, 0.5),\n",
    "                ap.z_power(np.arange(0, 100.1, 0.5), 0.32-0.04, 0.02),\n",
    "                ap.z_power(np.arange(0, 100.1, 0.5), 0.32+0.04, 0.02),\n",
    "                color='#e78ac3', alpha=0.33)\n",
    "ax.fill_between(np.arange(0, 100.1, 0.5),\n",
    "                ap.z_power(np.arange(0, 100.1, 0.5), 0.25-0.05, 0.02),\n",
    "                ap.z_power(np.arange(0, 100.1, 0.5), 0.25+0.05, 0.02),\n",
    "                color='#a6d854', alpha=0.33)\n",
    "\n",
    "\n",
    "\n",
    "ax.plot(np.arange(0, 100.1, 0.5), ap.z_power(np.arange(0, 100.1, 0.5), 3.95, 0.02), '#1b9e77')\n",
    "ax.plot(np.arange(0, 100.1, 0.5), ap.z_power(np.arange(0, 100.1, 0.5), 2.46, 0.02), '#d95f02')\n",
    "ax.plot(np.arange(0, 100.1, 0.5), ap.z_power(np.arange(0, 100.1, 0.5), 1.48, 0.02), '#7570b3')\n",
    "ax.plot(np.arange(0, 100.1, 0.5), ap.z_power(np.arange(0, 100.1, 0.5), 0.32, 0.02), '#e7298a')\n",
    "ax.plot(np.arange(0, 100.1, 0.5), ap.z_power(np.arange(0, 100.1, 0.5), 0.25, 0.02), '#66a61e')\n",
    "\n",
    "ax.set_xticks(np.arange(0, 100.1, 10))\n",
    "ax.yaxis.set_ticks_position('left')\n",
    "ax.xaxis.set_ticks_position('bottom')\n",
    "ax.get_xaxis().set_tick_params(direction='out')\n",
    "ax.get_yaxis().set_tick_params(direction='out')\n",
    "ax.spines['right'].set_visible(False)\n",
    "ax.spines['top'].set_visible(False)\n",
    "ax.set_xticklabels(map(int, ax.get_xticks()), size=11)\n",
    "ax.set_yticklabels(ax.get_yticks(), size=11)\n",
    "ax.set_xlabel('Number of Observations per Group', size=15)\n",
    "ax.set_ylabel('Statistical Power', size=15)\n",
    "\n",
    "ax.legend(['All Studies', 'V2 Studies', 'Primer', 'Processing Center', 'BMI'], frameon=False)\n",
    "\n",
    "# for idx in xrange(3):\n",
    "#     plt.plot(s_a_counts, s_a_power[idx, :], 'o', mfc='none', mec='#1b9e77')\n",
    "#     plt.plot(smv_counts, smv_power[idx, :], '*', mfc='none', mec='#e7298a')\n",
    "    \n",
    "fig = ax.figure\n",
    "fig.savefig('/Users/jwdebelius/Desktop/bmi_power.pdf')"
   ]
  },
  {
   "cell_type": "code",
   "execution_count": 76,
   "metadata": {
    "collapsed": false
   },
   "outputs": [
    {
     "data": {
      "text/plain": [
       "2.17"
      ]
     },
     "execution_count": 76,
     "metadata": {},
     "output_type": "execute_result"
    }
   ],
   "source": []
  },
  {
   "cell_type": "code",
   "execution_count": null,
   "metadata": {
    "collapsed": false
   },
   "outputs": [],
   "source": [
    "2.65 - 0.43"
   ]
  },
  {
   "cell_type": "code",
   "execution_count": null,
   "metadata": {
    "collapsed": true
   },
   "outputs": [],
   "source": [
    "target_ids = [g for g in hmp_map.groupby('TARGET_SUBFRAGMENT').groups.itervalues()]"
   ]
  },
  {
   "cell_type": "code",
   "execution_count": null,
   "metadata": {
    "collapsed": false
   },
   "outputs": [],
   "source": [
    "target_test = lambda x: test_beta_permanova(x, hmp_map, uud, 'TARGET_SUBFRAGMENT')"
   ]
  },
  {
   "cell_type": "code",
   "execution_count": null,
   "metadata": {
    "collapsed": false
   },
   "outputs": [],
   "source": [
    "tar_power, tar_counts = subsample_power(target_test,\n",
    "                                        target_ids,\n",
    "                                        min_counts=3,\n",
    "                                        max_counts=14,\n",
    "                                        counts_interval=1,\n",
    "                                        num_runs=3,\n",
    "                                        alpha_pwr=0.02)"
   ]
  },
  {
   "cell_type": "code",
   "execution_count": null,
   "metadata": {
    "collapsed": false
   },
   "outputs": [],
   "source": [
    "tar_power"
   ]
  },
  {
   "cell_type": "code",
   "execution_count": null,
   "metadata": {
    "collapsed": false
   },
   "outputs": [],
   "source": [
    "tar_counts"
   ]
  },
  {
   "cell_type": "code",
   "execution_count": null,
   "metadata": {
    "collapsed": false
   },
   "outputs": [],
   "source": [
    "eff = ap.z_effect(tar_counts, tar_power, 0.02)\n",
    "n = np.sum(np.isnan(eff) == False)\n",
    "print 'target', np.nanmean(eff), np.nanstd(eff) / np.sqrt(n) * scipy.stats.t.ppf(0.975, n-1)"
   ]
  },
  {
   "cell_type": "code",
   "execution_count": null,
   "metadata": {
    "collapsed": false
   },
   "outputs": [],
   "source": [
    "map_.groupby('original_study').count().max(1)"
   ]
  },
  {
   "cell_type": "code",
   "execution_count": null,
   "metadata": {
    "collapsed": true
   },
   "outputs": [],
   "source": []
  }
 ],
 "metadata": {
  "kernelspec": {
   "display_name": "Python 2",
   "language": "python",
   "name": "python2"
  },
  "language_info": {
   "codemirror_mode": {
    "name": "ipython",
    "version": 2
   },
   "file_extension": ".py",
   "mimetype": "text/x-python",
   "name": "python",
   "nbconvert_exporter": "python",
   "pygments_lexer": "ipython2",
   "version": "2.7.3"
  }
 },
 "nbformat": 4,
 "nbformat_minor": 0
}
