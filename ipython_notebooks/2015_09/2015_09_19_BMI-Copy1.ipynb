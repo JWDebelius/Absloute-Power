{
 "cells": [
  {
   "cell_type": "code",
   "execution_count": 1,
   "metadata": {
    "collapsed": true
   },
   "outputs": [],
   "source": [
    "from __future__ import division\n",
    "\n",
    "import os\n",
    "import matplotlib.pyplot as plt\n",
    "import numpy as np\n",
    "import skbio\n",
    "import scipy.stats\n",
    "import statsmodels.api as sms\n",
    "import statsmodels.formula.api as smf\n",
    "\n",
    "import absloute_power.traditional as trad\n",
    "import absloute_power.utils as ap\n",
    "\n",
    "\n",
    "import pandas as pd\n",
    "import biom\n",
    "\n",
    "from skbio.stats.power import subsample_power, subsample_paired_power\n",
    "\n",
    "from absloute_power.traditional import calc_ttest_1\n",
    "\n",
    "import pickle"
   ]
  },
  {
   "cell_type": "code",
   "execution_count": 2,
   "metadata": {
    "collapsed": true
   },
   "outputs": [],
   "source": [
    "from matplotlib import rcParams\n",
    "\n",
    "\n",
    "\n",
    "# Sets up plotting parameters so that the default setting is use to Helvetica\n",
    "# in plots\n",
    "rcParams['font.family'] = 'sans-serif'\n",
    "rcParams['font.sans-serif'] = ['Helvetica', 'Arial']\n",
    "rcParams['text.usetex'] = True\n",
    "\n",
    "% matplotlib inline"
   ]
  },
  {
   "cell_type": "code",
   "execution_count": 3,
   "metadata": {
    "collapsed": true
   },
   "outputs": [],
   "source": [
    "base_dir = '/Users/jwdebelius/Repositories/Absloute-Power'\n",
    "data_dir = os.path.join(base_dir, 'data/merged_otu_table_and_mapping_bmi/region_hmp')\n",
    "map_fp = os.path.join(data_dir, 'hmp_map_clean.txt')\n",
    "otu_fp = os.path.join(data_dir, 'merged_bmi_otu_1k__original_study_HMP__.biom')\n",
    "uud_fp = os.path.join(data_dir, 'pcoas/unweighted_unifrac_dm.txt')"
   ]
  },
  {
   "cell_type": "code",
   "execution_count": 9,
   "metadata": {
    "collapsed": true
   },
   "outputs": [],
   "source": [
    "map_ = pd.read_csv(map_fp, sep='\\t', dtype=str)\n",
    "map_.set_index('#SampleID', inplace=True)\n",
    "uud = skbio.DistanceMatrix.read(uud_fp)"
   ]
  },
  {
   "cell_type": "code",
   "execution_count": 10,
   "metadata": {
    "collapsed": true
   },
   "outputs": [],
   "source": [
    "inter_ids = list(set(map_.index).intersection(set(uud.ids)))"
   ]
  },
  {
   "cell_type": "code",
   "execution_count": 11,
   "metadata": {
    "collapsed": true
   },
   "outputs": [],
   "source": [
    "map_ = map_.loc[inter_ids]\n",
    "uud = uud.filter(inter_ids)"
   ]
  },
  {
   "cell_type": "code",
   "execution_count": 13,
   "metadata": {
    "collapsed": false
   },
   "outputs": [
    {
     "data": {
      "text/plain": [
       "Index([u'BARCODE', u'LinkerPrimerSequence', u'AGE', u'BMI', u'bmi_group_coded',\n",
       "       u'body_site', u'COLLECTION_DATE', u'combined_study_bmi_group',\n",
       "       u'COUNTRY', u'EXPERIMENT_CENTER', u'HMP_body_subsite',\n",
       "       u'HMP_body_supersite', u'host_subject_id', u'LATITUDE',\n",
       "       u'LinkerPrimerSequence.1', u'LONGITUDE', u'merged_category_bmi',\n",
       "       u'merged_weight_cats_study', u'original_study', u'PCR_PRIMERS',\n",
       "       u'PLATFORM', u'REGION', u'RUN_CENTER', u'Run_id', u'SAMPLE_ACCESSION',\n",
       "       u'SAMPLE_CENTER', u'SAMPLE_CENTER.1', u'SEQUENCING_METH', u'SEX',\n",
       "       u'STUDY_CENTER', u'TARGET_SUBFRAGMENT', u'Description'],\n",
       "      dtype='object')"
      ]
     },
     "execution_count": 13,
     "metadata": {},
     "output_type": "execute_result"
    }
   ],
   "source": [
    "map_.columns"
   ]
  },
  {
   "cell_type": "code",
   "execution_count": 48,
   "metadata": {
    "collapsed": false
   },
   "outputs": [
    {
     "data": {
      "text/plain": [
       "merged_category_bmi\n",
       "Normal    112\n",
       "OvOb       89\n",
       "dtype: int64"
      ]
     },
     "execution_count": 48,
     "metadata": {},
     "output_type": "execute_result"
    }
   ],
   "source": [
    "map_.groupby(['merged_category_bmi']).count().max(1)"
   ]
  },
  {
   "cell_type": "code",
   "execution_count": 31,
   "metadata": {
    "collapsed": false
   },
   "outputs": [
    {
     "data": {
      "text/plain": [
       "bmi_group_coded\n",
       "Normal        56\n",
       "Obese         11\n",
       "Overweight    27\n",
       "dtype: int64"
      ]
     },
     "execution_count": 31,
     "metadata": {},
     "output_type": "execute_result"
    }
   ],
   "source": [
    "map_.loc[map_.TARGET_SUBFRAGMENT == 'V35'].groupby('bmi_group_coded').count().max(1)"
   ]
  },
  {
   "cell_type": "markdown",
   "metadata": {},
   "source": [
    "I'd like to compare the studies for healthy adults. So, I'm going to compare the studies without filtering, and then compare by filtering on lean western adults, only."
   ]
  },
  {
   "cell_type": "code",
   "execution_count": 41,
   "metadata": {
    "collapsed": true
   },
   "outputs": [],
   "source": [
    "def test_beta_permanova(ids, meta, dm, cat, num_iter=999):\n",
    "    \"\"\"Tests difference in beta diversity for a category and distance matrix\"\"\"\n",
    "    # Gets the map and distance matrix subset\n",
    "    all_ids = np.hstack(ids)\n",
    "    # Calculates the permanova\n",
    "    perma_results = skbio.stats.distance.permanova(dm.filter(all_ids), \n",
    "                                                   meta.loc[all_ids],\n",
    "                                                   cat,\n",
    "                                                   num_iter)\n",
    "    # Returns the p value\n",
    "    return perma_results['p-value']"
   ]
  },
  {
   "cell_type": "code",
   "execution_count": 42,
   "metadata": {
    "collapsed": true
   },
   "outputs": [],
   "source": [
    "reg_test = lambda x: test_beta_permanova(x, map_, uud, 'TARGET_SUBFRAGMENT')"
   ]
  },
  {
   "cell_type": "code",
   "execution_count": 43,
   "metadata": {
    "collapsed": true
   },
   "outputs": [],
   "source": [
    "center_test = lambda x: test_beta_permanova(x, map_, uud, 'STUDY_CENTER')"
   ]
  },
  {
   "cell_type": "code",
   "execution_count": 52,
   "metadata": {
    "collapsed": true
   },
   "outputs": [],
   "source": [
    "bmi_test = lambda x: test_beta_permanova(x, map_, uud, 'merged_category_bmi')"
   ]
  },
  {
   "cell_type": "code",
   "execution_count": 53,
   "metadata": {
    "collapsed": false
   },
   "outputs": [],
   "source": [
    "reg_ids = [i for i in map_.groupby('TARGET_SUBFRAGMENT').groups.itervalues()]\n",
    "cen_ids = [map_.loc[map_.TARGET_SUBFRAGMENT == 'V35'].groupby('STUDY_CENTER').groups[g] for g in ['BI', 'JCVI']]\n",
    "bmi_ids = [i for i in map_.loc[map_.TARGET_SUBFRAGMENT == 'V35'].groupby('merged_category_bmi').groups.itervalues()]"
   ]
  },
  {
   "cell_type": "code",
   "execution_count": 35,
   "metadata": {
    "collapsed": false
   },
   "outputs": [],
   "source": [
    "reg_power, reg_counts = subsample_power(reg_test,\n",
    "                                        reg_ids,\n",
    "                                        min_counts=3,\n",
    "                                        max_counts=14,\n",
    "                                        counts_interval=1,\n",
    "                                        num_runs=5,\n",
    "                                        alpha_pwr=0.02)"
   ]
  },
  {
   "cell_type": "code",
   "execution_count": 36,
   "metadata": {
    "collapsed": false
   },
   "outputs": [],
   "source": [
    "cen_power, cen_counts = subsample_power(center_test,\n",
    "                                        cen_ids,\n",
    "                                        min_counts=3,\n",
    "                                        max_counts=25,\n",
    "                                        counts_interval=2,\n",
    "                                        alpha_pwr=0.02,\n",
    "                                        num_runs=5)"
   ]
  },
  {
   "cell_type": "code",
   "execution_count": 37,
   "metadata": {
    "collapsed": true
   },
   "outputs": [],
   "source": [
    "bmi_power, bmi_counts = subsample_power(bmi_test,\n",
    "                                        bmi_ids,\n",
    "                                        min_counts=3,\n",
    "                                        max_counts=25,\n",
    "                                        counts_interval=2,\n",
    "                                        alpha_pwr=0.02,\n",
    "                                        num_runs=5)"
   ]
  },
  {
   "cell_type": "code",
   "execution_count": 38,
   "metadata": {
    "collapsed": true
   },
   "outputs": [],
   "source": [
    "study = {'region': [reg_power, reg_counts],\n",
    "         'center': [cen_power, cen_counts],\n",
    "         'bmi': [bmi_power, bmi_counts],\n",
    "        }"
   ]
  },
  {
   "cell_type": "code",
   "execution_count": 45,
   "metadata": {
    "collapsed": false
   },
   "outputs": [
    {
     "data": {
      "text/plain": [
       "0.001"
      ]
     },
     "execution_count": 45,
     "metadata": {},
     "output_type": "execute_result"
    }
   ],
   "source": [
    "reg_test(reg_ids)"
   ]
  },
  {
   "cell_type": "code",
   "execution_count": 46,
   "metadata": {
    "collapsed": false
   },
   "outputs": [
    {
     "data": {
      "text/plain": [
       "0.001"
      ]
     },
     "execution_count": 46,
     "metadata": {},
     "output_type": "execute_result"
    }
   ],
   "source": [
    "center_test(cen_ids)"
   ]
  },
  {
   "cell_type": "code",
   "execution_count": 54,
   "metadata": {
    "collapsed": false
   },
   "outputs": [
    {
     "data": {
      "text/plain": [
       "0.078"
      ]
     },
     "execution_count": 54,
     "metadata": {},
     "output_type": "execute_result"
    }
   ],
   "source": [
    "bmi_test(bmi_ids)"
   ]
  },
  {
   "cell_type": "code",
   "execution_count": 39,
   "metadata": {
    "collapsed": false
   },
   "outputs": [
    {
     "name": "stdout",
     "output_type": "stream",
     "text": [
      "region 1.48 0.18\n",
      "bmi 0.25 0.05\n",
      "center 0.32 0.04\n"
     ]
    }
   ],
   "source": [
    "for k, (pwr, cnt) in study.iteritems():\n",
    "    eff = ap.z_effect(cnt, pwr, 0.05)\n",
    "    n = np.sum(np.isnan(eff) == False)\n",
    "    print k, np.round(np.nanmean(eff), 2),  np.round(np.nanstd(eff) / np.sqrt(n) * scipy.stats.t.ppf(0.975, n-1), 2)"
   ]
  },
  {
   "cell_type": "code",
   "execution_count": null,
   "metadata": {
    "collapsed": true
   },
   "outputs": [],
   "source": []
  },
  {
   "cell_type": "code",
   "execution_count": 74,
   "metadata": {
    "collapsed": false
   },
   "outputs": [
    {
     "data": {
      "image/png": "[encoded data removed]",
      "text/plain": [
       "<matplotlib.figure.Figure at 0x10d527550>"
      ]
     },
     "metadata": {},
     "output_type": "display_data"
    }
   ],
   "source": [
    "ax = plt.axes()\n",
    "\n",
    "ax.fill_between(np.arange(0, 15.1, 0.25), \n",
    "                ap.z_power(np.arange(0, 15.1, 0.25), 3.90, 0.02), \n",
    "                ap.z_power(np.arange(0, 15.1, 0.25), 4., 0.02), \n",
    "                color='#66c2a5', alpha=0.33)\n",
    "ax.fill_between(np.arange(0, 15.1, 0.25), \n",
    "                ap.z_power(np.arange(0, 15.1, 0.25), 3.90, 0.02), \n",
    "                ap.z_power(np.arange(0, 15.1, 0.25), 4., 0.02), \n",
    "                color='#fc8d62', alpha=0.33)\n",
    "ax.fill_between(np.arange(0, 15.1, 0.25), \n",
    "                ap.z_power(np.arange(0, 15.1, 0.25), 2.51-0.29, 0.02), \n",
    "                ap.z_power(np.arange(0, 15.1, 0.25), 2.51+0.29, 0.02), \n",
    "                color='#8da0cb', alpha=0.33)\n",
    "ax.fill_between(np.arange(0, 15.1, 0.25), \n",
    "                ap.z_power(np.arange(0, 15.1, 0.25), 2.46-0.29, 0.02), \n",
    "                ap.z_power(np.arange(0, 15.1, 0.25), 2.46+0.29, 0.02), \n",
    "                color='#e78ac3', alpha=0.33)\n",
    "\n",
    "ax.plot(np.arange(0, 15.1, 0.25), ap.z_power(np.arange(0, 15.1, 0.25), 3.95, 0.02), '#66c2a5')\n",
    "ax.plot(np.arange(0, 15.1, 0.25), ap.z_power(np.arange(0, 15.1, 0.25), 3.95, 0.02), '#fc8d62')\n",
    "ax.plot(np.arange(0, 15.1, 0.25), ap.z_power(np.arange(0, 15.1, 0.25), 2.51, 0.02), '#8da0cb')\n",
    "ax.plot(np.arange(0, 15.1, 0.25), ap.z_power(np.arange(0, 15.1, 0.25), 2.46, 0.02), '#e78ac3')\n",
    "\n",
    "for idx in xrange(3):\n",
    "    plt.plot(s_a_counts, s_a_power[idx, :], 'o', mfc='none', mec='#1b9e77')\n",
    "    plt.plot(sma_counts, sma_power[idx, :], 's', mfc='none', mec='#d95f02')\n",
    "    plt.plot(sva_counts, sva_power[idx, :], '^', mfc='none', mec='#7570b3')\n",
    "    plt.plot(smv_counts, smv_power[idx, :], '*', mfc='none', mec='#e7298a')\n",
    "    \n",
    "    "
   ]
  },
  {
   "cell_type": "code",
   "execution_count": 76,
   "metadata": {
    "collapsed": false
   },
   "outputs": [
    {
     "data": {
      "text/plain": [
       "2.17"
      ]
     },
     "execution_count": 76,
     "metadata": {},
     "output_type": "execute_result"
    }
   ],
   "source": []
  },
  {
   "cell_type": "code",
   "execution_count": null,
   "metadata": {
    "collapsed": false
   },
   "outputs": [],
   "source": [
    "2.65 - 0.43"
   ]
  },
  {
   "cell_type": "code",
   "execution_count": null,
   "metadata": {
    "collapsed": true
   },
   "outputs": [],
   "source": [
    "target_ids = [g for g in hmp_map.groupby('TARGET_SUBFRAGMENT').groups.itervalues()]"
   ]
  },
  {
   "cell_type": "code",
   "execution_count": null,
   "metadata": {
    "collapsed": false
   },
   "outputs": [],
   "source": [
    "target_test = lambda x: test_beta_permanova(x, hmp_map, uud, 'TARGET_SUBFRAGMENT')"
   ]
  },
  {
   "cell_type": "code",
   "execution_count": null,
   "metadata": {
    "collapsed": false
   },
   "outputs": [],
   "source": [
    "tar_power, tar_counts = subsample_power(target_test,\n",
    "                                        target_ids,\n",
    "                                        min_counts=3,\n",
    "                                        max_counts=14,\n",
    "                                        counts_interval=1,\n",
    "                                        num_runs=3,\n",
    "                                        alpha_pwr=0.02)"
   ]
  },
  {
   "cell_type": "code",
   "execution_count": null,
   "metadata": {
    "collapsed": false
   },
   "outputs": [],
   "source": [
    "tar_power"
   ]
  },
  {
   "cell_type": "code",
   "execution_count": null,
   "metadata": {
    "collapsed": false
   },
   "outputs": [],
   "source": [
    "tar_counts"
   ]
  },
  {
   "cell_type": "code",
   "execution_count": null,
   "metadata": {
    "collapsed": false
   },
   "outputs": [],
   "source": [
    "eff = ap.z_effect(tar_counts, tar_power, 0.02)\n",
    "n = np.sum(np.isnan(eff) == False)\n",
    "print 'target', np.nanmean(eff), np.nanstd(eff) / np.sqrt(n) * scipy.stats.t.ppf(0.975, n-1)"
   ]
  },
  {
   "cell_type": "code",
   "execution_count": null,
   "metadata": {
    "collapsed": false
   },
   "outputs": [],
   "source": [
    "map_.groupby('original_study').count().max(1)"
   ]
  },
  {
   "cell_type": "code",
   "execution_count": null,
   "metadata": {
    "collapsed": true
   },
   "outputs": [],
   "source": []
  }
 ],
 "metadata": {
  "kernelspec": {
   "display_name": "Python 2",
   "language": "python",
   "name": "python2"
  },
  "language_info": {
   "codemirror_mode": {
    "name": "ipython",
    "version": 2
   },
   "file_extension": ".py",
   "mimetype": "text/x-python",
   "name": "python",
   "nbconvert_exporter": "python",
   "pygments_lexer": "ipython2",
   "version": "2.7.3"
  }
 },
 "nbformat": 4,
 "nbformat_minor": 0
}
