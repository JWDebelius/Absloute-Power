{
 "cells": [
  {
   "cell_type": "code",
   "execution_count": 32,
   "metadata": {
    "collapsed": false
   },
   "outputs": [],
   "source": [
    "from __future__ import division\n",
    "\n",
    "import os\n",
    "import matplotlib.pyplot as plt\n",
    "import numpy as np\n",
    "import skbio\n",
    "import scipy.stats\n",
    "import statsmodels.api as sms\n",
    "import statsmodels.formula.api as smf\n",
    "\n",
    "import absloute_power.traditional as trad\n",
    "import absloute_power.utils as ap\n",
    "\n",
    "\n",
    "import pandas as pd\n",
    "import biom\n",
    "\n",
    "from skbio.stats.power import subsample_power\n",
    "\n",
    "from absloute_power.traditional import calc_ttest_1\n",
    "\n",
    "import pickle"
   ]
  },
  {
   "cell_type": "code",
   "execution_count": 11,
   "metadata": {
    "collapsed": false
   },
   "outputs": [],
   "source": [
    "base_dir = '/Users/jwdebelius/Repositories/Absloute-Power'\n",
    "data_dir = os.path.join(base_dir, 'data/otu_table_and_mapping_ibd')\n",
    "map_fp = os.path.join(data_dir, 'merged_mapping_file_raw__BODY_SITE_feces__.txt')\n",
    "otu_fp = os.path.join(data_dir, 'merged_otu_table_IBD_only_feces_1k__BODY_SITE_feces__.biom')\n",
    "uud_fp = os.path.join(data_dir, '1k/unweighted_unifrac_dm.txt')"
   ]
  },
  {
   "cell_type": "code",
   "execution_count": 59,
   "metadata": {
    "collapsed": false
   },
   "outputs": [],
   "source": [
    "map_ = pd.read_csv(map_fp, sep='\\t', dtype=str)\n",
    "map_.set_index('#SampleID', inplace=True)\n",
    "uud = skbio.DistanceMatrix.read(uud_fp)"
   ]
  },
  {
   "cell_type": "code",
   "execution_count": 13,
   "metadata": {
    "collapsed": true
   },
   "outputs": [],
   "source": [
    "def test_beta_permanova(ids, meta, dm, cat, num_iter=99):\n",
    "    \"\"\"Tests difference in beta diversity for a category and distance matrix\"\"\"\n",
    "    # Gets the map and distance matrix subset\n",
    "    all_ids = np.hstack(ids)\n",
    "    # Calculates the permanova\n",
    "    perma_results = skbio.stats.distance.permanova(dm.filter(all_ids), \n",
    "                                                   meta.loc[all_ids],\n",
    "                                                   cat,\n",
    "                                                   num_iter)\n",
    "    # Returns the p value\n",
    "    return perma_results['p-value']"
   ]
  },
  {
   "cell_type": "code",
   "execution_count": 14,
   "metadata": {
    "collapsed": false
   },
   "outputs": [
    {
     "data": {
      "text/plain": [
       "Index([u'BarcodeSequence', u'LinkerPrimerSequence', u'IBD_CAT_META',\n",
       "       u'DIAGNOSIS', u'DIAGNOSIS_2', u'DISEASE_STAT', u'SAMPLE_TYPE',\n",
       "       u'IBD_TYPE', u'ULCERATIVE_COLIT_OR_CROHNS_DIS', u'DISEASE_STATUS',\n",
       "       u'DISEASE_STAT2', u'IBD', u'AGE', u'CD_RESECTION', u'BODY_SITE',\n",
       "       u'COUNTRY', u'BMI', u'SAMPLE_CENTER', u'SMOKING_STATUS', u'TITLE',\n",
       "       u'AB_TYPE', u'AB', u'ABX', u'SEX', u'sex', u'ETHNICITY', u'RACE',\n",
       "       u'STUDY_CENTER', u'PLATFORM', u'STEROIDS', u'STUDY_ID', u'RUN_CENTER',\n",
       "       u'Description'],\n",
       "      dtype='object')"
      ]
     },
     "execution_count": 14,
     "metadata": {},
     "output_type": "execute_result"
    }
   ],
   "source": [
    "map_.columns"
   ]
  },
  {
   "cell_type": "code",
   "execution_count": 15,
   "metadata": {
    "collapsed": false
   },
   "outputs": [
    {
     "data": {
      "text/plain": [
       "DIAGNOSIS_2\n",
       "Crohns                259\n",
       "Healthy               122\n",
       "IBD undefined           1\n",
       "Ulcerative Colitis    267\n",
       "dtype: int64"
      ]
     },
     "execution_count": 15,
     "metadata": {},
     "output_type": "execute_result"
    }
   ],
   "source": [
    "map_.groupby('DIAGNOSIS_2').count().max(1)"
   ]
  },
  {
   "cell_type": "code",
   "execution_count": 16,
   "metadata": {
    "collapsed": false
   },
   "outputs": [
    {
     "data": {
      "text/plain": [
       "IBD_TYPE\n",
       "CCD    111\n",
       "HC     122\n",
       "ICD    148\n",
       "UC     267\n",
       "dtype: int64"
      ]
     },
     "execution_count": 16,
     "metadata": {},
     "output_type": "execute_result"
    }
   ],
   "source": [
    "map_.groupby('IBD_TYPE').count().max(1)"
   ]
  },
  {
   "cell_type": "code",
   "execution_count": 10,
   "metadata": {
    "collapsed": true
   },
   "outputs": [],
   "source": [
    "map_.loc[map_.DIAGNOSIS_2 == 'IBD undefined', 'DIAGNOSIS_2'] = np.nan\n",
    "map_.loc[map_.STUDY_ID == '966', 'STUDY_ID'] = np.nan"
   ]
  },
  {
   "cell_type": "code",
   "execution_count": 11,
   "metadata": {
    "collapsed": true
   },
   "outputs": [],
   "source": [
    "study_test = lambda x: test_beta_permanova(x, map_, uud, 'STUDY_ID')\n",
    "ibd_test = lambda x: test_beta_permanova(x, map_, uud, 'DIAGNOSIS_2')"
   ]
  },
  {
   "cell_type": "code",
   "execution_count": 17,
   "metadata": {
    "collapsed": true
   },
   "outputs": [],
   "source": [
    "inter_ids = list(set(map_.index).intersection(set(uud.ids)))"
   ]
  },
  {
   "cell_type": "code",
   "execution_count": 13,
   "metadata": {
    "collapsed": false
   },
   "outputs": [],
   "source": [
    "study_ids = [ids for ids in map_.loc[inter_ids].groupby('STUDY_ID').groups.itervalues()]\n",
    "ibd_ids = [ids for ids in map_.loc[inter_ids].groupby('DIAGNOSIS_2').groups.itervalues()]"
   ]
  },
  {
   "cell_type": "code",
   "execution_count": 18,
   "metadata": {
    "collapsed": true
   },
   "outputs": [],
   "source": []
  },
  {
   "cell_type": "code",
   "execution_count": 19,
   "metadata": {
    "collapsed": false
   },
   "outputs": [],
   "source": [
    "type_test = lambda x: test_beta_permanova(x, map_, uud, 'IBD_TYPE')"
   ]
  },
  {
   "cell_type": "code",
   "execution_count": 35,
   "metadata": {
    "collapsed": false
   },
   "outputs": [
    {
     "data": {
      "text/plain": [
       "0.001"
      ]
     },
     "execution_count": 35,
     "metadata": {},
     "output_type": "execute_result"
    }
   ],
   "source": [
    "ibd_test(ibd_ids)"
   ]
  },
  {
   "cell_type": "code",
   "execution_count": 17,
   "metadata": {
    "collapsed": false
   },
   "outputs": [],
   "source": [
    "study_power, study_counts = subsample_power(study_test, \n",
    "                                            study_ids, \n",
    "                                            min_counts=3, \n",
    "                                            max_counts=15, \n",
    "                                            alpha_pwr=0.02,\n",
    "                                            counts_interval=1)"
   ]
  },
  {
   "cell_type": "code",
   "execution_count": 18,
   "metadata": {
    "collapsed": false
   },
   "outputs": [],
   "source": [
    "ibd_power, ibd_counts = subsample_power(ibd_test, \n",
    "                                            ibd_ids, \n",
    "                                            min_counts=5, \n",
    "                                            max_counts=25, \n",
    "                                            alpha_pwr=0.02,\n",
    "                                            counts_interval=2)"
   ]
  },
  {
   "cell_type": "code",
   "execution_count": 24,
   "metadata": {
    "collapsed": false
   },
   "outputs": [
    {
     "name": "stdout",
     "output_type": "stream",
     "text": [
      "1.218\n"
     ]
    },
    {
     "data": {
      "text/plain": [
       "0.035000000000000003"
      ]
     },
     "execution_count": 24,
     "metadata": {},
     "output_type": "execute_result"
    }
   ],
   "source": [
    "print np.round(np.nanmean(ap.z_effect(ibd_counts, ibd_power, 0.02)), 3)\n",
    "np.round(np.nanstd(ap.z_effect(ibd_counts, ibd_power)) / np.sqrt(np.prod(ibd_power.shape)) * scipy.stats.t.ppf(0.975, np.prod(ibd_power.shape)-1), 3)"
   ]
  },
  {
   "cell_type": "code",
   "execution_count": null,
   "metadata": {
    "collapsed": true
   },
   "outputs": [],
   "source": [
    "print np.round(np.nanmean(ap.z_effect(ibd_counts, ibd_power, 0.02)), 3)\n",
    "np.round(np.nanstd(ap.z_effect(ibd_counts, ibd_power)) / np.sqrt(np.prod(ibd_power.shape)) * scipy.stats.t.ppf(0.975, np.prod(ibd_power.shape)-1), 3)"
   ]
  },
  {
   "cell_type": "markdown",
   "metadata": {},
   "source": [
    "### ids"
   ]
  },
  {
   "cell_type": "code",
   "execution_count": 26,
   "metadata": {
    "collapsed": false
   },
   "outputs": [],
   "source": [
    "import pickle\n",
    "with open(os.path.join(data_dir, 'ibd.p'), 'wb') as f_:\n",
    "    pickle.dump([study_power, study_counts, ibd_power, ibd_counts], f_)"
   ]
  },
  {
   "cell_type": "code",
   "execution_count": 28,
   "metadata": {
    "collapsed": false
   },
   "outputs": [
    {
     "data": {
      "text/plain": [
       "'/Users/jwdebelius/Repositories/Absloute-Power/data/otu_table_and_mapping_ibd/ibd.p'"
      ]
     },
     "execution_count": 28,
     "metadata": {},
     "output_type": "execute_result"
    }
   ],
   "source": [
    "os.path.join(data_dir, 'ibd.p')"
   ]
  },
  {
   "cell_type": "code",
   "execution_count": 38,
   "metadata": {
    "collapsed": false
   },
   "outputs": [
    {
     "data": {
      "text/plain": [
       "<Container object of 3 artists>"
      ]
     },
     "execution_count": 38,
     "metadata": {},
     "output_type": "execute_result"
    },
    {
     "data": {
      "image/png": "[encoded data removed]",
      "text/plain": [
       "<matplotlib.figure.Figure at 0x10c6bbc90>"
      ]
     },
     "metadata": {},
     "output_type": "display_data"
    }
   ],
   "source": [
    "%matplotlib inline\n",
    "plt.errorbar(study_counts, study_power.mean(0), yerr=study_power.std(0) / np.sqrt())\n",
    "plt.errorbar(ibd_counts, ibd_power.mean(0), yerr=ibd_power.std(0))\n",
    "# plt.plot(np.arange(1, 15, 0.5), ap.z_power(np.arange(1, 15, 0.5), baby_eff))\n",
    "# plt.fill_between(np.arange(1, 15, 0.5), \n",
    "#                  ap.z_power(np.arange(1, 15, 0.5), baby_eff - baby_sem),\n",
    "#                  ap.z_power(np.arange(1, 15, 0.5), baby_eff + baby_sem))"
   ]
  },
  {
   "cell_type": "code",
   "execution_count": 39,
   "metadata": {
    "collapsed": false
   },
   "outputs": [
    {
     "data": {
      "text/plain": [
       "(10, 12)"
      ]
     },
     "execution_count": 39,
     "metadata": {},
     "output_type": "execute_result"
    }
   ],
   "source": [
    "study_power.shape"
   ]
  },
  {
   "cell_type": "code",
   "execution_count": 21,
   "metadata": {
    "collapsed": true
   },
   "outputs": [],
   "source": [
    "ibd_type_groups = map_.loc[inter_ids].groupby('IBD_TYPE').groups\n",
    "type_ids = [ids for ids in ibd_type_groups.itervalues()]\n",
    "\n",
    "hc_cc_ids = [ibd_type_groups[g] for g in ['HC', 'CCD']]\n",
    "hc_ic_ids = [ibd_type_groups[g] for g in ['HC', 'ICD']]\n",
    "hc_uc_ids = [ibd_type_groups[g] for g in ['HC', 'UC']]\n",
    "cc_ic_ids = [ibd_type_groups[g] for g in ['CCD', 'ICD']]\n",
    "cc_uc_ids = [ibd_type_groups[g] for g in ['CCD', 'UC']]\n",
    "ic_uc_ids = [ibd_type_groups[g] for g in ['ICD', 'UC']]\n",
    "\n"
   ]
  },
  {
   "cell_type": "code",
   "execution_count": 22,
   "metadata": {
    "collapsed": true
   },
   "outputs": [],
   "source": [
    "type_test = lambda x: test_beta_permanova(x, map_, uud, 'IBD_TYPE')"
   ]
  },
  {
   "cell_type": "code",
   "execution_count": 24,
   "metadata": {
    "collapsed": false
   },
   "outputs": [],
   "source": [
    "type_power, type_counts = subsample_power(type_test, \n",
    "                                            type_ids, \n",
    "                                            min_counts=5, \n",
    "                                            max_counts=25, \n",
    "                                            alpha_pwr=0.02,\n",
    "                                            counts_interval=3)"
   ]
  },
  {
   "cell_type": "code",
   "execution_count": 27,
   "metadata": {
    "collapsed": false
   },
   "outputs": [
    {
     "name": "stdout",
     "output_type": "stream",
     "text": [
      "all types 1.54300273639 0.0585478091639\n"
     ]
    }
   ],
   "source": [
    "eff = ap.z_effect(type_counts, type_power)\n",
    "print 'all types', np.nanmean(eff), np.nanstd(eff) / np.sqrt(len(eff)) * scipy.stats.t.ppf(0.975, len(eff) - 1)"
   ]
  },
  {
   "cell_type": "code",
   "execution_count": 28,
   "metadata": {
    "collapsed": true
   },
   "outputs": [],
   "source": [
    "hc_cc_power, hc_cc_counts = subsample_power(type_test, \n",
    "                                            hc_cc_ids, \n",
    "                                            min_counts=5, \n",
    "                                            max_counts=25, \n",
    "                                            alpha_pwr=0.02,\n",
    "                                            counts_interval=3)"
   ]
  },
  {
   "cell_type": "code",
   "execution_count": 29,
   "metadata": {
    "collapsed": true
   },
   "outputs": [],
   "source": [
    "hc_cc_power, hc_cc_counts = subsample_power(type_test, hc_cc_ids, min_counts=5, max_counts=25, alpha_pwr=0.02, counts_interval=3)\n",
    "hc_ic_power, hc_ic_counts = subsample_power(type_test, hc_ic_ids, min_counts=5, max_counts=25, alpha_pwr=0.02, counts_interval=3)\n",
    "hc_uc_power, hc_uc_counts = subsample_power(type_test, hc_uc_ids, min_counts=5, max_counts=25, alpha_pwr=0.02, counts_interval=3)\n",
    "cc_ic_power, cc_ic_counts = subsample_power(type_test, cc_ic_ids, min_counts=5, max_counts=25, alpha_pwr=0.02, counts_interval=3)\n",
    "cc_uc_power, cc_uc_counts = subsample_power(type_test, cc_uc_ids, min_counts=5, max_counts=25, alpha_pwr=0.02, counts_interval=3)\n",
    "ic_uc_power, ic_uc_counts = subsample_power(type_test, ic_uc_ids, min_counts=5, max_counts=25, alpha_pwr=0.02, counts_interval=3)"
   ]
  },
  {
   "cell_type": "code",
   "execution_count": 30,
   "metadata": {
    "collapsed": true
   },
   "outputs": [],
   "source": [
    "type_ = {'all_types': (type_power, type_counts, type_test(type_ids)),\n",
    "         ('hc', 'cc'): (hc_cc_power, hc_cc_counts, type_test(hc_cc_ids)),\n",
    "         ('hc', 'ic'): (hc_ic_power, hc_ic_counts, type_test(hc_ic_ids)),\n",
    "         ('hc', 'uc'): (hc_uc_power, hc_uc_counts, type_test(hc_uc_ids)),\n",
    "         ('cc', 'ic'): (cc_ic_power, cc_ic_counts, type_test(cc_ic_ids)),\n",
    "         ('cc', 'uc'): (cc_uc_power, cc_uc_counts, type_test(cc_uc_ids)),\n",
    "         ('ic', 'uc'): (ic_uc_power, ic_uc_counts, type_test(ic_uc_ids))\n",
    "        }"
   ]
  },
  {
   "cell_type": "code",
   "execution_count": 33,
   "metadata": {
    "collapsed": false
   },
   "outputs": [],
   "source": [
    "with open(os.path.join(data_dir, 'ibd_type.p'), 'wb') as f_:\n",
    "    pickle.dump(type_, f_)"
   ]
  },
  {
   "cell_type": "code",
   "execution_count": 37,
   "metadata": {
    "collapsed": false
   },
   "outputs": [
    {
     "name": "stdout",
     "output_type": "stream",
     "text": [
      "('hc', 'uc') 0.61 [ 0.57 ,  0.64 ]\n",
      "all_types 1.72 [ 1.67 ,  1.77 ]\n",
      "('hc', 'ic') 1.56 [ 1.47 ,  1.65 ]\n",
      "('cc', 'uc') 0.27 [ 0.24 ,  0.29 ]\n",
      "('ic', 'uc') 1.2 [ 1.15 ,  1.25 ]\n",
      "('hc', 'cc') 0.64 [ 0.6 ,  0.68 ]\n",
      "('cc', 'ic') 1.16 [ 1.11 ,  1.2 ]\n"
     ]
    }
   ],
   "source": [
    "for k, (pwr, cnt, p) in type_.iteritems():\n",
    "    eff = ap.z_effect(cnt, pwr, 0.02)\n",
    "    n = np.sum(np.isnan(eff) == False)\n",
    "    m = np.nanmean(eff)\n",
    "    s = np.nanstd(eff) / np.sqrt(n) * scipy.stats.t.ppf(0.975, n-1)\n",
    "    \n",
    "    print k, np.round(m, 2), '[', np.round(m-s, 2), ', ', np.round(m+s, 2), ']'"
   ]
  },
  {
   "cell_type": "code",
   "execution_count": 40,
   "metadata": {
    "collapsed": false
   },
   "outputs": [
    {
     "data": {
      "text/plain": [
       "BODY_SITE\n",
       "UBERON:feces    649\n",
       "dtype: int64"
      ]
     },
     "execution_count": 40,
     "metadata": {},
     "output_type": "execute_result"
    }
   ],
   "source": [
    "map_.groupby('BODY_SITE').count().max(1)"
   ]
  },
  {
   "cell_type": "code",
   "execution_count": 42,
   "metadata": {
    "collapsed": false
   },
   "outputs": [
    {
     "data": {
      "text/plain": [
       "(649, 33)"
      ]
     },
     "execution_count": 42,
     "metadata": {},
     "output_type": "execute_result"
    }
   ],
   "source": [
    "map_.shape"
   ]
  },
  {
   "cell_type": "code",
   "execution_count": 43,
   "metadata": {
    "collapsed": false
   },
   "outputs": [
    {
     "data": {
      "text/plain": [
       "Index([u'BarcodeSequence', u'LinkerPrimerSequence', u'IBD_CAT_META',\n",
       "       u'DIAGNOSIS', u'DIAGNOSIS_2', u'DISEASE_STAT', u'SAMPLE_TYPE',\n",
       "       u'IBD_TYPE', u'ULCERATIVE_COLIT_OR_CROHNS_DIS', u'DISEASE_STATUS',\n",
       "       u'DISEASE_STAT2', u'IBD', u'AGE', u'CD_RESECTION', u'BODY_SITE',\n",
       "       u'COUNTRY', u'BMI', u'SAMPLE_CENTER', u'SMOKING_STATUS', u'TITLE',\n",
       "       u'AB_TYPE', u'AB', u'ABX', u'SEX', u'sex', u'ETHNICITY', u'RACE',\n",
       "       u'STUDY_CENTER', u'PLATFORM', u'STEROIDS', u'STUDY_ID', u'RUN_CENTER',\n",
       "       u'Description'],\n",
       "      dtype='object')"
      ]
     },
     "execution_count": 43,
     "metadata": {},
     "output_type": "execute_result"
    }
   ],
   "source": [
    "map_.columns"
   ]
  },
  {
   "cell_type": "code",
   "execution_count": 45,
   "metadata": {
    "collapsed": false
   },
   "outputs": [
    {
     "data": {
      "text/plain": [
       "'10'"
      ]
     },
     "execution_count": 45,
     "metadata": {},
     "output_type": "execute_result"
    }
   ],
   "source": [
    "map_.AGE.min()"
   ]
  },
  {
   "cell_type": "code",
   "execution_count": 62,
   "metadata": {
    "collapsed": false
   },
   "outputs": [
    {
     "data": {
      "text/plain": [
       "AGE\n",
       "10           3\n",
       "11           5\n",
       "12           7\n",
       "13           6\n",
       "14          10\n",
       "15           5\n",
       "16           6\n",
       "17           4\n",
       "18           4\n",
       "19           5\n",
       "20           3\n",
       "21           1\n",
       "22           1\n",
       "23           4\n",
       "24           5\n",
       "25           1\n",
       "26           3\n",
       "29           1\n",
       "31           4\n",
       "38           2\n",
       "4            3\n",
       "43           2\n",
       "44           2\n",
       "46           2\n",
       "5            5\n",
       "50           1\n",
       "51           2\n",
       "52           2\n",
       "53           3\n",
       "54           5\n",
       "55           3\n",
       "57           2\n",
       "6            1\n",
       "60           3\n",
       "61           4\n",
       "62           4\n",
       "65           1\n",
       "67           1\n",
       "68           1\n",
       "69           1\n",
       "70           1\n",
       "71           4\n",
       "72           2\n",
       "8            2\n",
       "9            4\n",
       "None        23\n",
       "no_data    485\n",
       "dtype: int64"
      ]
     },
     "execution_count": 62,
     "metadata": {},
     "output_type": "execute_result"
    }
   ],
   "source": [
    "map_.groupby('AGE').count().max(1)"
   ]
  },
  {
   "cell_type": "code",
   "execution_count": 63,
   "metadata": {
    "collapsed": false
   },
   "outputs": [],
   "source": [
    "def convert_age(x):\n",
    "    if x in {'no_data', 'None', None}:\n",
    "        return np.nan\n",
    "    else:\n",
    "        return float(int(x))\n",
    "    \n",
    "map_.AGE = map_.AGE.apply(convert_age)"
   ]
  },
  {
   "cell_type": "code",
   "execution_count": 66,
   "metadata": {
    "collapsed": false
   },
   "outputs": [
    {
     "data": {
      "text/plain": [
       "(4.0, 72.0, 29.815602836879432, 0.8297198426702237)"
      ]
     },
     "execution_count": 66,
     "metadata": {},
     "output_type": "execute_result"
    }
   ],
   "source": [
    "map_.AGE.min(), map_.AGE.max(), map_.AGE.mean(), map_.AGE.std() / np.sqrt(len(map_.AGE))"
   ]
  },
  {
   "cell_type": "code",
   "execution_count": 57,
   "metadata": {
    "collapsed": false
   },
   "outputs": [
    {
     "ename": "TypeError",
     "evalue": "Not implemented for this type",
     "output_type": "error",
     "traceback": [
      "\u001b[0;31m---------------------------------------------------------------------------\u001b[0m",
      "\u001b[0;31mTypeError\u001b[0m                                 Traceback (most recent call last)",
      "\u001b[0;32m<ipython-input-57-9a403c2760f0>\u001b[0m in \u001b[0;36m<module>\u001b[0;34m()\u001b[0m\n\u001b[0;32m----> 1\u001b[0;31m \u001b[0mmap_\u001b[0m\u001b[0;34m.\u001b[0m\u001b[0msort\u001b[0m\u001b[0;34m(\u001b[0m\u001b[0;34m'AGE'\u001b[0m\u001b[0;34m)\u001b[0m\u001b[0;34m.\u001b[0m\u001b[0mloc\u001b[0m\u001b[0;34m[\u001b[0m\u001b[0mmap_\u001b[0m\u001b[0;34m.\u001b[0m\u001b[0mAGE\u001b[0m\u001b[0;34m.\u001b[0m\u001b[0mapply\u001b[0m\u001b[0;34m(\u001b[0m\u001b[0;32mlambda\u001b[0m \u001b[0mx\u001b[0m\u001b[0;34m:\u001b[0m \u001b[0mnp\u001b[0m\u001b[0;34m.\u001b[0m\u001b[0misnan\u001b[0m\u001b[0;34m(\u001b[0m\u001b[0mx\u001b[0m\u001b[0;34m)\u001b[0m \u001b[0;34m==\u001b[0m \u001b[0mFalse\u001b[0m\u001b[0;34m)\u001b[0m\u001b[0;34m,\u001b[0m \u001b[0;34m'AGE'\u001b[0m\u001b[0;34m]\u001b[0m\u001b[0;34m\u001b[0m\u001b[0m\n\u001b[0m",
      "\u001b[0;32m/Users/jwdebelius/.virtualenvs/power_play/lib/python2.7/site-packages/pandas/core/series.pyc\u001b[0m in \u001b[0;36mapply\u001b[0;34m(self, func, convert_dtype, args, **kwds)\u001b[0m\n\u001b[1;32m   2058\u001b[0m             \u001b[0mvalues\u001b[0m \u001b[0;34m=\u001b[0m \u001b[0mlib\u001b[0m\u001b[0;34m.\u001b[0m\u001b[0mmap_infer\u001b[0m\u001b[0;34m(\u001b[0m\u001b[0mvalues\u001b[0m\u001b[0;34m,\u001b[0m \u001b[0mlib\u001b[0m\u001b[0;34m.\u001b[0m\u001b[0mTimestamp\u001b[0m\u001b[0;34m)\u001b[0m\u001b[0;34m\u001b[0m\u001b[0m\n\u001b[1;32m   2059\u001b[0m \u001b[0;34m\u001b[0m\u001b[0m\n\u001b[0;32m-> 2060\u001b[0;31m         \u001b[0mmapped\u001b[0m \u001b[0;34m=\u001b[0m \u001b[0mlib\u001b[0m\u001b[0;34m.\u001b[0m\u001b[0mmap_infer\u001b[0m\u001b[0;34m(\u001b[0m\u001b[0mvalues\u001b[0m\u001b[0;34m,\u001b[0m \u001b[0mf\u001b[0m\u001b[0;34m,\u001b[0m \u001b[0mconvert\u001b[0m\u001b[0;34m=\u001b[0m\u001b[0mconvert_dtype\u001b[0m\u001b[0;34m)\u001b[0m\u001b[0;34m\u001b[0m\u001b[0m\n\u001b[0m\u001b[1;32m   2061\u001b[0m         \u001b[0;32mif\u001b[0m \u001b[0mlen\u001b[0m\u001b[0;34m(\u001b[0m\u001b[0mmapped\u001b[0m\u001b[0;34m)\u001b[0m \u001b[0;32mand\u001b[0m \u001b[0misinstance\u001b[0m\u001b[0;34m(\u001b[0m\u001b[0mmapped\u001b[0m\u001b[0;34m[\u001b[0m\u001b[0;36m0\u001b[0m\u001b[0;34m]\u001b[0m\u001b[0;34m,\u001b[0m \u001b[0mSeries\u001b[0m\u001b[0;34m)\u001b[0m\u001b[0;34m:\u001b[0m\u001b[0;34m\u001b[0m\u001b[0m\n\u001b[1;32m   2062\u001b[0m             \u001b[0;32mfrom\u001b[0m \u001b[0mpandas\u001b[0m\u001b[0;34m.\u001b[0m\u001b[0mcore\u001b[0m\u001b[0;34m.\u001b[0m\u001b[0mframe\u001b[0m \u001b[0;32mimport\u001b[0m \u001b[0mDataFrame\u001b[0m\u001b[0;34m\u001b[0m\u001b[0m\n",
      "\u001b[0;32mpandas/src/inference.pyx\u001b[0m in \u001b[0;36mpandas.lib.map_infer (pandas/lib.c:58435)\u001b[0;34m()\u001b[0m\n",
      "\u001b[0;32m<ipython-input-57-9a403c2760f0>\u001b[0m in \u001b[0;36m<lambda>\u001b[0;34m(x)\u001b[0m\n\u001b[0;32m----> 1\u001b[0;31m \u001b[0mmap_\u001b[0m\u001b[0;34m.\u001b[0m\u001b[0msort\u001b[0m\u001b[0;34m(\u001b[0m\u001b[0;34m'AGE'\u001b[0m\u001b[0;34m)\u001b[0m\u001b[0;34m.\u001b[0m\u001b[0mloc\u001b[0m\u001b[0;34m[\u001b[0m\u001b[0mmap_\u001b[0m\u001b[0;34m.\u001b[0m\u001b[0mAGE\u001b[0m\u001b[0;34m.\u001b[0m\u001b[0mapply\u001b[0m\u001b[0;34m(\u001b[0m\u001b[0;32mlambda\u001b[0m \u001b[0mx\u001b[0m\u001b[0;34m:\u001b[0m \u001b[0mnp\u001b[0m\u001b[0;34m.\u001b[0m\u001b[0misnan\u001b[0m\u001b[0;34m(\u001b[0m\u001b[0mx\u001b[0m\u001b[0;34m)\u001b[0m \u001b[0;34m==\u001b[0m \u001b[0mFalse\u001b[0m\u001b[0;34m)\u001b[0m\u001b[0;34m,\u001b[0m \u001b[0;34m'AGE'\u001b[0m\u001b[0;34m]\u001b[0m\u001b[0;34m\u001b[0m\u001b[0m\n\u001b[0m",
      "\u001b[0;31mTypeError\u001b[0m: Not implemented for this type"
     ]
    }
   ],
   "source": [
    "map_.sort('AGE').loc[map_.AGE.apply(lambda x: np.isnan(x) == False), 'AGE']"
   ]
  },
  {
   "cell_type": "code",
   "execution_count": null,
   "metadata": {
    "collapsed": true
   },
   "outputs": [],
   "source": []
  }
 ],
 "metadata": {
  "kernelspec": {
   "display_name": "Python 2",
   "language": "python",
   "name": "python2"
  },
  "language_info": {
   "codemirror_mode": {
    "name": "ipython",
    "version": 2
   },
   "file_extension": ".py",
   "mimetype": "text/x-python",
   "name": "python",
   "nbconvert_exporter": "python",
   "pygments_lexer": "ipython2",
   "version": "2.7.3"
  }
 },
 "nbformat": 4,
 "nbformat_minor": 0
}
