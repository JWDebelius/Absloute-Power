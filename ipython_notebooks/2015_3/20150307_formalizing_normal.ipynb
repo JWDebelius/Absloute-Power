{
 "cells": [
  {
   "cell_type": "markdown",
   "metadata": {},
   "source": [
    "**Author**: J W Debelius<br/>\n",
    "**Date**:  6 March 2015<br/>\n",
    "**virtualenv**: Playground"
   ]
  },
  {
   "cell_type": "code",
   "execution_count": 1,
   "metadata": {
    "collapsed": false
   },
   "outputs": [
    {
     "data": {
      "application/javascript": [
       "IPython.load_extensions('calico-spell-check', 'calico-document-tools')"
      ],
      "text/plain": [
       "<IPython.core.display.Javascript object>"
      ]
     },
     "metadata": {},
     "output_type": "display_data"
    }
   ],
   "source": [
    "%%javascript\n",
    "IPython.load_extensions('calico-spell-check', 'calico-document-tools')"
   ]
  },
  {
   "cell_type": "markdown",
   "metadata": {},
   "source": [
    "*In February, I tried to show my power curves work by simulating some normal data, and comparing the simulations with the actual data. I'm like to do this in a more formal way here, which will hopefully turn into something publishable, eventually*."
   ]
  },
  {
   "cell_type": "code",
   "execution_count": 9,
   "metadata": {
    "collapsed": false
   },
   "outputs": [],
   "source": [
    "import numpy as np\n",
    "import scipy\n",
    "import skbio\n",
    "import matplotlib.pyplot as plt"
   ]
  },
  {
   "cell_type": "code",
   "execution_count": 3,
   "metadata": {
    "collapsed": true
   },
   "outputs": [],
   "source": [
    "% matplotlib inline"
   ]
  },
  {
   "cell_type": "markdown",
   "metadata": {},
   "source": [
    "# 1. Traditional Power Methods"
   ]
  },
  {
   "cell_type": "markdown",
   "metadata": {},
   "source": [
    "Power for a case II t test is based on the $z$ distribution. The formula is given as: [**citation needed**]\n",
    "$PWR(\\overline{x}_{1}, \\overline{x}_{2}, s_{1}, s_{2}, n_{1}, n_{2}, \\alpha) = P \\left (Z < -z_{(1 - \\alpha/2)} + \\sqrt{\\frac{(\\overline{x}_{1} - \\overline{x}_{2})^{2}}{s_{1}^{2}/n_{1} + s_{2}^{2}/n_{2}}} \\right ) \\tag{1}$\n",
    "which can be simplified to\n",
    "$PWR(\\overline{x}_{1}, \\overline{x}_{2}, s_{1}, s_{2}, n_{1}, n_{2}, \\alpha) = pnorm \\left (-z_{(1 - \\alpha/2)} + \\sqrt{\\frac{(\\overline{x}_{1} - \\overline{x}_{2})^{2}}{s_{1}^{2}/n_{1} + s_{2}^{2}/n_{2}}}, 0, 1 \\right ) \\tag{2}$\n",
    "where $prorm(x, 0, 1)$ is the probability density function at x for a normal distribution with mean 0 and standard devation 1.\n",
    "\n",
    "If we assume that we're going to draw an equal number of samples at each depth\n",
    "(so $n_{1} = n_{2}$), we can simplify the equation further:\n",
    "\n",
    "$PWR(\\overline{x}_{1}, \\overline{x}_{2}, s_{1}, s_{2}, n, \\alpha) = pnorm \\left (-z_{(1 - \\alpha/2)} + \\sqrt{\\frac{n(\\overline{x}_{1} - \\overline{x}_{2})^{2}}{s_{1}^{2} + s_{2}^{2}}}, 0, 1 \\right ) \\tag{2}$\n",
    "\n",
    "We can translate this into a statistical power function:"
   ]
  },
  {
   "cell_type": "code",
   "execution_count": 4,
   "metadata": {
    "collapsed": true
   },
   "outputs": [],
   "source": [
    "def ttest_2_ind_pwr(n, mu1, mu2, sigma1, sigma2, alpha=0.05):\n",
    "    \"\"\"Calculates the stastical power for two independent normal distributions\n",
    "    \n",
    "    Parameters\n",
    "    ----------\n",
    "    n : array\n",
    "        A 1 dimensional array giving the counts for power calculation.\n",
    "    mu1, mu2 : float\n",
    "        The means for the two distributions being compared.\n",
    "    sigma1, sigma2 : float\n",
    "        The standard deviations for the two distributions being compared.\n",
    "    alpha : float, optional\n",
    "        The critical value for the comparison.\n",
    "    \n",
    "    Returns\n",
    "    -------\n",
    "    beta : array\n",
    "        The statistcal power at each sample count.\n",
    "    \n",
    "    \"\"\"\n",
    "    # Calculates the effect size for the comparison\n",
    "    eff = (np.absolute(mu1 - mu2) / \n",
    "           np.sqrt(np.square(sigma1) + np.square(sigma2)))\n",
    "\n",
    "    # Gets the z-distribution test statistic for alpha\n",
    "    z_alpha = scipy.stats.norm.ppf(1 - alpha / 2)\n",
    "\n",
    "    # Calculates the z-statistic distribution for beta\n",
    "    beta = scipy.stats.norm.cdf(-z_alpha + eff * np.sqrt(n))\n",
    "    \n",
    "    return beta"
   ]
  },
  {
   "cell_type": "markdown",
   "metadata": {
    "collapsed": true
   },
   "source": [
    "# Distributions\n",
    "\n",
    "We'll simulate two populations. For the sake of early comparisons, let's choose two distributions where the standard deviation is twice the difference in the means."
   ]
  },
  {
   "cell_type": "code",
   "execution_count": 5,
   "metadata": {
    "collapsed": true
   },
   "outputs": [],
   "source": [
    "mu1 = 0\n",
    "mu2 = 10\n",
    "eff = 2\n",
    "sigma = 2*(mu2 - mu1)"
   ]
  },
  {
   "cell_type": "markdown",
   "metadata": {},
   "source": [
    "We can simulate the two distributions over a domain which will give us a complete picture."
   ]
  },
  {
   "cell_type": "code",
   "execution_count": 6,
   "metadata": {
    "collapsed": false
   },
   "outputs": [],
   "source": [
    "domain = np.arange(-100, 100, 1)"
   ]
  },
  {
   "cell_type": "code",
   "execution_count": 17,
   "metadata": {
    "collapsed": false
   },
   "outputs": [
    {
     "name": "stdout",
     "output_type": "stream",
     "text": [
      "39.1992796908\n"
     ]
    },
    {
     "data": {
      "image/png": "[encoded data removed]",
      "text/plain": [
       "<matplotlib.figure.Figure at 0x10c1a4250>"
      ]
     },
     "metadata": {},
     "output_type": "display_data"
    }
   ],
   "source": [
    "dist1 = scipy.stats.norm.pdf(domain, mu1, sigma)\n",
    "dist2 = scipy.stats.norm.pdf(domain, mu2, sigma)\n",
    "pop1_95 = mu1 + scipy.stats.norm.ppf(1 - 0.05/2)*sigma\n",
    "print pop1_95"
   ]
  },
  {
   "cell_type": "code",
   "execution_count": 18,
   "metadata": {
    "collapsed": false
   },
   "outputs": [
    {
     "data": {
      "text/plain": [
       "<matplotlib.collections.PolyCollection at 0x10c605d10>"
      ]
     },
     "execution_count": 18,
     "metadata": {},
     "output_type": "execute_result"
    },
    {
     "data": {
      "image/png": "[encoded data removed]",
      "text/plain": [
       "<matplotlib.figure.Figure at 0x10c392950>"
      ]
     },
     "metadata": {},
     "output_type": "display_data"
    }
   ],
   "source": [
    "pop_ax = plt.axes()\n",
    "\n",
    "dist1 = dist1/dist1.max()\n",
    "dist2 = dist2/dist2.max()\n",
    "\n",
    "pop_ax.plot(domain, 1.125 + dist1*0.75, color='#1f78b4')\n",
    "pop_ax.plot(domain, 0.125 + dist2*0.75, color='#e31a1c')\n",
    "\n",
    "pop_ax.fill_between(x=domain[domain > pop1_95],\n",
    "                    y1=1.125, \n",
    "                    y2=dist2[domain > pop1_95]*0.75+0.125, \n",
    "                    alpha=0.25, color='#1f78b4')"
   ]
  },
  {
   "cell_type": "code",
   "execution_count": null,
   "metadata": {
    "collapsed": true
   },
   "outputs": [],
   "source": []
  }
 ],
 "metadata": {
  "kernelspec": {
   "display_name": "Python 2",
   "language": "python",
   "name": "python2"
  },
  "language_info": {
   "codemirror_mode": {
    "name": "ipython",
    "version": 2
   },
   "file_extension": ".py",
   "mimetype": "text/x-python",
   "name": "python",
   "nbconvert_exporter": "python",
   "pygments_lexer": "ipython2",
   "version": "2.7.3"
  }
 },
 "nbformat": 4,
 "nbformat_minor": 0
}
