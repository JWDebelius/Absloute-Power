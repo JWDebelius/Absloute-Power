{
 "cells": [
  {
   "cell_type": "markdown",
   "metadata": {
    "collapsed": true
   },
   "source": [
    "# References \n",
    "1. Liu, XS. (2013) *Statistical Power Analysis for the Social and Behavorial Science: Basic and Advanced Techniques*. New York: Routledge. 364. [via UCSD](http://roger.ucsd.edu/search~S9?/Xstatistical%20power&=&Da=&Db=&searchscope=9&p=&SORT=D/Xstatistical%20power&=&Da=&Db=&searchscope=9&p=&SORT=D&SUBKEY=statistical+power/1%2C861%2C861%2CE/frameset&FF=Xstatistical%20power&=&Da=&Db=&searchscope=9&p=&SORT=D&1%2C1%2C)"
   ]
  },
  {
   "cell_type": "markdown",
   "metadata": {},
   "source": [
    "**Author**: J W Debelius<br/>\n",
    "**Date**: 22 June 2015<br/>\n",
    "**virtualenv**: power play"
   ]
  },
  {
   "cell_type": "code",
   "execution_count": 2,
   "metadata": {
    "collapsed": false
   },
   "outputs": [
    {
     "data": {
      "application/javascript": [
       "IPython.load_extensions('calico-spell-check', 'calico-document-tools')"
      ],
      "text/plain": [
       "<IPython.core.display.Javascript object>"
      ]
     },
     "metadata": {},
     "output_type": "display_data"
    }
   ],
   "source": [
    "%%javascript\n",
    "IPython.load_extensions('calico-spell-check', 'calico-document-tools')"
   ]
  },
  {
   "cell_type": "markdown",
   "metadata": {},
   "source": [
    "# Introduction\n",
    "\n",
    "...\n",
    "\n",
    "## Emperical Power\n",
    "..."
   ]
  },
  {
   "cell_type": "code",
   "execution_count": 24,
   "metadata": {
    "collapsed": false
   },
   "outputs": [],
   "source": [
    "from __future__ import division\n",
    "import numpy as np\n",
    "from skbio.stats.power import subsample_power\n",
    "from statsmodels.stats.power import FTestAnovaPower, TTestIndPower\n",
    "ft = FTestAnovaPower()\n",
    "tt = TTestIndPower()\n",
    "\n",
    "def calculate_emperical_power(distributions, power_prediction, counts, alpha=0.05):\n",
    "    \"\"\"Calculates the statistical power for the emerpical, monte carlo\"\"\"\n",
    "    # Calculates the effect size \n",
    "    \n",
    "    # Calculates the staticial power for the F test\n",
    "    f_pwr = np.array([ft.solve_power(eff_size, nobs=c, alpha=alpha, power=None) for c in counts])\n",
    "    # Calculates the statical power for the T test\n",
    "    t_pwr = np.array([tt.solve_power(eff_size, nobs1=c, alpha=alpha, power=None) for c in counts])"
   ]
  },
  {
   "cell_type": "markdown",
   "metadata": {},
   "source": [
    "## Comparison Methods\n",
    "We'll use Monte Carlo simulations, and look at the difference between the traditional power estimate and the power estimate. We' n"
   ]
  },
  {
   "cell_type": "code",
   "execution_count": null,
   "metadata": {
    "collapsed": true
   },
   "outputs": [],
   "source": [
    "num_simulations = 100\n"
   ]
  },
  {
   "cell_type": "code",
   "execution_count": null,
   "metadata": {
    "collapsed": true
   },
   "outputs": [],
   "source": []
  },
  {
   "cell_type": "markdown",
   "metadata": {},
   "source": [
    "* Case I t test\n",
    "* Case II t test\n",
    "* Pearsons R\n",
    "* ANOVA\n",
    "* Permanova (Bittinger's paper)\n",
    "* Binomial Distribution\n",
    "* Simple linear regression"
   ]
  },
  {
   "cell_type": "markdown",
   "metadata": {},
   "source": [
    "# Z test\n",
    "A [Z test](https://en.wikipedia.org/wiki/Z-test) is a measure of a normal distribution. The test statistic, *z* is calculated as "
   ]
  },
  {
   "cell_type": "code",
   "execution_count": 102,
   "metadata": {
    "collapsed": true
   },
   "outputs": [],
   "source": [
    "import scipy\n",
    "import scipy.stats as stats\n",
    "\n",
    "def calculate_z_power(mu1, mu2, sigma, counts, alpha=0.05):\n",
    "    \"\"\"Calculates power for the z test\"\"\"\n",
    "    \n",
    "    # Calculates the effect size\n",
    "    eff = np.absolute(mu1 - mu2) / sigma * np.sqrt(counts)\n",
    "    # Calculates the z score\n",
    "    z_alpha = scipy.stats.norm.ppf(1 - alpha/2, 0, 1)\n",
    "    # Gets the power\n",
    "    return scipy.stats.norm.cdf(-z_alpha + eff, 0, 1)"
   ]
  },
  {
   "cell_type": "code",
   "execution_count": 101,
   "metadata": {
    "collapsed": false
   },
   "outputs": [],
   "source": [
    "def get_vitals(samp):\n",
    "    \"\"\"...\"\"\"\n",
    "    return samp.mean(), samp.std(), len(samp)\n",
    "\n",
    "def var_pooled_ubiased(sigma, nobs):\n",
    "    \"\"\"...\"\"\"\n",
    "    sigma_sq = np.array([(n - 1)*np.square(s) for s, n in zip(*[sigma, nobs])]).sum() / nobs.sum()\n",
    "    return np.sqrt(sigma_sq)\n",
    "\n",
    "# Defines the the test for the z test\n",
    "def z_test(samples):\n",
    "    \"\"\"Calculates a z test, using two input samples\"\"\"\n",
    "    samp1, samp2 = samples\n",
    "    # Gets key information about the distributions\n",
    "    [mu1, sigma1, n1] = get_vitals(samp1)\n",
    "    [mu2, sigma2, n2] = get_vitals(samp2)\n",
    "    \n",
    "    # Calculates the pooled varaince\n",
    "    sigma_pool = var_pooled_ubiased(np.array([sigma1, sigma2]), np.array([n1, n2]))\n",
    "    n_pool = (n1 + n2)/n1/n2\n",
    "    \n",
    "    # Calculates the test statistic\n",
    "    test = (mu1 - mu2) / sigma_pool / np.sqrt(n_pool)\n",
    "    \n",
    "    # Gets the signifigance on the test statistic\n",
    "    p = scipy.stats.norm.pdf(test, 0, 1)\n",
    "    \n",
    "    return p\n",
    "#     "
   ]
  },
  {
   "cell_type": "markdown",
   "metadata": {},
   "source": [
    "To test power, we'll draw two random samples of 1000 observations. "
   ]
  },
  {
   "cell_type": "code",
   "execution_count": 143,
   "metadata": {
    "collapsed": true
   },
   "outputs": [],
   "source": [
    "sample_counts = np.arange(2, 50, 2)\n",
    "# ...\n",
    "# for i in xrange(num_iterations):\n",
    "stop = False\n",
    "while not stop:\n",
    "\n",
    "    # # Draws the two means and varaince\n",
    "    mean1 = np.random.randint(10)\n",
    "    mean2 = np.random.randint(10)\n",
    "    sigma = np.random.randint(25)\n",
    "\n",
    "    # # Draws the two samples\n",
    "    samp1 = sigma * np.random.randn(100) + mean1\n",
    "    samp2 = sigma * np.random.randn(100) + mean2\n",
    "\n",
    "    # Characterizes the two calculations\n",
    "    [xbar1, s1, n1] = get_vitals(samp1)\n",
    "    [xbar2, s2, n2] = get_vitals(samp2)\n",
    "\n",
    "    if z_test([samp1, samp2]) < 0.01:\n",
    "        # Calculates traditional power for the two samples\n",
    "        trad_pwr = calculate_z_power(xbar1, xbar2, sigma, sample_counts)\n",
    "\n",
    "        # Calculate emperical power for those samples\n",
    "        pwr, cnts = subsample_power(z_test, [samp1, samp2], min_counts=2, counts_interval=2, max_counts=50)\n",
    "\n",
    "        stop=True"
   ]
  },
  {
   "cell_type": "code",
   "execution_count": 145,
   "metadata": {
    "collapsed": false
   },
   "outputs": [
    {
     "name": "stdout",
     "output_type": "stream",
     "text": [
      "[ 0.09915144  0.15687054  0.21379571  0.26999123  0.3249745   0.37824998\n",
      "  0.42940632  0.47813205  0.52420998  0.56750548  0.60795354  0.64554635\n",
      "  0.68032192  0.7123541   0.74174397  0.76861245  0.79309414  0.81533219\n",
      "  0.83547414  0.85366855  0.87006235  0.8847988   0.89801591  0.90984539]\n",
      "[ 0.4472  0.2544  0.2148  0.2172  0.2144  0.234   0.2494  0.2664  0.286\n",
      "  0.2952  0.3188  0.3402  0.357   0.3734  0.4144  0.4264  0.464   0.4798\n",
      "  0.4894  0.5114  0.5348  0.5654  0.5966  0.6098]\n"
     ]
    }
   ],
   "source": [
    "print trad_pwr\n",
    "print pwr.mean(0)"
   ]
  },
  {
   "cell_type": "code",
   "execution_count": 136,
   "metadata": {
    "collapsed": false
   },
   "outputs": [
    {
     "data": {
      "text/plain": [
       "0.9718803498007007"
      ]
     },
     "execution_count": 136,
     "metadata": {},
     "output_type": "execute_result"
    }
   ],
   "source": [
    "xbar1"
   ]
  },
  {
   "cell_type": "code",
   "execution_count": 137,
   "metadata": {
    "collapsed": false
   },
   "outputs": [
    {
     "data": {
      "text/plain": [
       "9.062957316389868"
      ]
     },
     "execution_count": 137,
     "metadata": {},
     "output_type": "execute_result"
    }
   ],
   "source": [
    "xbar2"
   ]
  },
  {
   "cell_type": "code",
   "execution_count": 140,
   "metadata": {
    "collapsed": false
   },
   "outputs": [
    {
     "data": {
      "text/plain": [
       "212.94217210343328"
      ]
     },
     "execution_count": 140,
     "metadata": {},
     "output_type": "execute_result"
    }
   ],
   "source": [
    "s_pool"
   ]
  },
  {
   "cell_type": "code",
   "execution_count": 122,
   "metadata": {
    "collapsed": false
   },
   "outputs": [
    {
     "data": {
      "text/plain": [
       "array([ 0.0566535 ,  0.07670829,  0.09545136,  0.11370823,  0.13174716,\n",
       "        0.14967575,  0.16753797,  0.18534819,  0.20310572,  0.22080189,\n",
       "        0.23842377,  0.25595625,  0.27338332,  0.29068881,  0.30785684,\n",
       "        0.32487214,  0.34172019,  0.35838739,  0.37486106])"
      ]
     },
     "execution_count": 122,
     "metadata": {},
     "output_type": "execute_result"
    }
   ],
   "source": [
    "calculate_z_power(mean1, mean2, sigma, sample_counts)"
   ]
  },
  {
   "cell_type": "code",
   "execution_count": 125,
   "metadata": {
    "collapsed": false
   },
   "outputs": [
    {
     "data": {
      "text/plain": [
       "array([ 0.0255107 ,  0.02572478,  0.02589007,  0.0260301 ,  0.026154  ,\n",
       "        0.02626644,  0.02637019,  0.02646707,  0.02655833,  0.02664488,\n",
       "        0.02672743,  0.0268065 ,  0.02688252,  0.02695585,  0.02702675,\n",
       "        0.02709547,  0.02716222,  0.02722717,  0.02729045])"
      ]
     },
     "execution_count": 125,
     "metadata": {},
     "output_type": "execute_result"
    }
   ],
   "source": [
    "calculate_z_power(xbar1, xbar2, s_pool, sample_counts)"
   ]
  },
  {
   "cell_type": "code",
   "execution_count": 130,
   "metadata": {
    "collapsed": false
   },
   "outputs": [],
   "source": [
    "pwr, cnts = subsample_power(z_test, [samp1, samp2], min_counts=5, counts_interval=10, max_counts=50)"
   ]
  },
  {
   "cell_type": "code",
   "execution_count": 131,
   "metadata": {
    "collapsed": false
   },
   "outputs": [
    {
     "data": {
      "text/plain": [
       "array([ 0.1546,  0.0974,  0.1192,  0.1246,  0.1284])"
      ]
     },
     "execution_count": 131,
     "metadata": {},
     "output_type": "execute_result"
    }
   ],
   "source": [
    "pwr.mean(0) "
   ]
  },
  {
   "cell_type": "code",
   "execution_count": 92,
   "metadata": {
    "collapsed": false
   },
   "outputs": [
    {
     "ename": "ValueError",
     "evalue": "x and y must have same first dimension",
     "output_type": "error",
     "traceback": [
      "\u001b[0;31m---------------------------------------------------------------------------\u001b[0m",
      "\u001b[0;31mValueError\u001b[0m                                Traceback (most recent call last)",
      "\u001b[0;32m<ipython-input-92-20f984dc93d8>\u001b[0m in \u001b[0;36m<module>\u001b[0;34m()\u001b[0m\n\u001b[1;32m      2\u001b[0m \u001b[0mget_ipython\u001b[0m\u001b[0;34m(\u001b[0m\u001b[0;34m)\u001b[0m\u001b[0;34m.\u001b[0m\u001b[0mmagic\u001b[0m\u001b[0;34m(\u001b[0m\u001b[0;34mu'matplotlib inline'\u001b[0m\u001b[0;34m)\u001b[0m\u001b[0;34m\u001b[0m\u001b[0m\n\u001b[1;32m      3\u001b[0m \u001b[0;34m\u001b[0m\u001b[0m\n\u001b[0;32m----> 4\u001b[0;31m \u001b[0mplt\u001b[0m\u001b[0;34m.\u001b[0m\u001b[0mplot\u001b[0m\u001b[0;34m(\u001b[0m\u001b[0msample_counts\u001b[0m\u001b[0;34m,\u001b[0m \u001b[0mtrad_pwr\u001b[0m\u001b[0;34m)\u001b[0m\u001b[0;34m\u001b[0m\u001b[0m\n\u001b[0m",
      "\u001b[0;32m/Users/jwdebelius/.virtualenvs/power_play/lib/python2.7/site-packages/matplotlib/pyplot.pyc\u001b[0m in \u001b[0;36mplot\u001b[0;34m(*args, **kwargs)\u001b[0m\n\u001b[1;32m   3097\u001b[0m         \u001b[0max\u001b[0m\u001b[0;34m.\u001b[0m\u001b[0mhold\u001b[0m\u001b[0;34m(\u001b[0m\u001b[0mhold\u001b[0m\u001b[0;34m)\u001b[0m\u001b[0;34m\u001b[0m\u001b[0m\n\u001b[1;32m   3098\u001b[0m     \u001b[0;32mtry\u001b[0m\u001b[0;34m:\u001b[0m\u001b[0;34m\u001b[0m\u001b[0m\n\u001b[0;32m-> 3099\u001b[0;31m         \u001b[0mret\u001b[0m \u001b[0;34m=\u001b[0m \u001b[0max\u001b[0m\u001b[0;34m.\u001b[0m\u001b[0mplot\u001b[0m\u001b[0;34m(\u001b[0m\u001b[0;34m*\u001b[0m\u001b[0margs\u001b[0m\u001b[0;34m,\u001b[0m \u001b[0;34m**\u001b[0m\u001b[0mkwargs\u001b[0m\u001b[0;34m)\u001b[0m\u001b[0;34m\u001b[0m\u001b[0m\n\u001b[0m\u001b[1;32m   3100\u001b[0m         \u001b[0mdraw_if_interactive\u001b[0m\u001b[0;34m(\u001b[0m\u001b[0;34m)\u001b[0m\u001b[0;34m\u001b[0m\u001b[0m\n\u001b[1;32m   3101\u001b[0m     \u001b[0;32mfinally\u001b[0m\u001b[0;34m:\u001b[0m\u001b[0;34m\u001b[0m\u001b[0m\n",
      "\u001b[0;32m/Users/jwdebelius/.virtualenvs/power_play/lib/python2.7/site-packages/matplotlib/axes/_axes.pyc\u001b[0m in \u001b[0;36mplot\u001b[0;34m(self, *args, **kwargs)\u001b[0m\n\u001b[1;32m   1371\u001b[0m         \u001b[0mlines\u001b[0m \u001b[0;34m=\u001b[0m \u001b[0;34m[\u001b[0m\u001b[0;34m]\u001b[0m\u001b[0;34m\u001b[0m\u001b[0m\n\u001b[1;32m   1372\u001b[0m \u001b[0;34m\u001b[0m\u001b[0m\n\u001b[0;32m-> 1373\u001b[0;31m         \u001b[0;32mfor\u001b[0m \u001b[0mline\u001b[0m \u001b[0;32min\u001b[0m \u001b[0mself\u001b[0m\u001b[0;34m.\u001b[0m\u001b[0m_get_lines\u001b[0m\u001b[0;34m(\u001b[0m\u001b[0;34m*\u001b[0m\u001b[0margs\u001b[0m\u001b[0;34m,\u001b[0m \u001b[0;34m**\u001b[0m\u001b[0mkwargs\u001b[0m\u001b[0;34m)\u001b[0m\u001b[0;34m:\u001b[0m\u001b[0;34m\u001b[0m\u001b[0m\n\u001b[0m\u001b[1;32m   1374\u001b[0m             \u001b[0mself\u001b[0m\u001b[0;34m.\u001b[0m\u001b[0madd_line\u001b[0m\u001b[0;34m(\u001b[0m\u001b[0mline\u001b[0m\u001b[0;34m)\u001b[0m\u001b[0;34m\u001b[0m\u001b[0m\n\u001b[1;32m   1375\u001b[0m             \u001b[0mlines\u001b[0m\u001b[0;34m.\u001b[0m\u001b[0mappend\u001b[0m\u001b[0;34m(\u001b[0m\u001b[0mline\u001b[0m\u001b[0;34m)\u001b[0m\u001b[0;34m\u001b[0m\u001b[0m\n",
      "\u001b[0;32m/Users/jwdebelius/.virtualenvs/power_play/lib/python2.7/site-packages/matplotlib/axes/_base.pyc\u001b[0m in \u001b[0;36m_grab_next_args\u001b[0;34m(self, *args, **kwargs)\u001b[0m\n\u001b[1;32m    302\u001b[0m                 \u001b[0;32mreturn\u001b[0m\u001b[0;34m\u001b[0m\u001b[0m\n\u001b[1;32m    303\u001b[0m             \u001b[0;32mif\u001b[0m \u001b[0mlen\u001b[0m\u001b[0;34m(\u001b[0m\u001b[0mremaining\u001b[0m\u001b[0;34m)\u001b[0m \u001b[0;34m<=\u001b[0m \u001b[0;36m3\u001b[0m\u001b[0;34m:\u001b[0m\u001b[0;34m\u001b[0m\u001b[0m\n\u001b[0;32m--> 304\u001b[0;31m                 \u001b[0;32mfor\u001b[0m \u001b[0mseg\u001b[0m \u001b[0;32min\u001b[0m \u001b[0mself\u001b[0m\u001b[0;34m.\u001b[0m\u001b[0m_plot_args\u001b[0m\u001b[0;34m(\u001b[0m\u001b[0mremaining\u001b[0m\u001b[0;34m,\u001b[0m \u001b[0mkwargs\u001b[0m\u001b[0;34m)\u001b[0m\u001b[0;34m:\u001b[0m\u001b[0;34m\u001b[0m\u001b[0m\n\u001b[0m\u001b[1;32m    305\u001b[0m                     \u001b[0;32myield\u001b[0m \u001b[0mseg\u001b[0m\u001b[0;34m\u001b[0m\u001b[0m\n\u001b[1;32m    306\u001b[0m                 \u001b[0;32mreturn\u001b[0m\u001b[0;34m\u001b[0m\u001b[0m\n",
      "\u001b[0;32m/Users/jwdebelius/.virtualenvs/power_play/lib/python2.7/site-packages/matplotlib/axes/_base.pyc\u001b[0m in \u001b[0;36m_plot_args\u001b[0;34m(self, tup, kwargs)\u001b[0m\n\u001b[1;32m    280\u001b[0m             \u001b[0mx\u001b[0m \u001b[0;34m=\u001b[0m \u001b[0mnp\u001b[0m\u001b[0;34m.\u001b[0m\u001b[0marange\u001b[0m\u001b[0;34m(\u001b[0m\u001b[0my\u001b[0m\u001b[0;34m.\u001b[0m\u001b[0mshape\u001b[0m\u001b[0;34m[\u001b[0m\u001b[0;36m0\u001b[0m\u001b[0;34m]\u001b[0m\u001b[0;34m,\u001b[0m \u001b[0mdtype\u001b[0m\u001b[0;34m=\u001b[0m\u001b[0mfloat\u001b[0m\u001b[0;34m)\u001b[0m\u001b[0;34m\u001b[0m\u001b[0m\n\u001b[1;32m    281\u001b[0m \u001b[0;34m\u001b[0m\u001b[0m\n\u001b[0;32m--> 282\u001b[0;31m         \u001b[0mx\u001b[0m\u001b[0;34m,\u001b[0m \u001b[0my\u001b[0m \u001b[0;34m=\u001b[0m \u001b[0mself\u001b[0m\u001b[0;34m.\u001b[0m\u001b[0m_xy_from_xy\u001b[0m\u001b[0;34m(\u001b[0m\u001b[0mx\u001b[0m\u001b[0;34m,\u001b[0m \u001b[0my\u001b[0m\u001b[0;34m)\u001b[0m\u001b[0;34m\u001b[0m\u001b[0m\n\u001b[0m\u001b[1;32m    283\u001b[0m \u001b[0;34m\u001b[0m\u001b[0m\n\u001b[1;32m    284\u001b[0m         \u001b[0;32mif\u001b[0m \u001b[0mself\u001b[0m\u001b[0;34m.\u001b[0m\u001b[0mcommand\u001b[0m \u001b[0;34m==\u001b[0m \u001b[0;34m'plot'\u001b[0m\u001b[0;34m:\u001b[0m\u001b[0;34m\u001b[0m\u001b[0m\n",
      "\u001b[0;32m/Users/jwdebelius/.virtualenvs/power_play/lib/python2.7/site-packages/matplotlib/axes/_base.pyc\u001b[0m in \u001b[0;36m_xy_from_xy\u001b[0;34m(self, x, y)\u001b[0m\n\u001b[1;32m    221\u001b[0m         \u001b[0my\u001b[0m \u001b[0;34m=\u001b[0m \u001b[0mnp\u001b[0m\u001b[0;34m.\u001b[0m\u001b[0matleast_1d\u001b[0m\u001b[0;34m(\u001b[0m\u001b[0my\u001b[0m\u001b[0;34m)\u001b[0m\u001b[0;34m\u001b[0m\u001b[0m\n\u001b[1;32m    222\u001b[0m         \u001b[0;32mif\u001b[0m \u001b[0mx\u001b[0m\u001b[0;34m.\u001b[0m\u001b[0mshape\u001b[0m\u001b[0;34m[\u001b[0m\u001b[0;36m0\u001b[0m\u001b[0;34m]\u001b[0m \u001b[0;34m!=\u001b[0m \u001b[0my\u001b[0m\u001b[0;34m.\u001b[0m\u001b[0mshape\u001b[0m\u001b[0;34m[\u001b[0m\u001b[0;36m0\u001b[0m\u001b[0;34m]\u001b[0m\u001b[0;34m:\u001b[0m\u001b[0;34m\u001b[0m\u001b[0m\n\u001b[0;32m--> 223\u001b[0;31m             \u001b[0;32mraise\u001b[0m \u001b[0mValueError\u001b[0m\u001b[0;34m(\u001b[0m\u001b[0;34m\"x and y must have same first dimension\"\u001b[0m\u001b[0;34m)\u001b[0m\u001b[0;34m\u001b[0m\u001b[0m\n\u001b[0m\u001b[1;32m    224\u001b[0m         \u001b[0;32mif\u001b[0m \u001b[0mx\u001b[0m\u001b[0;34m.\u001b[0m\u001b[0mndim\u001b[0m \u001b[0;34m>\u001b[0m \u001b[0;36m2\u001b[0m \u001b[0;32mor\u001b[0m \u001b[0my\u001b[0m\u001b[0;34m.\u001b[0m\u001b[0mndim\u001b[0m \u001b[0;34m>\u001b[0m \u001b[0;36m2\u001b[0m\u001b[0;34m:\u001b[0m\u001b[0;34m\u001b[0m\u001b[0m\n\u001b[1;32m    225\u001b[0m             \u001b[0;32mraise\u001b[0m \u001b[0mValueError\u001b[0m\u001b[0;34m(\u001b[0m\u001b[0;34m\"x and y can be no greater than 2-D\"\u001b[0m\u001b[0;34m)\u001b[0m\u001b[0;34m\u001b[0m\u001b[0m\n",
      "\u001b[0;31mValueError\u001b[0m: x and y must have same first dimension"
     ]
    },
    {
     "data": {
      "image/png": "[encoded data removed]",
      "text/plain": [
       "<matplotlib.figure.Figure at 0x10bd152d0>"
      ]
     },
     "metadata": {},
     "output_type": "display_data"
    }
   ],
   "source": [
    "import matplotlib.pyplot as plt\n",
    "%matplotlib inline\n",
    "\n",
    "plt.plot(sample_counts, trad_pwr)"
   ]
  },
  {
   "cell_type": "code",
   "execution_count": 85,
   "metadata": {
    "collapsed": false
   },
   "outputs": [
    {
     "name": "stdout",
     "output_type": "stream",
     "text": [
      "0 9 4\n",
      "[[ 0.95   0.99   0.994  1.     1.     1.     1.     1.   ]\n",
      " [ 0.95   0.98   0.996  0.998  1.     1.     1.     1.   ]\n",
      " [ 0.954  0.982  0.992  1.     1.     1.     1.     1.   ]\n",
      " [ 0.952  0.978  0.996  1.     1.     1.     1.     1.   ]\n",
      " [ 0.938  0.988  0.996  0.996  1.     1.     1.     1.   ]\n",
      " [ 0.954  0.978  0.996  1.     1.     1.     1.     1.   ]\n",
      " [ 0.954  0.988  0.998  1.     1.     1.     1.     1.   ]\n",
      " [ 0.954  0.99   1.     1.     1.     1.     1.     1.   ]\n",
      " [ 0.934  0.978  1.     1.     1.     1.     1.     1.   ]\n",
      " [ 0.958  0.982  0.994  0.998  1.     1.     1.     1.   ]] [ 4  6  8 10 12 14 16 18]\n"
     ]
    }
   ],
   "source": [
    "print mean1, mean2, sigma\n",
    "print pwr, cnts"
   ]
  },
  {
   "cell_type": "code",
   "execution_count": 65,
   "metadata": {
    "collapsed": false
   },
   "outputs": [],
   "source": [
    "[mu1, sigma1, n1] = get_vitals(samp1)\n",
    "[mu2, sigma2, n2] = get_vitals(samp2)\n",
    "\n",
    "sigma_pool = var_pooled_ubiased(np.array([sigma1, sigma2]), np.array([n1, n2]))\n",
    "n_pool = (n1 + n2)/n1/n2"
   ]
  },
  {
   "cell_type": "code",
   "execution_count": 56,
   "metadata": {
    "collapsed": false
   },
   "outputs": [
    {
     "name": "stdout",
     "output_type": "stream",
     "text": [
      "43.5572561407 45.7707668057 44.6553773852\n"
     ]
    }
   ],
   "source": [
    "print sigma1, sigma2, sigma_pool"
   ]
  },
  {
   "cell_type": "code",
   "execution_count": 62,
   "metadata": {
    "collapsed": false
   },
   "outputs": [
    {
     "name": "stdout",
     "output_type": "stream",
     "text": [
      "1000 1000 500.0\n"
     ]
    }
   ],
   "source": [
    "print n1, n2, n_pool"
   ]
  },
  {
   "cell_type": "code",
   "execution_count": 66,
   "metadata": {
    "collapsed": false
   },
   "outputs": [
    {
     "name": "stdout",
     "output_type": "stream",
     "text": [
      "-12.2148599535\n"
     ]
    }
   ],
   "source": [
    "test = (mu1 - mu2) / sigma_pool / np.sqrt(n_pool)\n",
    "print test"
   ]
  },
  {
   "cell_type": "code",
   "execution_count": 73,
   "metadata": {
    "collapsed": false
   },
   "outputs": [
    {
     "data": {
      "text/plain": [
       "1.5919627572908852e-33"
      ]
     },
     "execution_count": 73,
     "metadata": {},
     "output_type": "execute_result"
    }
   ],
   "source": [
    "p = scipy.stats.norm.pdf(np.absolute(test), 0, 1)\n",
    "p"
   ]
  },
  {
   "cell_type": "code",
   "execution_count": null,
   "metadata": {
    "collapsed": true
   },
   "outputs": [],
   "source": [
    "def calculate_emperical_power(test, distributions, alpha=0.05):\n",
    "    \"\"\"Calculates the statistical power for the emerpical, monte carlo\"\"\"\n",
    "    # Calculates the emperical power\n",
    "    counts, power = subsample_power(test, distributions, alpha_pwr=alpha)\n",
    "    # Gets the emperical effect size\n",
    "\n",
    "    \n",
    "    # Calculates the staticial power for the F test\n",
    "    f_pwr = np.array([ft.solve_power(eff_size, nobs=c, alpha=alpha, power=None) for c in counts])\n",
    "    # Calculates the statical power for the T test\n",
    "    t_pwr = np.array([tt.solve_power(eff_size, nobs1=c, alpha=alpha, power=None) for c in counts])"
   ]
  },
  {
   "cell_type": "code",
   "execution_count": 30,
   "metadata": {
    "collapsed": false
   },
   "outputs": [
    {
     "name": "stdout",
     "output_type": "stream",
     "text": [
      "Help on function subsample_power in module skbio.stats.power:\n",
      "\n",
      "subsample_power(test, samples, draw_mode='ind', alpha_pwr=0.05, ratio=None, max_counts=50, counts_interval=10, min_counts=None, num_iter=500, num_runs=10)\n",
      "    Subsamples data to iteratively calculate power\n",
      "    \n",
      "    Parameters\n",
      "    ----------\n",
      "    test : function\n",
      "        The statistical test which accepts a list of arrays of values\n",
      "        (sample ids or numeric values) and returns a p value or one-dimensional\n",
      "        array of p values.\n",
      "    samples : array_like\n",
      "        `samples` can be a list of lists or a list of arrays where each\n",
      "        sublist or row in the array corresponds to a sampled group.\n",
      "    draw_mode : {\"ind\", \"matched\"}, optional\n",
      "        \"matched\" samples should be used when observations in\n",
      "        samples have corresponding observations in other groups. For instance,\n",
      "        this may be useful when working with regression data where\n",
      "        :math:`x_{1}, x_{2}, ..., x_{n}` maps to\n",
      "        :math:`y_{1}, y_{2}, ..., y_{n}`. Sample vectors must be the same\n",
      "        length in \"matched\" mode.\n",
      "        If there is no reciprocal relationship between samples, then\n",
      "        \"ind\" mode should be used.\n",
      "    alpha_pwr : float, optional\n",
      "        The critical value used to calculate the power.\n",
      "    ratio : 1-D array, optional\n",
      "        The fraction of the sample counts which should be\n",
      "        assigned to each group. If this is a 1-D array, it must be the same\n",
      "        length as `samples`. If no value is supplied (`ratio` is None),\n",
      "        then an equal number of observations will be drawn for each sample. In\n",
      "        `matched` mode, this will be set to one.\n",
      "    max_counts : positive int, optional\n",
      "        The maximum number of samples per group to draw for effect size\n",
      "        calculation.\n",
      "    counts_interval : positive int, optional\n",
      "        The difference between each subsampling count.\n",
      "    min_counts : positive int, optional\n",
      "        How many samples should be drawn for the smallest\n",
      "        subsample. If this is None, the `counts_interval` will be used.\n",
      "    num_iter : positive int, optional\n",
      "        The number of p-values to generate for each point\n",
      "        on the curve.\n",
      "    num_runs : positive int, optional\n",
      "        The number of times to calculate each curve.\n",
      "    \n",
      "    Returns\n",
      "    -------\n",
      "    power : array\n",
      "        The power calculated for each subsample at each count. The array has\n",
      "        `num_runs` rows, a length with the same number of elements as\n",
      "        `sample_counts` and a depth equal to the number of p values returned by\n",
      "        `test`. If `test` returns a float, the returned array will be\n",
      "        two-dimensional instead of three.\n",
      "    sample_counts : array\n",
      "        The number of samples drawn at each power calculation.\n",
      "    \n",
      "    Raises\n",
      "    ------\n",
      "    ValueError\n",
      "        If the `mode` is \"matched\", an error will occur if the arrays in\n",
      "        `samples` are not the same length.\n",
      "    ValueError\n",
      "        There is a ValueError if there are fewer samples than the minimum\n",
      "        count.\n",
      "    ValueError\n",
      "        If the `counts_interval` is greater than the difference between the\n",
      "        sample start and the max value, the function raises a ValueError.\n",
      "    ValueError\n",
      "        There are not an equal number of groups in `samples` and in `ratios`.\n",
      "    TypeError\n",
      "        `test` does not return a float or a 1-dimensional numpy array.\n",
      "    \n",
      "    \n",
      "    Examples\n",
      "    --------\n",
      "    Let's say we wanted to look at the relationship between the presence of a\n",
      "    specific bacteria, *Gardnerella vaginalis* in the vaginal community, and\n",
      "    the probability of a pre or post menopausal woman experiencing a urinary\n",
      "    tract infection (UTI). Healthy women were enrolled in the study either\n",
      "    before or after menopause, and followed for eight weeks. Participants\n",
      "    submitted fecal samples at the beginning of the study, and were then\n",
      "    followed for clinical symptoms of a UTI. A confirmed UTI was an endpoint\n",
      "    in the study.\n",
      "    \n",
      "    Using available literature and 16S sequencing, a set of candidate taxa were\n",
      "    identified as correlated with UTIs, including *G. vaginalis*. In the 100\n",
      "    women (50 premenopausal and 50 postmenopausal samples) who had UTIs, the\n",
      "    presence or absence of *G. vaginalis* was confirmed with quantitative PCR.\n",
      "    \n",
      "    We can model the probability that detectable *G. vaginalis* was found in\n",
      "    these samples using a binomial model. (*Note that this is a simulation.*)\n",
      "    \n",
      "    >>> import numpy as np\n",
      "    >>> np.random.seed(25)\n",
      "    >>> pre_rate = np.random.binomial(1, 0.85, size=(50,))\n",
      "    >>> pre_rate.sum()\n",
      "    45\n",
      "    >>> pos_rate = np.random.binomial(1, 0.40, size=(50,))\n",
      "    >>> pos_rate.sum()\n",
      "    21\n",
      "    \n",
      "    Let's set up a test function, so we can test the probability of\n",
      "    finding a difference in frequency between the two groups. We'll use\n",
      "    `scipy.stats.chisquare` to look for the difference in frequency between\n",
      "    groups.\n",
      "    \n",
      "    >>> from scipy.stats import chisquare, nanmean\n",
      "    >>> test = lambda x: chisquare(np.array([x[i].sum() for i in\n",
      "    ...     xrange(len(x))]))[1]\n",
      "    \n",
      "    Let's make sure that our two distributions are different.\n",
      "    \n",
      "    >>> round(test([pre_rate, pos_rate]), 3)\n",
      "    0.003\n",
      "    \n",
      "    Since there are an even number of samples, and we don't have enough\n",
      "    information to try controlling the data, we'll use\n",
      "    `skbio.stats.power.subsample_power` to compare the two groups. If we had\n",
      "    metadata about other risk factors, like a reproductive history, BMI,\n",
      "    tobacco use, we might want to use\n",
      "    `skbio.stats.power.subsample_paired_power`.\n",
      "    We'll also use \"ind\" `draw_mode`, since there is no linkage between the\n",
      "    two groups of samples.\n",
      "    \n",
      "    >>> from skbio.stats.power import subsample_power\n",
      "    >>> pwr_est, counts = subsample_power(test=test,\n",
      "    ...                                   samples=[pre_rate, pos_rate],\n",
      "    ...                                   num_iter=100,\n",
      "    ...                                   num_runs=5,\n",
      "    ...                                   counts_interval=5)\n",
      "    >>> counts\n",
      "    array([ 5, 10, 15, 20, 25, 30, 35, 40, 45])\n",
      "    >>> nanmean(pwr_est, 0) # doctest: +NORMALIZE_WHITESPACE\n",
      "    array([ 0.056,  0.074,  0.226,  0.46 ,  0.61 ,  0.806,  0.952,  1.   ,\n",
      "            1.   ])\n",
      "    >>> counts[nanmean(pwr_est, 0) > 0.8].min()\n",
      "    30\n",
      "    \n",
      "    So, we can estimate that we will see a significant difference in the\n",
      "    presence of *G. vaginalis* in the stool of pre and post women with UTIs if\n",
      "    we have at least 30 samples per group.\n",
      "    \n",
      "    If we wanted to test the relationship of a second candidate taxa which is\n",
      "    more rare in the population, but may have a similar effect, based on\n",
      "    available literature, we might also start by trying to identify 30\n",
      "    samples per group where the second candidate taxa is present.\n",
      "    \n",
      "    Suppose, now, that we want to test that a secondary metabolite seen only in\n",
      "    the presence of *G vaginalis* to see if it is also correlated with UTIs. We\n",
      "    can model the abundance of the metabolite as a normal distribution.\n",
      "    \n",
      "    >>> met_pos = (np.random.randn(pre_rate.sum() + pos_rate.sum()) * 2000 +\n",
      "    ...     2500)\n",
      "    >>> met_pos[met_pos < 0] = 0\n",
      "    >>> met_neg = met_neg = (np.random.randn(100 - (pre_rate.sum() +\n",
      "    ...     pos_rate.sum())) * 2000 + 500)\n",
      "    >>> met_neg[met_neg < 0] = 0\n",
      "    \n",
      "    Let's compare the populations with a kruskal-wallis test. Physically, there\n",
      "    cannot be a negative concentration of a chemical, so we've set the lower\n",
      "    bound at 0. This means that we can no longer assume our distribution is\n",
      "    normal.\n",
      "    \n",
      "    >>> from scipy.stats import kruskal\n",
      "    >>> def metabolite_test(x):\n",
      "    ...     return kruskal(x[0], x[1])[1]\n",
      "    >>> round(metabolite_test([met_pos, met_neg]), 3)\n",
      "    0.005\n",
      "    \n",
      "    When we go to perform the statistical test on all the data, you might\n",
      "    notice that there are twice as many samples from women with *G. vaginalis*\n",
      "    than those without. It might make sense to account for this difference when\n",
      "    we're testing power. So, we're going to set the `ratio` parameter, which\n",
      "    lets us draw twice as many samples from women with *G. vaginalis*.\n",
      "    \n",
      "    >>> pwr_est2, counts2 = subsample_power(test=metabolite_test,\n",
      "    ...                                     samples=[met_pos, met_neg],\n",
      "    ...                                     counts_interval=5,\n",
      "    ...                                     num_iter=100,\n",
      "    ...                                     num_runs=5,\n",
      "    ...                                     ratio=[2, 1])\n",
      "    >>> counts2\n",
      "    array([  5.,  10.,  15.,  20.,  25.,  30.])\n",
      "    >>> nanmean(pwr_est2, 0)\n",
      "    array([ 0.14 ,  0.272,  0.426,  0.646,  0.824,  0.996])\n",
      "    >>> counts2[nanmean(pwr_est2, 0) > 0.8].min()\n",
      "    25.0\n",
      "    \n",
      "    When we consider the number of samples per group needed in the power\n",
      "    analysis, we need to look at the ratio. The analysis says that we need 25\n",
      "    samples in the smallest group, in this case, the group of women without\n",
      "    *G. vaginalis* and 50 samples from women with *G. vaginalis* to see a\n",
      "    significant difference in the abundance of our secondary metabolite at 80%\n",
      "    power.\n",
      "\n"
     ]
    }
   ],
   "source": [
    "help(subsample_power)"
   ]
  },
  {
   "cell_type": "code",
   "execution_count": 13,
   "metadata": {
    "collapsed": false
   },
   "outputs": [
    {
     "name": "stdout",
     "output_type": "stream",
     "text": [
      "71\n",
      "96\n",
      "2\n",
      "23\n",
      "5\n",
      "57\n",
      "66\n",
      "97\n",
      "24\n",
      "5\n"
     ]
    }
   ],
   "source": [
    "for i in xrange(10):\n",
    "    print np.random.randint(100)"
   ]
  },
  {
   "cell_type": "raw",
   "metadata": {
    "collapsed": true
   },
   "source": [
    "We can relate the sum of squares for the populations, $SS_{total}$ as\n",
    "$SS_{total} = SS_{group} + SS_{error} \\tag{}$\n",
    "\n",
    "where\n",
    "$\\begin{align*}\n",
    "SS_{total} = \\sum_{j=1}^{J}{\\sum_{i=1}^{n_{j}}{x_{ij}^{2}}} - \\frac{1}{N} \\left ( \\sum_{j=1}^{J}{\\sum_{i=1}^{n_{j}}{x_{ij}}}\\right )^{2}\n",
    "\\end{align*}\\tag{}$\n",
    "\n",
    "\n",
    "For the sake of simplicity, let's define some new varaibles.\n",
    "$\\begin{align*}\n",
    "C &= \\left ( \\sum_{j=1}^{J}{\\sum_{i=1}^{n_{j}}{x_{ij}}}\\right )^{2}\\\\\n",
    "x_{.j} &= \\sum_{i=1}^{n_{j}}{x_{ij}}\\\\\n",
    "x_{j.}^{2} &= \\sum_{i=1}^{n_{j}}{\\left(x_{ij}^{2}\\right )}\n",
    "\\end{align*}\\tag{}$\n",
    "\n",
    "Which allow us to rewrite () as \n",
    "$\\begin{align*}\n",
    "SS_{total} = \\sum_{j=1}^{J}{x_{j.}^{2}} - \\frac{C}{N}\n",
    "\\end{align*}\\tag{}$\n",
    "\n",
    "We can go on to define the sum of squares for the groups as\n",
    "\n",
    "$\\begin{align*}\n",
    "SS_{group} &= \\frac{1}{N}\\sum_{j=1}^{J}{\\left(\\sum_{i=1}^{n_{j}}{x_{ij}} \\right )^{2}} - \\frac{1}{N} \\left ( \\sum_{j=1}^{J}{\\sum_{i=1}^{n_{j}}{x_{ij}}}\\right )^{2}\\\\\n",
    "&= \\frac{1}{N}\\sum_{j=1}^{J}\\left (x_{.j} \\right )^{2} - \\frac{C}{N}\n",
    "\\end{align*}\\tag{}$\n",
    "\n",
    "If we re-arrange equation (), and subsitute in equations () and (), we can solve $SS_{error}$.\n",
    "\n",
    "$\\begin{align*} \n",
    "SS_{error} &= SS_{total} - SS_{group}\\\\\n",
    "&= \\left (\\sum_{j=1}^{J}{x_{j.}^{2}} - \\frac{C}{N} \\right ) - \\left (\\frac{1}{N}\\sum_{j=1}^{J}\\left (x_{.j} \\right )^{2} - \\frac{C}{N} \\right )\\\\\n",
    "&= \\frac{1}{N}\\left (N\\sum_{j=1}^{J}x_{j.}^{2} - \\sum_{j=1}^{J}\\left(x_{.j} \\right )^{2} \\right )\n",
    "\\end{align*}\\tag{}$\n",
    "\n",
    "We can then substitute this back into equation (), which allows us to write $F$ as\n",
    "\n",
    "\n",
    "\n",
    "where J is the number of groups, and $n_{j}$ and ${x}_{.j}$ are the number of observations and the mean, respectively, or the jth group. The total number of observations is called $N$, where \n",
    "$\\begin{align*}\n",
    "N = \\sum_{j=1}^{J}{n_{j}}\n",
    "\\end{align*}\\tag{}$. \n",
    "The grand mean, $x_{..}$, is the mean of all observations. The test statistic is drawn from an F distribution with $J-1$ and $N-J$ degrees of freedom."
   ]
  },
  {
   "cell_type": "code",
   "execution_count": null,
   "metadata": {
    "collapsed": true
   },
   "outputs": [],
   "source": []
  }
 ],
 "metadata": {
  "kernelspec": {
   "display_name": "Python 2",
   "language": "python",
   "name": "python2"
  },
  "language_info": {
   "codemirror_mode": {
    "name": "ipython",
    "version": 2
   },
   "file_extension": ".py",
   "mimetype": "text/x-python",
   "name": "python",
   "nbconvert_exporter": "python",
   "pygments_lexer": "ipython2",
   "version": "2.7.3"
  }
 },
 "nbformat": 4,
 "nbformat_minor": 0
}
