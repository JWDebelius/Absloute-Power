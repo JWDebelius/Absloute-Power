{
 "cells": [
  {
   "cell_type": "markdown",
   "metadata": {},
   "source": [
    "**Author**: J W Debelius<br/>\n",
    "**Date**: 1 July 2015<br/>\n",
    "**virtualenv**: power play"
   ]
  },
  {
   "cell_type": "code",
   "execution_count": 1,
   "metadata": {
    "collapsed": false
   },
   "outputs": [
    {
     "data": {
      "application/javascript": [
       "IPython.load_extensions('calico-spell-check', 'calico-document-tools')"
      ],
      "text/plain": [
       "<IPython.core.display.Javascript object>"
      ]
     },
     "metadata": {},
     "output_type": "display_data"
    }
   ],
   "source": [
    "%%javascript\n",
    "IPython.load_extensions('calico-spell-check', 'calico-document-tools')"
   ]
  },
  {
   "cell_type": "markdown",
   "metadata": {},
   "source": [
    "#Table of Contents\n",
    "* [1. Introduction](#1.-Introduction)\n",
    "* [2. Case I T test](#2.-Case-I-T-test)\n",
    "\t* [2.1 Effect Size](#2.1-Effect-Size)\n",
    "\t* [2.2 Emperical test](#2.2-Emperical-test)\n",
    "\t* [2.3 Extrapolated Power](#2.3-Extrapolated-Power)\n",
    "\t* [2.4 Simulation Paramters](#2.4-Simulation-Paramters)\n",
    "* [3. Case II T test](#3.-Case-II-T-test)\n",
    "\t* [3.1 Test Parameters](#3.1-Test-Parameters)\n",
    "\t* [3.2 Effect size](#3.2-Effect-size)\n",
    "\t* [3.3 Simulation Parameters](#3.3-Simulation-Parameters)\n",
    "* [4. ANOVA](#4.-ANOVA)\n",
    "\t* [4.1 Emperical Test](#4.1-Emperical-Test)\n",
    "\t* [4.2 Effect Size](#4.2-Effect-Size)\n",
    "\t* [4.3 Simple Linear Regression](#4.3-Simple-Linear-Regression)\n",
    "* [5. Effect Size](#5.-Effect-Size)\n",
    "\t* [5.1 Emperical Test](#5.1-Emperical-Test)\n",
    "* [6. Simulation Model](#6.-Simulation-Model)\n",
    "* [7. Pearson's R](#7.-Pearson's-R)\n",
    "\t* [7.1 Effect Size](#7.1-Effect-Size)\n",
    "\t* [7.2 Emperical Test](#7.2-Emperical-Test)\n",
    "\t* [7.3 Simulation](#7.3-Simulation)\n",
    "* [8. Build simulations](#8.-Build-simulations)\n"
   ]
  },
  {
   "cell_type": "markdown",
   "metadata": {},
   "source": [
    "# 1. Introduction"
   ]
  },
  {
   "cell_type": "markdown",
   "metadata": {},
   "source": [
    "This notebook assumes you already understand the idea of hypothesis testing, statistical power, and the types of error which can occur with hypothesis testing. There are several better, more prolific treatises on the topic, including \n",
    "\n",
    "[citations here]\n",
    "\n",
    "Fundementally, these will tell us that the probability of a false positive, $\\beta$ can be expressed as\n",
    "\n",
    "\n",
    "$\\beta(n) =\\beta\\left(n \\right ) = P\\left [S'(n,k) \\geq S_{1-\\alpha/2}(k)  \\right ]\\tag{1}$\n",
    "where $S'$ is the test statistic, and $S$ is the distribution, $k$ are the parameters for the distribution, and $n$ are the number of samples.\n",
    "\n",
    "\n",
    "If power, $PWR$ is defined as $PWR = 1 - \\beta$, we can re-write eq () as\n",
    "$\\begin{align*} \n",
    "1 - \\beta(n) &= 1 - P\\left [S'(n,k) \\geq S_{1-\\alpha/2}(k)  \\right ]\\\\\n",
    "&= P \\left [s_{1-\\alpha/2}(k) < S'(n,k) \\right ]\\\\\n",
    "\\end{align*} \\tag{2}$"
   ]
  },
  {
   "cell_type": "markdown",
   "metadata": {},
   "source": [
    "This notebook will compare traditional power implementations, relying on the implementation of power provided by equation (2), with a Monte Carlo simulation of power to determine the relationship between the two implementations. The Monte Carlo simulation has been defined [elsewhere](http://nbviewer.ipython.org/github/biocore/American-Gut/blob/master/ipynb/Power.ipynb).\n",
    "\n",
    "We'll use the simulated power to extrapolate power using statsmodel's power module. This can be useful to extrapolate power (when the calculated effect size falls into certain bounds), extending power curves beyond the number of samples that can be drawn for a given distribution."
   ]
  },
  {
   "cell_type": "code",
   "execution_count": 2,
   "metadata": {
    "collapsed": true
   },
   "outputs": [],
   "source": [
    "from __future__ import division\n",
    "\n",
    "import numpy as np\n",
    "import americangut.power_plots as pp\n",
    "\n",
    "from statsmodels.stats.power import FTestAnovaPower\n",
    "\n",
    "ft = FTestAnovaPower()\n",
    "\n",
    "def extrapolate_f(counts, empr_pwr, alpha):\n",
    "    \"\"\"...\"\"\"\n",
    "    # Gets the average emperical effect size\n",
    "    pwr_, cnts = empr_pwr\n",
    "    eff_mean, eff_bound =  pp.collate_effect_size([cnts], [pwr_], alpha)\n",
    "    # Calculates the extrapolated power curve\n",
    "    extr_pwr = np.array([\n",
    "            ft.solve_power(eff_mean, nobs=c, alpha=0.05, power=None)\n",
    "            for c in counts\n",
    "        ])\n",
    "    return extr_pwr"
   ]
  },
  {
   "cell_type": "markdown",
   "metadata": {},
   "source": [
    "We'll examine five common, simple statistical models where the power equation has been defined and employed. The emperical power implementations are based on the version described in [ref].\n",
    "\n",
    "We will examine statistical power for five tests dealing with normal distributions:\n",
    "\n",
    "* Case I t test\n",
    "* Case II (independent) t test\n",
    "* One way Analysis of Variance\n",
    "* Linear Regression\n",
    "* Pearson's R\n",
    "\n",
    "As a result, we'll need to be able to define the summary properties of a normal distribution:"
   ]
  },
  {
   "cell_type": "code",
   "execution_count": 3,
   "metadata": {
    "collapsed": true
   },
   "outputs": [],
   "source": [
    "def get_vitals(sample):\n",
    "    \"\"\"Returns a summary of the sample\"\"\"\n",
    "    return sample.mean(), sample.std()"
   ]
  },
  {
   "cell_type": "markdown",
   "metadata": {},
   "source": [
    "Perform 100 simulations of statistical power, comparing the power between 5 and 50 counts, with 5 observation intervals between. We'll set the critical value at 0.05."
   ]
  },
  {
   "cell_type": "code",
   "execution_count": 4,
   "metadata": {
    "collapsed": false
   },
   "outputs": [],
   "source": [
    "num_rounds = 100\n",
    "counts = np.arange(5, 55, 5)\n",
    "alpha = 0.05\n",
    "distributions = {}"
   ]
  },
  {
   "cell_type": "markdown",
   "metadata": {},
   "source": [
    "# 2. Case I T test"
   ]
  },
  {
   "cell_type": "markdown",
   "metadata": {},
   "source": [
    "A case I t-test, or an indepdent sample t-test determines if an observation is drawn from a sample.\n",
    "\n",
    "The test statistic for the case I t test is given as\n",
    "$t = \\frac{(\\bar{x} - x)\\sqrt{n}}{s} \\tag{3}$\n",
    "where $\\bar{x}$ is the mean of the population, $x$ is the value being compared to the sample, and $s$ is the standard devation of the sample. The probability distribution follows a T distribution with $n-1$ degrees of freedom, where $n$ is the number of observations in the sample.\n",
    "\n",
    "The effect size for a t test is\n",
    "$\\begin{align*}\n",
    "\\lambda &= \\frac{t}{\\sqrt{n}}\\\\\n",
    "&=\\frac{1}{\\sqrt{n}}\\left(\\frac{(\\bar{x} - x)\\sqrt{n}}{s}\\right )\\\\\n",
    "&=\\frac{(\\bar{x} - x)}{s}\n",
    "\\end{align*}\\tag{4}$\n",
    "or, we can say that\n",
    "$t(n) = \\lambda\\sqrt{n} \\tag{5}$"
   ]
  },
  {
   "cell_type": "markdown",
   "metadata": {},
   "source": [
    "## 2.2 Emperical test"
   ]
  },
  {
   "cell_type": "markdown",
   "metadata": {},
   "source": [
    "For the emperical test, we will use the `scipy.stats.ttest_1samp` function, which returns a p value. But, for the traditional power calculation, we need to be able to calculate $t(n)$, so we'll seperate the function."
   ]
  },
  {
   "cell_type": "code",
   "execution_count": 5,
   "metadata": {
    "collapsed": true
   },
   "outputs": [],
   "source": [
    "def emp_ttest_1(sample, x0):\n",
    "    return scipy.stats.ttest_1samp(sample, x0)[1]"
   ]
  },
  {
   "cell_type": "markdown",
   "metadata": {},
   "source": [
    "## 2.3 Extrapolated Power"
   ]
  },
  {
   "cell_type": "markdown",
   "metadata": {},
   "source": [
    "We're going to also calculate power by extrapolating from the emperical results. By combining equation (2) and equation (5), we can say that \n",
    "$\\begin{align*}\n",
    "1 - \\beta &= P(\n",
    "\\end{align*}\\tag{6}$"
   ]
  },
  {
   "cell_type": "code",
   "execution_count": 6,
   "metadata": {
    "collapsed": true
   },
   "outputs": [],
   "source": [
    "import scipy.stats\n",
    "\n",
    "def calc_ttest_1(sample, x0, n, alpha=0.05):\n",
    "    # Calculates the effect size\n",
    "    [x, s] = get_vitals(sample)\n",
    "    eff = np.absolute(x - x0)/s\n",
    "    \n",
    "    # Calculates the power\n",
    "    power = np.array([\n",
    "            scipy.stats.t.cdf(-scipy.stats.t.ppf(1-alpha/2, c-1) + eff*np.sqrt(c), c-1)\n",
    "            for c in n\n",
    "        ])\n",
    "    \n",
    "    return power"
   ]
  },
  {
   "cell_type": "markdown",
   "metadata": {},
   "source": [
    "## 2.4 Simulation Paramters"
   ]
  },
  {
   "cell_type": "markdown",
   "metadata": {},
   "source": [
    "We'll test the set of hypotheses,\n",
    "\n",
    "<center>**H**<sub>0</sub>: $\\bar{x} = 0$<br>\n",
    "**H**<sub>1</sub>: $\\bar{x} \\neq 1$</center>\n",
    "\n",
    "where $\\bar{x}$ is the mean of a sample drawn from a population "
   ]
  },
  {
   "cell_type": "code",
   "execution_count": 7,
   "metadata": {
    "collapsed": true
   },
   "outputs": [],
   "source": [
    "def ttest_1_simulate(mu_lim, sigma_lim, count_lims):\n",
    "    # Gets the distribution parameters\n",
    "    mu = np.random.randint(*mu_lim)\n",
    "    sigma = np.random.randint(*sigma_lim)\n",
    "    n = np.random.randint(*count_lims)\n",
    "    \n",
    "    # Draws a sample that fits the parameters\n",
    "    return (mu, sigma, n), [mu + np.random.randn(n) * sigma]"
   ]
  },
  {
   "cell_type": "code",
   "execution_count": 8,
   "metadata": {
    "collapsed": false
   },
   "outputs": [],
   "source": [
    "distributions['ttest_1'] = {'emp_test_fun': emp_ttest_1,\n",
    "                           'trad_test_fun': calc_ttest_1,\n",
    "                           'sim_function': ttest_1_simulate,\n",
    "                           'sim_parameters': [[2, 10], [5, 15], [60, 100]],\n",
    "                           'other_sim_parameters': {},\n",
    "                           'test_parameters': {'x0': 0},\n",
    "                           'emp_parameters': {}\n",
    "                            }"
   ]
  },
  {
   "cell_type": "markdown",
   "metadata": {},
   "source": [
    "# 3. Case II T test"
   ]
  },
  {
   "cell_type": "markdown",
   "metadata": {},
   "source": [
    "The case II t test is a test for two independent samples, to determine if the samples are drawn from different distributions.\n",
    "\n",
    "<center>**H<sub>0</sub>** : $\\bar{x}_{1} = \\bar{x}_{2}$<br>\n",
    "**H<sub>1</sub>** : $\\bar{x}_{1} \\neq \\bar{x}_{2}$</center>\n",
    "\n",
    "There are several ways to calculate this t statistic, but we will operate on the assumption that the two populations have different variances, giving the most extensibe calculation of the test statistic. So,\n",
    "\n",
    "$\\begin{align*}\n",
    "t &= \\frac{\\bar{x}_{1} - \\bar{x}_{2}}{\\sqrt{\\frac{s_{1}^{2}}{n_{1}} + \\frac{s_{2}^{2}}{n_{2}}}}\\\\\n",
    "&= \\frac{\\bar{x}_{1} - \\bar{x}_{2}}{\\sqrt{\\frac{n_{2}s_{1}^{2} + n_{1}s_{2}^{2}}{n_{1}n_{2}}}}\n",
    "\\end{align*}\\tag{}$\n",
    "\n",
    "The t statistic follows a T distribution with $df$ degrees of freedom, where $df$ is given as\n",
    "$df = \\frac{(s_{1}^{2}/n_{1} + s_{2}^{2}/n_{2})^{2}}{(s_{1}^{2}/n_{1})^2/(n_{1}-1) + s_{2}^{2}/n_{2})^2/(n_{2}-1)} \\tag{}$\n",
    "\n",
    "For the sake of simplicity, we'll assume that $n_{1} = n_{2}$, which allows us to redefine equation (2.1) as\n",
    "$t = \\frac{\\sqrt{n}(\\bar{x}_{1} - \\bar{x}_{2})}{\\sqrt{s_{1}^{2} + s_{2}^{2}}} \\tag{}$\n",
    "which means the test statitic is now drawn from a t distribution with df degrees of freedom, where\n",
    "df is defined as\n",
    "$df = \\left (n-1 \\right ) \\left (\\frac{\\left (s_{1}^{2} + s_{2}^{2}  \\right )^{2}}{\\left (s_{1}^{2} \\right)^{2} + \\left (s_{2}^{2}  \\right )^{2}} \\right ) \\tag{}$"
   ]
  },
  {
   "cell_type": "code",
   "execution_count": 9,
   "metadata": {
    "collapsed": true
   },
   "outputs": [],
   "source": [
    "def get_t_df(n, s1, s2):\n",
    "    \"\"\"doc string!\"\"\"\n",
    "    mod = (np.square(np.square(s1) + np.square(s2)) / (np.power(s1, 4) + np.power(s2, 4)))\n",
    "    return (n-1)*modifier"
   ]
  },
  {
   "cell_type": "markdown",
   "metadata": {},
   "source": [
    "## 3.1 Test Parameters"
   ]
  },
  {
   "cell_type": "markdown",
   "metadata": {},
   "source": [
    "For the emperical test, we can use the `scipy.stats.ttest_ind1` function, which will return a p value. We will, once again, need to calculate the test statistic as a function the number of samples."
   ]
  },
  {
   "cell_type": "code",
   "execution_count": 10,
   "metadata": {
    "collapsed": true
   },
   "outputs": [],
   "source": [
    "def emp_ttest_ind(sample1, sample2):\n",
    "    return scipy.stats.ttest_ind(sample1, sample2)[1]"
   ]
  },
  {
   "cell_type": "markdown",
   "metadata": {},
   "source": [
    "## 3.2 Effect size"
   ]
  },
  {
   "cell_type": "code",
   "execution_count": 11,
   "metadata": {
    "collapsed": true
   },
   "outputs": [],
   "source": [
    "def calc_ttest_ind(sample1, sample2, n):\n",
    "    # Gets the distribuation characterization\n",
    "    [x1, s1] = get_vitals(sample1)\n",
    "    [x2, s2] = get_vitals(sample2)\n",
    "    \n",
    "    # Gets the effect size\n",
    "    eff = np.absolute(x1 - x2)/np.sqrt(np.square(s1) + np.square(s2))\n",
    "    \n",
    "    # Gets the degree of freedom modifier\n",
    "    mod = (np.square(np.square(s1) + np.square(s2)) / (np.power(s1, 4) + np.power(s2, 4)))\n",
    "    \n",
    "    # Calculates the power\n",
    "    power = np.array([\n",
    "            scipy.stats.t.cdf(-scipy.stats.t.ppf(1-alpha/2, mod*(c-1))\n",
    "                                 + np.sqrt(c)*eff, mod*(c-1))\n",
    "            for c in n\n",
    "        ])\n",
    "\n",
    "    return power"
   ]
  },
  {
   "cell_type": "markdown",
   "metadata": {},
   "source": [
    "## 3.3 Simulation Parameters"
   ]
  },
  {
   "cell_type": "markdown",
   "metadata": {},
   "source": [
    "We'll simulate"
   ]
  },
  {
   "cell_type": "code",
   "execution_count": 12,
   "metadata": {
    "collapsed": false
   },
   "outputs": [],
   "source": [
    "def ttest_ind_simulate(mu_lim, sigma_lim, counts_lims):\n",
    "    \"\"\"...\"\"\"\n",
    "    # Gets the distribution paramters\n",
    "    mu1, mu2 = np.random.randint(*mu_lim, size=2)\n",
    "    sigma1, sigma2 = np.random.randint(*sigma_lim, size=2)\n",
    "    n = np.random.randint(*counts_lims)\n",
    "    \n",
    "    # Returns a pair of distributions\n",
    "    samples =  [mu1 + np.random.randn(n) * sigma1, mu2 + np.random.randn(n) * sigma2]\n",
    "    return (mu1, mu2, sigma1, sigma2, n), samples"
   ]
  },
  {
   "cell_type": "code",
   "execution_count": 13,
   "metadata": {
    "collapsed": false
   },
   "outputs": [],
   "source": [
    "distributions['ttest_ind'] = {'emp_parameters': {},\n",
    "                              'emp_test_fun': emp_ttest_ind,\n",
    "                              'other_sim_parameters': {},\n",
    "                              'sim_function': ttest_ind_simulate,\n",
    "                              'sim_parameters': [[0, 10], [5, 15], [60, 100]],\n",
    "                              'test_parameters': {},\n",
    "                              'trad_test_fun': calc_ttest_ind,                              \n",
    "                              }"
   ]
  },
  {
   "cell_type": "markdown",
   "metadata": {},
   "source": [
    "# 4. ANOVA"
   ]
  },
  {
   "cell_type": "markdown",
   "metadata": {},
   "source": [
    "The test statistic for an ANOVA is given by\n",
    "$\\begin{align*}\n",
    "F &= \\frac{\\textrm{explained variance}}{\\textrm{unexplained variance}}\\\\\n",
    "\n",
    "\\end{align*}\\tag{}$\n",
    "where $J$ is the number of groups, $N$ is the total number of observations, and the test statistic is drawn from an F-distribution with $J-1$ and $N-J$ degrees of freedom.\n"
   ]
  },
  {
   "cell_type": "markdown",
   "metadata": {},
   "source": [
    "## 4.1 Emperical Test"
   ]
  },
  {
   "cell_type": "markdown",
   "metadata": {},
   "source": [
    "For the emperical test, we can use the scipy function `scipy.stats.f_oneway`."
   ]
  },
  {
   "cell_type": "code",
   "execution_count": 14,
   "metadata": {
    "collapsed": true
   },
   "outputs": [],
   "source": [
    "def emp_anova(*samples):\n",
    "    return scipy.stats.f_oneway(*samples)[1]"
   ]
  },
  {
   "cell_type": "markdown",
   "metadata": {},
   "source": [
    "## 4.2 Effect Size"
   ]
  },
  {
   "cell_type": "code",
   "execution_count": 56,
   "metadata": {
    "collapsed": true
   },
   "outputs": [],
   "source": [
    "def calc_anova(*args):\n",
    "    args = [np.asarray(arg) for arg in args]\n",
    "    na = len(args)\n",
    "    alldata = np.concatenate(args)\n",
    "    bign = len(alldata)\n",
    "    sstot = scipy.stats.ss(alldata) - (scipy.stats.square_of_sums(alldata) / float(bign))\n",
    "    ssbn = 0\n",
    "    for a in args:\n",
    "        ssbn += scipy.stats.square_of_sums(a) / len(a)\n",
    "    ssbn -= (scipy.stats.square_of_sums(alldata)/float(bign))\n",
    "    sswn = sstot - ssbn\n",
    "    dfbn = na - 1\n",
    "    dfwn = bign - na\n",
    "    msb = ssbn/float(dfbn)\n",
    "    msw = sswn/float(dfwn)\n",
    "    f = msb/msw\n",
    "    \n",
    "    return f\n",
    "\n",
    "    \n",
    "#     return eff"
   ]
  },
  {
   "cell_type": "code",
   "execution_count": 54,
   "metadata": {
    "collapsed": true
   },
   "outputs": [],
   "source": [
    "def calc_anova_jwd(*samples):\n",
    "    \"\"\"...\"\"\"\n",
    "    # Converts the samples to numpy arrays becuase theyre more awesome than lists\n",
    "    samples = [np.asarray(sample) for sample in samples]\n",
    "    # Determines some general parameters for the test\n",
    "    all_obs = np.hstack(samples)\n",
    "    big_j = len(samples)\n",
    "    big_n = len(all_obs)\n",
    "    x_all, s_all = get_vitals(all_obs)\n",
    "    \n",
    "    # Calculates the effect size\n",
    "    eff = np.zeros((big_j,))\n",
    "    for idx, sample in enumerate(samples):\n",
    "        xj, sj = get_vitals(sample)\n",
    "        eff[idx] = (xj - x_all) / s_all\n",
    "    return eff, big_n, big_j"
   ]
  },
  {
   "cell_type": "code",
   "execution_count": 55,
   "metadata": {
    "collapsed": false
   },
   "outputs": [
    {
     "name": "stdout",
     "output_type": "stream",
     "text": [
      "[ 0.88818901  0.12872315  0.34065634]\n",
      "1.35756848889\n",
      "244.362328001\n",
      "120.144811267\n"
     ]
    }
   ],
   "source": [
    "eff, big_n, big_j = calc_anova_jwd(*samples)\n",
    "print np.square(eff)\n",
    "print np.square(eff).sum()\n",
    "print np.square(eff).sum()*big_n\n",
    "print np.square(eff).sum()*(big_n - big_j)/(big_j - 1)"
   ]
  },
  {
   "cell_type": "code",
   "execution_count": 16,
   "metadata": {
    "collapsed": false
   },
   "outputs": [
    {
     "data": {
      "text/plain": [
       "30"
      ]
     },
     "execution_count": 16,
     "metadata": {},
     "output_type": "execute_result"
    }
   ],
   "source": [
    "a = np.array([1, 2, 3, 4])\n",
    "np.square(a).sum()"
   ]
  },
  {
   "cell_type": "code",
   "execution_count": 19,
   "metadata": {
    "collapsed": false
   },
   "outputs": [],
   "source": [
    "params, samples = anova_simulation([0, 10], [3, 5], [60, 61], 3)"
   ]
  },
  {
   "cell_type": "code",
   "execution_count": 29,
   "metadata": {
    "collapsed": false
   },
   "outputs": [
    {
     "name": "stdout",
     "output_type": "stream",
     "text": [
      "73.1505761152\n",
      "1.27517132338\n",
      "73.1505761152\n"
     ]
    }
   ],
   "source": [
    "print calc_anova(*samples)\n",
    "\n",
    "print scipy.stats.f_oneway(*samples)[0]"
   ]
  },
  {
   "cell_type": "markdown",
   "metadata": {},
   "source": [
    " ## Simulations Parameters\n"
   ]
  },
  {
   "cell_type": "code",
   "execution_count": 18,
   "metadata": {
    "collapsed": true
   },
   "outputs": [],
   "source": [
    "def anova_simulation(mu_lim, sigma_lim, count_lims, num_pops):\n",
    "    # Defines the distribtuion parameters\n",
    "    mus = np.random.randint(*mu_lim, size=num_pops)\n",
    "    sigma = np.random.randint(*sigma_lim)\n",
    "    n = np.random.randint(*count_lims)\n",
    "    \n",
    "    # Draws samples which fit the population\n",
    "    samples = [mu + np.random.randn(n)*sigma for mu in mus]\n",
    "    \n",
    "    return (mus, sigma, n), samples"
   ]
  },
  {
   "cell_type": "code",
   "execution_count": 18,
   "metadata": {
    "collapsed": false
   },
   "outputs": [
    {
     "ename": "NameError",
     "evalue": "name 'calc_anova' is not defined",
     "output_type": "error",
     "traceback": [
      "\u001b[0;31m---------------------------------------------------------------------------\u001b[0m",
      "\u001b[0;31mNameError\u001b[0m                                 Traceback (most recent call last)",
      "\u001b[0;32m<ipython-input-18-37424889536f>\u001b[0m in \u001b[0;36m<module>\u001b[0;34m()\u001b[0m\n\u001b[1;32m      5\u001b[0m                            \u001b[0;34m'sim_parameters'\u001b[0m\u001b[0;34m:\u001b[0m \u001b[0;34m[\u001b[0m\u001b[0;34m[\u001b[0m\u001b[0;36m0\u001b[0m\u001b[0;34m,\u001b[0m \u001b[0;36m10\u001b[0m\u001b[0;34m]\u001b[0m\u001b[0;34m,\u001b[0m \u001b[0;34m[\u001b[0m\u001b[0;36m5\u001b[0m\u001b[0;34m,\u001b[0m \u001b[0;36m15\u001b[0m\u001b[0;34m]\u001b[0m\u001b[0;34m,\u001b[0m \u001b[0;34m[\u001b[0m\u001b[0;36m60\u001b[0m\u001b[0;34m,\u001b[0m \u001b[0;36m100\u001b[0m\u001b[0;34m]\u001b[0m\u001b[0;34m]\u001b[0m\u001b[0;34m,\u001b[0m\u001b[0;34m\u001b[0m\u001b[0m\n\u001b[1;32m      6\u001b[0m                            \u001b[0;34m'test_parameters'\u001b[0m\u001b[0;34m:\u001b[0m \u001b[0;34m{\u001b[0m\u001b[0;34m}\u001b[0m\u001b[0;34m,\u001b[0m\u001b[0;34m\u001b[0m\u001b[0m\n\u001b[0;32m----> 7\u001b[0;31m                            \u001b[0;34m'trad_test_fun'\u001b[0m\u001b[0;34m:\u001b[0m \u001b[0mcalc_anova\u001b[0m\u001b[0;34m\u001b[0m\u001b[0m\n\u001b[0m\u001b[1;32m      8\u001b[0m                            }\n",
      "\u001b[0;31mNameError\u001b[0m: name 'calc_anova' is not defined"
     ]
    }
   ],
   "source": [
    "distributions['anova'] = {'emp_parameters': {},\n",
    "                           'emp_test_fun': emp_anova,\n",
    "                           'other_sim_parameters': {'num_pops': 3},\n",
    "                           'sim_function': anova_simulation,\n",
    "                           'sim_parameters': [[0, 10], [5, 15], [60, 100]],\n",
    "                           'test_parameters': {},\n",
    "                           'trad_test_fun': calc_anova\n",
    "                           }"
   ]
  },
  {
   "cell_type": "markdown",
   "metadata": {},
   "source": [
    "## 4.3 Simple Linear Regression"
   ]
  },
  {
   "cell_type": "markdown",
   "metadata": {},
   "source": [
    "A linear regression is a model looking \n",
    "\n",
    "$y = mx + b + \\varepsilon \\tag{}$\n",
    "\n",
    "This is fit such that\n",
    "\n",
    "$m = \\frac{\\sum_{i=1}^{n}{y_{i}\\left (x_{i} - \\bar{x} \\right )}}{\\sum_{i}^{n}{\\left (x_{i} - \\bar{x} \\right )^{2}}} \\tag{}$\n",
    "\n",
    "and \n",
    "\n",
    "$b = \\bar{y} - \\widehat{m}(\\bar{x}) \\tag{}$\n",
    "\n",
    "Where m and b are selected to minimize the residuals. The residual term, $\\varepsilon_{i}$, is the distance between the fit value, $\\widehat{y}_{i}$ and the actual value, $y_{i}$:\n",
    "$\\varepsilon_{i} = \\widehat{y}_{i} - y_{i} \\tag{}$\n"
   ]
  },
  {
   "cell_type": "markdown",
   "metadata": {},
   "source": [
    "# 5. Effect Size"
   ]
  },
  {
   "cell_type": "markdown",
   "metadata": {},
   "source": [
    "The effect size is calcualted as \n",
    "$\\begin{align*} \n",
    "F &=\\frac{\\left (n-2 \\right )\\sum_{i=1}^{n}{\\left (\\widehat{y}_{i} - \\bar{y} \\right )^2}}{\\sum_{i=1}^{n}{\\left (y_{i} - \\widehat{y}_{i} \\right )^{2}}}\\\\\n",
    "&= (n-2)\\frac{\\sum_{i=1}^{n}{m^{2}\\left(x_{i} -\\bar{x} \\right )^{2}}}{\\sum_{i=1}^{n}{\\left(\\varepsilon  \\right)^{2}}}\n",
    "\\end{align*}\\tag{}$\n",
    "\n",
    "where the test statistic follows an F distribtution with 1 and $n-2$ degrees of freedom."
   ]
  },
  {
   "cell_type": "code",
   "execution_count": 19,
   "metadata": {
    "collapsed": false
   },
   "outputs": [],
   "source": [
    "def calc_regress(x, y, n):\n",
    "    # Summarizes teh regression inputs\n",
    "    xbar, xstd = get_vitals(x)\n",
    "    ybar, ystd = get_vitals(y)\n",
    "    \n",
    "    # Calculates the regression\n",
    "    m, b, r, _, _ = scipy.stats.linregress(x, y)\n",
    "    \n",
    "    \n",
    "    # Calculates the effect size\n",
    "    eff = (m * np.array([np.square(xi - xbar) for xi in x]).sum() /\n",
    "           np.array([np.square(yi - (b + m*xi)) for xi, yi in zip(*[x,y])]).sum())\n",
    "\n",
    "    # Calculate the power\n",
    "    test = (n - 2)*eff\n",
    "    known = scipy.stats.f.ppf(1-alpha/2, 1, n-2)\n",
    "    \n",
    "    power = scipy.stats.norm.cdf(-known + test, 0, 1)\n",
    "    \n",
    "    return power"
   ]
  },
  {
   "cell_type": "markdown",
   "metadata": {},
   "source": [
    "## 5.1 Emperical Test"
   ]
  },
  {
   "cell_type": "markdown",
   "metadata": {},
   "source": [
    "We can use linregress"
   ]
  },
  {
   "cell_type": "code",
   "execution_count": 20,
   "metadata": {
    "collapsed": true
   },
   "outputs": [],
   "source": [
    "def emp_regress(sample1, sample2):\n",
    "    return scipy.stats.linregress(sample1, sample2)[3]"
   ]
  },
  {
   "cell_type": "markdown",
   "metadata": {},
   "source": [
    "# 6. Simulation Model"
   ]
  },
  {
   "cell_type": "code",
   "execution_count": 19,
   "metadata": {
    "collapsed": true
   },
   "outputs": [],
   "source": [
    "def regress_simulate(mu_lim, sigma_lim, count_lims, b_lims):\n",
    "    # Calculates the distribution for the residuals\n",
    "    sigma = np.random.randint(*sigma_lim)\n",
    "    n = np.random.randint(*count_lims)\n",
    "    # Calculates the parameters for the line\n",
    "    m = np.random.randint(*mu_lim)\n",
    "    b = np.random.randint(*b_lims)\n",
    "    \n",
    "    x = np.arange(-n, n, 2)\n",
    "    y = m*x + b + np.random.randn(n)*sigma\n",
    "    \n",
    "    return (sigma, n, m, b), [x, y]"
   ]
  },
  {
   "cell_type": "code",
   "execution_count": 20,
   "metadata": {
    "collapsed": true
   },
   "outputs": [],
   "source": [
    "# distributions['regress'] = {'emp_parameters': {'draw_mode': 'matched'},\n",
    "#                             'emp_test_fun': emp_regress,\n",
    "#                             'other_sim_parameters': {'b_lims':[-2, 2]},\n",
    "#                             'sim_function': regress_simulate,\n",
    "#                             'sim_parameters': [[1, 5], [10, 100], [60, 100]],\n",
    "#                             'test_parameters': {},\n",
    "#                             'trad_test_fun': calc_regress,\n",
    "#                             }"
   ]
  },
  {
   "cell_type": "markdown",
   "metadata": {},
   "source": [
    "# 7. Pearson's R"
   ]
  },
  {
   "cell_type": "markdown",
   "metadata": {},
   "source": [
    "We test to see if pearson's correlation coeffecient is not 0."
   ]
  },
  {
   "cell_type": "markdown",
   "metadata": {},
   "source": [
    "## 7.1 Effect Size"
   ]
  },
  {
   "cell_type": "markdown",
   "metadata": {},
   "source": [
    "The test statstic follows a t distribution \n",
    "$t = \\frac{r_{xy}\\sqrt{n-2}}{\\sqrt{1 - r_{xy}^{2}}} \\tag{}$\n",
    "where $r_{xy}$ is the pearson correlation coeffecient between the two distribtuions, and $n$ is the number of samples in the two groups."
   ]
  },
  {
   "cell_type": "code",
   "execution_count": 21,
   "metadata": {
    "collapsed": false
   },
   "outputs": [],
   "source": [
    "def calc_pearson(sample1, sample2, n=[5], alpha=0.05):\n",
    "    r = scipy.stats.pearsonr(sample1, sample2)[0]\n",
    "    eff = (r)/np.sqrt(1-np.square(r))\n",
    "\n",
    "    power = np.array([\n",
    "                scipy.stats.t.cdf(-scipy.stats.t.ppf(1-alpha/2, c-2) + eff*np.sqrt(c-2), c-2)\n",
    "            for c in n])\n",
    "    \n",
    "    return power"
   ]
  },
  {
   "cell_type": "markdown",
   "metadata": {},
   "source": [
    "## 7.2 Emperical Test"
   ]
  },
  {
   "cell_type": "markdown",
   "metadata": {},
   "source": [
    "Scipy's `scipy.stats.pearsonr` can calculate the correlation coeffecient *and* a p value for the coeffecient. However, the notes suggest that the p value may not be accurate for smaller sample sizes, so we're going to try an initial test, and compare the dervived p-value, based on [1] with the scipy p-value."
   ]
  },
  {
   "cell_type": "code",
   "execution_count": 22,
   "metadata": {
    "collapsed": true
   },
   "outputs": [],
   "source": [
    "def emp_pearson(*samples):\n",
    "    return scipy.stats.pearsonr(*samples)[1]"
   ]
  },
  {
   "cell_type": "markdown",
   "metadata": {},
   "source": [
    "## 7.3 Simulation"
   ]
  },
  {
   "cell_type": "markdown",
   "metadata": {},
   "source": [
    "For the simulation, we can use the same distributions that were generated in `regress_simulate`."
   ]
  },
  {
   "cell_type": "code",
   "execution_count": 23,
   "metadata": {
    "collapsed": false
   },
   "outputs": [],
   "source": [
    "distributions['pearson'] = {'emp_parameters': {'draw_mode': 'matched'},\n",
    "                            'emp_test_fun': emp_pearson,\n",
    "                            'other_sim_parameters':{'b_lims':[-2, 2]},\n",
    "                            'sim_function': regress_simulate,\n",
    "                            'sim_parameters': [[1, 5], [10, 100], [60, 100]],\n",
    "                            'test_parameters': {},\n",
    "                            'trad_test_fun': calc_pearson,\n",
    "                          }"
   ]
  },
  {
   "cell_type": "markdown",
   "metadata": {},
   "source": [
    "# 8. Build simulations"
   ]
  },
  {
   "cell_type": "code",
   "execution_count": 24,
   "metadata": {
    "collapsed": false
   },
   "outputs": [
    {
     "name": "stdout",
     "output_type": "stream",
     "text": [
      "pearson\n",
      "ttest_ind\n",
      "ttest_1\n"
     ]
    }
   ],
   "source": [
    "import pandas as pd\n",
    "\n",
    "from skbio.stats.power import subsample_power\n",
    "\n",
    "for k, params in distributions.iteritems():\n",
    "    print k\n",
    "    params['pop_params'] = []\n",
    "    params['trad'] = []\n",
    "    params['empr'] = []\n",
    "    params['extr'] = []\n",
    "    for i in xrange(num_rounds):\n",
    "        # Calculates the samples\n",
    "        pop_params, samples = params['sim_function'](*params['sim_parameters'], **params['other_sim_parameters'])\n",
    "        # Calculates the traditional power\n",
    "        trad_power = params['trad_test_fun'](*samples, n=counts, **params['test_parameters'])\n",
    "        #  Calculates the emperical power\n",
    "        empr_power, empr_counts = subsample_power(lambda x: params['emp_test_fun'](*x, **params['test_parameters']),\n",
    "                                                  samples,\n",
    "                                                  min_counts=5,\n",
    "                                                  max_counts=55,\n",
    "                                                  counts_interval=5,\n",
    "                                                  num_runs=1,\n",
    "                                                  num_iter=100,\n",
    "                                                  **params['emp_parameters'])\n",
    "        extr_power = np.squeeze(extrapolate_f(counts, [empr_power, empr_counts], alpha))\n",
    "        # Updates the information\n",
    "        params['pop_params'].append(pop_params)\n",
    "        params['trad'].append(trad_power)\n",
    "        params['empr'].append(empr_power)\n",
    "        params['extr'].append(extr_power)\n",
    "\n",
    "dists = pd.DataFrame.from_dict(distributions, orient='index')"
   ]
  },
  {
   "cell_type": "code",
   "execution_count": 27,
   "metadata": {
    "collapsed": false
   },
   "outputs": [
    {
     "data": {
      "image/png": "[encoded data removed]",
      "text/plain": [
       "<matplotlib.figure.Figure at 0x10c55bb90>"
      ]
     },
     "metadata": {},
     "output_type": "display_data"
    }
   ],
   "source": [
    "import matplotlib.pyplot as plt\n",
    "%matplotlib inline\n",
    "edge = []\n",
    "\n",
    "fig = plt.figure()\n",
    "for idx, name in enumerate(dists.index.values):\n",
    "    ax = fig.add_subplot(2, 3, idx+1)\n",
    "    ax.plot(np.hstack(dists.loc[name, 'trad']),\n",
    "            np.hstack(dists.loc[name, 'empr']),\n",
    "            'r.')\n",
    "    ax.plot(np.arange(0, 1.1, 0.1), np.arange(0, 1.1, 0.1), 'k-')\n",
    "    ax.set_xlim([0, 1])\n",
    "    ax.set_ylim([0, 1])\n",
    "    ax.set_title(name.replace('_', ' '))\n",
    "    \n",
    "    if idx not in {0, 3}:\n",
    "        ax.set_yticklabels('')\n",
    "    else:\n",
    "        ax.set_yticklabels(ax.get_yticks())\n",
    "    if idx not in {0, 1, 2}:\n",
    "        ax.set_xticklabels('')\n",
    "    else:\n",
    "        ax.set_xticklabels(ax.get_xticks())\n",
    "    r2, p = scipy.stats.pearsonr(np.hstack(dists.loc[name, 'trad']),\n",
    "                                 np.hstack(dists.loc[name, 'empr']))\n",
    "    ax.text(0.95, 0.05, 'r$^2$ = %1.3f' % r2, ha='right')\n",
    "\n",
    "ax0 = fig.axes[0]\n",
    "axb = fig.axes[1]\n",
    "ax0.set_ylabel('Emperical', size=12)\n",
    "axb.set_xlabel('Traditional', size=12)\n",
    "fig = ax.figure\n",
    "fig.savefig('/Users/jwdebelius/Desktop/model_check.pdf')"
   ]
  },
  {
   "cell_type": "code",
   "execution_count": 90,
   "metadata": {
    "collapsed": false
   },
   "outputs": [
    {
     "data": {
      "text/plain": [
       "<matplotlib.text.Text at 0x11adced90>"
      ]
     },
     "execution_count": 90,
     "metadata": {},
     "output_type": "execute_result"
    },
    {
     "data": {
      "image/png": "[encoded data removed]",
      "text/plain": [
       "<matplotlib.figure.Figure at 0x11adbe4d0>"
      ]
     },
     "metadata": {},
     "output_type": "display_data"
    }
   ],
   "source": [
    "import matplotlib.pyplot as plt\n",
    "%matplotlib inline\n",
    "edge = []\n",
    "\n",
    "fig = plt.figure()\n",
    "for idx, name in enumerate(dists.index.values):\n",
    "    ax = fig.add_subplot(2, 3, idx+1)\n",
    "    ax.plot(np.hstack(dists.loc[name, 'trad']),\n",
    "            np.hstack(dists.loc[name, 'extr']),\n",
    "            'r.')\n",
    "    ax.plot(np.arange(0, 1.1, 0.1), np.arange(0, 1.1, 0.1), 'k-')\n",
    "    ax.set_xlim([0, 1])\n",
    "    ax.set_ylim([0, 1])\n",
    "    ax.set_title(name.replace('_', ' '))\n",
    "    \n",
    "    if idx not in {0, 3}:\n",
    "        ax.set_yticklabels('')\n",
    "    else:\n",
    "        ax.set_yticklabels(ax.get_yticks())\n",
    "    if idx not in {0, 1, 2}:\n",
    "        ax.set_xticklabels('')\n",
    "    else:\n",
    "        ax.set_xticklabels(ax.get_xticks())\n",
    "    r2, p = scipy.stats.pearsonr(np.hstack(dists.loc[name, 'trad'])[np.isnan(np.hstack(dists.loc[name, 'extr'])) == False],\n",
    "                                 np.hstack(dists.loc[name, 'extr'])[np.isnan(np.hstack(dists.loc[name, 'extr'])) == False])\n",
    "    ax.text(0.95, 0.05, 'r$^2$ = %1.3f' % r2, ha='right')\n",
    "\n",
    "ax0 = fig.axes[0]\n",
    "axb = fig.axes[1]\n",
    "ax0.set_ylabel('Extrapolated', size=12)\n",
    "axb.set_xlabel('Traditional', size=12)"
   ]
  },
  {
   "cell_type": "code",
   "execution_count": 64,
   "metadata": {
    "collapsed": false
   },
   "outputs": [
    {
     "data": {
      "text/plain": [
       "<matplotlib.text.Text at 0x10d7eca10>"
      ]
     },
     "execution_count": 64,
     "metadata": {},
     "output_type": "execute_result"
    },
    {
     "data": {
      "image/png": "[encoded data removed]",
      "text/plain": [
       "<matplotlib.figure.Figure at 0x10cf91310>"
      ]
     },
     "metadata": {},
     "output_type": "display_data"
    }
   ],
   "source": [
    "import matplotlib.pyplot as plt\n",
    "%matplotlib inline\n",
    "edge = []\n",
    "\n",
    "fig = plt.figure()\n",
    "for idx, name in enumerate(dists.index.values):\n",
    "    ax = fig.add_subplot(2, 3, idx+1)\n",
    "    ax.plot(np.hstack(dists.loc[name, 'empr']),\n",
    "            np.hstack(dists.loc[name, 'extr']),\n",
    "            'r.')\n",
    "    ax.plot(np.arange(0, 1.1, 0.1), np.arange(0, 1.1, 0.1), 'k-')\n",
    "    ax.set_xlim([0, 1])\n",
    "    ax.set_ylim([0, 1])\n",
    "    ax.set_title(name.replace('_', ' '))\n",
    "    \n",
    "    if idx not in {0, 3}:\n",
    "        ax.set_yticklabels('')\n",
    "    else:\n",
    "        ax.set_yticklabels(ax.get_yticks())\n",
    "    if idx not in {0, 1, 2}:\n",
    "        ax.set_xticklabels('')\n",
    "    else:\n",
    "        ax.set_xticklabels(ax.get_xticks())\n",
    "    r2, p = scipy.stats.pearsonr(np.hstack(dists.loc[name, 'empr'])[np.isnan(np.hstack(dists.loc[name, 'extr'])) == False],\n",
    "                                 np.hstack(dists.loc[name, 'extr'])[np.isnan(np.hstack(dists.loc[name, 'extr'])) == False])\n",
    "    ax.text(0.95, 0.05, 'r$^2$ = %1.3f' % r2, ha='right')\n",
    "\n",
    "ax0 = fig.axes[0]\n",
    "axb = fig.axes[1]\n",
    "ax0.set_ylabel('Extrapolated', size=12)\n",
    "axb.set_xlabel('Emperical', size=12)"
   ]
  },
  {
   "cell_type": "code",
   "execution_count": 78,
   "metadata": {
    "collapsed": false
   },
   "outputs": [
    {
     "data": {
      "text/plain": [
       "<matplotlib.text.Text at 0x115eb6c90>"
      ]
     },
     "execution_count": 78,
     "metadata": {},
     "output_type": "execute_result"
    },
    {
     "data": {
      "image/png": "[encoded data removed]",
      "text/plain": [
       "<matplotlib.figure.Figure at 0x115590590>"
      ]
     },
     "metadata": {},
     "output_type": "display_data"
    }
   ],
   "source": [
    "import matplotlib.pyplot as plt\n",
    "%matplotlib inline\n",
    "edge = []\n",
    "\n",
    "fig = plt.figure()\n",
    "for idx, name in enumerate(dists.index.values):\n",
    "    ax = fig.add_subplot(2, 3, idx+1)\n",
    "    ax.plot(np.hstack(dists.loc[name, 'trad']),\n",
    "            np.hstack(dists.loc[name, 'empr']),\n",
    "            'r.')\n",
    "    ax.plot(np.power(10., np.arange(-3, 1, 1)), np.power(10., np.arange(-3, 1, 1)), 'k-')\n",
    "    ax.set_xlim(0.0075, 1.25)\n",
    "    ax.set_ylim(0.0075, 1.25)\n",
    "    ax.set_title(name.replace('_', ' '))\n",
    "    ax.semilogx()\n",
    "    ax.semilogy()\n",
    "    \n",
    "    if idx not in {0, 3}:\n",
    "        ax.set_yticklabels('')\n",
    "    else:\n",
    "        ax.set_yticklabels(ax.get_yticks())\n",
    "    if idx not in {0, 1, 2}:\n",
    "        ax.set_xticklabels('')\n",
    "    else:\n",
    "        ax.set_xticklabels(ax.get_xticks())\n",
    "    r2, p = scipy.stats.pearsonr(np.hstack(dists.loc[name, 'trad']),\n",
    "                                 np.hstack(dists.loc[name, 'empr']))\n",
    "#     ax.text(0.95, 0.05, 'r$^2$ = %1.3f' % r2, ha='right')\n",
    "\n",
    "ax0 = fig.axes[0]\n",
    "axb = fig.axes[1]\n",
    "ax0.set_ylabel('Emperical', size=12)\n",
    "axb.set_xlabel('Traditional', size=12)"
   ]
  },
  {
   "cell_type": "code",
   "execution_count": 85,
   "metadata": {
    "collapsed": false
   },
   "outputs": [
    {
     "data": {
      "text/plain": [
       "<matplotlib.text.Text at 0x11a3a89d0>"
      ]
     },
     "execution_count": 85,
     "metadata": {},
     "output_type": "execute_result"
    },
    {
     "data": {
      "image/png": "[encoded data removed]",
      "text/plain": [
       "<matplotlib.figure.Figure at 0x119b671d0>"
      ]
     },
     "metadata": {},
     "output_type": "display_data"
    }
   ],
   "source": [
    "import matplotlib.pyplot as plt\n",
    "%matplotlib inline\n",
    "edge = []\n",
    "\n",
    "fig = plt.figure()\n",
    "for idx, name in enumerate(dists.index.values):\n",
    "    ax = fig.add_subplot(2, 3, idx+1)\n",
    "    ax.plot(np.hstack(dists.loc[name, 'trad']),\n",
    "            np.hstack(dists.loc[name, 'trad']) - np.hstack(dists.loc[name, 'empr']),\n",
    "            'r.')\n",
    "    ax.plot(np.arange(0, 1.1, 0.1), 0*np.arange(0, 1.1, 0.1), 'k-')\n",
    "    ax.set_xlim([0, 1])\n",
    "    ax.set_ylim([-0.25, 0.25])\n",
    "    ax.set_title(name.replace('_', ' '))\n",
    "    \n",
    "    if idx not in {0, 3}:\n",
    "        ax.set_yticklabels('')\n",
    "    else:\n",
    "        ax.set_yticklabels(ax.get_yticks())\n",
    "    if idx not in {0, 1, 2}:\n",
    "        ax.set_xticklabels('')\n",
    "    else:\n",
    "        ax.set_xticklabels(ax.get_xticks())\n",
    "    r2, p = scipy.stats.pearsonr(np.hstack(dists.loc[name, 'trad']),\n",
    "                                 np.hstack(dists.loc[name, 'empr']))\n",
    "#     ax.text(0.95, 0.05, 'r$^2$ = %1.3f' % r2, ha='right')\n",
    "\n",
    "ax0 = fig.axes[0]\n",
    "axb = fig.axes[1]\n",
    "ax0.set_ylabel('Difference', size=12)\n",
    "axb.set_xlabel('Traditional', size=12)"
   ]
  },
  {
   "cell_type": "code",
   "execution_count": 92,
   "metadata": {
    "collapsed": false
   },
   "outputs": [
    {
     "data": {
      "text/plain": [
       "<matplotlib.text.Text at 0x11b6cf910>"
      ]
     },
     "execution_count": 92,
     "metadata": {},
     "output_type": "execute_result"
    },
    {
     "data": {
      "image/png": "[encoded data removed]",
      "text/plain": [
       "<matplotlib.figure.Figure at 0x11b28a490>"
      ]
     },
     "metadata": {},
     "output_type": "display_data"
    }
   ],
   "source": [
    "import matplotlib.pyplot as plt\n",
    "%matplotlib inline\n",
    "edge = []\n",
    "\n",
    "fig = plt.figure()\n",
    "for idx, name in enumerate(dists.index.values):\n",
    "    ax = fig.add_subplot(2, 3, idx+1)\n",
    "    ax.plot(np.hstack(dists.loc[name, 'trad']),\n",
    "            (np.hstack(dists.loc[name, 'trad']) - np.hstack(dists.loc[name, 'empr']))/np.hstack(dists.loc[name, 'trad']),\n",
    "            'r.')\n",
    "    ax.plot(np.arange(0, 1.1, 0.1), 0*np.arange(0, 1.1, 0.1), 'k-')\n",
    "    ax.set_xlim([0, 1])\n",
    "#     ax.set_ylim([-0.25, 0.25])\n",
    "    ax.set_title(name.replace('_', ' '))\n",
    "    \n",
    "    if idx not in {0, 3}:\n",
    "        ax.set_yticklabels('')\n",
    "    else:\n",
    "        ax.set_yticklabels(ax.get_yticks())\n",
    "    if idx not in {0, 1, 2}:\n",
    "        ax.set_xticklabels('')\n",
    "    else:\n",
    "        ax.set_xticklabels(ax.get_xticks())\n",
    "    r2, p = scipy.stats.pearsonr(np.hstack(dists.loc[name, 'trad']),\n",
    "                                 np.hstack(dists.loc[name, 'empr']))\n",
    "#     ax.text(0.95, 0.05, 'r$^2$ = %1.3f' % r2, ha='right')\n",
    "\n",
    "ax0 = fig.axes[0]\n",
    "axb = fig.axes[1]\n",
    "ax0.set_ylabel('Difference', size=12)\n",
    "axb.set_xlabel('Traditional', size=12)"
   ]
  },
  {
   "cell_type": "code",
   "execution_count": null,
   "metadata": {
    "collapsed": true
   },
   "outputs": [],
   "source": []
  }
 ],
 "metadata": {
  "kernelspec": {
   "display_name": "Python 2",
   "language": "python",
   "name": "python2"
  },
  "language_info": {
   "codemirror_mode": {
    "name": "ipython",
    "version": 2
   },
   "file_extension": ".py",
   "mimetype": "text/x-python",
   "name": "python",
   "nbconvert_exporter": "python",
   "pygments_lexer": "ipython2",
   "version": "2.7.3"
  }
 },
 "nbformat": 4,
 "nbformat_minor": 0
}
